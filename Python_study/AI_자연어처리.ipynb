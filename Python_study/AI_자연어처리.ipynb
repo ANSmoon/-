{
 "cells": [
  {
   "cell_type": "code",
   "execution_count": 1,
   "id": "3da5e8f8-5e0e-4761-9e6d-609ede85fd70",
   "metadata": {},
   "outputs": [
    {
     "name": "stdout",
     "output_type": "stream",
     "text": [
      "Collecting git+https://github.com/ssut/py-hanspell.git\n",
      "  Cloning https://github.com/ssut/py-hanspell.git to c:\\users\\munbe\\appdata\\local\\temp\\pip-req-build-x6dik00h\n"
     ]
    },
    {
     "name": "stderr",
     "output_type": "stream",
     "text": [
      "  Running command git clone -q https://github.com/ssut/py-hanspell.git 'C:\\Users\\munbe\\AppData\\Local\\Temp\\pip-req-build-x6dik00h'\n",
      "  ERROR: Error [WinError 2] 지정된 파일을 찾을 수 없습니다 while executing command git clone -q https://github.com/ssut/py-hanspell.git 'C:\\Users\\munbe\\AppData\\Local\\Temp\\pip-req-build-x6dik00h'\n",
      "ERROR: Cannot find command 'git' - do you have 'git' installed and in your PATH?\n"
     ]
    }
   ],
   "source": [
    "!pip install git+https://github.com/ssut/py-hanspell.git"
   ]
  },
  {
   "cell_type": "code",
   "execution_count": 2,
   "id": "85d921b8-a968-4788-8739-6f03778c7ffc",
   "metadata": {},
   "outputs": [
    {
     "ename": "ModuleNotFoundError",
     "evalue": "No module named 'pykospacing'",
     "output_type": "error",
     "traceback": [
      "\u001b[1;31m---------------------------------------------------------------------------\u001b[0m",
      "\u001b[1;31mModuleNotFoundError\u001b[0m                       Traceback (most recent call last)",
      "Input \u001b[1;32mIn [2]\u001b[0m, in \u001b[0;36m<cell line: 1>\u001b[1;34m()\u001b[0m\n\u001b[1;32m----> 1\u001b[0m \u001b[38;5;28;01mfrom\u001b[39;00m \u001b[38;5;21;01mpykospacing\u001b[39;00m \u001b[38;5;28;01mimport\u001b[39;00m spacing\n\u001b[0;32m      3\u001b[0m new_sent \u001b[38;5;241m=\u001b[39m sent\u001b[38;5;241m.\u001b[39mreplace(\u001b[38;5;124m\"\u001b[39m\u001b[38;5;124m \u001b[39m\u001b[38;5;124m\"\u001b[39m, \u001b[38;5;124m'\u001b[39m\u001b[38;5;124m'\u001b[39m) \u001b[38;5;66;03m# 띄어쓰기가 없는 문장으로 만들기\u001b[39;00m\n\u001b[0;32m      4\u001b[0m \u001b[38;5;28mprint\u001b[39m(new_sent)\n",
      "\u001b[1;31mModuleNotFoundError\u001b[0m: No module named 'pykospacing'"
     ]
    }
   ],
   "source": [
    "from pykospacing import spacing\n",
    "\n",
    "new_sent = sent.replace(\" \", '') # 띄어쓰기가 없는 문장으로 만들기\n",
    "print(new_sent)"
   ]
  },
  {
   "cell_type": "code",
   "execution_count": 3,
   "id": "22b1ee9a-d19e-4867-ad4f-82b6280e3ab0",
   "metadata": {},
   "outputs": [
    {
     "name": "stderr",
     "output_type": "stream",
     "text": [
      "ERROR: Could not find a version that satisfies the requirement pykospacing (from versions: none)\n",
      "ERROR: No matching distribution found for pykospacing\n"
     ]
    }
   ],
   "source": [
    "!pip install pykospacing"
   ]
  },
  {
   "cell_type": "code",
   "execution_count": 4,
   "id": "c8a07313-9862-4aaa-8595-ad86d7250142",
   "metadata": {},
   "outputs": [
    {
     "name": "stdout",
     "output_type": "stream",
     "text": [
      "Requirement already satisfied: kss in c:\\users\\munbe\\anaconda3\\lib\\site-packages (3.7.1)\n",
      "Requirement already satisfied: regex in c:\\users\\munbe\\anaconda3\\lib\\site-packages (from kss) (2022.3.15)\n",
      "Requirement already satisfied: emoji==1.2.0 in c:\\users\\munbe\\anaconda3\\lib\\site-packages (from kss) (1.2.0)\n",
      "Requirement already satisfied: more-itertools in c:\\users\\munbe\\anaconda3\\lib\\site-packages (from kss) (9.0.0)\n"
     ]
    }
   ],
   "source": [
    "!pip install kss"
   ]
  },
  {
   "cell_type": "code",
   "execution_count": 5,
   "id": "cf5aa537-6a02-415b-aa8e-b3f7ae23959e",
   "metadata": {},
   "outputs": [
    {
     "name": "stderr",
     "output_type": "stream",
     "text": [
      "[Korean Sentence Splitter]: Initializing Pynori...\n"
     ]
    },
    {
     "name": "stdout",
     "output_type": "stream",
     "text": [
      "나는 너무 힘들다\n",
      "내가 사는 것이 힘든것이 아니다.\n",
      "나를 힘들게 하는 것은 추위이다.\n",
      "그러나 좋은 친구 한명만 있어도 힘이 될것 같다\n"
     ]
    }
   ],
   "source": [
    "import kss\n",
    "str2 = \"나는 너무 힘들다 내가 사는 것이 힘든것이 아니다.나를 힘들게 하는 것은 추위이다. 그러나 좋은 친구 한명만 있어도 힘이 될것 같다\"\n",
    "for str_result in kss.split_sentences(str2):\n",
    "    print(str_result)"
   ]
  },
  {
   "cell_type": "code",
   "execution_count": 6,
   "id": "c2072858-c486-4add-b6d5-f384e20009da",
   "metadata": {},
   "outputs": [
    {
     "name": "stdout",
     "output_type": "stream",
     "text": [
      "Requirement already satisfied: konlpy in c:\\users\\munbe\\anaconda3\\lib\\site-packages (0.6.0)\n",
      "Requirement already satisfied: JPype1>=0.7.0 in c:\\users\\munbe\\anaconda3\\lib\\site-packages (from konlpy) (1.4.1)\n",
      "Requirement already satisfied: lxml>=4.1.0 in c:\\users\\munbe\\anaconda3\\lib\\site-packages (from konlpy) (4.8.0)\n",
      "Requirement already satisfied: numpy>=1.6 in c:\\users\\munbe\\anaconda3\\lib\\site-packages (from konlpy) (1.21.5)\n",
      "Requirement already satisfied: packaging in c:\\users\\munbe\\anaconda3\\lib\\site-packages (from JPype1>=0.7.0->konlpy) (21.3)\n",
      "Requirement already satisfied: pyparsing!=3.0.5,>=2.0.2 in c:\\users\\munbe\\anaconda3\\lib\\site-packages (from packaging->JPype1>=0.7.0->konlpy) (3.0.4)\n"
     ]
    }
   ],
   "source": [
    "!pip install konlpy"
   ]
  },
  {
   "cell_type": "code",
   "execution_count": 7,
   "id": "8f271839-f66a-4576-84b3-7886217dfc1d",
   "metadata": {},
   "outputs": [],
   "source": [
    "from konlpy.tag import Okt\n"
   ]
  },
  {
   "cell_type": "code",
   "execution_count": 8,
   "id": "c0db210c-2249-4afc-8585-134b3043b67e",
   "metadata": {},
   "outputs": [
    {
     "name": "stdout",
     "output_type": "stream",
     "text": [
      "[[[0.0], [0.1], [0.2], [0.3]], [[0.1], [0.2], [0.3], [0.4]], [[0.2], [0.3], [0.4], [0.5]], [[0.3], [0.4], [0.5], [0.6]], [[0.4], [0.5], [0.6], [0.7]], [[0.5], [0.6], [0.7], [0.8]], [[0.6], [0.7], [0.8], [0.9]], [[0.7], [0.8], [0.9], [1.0]], [[0.8], [0.9], [1.0], [1.1]], [[0.9], [1.0], [1.1], [1.2]]] [0.4, 0.5, 0.6, 0.7, 0.8, 0.9, 1.0, 1.1, 1.2, 1.3]\n",
      "[[0. ]\n",
      " [0.1]\n",
      " [0.2]\n",
      " [0.3]] 0.4\n",
      "[[0.1]\n",
      " [0.2]\n",
      " [0.3]\n",
      " [0.4]] 0.5\n",
      "[[0.2]\n",
      " [0.3]\n",
      " [0.4]\n",
      " [0.5]] 0.6\n",
      "[[0.3]\n",
      " [0.4]\n",
      " [0.5]\n",
      " [0.6]] 0.7\n",
      "[[0.4]\n",
      " [0.5]\n",
      " [0.6]\n",
      " [0.7]] 0.8\n",
      "[[0.5]\n",
      " [0.6]\n",
      " [0.7]\n",
      " [0.8]] 0.9\n",
      "[[0.6]\n",
      " [0.7]\n",
      " [0.8]\n",
      " [0.9]] 1.0\n",
      "[[0.7]\n",
      " [0.8]\n",
      " [0.9]\n",
      " [1. ]] 1.1\n",
      "[[0.8]\n",
      " [0.9]\n",
      " [1. ]\n",
      " [1.1]] 1.2\n",
      "[[0.9]\n",
      " [1. ]\n",
      " [1.1]\n",
      " [1.2]] 1.3\n"
     ]
    }
   ],
   "source": [
    "import numpy as np\n",
    "import tensorflow as tf\n",
    "\n",
    "x=[]\n",
    "y=[]\n",
    "for i in range(10):\n",
    "  temp = []\n",
    "  for j in range(i,i+4):\n",
    "    temp.append(([j/10]))\n",
    "  x.append(temp)\n",
    "  y.append((i+4)/10)\n",
    "\n",
    "print(x, y)\n",
    "\n",
    "X = np.array(x)\n",
    "Y = np.array(y)\n",
    "\n",
    "for i in range(len(X)):\n",
    "  print(X[i], Y[i])"
   ]
  },
  {
   "cell_type": "code",
   "execution_count": 9,
   "id": "3b511966-e514-473c-b84d-ce05fe1fb52d",
   "metadata": {},
   "outputs": [
    {
     "name": "stdout",
     "output_type": "stream",
     "text": [
      "Model: \"sequential\"\n",
      "_________________________________________________________________\n",
      " Layer (type)                Output Shape              Param #   \n",
      "=================================================================\n",
      " simple_rnn_1 (SimpleRNN)    (None, 10)                120       \n",
      "                                                                 \n",
      " dense (Dense)               (None, 1)                 11        \n",
      "                                                                 \n",
      "=================================================================\n",
      "Total params: 131\n",
      "Trainable params: 131\n",
      "Non-trainable params: 0\n",
      "_________________________________________________________________\n"
     ]
    }
   ],
   "source": [
    "rnn1 = tf.keras.layers.SimpleRNN(units=1, activation='tanh', return_sequences=True) #units : 레이어의 뉴런 수\n",
    "\n",
    "model = tf.keras.Sequential([\n",
    "    tf.keras.layers.SimpleRNN(units=10, return_sequences=False, input_shape=[4,1]),\n",
    "    tf.keras.layers.Dense(1)\n",
    "])\n",
    "\n",
    "model.compile(optimizer='adam', loss='mse')\n",
    "model.summary()"
   ]
  },
  {
   "cell_type": "code",
   "execution_count": 10,
   "id": "d8ec9be9-f766-4cee-9968-e99550e9215f",
   "metadata": {},
   "outputs": [
    {
     "name": "stdout",
     "output_type": "stream",
     "text": [
      "1/1 [==============================] - 0s 169ms/step\n",
      "[[0.39934006]\n",
      " [0.5008952 ]\n",
      " [0.6005867 ]\n",
      " [0.6997266 ]\n",
      " [0.7992193 ]\n",
      " [0.8994035 ]\n",
      " [1.0001109 ]\n",
      " [1.1008123 ]\n",
      " [1.2007681 ]\n",
      " [1.2991538 ]]\n"
     ]
    }
   ],
   "source": [
    "model.fit(X,Y, epochs=5000, verbose=0)\n",
    "print(model.predict(X))"
   ]
  },
  {
   "cell_type": "code",
   "execution_count": 11,
   "id": "927bd6c0-f500-44be-b1df-c2c7094cded8",
   "metadata": {},
   "outputs": [
    {
     "name": "stdout",
     "output_type": "stream",
     "text": [
      "1/1 [==============================] - 0s 19ms/step\n",
      "[[2.832284]]\n",
      "1/1 [==============================] - 0s 18ms/step\n",
      "[[2.8356514]]\n"
     ]
    }
   ],
   "source": [
    "print(model.predict(np.array([[[101.1], [101.2], [101.3], [101.4]]])))\n",
    "print(model.predict(np.array([[[110.5], [110.6], [110.7], [110.8]]])))"
   ]
  },
  {
   "cell_type": "code",
   "execution_count": 12,
   "id": "906e7bcd-37c1-4b79-a55a-e3fbfc8f4449",
   "metadata": {},
   "outputs": [
    {
     "name": "stdout",
     "output_type": "stream",
     "text": [
      "나는 돈을 모아서 인생 드라마인 나의 아저씨 대본집을 샀다\n",
      "['나는', '돈을', '모아서', '인생', '드라마인', '나의', '아저씨', '대본집을', '샀다']\n"
     ]
    }
   ],
   "source": [
    "import numpy\n",
    "import tensorflow as tf\n",
    "from numpy import array\n",
    "from keras.preprocessing.text import Tokenizer, text_to_word_sequence\n",
    "from keras.models import Sequential\n",
    "from tensorflow.keras.preprocessing.sequence import pad_sequences\n",
    "\n",
    "\n",
    "text = '나는 돈을 모아서 인생 드라마인 나의 아저씨 대본집을 샀다'\n",
    "\n",
    "result = tf.keras.preprocessing.text.text_to_word_sequence(text)\n",
    "print(text)\n",
    "print(result)"
   ]
  },
  {
   "cell_type": "code",
   "execution_count": 13,
   "id": "83ef9a43-02b9-4ad1-83a1-e535e687cc86",
   "metadata": {},
   "outputs": [
    {
     "name": "stdout",
     "output_type": "stream",
     "text": [
      "1 :  OrderedDict([('우리가', 1), ('인공지능을', 1), ('공부하는', 1), ('것은', 2), ('인공지능', 4), ('모델을', 3), ('만드는', 2), ('것이다', 1), ('많은', 1), ('학습을', 2), ('거쳐야지', 1), ('만들', 1), ('수', 1), ('있다', 2), ('많이', 1), ('할', 1), ('수록', 1), ('모델의', 1), ('성능은', 1), ('좋아지고', 1), ('더', 1), ('좋은', 1), ('만들수', 1)])\n",
      "2 :  3\n",
      "3 :  defaultdict(<class 'int'>, {'우리가': 1, '모델을': 3, '인공지능을': 1, '만드는': 2, '인공지능': 3, '것이다': 1, '것은': 2, '공부하는': 1, '만들': 1, '있다': 2, '거쳐야지': 1, '많은': 1, '수': 1, '학습을': 2, '수록': 1, '좋은': 1, '좋아지고': 1, '모델의': 1, '더': 1, '성능은': 1, '만들수': 1, '할': 1, '많이': 1})\n",
      "4 :  {'인공지능': 1, '모델을': 2, '것은': 3, '만드는': 4, '학습을': 5, '있다': 6, '우리가': 7, '인공지능을': 8, '공부하는': 9, '것이다': 10, '많은': 11, '거쳐야지': 12, '만들': 13, '수': 14, '많이': 15, '할': 16, '수록': 17, '모델의': 18, '성능은': 19, '좋아지고': 20, '더': 21, '좋은': 22, '만들수': 23}\n"
     ]
    }
   ],
   "source": [
    "docs = ['우리가 인공지능을 공부하는 것은 인공지능 모델을 만드는 것이다',\n",
    "       '인공지능 모델을 만드는 것은 많은 학습을 거쳐야지 만들 수 있다.',\n",
    "       '학습을 많이 할 수록 인공지능 모델의 성능은 좋아지고 더 좋은 인공지능 모델을 만들수 있다.',\n",
    "       ]\n",
    " \n",
    "token = Tokenizer()             # 토큰화 함수 지정\n",
    "token.fit_on_texts(docs)       # 토큰화 함수에 문장 적용\n",
    " \n",
    "print('1 : ',token.word_counts) # 단어 갯수 출력\n",
    "print('2 : ', token.document_count) #document 갯수 출력\n",
    "print('3 : ', token.word_docs) #단어가 포함된 문장의 갯수 출력\n",
    "print('4 : ',  token.word_index) #단어별 인덱스"
   ]
  },
  {
   "cell_type": "code",
   "execution_count": 14,
   "id": "deef3e40-007a-4366-81dd-f981df95d1d8",
   "metadata": {},
   "outputs": [
    {
     "name": "stdout",
     "output_type": "stream",
     "text": [
      "1 :  {'너무': 1, '재밌네요': 2, '최고예요': 3, '참': 4, '잘': 5, '만든': 6, '영화예요': 7, '추천하고': 8, '싶은': 9, '영화입니다': 10, '한번': 11, '더': 12, '보고싶네요': 13, '글쎄요': 14, '별로예요': 15, '생각보다': 16, '지루하네요': 17, '연기가': 18, '어색해요': 19, '재미없어요': 20}\n",
      "2 :  [[1, 2], [3], [4, 5, 6, 7], [8, 9, 10], [11, 12, 13], [14], [15], [16, 17], [18, 19], [20]]\n",
      "3 :  [[ 0  0  1  2]\n",
      " [ 0  0  0  3]\n",
      " [ 4  5  6  7]\n",
      " [ 0  8  9 10]\n",
      " [ 0 11 12 13]\n",
      " [ 0  0  0 14]\n",
      " [ 0  0  0 15]\n",
      " [ 0  0 16 17]\n",
      " [ 0  0 18 19]\n",
      " [ 0  0  0 20]]\n",
      "1/1 [==============================] - 0s 144ms/step - loss: 0.6529 - accuracy: 0.9000\n",
      "\n",
      " Accuracy: 0.9000\n"
     ]
    }
   ],
   "source": [
    "from keras.layers import Dense,Flatten,Embedding\n",
    "\n",
    "docs = [\"너무 재밌네요\",\"최고예요\",\"참 잘 만든 영화예요\",\"추천하고 싶은 영화입니다\",\"한번 더 보고싶네요\",\n",
    "        \"글쎄요\",\"별로예요\",\"생각보다 지루하네요\",\"연기가 어색해요\",\"재미없어요\"]\n",
    "\n",
    "# 긍정 리뷰는 1, 부정 리뷰는 0으로 클래스를 지정합니다.\n",
    "classes = array([1,1,1,1,1,0,0,0,0,0])\n",
    "\n",
    "# 토큰화 \n",
    "token = Tokenizer()\n",
    "token.fit_on_texts(docs)\n",
    "print('1 : ',token.word_index)\n",
    "print('2 : ',token.texts_to_sequences(docs)) #토큰 인덱스를 이용하여 텍스트의 리스트 생성\n",
    "\n",
    "x = token.texts_to_sequences(docs)\n",
    "# 패딩, 서로 다른 길이의 데이터를 4로 맞추어 줍니다.\n",
    "padded_x =pad_sequences(x, 4)  \n",
    "print(\"3 : \", padded_x) #행렬의 행과 렬을 맞추기 위하여 4개의 원소로 표현\n",
    " \n",
    "#임베딩에 입력될 단어의 수를 지정합니다.\n",
    "word_size = len(token.word_index)+1\n",
    " \n",
    "#단어 임베딩을 포함하여 딥러닝 모델을 만들고 결과를 출력합니다.\n",
    "model = Sequential()\n",
    "model.add(Embedding(word_size, 10, input_length=4))\n",
    "model.add(Flatten())\n",
    "model.add(Dense(1, activation='sigmoid'))\n",
    "model.compile(optimizer='adam', loss='binary_crossentropy', metrics=['accuracy'])\n",
    "model.fit(padded_x, classes, epochs=20, verbose=0)\n",
    "print(\"\\n Accuracy: %.4f\" % (model.evaluate(padded_x, classes)[1]))"
   ]
  },
  {
   "cell_type": "code",
   "execution_count": 15,
   "id": "faa9fa5b-8802-48cc-9f74-77db2340a0b9",
   "metadata": {},
   "outputs": [
    {
     "name": "stdout",
     "output_type": "stream",
     "text": [
      "1 :  {'너무': 1, '재밌네요': 2, '최고예요': 3, '참': 4, '잘': 5, '만든': 6, '영화예요': 7, '추천하고': 8, '싶은': 9, '영화입니다': 10, '한번': 11, '더': 12, '보고싶네요': 13, '글쎄요': 14, '별로예요': 15, '생각보다': 16, '지루하네요': 17, '연기가': 18, '어색해요': 19, '재미없어요': 20}\n",
      "2 :  [[1, 2], [3], [4, 5, 6, 7], [8, 9, 10], [11, 12, 13], [14], [15], [16, 17], [18, 19], [20]]\n",
      "3 :  [[ 0  0  1  2]\n",
      " [ 0  0  0  3]\n",
      " [ 4  5  6  7]\n",
      " [ 0  8  9 10]\n",
      " [ 0 11 12 13]\n",
      " [ 0  0  0 14]\n",
      " [ 0  0  0 15]\n",
      " [ 0  0 16 17]\n",
      " [ 0  0 18 19]\n",
      " [ 0  0  0 20]]\n",
      "1/1 [==============================] - 0s 158ms/step - loss: 0.6379 - accuracy: 0.9000\n",
      "\n",
      " Accuracy: 0.9000\n"
     ]
    }
   ],
   "source": [
    "from keras.layers import Dense,Flatten,Embedding\n",
    "\n",
    "docs = [\"너무 재밌네요\",\"최고예요\",\"참 잘 만든 영화예요\",\"추천하고 싶은 영화입니다\",\"한번 더 보고싶네요\",\n",
    "        \"글쎄요\",\"별로예요\",\"생각보다 지루하네요\",\"연기가 어색해요\",\"재미없어요\"]\n",
    "\n",
    "# 긍정 리뷰는 1, 부정 리뷰는 0으로 클래스를 지정합니다.\n",
    "classes = array([1,1,1,1,1,0,0,0,0,0])\n",
    "\n",
    "# 토큰화 \n",
    "token = Tokenizer()\n",
    "token.fit_on_texts(docs)\n",
    "print('1 : ',token.word_index)\n",
    "print('2 : ',token.texts_to_sequences(docs)) #토큰 인덱스를 이용하여 텍스트의 리스트 생성\n",
    "\n",
    "x = token.texts_to_sequences(docs)\n",
    "# 패딩, 서로 다른 길이의 데이터를 4로 맞추어 줍니다.\n",
    "padded_x =pad_sequences(x, 4)  \n",
    "print(\"3 : \", padded_x) #행렬의 행과 렬을 맞추기 위하여 4개의 원소로 표현\n",
    " \n",
    "#임베딩에 입력될 단어의 수를 지정합니다.\n",
    "word_size = len(token.word_index)+1\n",
    " \n",
    "#단어 임베딩을 포함하여 딥러닝 모델을 만들고 결과를 출력합니다.\n",
    "model = Sequential()\n",
    "model.add(Embedding(word_size, 10, input_length=4))\n",
    "model.add(Flatten())\n",
    "model.add(Dense(1, activation='sigmoid'))\n",
    "model.compile(optimizer='adam', loss='binary_crossentropy', metrics=['accuracy'])\n",
    "model.fit(padded_x, classes, epochs=20, verbose=0)\n",
    "print(\"\\n Accuracy: %.4f\" % (model.evaluate(padded_x, classes)[1]))"
   ]
  },
  {
   "cell_type": "code",
   "execution_count": 19,
   "id": "00ab7a4a-8663-4081-b89d-648c2af39ee5",
   "metadata": {},
   "outputs": [
    {
     "name": "stdout",
     "output_type": "stream",
     "text": [
      "Category :  46\n",
      "Learnning Data :  8982\n",
      "Testing Data :  2246\n"
     ]
    },
    {
     "ename": "AttributeError",
     "evalue": "module 'keras.preprocessing.sequence' has no attribute 'pad_sequences'",
     "output_type": "error",
     "traceback": [
      "\u001b[1;31m---------------------------------------------------------------------------\u001b[0m",
      "\u001b[1;31mAttributeError\u001b[0m                            Traceback (most recent call last)",
      "Input \u001b[1;32mIn [19]\u001b[0m, in \u001b[0;36m<cell line: 18>\u001b[1;34m()\u001b[0m\n\u001b[0;32m     15\u001b[0m \u001b[38;5;28mprint\u001b[39m(\u001b[38;5;124m\"\u001b[39m\u001b[38;5;124mLearnning Data : \u001b[39m\u001b[38;5;124m\"\u001b[39m,\u001b[38;5;28mlen\u001b[39m(X_train))\n\u001b[0;32m     16\u001b[0m \u001b[38;5;28mprint\u001b[39m(\u001b[38;5;124m\"\u001b[39m\u001b[38;5;124mTesting Data : \u001b[39m\u001b[38;5;124m\"\u001b[39m,\u001b[38;5;28mlen\u001b[39m(X_test))\n\u001b[1;32m---> 18\u001b[0m x_train \u001b[38;5;241m=\u001b[39m \u001b[43msequence\u001b[49m\u001b[38;5;241;43m.\u001b[39;49m\u001b[43mpad_sequences\u001b[49m(X_train, maxlen\u001b[38;5;241m=\u001b[39m\u001b[38;5;241m100\u001b[39m) \u001b[38;5;66;03m#단어의 수를 100개로 결정\u001b[39;00m\n\u001b[0;32m     19\u001b[0m x_test \u001b[38;5;241m=\u001b[39m sequence\u001b[38;5;241m.\u001b[39mpad_sequences(X_test, maxlen\u001b[38;5;241m=\u001b[39m\u001b[38;5;241m100\u001b[39m)\n\u001b[0;32m     20\u001b[0m y_train \u001b[38;5;241m=\u001b[39m np_utils\u001b[38;5;241m.\u001b[39mto_categorical(Y_train) \u001b[38;5;66;03m#one-hot encoding\u001b[39;00m\n",
      "\u001b[1;31mAttributeError\u001b[0m: module 'keras.preprocessing.sequence' has no attribute 'pad_sequences'"
     ]
    }
   ],
   "source": [
    "import numpy\n",
    "import tensorflow as tf\n",
    "import matplotlib.pyplot as plt\n",
    "\n",
    "from keras.datasets import reuters #로이터 뉴스 셋 불러오기\n",
    "from keras.models import Sequential\n",
    "from keras.layers import Dense, LSTM, Embedding\n",
    "from keras.utils import np_utils\n",
    "from tensorflow.keras.preprocessing.sequence import pad_sequences\n",
    "\n",
    "(X_train, Y_train), (X_test, Y_test) = reuters.load_data(num_words=10000, test_split=0.2)\n",
    "\n",
    "category = numpy.max(Y_train) + 1\n",
    "print(\"Category : \",category,)\n",
    "print(\"Learnning Data : \",len(X_train))\n",
    "print(\"Testing Data : \",len(X_test))\n",
    "\n",
    "x_train = sequence.pad_sequences(X_train, maxlen=100) #단어의 수를 100개로 결정\n",
    "x_test = sequence.pad_sequences(X_test, maxlen=100)\n",
    "y_train = np_utils.to_categorical(Y_train) #one-hot encoding\n",
    "y_test = np_utils.to_categorical(Y_test)\n",
    "\n",
    "model = Sequential()\n",
    "model.add(Embedding(1000, 100)) #불러온 단어의 총 갯수, 기사당 단어의 수\n",
    "model.add(LSTM(100, activation='tanh')) #기사당 단어의 수\n",
    "model.add(Dense(46, activation='softmax'))\n",
    "\n",
    "model.compile(loss='categorical_crossentropy', optimizer='adam', metrics=['accuracy'])\n",
    "history = model.fit(x_train, y_train, batch_size=100, epochs=40, validation_data=(x_test, y_test), verbose=0)\n",
    "\n",
    "# 테스트 정확도 출력\n",
    "print(\"\\nAccuracy: %.4f\" % (model.evaluate(x_test, y_test)[1]))\n",
    "\n",
    "# 오차\n",
    "y_vloss = history.history['val_loss']\n",
    "y_loss = history.history['loss']\n",
    "\n",
    "x_len = numpy.arange(len(y_loss))\n",
    "plt.plot(x_len, y_vloss, marker='.', c=\"red\", label='Testset_loss')\n",
    "plt.plot(x_len, y_loss, marker='.', c=\"blue\", label='Trainset_loss')\n",
    "plt.legend(loc='upper right')\n",
    "plt.grid()\n",
    "plt.xlabel('epoch')\n",
    "plt.ylabel('loss')\n",
    "plt.show()\n",
    "\n"
   ]
  },
  {
   "cell_type": "code",
   "execution_count": null,
   "id": "70e34b41-a63b-4f2a-81a8-a5e34814c779",
   "metadata": {},
   "outputs": [],
   "source": []
  }
 ],
 "metadata": {
  "kernelspec": {
   "display_name": "Python 3 (ipykernel)",
   "language": "python",
   "name": "python3"
  },
  "language_info": {
   "codemirror_mode": {
    "name": "ipython",
    "version": 3
   },
   "file_extension": ".py",
   "mimetype": "text/x-python",
   "name": "python",
   "nbconvert_exporter": "python",
   "pygments_lexer": "ipython3",
   "version": "3.9.12"
  }
 },
 "nbformat": 4,
 "nbformat_minor": 5
}
