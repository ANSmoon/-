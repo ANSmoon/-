{
 "cells": [
  {
   "cell_type": "markdown",
   "id": "feafc491-73ba-4ff7-86d7-dba56c26eae6",
   "metadata": {},
   "source": [
    "### 딕셔너리\n",
    "- key, value 값이 있다.\n",
    "- key를 이용해 접근한다.\n",
    "- 2가지 형태로 존재해서 기존의 list와는 조금 다르다."
   ]
  },
  {
   "cell_type": "code",
   "execution_count": 1,
   "id": "76837c1b-0367-4272-96ce-f1a4c8a87f62",
   "metadata": {},
   "outputs": [],
   "source": [
    "x = {'a':10, 'b':20, 'c' : 30}"
   ]
  },
  {
   "cell_type": "code",
   "execution_count": 2,
   "id": "1c39067a-c1d6-4d17-9a51-2471f3867474",
   "metadata": {},
   "outputs": [
    {
     "data": {
      "text/plain": [
       "{'a': 10, 'b': 20, 'c': 30}"
      ]
     },
     "execution_count": 2,
     "metadata": {},
     "output_type": "execute_result"
    }
   ],
   "source": [
    "x"
   ]
  },
  {
   "cell_type": "markdown",
   "id": "63a6623a-b2c2-4db3-8c53-01ef721e35f2",
   "metadata": {},
   "source": [
    "- key, 값으로 나뉘고\n",
    "- key 값을 추가하는 방법이 있다.\n",
    "\n",
    "- setdefault : key와 값 쌍 추가\n",
    "- update : key의 값을 수정, key가 없으면 key - 값 쌍으로 추가"
   ]
  },
  {
   "cell_type": "code",
   "execution_count": 69,
   "id": "ad167b92-cf07-429b-8d66-3225faaa1dbf",
   "metadata": {},
   "outputs": [],
   "source": [
    "x = {'a' : 10, 'b' : 20, 'c' : 30}\n",
    "\n",
    "x.setdefault('d')"
   ]
  },
  {
   "cell_type": "code",
   "execution_count": 24,
   "id": "63dc20e6-a571-4958-a16e-7f3d5b7ed57b",
   "metadata": {},
   "outputs": [
    {
     "data": {
      "text/plain": [
       "{'a': 10, 'b': 20, 'c': 30, 'd': None}"
      ]
     },
     "execution_count": 24,
     "metadata": {},
     "output_type": "execute_result"
    }
   ],
   "source": [
    "x"
   ]
  },
  {
   "cell_type": "code",
   "execution_count": 25,
   "id": "be2be0d6-3c50-4cbf-90a3-54710d8f064d",
   "metadata": {},
   "outputs": [
    {
     "data": {
      "text/plain": [
       "50"
      ]
     },
     "execution_count": 25,
     "metadata": {},
     "output_type": "execute_result"
    }
   ],
   "source": [
    "x.setdefault('e',50)"
   ]
  },
  {
   "cell_type": "code",
   "execution_count": 26,
   "id": "39962e08-8def-4809-8bd5-2e442eaec95e",
   "metadata": {},
   "outputs": [
    {
     "data": {
      "text/plain": [
       "{'a': 10, 'b': 20, 'c': 30, 'd': None, 'e': 50}"
      ]
     },
     "execution_count": 26,
     "metadata": {},
     "output_type": "execute_result"
    }
   ],
   "source": [
    "x"
   ]
  },
  {
   "cell_type": "code",
   "execution_count": 27,
   "id": "99f45620-1b3b-4b8b-822d-3aca3fad91e9",
   "metadata": {},
   "outputs": [],
   "source": [
    "x.update(f=60)"
   ]
  },
  {
   "cell_type": "code",
   "execution_count": 28,
   "id": "59698316-99b5-43ac-aff2-9e9fb48b1ee7",
   "metadata": {},
   "outputs": [
    {
     "data": {
      "text/plain": [
       "{'a': 10, 'b': 20, 'c': 30, 'd': None, 'e': 50, 'f': 60}"
      ]
     },
     "execution_count": 28,
     "metadata": {},
     "output_type": "execute_result"
    }
   ],
   "source": [
    "x"
   ]
  },
  {
   "cell_type": "code",
   "execution_count": 29,
   "id": "f1fceab5-151f-4482-8cf4-b4002458fca2",
   "metadata": {},
   "outputs": [],
   "source": [
    "x.update(g = 70, h = 80)"
   ]
  },
  {
   "cell_type": "code",
   "execution_count": 30,
   "id": "c90709af-407b-4081-957f-063e6483ae32",
   "metadata": {},
   "outputs": [
    {
     "data": {
      "text/plain": [
       "{'a': 10, 'b': 20, 'c': 30, 'd': None, 'e': 50, 'f': 60, 'g': 70, 'h': 80}"
      ]
     },
     "execution_count": 30,
     "metadata": {},
     "output_type": "execute_result"
    }
   ],
   "source": [
    "x"
   ]
  },
  {
   "cell_type": "markdown",
   "id": "8e004c8f-5fc7-463f-a650-435b186b52f8",
   "metadata": {},
   "source": [
    "### 필수과제\n",
    "- 기존에 처음 시간에 배운 딕셔너리 만드는 방법(여러가지)을 찾아 update, setdefault를 하기\n",
    "- 앞 시간에 배운 내용 확인 후 정리\n",
    "- key 와 value를 삭제"
   ]
  },
  {
   "cell_type": "code",
   "execution_count": 31,
   "id": "a9c80b9f-c011-43ec-8e43-db3565ddda2c",
   "metadata": {},
   "outputs": [
    {
     "ename": "TypeError",
     "evalue": "pop expected at least 1 argument, got 0",
     "output_type": "error",
     "traceback": [
      "\u001b[1;31m---------------------------------------------------------------------------\u001b[0m",
      "\u001b[1;31mTypeError\u001b[0m                                 Traceback (most recent call last)",
      "Input \u001b[1;32mIn [31]\u001b[0m, in \u001b[0;36m<cell line: 1>\u001b[1;34m()\u001b[0m\n\u001b[1;32m----> 1\u001b[0m \u001b[43mx\u001b[49m\u001b[38;5;241;43m.\u001b[39;49m\u001b[43mpop\u001b[49m\u001b[43m(\u001b[49m\u001b[43m)\u001b[49m\n",
      "\u001b[1;31mTypeError\u001b[0m: pop expected at least 1 argument, got 0"
     ]
    }
   ],
   "source": [
    "x.pop() # dictionary 는 key를 이용해서 접근 하기 때문"
   ]
  },
  {
   "cell_type": "code",
   "execution_count": 32,
   "id": "73f1c821-21ca-48d4-a0b5-9311d31e915f",
   "metadata": {},
   "outputs": [
    {
     "data": {
      "text/plain": [
       "80"
      ]
     },
     "execution_count": 32,
     "metadata": {},
     "output_type": "execute_result"
    }
   ],
   "source": [
    "x.pop('h')"
   ]
  },
  {
   "cell_type": "code",
   "execution_count": 47,
   "id": "a9908b88-00a9-4c04-ae68-defe92629047",
   "metadata": {},
   "outputs": [
    {
     "data": {
      "text/plain": [
       "{}"
      ]
     },
     "execution_count": 47,
     "metadata": {},
     "output_type": "execute_result"
    }
   ],
   "source": [
    "x"
   ]
  },
  {
   "cell_type": "code",
   "execution_count": 34,
   "id": "8c1eaccb-dc0f-455f-8e50-382c53d7c8f6",
   "metadata": {},
   "outputs": [],
   "source": [
    "del x['a'] # key를 넣어야 삭제 가능"
   ]
  },
  {
   "cell_type": "code",
   "execution_count": 35,
   "id": "115d64f1-0b4b-4f37-8353-8dd4d3e845d3",
   "metadata": {},
   "outputs": [
    {
     "data": {
      "text/plain": [
       "{'b': 20, 'c': 30, 'd': None, 'e': 50, 'f': 60, 'g': 70}"
      ]
     },
     "execution_count": 35,
     "metadata": {},
     "output_type": "execute_result"
    }
   ],
   "source": [
    "x"
   ]
  },
  {
   "cell_type": "markdown",
   "id": "077620b2-5d25-4f5a-a1c6-39141da59de7",
   "metadata": {},
   "source": [
    "- 삭제된 key에 대해선 재참조시 오류 발생!"
   ]
  },
  {
   "cell_type": "code",
   "execution_count": 36,
   "id": "bf9ef2a3-b1f1-4204-8d1a-8c679849798b",
   "metadata": {},
   "outputs": [
    {
     "data": {
      "text/plain": [
       "{'b': 20, 'c': 30, 'd': None, 'e': 50, 'f': 60, 'g': 70}"
      ]
     },
     "execution_count": 36,
     "metadata": {},
     "output_type": "execute_result"
    }
   ],
   "source": [
    "x"
   ]
  },
  {
   "cell_type": "code",
   "execution_count": 37,
   "id": "cf16f93b-45ec-46bb-9680-2a055c4abcd5",
   "metadata": {},
   "outputs": [
    {
     "data": {
      "text/plain": [
       "('g', 70)"
      ]
     },
     "execution_count": 37,
     "metadata": {},
     "output_type": "execute_result"
    }
   ],
   "source": [
    "x.popitem()"
   ]
  },
  {
   "cell_type": "code",
   "execution_count": 38,
   "id": "4af602c1-3a3c-4f5a-bec0-5fd875f50cb0",
   "metadata": {},
   "outputs": [
    {
     "data": {
      "text/plain": [
       "{'b': 20, 'c': 30, 'd': None, 'e': 50, 'f': 60}"
      ]
     },
     "execution_count": 38,
     "metadata": {},
     "output_type": "execute_result"
    }
   ],
   "source": [
    "x"
   ]
  },
  {
   "cell_type": "code",
   "execution_count": 39,
   "id": "be67f587-b495-4ab6-9f28-4775c9f29af8",
   "metadata": {},
   "outputs": [
    {
     "data": {
      "text/plain": [
       "('f', 60)"
      ]
     },
     "execution_count": 39,
     "metadata": {},
     "output_type": "execute_result"
    }
   ],
   "source": [
    "x.popitem()"
   ]
  },
  {
   "cell_type": "code",
   "execution_count": 40,
   "id": "d3a0caca-8a60-4489-8311-6c4274f47e51",
   "metadata": {},
   "outputs": [
    {
     "data": {
      "text/plain": [
       "{'b': 20, 'c': 30, 'd': None, 'e': 50}"
      ]
     },
     "execution_count": 40,
     "metadata": {},
     "output_type": "execute_result"
    }
   ],
   "source": [
    "x"
   ]
  },
  {
   "cell_type": "code",
   "execution_count": 41,
   "id": "962ef9b3-bc72-4604-9855-65309203b2a9",
   "metadata": {},
   "outputs": [],
   "source": [
    "x.clear()"
   ]
  },
  {
   "cell_type": "code",
   "execution_count": 42,
   "id": "96b8d367-3e79-478f-a99f-4c427d62d394",
   "metadata": {},
   "outputs": [
    {
     "data": {
      "text/plain": [
       "{}"
      ]
     },
     "execution_count": 42,
     "metadata": {},
     "output_type": "execute_result"
    }
   ],
   "source": [
    "x"
   ]
  },
  {
   "cell_type": "markdown",
   "id": "3d271777-9df7-4a43-95e0-cf8e57210e6f",
   "metadata": {},
   "source": [
    "### key와 값을 쌍으로 가져오는 법\n",
    "- items : key 와 값을 쌍으로 가져오는 것\n",
    "- keys : key를 모두 가져오는 것\n",
    "- values : 값을 모두 가져오는 것"
   ]
  },
  {
   "cell_type": "code",
   "execution_count": 70,
   "id": "61789cf9-cb8a-48b5-a678-3bf545b6d296",
   "metadata": {},
   "outputs": [
    {
     "data": {
      "text/plain": [
       "dict_items([('a', 10), ('b', 20), ('c', 30), ('d', None)])"
      ]
     },
     "execution_count": 70,
     "metadata": {},
     "output_type": "execute_result"
    }
   ],
   "source": [
    "x.items()"
   ]
  },
  {
   "cell_type": "code",
   "execution_count": 71,
   "id": "1c15c6f6-60e3-4594-8b73-0fcc1ca66cab",
   "metadata": {},
   "outputs": [
    {
     "data": {
      "text/plain": [
       "dict_keys(['a', 'b', 'c', 'd'])"
      ]
     },
     "execution_count": 71,
     "metadata": {},
     "output_type": "execute_result"
    }
   ],
   "source": [
    "x.keys()"
   ]
  },
  {
   "cell_type": "code",
   "execution_count": 72,
   "id": "b607363c-7dd9-46dc-9d70-98dd8432fae4",
   "metadata": {},
   "outputs": [],
   "source": [
    "c = list(x.values())"
   ]
  },
  {
   "cell_type": "code",
   "execution_count": 73,
   "id": "98179d6e-f607-4820-8609-30c3a2733807",
   "metadata": {},
   "outputs": [
    {
     "data": {
      "text/plain": [
       "[10, 20, 30, None]"
      ]
     },
     "execution_count": 73,
     "metadata": {},
     "output_type": "execute_result"
    }
   ],
   "source": [
    "c"
   ]
  },
  {
   "cell_type": "markdown",
   "id": "469ab523-d4f7-46a9-95b1-fdb5b04c6001",
   "metadata": {},
   "source": [
    "### list와 tuple로 딕셔너리 만들기\n",
    "- dict.fromkeys"
   ]
  },
  {
   "cell_type": "code",
   "execution_count": 53,
   "id": "350e096a-1e74-4f23-a37c-97f05946f475",
   "metadata": {},
   "outputs": [],
   "source": [
    "keys = ['a', 'b', 'c','d','e']"
   ]
  },
  {
   "cell_type": "code",
   "execution_count": 54,
   "id": "20b1341a-f761-484e-9167-6189e312c7dd",
   "metadata": {},
   "outputs": [],
   "source": [
    "x = dict.fromkeys(keys)"
   ]
  },
  {
   "cell_type": "code",
   "execution_count": 55,
   "id": "e9184031-cd46-45e0-8cd1-4718d08b91f7",
   "metadata": {},
   "outputs": [
    {
     "data": {
      "text/plain": [
       "{'a': None, 'b': None, 'c': None, 'd': None, 'e': None}"
      ]
     },
     "execution_count": 55,
     "metadata": {},
     "output_type": "execute_result"
    }
   ],
   "source": [
    "x"
   ]
  },
  {
   "cell_type": "code",
   "execution_count": 74,
   "id": "0ccae90b-ab70-42aa-abb0-872cd4911867",
   "metadata": {},
   "outputs": [],
   "source": [
    "x = dict.fromkeys(keys,10)"
   ]
  },
  {
   "cell_type": "code",
   "execution_count": 75,
   "id": "22cfea6b-933a-415e-a86c-33797171696e",
   "metadata": {},
   "outputs": [
    {
     "data": {
      "text/plain": [
       "{'a': 10, 'b': 10, 'c': 10, 'd': 10, 'e': 10}"
      ]
     },
     "execution_count": 75,
     "metadata": {},
     "output_type": "execute_result"
    }
   ],
   "source": [
    "x"
   ]
  },
  {
   "cell_type": "markdown",
   "id": "8f09bda1-b7fe-4638-afc1-8ba77605e51b",
   "metadata": {},
   "source": [
    "### 반복문을 이용해서 딕셔너리 접근하기"
   ]
  },
  {
   "cell_type": "code",
   "execution_count": 77,
   "id": "a027d69b-e8da-48cb-9355-1fe5a8de6669",
   "metadata": {},
   "outputs": [],
   "source": [
    "x = {'a' : 10, 'b' : 20, 'c' : 30, 'd' : 40, 'f' : 50}"
   ]
  },
  {
   "cell_type": "markdown",
   "id": "7e0c65ee-bf0f-49bf-81e1-556bc18b77dd",
   "metadata": {},
   "source": [
    "### 반복문 for문을 이용해서\n",
    "- key와 values를 모두 출력하는 반복문 만들기"
   ]
  },
  {
   "cell_type": "code",
   "execution_count": 85,
   "id": "ce048cf3-b736-4c51-b2e9-7a5e19ee7cba",
   "metadata": {},
   "outputs": [
    {
     "name": "stdout",
     "output_type": "stream",
     "text": [
      "('a', 10)\n",
      "('b', 20)\n",
      "('c', 30)\n",
      "('d', 40)\n",
      "('f', 50)\n"
     ]
    }
   ],
   "source": [
    "for i in x.items():\n",
    "    print(i)"
   ]
  },
  {
   "cell_type": "code",
   "execution_count": 87,
   "id": "0f9a48ab-d154-45e1-bd37-03ec19651f94",
   "metadata": {},
   "outputs": [
    {
     "name": "stdout",
     "output_type": "stream",
     "text": [
      "a 10\n",
      "b 20\n",
      "c 30\n",
      "d 40\n",
      "f 50\n"
     ]
    }
   ],
   "source": [
    "for key, value in x.items():\n",
    "    print(key, value)"
   ]
  },
  {
   "cell_type": "code",
   "execution_count": 89,
   "id": "87d7c3d7-726b-476f-8f44-87caedffe634",
   "metadata": {},
   "outputs": [
    {
     "name": "stdout",
     "output_type": "stream",
     "text": [
      "('a', 10)\n",
      "('b', 20)\n",
      "('c', 30)\n",
      "('d', 40)\n",
      "('f', 50)\n"
     ]
    }
   ],
   "source": [
    "for i in range(len(x)):\n",
    "    print(list(x.items())[i])"
   ]
  },
  {
   "cell_type": "code",
   "execution_count": 92,
   "id": "2eea024b-6af3-46b8-8402-5df3001d7d1b",
   "metadata": {},
   "outputs": [
    {
     "name": "stdout",
     "output_type": "stream",
     "text": [
      "a 10\n",
      "b 20\n",
      "c 30\n"
     ]
    }
   ],
   "source": [
    "for key, value in {'a' : 10, 'b' : 20, 'c' : 30}.items():\n",
    "    print(key, value)"
   ]
  },
  {
   "cell_type": "code",
   "execution_count": 93,
   "id": "aa12831c-6440-4af1-a87a-47fd8ae607df",
   "metadata": {},
   "outputs": [
    {
     "name": "stdout",
     "output_type": "stream",
     "text": [
      "a\n",
      "b\n",
      "c\n",
      "d\n",
      "f\n"
     ]
    }
   ],
   "source": [
    "for key in x.keys():\n",
    "    print(key)"
   ]
  },
  {
   "cell_type": "code",
   "execution_count": 94,
   "id": "62f1ad9b-c5a9-4a25-8ada-c134438fe26d",
   "metadata": {},
   "outputs": [
    {
     "name": "stdout",
     "output_type": "stream",
     "text": [
      "10\n",
      "20\n",
      "30\n",
      "40\n",
      "50\n",
      "[10, 20, 30, 40, 50]\n"
     ]
    }
   ],
   "source": [
    "a = []\n",
    "for value in x.values():\n",
    "    print(value)\n",
    "    a.append(value)\n",
    "    \n",
    "print(a)"
   ]
  },
  {
   "cell_type": "markdown",
   "id": "ac154c3c-3b5d-471b-9e32-737efc408f85",
   "metadata": {},
   "source": [
    "### 딕셔너리 표현식\n",
    "- {key : 값 for key, 값 in 딕셔너리}\n",
    "- dict(key : 값 for key,값 in 딕셔너리)"
   ]
  },
  {
   "cell_type": "code",
   "execution_count": 95,
   "id": "868861ba-e731-4024-98e1-dedfcf2ae7ab",
   "metadata": {},
   "outputs": [
    {
     "name": "stdout",
     "output_type": "stream",
     "text": [
      "a 10\n",
      "b 20\n",
      "c 30\n"
     ]
    }
   ],
   "source": [
    "for key, value in {'a':10, 'b' : 20, 'c' : 30}.items():\n",
    "    print(key, value)"
   ]
  },
  {
   "cell_type": "markdown",
   "id": "badc31ef-e18e-4424-b61a-9f3a474055cd",
   "metadata": {},
   "source": [
    "- 조건문 추가하기"
   ]
  },
  {
   "cell_type": "code",
   "execution_count": 98,
   "id": "f68d5fca-67f1-47dc-a2ad-5ef7e35282a4",
   "metadata": {},
   "outputs": [
    {
     "name": "stdout",
     "output_type": "stream",
     "text": [
      "{'b': 20, 'c': 30, 'd': 40, 'f': 50}\n"
     ]
    }
   ],
   "source": [
    "for key, value in x.items():\n",
    "    if value == 10:\n",
    "        del x[key]\n",
    "print(x)"
   ]
  },
  {
   "cell_type": "code",
   "execution_count": 99,
   "id": "3aa432eb-7375-4fd6-af8c-0c10762ac150",
   "metadata": {},
   "outputs": [
    {
     "data": {
      "text/plain": [
       "{'b': 20, 'c': 30, 'd': 40, 'f': 50}"
      ]
     },
     "execution_count": 99,
     "metadata": {},
     "output_type": "execute_result"
    }
   ],
   "source": [
    "x"
   ]
  },
  {
   "cell_type": "markdown",
   "id": "903f5d4f-9f5a-4bde-93ce-f1b1cfe0161f",
   "metadata": {},
   "source": [
    "- 에러가 나는 이유는 딕셔너리 특성상 list와 다르게 반복문 도중 크기가 달라지면 에러문을 나타내고 실제 값은 삭제된다."
   ]
  },
  {
   "cell_type": "code",
   "execution_count": 100,
   "id": "2e6145b1-f4fa-4b29-9581-4c2a7da216ff",
   "metadata": {},
   "outputs": [],
   "source": [
    "x = {key : value for key, value in x.items() if value == 20} # 조건식도 이런식으로 표현 가능"
   ]
  },
  {
   "cell_type": "code",
   "execution_count": 102,
   "id": "6e09571c-c81f-417c-abe1-8d07032e7a97",
   "metadata": {},
   "outputs": [
    {
     "data": {
      "text/plain": [
       "{'b': 20}"
      ]
     },
     "execution_count": 102,
     "metadata": {},
     "output_type": "execute_result"
    }
   ],
   "source": [
    "x"
   ]
  },
  {
   "cell_type": "markdown",
   "id": "c53ccf03-0c12-4712-a308-1f0a90913d3b",
   "metadata": {},
   "source": [
    "- 문자열 형태소 분석을 진행하거나 할 때\n",
    "- 특정 문자가 어떤 값을 분해하거나 원하는 요구 조건을 들어주고 반환하는 값이 딕셔너리 형태일 수 있다."
   ]
  },
  {
   "cell_type": "markdown",
   "id": "3c32fa22-61c8-4c3d-9aac-58e7a6a6f0e9",
   "metadata": {},
   "source": [
    "## 세트 활용하기!\n",
    "- 집합\n",
    "- 교집합, 합집합, 차집합, 여집합 등등\n",
    "\n",
    "- 세트 {} 중괄호를 이용한다.\n",
    "- 세트 = {값1, 값2, 값3,...}\n",
    "- 세트의 가장 큰 특징이 있음"
   ]
  },
  {
   "cell_type": "code",
   "execution_count": 103,
   "id": "0da9870d-2445-47fd-b240-a9e04e15d641",
   "metadata": {},
   "outputs": [],
   "source": [
    "a = {1,2,3,4}"
   ]
  },
  {
   "cell_type": "code",
   "execution_count": 104,
   "id": "ac2106b2-40a9-46bc-955d-d8e8507bbdbe",
   "metadata": {},
   "outputs": [
    {
     "data": {
      "text/plain": [
       "{1, 2, 3, 4}"
      ]
     },
     "execution_count": 104,
     "metadata": {},
     "output_type": "execute_result"
    }
   ],
   "source": [
    "a"
   ]
  },
  {
   "cell_type": "code",
   "execution_count": 105,
   "id": "4737f34d-870c-4452-9f2f-d6231de8f119",
   "metadata": {},
   "outputs": [],
   "source": [
    "a= {1,2,3,4,4,4,4,4,4,4,4,5,5,5,5,5,5}"
   ]
  },
  {
   "cell_type": "code",
   "execution_count": 107,
   "id": "13bfa1dd-06ea-479c-83a0-9a0c63e34905",
   "metadata": {},
   "outputs": [
    {
     "data": {
      "text/plain": [
       "{1, 2, 3, 4, 5}"
      ]
     },
     "execution_count": 107,
     "metadata": {},
     "output_type": "execute_result"
    }
   ],
   "source": [
    "a # 중복제거"
   ]
  },
  {
   "cell_type": "code",
   "execution_count": 108,
   "id": "e092a857-c78a-491a-b078-e0115640332a",
   "metadata": {},
   "outputs": [],
   "source": [
    "b = {'a','a','a','c','b','d'}"
   ]
  },
  {
   "cell_type": "code",
   "execution_count": 109,
   "id": "1b334ae0-cfc6-49f1-b254-2b15d69be691",
   "metadata": {},
   "outputs": [
    {
     "data": {
      "text/plain": [
       "{'a', 'b', 'c', 'd'}"
      ]
     },
     "execution_count": 109,
     "metadata": {},
     "output_type": "execute_result"
    }
   ],
   "source": [
    "b"
   ]
  },
  {
   "cell_type": "markdown",
   "id": "42ee6b19-2a27-407c-b7be-cc63557b80bd",
   "metadata": {},
   "source": [
    "- 세트의 다양한 응용법은 list와 동일하다.\n",
    "- in 사용 가능"
   ]
  },
  {
   "cell_type": "code",
   "execution_count": 110,
   "id": "2d00f02c-6ba0-4d81-b808-55087b1f926f",
   "metadata": {},
   "outputs": [
    {
     "data": {
      "text/plain": [
       "{'a', 'b', 'c', 'd'}"
      ]
     },
     "execution_count": 110,
     "metadata": {},
     "output_type": "execute_result"
    }
   ],
   "source": [
    "# set은 반복가능한 객체를 넣게 되면 중복을 제거하게 된다.\n",
    "\n",
    "set('aaaaaabbbbbbbbbbccccccccdddddd')"
   ]
  },
  {
   "cell_type": "code",
   "execution_count": 114,
   "id": "e5565382-b332-42ea-8d4a-b742f255c2e5",
   "metadata": {},
   "outputs": [
    {
     "data": {
      "text/plain": [
       "{0, 1, 2, 3, 4, 5, 6, 7, 8, 9}"
      ]
     },
     "execution_count": 114,
     "metadata": {},
     "output_type": "execute_result"
    }
   ],
   "source": [
    "set(range(10))"
   ]
  },
  {
   "cell_type": "markdown",
   "id": "2f2d476d-6f43-4106-b8b2-1d4dfa05ddbe",
   "metadata": {},
   "source": [
    "### 집합연산\n",
    "- union 합집합 세트1|세트2\n",
    "\n",
    "### 필수과제\n",
    "- 교집합, 차집합, 그외에 set 집합관련된 다양한 연산자\n",
    "- 구글링 통해서 최소 5개이상 정리\n",
    "- code와 주석처리까지 정리 후 공유"
   ]
  },
  {
   "cell_type": "code",
   "execution_count": 118,
   "id": "52be7d38-90b5-4801-8bf8-6e8b99cb40ce",
   "metadata": {},
   "outputs": [],
   "source": [
    "a = {1,2,3,4}\n",
    "b = {3,4,5,6}"
   ]
  },
  {
   "cell_type": "code",
   "execution_count": 119,
   "id": "13c1ea52-dc0f-43e3-858f-13c6d3aea10b",
   "metadata": {},
   "outputs": [
    {
     "data": {
      "text/plain": [
       "{1, 2, 3, 4, 5, 6}"
      ]
     },
     "execution_count": 119,
     "metadata": {},
     "output_type": "execute_result"
    }
   ],
   "source": [
    "a|b"
   ]
  },
  {
   "cell_type": "code",
   "execution_count": 120,
   "id": "e07ca0e9-95ed-42d1-8492-c1600671caab",
   "metadata": {},
   "outputs": [
    {
     "data": {
      "text/plain": [
       "{1, 2, 3, 4, 5, 6}"
      ]
     },
     "execution_count": 120,
     "metadata": {},
     "output_type": "execute_result"
    }
   ],
   "source": [
    "set.union(a,b)"
   ]
  },
  {
   "cell_type": "markdown",
   "id": "6af702b9-663c-46a9-ab80-3859d777beb0",
   "metadata": {},
   "source": [
    "### 함수 사용하기\n",
    "- 기존에 파이썬에서 제공하는 함수 사용\n",
    "- 직접 생성 가능"
   ]
  },
  {
   "cell_type": "code",
   "execution_count": 121,
   "id": "4d130f5a-b27a-4e1e-b7d6-82c7f420045f",
   "metadata": {},
   "outputs": [
    {
     "name": "stdout",
     "output_type": "stream",
     "text": [
      "hello world!\n"
     ]
    }
   ],
   "source": [
    "print('hello world!')"
   ]
  },
  {
   "cell_type": "markdown",
   "id": "bad35a4d-3ebc-4518-a772-ea631537ff2a",
   "metadata": {},
   "source": [
    "- 함수 만들기\n",
    "\n",
    "- def 함수 이름():\n",
    "    - code\n",
    "- 들여쓰기 4칸"
   ]
  },
  {
   "cell_type": "code",
   "execution_count": 124,
   "id": "d8f04eea-c203-4902-93e3-e0899db0cb85",
   "metadata": {},
   "outputs": [],
   "source": [
    "def hello():\n",
    "    print(\"Hello World!\")\n",
    "    print(\"Good bye commander\")"
   ]
  },
  {
   "cell_type": "code",
   "execution_count": 125,
   "id": "96cd10f0-7a17-4390-a526-6f7502697901",
   "metadata": {},
   "outputs": [
    {
     "name": "stdout",
     "output_type": "stream",
     "text": [
      "Hello World!\n",
      "Good bye commander\n"
     ]
    }
   ],
   "source": [
    "hello()"
   ]
  },
  {
   "cell_type": "markdown",
   "id": "d784cb4b-a26c-4664-b886-e6b39cd338a4",
   "metadata": {},
   "source": [
    "- def 함수 안에 매개변수를 넣어야 한다.\n",
    "- def 함수이름(매개변수1, 매개변수2):\n",
    "    - code"
   ]
  },
  {
   "cell_type": "code",
   "execution_count": 129,
   "id": "9175e17d-06ce-452b-9429-64889e05bd7c",
   "metadata": {},
   "outputs": [],
   "source": [
    "def dfmean(a,b,c):\n",
    "    print((a+b+c)/3)"
   ]
  },
  {
   "cell_type": "code",
   "execution_count": 130,
   "id": "6dfea124-f472-4592-9239-132c5722e801",
   "metadata": {},
   "outputs": [
    {
     "name": "stdout",
     "output_type": "stream",
     "text": [
      "86.66666666666667\n"
     ]
    }
   ],
   "source": [
    "dfmean(50,10,200)"
   ]
  },
  {
   "cell_type": "markdown",
   "id": "5c7423c6-4a6f-47b9-a42c-35a42f37542e",
   "metadata": {},
   "source": [
    "- 함수의 결과를 반환하는 return을 적어야한다.\n",
    "- return은 함수 안에서 사용하면 함수 바깥으로 반환이 가능하고, 만약 return을 지정하지 않으면 none 값이 나온다.\n",
    "\n",
    "- def 함수이름(매개변수):\n",
    "    - return 반환값"
   ]
  },
  {
   "cell_type": "markdown",
   "id": "e3474169-19c5-4da8-99cd-e85c9af13c67",
   "metadata": {},
   "source": [
    "- 함수에서 값을 여러개 반환할 수 있다."
   ]
  },
  {
   "cell_type": "code",
   "execution_count": 132,
   "id": "98eb7898-8b4e-4ff5-91e4-b4b59005a42b",
   "metadata": {},
   "outputs": [],
   "source": [
    "def add_sum(a,b,c,d):\n",
    "    return a+b+c+d, a-b-c-d, a*b*c*d"
   ]
  },
  {
   "cell_type": "code",
   "execution_count": 133,
   "id": "ab0cae5d-88e9-4ca5-bb64-38a0851332f9",
   "metadata": {},
   "outputs": [
    {
     "data": {
      "text/plain": [
       "(10, -8, 24)"
      ]
     },
     "execution_count": 133,
     "metadata": {},
     "output_type": "execute_result"
    }
   ],
   "source": [
    "add_sum(1,2,3,4)"
   ]
  },
  {
   "cell_type": "markdown",
   "id": "3996cc7d-9f3c-4477-a84a-25b8ee046dde",
   "metadata": {},
   "source": [
    "- 조건식을 추가할 수 있음"
   ]
  },
  {
   "cell_type": "code",
   "execution_count": 139,
   "id": "6c118db8-101b-42e4-9c1d-b01149433f63",
   "metadata": {},
   "outputs": [],
   "source": [
    "def add_sum(a):\n",
    "    if a > 0:\n",
    "        return a\n",
    "    else:\n",
    "        print(\"Too low\")"
   ]
  },
  {
   "cell_type": "code",
   "execution_count": 140,
   "id": "edc7bd87-8cb5-4e56-ab60-78e89b5d94b5",
   "metadata": {},
   "outputs": [
    {
     "data": {
      "text/plain": [
       "10"
      ]
     },
     "execution_count": 140,
     "metadata": {},
     "output_type": "execute_result"
    }
   ],
   "source": [
    "add_sum(10)"
   ]
  },
  {
   "cell_type": "code",
   "execution_count": 141,
   "id": "2d79277f-4e78-4852-a5dc-66afd6a2898b",
   "metadata": {},
   "outputs": [
    {
     "name": "stdout",
     "output_type": "stream",
     "text": [
      "Too low\n"
     ]
    }
   ],
   "source": [
    "add_sum(0)"
   ]
  },
  {
   "cell_type": "code",
   "execution_count": 142,
   "id": "cc727b28-ba68-489c-8aed-b15466b99b6d",
   "metadata": {},
   "outputs": [
    {
     "name": "stdout",
     "output_type": "stream",
     "text": [
      "Too low\n"
     ]
    }
   ],
   "source": [
    "add_sum(-10)"
   ]
  },
  {
   "cell_type": "code",
   "execution_count": 148,
   "id": "dbe4d863-9f40-4ab3-b152-1b6cbbb4fe56",
   "metadata": {},
   "outputs": [],
   "source": [
    "def roof():\n",
    "    a = int(input())\n",
    "    for i in range(a):\n",
    "        print(i)"
   ]
  },
  {
   "cell_type": "code",
   "execution_count": 149,
   "id": "6e38ad22-a09b-4dc4-bcf7-8bac01925878",
   "metadata": {},
   "outputs": [
    {
     "name": "stdin",
     "output_type": "stream",
     "text": [
      " 10\n"
     ]
    },
    {
     "name": "stdout",
     "output_type": "stream",
     "text": [
      "0\n",
      "1\n",
      "2\n",
      "3\n",
      "4\n",
      "5\n",
      "6\n",
      "7\n",
      "8\n",
      "9\n"
     ]
    }
   ],
   "source": [
    "roof()"
   ]
  },
  {
   "cell_type": "markdown",
   "id": "d972ec47-bfeb-40d0-b6e7-aed1f969dc57",
   "metadata": {},
   "source": [
    "### 필수 코테 과제 문제 제출 예정\n",
    "- 기존에 배웠던 과정을 기반으로 문제 제출 예정\n",
    "- 코테데이 외에 추가 과제\n",
    "- 함수 배운 내용을 가지고 문제 출제 예정"
   ]
  },
  {
   "cell_type": "markdown",
   "id": "976e6fc6-7e94-4332-9682-27ada9a69c1c",
   "metadata": {},
   "source": [
    "중간에 빠진 내용 추가하기"
   ]
  },
  {
   "cell_type": "code",
   "execution_count": 1,
   "id": "817b8db6-5b2e-4d59-9152-fe3aab6e9113",
   "metadata": {},
   "outputs": [
    {
     "data": {
      "text/plain": [
       "array([1, 2, 3])"
      ]
     },
     "execution_count": 1,
     "metadata": {},
     "output_type": "execute_result"
    }
   ],
   "source": [
    "import numpy as np\n",
    "a = np.array([1,2,3])\n",
    "a"
   ]
  },
  {
   "cell_type": "code",
   "execution_count": null,
   "id": "e8ca2e30-3a82-43ed-a3d7-90258db4a194",
   "metadata": {},
   "outputs": [],
   "source": []
  }
 ],
 "metadata": {
  "kernelspec": {
   "display_name": "Python 3 (ipykernel)",
   "language": "python",
   "name": "python3"
  },
  "language_info": {
   "codemirror_mode": {
    "name": "ipython",
    "version": 3
   },
   "file_extension": ".py",
   "mimetype": "text/x-python",
   "name": "python",
   "nbconvert_exporter": "python",
   "pygments_lexer": "ipython3",
   "version": "3.9.12"
  }
 },
 "nbformat": 4,
 "nbformat_minor": 5
}
