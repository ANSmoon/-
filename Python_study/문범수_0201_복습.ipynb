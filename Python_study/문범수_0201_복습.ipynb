{
 "cells": [
  {
   "cell_type": "markdown",
   "id": "f666e7e5-ed29-48fb-9d26-4e5f350e0fb7",
   "metadata": {},
   "source": [
    "### while 반복문"
   ]
  },
  {
   "cell_type": "code",
   "execution_count": 1,
   "id": "fbc3a9c0-e9bb-4025-b783-2ba94e2df38a",
   "metadata": {},
   "outputs": [
    {
     "name": "stdout",
     "output_type": "stream",
     "text": [
      "hello, world!\n",
      "hello, world!\n",
      "hello, world!\n",
      "hello, world!\n",
      "hello, world!\n",
      "hello, world!\n",
      "hello, world!\n",
      "hello, world!\n",
      "hello, world!\n",
      "hello, world!\n"
     ]
    }
   ],
   "source": [
    "i = 0\n",
    "while i < 10:\n",
    "    i += 1\n",
    "    print(\"hello, world!\")"
   ]
  },
  {
   "cell_type": "code",
   "execution_count": 2,
   "id": "45b18039-4cfd-4964-8a31-7c3b249d9c8e",
   "metadata": {},
   "outputs": [
    {
     "name": "stdout",
     "output_type": "stream",
     "text": [
      "Hello, world! 9\n",
      "Hello, world! 8\n",
      "Hello, world! 7\n",
      "Hello, world! 6\n",
      "Hello, world! 5\n",
      "Hello, world! 4\n",
      "Hello, world! 3\n",
      "Hello, world! 2\n",
      "Hello, world! 1\n",
      "Hello, world! 0\n"
     ]
    }
   ],
   "source": [
    "i = 10\n",
    "while i > 0:\n",
    "    i -= 1\n",
    "    print(\"Hello, world!\",i)"
   ]
  },
  {
   "cell_type": "markdown",
   "id": "c45b4fdb-27be-44ca-a314-85057a6aad91",
   "metadata": {},
   "source": [
    "### 주사위 게임\n",
    "- 랜덤한 수가 나왔을 시 어떤 특정 수가 나오면 while문이 종료되는 것"
   ]
  },
  {
   "cell_type": "code",
   "execution_count": 5,
   "id": "39b5bd1d-940e-44e1-9e62-92fea84fee8e",
   "metadata": {},
   "outputs": [
    {
     "name": "stdout",
     "output_type": "stream",
     "text": [
      "6\n",
      "2\n",
      "6\n",
      "7\n",
      "1\n",
      "6\n",
      "5\n"
     ]
    }
   ],
   "source": [
    "import random # module 생성\n",
    "\n",
    "i = 0\n",
    "\n",
    "while i != 5:\n",
    "    i = random.randint(1, 10)\n",
    "    print(i)"
   ]
  },
  {
   "cell_type": "markdown",
   "id": "82ed46e4-ba2d-4a53-8e12-2c6899e05da9",
   "metadata": {},
   "source": [
    "## break, continue 반복문 제어하기!\n",
    "\n",
    "- break : 반복문 제어, 흐름 중단\n",
    "- continue : 반복문 제어 흐름은 유지 / code 실행만 건너뜀\n",
    "- 조건내 추가 조정점을 만든다"
   ]
  },
  {
   "cell_type": "code",
   "execution_count": 6,
   "id": "1fdffc07-b190-4d69-9ca9-9fd4489dcc4b",
   "metadata": {},
   "outputs": [
    {
     "name": "stdout",
     "output_type": "stream",
     "text": [
      "0\n",
      "1\n",
      "2\n",
      "3\n",
      "4\n",
      "5\n",
      "6\n"
     ]
    }
   ],
   "source": [
    "i = 0 \n",
    "while True:\n",
    "    print(i)\n",
    "    i += 1\n",
    "    if i == 7:\n",
    "        break"
   ]
  },
  {
   "cell_type": "markdown",
   "id": "eb2ba612-39fe-4473-9f87-25f9683bae0c",
   "metadata": {},
   "source": [
    "### for 반복문을 이용해 i가 30일때 중단"
   ]
  },
  {
   "cell_type": "code",
   "execution_count": 12,
   "id": "bc319dbf-bf5d-45fa-b813-aa3adce66e39",
   "metadata": {},
   "outputs": [
    {
     "name": "stdout",
     "output_type": "stream",
     "text": [
      "0\n",
      "1\n",
      "2\n",
      "3\n",
      "4\n",
      "5\n",
      "6\n",
      "7\n",
      "8\n",
      "9\n",
      "10\n",
      "11\n",
      "12\n",
      "13\n",
      "14\n",
      "15\n",
      "16\n",
      "17\n",
      "18\n",
      "19\n",
      "20\n",
      "21\n",
      "22\n",
      "23\n",
      "24\n",
      "25\n",
      "26\n",
      "27\n",
      "28\n",
      "29\n",
      "30\n"
     ]
    }
   ],
   "source": [
    "for i in range(100):\n",
    "    print(i)\n",
    "    if i == 30:\n",
    "        break"
   ]
  },
  {
   "cell_type": "code",
   "execution_count": 13,
   "id": "4ed1a9d1-3d10-4479-9a97-7a5a2b7ff7ca",
   "metadata": {},
   "outputs": [
    {
     "name": "stdout",
     "output_type": "stream",
     "text": [
      "30\n"
     ]
    }
   ],
   "source": [
    "print(i)"
   ]
  },
  {
   "cell_type": "markdown",
   "id": "a37a8919-734a-4359-ac08-5f59915abd79",
   "metadata": {},
   "source": [
    "- continue"
   ]
  },
  {
   "cell_type": "code",
   "execution_count": 17,
   "id": "48fd2dcd-cbb3-449e-969b-1bf1b03dc1d6",
   "metadata": {},
   "outputs": [
    {
     "name": "stdout",
     "output_type": "stream",
     "text": [
      "1\n",
      "3\n",
      "5\n",
      "7\n",
      "9\n",
      "11\n",
      "13\n",
      "15\n",
      "17\n",
      "19\n",
      "21\n",
      "23\n",
      "25\n",
      "27\n",
      "29\n",
      "31\n",
      "33\n",
      "35\n",
      "37\n",
      "39\n",
      "41\n",
      "43\n",
      "45\n",
      "47\n",
      "49\n",
      "51\n",
      "53\n",
      "55\n",
      "57\n",
      "59\n",
      "61\n",
      "63\n",
      "65\n",
      "67\n",
      "69\n",
      "71\n",
      "73\n",
      "75\n",
      "77\n",
      "79\n",
      "81\n",
      "83\n",
      "85\n",
      "87\n",
      "89\n",
      "91\n",
      "93\n",
      "95\n",
      "97\n",
      "99\n"
     ]
    }
   ],
   "source": [
    "#홀수만 출력시키기(1 ~ 100)\n",
    "i = 0\n",
    "while i < 100:\n",
    "    i += 1\n",
    "    if i % 2 == 0:\n",
    "        continue #전처리에 중요한 제어요소\n",
    "    print(i)"
   ]
  },
  {
   "cell_type": "code",
   "execution_count": 19,
   "id": "f458a750-cf82-43f0-801d-ce83bd03629c",
   "metadata": {},
   "outputs": [
    {
     "name": "stdout",
     "output_type": "stream",
     "text": [
      "2\n",
      "4\n",
      "6\n",
      "8\n",
      "10\n",
      "12\n",
      "14\n",
      "16\n",
      "18\n",
      "20\n",
      "22\n",
      "24\n",
      "26\n",
      "28\n",
      "30\n",
      "32\n",
      "34\n",
      "36\n",
      "38\n",
      "40\n",
      "42\n",
      "44\n",
      "46\n",
      "48\n",
      "50\n",
      "52\n",
      "54\n",
      "56\n",
      "58\n",
      "60\n",
      "62\n",
      "64\n",
      "66\n",
      "68\n",
      "70\n",
      "72\n",
      "74\n",
      "76\n",
      "78\n",
      "80\n",
      "82\n",
      "84\n",
      "86\n",
      "88\n",
      "90\n",
      "92\n",
      "94\n",
      "96\n",
      "98\n"
     ]
    }
   ],
   "source": [
    "for i in range(1, 100):\n",
    "    if i % 2 == 1:\n",
    "        continue\n",
    "    print(i)"
   ]
  },
  {
   "cell_type": "markdown",
   "id": "accc0bfc-d440-4f57-afef-39d578b14dd1",
   "metadata": {},
   "source": [
    "### while문을 이용해 0 ~ 123 중 끝이 3으로 끝나는 숫자만 출력!"
   ]
  },
  {
   "cell_type": "code",
   "execution_count": 25,
   "id": "6b658bf0-5bd0-4d7f-ab4d-3f44e3e3a516",
   "metadata": {},
   "outputs": [
    {
     "name": "stdout",
     "output_type": "stream",
     "text": [
      "3\n",
      "13\n",
      "23\n",
      "33\n",
      "43\n",
      "53\n",
      "63\n",
      "73\n",
      "83\n",
      "93\n",
      "103\n",
      "113\n",
      "123\n"
     ]
    }
   ],
   "source": [
    "i = 0\n",
    "while i < 124:\n",
    "    if i % 10 == 3:\n",
    "        print(i)\n",
    "    i += 1"
   ]
  },
  {
   "cell_type": "code",
   "execution_count": null,
   "id": "55e2fbc7-afd8-40b8-b7ce-9914d255b4eb",
   "metadata": {},
   "outputs": [],
   "source": []
  }
 ],
 "metadata": {
  "kernelspec": {
   "display_name": "Python 3 (ipykernel)",
   "language": "python",
   "name": "python3"
  },
  "language_info": {
   "codemirror_mode": {
    "name": "ipython",
    "version": 3
   },
   "file_extension": ".py",
   "mimetype": "text/x-python",
   "name": "python",
   "nbconvert_exporter": "python",
   "pygments_lexer": "ipython3",
   "version": "3.9.12"
  }
 },
 "nbformat": 4,
 "nbformat_minor": 5
}
