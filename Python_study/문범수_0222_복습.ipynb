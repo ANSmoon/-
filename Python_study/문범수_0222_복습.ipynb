{
 "cells": [
  {
   "cell_type": "markdown",
   "id": "99a83eb9-486c-4b05-9070-7a12bcaba40e",
   "metadata": {},
   "source": [
    "## List 응용하기\n",
    "- list 표현식(List compretension)\n",
    "\n",
    "- 다양한 반복문이나 조건식을 list 안에 넣어 간단하게 표현하기(code 줄을 줄이는 효과)\n",
    "- [식 for 변수 in list]\n",
    "- list(식 for 변수 in list)"
   ]
  },
  {
   "cell_type": "code",
   "execution_count": 1,
   "id": "4c5e6068-ddb9-4451-aa98-0b029623e510",
   "metadata": {},
   "outputs": [],
   "source": [
    "a = [1,2,3,4,5]"
   ]
  },
  {
   "cell_type": "code",
   "execution_count": 4,
   "id": "24c83eb4-ab91-4c86-9f32-539f46c83646",
   "metadata": {},
   "outputs": [],
   "source": [
    "## a라는 list에 1부터 10까지 값을 넣고싶다.\n",
    "a = [1,2,3,4,5,6,7,8,9,10]"
   ]
  },
  {
   "cell_type": "code",
   "execution_count": 5,
   "id": "b9ad58a2-54cb-48b0-b0c6-da92f06867a5",
   "metadata": {},
   "outputs": [
    {
     "name": "stdout",
     "output_type": "stream",
     "text": [
      "0\n",
      "1\n",
      "2\n",
      "3\n",
      "4\n",
      "5\n",
      "6\n",
      "7\n",
      "8\n",
      "9\n",
      "10\n"
     ]
    }
   ],
   "source": [
    "for i in range(11):\n",
    "    print(i)"
   ]
  },
  {
   "cell_type": "code",
   "execution_count": 6,
   "id": "1c1d194f-02c0-4c8a-9662-fdf99db50a17",
   "metadata": {},
   "outputs": [],
   "source": [
    "a = [i for i in range(11)]"
   ]
  },
  {
   "cell_type": "code",
   "execution_count": 11,
   "id": "8dc328b2-3e95-4c94-89f5-9a32a2f02479",
   "metadata": {},
   "outputs": [],
   "source": [
    "b = list(i for i in range(11))"
   ]
  },
  {
   "cell_type": "code",
   "execution_count": 12,
   "id": "ed7332de-9804-4aa4-8a06-5dac70f13395",
   "metadata": {},
   "outputs": [],
   "source": [
    "a = [i + 100 for i in range(11)]"
   ]
  },
  {
   "cell_type": "code",
   "execution_count": 13,
   "id": "73411a8c-85a3-48fe-923a-f290d02e1026",
   "metadata": {},
   "outputs": [
    {
     "data": {
      "text/plain": [
       "[100, 101, 102, 103, 104, 105, 106, 107, 108, 109, 110]"
      ]
     },
     "execution_count": 13,
     "metadata": {},
     "output_type": "execute_result"
    }
   ],
   "source": [
    "a"
   ]
  },
  {
   "cell_type": "code",
   "execution_count": 18,
   "id": "8c42ef9e-695a-4c2b-81aa-a06540e76a0a",
   "metadata": {},
   "outputs": [],
   "source": [
    "j = 100\n",
    "a = [i * j + 3for i in range(11)]"
   ]
  },
  {
   "cell_type": "code",
   "execution_count": 19,
   "id": "26e76d97-2c87-4094-80cd-a6f5c9f64f0f",
   "metadata": {},
   "outputs": [
    {
     "data": {
      "text/plain": [
       "[3, 103, 203, 303, 403, 503, 603, 703, 803, 903, 1003]"
      ]
     },
     "execution_count": 19,
     "metadata": {},
     "output_type": "execute_result"
    }
   ],
   "source": [
    "a"
   ]
  },
  {
   "cell_type": "markdown",
   "id": "f838d70e-607c-4b39-b2e8-b6cf319b1861",
   "metadata": {},
   "source": [
    "### List 표현식 if 조건문\n",
    "- [식 for 변수 in list if 조건식]\n",
    "- list(식 for 변수 in list if 조건식) "
   ]
  },
  {
   "cell_type": "markdown",
   "id": "52383dae-1ab1-47af-9dff-064073dfa0bd",
   "metadata": {},
   "source": [
    "0 ~ 20중에 짝수만 출력해서 a라는 변수에 넣기"
   ]
  },
  {
   "cell_type": "code",
   "execution_count": 20,
   "id": "0974279d-33d4-4a78-9521-cccc470a1125",
   "metadata": {},
   "outputs": [
    {
     "data": {
      "text/plain": [
       "[0, 2, 4, 6, 8, 10, 12, 14, 16, 18, 20]"
      ]
     },
     "execution_count": 20,
     "metadata": {},
     "output_type": "execute_result"
    }
   ],
   "source": [
    "a = [i for i in range(21) if i % 2 == 0]\n",
    "a"
   ]
  },
  {
   "cell_type": "code",
   "execution_count": 23,
   "id": "23c4766c-ce50-49cf-bf03-a0aafbfcb174",
   "metadata": {},
   "outputs": [
    {
     "data": {
      "text/plain": [
       "[0, 2, 4, 6, 8, 10, 12, 14, 16, 18, 20]"
      ]
     },
     "execution_count": 23,
     "metadata": {},
     "output_type": "execute_result"
    }
   ],
   "source": [
    "a = [i for i in range(21) if i % 2 == 0]\n",
    "a"
   ]
  },
  {
   "cell_type": "markdown",
   "id": "3bef284f-cea2-4118-87e8-95cbcfe164fc",
   "metadata": {},
   "source": [
    "### 조건식을 여러 개 쓰면 어떻게 표현할 것인가"
   ]
  },
  {
   "cell_type": "code",
   "execution_count": 34,
   "id": "e5164557-da51-4cc1-9f98-47e07ab39ced",
   "metadata": {},
   "outputs": [],
   "source": [
    "## 중첩 loop\n",
    "c = [i * j for j in range(2,10) for i in range(1,10)]"
   ]
  },
  {
   "cell_type": "markdown",
   "id": "77f52c2b-0909-4d35-88ee-9ae37659575c",
   "metadata": {},
   "source": [
    "[식 for 변수 in list1 if 조건식 for 변수 2 in list2 if 조건식2 ...]\n",
    "- list 표현식에서 for 문이 여러개일 경우 처리 순서는 뒤에서 앞으로 순이다!"
   ]
  },
  {
   "cell_type": "markdown",
   "id": "fcc06e42-2a19-477c-b7f9-dd0f62f1ff8b",
   "metadata": {},
   "source": [
    "## list에서 map 사용하기\n",
    "- list(map(함수, list))\n",
    "- map은 list의 요소를 지정된 함수로 처리해 주는 함수\n",
    "- 처리할 함수가 있다면 그걸 함수에 적고 진행하면 된다."
   ]
  },
  {
   "cell_type": "code",
   "execution_count": 46,
   "id": "ea44aad7-7f96-439f-b7d4-38adb9d50498",
   "metadata": {},
   "outputs": [],
   "source": [
    "a = [i for i in range(10)]"
   ]
  },
  {
   "cell_type": "code",
   "execution_count": 47,
   "id": "c5a22fec-3dd1-4a4e-a6e5-f59cdd8a3419",
   "metadata": {},
   "outputs": [
    {
     "data": {
      "text/plain": [
       "[0, 1, 2, 3, 4, 5, 6, 7, 8, 9]"
      ]
     },
     "execution_count": 47,
     "metadata": {},
     "output_type": "execute_result"
    }
   ],
   "source": [
    "a"
   ]
  },
  {
   "cell_type": "markdown",
   "id": "22fd50e4-89bb-4aaa-b95d-6d771e8c4e39",
   "metadata": {},
   "source": [
    "현재 list내 a 값을 int -> float로 변경"
   ]
  },
  {
   "cell_type": "code",
   "execution_count": 41,
   "id": "ff129418-520d-4c3b-a6ff-d0a8527f095f",
   "metadata": {},
   "outputs": [],
   "source": [
    "a = [float(i) for (i) in range(10)]"
   ]
  },
  {
   "cell_type": "code",
   "execution_count": 42,
   "id": "68db1611-8930-4f1b-a509-71436bf2311f",
   "metadata": {},
   "outputs": [
    {
     "data": {
      "text/plain": [
       "[0.0, 1.0, 2.0, 3.0, 4.0, 5.0, 6.0, 7.0, 8.0, 9.0]"
      ]
     },
     "execution_count": 42,
     "metadata": {},
     "output_type": "execute_result"
    }
   ],
   "source": [
    "a"
   ]
  },
  {
   "cell_type": "code",
   "execution_count": 43,
   "id": "5f814202-ee6a-44d0-b21b-851067654884",
   "metadata": {},
   "outputs": [],
   "source": [
    "# sequence 객체 list에 접근할 수 있는 방법\n",
    "# index 사용!!!"
   ]
  },
  {
   "cell_type": "code",
   "execution_count": 49,
   "id": "f511149c-2755-4dc1-af47-a6a62d6ca6b0",
   "metadata": {},
   "outputs": [],
   "source": [
    "for i in range(len(a)):\n",
    "    a[i] = float(a[i])"
   ]
  },
  {
   "cell_type": "code",
   "execution_count": 50,
   "id": "f0ac6e17-969c-4abf-a645-d840c0e20b63",
   "metadata": {},
   "outputs": [
    {
     "data": {
      "text/plain": [
       "[0.0, 1.0, 2.0, 3.0, 4.0, 5.0, 6.0, 7.0, 8.0, 9.0]"
      ]
     },
     "execution_count": 50,
     "metadata": {},
     "output_type": "execute_result"
    }
   ],
   "source": [
    "a"
   ]
  },
  {
   "cell_type": "code",
   "execution_count": 51,
   "id": "0cb6a6bb-0347-4591-89d7-43ad3d1e1dc2",
   "metadata": {},
   "outputs": [],
   "source": [
    "## map을 이용해서 만들기\n",
    "c = list(map(int,a)) # 내가 원하는 함수를 -> list에 반영한다."
   ]
  },
  {
   "cell_type": "code",
   "execution_count": 52,
   "id": "aea49cf5-af30-4a5c-beb6-76afccc5d7ae",
   "metadata": {},
   "outputs": [
    {
     "data": {
      "text/plain": [
       "[0, 1, 2, 3, 4, 5, 6, 7, 8, 9]"
      ]
     },
     "execution_count": 52,
     "metadata": {},
     "output_type": "execute_result"
    }
   ],
   "source": [
    "c"
   ]
  },
  {
   "cell_type": "markdown",
   "id": "a37ba258-6d28-4a65-8f37-554a3db3880b",
   "metadata": {},
   "source": [
    "## split()\n",
    "- 나누는 역할. input() + split() 사용시 list 값이 입력"
   ]
  },
  {
   "cell_type": "code",
   "execution_count": 54,
   "id": "dc368f5a-2be1-4c49-90da-b517c18e600f",
   "metadata": {},
   "outputs": [
    {
     "name": "stdin",
     "output_type": "stream",
     "text": [
      " 5 7\n"
     ]
    }
   ],
   "source": [
    "a = input().split()"
   ]
  },
  {
   "cell_type": "code",
   "execution_count": 55,
   "id": "5bbbe95b-6c92-4f93-9209-2f93e8f4bc3b",
   "metadata": {},
   "outputs": [
    {
     "data": {
      "text/plain": [
       "['5', '7']"
      ]
     },
     "execution_count": 55,
     "metadata": {},
     "output_type": "execute_result"
    }
   ],
   "source": [
    "a"
   ]
  },
  {
   "cell_type": "code",
   "execution_count": 61,
   "id": "2e4c628c-97f6-4a1b-886b-7c1cd23f4d72",
   "metadata": {},
   "outputs": [
    {
     "name": "stdin",
     "output_type": "stream",
     "text": [
      " 10 20 30 40\n"
     ]
    }
   ],
   "source": [
    "a = map(int,input().split())"
   ]
  },
  {
   "cell_type": "code",
   "execution_count": 62,
   "id": "5722f150-1339-4a82-85df-50ae11f717d6",
   "metadata": {},
   "outputs": [
    {
     "data": {
      "text/plain": [
       "[10, 20, 30, 40]"
      ]
     },
     "execution_count": 62,
     "metadata": {},
     "output_type": "execute_result"
    }
   ],
   "source": [
    "list(a)"
   ]
  },
  {
   "cell_type": "code",
   "execution_count": 63,
   "id": "316ae142-a7fa-408d-ae03-5b8559ef3038",
   "metadata": {},
   "outputs": [
    {
     "data": {
      "text/plain": [
       "<map at 0x2af41e960d0>"
      ]
     },
     "execution_count": 63,
     "metadata": {},
     "output_type": "execute_result"
    }
   ],
   "source": [
    "a"
   ]
  },
  {
   "cell_type": "code",
   "execution_count": 65,
   "id": "f837026e-59fb-4d20-aeba-cdc3a3756789",
   "metadata": {},
   "outputs": [
    {
     "name": "stdin",
     "output_type": "stream",
     "text": [
      " 5\n"
     ]
    }
   ],
   "source": [
    "a = input()"
   ]
  },
  {
   "cell_type": "code",
   "execution_count": 66,
   "id": "03fb49bb-6faa-4274-bc75-96ac1f804236",
   "metadata": {},
   "outputs": [
    {
     "data": {
      "text/plain": [
       "'5'"
      ]
     },
     "execution_count": 66,
     "metadata": {},
     "output_type": "execute_result"
    }
   ],
   "source": [
    "a"
   ]
  },
  {
   "cell_type": "code",
   "execution_count": 67,
   "id": "29ad9992-ff53-4485-9710-f5ab191f1654",
   "metadata": {},
   "outputs": [
    {
     "name": "stdout",
     "output_type": "stream",
     "text": [
      "5\n"
     ]
    }
   ],
   "source": [
    "print(a)"
   ]
  },
  {
   "cell_type": "code",
   "execution_count": 68,
   "id": "78ba02ad-ca27-43de-b67d-310c81d526f6",
   "metadata": {},
   "outputs": [
    {
     "data": {
      "text/plain": [
       "['5']"
      ]
     },
     "execution_count": 68,
     "metadata": {},
     "output_type": "execute_result"
    }
   ],
   "source": [
    "list(a)"
   ]
  },
  {
   "cell_type": "markdown",
   "id": "e050961e-9e11-4d99-bfa2-d5c34832eec7",
   "metadata": {},
   "source": [
    "## tuple에도 활용 가능\n",
    "- 지금 배운 내용을 tuple에 대입해 과제 진행(복습과제 필수, 저번시간에 배운 내용까지)"
   ]
  },
  {
   "cell_type": "code",
   "execution_count": 69,
   "id": "db0d893a-fda2-4fc7-965f-4635e9666993",
   "metadata": {},
   "outputs": [],
   "source": [
    "a = (1,2,3,4,5)"
   ]
  },
  {
   "cell_type": "code",
   "execution_count": 70,
   "id": "d87852c0-fcd7-471d-b90c-8d2570fb6f74",
   "metadata": {},
   "outputs": [
    {
     "data": {
      "text/plain": [
       "(1, 2, 3, 4, 5)"
      ]
     },
     "execution_count": 70,
     "metadata": {},
     "output_type": "execute_result"
    }
   ],
   "source": [
    "a"
   ]
  },
  {
   "cell_type": "code",
   "execution_count": 71,
   "id": "4335cdee-8134-4e8b-aacf-012fa6d1576a",
   "metadata": {},
   "outputs": [
    {
     "data": {
      "text/plain": [
       "[1, 2, 3, 4, 5]"
      ]
     },
     "execution_count": 71,
     "metadata": {},
     "output_type": "execute_result"
    }
   ],
   "source": [
    "list(a)"
   ]
  },
  {
   "cell_type": "code",
   "execution_count": 72,
   "id": "d932f84e-3849-44af-8e92-b34f9fa1e5df",
   "metadata": {},
   "outputs": [
    {
     "data": {
      "text/plain": [
       "(1, 2, 3, 4, 5)"
      ]
     },
     "execution_count": 72,
     "metadata": {},
     "output_type": "execute_result"
    }
   ],
   "source": [
    "a"
   ]
  },
  {
   "cell_type": "markdown",
   "id": "bf6f404f-7a28-4923-8caa-801174c33a09",
   "metadata": {},
   "source": [
    "## 2차원 list\n",
    "- dataframe의 원리와 같다\n",
    "\n",
    "- 행렬은 2차원 개념\n",
    "- 행과 열은 2차원 구조\n",
    "- 2차원 list 가로 X 세로 행(column) 열(row)\n",
    "    - 열  열\n",
    "-행  0,0 0,1\n",
    "-행  1,0 1,1\n",
    "- list[세로 index][가로 index]"
   ]
  },
  {
   "cell_type": "code",
   "execution_count": 76,
   "id": "4b11edce-d73d-4909-ab67-3bed9ba1950e",
   "metadata": {},
   "outputs": [],
   "source": [
    "a = [[10, 20], [30, 40], [50, 60]]"
   ]
  },
  {
   "cell_type": "code",
   "execution_count": 77,
   "id": "2ae476cc-e8ef-4caf-a90e-ab0192c63d22",
   "metadata": {},
   "outputs": [
    {
     "data": {
      "text/plain": [
       "[[10, 20], [30, 40], [50, 60]]"
      ]
     },
     "execution_count": 77,
     "metadata": {},
     "output_type": "execute_result"
    }
   ],
   "source": [
    "a"
   ]
  },
  {
   "cell_type": "code",
   "execution_count": 78,
   "id": "abc8bdaf-be30-4ca2-a6f1-92764dd553d3",
   "metadata": {},
   "outputs": [
    {
     "data": {
      "text/plain": [
       "[10, 20]"
      ]
     },
     "execution_count": 78,
     "metadata": {},
     "output_type": "execute_result"
    }
   ],
   "source": [
    "a[0]"
   ]
  },
  {
   "cell_type": "code",
   "execution_count": 79,
   "id": "d694a36d-cf5b-4247-b484-f50477076b1f",
   "metadata": {},
   "outputs": [
    {
     "data": {
      "text/plain": [
       "10"
      ]
     },
     "execution_count": 79,
     "metadata": {},
     "output_type": "execute_result"
    }
   ],
   "source": [
    "a[0][0]"
   ]
  },
  {
   "cell_type": "code",
   "execution_count": 80,
   "id": "967b34b1-165c-4ff2-b13c-97817f7b804a",
   "metadata": {},
   "outputs": [
    {
     "data": {
      "text/plain": [
       "40"
      ]
     },
     "execution_count": 80,
     "metadata": {},
     "output_type": "execute_result"
    }
   ],
   "source": [
    "a[1][1]"
   ]
  },
  {
   "cell_type": "code",
   "execution_count": 81,
   "id": "a1dd9658-13e1-414e-9dc7-7af89b1e42d7",
   "metadata": {},
   "outputs": [
    {
     "data": {
      "text/plain": [
       "50"
      ]
     },
     "execution_count": 81,
     "metadata": {},
     "output_type": "execute_result"
    }
   ],
   "source": [
    "a[2][0]"
   ]
  },
  {
   "cell_type": "code",
   "execution_count": 85,
   "id": "546cddb2-d00d-4c52-a166-18ff26dd97d9",
   "metadata": {},
   "outputs": [],
   "source": [
    "a = [[[10, 20], [30, 40], [50, 60]]]"
   ]
  },
  {
   "cell_type": "code",
   "execution_count": 86,
   "id": "c8f2496a-62ec-4b92-a6c1-fd6c6b15e668",
   "metadata": {},
   "outputs": [
    {
     "data": {
      "text/plain": [
       "[[[10, 20], [30, 40], [50, 60]]]"
      ]
     },
     "execution_count": 86,
     "metadata": {},
     "output_type": "execute_result"
    }
   ],
   "source": [
    "a"
   ]
  },
  {
   "cell_type": "code",
   "execution_count": 87,
   "id": "1a154b63-a369-43a7-8ecb-d70c609f36df",
   "metadata": {},
   "outputs": [
    {
     "data": {
      "text/plain": [
       "[[10, 20], [30, 40], [50, 60]]"
      ]
     },
     "execution_count": 87,
     "metadata": {},
     "output_type": "execute_result"
    }
   ],
   "source": [
    "a[0]"
   ]
  },
  {
   "cell_type": "code",
   "execution_count": 88,
   "id": "d7eaa069-60ec-45c2-89ee-0ca42345d397",
   "metadata": {},
   "outputs": [
    {
     "data": {
      "text/plain": [
       "[10, 20]"
      ]
     },
     "execution_count": 88,
     "metadata": {},
     "output_type": "execute_result"
    }
   ],
   "source": [
    "a[0][0]"
   ]
  },
  {
   "cell_type": "code",
   "execution_count": 89,
   "id": "ac882ce5-5ac9-495f-8a68-cdb09d56ac17",
   "metadata": {},
   "outputs": [
    {
     "data": {
      "text/plain": [
       "10"
      ]
     },
     "execution_count": 89,
     "metadata": {},
     "output_type": "execute_result"
    }
   ],
   "source": [
    "a[0][0][0]"
   ]
  },
  {
   "cell_type": "markdown",
   "id": "ebc91289-95cf-4828-a940-5686ce165e1b",
   "metadata": {},
   "source": [
    "## 반복문을 이용해 2차원 list의 모든 요소 출력"
   ]
  },
  {
   "cell_type": "code",
   "execution_count": 90,
   "id": "95b90540-2219-4bb9-ade0-4c9375913793",
   "metadata": {},
   "outputs": [],
   "source": [
    "a = [[10, 20], [30, 40], [50, 60]]"
   ]
  },
  {
   "cell_type": "code",
   "execution_count": 108,
   "id": "41e30305-848a-456e-8cee-6f810ab6363f",
   "metadata": {},
   "outputs": [
    {
     "name": "stdout",
     "output_type": "stream",
     "text": [
      "10\n",
      "20\n",
      "30\n",
      "40\n",
      "50\n",
      "60\n"
     ]
    }
   ],
   "source": [
    "for i in range(len(a)):\n",
    "    for j in range(len(a[i])):\n",
    "        print(a[i][j])"
   ]
  },
  {
   "cell_type": "code",
   "execution_count": 106,
   "id": "9db09b2c-30dc-4414-9a21-19c583ee4764",
   "metadata": {},
   "outputs": [
    {
     "name": "stdout",
     "output_type": "stream",
     "text": [
      "10\n",
      "20\n",
      "30\n",
      "40\n",
      "50\n",
      "60\n"
     ]
    }
   ],
   "source": [
    "for i in a:\n",
    "    for j in i:\n",
    "        print(j)"
   ]
  },
  {
   "cell_type": "code",
   "execution_count": 107,
   "id": "3b9632e8-0299-45c9-951e-3bcc6f40718e",
   "metadata": {},
   "outputs": [
    {
     "name": "stdout",
     "output_type": "stream",
     "text": [
      "0 00 10 21 01 11 22 02 12 23 03 13 24 04 14 2"
     ]
    }
   ],
   "source": [
    "for i in range(5):\n",
    "    for j in range(3):\n",
    "        print(i, j, end = '')"
   ]
  },
  {
   "cell_type": "code",
   "execution_count": 116,
   "id": "85cca832-efeb-4a7d-b6cc-f8ea6e33ad19",
   "metadata": {},
   "outputs": [
    {
     "name": "stdout",
     "output_type": "stream",
     "text": [
      "10 20 \n",
      "30 40 \n",
      "50 60 \n"
     ]
    }
   ],
   "source": [
    "i = 0\n",
    "while i < len(a):\n",
    "    j = 0\n",
    "    while j < len(a[i]):\n",
    "        print(a[i][j], end =' ')\n",
    "        j += 1\n",
    "    print()\n",
    "    i += 1"
   ]
  },
  {
   "cell_type": "code",
   "execution_count": 118,
   "id": "01d8ffdd-9580-46e3-a66b-2429f1f3e91b",
   "metadata": {},
   "outputs": [
    {
     "name": "stdout",
     "output_type": "stream",
     "text": [
      "10 20 \n",
      "30 40 \n",
      "50 60 70 \n"
     ]
    }
   ],
   "source": [
    "a = [[10, 20], [30, 40], [50, 60, 70]]\n",
    "i = 0\n",
    "while i < len(a):\n",
    "    j = 0\n",
    "    while j < len(a[i]):\n",
    "        print(a[i][j], end =' ')\n",
    "        j += 1\n",
    "    print()\n",
    "    i += 1"
   ]
  },
  {
   "cell_type": "markdown",
   "id": "202d9a8d-35ce-4073-82c2-199fdab647e7",
   "metadata": {},
   "source": [
    "## append 함수 list안에 넣기\n",
    "- 빈 list 안에 값을 넣기\n",
    "- 0 ~ 10까지 반복문을 이용해서 append 함수로 넣기"
   ]
  },
  {
   "cell_type": "code",
   "execution_count": 119,
   "id": "56d38815-0c2d-4c90-a978-44334a97f514",
   "metadata": {},
   "outputs": [],
   "source": [
    "a = []\n",
    "for i in range(11):\n",
    "    a.append(i)"
   ]
  },
  {
   "cell_type": "code",
   "execution_count": 120,
   "id": "b1190fb2-1952-4081-97dd-21ddbe37b9e2",
   "metadata": {},
   "outputs": [
    {
     "data": {
      "text/plain": [
       "[0, 1, 2, 3, 4, 5, 6, 7, 8, 9, 10]"
      ]
     },
     "execution_count": 120,
     "metadata": {},
     "output_type": "execute_result"
    }
   ],
   "source": [
    "a"
   ]
  },
  {
   "cell_type": "code",
   "execution_count": 2,
   "id": "b777fd05-c63a-4343-8088-a1828e2d6f0c",
   "metadata": {},
   "outputs": [],
   "source": [
    "b = []\n",
    "b.append(list(i for i in range(11)))"
   ]
  },
  {
   "cell_type": "code",
   "execution_count": 3,
   "id": "5bc54ed2-0a03-49bb-b367-d3fdcc96d966",
   "metadata": {},
   "outputs": [
    {
     "data": {
      "text/plain": [
       "[[0, 1, 2, 3, 4, 5, 6, 7, 8, 9, 10]]"
      ]
     },
     "execution_count": 3,
     "metadata": {},
     "output_type": "execute_result"
    }
   ],
   "source": [
    "b"
   ]
  },
  {
   "cell_type": "code",
   "execution_count": 6,
   "id": "5a94a3e8-d305-4147-aab0-2a2799b6873b",
   "metadata": {},
   "outputs": [
    {
     "name": "stdout",
     "output_type": "stream",
     "text": [
      "1 2 3 \n",
      "4 5 6 \n",
      "7 8 9 \n"
     ]
    }
   ],
   "source": [
    "a = [[1,2,3], [4,5,6], [7,8,9]]\n",
    "\n",
    "for i in a:                 # a list에서 내부 list를 꺼냄\n",
    "    for j in i:             # 내부 list에서 하나씩 꺼냄\n",
    "        print(j,end = ' ')\n",
    "    print()"
   ]
  },
  {
   "cell_type": "code",
   "execution_count": 9,
   "id": "1c06342f-6edb-4ee8-a0ee-3adca4fd8757",
   "metadata": {},
   "outputs": [
    {
     "name": "stdout",
     "output_type": "stream",
     "text": [
      "1 2 3 4 5 \n",
      "6 7 8 \n",
      "9 \n"
     ]
    }
   ],
   "source": [
    "b = [[1,2,3,4,5], [6,7,8], [9]]\n",
    "i = 0\n",
    "\n",
    "while i < len(b):               # list b의 내부 list 갯수만큼 진행\n",
    "    j = 0\n",
    "    while j < len(b[i]):        # 내부 list의 갯수만큼 출력\n",
    "        print(b[i][j], end = ' ')\n",
    "        j += 1\n",
    "    print()\n",
    "    i += 1"
   ]
  },
  {
   "cell_type": "code",
   "execution_count": null,
   "id": "3ca74cfa-d323-49a4-a291-764e198cf963",
   "metadata": {},
   "outputs": [],
   "source": []
  }
 ],
 "metadata": {
  "kernelspec": {
   "display_name": "Python 3 (ipykernel)",
   "language": "python",
   "name": "python3"
  },
  "language_info": {
   "codemirror_mode": {
    "name": "ipython",
    "version": 3
   },
   "file_extension": ".py",
   "mimetype": "text/x-python",
   "name": "python",
   "nbconvert_exporter": "python",
   "pygments_lexer": "ipython3",
   "version": "3.9.12"
  }
 },
 "nbformat": 4,
 "nbformat_minor": 5
}
