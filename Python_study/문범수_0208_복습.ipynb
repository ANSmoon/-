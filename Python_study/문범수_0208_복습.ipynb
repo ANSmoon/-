{
 "cells": [
  {
   "cell_type": "markdown",
   "id": "163cb328-8409-47e3-8dbf-802e93a19c65",
   "metadata": {},
   "source": [
    "### 중첩Loop\n",
    "\n",
    "- for 문 중첩루프 \n",
    "\n",
    "- for i in range(횟수):\n",
    "    -for j in range(횟수):\n",
    "        - j가 수행할 code\n",
    "    - i가 수행할 code"
   ]
  },
  {
   "cell_type": "code",
   "execution_count": 4,
   "id": "84bdb01b-e78a-43b2-8942-c4005ec37c01",
   "metadata": {},
   "outputs": [
    {
     "name": "stdout",
     "output_type": "stream",
     "text": [
      "j :  0, j :  1, j :  2, i :  0\n",
      "j :  0, j :  1, j :  2, i :  1\n",
      "j :  0, j :  1, j :  2, i :  2\n",
      "j :  0, j :  1, j :  2, i :  3\n",
      "j :  0, j :  1, j :  2, i :  4\n"
     ]
    }
   ],
   "source": [
    "for i in range(5):\n",
    "    for j in range(3):\n",
    "        print('j : ',j, sep = ' ', end = ', ')\n",
    "    print('i : ', i)"
   ]
  },
  {
   "cell_type": "code",
   "execution_count": 7,
   "id": "8303313f-0de6-4bc3-ae2f-9582623b5720",
   "metadata": {},
   "outputs": [
    {
     "name": "stdout",
     "output_type": "stream",
     "text": [
      "k :  0 k :  1 j :  0\n",
      "k :  0 k :  1 j :  1\n",
      "k :  0 k :  1 j :  2\n",
      "i :  0\n",
      "k :  0 k :  1 j :  0\n",
      "k :  0 k :  1 j :  1\n",
      "k :  0 k :  1 j :  2\n",
      "i :  1\n",
      "k :  0 k :  1 j :  0\n",
      "k :  0 k :  1 j :  1\n",
      "k :  0 k :  1 j :  2\n",
      "i :  2\n",
      "k :  0 k :  1 j :  0\n",
      "k :  0 k :  1 j :  1\n",
      "k :  0 k :  1 j :  2\n",
      "i :  3\n",
      "k :  0 k :  1 j :  0\n",
      "k :  0 k :  1 j :  1\n",
      "k :  0 k :  1 j :  2\n",
      "i :  4\n"
     ]
    }
   ],
   "source": [
    "for i in range(5):\n",
    "    for j in range(3):\n",
    "        for k in range(2):\n",
    "            print('k : ', k , sep = ' ', end = ' ')\n",
    "        print('j : ', j)\n",
    "    print('i : ', i , sep = ' ')"
   ]
  },
  {
   "cell_type": "markdown",
   "id": "1abe2cb5-96ff-4a1c-83f4-95c6eb50b413",
   "metadata": {},
   "source": [
    "- * 피라미드 만들기\n",
    "- '*'\n",
    "- '**'\n",
    "- '***'\n",
    "- '****'\n"
   ]
  },
  {
   "cell_type": "code",
   "execution_count": 46,
   "id": "ad24fae9-3702-4ff3-b707-0137074435b5",
   "metadata": {},
   "outputs": [
    {
     "name": "stdout",
     "output_type": "stream",
     "text": [
      "*****\n",
      "*****\n",
      "*****\n",
      "*****\n",
      "*****\n"
     ]
    }
   ],
   "source": [
    "for i in range(5):\n",
    "    for j in range(5):\n",
    "        print('*', end = '')\n",
    "    print('')"
   ]
  },
  {
   "cell_type": "code",
   "execution_count": 40,
   "id": "d3b29322-62f0-4f99-b826-938e75c12592",
   "metadata": {},
   "outputs": [
    {
     "name": "stdout",
     "output_type": "stream",
     "text": [
      "\n",
      "*\n",
      "**\n",
      "***\n",
      "****\n",
      "*****\n"
     ]
    }
   ],
   "source": [
    "for i in range(6):\n",
    "    for j in range(1):\n",
    "        print('*' * i)"
   ]
  },
  {
   "cell_type": "code",
   "execution_count": 52,
   "id": "3a07737d-204c-4db6-9069-3f551d80d2f9",
   "metadata": {},
   "outputs": [
    {
     "name": "stdout",
     "output_type": "stream",
     "text": [
      "*\n",
      "**\n",
      "***\n",
      "****\n",
      "*****\n"
     ]
    }
   ],
   "source": [
    "for i in range(5):\n",
    "    for j in range(5):\n",
    "        if j <= i:\n",
    "            print('*',end='')\n",
    "    print()"
   ]
  },
  {
   "cell_type": "code",
   "execution_count": 53,
   "id": "06c25e17-bfee-4e10-bd28-dd6574e43464",
   "metadata": {},
   "outputs": [
    {
     "name": "stdout",
     "output_type": "stream",
     "text": [
      "*****\n",
      "****\n",
      "***\n",
      "**\n",
      "*\n"
     ]
    }
   ],
   "source": [
    "for i in range(5):\n",
    "    for j in range(5):\n",
    "        if j >= i:\n",
    "            print(\"*\", end ='')\n",
    "    print()\n",
    "            "
   ]
  },
  {
   "cell_type": "code",
   "execution_count": 71,
   "id": "155b8492-0e8e-47b2-9809-cf9779931a4e",
   "metadata": {},
   "outputs": [
    {
     "name": "stdout",
     "output_type": "stream",
     "text": [
      "*    \n",
      " *   \n",
      "  *  \n",
      "   * \n",
      "    *\n"
     ]
    }
   ],
   "source": [
    "for i in range(5):\n",
    "    for j in range(5):\n",
    "        if j == i:\n",
    "            print(\"*\",end ='')\n",
    "        else:\n",
    "            print('',end =' ')\n",
    "    print()"
   ]
  },
  {
   "cell_type": "code",
   "execution_count": 74,
   "id": "6a859d04-3647-4136-b89c-65207c2627ed",
   "metadata": {},
   "outputs": [
    {
     "name": "stdout",
     "output_type": "stream",
     "text": [
      "    * \n",
      "   *  \n",
      "  *   \n",
      " *    \n",
      "*     \n"
     ]
    }
   ],
   "source": [
    "k = 4\n",
    "for i in range(5):\n",
    "    for j in range(5):\n",
    "        if j == k:\n",
    "            print(\"*\",end =' ')\n",
    "        else:\n",
    "            print(\"\",end =' ') \n",
    "    k -=1\n",
    "    print()"
   ]
  },
  {
   "cell_type": "code",
   "execution_count": null,
   "id": "57b66129-cd79-4d34-bada-730d15c2d4f7",
   "metadata": {},
   "outputs": [],
   "source": []
  }
 ],
 "metadata": {
  "kernelspec": {
   "display_name": "Python 3 (ipykernel)",
   "language": "python",
   "name": "python3"
  },
  "language_info": {
   "codemirror_mode": {
    "name": "ipython",
    "version": 3
   },
   "file_extension": ".py",
   "mimetype": "text/x-python",
   "name": "python",
   "nbconvert_exporter": "python",
   "pygments_lexer": "ipython3",
   "version": "3.9.12"
  }
 },
 "nbformat": 4,
 "nbformat_minor": 5
}
