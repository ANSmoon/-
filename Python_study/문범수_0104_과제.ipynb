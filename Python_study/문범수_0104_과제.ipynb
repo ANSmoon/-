{
 "cells": [
  {
   "cell_type": "markdown",
   "id": "63c300f0-9942-43e0-8394-427bb2735ba8",
   "metadata": {},
   "source": [
    "##### object : 과제(과제 1 : Tuple도 위의 list와 동일하게 작성하기, 과제 2 : String도 동일)\n",
    "##### Author : 문범수\n",
    "##### date : 2022.1.7"
   ]
  },
  {
   "cell_type": "markdown",
   "id": "d8118833-7b14-48f6-a372-4fd6af8e0a31",
   "metadata": {},
   "source": [
    "### index 생략하기!\n",
    "- sequence object[:]\n",
    "- sequence object[값:]\n",
    "- sequence object[:값]\n",
    "- 범위 지정시 시작부터 끝에서 끝부분은 이전까지를 의마한다.\n",
    "\n",
    "ex) [0:5] = 0번째 부터 5번째 이전까지!!!! 실수하지 말것!"
   ]
  },
  {
   "cell_type": "markdown",
   "id": "135e73aa-2708-4448-9c56-f450727e3644",
   "metadata": {},
   "source": [
    "## 1. Tuple 작성"
   ]
  },
  {
   "cell_type": "code",
   "execution_count": 7,
   "id": "eae810fe-01b5-4851-abac-70d011a61f0a",
   "metadata": {},
   "outputs": [],
   "source": [
    "a = tuple(range(1,11))"
   ]
  },
  {
   "cell_type": "code",
   "execution_count": 6,
   "id": "36b35ab5-b72a-412c-b8a7-b2a8d99742cc",
   "metadata": {},
   "outputs": [
    {
     "data": {
      "text/plain": [
       "(1, 2, 3, 4, 5, 6, 7, 8, 9)"
      ]
     },
     "execution_count": 6,
     "metadata": {},
     "output_type": "execute_result"
    }
   ],
   "source": [
    "a"
   ]
  },
  {
   "cell_type": "code",
   "execution_count": 9,
   "id": "15c6c693-16e9-43c6-b4ea-48ef809ce6ec",
   "metadata": {},
   "outputs": [
    {
     "data": {
      "text/plain": [
       "(1, 2, 3, 4, 5, 6, 7, 8, 9, 10)"
      ]
     },
     "execution_count": 9,
     "metadata": {},
     "output_type": "execute_result"
    }
   ],
   "source": [
    "a[:]"
   ]
  },
  {
   "cell_type": "code",
   "execution_count": 10,
   "id": "2398d9c7-5f33-47fb-82f4-c45836f8c6a1",
   "metadata": {},
   "outputs": [
    {
     "data": {
      "text/plain": [
       "(2, 3, 4, 5, 6, 7, 8, 9, 10)"
      ]
     },
     "execution_count": 10,
     "metadata": {},
     "output_type": "execute_result"
    }
   ],
   "source": [
    "a[1:]"
   ]
  },
  {
   "cell_type": "code",
   "execution_count": 13,
   "id": "579bf273-f9ae-4f3d-8d1e-99fb473dec56",
   "metadata": {},
   "outputs": [
    {
     "data": {
      "text/plain": [
       "()"
      ]
     },
     "execution_count": 13,
     "metadata": {},
     "output_type": "execute_result"
    }
   ],
   "source": [
    "a[:0]"
   ]
  },
  {
   "cell_type": "code",
   "execution_count": 14,
   "id": "5137fb05-6062-46c6-9387-014ee86964ba",
   "metadata": {},
   "outputs": [
    {
     "data": {
      "text/plain": [
       "(1, 2)"
      ]
     },
     "execution_count": 14,
     "metadata": {},
     "output_type": "execute_result"
    }
   ],
   "source": [
    "a[:2]"
   ]
  },
  {
   "cell_type": "code",
   "execution_count": 15,
   "id": "08e04b56-02df-4a88-bb7a-156110ef9f97",
   "metadata": {},
   "outputs": [
    {
     "data": {
      "text/plain": [
       "(1,)"
      ]
     },
     "execution_count": 15,
     "metadata": {},
     "output_type": "execute_result"
    }
   ],
   "source": [
    "a[:1]"
   ]
  },
  {
   "cell_type": "code",
   "execution_count": 16,
   "id": "bf3a44f5-3a11-48c4-8d25-75227a99e856",
   "metadata": {},
   "outputs": [
    {
     "data": {
      "text/plain": [
       "1"
      ]
     },
     "execution_count": 16,
     "metadata": {},
     "output_type": "execute_result"
    }
   ],
   "source": [
    "a[0]"
   ]
  },
  {
   "cell_type": "code",
   "execution_count": 17,
   "id": "d43c1ae4-116e-4352-af29-ce13ea80220f",
   "metadata": {},
   "outputs": [
    {
     "data": {
      "text/plain": [
       "10"
      ]
     },
     "execution_count": 17,
     "metadata": {},
     "output_type": "execute_result"
    }
   ],
   "source": [
    "len(a)"
   ]
  },
  {
   "cell_type": "code",
   "execution_count": 35,
   "id": "45215551-fa19-4b45-a0d4-c2394ddc9cbf",
   "metadata": {},
   "outputs": [
    {
     "ename": "IndexError",
     "evalue": "tuple index out of range",
     "output_type": "error",
     "traceback": [
      "\u001b[1;31m---------------------------------------------------------------------------\u001b[0m",
      "\u001b[1;31mIndexError\u001b[0m                                Traceback (most recent call last)",
      "Input \u001b[1;32mIn [35]\u001b[0m, in \u001b[0;36m<cell line: 1>\u001b[1;34m()\u001b[0m\n\u001b[1;32m----> 1\u001b[0m \u001b[43ma\u001b[49m\u001b[43m[\u001b[49m\u001b[38;5;241;43m25\u001b[39;49m\u001b[43m]\u001b[49m\n",
      "\u001b[1;31mIndexError\u001b[0m: tuple index out of range"
     ]
    }
   ],
   "source": [
    "a[25]\n",
    "#존재하지 않는 index 참조"
   ]
  },
  {
   "cell_type": "code",
   "execution_count": 19,
   "id": "b8afc91a-bf18-4646-a068-0acf210c6748",
   "metadata": {},
   "outputs": [
    {
     "data": {
      "text/plain": [
       "(1, 2, 3, 4, 5, 6, 7, 8, 9, 10)"
      ]
     },
     "execution_count": 19,
     "metadata": {},
     "output_type": "execute_result"
    }
   ],
   "source": [
    "a[:len(a)]"
   ]
  },
  {
   "cell_type": "markdown",
   "id": "3507ad64-1708-416a-b7fc-15c05177b342",
   "metadata": {},
   "source": [
    "## 2. String list 작성"
   ]
  },
  {
   "cell_type": "code",
   "execution_count": 20,
   "id": "bf4906f2-58b6-4981-9584-8925c1d39715",
   "metadata": {},
   "outputs": [],
   "source": [
    "b = (\"Hello Workd!\")"
   ]
  },
  {
   "cell_type": "code",
   "execution_count": 21,
   "id": "5a4f7516-a2b4-4885-b36a-128f62f2a329",
   "metadata": {},
   "outputs": [
    {
     "data": {
      "text/plain": [
       "'Hello Workd!'"
      ]
     },
     "execution_count": 21,
     "metadata": {},
     "output_type": "execute_result"
    }
   ],
   "source": [
    "b"
   ]
  },
  {
   "cell_type": "code",
   "execution_count": 22,
   "id": "e07bbbea-44aa-4d61-9b6f-2100364b2214",
   "metadata": {},
   "outputs": [
    {
     "data": {
      "text/plain": [
       "'Hello Workd!'"
      ]
     },
     "execution_count": 22,
     "metadata": {},
     "output_type": "execute_result"
    }
   ],
   "source": [
    "b[:]"
   ]
  },
  {
   "cell_type": "code",
   "execution_count": 23,
   "id": "2ec87449-1ca1-44c2-815c-8f9bb88eb14b",
   "metadata": {},
   "outputs": [
    {
     "data": {
      "text/plain": [
       "'Hel'"
      ]
     },
     "execution_count": 23,
     "metadata": {},
     "output_type": "execute_result"
    }
   ],
   "source": [
    "b[:3]"
   ]
  },
  {
   "cell_type": "code",
   "execution_count": 24,
   "id": "3ba9a1b0-48f5-46bc-9d5b-8a2cef698afd",
   "metadata": {},
   "outputs": [
    {
     "data": {
      "text/plain": [
       "'Hello Workd!'"
      ]
     },
     "execution_count": 24,
     "metadata": {},
     "output_type": "execute_result"
    }
   ],
   "source": [
    "b[:len(b)]"
   ]
  },
  {
   "cell_type": "code",
   "execution_count": 27,
   "id": "444cffbd-a95d-4b38-9f58-e42f49b8c594",
   "metadata": {},
   "outputs": [
    {
     "data": {
      "text/plain": [
       "' '"
      ]
     },
     "execution_count": 27,
     "metadata": {},
     "output_type": "execute_result"
    }
   ],
   "source": [
    "b[5]"
   ]
  },
  {
   "cell_type": "code",
   "execution_count": 28,
   "id": "ba7dbe64-184e-4d05-a2a2-cc7674f2aa3f",
   "metadata": {},
   "outputs": [
    {
     "data": {
      "text/plain": [
       "' Work'"
      ]
     },
     "execution_count": 28,
     "metadata": {},
     "output_type": "execute_result"
    }
   ],
   "source": [
    "b[5:10]"
   ]
  },
  {
   "cell_type": "code",
   "execution_count": 30,
   "id": "b03348cf-366a-4be4-b029-15cc7ffde15a",
   "metadata": {},
   "outputs": [
    {
     "data": {
      "text/plain": [
       "'Hello Workd!'"
      ]
     },
     "execution_count": 30,
     "metadata": {},
     "output_type": "execute_result"
    }
   ],
   "source": [
    "b[:len(b)]"
   ]
  },
  {
   "cell_type": "code",
   "execution_count": 31,
   "id": "14f1f96b-bbbf-46c8-8a29-b143697c2bcc",
   "metadata": {},
   "outputs": [
    {
     "data": {
      "text/plain": [
       "''"
      ]
     },
     "execution_count": 31,
     "metadata": {},
     "output_type": "execute_result"
    }
   ],
   "source": [
    "b[len(b):]"
   ]
  },
  {
   "cell_type": "code",
   "execution_count": 34,
   "id": "74012658-d939-45a7-82f8-b1eb8384771b",
   "metadata": {},
   "outputs": [
    {
     "ename": "IndexError",
     "evalue": "string index out of range",
     "output_type": "error",
     "traceback": [
      "\u001b[1;31m---------------------------------------------------------------------------\u001b[0m",
      "\u001b[1;31mIndexError\u001b[0m                                Traceback (most recent call last)",
      "Input \u001b[1;32mIn [34]\u001b[0m, in \u001b[0;36m<cell line: 1>\u001b[1;34m()\u001b[0m\n\u001b[1;32m----> 1\u001b[0m \u001b[43mb\u001b[49m\u001b[43m[\u001b[49m\u001b[38;5;28;43mlen\u001b[39;49m\u001b[43m(\u001b[49m\u001b[43mb\u001b[49m\u001b[43m)\u001b[49m\u001b[43m]\u001b[49m\n",
      "\u001b[1;31mIndexError\u001b[0m: string index out of range"
     ]
    }
   ],
   "source": [
    "b[len(b)]"
   ]
  },
  {
   "cell_type": "markdown",
   "id": "40816608-1f7a-4020-86c4-8ca1cbeae9cb",
   "metadata": {},
   "source": [
    "기존의 index값을 넘어가는 len값이기 때문에 오류발생"
   ]
  },
  {
   "cell_type": "code",
   "execution_count": 38,
   "id": "66fdde5c-5e7b-4fc3-abeb-9b6ed0be5a60",
   "metadata": {},
   "outputs": [
    {
     "data": {
      "text/plain": [
       "'k'"
      ]
     },
     "execution_count": 38,
     "metadata": {},
     "output_type": "execute_result"
    }
   ],
   "source": [
    "b[len(b)-3]"
   ]
  },
  {
   "cell_type": "code",
   "execution_count": 41,
   "id": "2478c5b1-075a-4a77-8d80-b056827fbbc9",
   "metadata": {},
   "outputs": [],
   "source": [
    "c = list(range(1,2))"
   ]
  },
  {
   "cell_type": "code",
   "execution_count": 42,
   "id": "5f665142-ee31-46e4-b2e7-2ea72ada1491",
   "metadata": {},
   "outputs": [
    {
     "data": {
      "text/plain": [
       "[1]"
      ]
     },
     "execution_count": 42,
     "metadata": {},
     "output_type": "execute_result"
    }
   ],
   "source": [
    "c"
   ]
  },
  {
   "cell_type": "code",
   "execution_count": 43,
   "id": "67c14d6b-722f-4ab7-a1fd-fa61e889bbdf",
   "metadata": {},
   "outputs": [],
   "source": [
    "del c [0]"
   ]
  },
  {
   "cell_type": "code",
   "execution_count": 44,
   "id": "21d75b5f-b06c-4c60-9918-5fa56b0d1c0d",
   "metadata": {},
   "outputs": [
    {
     "data": {
      "text/plain": [
       "[]"
      ]
     },
     "execution_count": 44,
     "metadata": {},
     "output_type": "execute_result"
    }
   ],
   "source": [
    "c"
   ]
  },
  {
   "cell_type": "code",
   "execution_count": 45,
   "id": "9292d13a-d20c-4aa2-b53d-2191951e10b8",
   "metadata": {},
   "outputs": [
    {
     "ename": "SyntaxError",
     "evalue": "cannot delete function call (1520891296.py, line 1)",
     "output_type": "error",
     "traceback": [
      "\u001b[1;36m  Input \u001b[1;32mIn [45]\u001b[1;36m\u001b[0m\n\u001b[1;33m    del a(2)\u001b[0m\n\u001b[1;37m        ^\u001b[0m\n\u001b[1;31mSyntaxError\u001b[0m\u001b[1;31m:\u001b[0m cannot delete function call\n"
     ]
    }
   ],
   "source": [
    "del a(2)"
   ]
  },
  {
   "cell_type": "markdown",
   "id": "0bd4642e-72b6-4ac9-8460-dda50bf8ce23",
   "metadata": {},
   "source": [
    "tuple은 삭제되지 않는다. del 사용 불가능"
   ]
  },
  {
   "cell_type": "code",
   "execution_count": null,
   "id": "8fa9e871-8870-4abc-9158-dedfc90ae529",
   "metadata": {},
   "outputs": [],
   "source": []
  }
 ],
 "metadata": {
  "kernelspec": {
   "display_name": "Python 3 (ipykernel)",
   "language": "python",
   "name": "python3"
  },
  "language_info": {
   "codemirror_mode": {
    "name": "ipython",
    "version": 3
   },
   "file_extension": ".py",
   "mimetype": "text/x-python",
   "name": "python",
   "nbconvert_exporter": "python",
   "pygments_lexer": "ipython3",
   "version": "3.9.12"
  }
 },
 "nbformat": 4,
 "nbformat_minor": 5
}
