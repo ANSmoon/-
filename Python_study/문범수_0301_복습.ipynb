{
 "cells": [
  {
   "cell_type": "markdown",
   "id": "8c55d376-eb1c-4943-afde-3e9d79b6cb48",
   "metadata": {},
   "source": [
    "### for 반복문 1차원 list로 만들기!"
   ]
  },
  {
   "cell_type": "code",
   "execution_count": 6,
   "id": "f53fa8ca-49fc-48f9-9830-cbd11fb5662b",
   "metadata": {},
   "outputs": [
    {
     "name": "stdout",
     "output_type": "stream",
     "text": [
      "0\n",
      "1\n",
      "2\n",
      "3\n",
      "4\n",
      "5\n",
      "6\n",
      "7\n",
      "8\n",
      "9\n",
      "[0, 1, 2, 3, 4, 5, 6, 7, 8, 9]\n"
     ]
    }
   ],
   "source": [
    "a = []\n",
    "for i in range(10):\n",
    "    print(i)\n",
    "    a.append(i)\n",
    "print(a)"
   ]
  },
  {
   "cell_type": "code",
   "execution_count": 7,
   "id": "96dd3fb3-a13d-450d-86f1-e77fca292197",
   "metadata": {},
   "outputs": [
    {
     "data": {
      "text/plain": [
       "[0, 1, 2, 3, 4, 5, 6, 7, 8, 9]"
      ]
     },
     "execution_count": 7,
     "metadata": {},
     "output_type": "execute_result"
    }
   ],
   "source": [
    "a"
   ]
  },
  {
   "cell_type": "markdown",
   "id": "8aa5201f-e9b2-4f27-9a86-96e0fb3cbf1e",
   "metadata": {},
   "source": [
    "### 2차원 list를 for 반복문을 이용해서 만들기!"
   ]
  },
  {
   "cell_type": "code",
   "execution_count": 14,
   "id": "19f9175c-0170-460f-802e-b15fe16b69ad",
   "metadata": {},
   "outputs": [
    {
     "name": "stdout",
     "output_type": "stream",
     "text": [
      "[[0, 1, 2], [0, 1, 2], [0, 1, 2], [0, 1, 2], [0, 1, 2], [0, 1, 2], [0, 1, 2], [0, 1, 2], [0, 1, 2], [0, 1, 2]]\n"
     ]
    }
   ],
   "source": [
    "a = []\n",
    "for i in range(10):\n",
    "    b = []\n",
    "    for j in range(3):\n",
    "        b.append(j)\n",
    "    a.append(b)\n",
    "print(a)"
   ]
  },
  {
   "cell_type": "markdown",
   "id": "c92d368f-c8d0-4497-8c84-92306c683eb3",
   "metadata": {},
   "source": [
    "### 2차원 list를 list comprehension으로 만들기!"
   ]
  },
  {
   "cell_type": "code",
   "execution_count": 21,
   "id": "87f0cb79-4946-430c-9f0d-8ee11751c8e7",
   "metadata": {},
   "outputs": [
    {
     "name": "stdout",
     "output_type": "stream",
     "text": [
      "[[0, 2, 4, 6, 8, 10, 12, 14, 16, 18], [0, 2, 4, 6, 8, 10, 12, 14, 16, 18], [0, 2, 4, 6, 8, 10, 12, 14, 16, 18], [0, 2, 4, 6, 8, 10, 12, 14, 16, 18], [0, 2, 4, 6, 8, 10, 12, 14, 16, 18]]\n"
     ]
    }
   ],
   "source": [
    "x = []\n",
    "for i in range(5):\n",
    "    y = [j * 2 for j in range(10)]\n",
    "    x.append(y)\n",
    "print(x)"
   ]
  },
  {
   "cell_type": "code",
   "execution_count": 22,
   "id": "06575828-c3ea-4f89-be84-0a2bf37ac782",
   "metadata": {},
   "outputs": [],
   "source": [
    "c = [[j for j in range(3)] for i in range(5)]"
   ]
  },
  {
   "cell_type": "code",
   "execution_count": 23,
   "id": "23f3de1e-df03-4499-a242-a562abc72f32",
   "metadata": {},
   "outputs": [
    {
     "data": {
      "text/plain": [
       "[[0, 1, 2], [0, 1, 2], [0, 1, 2], [0, 1, 2], [0, 1, 2]]"
      ]
     },
     "execution_count": 23,
     "metadata": {},
     "output_type": "execute_result"
    }
   ],
   "source": [
    "c"
   ]
  },
  {
   "cell_type": "code",
   "execution_count": 24,
   "id": "3e1fbbc9-042f-488f-81a8-fa45c2763694",
   "metadata": {},
   "outputs": [
    {
     "data": {
      "text/plain": [
       "[[0, 1, 2, 3]]"
      ]
     },
     "execution_count": 24,
     "metadata": {},
     "output_type": "execute_result"
    }
   ],
   "source": [
    "a = []\n",
    "b = [i for i in range(4)]\n",
    "a.append(b)\n",
    "a"
   ]
  },
  {
   "cell_type": "markdown",
   "id": "ffd1eb6a-5771-4f0c-90ef-5cce064e1c2e",
   "metadata": {},
   "source": [
    "### 3차원 list 만들기"
   ]
  },
  {
   "cell_type": "code",
   "execution_count": 25,
   "id": "0eff9c4a-e5b6-478a-ae01-762e5f7d67f7",
   "metadata": {},
   "outputs": [
    {
     "ename": "SyntaxError",
     "evalue": "invalid syntax (182627739.py, line 5)",
     "output_type": "error",
     "traceback": [
      "\u001b[1;36m  Input \u001b[1;32mIn [25]\u001b[1;36m\u001b[0m\n\u001b[1;33m    c = [z for in range(3)]\u001b[0m\n\u001b[1;37m               ^\u001b[0m\n\u001b[1;31mSyntaxError\u001b[0m\u001b[1;31m:\u001b[0m invalid syntax\n"
     ]
    }
   ],
   "source": [
    "a = []\n",
    "for i in range(5):\n",
    "    b = [j for j in range(3)]\n",
    "    for z in range(3):\n",
    "        c = [z for in range(3)]\n",
    "        a.append(c)"
   ]
  },
  {
   "cell_type": "code",
   "execution_count": 26,
   "id": "4976b23c-8ba2-4937-a874-25451a56a6f5",
   "metadata": {},
   "outputs": [],
   "source": [
    "a = [[[c for c in range(2)] for j in range(3)] for i in range(4)]"
   ]
  },
  {
   "cell_type": "code",
   "execution_count": 27,
   "id": "428c58bb-ae13-4d8a-9827-d7eaddf72c1a",
   "metadata": {},
   "outputs": [
    {
     "data": {
      "text/plain": [
       "[[[0, 1], [0, 1], [0, 1]],\n",
       " [[0, 1], [0, 1], [0, 1]],\n",
       " [[0, 1], [0, 1], [0, 1]],\n",
       " [[0, 1], [0, 1], [0, 1]]]"
      ]
     },
     "execution_count": 27,
     "metadata": {},
     "output_type": "execute_result"
    }
   ],
   "source": [
    "a"
   ]
  },
  {
   "cell_type": "markdown",
   "id": "95807617-9ff3-407e-aa55-d2a50c62332a",
   "metadata": {},
   "source": [
    "## 문자열\n",
    "- 문자열 응용시 사용하는 함수 존재\n",
    "- 문자열 함수를 기초로 알고 있어야 문자열 data 전처리나 크롤링이나 등등 응용가능\n",
    "- 문자열 응용시 배운 함수들이 결국 실제로도 자주 사용된다.\n",
    "\n",
    "- Replace 문자 바꾸기"
   ]
  },
  {
   "cell_type": "code",
   "execution_count": 28,
   "id": "fb7966ab-a988-452d-83b7-07c09f19ae3e",
   "metadata": {},
   "outputs": [
    {
     "data": {
      "text/plain": [
       "'HI, 반가워!'"
      ]
     },
     "execution_count": 28,
     "metadata": {},
     "output_type": "execute_result"
    }
   ],
   "source": [
    "#replace ('바꿀 문자열', '새 문자열')\n",
    "'안녕, 반가워!'.replace('안녕', 'HI')"
   ]
  },
  {
   "cell_type": "code",
   "execution_count": 30,
   "id": "b00dd0cd-0592-4619-9c0b-7bff6b835769",
   "metadata": {},
   "outputs": [],
   "source": [
    "a = '안녕, 반가워!'"
   ]
  },
  {
   "cell_type": "code",
   "execution_count": 32,
   "id": "3e33fafb-4fb1-4357-bb2c-1fcdc99c7c0b",
   "metadata": {},
   "outputs": [
    {
     "data": {
      "text/plain": [
       "'Hello, 반가워!'"
      ]
     },
     "execution_count": 32,
     "metadata": {},
     "output_type": "execute_result"
    }
   ],
   "source": [
    "a.replace('안녕', 'Hello') # 변수에도 사용 가능"
   ]
  },
  {
   "cell_type": "markdown",
   "id": "e6830794-5ef1-4910-8f49-f3236bd2f5a3",
   "metadata": {},
   "source": [
    "- 문자열 분리하기\n",
    "- split() 공백을 기준으로 문자열 분리하고 -> list까지 만듦"
   ]
  },
  {
   "cell_type": "code",
   "execution_count": 33,
   "id": "a0ab5507-f797-47f4-9adb-c35aaa6dd7c6",
   "metadata": {},
   "outputs": [
    {
     "data": {
      "text/plain": [
       "['안녕', '반가워', '과제는', '했니?']"
      ]
     },
     "execution_count": 33,
     "metadata": {},
     "output_type": "execute_result"
    }
   ],
   "source": [
    "'안녕 반가워 과제는 했니?'.split()"
   ]
  },
  {
   "cell_type": "code",
   "execution_count": 34,
   "id": "ccd7aef9-178f-4c81-8dac-c14e118f59c8",
   "metadata": {},
   "outputs": [
    {
     "data": {
      "text/plain": [
       "['홍길동', ' 장준혁', ' 임요환', ' 페이커']"
      ]
     },
     "execution_count": 34,
     "metadata": {},
     "output_type": "execute_result"
    }
   ],
   "source": [
    "'홍길동, 장준혁, 임요환, 페이커'.split(',')"
   ]
  },
  {
   "cell_type": "code",
   "execution_count": 35,
   "id": "4630e388-660d-4c11-a1ea-ab9924304e29",
   "metadata": {},
   "outputs": [],
   "source": [
    "df = ['홍길동, 장준혁, 임요환, 페이커']"
   ]
  },
  {
   "cell_type": "code",
   "execution_count": 36,
   "id": "876f394d-efec-475f-9c90-e81eaceb277a",
   "metadata": {},
   "outputs": [
    {
     "data": {
      "text/plain": [
       "['홍길동, 장준혁, 임요환, 페이커']"
      ]
     },
     "execution_count": 36,
     "metadata": {},
     "output_type": "execute_result"
    }
   ],
   "source": [
    "df"
   ]
  },
  {
   "cell_type": "code",
   "execution_count": 37,
   "id": "b9075921-60fc-424d-a8c8-3df5d8f13d81",
   "metadata": {},
   "outputs": [
    {
     "name": "stdout",
     "output_type": "stream",
     "text": [
      "홍길동, 장준혁, 임요환, 페이커\n"
     ]
    }
   ],
   "source": [
    "for i in df:\n",
    "    print(i)"
   ]
  },
  {
   "cell_type": "markdown",
   "id": "23314d0f-cc60-4368-af6a-a0c0e26ea389",
   "metadata": {},
   "source": [
    "### 문자열을 합치는 것 list 연결\n",
    "- join(list) 값을 연결해 준다."
   ]
  },
  {
   "cell_type": "code",
   "execution_count": 4,
   "id": "7835e7d9-7e08-4a8e-880c-71ab93bcc9ba",
   "metadata": {},
   "outputs": [
    {
     "data": {
      "text/plain": [
       "'홍길동, 장준혁, 임요환, 페이커'"
      ]
     },
     "execution_count": 4,
     "metadata": {},
     "output_type": "execute_result"
    }
   ],
   "source": [
    "''.join(['홍길동, 장준혁, 임요환, 페이커'])"
   ]
  },
  {
   "cell_type": "code",
   "execution_count": 5,
   "id": "6f9938ca-0d96-4d37-a919-8e703b950cec",
   "metadata": {},
   "outputs": [
    {
     "data": {
      "text/plain": [
       "'홍길동, 장준혁, 임요환, 페이커'"
      ]
     },
     "execution_count": 5,
     "metadata": {},
     "output_type": "execute_result"
    }
   ],
   "source": [
    "' '.join(['홍길동, 장준혁, 임요환, 페이커'])"
   ]
  },
  {
   "cell_type": "code",
   "execution_count": 6,
   "id": "80c1b13a-df85-4b57-8dda-841740a686c6",
   "metadata": {},
   "outputs": [],
   "source": [
    "df = ','.join(['홍길동, 장준혁, 임요환, 페이커'])"
   ]
  },
  {
   "cell_type": "code",
   "execution_count": 7,
   "id": "f34e35a0-5a12-4afe-9618-8b3060883663",
   "metadata": {},
   "outputs": [
    {
     "data": {
      "text/plain": [
       "'홍길동, 장준혁, 임요환, 페이커'"
      ]
     },
     "execution_count": 7,
     "metadata": {},
     "output_type": "execute_result"
    }
   ],
   "source": [
    "df"
   ]
  },
  {
   "cell_type": "markdown",
   "id": "00e6c9b1-32a8-4803-be11-1331bfa28774",
   "metadata": {},
   "source": [
    "- 대소문자 바꾸기\n",
    "- upper()\n",
    "- lower()"
   ]
  },
  {
   "cell_type": "code",
   "execution_count": 44,
   "id": "2ddda8f4-bb77-47e3-9662-066f1363fcf5",
   "metadata": {},
   "outputs": [],
   "source": [
    "a = 'python'.upper()"
   ]
  },
  {
   "cell_type": "code",
   "execution_count": 45,
   "id": "9d54658a-0b48-40d2-83bf-fa9f3e71dbe2",
   "metadata": {},
   "outputs": [
    {
     "data": {
      "text/plain": [
       "'python'"
      ]
     },
     "execution_count": 45,
     "metadata": {},
     "output_type": "execute_result"
    }
   ],
   "source": [
    "a.lower()"
   ]
  },
  {
   "cell_type": "markdown",
   "id": "d6bfa9c9-3bde-450e-87d2-395bf5018660",
   "metadata": {},
   "source": [
    "- 공백삭제\n",
    "- strip()\n",
    "- lstrip(), rstrip()\n",
    "- 문자열에 연속된 모든 공백 삭제 l left, r right"
   ]
  },
  {
   "cell_type": "code",
   "execution_count": 46,
   "id": "81e5a073-6751-49c9-b0b1-647a7153b6fa",
   "metadata": {},
   "outputs": [
    {
     "data": {
      "text/plain": [
       "'hello?       '"
      ]
     },
     "execution_count": 46,
     "metadata": {},
     "output_type": "execute_result"
    }
   ],
   "source": [
    "'             hello?       '.lstrip()"
   ]
  },
  {
   "cell_type": "code",
   "execution_count": 47,
   "id": "c73beb32-a360-44e0-a8d8-9bd320bd8c5b",
   "metadata": {},
   "outputs": [
    {
     "data": {
      "text/plain": [
       "'            hi?'"
      ]
     },
     "execution_count": 47,
     "metadata": {},
     "output_type": "execute_result"
    }
   ],
   "source": [
    "'            hi?        '.rstrip()"
   ]
  },
  {
   "cell_type": "code",
   "execution_count": 48,
   "id": "88d81117-538a-4a60-bc08-78528e95f754",
   "metadata": {},
   "outputs": [
    {
     "data": {
      "text/plain": [
       "'wow'"
      ]
     },
     "execution_count": 48,
     "metadata": {},
     "output_type": "execute_result"
    }
   ],
   "source": [
    "'        wow         '.strip()"
   ]
  },
  {
   "cell_type": "markdown",
   "id": "6d2ea5ff-9a2b-4772-bd3a-6839ced72ec7",
   "metadata": {},
   "source": [
    "- 특정 문자 삭제하는 법"
   ]
  },
  {
   "cell_type": "code",
   "execution_count": 50,
   "id": "1860cf0a-860e-4ff4-acef-8d1cf155f84a",
   "metadata": {},
   "outputs": [
    {
     "data": {
      "text/plain": [
       "'Hello?             '"
      ]
     },
     "execution_count": 50,
     "metadata": {},
     "output_type": "execute_result"
    }
   ],
   "source": [
    "',,,Hello?             '.strip(',') # strip내 지우고 싶은 문자를 넣으면 지워진다."
   ]
  },
  {
   "cell_type": "markdown",
   "id": "1a979f5d-8d5b-47e7-86ea-7f0c80e9f7cf",
   "metadata": {},
   "source": [
    "- 정렬\n",
    "- 문자열에 공백을 넣어서 정렬하는 법\n",
    "- just, center\n",
    "- ljust, rjust"
   ]
  },
  {
   "cell_type": "code",
   "execution_count": 51,
   "id": "ee6f10d7-2b85-4743-8f57-e9fdc5a5aa64",
   "metadata": {},
   "outputs": [
    {
     "data": {
      "text/plain": [
       "'안녕하세요     '"
      ]
     },
     "execution_count": 55,
     "metadata": {},
     "output_type": "execute_result"
    }
   ],
   "source": [
    "'안녕하세요'.ljust(10) #문자열의 길이"
   ]
  },
  {
   "cell_type": "code",
   "execution_count": 54,
   "id": "abe3e660-0948-4c52-b40d-d88fcbbe0a97",
   "metadata": {},
   "outputs": [
    {
     "data": {
      "text/plain": [
       "'     안녕하세요'"
      ]
     },
     "execution_count": 56,
     "metadata": {},
     "output_type": "execute_result"
    }
   ],
   "source": [
    "'안녕하세요'.rjust(10) #문자열의 길이"
   ]
  },
  {
   "cell_type": "code",
   "execution_count": 53,
   "id": "1f6f6333-8c53-4931-8dc6-ce2137b49c78",
   "metadata": {},
   "outputs": [
    {
     "data": {
      "text/plain": [
       "'  안녕하세요   '"
      ]
     },
     "execution_count": 57,
     "metadata": {},
     "output_type": "execute_result"
    }
   ],
   "source": [
    "'안녕하세요'.center(10)"
   ]
  },
  {
   "cell_type": "markdown",
   "id": "d8c68b07-0490-44c4-ac46-b702c1ecbf93",
   "metadata": {},
   "source": [
    "- 문자열 위치 찾기\n",
    "- fine('찾을문자열')\n",
    "- 문자열이 없으면 -1 반환, 문자열이 있으면 인덱스 변환"
   ]
  },
  {
   "cell_type": "code",
   "execution_count": 62,
   "id": "951df44f-2d06-424e-928e-ed9293d5ee8a",
   "metadata": {},
   "outputs": [
    {
     "data": {
      "text/plain": [
       "0"
      ]
     },
     "execution_count": 62,
     "metadata": {},
     "output_type": "execute_result"
    }
   ],
   "source": [
    "'abb abbc'.find('ab') # 가장 먼저 동일한 값이 있으면 찾고 그 뒤는 안본다!"
   ]
  },
  {
   "cell_type": "code",
   "execution_count": 65,
   "id": "bd20ce64-b8ff-407f-a9e5-e5ca3a613d4f",
   "metadata": {},
   "outputs": [
    {
     "data": {
      "text/plain": [
       "-1"
      ]
     },
     "execution_count": 65,
     "metadata": {},
     "output_type": "execute_result"
    }
   ],
   "source": [
    "'abb abbc'.find('x') # 없는 값"
   ]
  },
  {
   "cell_type": "markdown",
   "id": "fc187bc2-5c44-458c-9337-3c080e862185",
   "metadata": {},
   "source": [
    "index로도 찾을 수 있다!"
   ]
  },
  {
   "cell_type": "code",
   "execution_count": 66,
   "id": "0ca6ca0b-2467-447b-aeaa-bfe6d8e41376",
   "metadata": {},
   "outputs": [
    {
     "data": {
      "text/plain": [
       "0"
      ]
     },
     "execution_count": 66,
     "metadata": {},
     "output_type": "execute_result"
    }
   ],
   "source": [
    "'abb abbc'.index('abb')"
   ]
  },
  {
   "cell_type": "code",
   "execution_count": 67,
   "id": "a75dea39-9f70-4009-8f86-8a3ae97c0432",
   "metadata": {},
   "outputs": [
    {
     "data": {
      "text/plain": [
       "7"
      ]
     },
     "execution_count": 67,
     "metadata": {},
     "output_type": "execute_result"
    }
   ],
   "source": [
    "'abb abbc'.index('c')"
   ]
  },
  {
   "cell_type": "markdown",
   "id": "3428500a-b495-4d14-9807-4dfceab019d5",
   "metadata": {},
   "source": [
    "- 문자열의 갯수도 셀 수 있음\n",
    "- count('문자열')"
   ]
  },
  {
   "cell_type": "code",
   "execution_count": 68,
   "id": "92f95f2f-3edd-462b-a4e9-1b24b3c45d95",
   "metadata": {},
   "outputs": [
    {
     "data": {
      "text/plain": [
       "4"
      ]
     },
     "execution_count": 68,
     "metadata": {},
     "output_type": "execute_result"
    }
   ],
   "source": [
    "'ab ab ab abc'.count('ab')"
   ]
  },
  {
   "cell_type": "code",
   "execution_count": 69,
   "id": "5b16bffa-8906-419b-8736-e1dad921180a",
   "metadata": {},
   "outputs": [
    {
     "data": {
      "text/plain": [
       "1"
      ]
     },
     "execution_count": 69,
     "metadata": {},
     "output_type": "execute_result"
    }
   ],
   "source": [
    "'ab ab ab abc'.count('c')"
   ]
  },
  {
   "cell_type": "markdown",
   "id": "af77be64-cbda-41d7-bc54-b27a61bdc5d9",
   "metadata": {},
   "source": [
    "### 문자열 서식 지정자와 포매팅\n",
    "- 문자열 중에 반복되는 문자가 있을 수 있다.\n",
    "- 예를 들어 5기 문법기초반 김영희의 벌점은 0점이다.\n",
    "- 5기 문법기초반 ooo의 벌점은 ''점이다."
   ]
  },
  {
   "cell_type": "markdown",
   "id": "ae4802bd-549b-4930-9838-cc1953b9c694",
   "metadata": {},
   "source": [
    "- 서식 지정자로 문자열 넣기\n",
    "- '%s' % ' 문자열'"
   ]
  },
  {
   "cell_type": "code",
   "execution_count": 70,
   "id": "5fe91251-73fb-42f5-9cd2-5c312524342f",
   "metadata": {},
   "outputs": [
    {
     "data": {
      "text/plain": [
       "'5기 파이썬문법기초반 김영희의 벌점은 없다.'"
      ]
     },
     "execution_count": 70,
     "metadata": {},
     "output_type": "execute_result"
    }
   ],
   "source": [
    "'5기 파이썬문법기초반 %s의 벌점은 없다.' % '김영희'"
   ]
  },
  {
   "cell_type": "code",
   "execution_count": 73,
   "id": "b1f3bc22-89d7-4264-9661-a22305e44863",
   "metadata": {},
   "outputs": [
    {
     "data": {
      "text/plain": [
       "'5기 파이썬문법기초반 김철수 의 벌점은 없다.'"
      ]
     },
     "execution_count": 73,
     "metadata": {},
     "output_type": "execute_result"
    }
   ],
   "source": [
    "'5기 파이썬문법기초반 %s 의 벌점은 없다.' % '김철수'"
   ]
  },
  {
   "cell_type": "code",
   "execution_count": 74,
   "id": "f1903467-6a63-4646-9a34-92ff95cc6989",
   "metadata": {},
   "outputs": [
    {
     "data": {
      "text/plain": [
       "'5기 파이썬문법기초반 김영희 의 벌점은 없다.'"
      ]
     },
     "execution_count": 74,
     "metadata": {},
     "output_type": "execute_result"
    }
   ],
   "source": [
    "#변수 저장도 가능하다\n",
    "name = '김영희'\n",
    "'5기 파이썬문법기초반 %s 의 벌점은 없다.' % name"
   ]
  },
  {
   "cell_type": "markdown",
   "id": "77da2e96-fece-449e-abaf-9fd9645d3567",
   "metadata": {},
   "source": [
    "- 숫자도 가능하다.\n",
    "\n",
    "- '%d' % 숫자\n",
    "- '%f' % 숫자\n",
    "- '%f' % 숫자(실수)\n",
    "- '%.자릿수f' % 숫자(내가 원하는 소숫점 자리 fixed point 가능)"
   ]
  },
  {
   "cell_type": "code",
   "execution_count": 77,
   "id": "5204ef02-1823-419e-b06d-6b8845ae8291",
   "metadata": {},
   "outputs": [
    {
     "data": {
      "text/plain": [
       "'5기 파이썬문법기초반 김영희의 벌점은 40점이다.'"
      ]
     },
     "execution_count": 77,
     "metadata": {},
     "output_type": "execute_result"
    }
   ],
   "source": [
    "'5기 파이썬문법기초반 김영희의 벌점은 %d점이다.' % 40"
   ]
  },
  {
   "cell_type": "code",
   "execution_count": 81,
   "id": "d3b00f95-c2c0-41d4-be48-31f94169eabf",
   "metadata": {},
   "outputs": [
    {
     "data": {
      "text/plain": [
       "'2.44'"
      ]
     },
     "execution_count": 81,
     "metadata": {},
     "output_type": "execute_result"
    }
   ],
   "source": [
    "'%.2f' % 2.4444"
   ]
  },
  {
   "cell_type": "markdown",
   "id": "8a7f6e73-404c-47d4-b547-fba178ed3541",
   "metadata": {},
   "source": [
    "### 서식 지정자를 여러개 넣는 경우!\n",
    "- '%d %s' % (숫자, '문자열')"
   ]
  },
  {
   "cell_type": "code",
   "execution_count": 82,
   "id": "35c97d76-0ee6-4f01-82f2-0e9f114238e2",
   "metadata": {},
   "outputs": [
    {
     "data": {
      "text/plain": [
       "'5기 파이썬문법기초반 김영희 의 벌점은 50이다.'"
      ]
     },
     "execution_count": 82,
     "metadata": {},
     "output_type": "execute_result"
    }
   ],
   "source": [
    "'5기 파이썬문법기초반 %s 의 벌점은 %d이다.' % ('김영희',50)"
   ]
  },
  {
   "cell_type": "markdown",
   "id": "12a2e40c-d3c0-448e-abae-5199113588da",
   "metadata": {},
   "source": [
    "### format\n",
    "- 서식지정자가 귀찮다. 문자열 formating을 이용해서 쉽게 가능\n",
    "- 중괄호 사용\n",
    "- '{index}'.format(값)"
   ]
  },
  {
   "cell_type": "code",
   "execution_count": 83,
   "id": "96f2b11e-c04d-4980-9a96-8c5c08867364",
   "metadata": {},
   "outputs": [
    {
     "data": {
      "text/plain": [
       "'5기 파이썬문법기초반 기영희 의 벌점은 0점이다.'"
      ]
     },
     "execution_count": 83,
     "metadata": {},
     "output_type": "execute_result"
    }
   ],
   "source": [
    "'5기 파이썬문법기초반 {0} 의 벌점은 0점이다.'.format('기영희')"
   ]
  },
  {
   "cell_type": "code",
   "execution_count": 85,
   "id": "1f1d9343-e63d-4427-b9a1-f29f2dcfd563",
   "metadata": {},
   "outputs": [
    {
     "data": {
      "text/plain": [
       "'5기 파이썬문법기초반 김영희의 벌점은 0이다.'"
      ]
     },
     "execution_count": 85,
     "metadata": {},
     "output_type": "execute_result"
    }
   ],
   "source": [
    "'5기 파이썬문법기초반 {0}의 벌점은 {1}이다.'.format('김영희',0)"
   ]
  },
  {
   "cell_type": "code",
   "execution_count": 86,
   "id": "b723a9ec-5282-4246-b4d8-aa9ca33d05d0",
   "metadata": {},
   "outputs": [
    {
     "data": {
      "text/plain": [
       "'5기 파이썬문법기초반 김영희의 벌점은 0이다 너는?.'"
      ]
     },
     "execution_count": 86,
     "metadata": {},
     "output_type": "execute_result"
    }
   ],
   "source": [
    "'5기 파이썬문법기초반 {0}의 벌점은 {1}이다 {2}.'.format('김영희',0,'너는?')"
   ]
  },
  {
   "cell_type": "code",
   "execution_count": 87,
   "id": "47405aff-0099-409e-9c24-177562e255dd",
   "metadata": {},
   "outputs": [
    {
     "data": {
      "text/plain": [
       "'5기 파이썬문법기초반 김영희의 벌점은 0이다 너는?너는?너는?너는?너는?너는?너는?.'"
      ]
     },
     "execution_count": 87,
     "metadata": {},
     "output_type": "execute_result"
    }
   ],
   "source": [
    "'5기 파이썬문법기초반 {0}의 벌점은 {1}이다 {2}{2}{2}{2}{2}{2}{2}.'.format('김영희',0,'너는?')"
   ]
  },
  {
   "cell_type": "markdown",
   "id": "9981750d-a38d-443e-8158-1bd116313127",
   "metadata": {},
   "source": [
    "## 필수적으로 복습과제 실시\n",
    "- 예시를 간단하게 만드는 게 아니라 \n",
    "- 소셜 data, 댓글 data 등 data를 가지고 와서 하나의 문자열에 다양한 formating을 적용하는 것과 위에 배운 문자열 함수 응용 실시\n",
    "- 긁어와서라도 꼭 문자열 함수 필수 응용 실시"
   ]
  },
  {
   "cell_type": "code",
   "execution_count": null,
   "id": "90b32777-e427-4020-8607-005c5e2fd5bb",
   "metadata": {},
   "outputs": [],
   "source": []
  }
 ],
 "metadata": {
  "kernelspec": {
   "display_name": "Python 3 (ipykernel)",
   "language": "python",
   "name": "python3"
  },
  "language_info": {
   "codemirror_mode": {
    "name": "ipython",
    "version": 3
   },
   "file_extension": ".py",
   "mimetype": "text/x-python",
   "name": "python",
   "nbconvert_exporter": "python",
   "pygments_lexer": "ipython3",
   "version": "3.9.12"
  }
 },
 "nbformat": 4,
 "nbformat_minor": 5
}
