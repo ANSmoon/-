{
 "cells": [
  {
   "cell_type": "markdown",
   "id": "c00913c9-1802-493c-85f4-0a1fb75944d8",
   "metadata": {},
   "source": [
    "### 특정 문자 범위에 포함되지 않는지 판단하기\n",
    "\n",
    "- 특정 문자 범위에 포함되지 않는지 판단하기\n",
    "- [^범위]*\n",
    "- [^범위]+"
   ]
  },
  {
   "cell_type": "code",
   "execution_count": 9,
   "id": "3c38442c-4945-4ba8-8a03-60d674d3eb81",
   "metadata": {},
   "outputs": [],
   "source": [
    "import re"
   ]
  },
  {
   "cell_type": "code",
   "execution_count": 10,
   "id": "1636b5d8-ff72-470e-a0b2-e5d13e829dde",
   "metadata": {},
   "outputs": [],
   "source": [
    "re.match('[^a-zA-Z]+', 'Python')"
   ]
  },
  {
   "cell_type": "code",
   "execution_count": 11,
   "id": "be3675ba-4b8c-4193-9f74-8e5f4744f083",
   "metadata": {},
   "outputs": [],
   "source": [
    "re.match('[a-zA-Z]+','123123')"
   ]
  },
  {
   "cell_type": "markdown",
   "id": "be9385fc-c3dd-4bf4-98ec-b34e8d8555a8",
   "metadata": {},
   "source": [
    "- 특수문자\n",
    "- \\특수문자 (원하는 특수문자)"
   ]
  },
  {
   "cell_type": "code",
   "execution_count": 14,
   "id": "509dfe94-62c2-4d5c-9320-cc0982941cd8",
   "metadata": {},
   "outputs": [
    {
     "data": {
      "text/plain": [
       "<re.Match object; span=(10, 14), match='????'>"
      ]
     },
     "execution_count": 14,
     "metadata": {},
     "output_type": "execute_result"
    }
   ],
   "source": [
    "re.search('\\?+','너 왜 과제를 안해????')"
   ]
  },
  {
   "cell_type": "code",
   "execution_count": 16,
   "id": "65831dcd-db40-49be-8cd6-717eccb00ea9",
   "metadata": {},
   "outputs": [
    {
     "data": {
      "text/plain": [
       "<re.Match object; span=(10, 25), match='!!!!!!!!!!!!!!!'>"
      ]
     },
     "execution_count": 16,
     "metadata": {},
     "output_type": "execute_result"
    }
   ],
   "source": [
    "re.search('\\!+','너일머ㅣ날어ㅣㅁㄴㄹ!!!!!!!!!!!!!!!')"
   ]
  },
  {
   "cell_type": "code",
   "execution_count": 17,
   "id": "280b9374-29df-40b5-9580-f26a36490810",
   "metadata": {},
   "outputs": [
    {
     "data": {
      "text/plain": [
       "<re.Match object; span=(10, 16), match='!!!!!!'>"
      ]
     },
     "execution_count": 17,
     "metadata": {},
     "output_type": "execute_result"
    }
   ],
   "source": [
    "re.search('\\!+','너일머ㅣ날어ㅣㅁㄴㄹ!!!!!!?????!!!!!!!!!')"
   ]
  },
  {
   "cell_type": "code",
   "execution_count": 38,
   "id": "53d43fb2-8fe6-429f-bfef-33aaf29f7299",
   "metadata": {},
   "outputs": [
    {
     "data": {
      "text/plain": [
       "<re.Match object; span=(1, 2), match=' '>"
      ]
     },
     "execution_count": 38,
     "metadata": {},
     "output_type": "execute_result"
    }
   ],
   "source": [
    "re.search('[^a-zA-Z0-9가-힣]+','왜 제출을 안해 ?!?!?!?!?!')"
   ]
  },
  {
   "cell_type": "markdown",
   "id": "d412b1cc-c59a-4032-b0df-bfa14d26d8ef",
   "metadata": {},
   "source": [
    "- \\d[0-9]\n",
    "- \\D[^0-9]\n",
    "- \\w[a-zA-Z0-9_]\n",
    "- \\W[^a-zA-z0-9_]"
   ]
  },
  {
   "cell_type": "markdown",
   "id": "7800c2ce-19c5-4115-9b1b-4e6da27b29bd",
   "metadata": {},
   "source": [
    "### 공백처리\n",
    "- ' ', \\s \\S 다 가능[찾아보기]\n",
    "- \\s 공백 외에도 탭도 가능\n",
    "- \\S\n",
    "- 어떤 공백이 있는지 찾아보기\n",
    "\n",
    "### 필수과제1.\n",
    "- \\s\n",
    "- \\S\n",
    "- 공백 차이를 간단하게 code와 주석으로 정리해서 작성"
   ]
  },
  {
   "cell_type": "code",
   "execution_count": 21,
   "id": "88a1702d-00e0-4b24-96a0-25966ef223bd",
   "metadata": {},
   "outputs": [
    {
     "data": {
      "text/plain": [
       "<re.Match object; span=(0, 12), match='Hello Python'>"
      ]
     },
     "execution_count": 21,
     "metadata": {},
     "output_type": "execute_result"
    }
   ],
   "source": [
    "re.match('[\\w ]+', 'Hello Python')"
   ]
  },
  {
   "cell_type": "code",
   "execution_count": 22,
   "id": "29c54e24-7ac2-425a-9c17-84402c01509f",
   "metadata": {},
   "outputs": [
    {
     "data": {
      "text/plain": [
       "<re.Match object; span=(0, 12), match='Hello Python'>"
      ]
     },
     "execution_count": 22,
     "metadata": {},
     "output_type": "execute_result"
    }
   ],
   "source": [
    "re.match('[\\w\\s]+', 'Hello Python')"
   ]
  },
  {
   "cell_type": "code",
   "execution_count": 23,
   "id": "9cea4c6c-a26a-4cdc-ba53-ff252d7d02fc",
   "metadata": {},
   "outputs": [
    {
     "data": {
      "text/plain": [
       "<re.Match object; span=(0, 5), match='Hello'>"
      ]
     },
     "execution_count": 23,
     "metadata": {},
     "output_type": "execute_result"
    }
   ],
   "source": [
    "re.match('[\\w\\S]+', 'Hello Python')"
   ]
  },
  {
   "cell_type": "markdown",
   "id": "a47e9b73-caec-4505-b033-347f750f5679",
   "metadata": {},
   "source": [
    "### 그룹 사용하기\n",
    "\n",
    "- (정규표현식)(정규표현식)\n",
    "- group을 이용해서 사용\n",
    "- 변수.group(number) 값을 가지고 온다"
   ]
  },
  {
   "cell_type": "code",
   "execution_count": 31,
   "id": "4bea37e2-b6b9-492d-a1e8-49faa6bdc941",
   "metadata": {},
   "outputs": [],
   "source": [
    "re_m = re.match('([0-9]+) ([가-힣]+)','18 손흥민')"
   ]
  },
  {
   "cell_type": "code",
   "execution_count": 32,
   "id": "b5c010f5-901f-460b-85c5-3321b358c375",
   "metadata": {},
   "outputs": [
    {
     "data": {
      "text/plain": [
       "'18 손흥민'"
      ]
     },
     "execution_count": 32,
     "metadata": {},
     "output_type": "execute_result"
    }
   ],
   "source": [
    "re_m.group(0)"
   ]
  },
  {
   "cell_type": "code",
   "execution_count": 33,
   "id": "930377ef-e226-4bd6-bea7-2b599f6b2269",
   "metadata": {},
   "outputs": [
    {
     "data": {
      "text/plain": [
       "'손흥민'"
      ]
     },
     "execution_count": 33,
     "metadata": {},
     "output_type": "execute_result"
    }
   ],
   "source": [
    "re_m.group(2)"
   ]
  },
  {
   "cell_type": "code",
   "execution_count": 34,
   "id": "94b671f3-4a7e-4d90-9274-791f21cff748",
   "metadata": {},
   "outputs": [
    {
     "data": {
      "text/plain": [
       "'18'"
      ]
     },
     "execution_count": 34,
     "metadata": {},
     "output_type": "execute_result"
    }
   ],
   "source": [
    "re_m.group(1)"
   ]
  },
  {
   "cell_type": "code",
   "execution_count": 35,
   "id": "2dc4f28d-59a5-461a-8091-48c6b7448ebd",
   "metadata": {},
   "outputs": [
    {
     "data": {
      "text/plain": [
       "'18 손흥민'"
      ]
     },
     "execution_count": 35,
     "metadata": {},
     "output_type": "execute_result"
    }
   ],
   "source": [
    "re_m.group()"
   ]
  },
  {
   "cell_type": "markdown",
   "id": "c509acc6-ec30-4e08-bf46-55ed78a9c0c9",
   "metadata": {},
   "source": [
    "- findall 함수\n",
    "- 패턴에 매칭된 문자열을 리스트로 반환\n",
    "\n",
    "- re.findall('패턴', '문자열')"
   ]
  },
  {
   "cell_type": "code",
   "execution_count": 36,
   "id": "6117a0be-8fc2-4692-bf01-9133bf886131",
   "metadata": {},
   "outputs": [],
   "source": [
    "df = re.findall('[a-z]+','a b c d e f 123123 g h i j 123123 k')"
   ]
  },
  {
   "cell_type": "code",
   "execution_count": 37,
   "id": "dde309c7-5e26-4a2a-a273-e9951883b164",
   "metadata": {},
   "outputs": [
    {
     "data": {
      "text/plain": [
       "['a', 'b', 'c', 'd', 'e', 'f', 'g', 'h', 'i', 'j', 'k']"
      ]
     },
     "execution_count": 37,
     "metadata": {},
     "output_type": "execute_result"
    }
   ],
   "source": [
    "df"
   ]
  },
  {
   "cell_type": "markdown",
   "id": "d3920128-4486-4e5c-a669-ebfdff3a129c",
   "metadata": {},
   "source": [
    "- re.sub('패턴', '바꿀 문자열', '문자열', '바꿀 횟수')\n",
    "- 문자열 바꾸는 함수"
   ]
  },
  {
   "cell_type": "code",
   "execution_count": 39,
   "id": "d7fff5e3-1242-4055-b1c5-9ad2f479fdc2",
   "metadata": {},
   "outputs": [
    {
     "data": {
      "text/plain": [
       "'Hi Hi c d e f'"
      ]
     },
     "execution_count": 39,
     "metadata": {},
     "output_type": "execute_result"
    }
   ],
   "source": [
    "re.sub('a|b', 'Hi', 'a b c d e f')"
   ]
  },
  {
   "cell_type": "code",
   "execution_count": 40,
   "id": "edadeb08-9cf7-4d74-ad1a-5a282ee9cd6f",
   "metadata": {},
   "outputs": [
    {
     "data": {
      "text/plain": [
       "'Hi Hi Hi Hi Hi Hi'"
      ]
     },
     "execution_count": 40,
     "metadata": {},
     "output_type": "execute_result"
    }
   ],
   "source": [
    "re.sub('[0-9]+', 'Hi', '1 2 3 4 5 6')"
   ]
  },
  {
   "cell_type": "markdown",
   "id": "f0f191e5-d659-4ca1-94e7-b733bad3a168",
   "metadata": {},
   "source": [
    "### 모듈과 패키지"
   ]
  },
  {
   "cell_type": "code",
   "execution_count": 41,
   "id": "b9a8f799-7332-4c39-846f-9407232643d9",
   "metadata": {},
   "outputs": [],
   "source": [
    "import re #module, package, library를 불러온다.\n",
    "# 기존에 만들어 놓은 package를 가져온다."
   ]
  },
  {
   "cell_type": "markdown",
   "id": "e1685a00-d109-404b-a37a-ff443e3a16c3",
   "metadata": {},
   "source": [
    "- import module\n",
    "- import module1, module2\n",
    "\n",
    "- module : 특정 기능을 만들어 놓은 파일 import re 검색해서 보면 py파일에 만들어진 code가 있다.\n",
    "- package : 특정 기능과 관련한 여러 module을 묶은 것\n",
    "- library : python에서 기본으로 설치된 module이 package 내장 함수"
   ]
  },
  {
   "cell_type": "markdown",
   "id": "65f8651c-c88a-4a1a-82fe-4276e7c564d1",
   "metadata": {},
   "source": [
    "- 수학 or 선형대수 관련된 module을 부르고 싶다."
   ]
  },
  {
   "cell_type": "code",
   "execution_count": 42,
   "id": "cbc881dd-def4-4561-bc2b-b6d45fa77515",
   "metadata": {},
   "outputs": [],
   "source": [
    "import math"
   ]
  },
  {
   "cell_type": "code",
   "execution_count": 43,
   "id": "924be9d1-bcb9-4e72-88ed-08ad760892d6",
   "metadata": {},
   "outputs": [],
   "source": [
    "import numpy as np #numpy가 길어서 np로 칭한다"
   ]
  },
  {
   "cell_type": "code",
   "execution_count": 44,
   "id": "f36524a6-d208-4eb6-9c27-7b684f81671e",
   "metadata": {},
   "outputs": [
    {
     "data": {
      "text/plain": [
       "3.141592653589793"
      ]
     },
     "execution_count": 44,
     "metadata": {},
     "output_type": "execute_result"
    }
   ],
   "source": [
    "#math가 가지고 있는 다양한 변수, 함수들 호출\n",
    "\n",
    "math.pi"
   ]
  },
  {
   "cell_type": "code",
   "execution_count": 45,
   "id": "60754ee1-38ec-4bab-8a00-cae6a2783a1f",
   "metadata": {},
   "outputs": [
    {
     "data": {
      "text/plain": [
       "1.4142135623730951"
      ]
     },
     "execution_count": 45,
     "metadata": {},
     "output_type": "execute_result"
    }
   ],
   "source": [
    "math.sqrt(2.0)"
   ]
  },
  {
   "cell_type": "markdown",
   "id": "c7fd41a9-6391-4418-a911-2cff574d4ca9",
   "metadata": {},
   "source": [
    "- googling을 통해 해당 module에 대한 다양한 사용법 숙지 가능\n",
    "- pandas, numpy들도 잘 정리되어 있다. 사이킷런도 동일"
   ]
  },
  {
   "cell_type": "code",
   "execution_count": 46,
   "id": "45ddc9b5-1627-4f38-b4a5-573b7ac1096c",
   "metadata": {},
   "outputs": [],
   "source": [
    "from math import pi"
   ]
  },
  {
   "cell_type": "code",
   "execution_count": 47,
   "id": "eece0dca-5ce9-4363-a3e6-0d644e6e20ff",
   "metadata": {},
   "outputs": [
    {
     "data": {
      "text/plain": [
       "3.141592653589793"
      ]
     },
     "execution_count": 47,
     "metadata": {},
     "output_type": "execute_result"
    }
   ],
   "source": [
    "math.pi"
   ]
  },
  {
   "cell_type": "markdown",
   "id": "fc684526-56b7-4afe-9ae1-1660e8b8a79a",
   "metadata": {},
   "source": [
    "### pandas를 이용해서 DataFrame을 살펴볼 것"
   ]
  },
  {
   "cell_type": "code",
   "execution_count": 48,
   "id": "a98bfa6f-8a43-4cb8-a0fc-dc00ef026d3d",
   "metadata": {},
   "outputs": [],
   "source": [
    "import pandas as pd"
   ]
  },
  {
   "cell_type": "markdown",
   "id": "829ef241-e8b7-46be-94e3-5cfb39ba855d",
   "metadata": {},
   "source": [
    "### mpg = pd.read_csv('mpg.csv')\n",
    "- 파일이 있을 경우 data를 변환"
   ]
  },
  {
   "cell_type": "code",
   "execution_count": 50,
   "id": "94542a42-3407-48c7-95fb-032e760edf73",
   "metadata": {},
   "outputs": [],
   "source": [
    "fr = pd.DataFrame({'과일':['사과','딸기','바나나','키위'],\n",
    "                   '가격':[100,200,300,400]})"
   ]
  },
  {
   "cell_type": "code",
   "execution_count": 51,
   "id": "91caaa80-cb63-4749-803c-1b1af4a78580",
   "metadata": {},
   "outputs": [
    {
     "data": {
      "text/html": [
       "<div>\n",
       "<style scoped>\n",
       "    .dataframe tbody tr th:only-of-type {\n",
       "        vertical-align: middle;\n",
       "    }\n",
       "\n",
       "    .dataframe tbody tr th {\n",
       "        vertical-align: top;\n",
       "    }\n",
       "\n",
       "    .dataframe thead th {\n",
       "        text-align: right;\n",
       "    }\n",
       "</style>\n",
       "<table border=\"1\" class=\"dataframe\">\n",
       "  <thead>\n",
       "    <tr style=\"text-align: right;\">\n",
       "      <th></th>\n",
       "      <th>과일</th>\n",
       "      <th>가격</th>\n",
       "    </tr>\n",
       "  </thead>\n",
       "  <tbody>\n",
       "    <tr>\n",
       "      <th>0</th>\n",
       "      <td>사과</td>\n",
       "      <td>100</td>\n",
       "    </tr>\n",
       "    <tr>\n",
       "      <th>1</th>\n",
       "      <td>딸기</td>\n",
       "      <td>200</td>\n",
       "    </tr>\n",
       "    <tr>\n",
       "      <th>2</th>\n",
       "      <td>바나나</td>\n",
       "      <td>300</td>\n",
       "    </tr>\n",
       "    <tr>\n",
       "      <th>3</th>\n",
       "      <td>키위</td>\n",
       "      <td>400</td>\n",
       "    </tr>\n",
       "  </tbody>\n",
       "</table>\n",
       "</div>"
      ],
      "text/plain": [
       "    과일   가격\n",
       "0   사과  100\n",
       "1   딸기  200\n",
       "2  바나나  300\n",
       "3   키위  400"
      ]
     },
     "execution_count": 51,
     "metadata": {},
     "output_type": "execute_result"
    }
   ],
   "source": [
    "fr"
   ]
  },
  {
   "cell_type": "code",
   "execution_count": 78,
   "id": "ab58db30-b438-4f41-8751-423e7a6faa9a",
   "metadata": {},
   "outputs": [
    {
     "name": "stdout",
     "output_type": "stream",
     "text": [
      "과일\n",
      "가격\n"
     ]
    }
   ],
   "source": [
    "for i in fr:\n",
    "    print(i)"
   ]
  },
  {
   "cell_type": "code",
   "execution_count": 96,
   "id": "f66613b5-ae29-40b7-bcfe-82c6fc7676a5",
   "metadata": {},
   "outputs": [
    {
     "name": "stdout",
     "output_type": "stream",
     "text": [
      "사과\n",
      "딸기\n",
      "바나나\n",
      "키위\n",
      "100\n",
      "200\n",
      "300\n",
      "400\n"
     ]
    }
   ],
   "source": [
    "for i in fr.과일:\n",
    "    print(i)\n",
    "    \n",
    "for i in fr.가격:\n",
    "    print(i)"
   ]
  },
  {
   "cell_type": "code",
   "execution_count": 75,
   "id": "f9fe6338-7c1d-4cd2-aac1-ce2625ef547b",
   "metadata": {},
   "outputs": [
    {
     "name": "stdout",
     "output_type": "stream",
     "text": [
      "과일     사과\n",
      "가격    100\n",
      "Name: 0, dtype: object\n",
      "과일     딸기\n",
      "가격    200\n",
      "Name: 1, dtype: object\n",
      "과일    바나나\n",
      "가격    300\n",
      "Name: 2, dtype: object\n",
      "과일     키위\n",
      "가격    400\n",
      "Name: 3, dtype: object\n"
     ]
    }
   ],
   "source": [
    "for i in range(len(fr)):\n",
    "    print(fr.iloc[i])"
   ]
  },
  {
   "cell_type": "code",
   "execution_count": 76,
   "id": "1a352c69-1212-4723-8186-bf58ad86ffe9",
   "metadata": {},
   "outputs": [],
   "source": [
    "import string"
   ]
  },
  {
   "cell_type": "code",
   "execution_count": 77,
   "id": "74fced6f-fd0d-45e5-8a63-1aaaefef68a9",
   "metadata": {},
   "outputs": [
    {
     "data": {
      "text/plain": [
       "'!\"#$%&\\'()*+,-./:;<=>?@[\\\\]^_`{|}~'"
      ]
     },
     "execution_count": 77,
     "metadata": {},
     "output_type": "execute_result"
    }
   ],
   "source": [
    "string.punctuation"
   ]
  },
  {
   "cell_type": "markdown",
   "id": "10190103-9405-479b-bd0a-0bcdc750b7de",
   "metadata": {},
   "source": [
    "## 필수과제2\n",
    "- 반복문을 이용해서 spam  data의 text를 전처리 하기\n",
    "- 모든 값들의 특수문자를 제거하고 전처리\n",
    "- 해당 data의 빈도 측정\n",
    "- 해당 text data에 어떤 문자가 가장 많은 빈도를 보이는지 탐색\n",
    "- go 가장 많았다 - 몇개인지?\n",
    "\n",
    "- 어떤 data가 가장 많은 분포를 가지고 있는지 확인\n",
    "- 추가 공부 >>>\n",
    "- 텍스트 분석 : 빈도, 감성, 텍스트 마이닝 머신러닝, 유사도 분석\n",
    "- 빈도와 워드클라우드 정도 만들고 싶은 경우 실시"
   ]
  }
 ],
 "metadata": {
  "kernelspec": {
   "display_name": "Python 3 (ipykernel)",
   "language": "python",
   "name": "python3"
  },
  "language_info": {
   "codemirror_mode": {
    "name": "ipython",
    "version": 3
   },
   "file_extension": ".py",
   "mimetype": "text/x-python",
   "name": "python",
   "nbconvert_exporter": "python",
   "pygments_lexer": "ipython3",
   "version": "3.9.12"
  }
 },
 "nbformat": 4,
 "nbformat_minor": 5
}
