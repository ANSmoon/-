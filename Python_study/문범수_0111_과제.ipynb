{
 "cells": [
  {
   "cell_type": "markdown",
   "id": "7edb1ee4-8379-4cca-8a55-bc4e87e70f46",
   "metadata": {},
   "source": [
    "##### object : 과제(Dictionary 문제 해결)\n",
    "##### Author : 문범수\n",
    "##### date : 2022.1.25"
   ]
  },
  {
   "cell_type": "code",
   "execution_count": 1,
   "id": "7865f93c-0b1a-481c-8e98-f603f7e9c2e3",
   "metadata": {},
   "outputs": [],
   "source": [
    "new_dict = dict(a = 50, b = 70, c = 10)"
   ]
  },
  {
   "cell_type": "code",
   "execution_count": 3,
   "id": "819756d2-5116-40c1-ba50-af5ebea5efc8",
   "metadata": {},
   "outputs": [
    {
     "data": {
      "text/plain": [
       "{'a': 50, 'b': 70, 'c': 10}"
      ]
     },
     "execution_count": 3,
     "metadata": {},
     "output_type": "execute_result"
    }
   ],
   "source": [
    "new_dict\n",
    "#읿반적인 dictionary 사용법"
   ]
  },
  {
   "cell_type": "markdown",
   "id": "eb62d17a-efd5-41ec-8a61-a830e660495b",
   "metadata": {},
   "source": [
    "### Error 발생 원인\n",
    "- KeyError : value에 대항하는 key값이 존재하지 않을 때 발생"
   ]
  },
  {
   "cell_type": "code",
   "execution_count": 19,
   "id": "bb1b4c15-8457-47c7-9d84-f04799f9579b",
   "metadata": {},
   "outputs": [
    {
     "ename": "KeyError",
     "evalue": "'d'",
     "output_type": "error",
     "traceback": [
      "\u001b[1;31m---------------------------------------------------------------------------\u001b[0m",
      "\u001b[1;31mKeyError\u001b[0m                                  Traceback (most recent call last)",
      "Input \u001b[1;32mIn [19]\u001b[0m, in \u001b[0;36m<cell line: 6>\u001b[1;34m()\u001b[0m\n\u001b[0;32m      4\u001b[0m new[\u001b[38;5;124m'\u001b[39m\u001b[38;5;124mb\u001b[39m\u001b[38;5;124m'\u001b[39m]\n\u001b[0;32m      5\u001b[0m new[\u001b[38;5;124m'\u001b[39m\u001b[38;5;124mc\u001b[39m\u001b[38;5;124m'\u001b[39m]\n\u001b[1;32m----> 6\u001b[0m \u001b[43mnew\u001b[49m\u001b[43m[\u001b[49m\u001b[38;5;124;43m'\u001b[39;49m\u001b[38;5;124;43md\u001b[39;49m\u001b[38;5;124;43m'\u001b[39;49m\u001b[43m]\u001b[49m\n",
      "\u001b[1;31mKeyError\u001b[0m: 'd'"
     ]
    }
   ],
   "source": [
    "#예시\n",
    "new = dict(a = 10, b = 20, c = 30)\n",
    "new['a']\n",
    "new['b']\n",
    "new['c']\n",
    "new['d']"
   ]
  },
  {
   "cell_type": "markdown",
   "id": "01b68c51-df3b-40e2-994d-b594c0fac94e",
   "metadata": {},
   "source": [
    "#### 해결방법은 if문을 사용하는 방식과 try-except방법이 존재\n",
    "- if"
   ]
  },
  {
   "cell_type": "code",
   "execution_count": 41,
   "id": "b6eb4c3d-6ad9-4367-a37f-bdebc9a9da6c",
   "metadata": {},
   "outputs": [
    {
     "data": {
      "text/plain": [
       "([1, 2, 3, 1, 4, 1, 2], {})"
      ]
     },
     "execution_count": 41,
     "metadata": {},
     "output_type": "execute_result"
    }
   ],
   "source": [
    "score_list = [1, 2, 3, 1, 4 , 1, 2]\n",
    "dic = {}\n",
    "score_list, dic"
   ]
  },
  {
   "cell_type": "code",
   "execution_count": 39,
   "id": "4bdb614f-cdc8-4aa2-9dea-98e300387524",
   "metadata": {},
   "outputs": [
    {
     "name": "stdout",
     "output_type": "stream",
     "text": [
      "{'a': 4, 'b': 2, 'c': 1}\n"
     ]
    }
   ],
   "source": [
    "for i in score_list:\n",
    "    if i in dic:\n",
    "        dic[i] += 1\n",
    "    else:\n",
    "        dic[i] = 1\n",
    "\n",
    "print(dic)"
   ]
  },
  {
   "cell_type": "markdown",
   "id": "0ade6746-dd47-4d32-b701-1c870d3ae81b",
   "metadata": {},
   "source": [
    "- try-except"
   ]
  },
  {
   "cell_type": "code",
   "execution_count": 40,
   "id": "9c8b8b58-11a6-4a1a-8dfc-b8be23e6d9ca",
   "metadata": {},
   "outputs": [
    {
     "name": "stdout",
     "output_type": "stream",
     "text": [
      "{'a': 5, 'b': 3, 'c': 2}\n"
     ]
    }
   ],
   "source": [
    "for i in score_list:\n",
    "    try:\n",
    "        dic[i] += 1\n",
    "    except:\n",
    "        dic[i] = 1\n",
    "\n",
    "print(dic)"
   ]
  }
 ],
 "metadata": {
  "kernelspec": {
   "display_name": "Python 3 (ipykernel)",
   "language": "python",
   "name": "python3"
  },
  "language_info": {
   "codemirror_mode": {
    "name": "ipython",
    "version": 3
   },
   "file_extension": ".py",
   "mimetype": "text/x-python",
   "name": "python",
   "nbconvert_exporter": "python",
   "pygments_lexer": "ipython3",
   "version": "3.9.12"
  }
 },
 "nbformat": 4,
 "nbformat_minor": 5
}
