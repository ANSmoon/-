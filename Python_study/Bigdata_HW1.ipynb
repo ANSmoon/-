{
 "cells": [
  {
   "cell_type": "code",
   "execution_count": 104,
   "id": "6234130a-8883-453c-95cc-90e8b0dcab47",
   "metadata": {},
   "outputs": [
    {
     "data": {
      "text/html": [
       "<div>\n",
       "<style scoped>\n",
       "    .dataframe tbody tr th:only-of-type {\n",
       "        vertical-align: middle;\n",
       "    }\n",
       "\n",
       "    .dataframe tbody tr th {\n",
       "        vertical-align: top;\n",
       "    }\n",
       "\n",
       "    .dataframe thead th {\n",
       "        text-align: right;\n",
       "    }\n",
       "</style>\n",
       "<table border=\"1\" class=\"dataframe\">\n",
       "  <thead>\n",
       "    <tr style=\"text-align: right;\">\n",
       "      <th></th>\n",
       "      <th>1분기</th>\n",
       "      <th>2분기</th>\n",
       "      <th>3분기</th>\n",
       "      <th>4분기</th>\n",
       "    </tr>\n",
       "  </thead>\n",
       "  <tbody>\n",
       "    <tr>\n",
       "      <th>2015</th>\n",
       "      <td>500</td>\n",
       "      <td>450</td>\n",
       "      <td>520</td>\n",
       "      <td>610</td>\n",
       "    </tr>\n",
       "    <tr>\n",
       "      <th>2016</th>\n",
       "      <td>690</td>\n",
       "      <td>700</td>\n",
       "      <td>820</td>\n",
       "      <td>900</td>\n",
       "    </tr>\n",
       "    <tr>\n",
       "      <th>2017</th>\n",
       "      <td>1100</td>\n",
       "      <td>1030</td>\n",
       "      <td>1200</td>\n",
       "      <td>1380</td>\n",
       "    </tr>\n",
       "    <tr>\n",
       "      <th>2018</th>\n",
       "      <td>1500</td>\n",
       "      <td>1650</td>\n",
       "      <td>1700</td>\n",
       "      <td>1850</td>\n",
       "    </tr>\n",
       "    <tr>\n",
       "      <th>2019</th>\n",
       "      <td>1990</td>\n",
       "      <td>2020</td>\n",
       "      <td>2300</td>\n",
       "      <td>2420</td>\n",
       "    </tr>\n",
       "    <tr>\n",
       "      <th>2020</th>\n",
       "      <td>1020</td>\n",
       "      <td>1600</td>\n",
       "      <td>2200</td>\n",
       "      <td>2550</td>\n",
       "    </tr>\n",
       "  </tbody>\n",
       "</table>\n",
       "</div>"
      ],
      "text/plain": [
       "       1분기   2분기   3분기   4분기\n",
       "2015   500   450   520   610\n",
       "2016   690   700   820   900\n",
       "2017  1100  1030  1200  1380\n",
       "2018  1500  1650  1700  1850\n",
       "2019  1990  2020  2300  2420\n",
       "2020  1020  1600  2200  2550"
      ]
     },
     "execution_count": 104,
     "metadata": {},
     "output_type": "execute_result"
    }
   ],
   "source": [
    "\"\"\"\n",
    "author : 2018114657 문범수\n",
    "file : Bigdata_HW1\n",
    "object : pandas의 dataframe화 및 csv file저장 & 데이터 시각화\n",
    "date : 2022-10-5\n",
    "\"\"\"\n",
    "\n",
    "import pandas as pd\n",
    "\n",
    "df = pd.DataFrame([[500, 450, 520, 610],\n",
    "    [690, 700, 820, 900],\n",
    "    [1100, 1030, 1200, 1380],\n",
    "    [1500, 1650, 1700, 1850],\n",
    "    [1990, 2020, 2300, 2420],\n",
    "    [1020, 1600, 2200, 2550]],\n",
    "    index = [2015, 2016, 2017, 2018, 2019, 2020],\n",
    "    columns = ['1분기', '2분기', '3분기', '4분기']\n",
    ")\n",
    "\n",
    "df"
   ]
  },
  {
   "cell_type": "code",
   "execution_count": 31,
   "id": "4371fd9e-afe0-44f9-9045-b7ba1a5b13ac",
   "metadata": {},
   "outputs": [],
   "source": [
    "df.to_csv(\"test.csv\")"
   ]
  },
  {
   "cell_type": "code",
   "execution_count": 33,
   "id": "fbc2edd3-cc0c-4ddb-9e47-01b125eaedae",
   "metadata": {},
   "outputs": [],
   "source": [
    "import matplotlib\n",
    "\n",
    "import matplotlib.pyplot as plt"
   ]
  },
  {
   "cell_type": "code",
   "execution_count": 100,
   "id": "cb40e554-8141-4d1e-b76c-bf62194a91de",
   "metadata": {},
   "outputs": [
    {
     "data": {
      "image/png": "[encoded data removed]",
      "text/plain": [
       "<Figure size 432x288 with 1 Axes>"
      ]
     },
     "metadata": {
      "needs_background": "light"
     },
     "output_type": "display_data"
    }
   ],
   "source": [
    "df1 = pd.read_csv('test.csv', encoding='UTF-8')\n",
    "\n",
    "x = ([0.2, 1.2, 2.2, 3.2])\n",
    "y = ([500, 1000, 1500, 2000, 2500])\n",
    "y1 = [500, 450, 520, 610]\n",
    "y2 = [690, 700, 820, 900]\n",
    "y3 = [1100, 1030, 1200, 1380]\n",
    "y4 = [1500, 1650, 1700, 1850]\n",
    "y5 = [1990, 2020, 2300, 2420]\n",
    "y6 = [1020, 1600, 2200, 2550]\n",
    "\n",
    "plt.title('2015~2020 Quarterly sales')\n",
    "plt.xlabel('Quarters')\n",
    "plt.ylabel('sales')\n",
    "\n",
    "xLabel = ['first', 'second', 'third', 'fourth']\n",
    "plt.xticks(x, xLabel, fontsize = 10)\n",
    "\n",
    "yLabel = [500, 1000, 1500, 2000, 2500]\n",
    "plt.yticks(y, yLabel, fontsize = 10)\n",
    "\n",
    "plt.plot(x,y1,label = 2015)\n",
    "plt.plot(x,y2,label = 2016)\n",
    "plt.plot(x,y3,label = 2017)\n",
    "plt.plot(x,y4,label = 2018)\n",
    "plt.plot(x,y5,label = 2019)\n",
    "plt.plot(x,y6,label = 2020)\n",
    "\n",
    "plt.legend()\n",
    "plt.show()"
   ]
  },
  {
   "cell_type": "code",
   "execution_count": null,
   "id": "c800f483-85b1-4ff4-b914-7db321be772b",
   "metadata": {},
   "outputs": [],
   "source": []
  }
 ],
 "metadata": {
  "kernelspec": {
   "display_name": "Python 3 (ipykernel)",
   "language": "python",
   "name": "python3"
  },
  "language_info": {
   "codemirror_mode": {
    "name": "ipython",
    "version": 3
   },
   "file_extension": ".py",
   "mimetype": "text/x-python",
   "name": "python",
   "nbconvert_exporter": "python",
   "pygments_lexer": "ipython3",
   "version": "3.9.12"
  }
 },
 "nbformat": 4,
 "nbformat_minor": 5
}
