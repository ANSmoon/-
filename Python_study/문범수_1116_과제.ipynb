{
 "cells": [
  {
   "cell_type": "markdown",
   "id": "3d5d1fb6-de86-45cc-9298-77856560ecc7",
   "metadata": {
    "tags": []
   },
   "source": [
    "##### object : 과제(숫자형, 문자형, 계산식에 대한 이해)\n",
    "##### Author : 문범수\n",
    "##### date : 2022.11.22"
   ]
  },
  {
   "cell_type": "markdown",
   "id": "c49fba5f-7333-444f-973a-5bee6181fc0d",
   "metadata": {
    "tags": []
   },
   "source": [
    "# Float"
   ]
  },
  {
   "cell_type": "code",
   "execution_count": 25,
   "id": "27b943b1-70da-4d13-943a-8af7d8bdec68",
   "metadata": {
    "tags": []
   },
   "outputs": [],
   "source": [
    "x = 5"
   ]
  },
  {
   "cell_type": "code",
   "execution_count": 26,
   "id": "2da004d6-121f-4580-ab93-2f805675503f",
   "metadata": {},
   "outputs": [
    {
     "data": {
      "text/plain": [
       "5.0"
      ]
     },
     "execution_count": 26,
     "metadata": {},
     "output_type": "execute_result"
    }
   ],
   "source": [
    "float(x)"
   ]
  },
  {
   "cell_type": "code",
   "execution_count": 27,
   "id": "c7a570df-e6e6-4abd-8593-afc732f15df4",
   "metadata": {},
   "outputs": [],
   "source": [
    "x = 7\n",
    "y = 15"
   ]
  },
  {
   "cell_type": "code",
   "execution_count": 28,
   "id": "b6328389-7e48-4ba0-945f-55a17ac2d32a",
   "metadata": {},
   "outputs": [],
   "source": [
    "a1 = x + y\n",
    "a2 = x * y\n",
    "a3 = x / y\n",
    "a4 = x % y"
   ]
  },
  {
   "cell_type": "code",
   "execution_count": 29,
   "id": "f24c229f-e742-4de4-9451-dae2f8a94365",
   "metadata": {},
   "outputs": [
    {
     "name": "stdout",
     "output_type": "stream",
     "text": [
      "22 105 0.4666666666666667 7\n"
     ]
    }
   ],
   "source": [
    "print(a1,a2,a3,a4)"
   ]
  },
  {
   "cell_type": "code",
   "execution_count": 30,
   "id": "950df97a-788c-46e2-80a7-3af54da6ef66",
   "metadata": {},
   "outputs": [
    {
     "data": {
      "text/plain": [
       "134.46666666666667"
      ]
     },
     "execution_count": 30,
     "metadata": {},
     "output_type": "execute_result"
    }
   ],
   "source": [
    "float(a1 + a2 + a3 + a4)"
   ]
  },
  {
   "cell_type": "code",
   "execution_count": 7,
   "id": "19e1ec0c-f649-4001-aade-823c8760a370",
   "metadata": {},
   "outputs": [
    {
     "data": {
      "text/plain": [
       "127"
      ]
     },
     "execution_count": 7,
     "metadata": {},
     "output_type": "execute_result"
    }
   ],
   "source": [
    "int (a1 + a2)"
   ]
  },
  {
   "cell_type": "code",
   "execution_count": 8,
   "id": "92f7c0fc-5856-43bb-b6a9-e534d068d08f",
   "metadata": {},
   "outputs": [
    {
     "data": {
      "text/plain": [
       "3"
      ]
     },
     "execution_count": 8,
     "metadata": {},
     "output_type": "execute_result"
    }
   ],
   "source": [
    "int(a3 * a4)"
   ]
  },
  {
   "cell_type": "code",
   "execution_count": 11,
   "id": "c934a72e-df7b-45f9-b733-75925bcbdd1a",
   "metadata": {},
   "outputs": [],
   "source": [
    "z = int(a1 + a2 + a3 * a4)"
   ]
  },
  {
   "cell_type": "code",
   "execution_count": 12,
   "id": "d9caef3f-b323-4296-91e8-87a2332fe123",
   "metadata": {},
   "outputs": [
    {
     "data": {
      "text/plain": [
       "130.0"
      ]
     },
     "execution_count": 12,
     "metadata": {},
     "output_type": "execute_result"
    }
   ],
   "source": [
    "float(z)"
   ]
  },
  {
   "cell_type": "markdown",
   "id": "0bc4c701-704d-4211-a4c3-a52db564b757",
   "metadata": {},
   "source": [
    "# String"
   ]
  },
  {
   "cell_type": "code",
   "execution_count": 15,
   "id": "34fb2c15-a081-4404-a072-3b625334a296",
   "metadata": {},
   "outputs": [
    {
     "data": {
      "text/plain": [
       "'a'"
      ]
     },
     "execution_count": 15,
     "metadata": {},
     "output_type": "execute_result"
    }
   ],
   "source": [
    "'a'"
   ]
  },
  {
   "cell_type": "code",
   "execution_count": 19,
   "id": "e9e9c400-c351-4b54-96ee-4d3de852570f",
   "metadata": {},
   "outputs": [
    {
     "data": {
      "text/plain": [
       "'ab'"
      ]
     },
     "execution_count": 19,
     "metadata": {},
     "output_type": "execute_result"
    }
   ],
   "source": [
    "'a' + 'b'"
   ]
  },
  {
   "cell_type": "code",
   "execution_count": 21,
   "id": "f28752c0-828c-43a5-bf7b-52dce47e0a5e",
   "metadata": {},
   "outputs": [
    {
     "name": "stdout",
     "output_type": "stream",
     "text": [
      "a\n"
     ]
    }
   ],
   "source": [
    "print('a')"
   ]
  },
  {
   "cell_type": "code",
   "execution_count": 22,
   "id": "8f0c935f-9e02-4da7-ae08-e79e4ec10098",
   "metadata": {},
   "outputs": [
    {
     "data": {
      "text/plain": [
       "'This python tool is so cool!'"
      ]
     },
     "execution_count": 22,
     "metadata": {},
     "output_type": "execute_result"
    }
   ],
   "source": [
    "\"This python tool is so cool!\""
   ]
  },
  {
   "cell_type": "code",
   "execution_count": 7,
   "id": "6bcd67ac-6d23-4f9c-b5c9-a9488a998d14",
   "metadata": {},
   "outputs": [
    {
     "name": "stdout",
     "output_type": "stream",
     "text": [
      "Hello world\n"
     ]
    }
   ],
   "source": [
    "print(\"Hello world\")"
   ]
  },
  {
   "cell_type": "code",
   "execution_count": 9,
   "id": "2be3dfc3-e71d-4cb7-b703-04c1f8c73cd4",
   "metadata": {},
   "outputs": [],
   "source": [
    "b1 = [1, 2, 3, 4]\n",
    "b2 = [4, 5, 6, 7]\n",
    "b3 = [8, 9, 10, 11]"
   ]
  },
  {
   "cell_type": "code",
   "execution_count": 10,
   "id": "61f1d149-4ada-48d1-ba50-26fc5b13c193",
   "metadata": {},
   "outputs": [
    {
     "data": {
      "text/plain": [
       "[1, 2, 3, 4, 4, 5, 6, 7, 8, 9, 10, 11]"
      ]
     },
     "execution_count": 10,
     "metadata": {},
     "output_type": "execute_result"
    }
   ],
   "source": [
    "b1 + b2 + b3"
   ]
  },
  {
   "cell_type": "code",
   "execution_count": 12,
   "id": "cc18a9b0-fec0-44eb-a777-856fc62eea74",
   "metadata": {},
   "outputs": [
    {
     "data": {
      "text/plain": [
       "([1, 2, 3, 4], [4, 5, 6, 7])"
      ]
     },
     "execution_count": 12,
     "metadata": {},
     "output_type": "execute_result"
    }
   ],
   "source": [
    "b1, b2"
   ]
  },
  {
   "cell_type": "code",
   "execution_count": 14,
   "id": "7a7912ae-2d0e-46af-9da2-1a5137e72748",
   "metadata": {},
   "outputs": [
    {
     "data": {
      "text/plain": [
       "[8, 9, 10, 11, 1, 2, 3, 4]"
      ]
     },
     "execution_count": 14,
     "metadata": {},
     "output_type": "execute_result"
    }
   ],
   "source": [
    "b3 + b1"
   ]
  },
  {
   "cell_type": "code",
   "execution_count": 16,
   "id": "c337858c-ab21-4dde-ba1b-f9bf0609ddb0",
   "metadata": {},
   "outputs": [
    {
     "data": {
      "text/plain": [
       "[[8, 9, 10, 11, 1, 2, 3, 4]]"
      ]
     },
     "execution_count": 16,
     "metadata": {},
     "output_type": "execute_result"
    }
   ],
   "source": [
    "[b3 + b1]"
   ]
  },
  {
   "cell_type": "code",
   "execution_count": 18,
   "id": "0c6d8feb-406b-4ded-911a-34c0c7670351",
   "metadata": {},
   "outputs": [
    {
     "data": {
      "text/plain": [
       "[8, 9, 10, 11, 1, 2, 3, 4]"
      ]
     },
     "execution_count": 18,
     "metadata": {},
     "output_type": "execute_result"
    }
   ],
   "source": [
    "(b3 + b1)"
   ]
  },
  {
   "cell_type": "code",
   "execution_count": 19,
   "id": "4a1c8520-36ca-426b-9ca0-e1ca0b7bb45a",
   "metadata": {},
   "outputs": [
    {
     "ename": "TypeError",
     "evalue": "unhashable type: 'list'",
     "output_type": "error",
     "traceback": [
      "\u001b[1;31m---------------------------------------------------------------------------\u001b[0m",
      "\u001b[1;31mTypeError\u001b[0m                                 Traceback (most recent call last)",
      "Input \u001b[1;32mIn [19]\u001b[0m, in \u001b[0;36m<cell line: 1>\u001b[1;34m()\u001b[0m\n\u001b[1;32m----> 1\u001b[0m {b3 \u001b[38;5;241m+\u001b[39m b1}\n",
      "\u001b[1;31mTypeError\u001b[0m: unhashable type: 'list'"
     ]
    }
   ],
   "source": [
    "{b3 + b1}"
   ]
  },
  {
   "cell_type": "markdown",
   "id": "e891e768-3dc0-4bc0-a6cf-a72e8c85eb50",
   "metadata": {},
   "source": [
    "#### 기존의 []형으로 들어가 있는 문자열을 {}형으로 전환할 수는 없다."
   ]
  },
  {
   "cell_type": "markdown",
   "id": "95d08f1d-81ac-4c6e-9106-d69a9a8547b9",
   "metadata": {},
   "source": [
    "# Calulate"
   ]
  },
  {
   "cell_type": "code",
   "execution_count": 22,
   "id": "85cc87f5-78ed-4f74-a821-1fae214b10ab",
   "metadata": {},
   "outputs": [],
   "source": [
    "x = 1.75\n",
    "y = 120.25\n",
    "z = 1305"
   ]
  },
  {
   "cell_type": "code",
   "execution_count": 23,
   "id": "0de00c67-b79e-4b67-acef-caadba8655ab",
   "metadata": {},
   "outputs": [
    {
     "name": "stdout",
     "output_type": "stream",
     "text": [
      "Y is bigger than Y\n"
     ]
    }
   ],
   "source": [
    "if x > y:\n",
    "    print(\"X is bigger than Y\")\n",
    "\n",
    "else:\n",
    "    print(\"Y is bigger than Y\")"
   ]
  },
  {
   "cell_type": "code",
   "execution_count": 25,
   "id": "fda8de91-6867-45ec-9428-22abfb3929e3",
   "metadata": {},
   "outputs": [
    {
     "data": {
      "text/plain": [
       "0.014553014553014554"
      ]
     },
     "execution_count": 25,
     "metadata": {},
     "output_type": "execute_result"
    }
   ],
   "source": [
    "x / y"
   ]
  },
  {
   "cell_type": "code",
   "execution_count": 27,
   "id": "413c026b-4823-4cc6-8dab-fc2470ca8b6f",
   "metadata": {},
   "outputs": [
    {
     "data": {
      "text/plain": [
       "210.4375"
      ]
     },
     "execution_count": 27,
     "metadata": {},
     "output_type": "execute_result"
    }
   ],
   "source": [
    "x * y"
   ]
  },
  {
   "cell_type": "code",
   "execution_count": 28,
   "id": "066f08da-36bc-4a2b-8f22-90126431b683",
   "metadata": {},
   "outputs": [
    {
     "data": {
      "text/plain": [
       "122.0"
      ]
     },
     "execution_count": 28,
     "metadata": {},
     "output_type": "execute_result"
    }
   ],
   "source": [
    "x + y % z"
   ]
  },
  {
   "cell_type": "code",
   "execution_count": null,
   "id": "c39dc40d-2518-4994-9cbf-8d177472a0dd",
   "metadata": {},
   "outputs": [],
   "source": []
  }
 ],
 "metadata": {
  "kernelspec": {
   "display_name": "Python 3 (ipykernel)",
   "language": "python",
   "name": "python3"
  },
  "language_info": {
   "codemirror_mode": {
    "name": "ipython",
    "version": 3
   },
   "file_extension": ".py",
   "mimetype": "text/x-python",
   "name": "python",
   "nbconvert_exporter": "python",
   "pygments_lexer": "ipython3",
   "version": "3.9.12"
  }
 },
 "nbformat": 4,
 "nbformat_minor": 5
}
