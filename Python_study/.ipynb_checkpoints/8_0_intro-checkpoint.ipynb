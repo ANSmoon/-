{
 "cells": [
  {
   "cell_type": "code",
   "execution_count": 1,
   "id": "8a368911-5a30-4fab-ae65-58775327dee8",
   "metadata": {},
   "outputs": [],
   "source": [
    "import glob"
   ]
  },
  {
   "cell_type": "code",
   "execution_count": 2,
   "id": "3b1dbbf1-58a1-4189-8d22-07db26170ff4",
   "metadata": {},
   "outputs": [
    {
     "data": {
      "text/plain": [
       "['8_0_intro.ipynb', '8_1_영어단어분석.ipynb', '8_2_한글단어분석.ipynb']"
      ]
     },
     "execution_count": 2,
     "metadata": {},
     "output_type": "execute_result"
    }
   ],
   "source": [
    "glob.glob('*.ipynb')"
   ]
  },
  {
   "cell_type": "code",
   "execution_count": 53,
   "id": "2900eb5d-09e6-4063-99de-83d1e579b4aa",
   "metadata": {},
   "outputs": [
    {
     "name": "stdout",
     "output_type": "stream",
     "text": [
      " C 드라이브의 볼륨: OS\n",
      " 볼륨 일련 번호: 00EA-C5B4\n",
      "\n",
      " c:\\dclass 디렉터리\n",
      "\n",
      "2022-11-04  오후 02:46    <DIR>          .\n",
      "2022-11-04  오전 10:39    <DIR>          .ipynb_checkpoints\n",
      "2022-11-04  오후 02:46           197,235 8_0_intro.ipynb\n",
      "2022-11-04  오후 02:07           288,355 8_1_영어단어분석.ipynb\n",
      "2022-11-04  오전 11:07           175,107 8_2_한글단어분석.ipynb\n",
      "2022-11-03  오후 04:26           290,941 8장.zip\n",
      "2022-11-03  오전 10:32    <DIR>          src\n",
      "2022-10-13  오전 10:08    <DIR>          WebDriver\n",
      "2022-11-03  오후 03:03               293 words.txt\n",
      "               5개 파일             951,931 바이트\n",
      "               4개 디렉터리  19,480,891,392 바이트 남음\n"
     ]
    }
   ],
   "source": [
    "%ls"
   ]
  },
  {
   "cell_type": "code",
   "execution_count": 54,
   "id": "5d2b8ee9-1464-4491-beb3-dc3642b3030a",
   "metadata": {},
   "outputs": [
    {
     "data": {
      "text/plain": [
       "['src\\\\8장\\\\myCabinetExcelData (1).xls',\n",
       " 'src\\\\8장\\\\myCabinetExcelData (10).xls',\n",
       " 'src\\\\8장\\\\myCabinetExcelData (2).xls',\n",
       " 'src\\\\8장\\\\myCabinetExcelData (3).xls',\n",
       " 'src\\\\8장\\\\myCabinetExcelData (4).xls',\n",
       " 'src\\\\8장\\\\myCabinetExcelData (5).xls',\n",
       " 'src\\\\8장\\\\myCabinetExcelData (6).xls',\n",
       " 'src\\\\8장\\\\myCabinetExcelData (7).xls',\n",
       " 'src\\\\8장\\\\myCabinetExcelData (8).xls',\n",
       " 'src\\\\8장\\\\myCabinetExcelData (9).xls',\n",
       " 'src\\\\8장\\\\sub\\\\myCabinetExcelData (1).xls',\n",
       " 'src\\\\8장\\\\sub\\\\myCabinetExcelData (2).xls',\n",
       " 'src\\\\8장\\\\sub\\\\myCabinetExcelData (3).xls',\n",
       " 'src\\\\8장\\\\sub\\\\myCabinetExcelData (4).xls',\n",
       " 'src\\\\8장\\\\sub\\\\myCabinetExcelData (5).xls']"
      ]
     },
     "execution_count": 54,
     "metadata": {},
     "output_type": "execute_result"
    }
   ],
   "source": [
    "glob.glob('**/*.xls', recursive=True)"
   ]
  },
  {
   "cell_type": "code",
   "execution_count": 4,
   "id": "f3f496de-78b9-460d-8ffa-d416c3de2b0f",
   "metadata": {},
   "outputs": [
    {
     "data": {
      "text/plain": [
       "['.\\\\',\n",
       " '.\\\\src\\\\',\n",
       " '.\\\\src\\\\4-5장\\\\',\n",
       " '.\\\\src\\\\5장\\\\',\n",
       " '.\\\\src\\\\6장\\\\',\n",
       " '.\\\\src\\\\7장\\\\',\n",
       " '.\\\\src\\\\8장\\\\',\n",
       " '.\\\\src\\\\8장\\\\sub\\\\',\n",
       " '.\\\\src\\\\midterm\\\\',\n",
       " '.\\\\WebDriver\\\\']"
      ]
     },
     "execution_count": 4,
     "metadata": {},
     "output_type": "execute_result"
    }
   ],
   "source": [
    "glob.glob('./**/', recursive=True)"
   ]
  },
  {
   "cell_type": "code",
   "execution_count": 5,
   "id": "11e37df5-f7cd-44b1-8a6e-997df821262f",
   "metadata": {},
   "outputs": [
    {
     "data": {
      "text/plain": [
       "['.ipynb_checkpoints']"
      ]
     },
     "execution_count": 5,
     "metadata": {},
     "output_type": "execute_result"
    }
   ],
   "source": [
    "glob.glob('.i*')"
   ]
  },
  {
   "cell_type": "code",
   "execution_count": 6,
   "id": "e77d1c88-6366-4859-aa3f-a6bec5ebb604",
   "metadata": {},
   "outputs": [
    {
     "data": {
      "text/plain": [
       "['.\\\\8_0_intro.ipynb',\n",
       " '.\\\\8_1_영어단어분석.ipynb',\n",
       " '.\\\\8_2_한글단어분석.ipynb',\n",
       " '.\\\\8장.zip']"
      ]
     },
     "execution_count": 6,
     "metadata": {},
     "output_type": "execute_result"
    }
   ],
   "source": [
    "glob.glob('./[0-9]*.*')"
   ]
  },
  {
   "cell_type": "code",
   "execution_count": 7,
   "id": "f4294b47-79d9-4c53-8b91-b39a6ccda5e8",
   "metadata": {},
   "outputs": [
    {
     "data": {
      "text/plain": [
       "['.\\\\8_1_영어단어분석.ipynb', '.\\\\8_2_한글단어분석.ipynb']"
      ]
     },
     "execution_count": 7,
     "metadata": {},
     "output_type": "execute_result"
    }
   ],
   "source": [
    "glob.glob('./*[1-2]*.*')"
   ]
  },
  {
   "cell_type": "code",
   "execution_count": 8,
   "id": "16ece9ab-c5a5-4e3b-bc1b-957ba2f79a98",
   "metadata": {},
   "outputs": [],
   "source": [
    "# https://realpython.com/python-reduce-function/"
   ]
  },
  {
   "cell_type": "code",
   "execution_count": 9,
   "id": "d80c1d15-31ad-4d06-9873-3ac0d215d213",
   "metadata": {},
   "outputs": [],
   "source": [
    "def my_add(a, b):\n",
    "    result = a + b\n",
    "    print(f\"{a} + {b} = {result}\")\n",
    "    return result"
   ]
  },
  {
   "cell_type": "code",
   "execution_count": 10,
   "id": "3d4c6b13-3534-48f1-a228-eaf6f637df63",
   "metadata": {},
   "outputs": [
    {
     "name": "stdout",
     "output_type": "stream",
     "text": [
      "5 + 5 = 10\n"
     ]
    },
    {
     "data": {
      "text/plain": [
       "10"
      ]
     },
     "execution_count": 10,
     "metadata": {},
     "output_type": "execute_result"
    }
   ],
   "source": [
    "my_add(5, 5)"
   ]
  },
  {
   "cell_type": "code",
   "execution_count": 11,
   "id": "5bf3d49a-fe59-48b5-bca5-a9f7cbb8955e",
   "metadata": {},
   "outputs": [
    {
     "name": "stdout",
     "output_type": "stream",
     "text": [
      "0 + 1 = 1\n",
      "1 + 2 = 3\n",
      "3 + 3 = 6\n",
      "6 + 4 = 10\n"
     ]
    },
    {
     "data": {
      "text/plain": [
       "10"
      ]
     },
     "execution_count": 11,
     "metadata": {},
     "output_type": "execute_result"
    }
   ],
   "source": [
    "from functools import reduce\n",
    "\n",
    "numbers = [0, 1, 2, 3, 4]\n",
    "\n",
    "reduce(my_add, numbers)"
   ]
  },
  {
   "cell_type": "code",
   "execution_count": 12,
   "id": "e38906b5-6395-4112-a633-a22533680134",
   "metadata": {},
   "outputs": [
    {
     "name": "stdout",
     "output_type": "stream",
     "text": [
      "100 + 0 = 100\n",
      "100 + 1 = 101\n",
      "101 + 2 = 103\n",
      "103 + 3 = 106\n",
      "106 + 4 = 110\n"
     ]
    },
    {
     "data": {
      "text/plain": [
       "110"
      ]
     },
     "execution_count": 12,
     "metadata": {},
     "output_type": "execute_result"
    }
   ],
   "source": [
    "numbers1 = [0, 1, 2, 3, 4]\n",
    "reduce(my_add, numbers1, 100)"
   ]
  },
  {
   "cell_type": "code",
   "execution_count": 13,
   "id": "2bf1ee7d-93bc-43f0-9616-cf299d1dba18",
   "metadata": {},
   "outputs": [
    {
     "name": "stdout",
     "output_type": "stream",
     "text": [
      "sum : 17\n",
      "max : 6\n"
     ]
    }
   ],
   "source": [
    "import functools\n",
    "\n",
    "li = [1, 3, 5, 6, 2]\n",
    "\n",
    "print(\"sum : \", end=\"\")\n",
    "print(functools.reduce(lambda a, b: a+b, li))\n",
    "\n",
    "print(\"max : \", end=\"\")\n",
    "print(functools.reduce(lambda a, b: a if a > b else b, li))"
   ]
  },
  {
   "cell_type": "code",
   "execution_count": 14,
   "id": "eee73922-8b14-4eac-bf96-0594ba8d92fa",
   "metadata": {},
   "outputs": [
    {
     "name": "stdout",
     "output_type": "stream",
     "text": [
      "[2, 4, 6, 8]\n"
     ]
    }
   ],
   "source": [
    "# map 함수 \n",
    "def addition(n):\n",
    "    return n + n\n",
    "\n",
    "numbers = [1, 2, 3, 4]\n",
    "result = map(addition, numbers)\n",
    "print( list(result) )"
   ]
  },
  {
   "cell_type": "code",
   "execution_count": null,
   "id": "14504b77-2567-4353-a071-feb1ccd9b077",
   "metadata": {},
   "outputs": [],
   "source": []
  },
  {
   "cell_type": "code",
   "execution_count": 15,
   "id": "7ea1e55d-ce90-4815-b35c-ff1dbbfaca90",
   "metadata": {},
   "outputs": [
    {
     "data": {
      "text/plain": [
       "['Good',\n",
       " 'muffins',\n",
       " 'cost',\n",
       " '$',\n",
       " '3.88',\n",
       " 'in',\n",
       " 'New',\n",
       " 'York',\n",
       " '.',\n",
       " 'Please',\n",
       " 'buy',\n",
       " 'me',\n",
       " 'two',\n",
       " 'of',\n",
       " 'them',\n",
       " '.',\n",
       " 'Thanks',\n",
       " '.']"
      ]
     },
     "execution_count": 15,
     "metadata": {},
     "output_type": "execute_result"
    }
   ],
   "source": [
    "from nltk.tokenize import word_tokenize\n",
    "s = '''Good muffins cost $3.88\\nin New York.  Please buy me \\\n",
    "two of them.\\n\\nThanks.'''\n",
    "\n",
    "# to find the words and punctuation in a string:\n",
    "word_tokenize(s)"
   ]
  },
  {
   "cell_type": "code",
   "execution_count": 16,
   "id": "6ca69883-f648-414c-bdff-1616b2bfb8b4",
   "metadata": {},
   "outputs": [
    {
     "data": {
      "text/plain": [
       "['Good',\n",
       " 'muffins',\n",
       " 'cost',\n",
       " '$',\n",
       " '3',\n",
       " '.',\n",
       " '88',\n",
       " 'in',\n",
       " 'New',\n",
       " 'York',\n",
       " '.',\n",
       " 'Please',\n",
       " 'buy',\n",
       " 'me',\n",
       " 'two',\n",
       " 'of',\n",
       " 'them',\n",
       " '.',\n",
       " 'Thanks',\n",
       " '.']"
      ]
     },
     "execution_count": 16,
     "metadata": {},
     "output_type": "execute_result"
    }
   ],
   "source": [
    "from nltk.tokenize import wordpunct_tokenize\n",
    "\n",
    "# to split text on whitespace and punctuation:\n",
    "wordpunct_tokenize(s) "
   ]
  },
  {
   "cell_type": "code",
   "execution_count": 17,
   "id": "8ee495e7-8b9f-4837-841e-6ef7fb947c4c",
   "metadata": {},
   "outputs": [
    {
     "name": "stdout",
     "output_type": "stream",
     "text": [
      "['Good muffins cost $3.88\\nin New York.', 'Please buy me two of them.', 'Thanks.']\n"
     ]
    }
   ],
   "source": [
    "from nltk.tokenize import sent_tokenize\n",
    "\n",
    "print( sent_tokenize(s) )"
   ]
  },
  {
   "cell_type": "code",
   "execution_count": 18,
   "id": "76941189-ac29-400a-bee2-fe96d3687999",
   "metadata": {},
   "outputs": [
    {
     "data": {
      "text/plain": [
       "[['Good', 'muffins', 'cost', '$', '3.88', 'in', 'New', 'York', '.'],\n",
       " ['Please', 'buy', 'me', 'two', 'of', 'them', '.'],\n",
       " ['Thanks', '.']]"
      ]
     },
     "execution_count": 18,
     "metadata": {},
     "output_type": "execute_result"
    }
   ],
   "source": [
    "[word_tokenize(t) for t in sent_tokenize(s)]"
   ]
  },
  {
   "cell_type": "code",
   "execution_count": 55,
   "id": "e78acffe-2ed4-48c5-8df9-59778f2b0a83",
   "metadata": {},
   "outputs": [
    {
     "name": "stdout",
     "output_type": "stream",
     "text": [
      " C 드라이브의 볼륨: OS\n",
      " 볼륨 일련 번호: 00EA-C5B4\n",
      "\n",
      " c:\\dclass 디렉터리\n",
      "\n",
      "2022-11-04  오후 02:48    <DIR>          .\n",
      "2022-11-04  오전 10:39    <DIR>          .ipynb_checkpoints\n",
      "2022-11-04  오후 02:48           197,237 8_0_intro.ipynb\n",
      "2022-11-04  오후 02:07           288,355 8_1_영어단어분석.ipynb\n",
      "2022-11-04  오전 11:07           175,107 8_2_한글단어분석.ipynb\n",
      "2022-11-03  오후 04:26           290,941 8장.zip\n",
      "2022-11-03  오전 10:32    <DIR>          src\n",
      "2022-10-13  오전 10:08    <DIR>          WebDriver\n",
      "2022-11-03  오후 03:03               293 words.txt\n",
      "               5개 파일             951,933 바이트\n",
      "               4개 디렉터리  16,745,611,264 바이트 남음\n"
     ]
    }
   ],
   "source": [
    "%ls"
   ]
  },
  {
   "cell_type": "code",
   "execution_count": 19,
   "id": "6328ec6b-bae8-4888-9284-dcf489279579",
   "metadata": {},
   "outputs": [
    {
     "name": "stdout",
     "output_type": "stream",
     "text": [
      "['i', 'me', 'my', 'myself', 'we', 'our', 'ours', 'ourselves', 'you', \"you're\", \"you've\", \"you'll\", \"you'd\", 'your', 'yours', 'yourself', 'yourselves', 'he', 'him', 'his', 'himself', 'she', \"she's\", 'her', 'hers', 'herself', 'it', \"it's\", 'its', 'itself', 'they', 'them', 'their', 'theirs', 'themselves', 'what', 'which', 'who', 'whom', 'this', 'that', \"that'll\", 'these', 'those', 'am', 'is', 'are', 'was', 'were', 'be', 'been', 'being', 'have', 'has', 'had', 'having', 'do', 'does', 'did', 'doing', 'a', 'an', 'the', 'and', 'but', 'if', 'or', 'because', 'as', 'until', 'while', 'of', 'at', 'by', 'for', 'with', 'about', 'against', 'between', 'into', 'through', 'during', 'before', 'after', 'above', 'below', 'to', 'from', 'up', 'down', 'in', 'out', 'on', 'off', 'over', 'under', 'again', 'further', 'then', 'once', 'here', 'there', 'when', 'where', 'why', 'how', 'all', 'any', 'both', 'each', 'few', 'more', 'most', 'other', 'some', 'such', 'no', 'nor', 'not', 'only', 'own', 'same', 'so', 'than', 'too', 'very', 's', 't', 'can', 'will', 'just', 'don', \"don't\", 'should', \"should've\", 'now', 'd', 'll', 'm', 'o', 're', 've', 'y', 'ain', 'aren', \"aren't\", 'couldn', \"couldn't\", 'didn', \"didn't\", 'doesn', \"doesn't\", 'hadn', \"hadn't\", 'hasn', \"hasn't\", 'haven', \"haven't\", 'isn', \"isn't\", 'ma', 'mightn', \"mightn't\", 'mustn', \"mustn't\", 'needn', \"needn't\", 'shan', \"shan't\", 'shouldn', \"shouldn't\", 'wasn', \"wasn't\", 'weren', \"weren't\", 'won', \"won't\", 'wouldn', \"wouldn't\"]\n"
     ]
    }
   ],
   "source": [
    "import nltk\n",
    "from nltk.corpus import stopwords\n",
    "print( stopwords.words('english')  )"
   ]
  },
  {
   "cell_type": "code",
   "execution_count": 20,
   "id": "5386f4d0-33a0-4c8b-8811-8fa5dced1020",
   "metadata": {},
   "outputs": [
    {
     "name": "stdout",
     "output_type": "stream",
     "text": [
      "['This', 'is', 'a', 'sample', 'sentence', ',', 'showing', 'off', 'the', 'stop', 'words', 'filtration', '.']\n",
      "['sample', 'sentence', ',', 'showing', 'stop', 'words', 'filtration', '.']\n"
     ]
    }
   ],
   "source": [
    "from nltk.corpus import stopwords\n",
    "from nltk.tokenize import word_tokenize\n",
    "\n",
    "stop_words = stopwords.words('english')\n",
    "\n",
    "example_sent = \"\"\"This is a sample sentence,\n",
    "showing off the stop words filtration.\"\"\"\n",
    "\n",
    "word_tokens = word_tokenize(example_sent)\n",
    "\n",
    "filtered_sentence = [w for w in word_tokens if not w.lower() in stop_words]\n",
    "# filtered_sentence = []\n",
    "# for w in word_tokens:\n",
    "#     if w not in stop_words:\n",
    "#         filtered_sentence.append(w)\n",
    "\n",
    "print(word_tokens)\n",
    "print(filtered_sentence)"
   ]
  },
  {
   "cell_type": "code",
   "execution_count": null,
   "id": "84c3350b-74f6-4c01-9ab9-74637cbb699a",
   "metadata": {},
   "outputs": [],
   "source": []
  },
  {
   "cell_type": "code",
   "execution_count": 21,
   "id": "69bf5e4e-eb6d-42d4-8866-5744925143be",
   "metadata": {},
   "outputs": [
    {
     "name": "stdout",
     "output_type": "stream",
     "text": [
      "rock\n",
      "am\n"
     ]
    }
   ],
   "source": [
    "from nltk.stem import WordNetLemmatizer\n",
    "\n",
    "lemmatizer = WordNetLemmatizer()\n",
    "\n",
    "print( lemmatizer.lemmatize(\"rocks\") )\n",
    "print( lemmatizer.lemmatize(\"am\") )\n",
    "\n"
   ]
  },
  {
   "cell_type": "code",
   "execution_count": 41,
   "id": "8f10302a-ac1d-4706-9af1-d2c5b52b5784",
   "metadata": {},
   "outputs": [
    {
     "name": "stdout",
     "output_type": "stream",
     "text": [
      "dog\n",
      "church\n",
      "aardwolf\n",
      "good\n"
     ]
    }
   ],
   "source": [
    "from nltk.stem import WordNetLemmatizer\n",
    "wnl = WordNetLemmatizer()\n",
    "\n",
    "print( wnl.lemmatize('dogs') )\n",
    "print( wnl.lemmatize('churches') )\n",
    "print( wnl.lemmatize('aardwolves') )\n",
    "\n",
    "# a denotes adjective in \"pos\"\n",
    "print( lemmatizer.lemmatize(\"better\", pos =\"a\") )"
   ]
  },
  {
   "cell_type": "code",
   "execution_count": 23,
   "id": "802b7ca4-c60a-45b0-9ed4-048bf200d2a6",
   "metadata": {},
   "outputs": [
    {
     "data": {
      "text/plain": [
       "{'m': 1, 'i': 4, 's': 4, 'p': 2}"
      ]
     },
     "execution_count": 23,
     "metadata": {},
     "output_type": "execute_result"
    }
   ],
   "source": [
    "word = \"mississippi\"\n",
    "counter = {}\n",
    "\n",
    "for letter in word:\n",
    "    if letter not in counter:\n",
    "        counter[letter] = 0\n",
    "    counter[letter] += 1\n",
    "\n",
    "counter"
   ]
  },
  {
   "cell_type": "code",
   "execution_count": 24,
   "id": "088def15-ddb5-4ba0-b075-090cae7620d8",
   "metadata": {},
   "outputs": [
    {
     "data": {
      "text/plain": [
       "{'m': 1, 'i': 4, 's': 4, 'p': 2}"
      ]
     },
     "execution_count": 24,
     "metadata": {},
     "output_type": "execute_result"
    }
   ],
   "source": [
    "word = \"mississippi\"\n",
    "counter = {}\n",
    "\n",
    "for letter in word:\n",
    "    counter[letter] = counter.get(letter, 0) + 1\n",
    "\n",
    "counter"
   ]
  },
  {
   "cell_type": "code",
   "execution_count": 43,
   "id": "2c7ab1b5-e097-4925-b874-f88e8192ba53",
   "metadata": {},
   "outputs": [
    {
     "data": {
      "text/plain": [
       "Counter({'red': 2, 'blue': 3, 'green': 1})"
      ]
     },
     "execution_count": 43,
     "metadata": {},
     "output_type": "execute_result"
    }
   ],
   "source": [
    "from collections import defaultdict\n",
    "cnt = Counter()\n",
    "for word in ['red', 'blue', 'red', 'green', 'blue', 'blue']:\n",
    "    cnt[word] += 1\n",
    "cnt"
   ]
  },
  {
   "cell_type": "code",
   "execution_count": 56,
   "id": "3217ec13-e6fd-4fc1-b056-e37fd26814a1",
   "metadata": {},
   "outputs": [
    {
     "data": {
      "text/plain": [
       "[('a', 5), ('b', 2), ('r', 2)]"
      ]
     },
     "execution_count": 56,
     "metadata": {},
     "output_type": "execute_result"
    }
   ],
   "source": [
    "Counter('abracadabra').most_common(3)"
   ]
  },
  {
   "cell_type": "code",
   "execution_count": 59,
   "id": "35b93f13-debc-4e88-8425-27bf9af30a90",
   "metadata": {},
   "outputs": [
    {
     "data": {
      "text/plain": [
       "Counter({'a': 5, 'b': 2, 'r': 2, 'c': 1, 'd': 1})"
      ]
     },
     "execution_count": 59,
     "metadata": {},
     "output_type": "execute_result"
    }
   ],
   "source": [
    "from collections import Counter\n",
    "Counter('abracadabra')"
   ]
  },
  {
   "cell_type": "code",
   "execution_count": 45,
   "id": "024c2c99-c685-4375-94b6-ca8c76895f0b",
   "metadata": {},
   "outputs": [
    {
     "name": "stdout",
     "output_type": "stream",
     "text": [
      "[('blue', 3), ('red', 2)]\n"
     ]
    }
   ],
   "source": [
    "print( cnt.most_common(2) )"
   ]
  },
  {
   "cell_type": "code",
   "execution_count": 47,
   "id": "a6328e92-8de9-4804-9e9e-ed6d59bbe9e7",
   "metadata": {},
   "outputs": [
    {
     "data": {
      "text/plain": [
       "defaultdict(int, {'m': 1, 'i': 4, 's': 4, 'p': 2})"
      ]
     },
     "execution_count": 47,
     "metadata": {},
     "output_type": "execute_result"
    }
   ],
   "source": [
    "word = \"mississippi\"\n",
    "counter = defaultdict(int)\n",
    "\n",
    "for letter in word:\n",
    "    counter[letter] += 1\n",
    "\n",
    "counter"
   ]
  },
  {
   "cell_type": "code",
   "execution_count": 48,
   "id": "82a32d89-0276-44e4-98cc-387b5c1f54ac",
   "metadata": {},
   "outputs": [
    {
     "ename": "AttributeError",
     "evalue": "'collections.defaultdict' object has no attribute 'most_common'",
     "output_type": "error",
     "traceback": [
      "\u001b[1;31m---------------------------------------------------------------------------\u001b[0m",
      "\u001b[1;31mAttributeError\u001b[0m                            Traceback (most recent call last)",
      "\u001b[1;32m~\\AppData\\Local\\Temp/ipykernel_22892/3439426562.py\u001b[0m in \u001b[0;36m<module>\u001b[1;34m\u001b[0m\n\u001b[1;32m----> 1\u001b[1;33m \u001b[0mprint\u001b[0m\u001b[1;33m(\u001b[0m \u001b[0mcounter\u001b[0m\u001b[1;33m.\u001b[0m\u001b[0mmost_common\u001b[0m\u001b[1;33m(\u001b[0m\u001b[1;36m1\u001b[0m\u001b[1;33m)\u001b[0m \u001b[1;33m)\u001b[0m\u001b[1;33m\u001b[0m\u001b[1;33m\u001b[0m\u001b[0m\n\u001b[0m",
      "\u001b[1;31mAttributeError\u001b[0m: 'collections.defaultdict' object has no attribute 'most_common'"
     ]
    }
   ],
   "source": [
    "print( counter.most_common(1) )"
   ]
  },
  {
   "cell_type": "code",
   "execution_count": 26,
   "id": "953cea9d-0a01-46af-8066-b1f0fd3d3ae1",
   "metadata": {},
   "outputs": [
    {
     "data": {
      "text/plain": [
       "Counter({'m': 1, 'i': 4, 's': 4, 'p': 2})"
      ]
     },
     "execution_count": 26,
     "metadata": {},
     "output_type": "execute_result"
    }
   ],
   "source": [
    "from collections import Counter\n",
    "\n",
    "Counter(\"mississippi\")"
   ]
  },
  {
   "cell_type": "code",
   "execution_count": 27,
   "id": "342ec313-9f25-48fb-b033-9e9f385aabdb",
   "metadata": {},
   "outputs": [
    {
     "data": {
      "text/plain": [
       "Counter({'m': 1, 'i': 4, 's': 4, 'p': 2})"
      ]
     },
     "execution_count": 27,
     "metadata": {},
     "output_type": "execute_result"
    }
   ],
   "source": [
    "Counter(list(\"mississippi\"))"
   ]
  },
  {
   "cell_type": "code",
   "execution_count": 28,
   "id": "b88d15a1-9bf2-4cfa-aa53-b38af8413a1f",
   "metadata": {},
   "outputs": [
    {
     "data": {
      "text/plain": [
       "Counter({'m': 1, 'i': 1, 's': 1, 'p': 1})"
      ]
     },
     "execution_count": 28,
     "metadata": {},
     "output_type": "execute_result"
    }
   ],
   "source": [
    "Counter(set(\"mississippi\"))"
   ]
  },
  {
   "cell_type": "code",
   "execution_count": 62,
   "id": "9ad0051e-5d68-496e-afa3-4b282b69f4d6",
   "metadata": {},
   "outputs": [
    {
     "data": {
      "text/plain": [
       "['i',\n",
       " 'i',\n",
       " 'i',\n",
       " 'i',\n",
       " 'i',\n",
       " 'i',\n",
       " 'm',\n",
       " 'm',\n",
       " 'o',\n",
       " 'p',\n",
       " 'p',\n",
       " 'r',\n",
       " 's',\n",
       " 's',\n",
       " 's',\n",
       " 's',\n",
       " 's',\n",
       " 's',\n",
       " 'u']"
      ]
     },
     "execution_count": 62,
     "metadata": {},
     "output_type": "execute_result"
    }
   ],
   "source": [
    "from collections import Counter\n",
    "\n",
    "letters = Counter({\"i\": 4, \"s\": 4, \"p\": 2, \"m\": 1})\n",
    "letters.update(\"missouri\")\n",
    "sorted( letters.elements() )"
   ]
  },
  {
   "cell_type": "code",
   "execution_count": 30,
   "id": "7fc80c2f-8d10-4a14-b6c1-275ad29ab652",
   "metadata": {},
   "outputs": [
    {
     "name": "stdout",
     "output_type": "stream",
     "text": [
      "Counter({'apple': 35, 'orange': 23, 'banana': 15})\n",
      "Counter({'apple': 39, 'orange': 30, 'banana': 15, 'tomato': 4})\n"
     ]
    }
   ],
   "source": [
    "from collections import Counter\n",
    "sales = Counter(apple=25, orange=15, banana=12)\n",
    "\n",
    "# Use a counter\n",
    "monday_sales = Counter(apple=10, orange=8, banana=3)\n",
    "sales.update(monday_sales)\n",
    "print( sales )\n",
    "\n",
    "# Use a dictionary of counts\n",
    "tuesday_sales = {\"apple\": 4, \"orange\": 7, \"tomato\": 4}\n",
    "sales.update(tuesday_sales)\n",
    "print( sales )"
   ]
  },
  {
   "cell_type": "code",
   "execution_count": 31,
   "id": "e7df823d-ec42-402e-96df-f28389e7fa18",
   "metadata": {},
   "outputs": [
    {
     "name": "stdout",
     "output_type": "stream",
     "text": [
      "2\n",
      "4\n",
      "m 1\n",
      "i 4\n",
      "s 4\n",
      "p 2\n",
      "m 1\n",
      "i 4\n",
      "s 4\n",
      "p 2\n",
      "1\n",
      "4\n",
      "4\n",
      "2\n",
      "m 1\n",
      "i 4\n",
      "s 4\n",
      "p 2\n"
     ]
    }
   ],
   "source": [
    "from collections import Counter\n",
    "letters = Counter(\"mississippi\")\n",
    "\n",
    "# Accessing the Counter's Content\n",
    "print( letters[\"p\"] )\n",
    "print( letters[\"s\"] )\n",
    "\n",
    "for letter in letters:\n",
    "    print(letter, letters[letter])\n",
    "\n",
    "for letter in letters.keys():\n",
    "    print(letter, letters[letter])\n",
    "\n",
    "for count in letters.values():\n",
    "    print(count)\n",
    "\n",
    "for letter, count in letters.items():\n",
    "    print(letter, count)"
   ]
  },
  {
   "cell_type": "code",
   "execution_count": 32,
   "id": "dd9c069b-7a76-41f5-9bf6-086ea05701fd",
   "metadata": {},
   "outputs": [
    {
     "name": "stdout",
     "output_type": "stream",
     "text": [
      "[('apple', 39)]\n",
      "[('apple', 39), ('orange', 30)]\n",
      "[('apple', 39), ('orange', 30), ('banana', 15), ('tomato', 4)]\n"
     ]
    }
   ],
   "source": [
    "from collections import Counter\n",
    "sales = Counter(banana=15, tomato=4, apple=39, orange=30)\n",
    "\n",
    "# # Finding the most common object\n",
    "print( sales.most_common(1) )\n",
    "\n",
    "# The two most common objects\n",
    "print( sales.most_common(2) )\n",
    "\n",
    "\n",
    "# All objects sorted by count\n",
    "print( sales.most_common() )"
   ]
  },
  {
   "cell_type": "code",
   "execution_count": null,
   "id": "54528117-8f67-495c-9ba3-87a7bc460df7",
   "metadata": {},
   "outputs": [],
   "source": []
  },
  {
   "cell_type": "code",
   "execution_count": 33,
   "id": "505e3b37-b297-4c3d-b49c-d1be3b3c5ebc",
   "metadata": {},
   "outputs": [
    {
     "data": {
      "image/png": "[encoded data removed]",
      "text/plain": [
       "<Figure size 432x288 with 1 Axes>"
      ]
     },
     "metadata": {
      "needs_background": "light"
     },
     "output_type": "display_data"
    },
    {
     "data": {
      "image/png": "[encoded data removed]",
      "text/plain": [
       "<Figure size 432x288 with 1 Axes>"
      ]
     },
     "metadata": {
      "needs_background": "light"
     },
     "output_type": "display_data"
    }
   ],
   "source": [
    "import os\n",
    "from os import path\n",
    "from wordcloud import WordCloud\n",
    "\n",
    "# Read the whole text.\n",
    "text = open('words.txt').read()\n",
    "\n",
    "# Generate a word cloud image\n",
    "wordcloud = WordCloud().generate(text)\n",
    "\n",
    "# Display the generated image:\n",
    "# the matplotlib way:\n",
    "import matplotlib.pyplot as plt\n",
    "plt.imshow(wordcloud, interpolation='bilinear')\n",
    "plt.axis(\"off\")\n",
    "\n",
    "# lower max_font_size\n",
    "wordcloud = WordCloud(max_font_size=40).generate(text)\n",
    "plt.figure()\n",
    "plt.imshow(wordcloud, interpolation=\"nearest\")\n",
    "plt.axis(\"off\")\n",
    "plt.show()\n",
    "\n",
    "# The pil way (if you don't have matplotlib)\n",
    "# image = wordcloud.to_image()\n",
    "# image.show()"
   ]
  },
  {
   "cell_type": "code",
   "execution_count": 34,
   "id": "c551761e-167c-43a5-b148-581beb8332b5",
   "metadata": {},
   "outputs": [
    {
     "data": {
      "image/png": "[encoded data removed]",
      "text/plain": [
       "<Figure size 432x288 with 1 Axes>"
      ]
     },
     "metadata": {
      "needs_background": "light"
     },
     "output_type": "display_data"
    }
   ],
   "source": [
    "from wordcloud import WordCloud\n",
    "\n",
    "text = open('words.txt').read()\n",
    "wordcloud = WordCloud().generate(text)\n",
    "\n",
    "import matplotlib.pyplot as plt\n",
    "plt.imshow(wordcloud)\n",
    "plt.axis(\"off\")\n",
    "plt.show()"
   ]
  },
  {
   "cell_type": "code",
   "execution_count": null,
   "id": "4c0bc6e0-b28e-43f5-aebc-cc50f9897888",
   "metadata": {},
   "outputs": [],
   "source": []
  },
  {
   "cell_type": "code",
   "execution_count": 35,
   "id": "6d875042-bc8a-4f39-b104-23bca359e561",
   "metadata": {},
   "outputs": [
    {
     "name": "stdout",
     "output_type": "stream",
     "text": [
      "['단독', '입찰', '보다', '복수', '입찰', '의', '경우']\n"
     ]
    }
   ],
   "source": [
    "from konlpy.tag import Okt\n",
    "okt = Okt()\n",
    "\n",
    "print(okt.morphs(u'단독입찰보다 복수입찰의 경우'))"
   ]
  },
  {
   "cell_type": "code",
   "execution_count": 36,
   "id": "466d603b-e76e-4038-97a7-bc3e5ed01c83",
   "metadata": {},
   "outputs": [
    {
     "name": "stdout",
     "output_type": "stream",
     "text": [
      "['항공기', '체계', '종합', '개발', '경험']\n"
     ]
    }
   ],
   "source": [
    "print(okt.nouns(u'유일하게 항공기 체계 종합개발 경험을 갖고 있는 KAI는'))"
   ]
  },
  {
   "cell_type": "code",
   "execution_count": 37,
   "id": "679268d4-3181-4422-a0bc-2f47b30dede4",
   "metadata": {},
   "outputs": [
    {
     "name": "stdout",
     "output_type": "stream",
     "text": [
      "['날카로운 분석', '날카로운 분석과 신뢰감', '날카로운 분석과 신뢰감 있는 진행', '분석', '신뢰', '진행']\n"
     ]
    }
   ],
   "source": [
    "print(okt.phrases(u'날카로운 분석과 신뢰감 있는 진행으로'))"
   ]
  },
  {
   "cell_type": "code",
   "execution_count": 38,
   "id": "d54be9ef-55ce-48d6-bac8-1e83f3ac2016",
   "metadata": {},
   "outputs": [
    {
     "name": "stdout",
     "output_type": "stream",
     "text": [
      "[('이', 'Determiner'), ('것', 'Noun'), ('도', 'Josa'), ('되나욬', 'Noun'), ('ㅋㅋ', 'KoreanParticle')]\n"
     ]
    }
   ],
   "source": [
    "print(okt.pos(u'이것도 되나욬ㅋㅋ'))"
   ]
  },
  {
   "cell_type": "code",
   "execution_count": null,
   "id": "5f7a35f9-2df2-431f-a85c-9fd368d60f68",
   "metadata": {},
   "outputs": [],
   "source": []
  },
  {
   "cell_type": "code",
   "execution_count": null,
   "id": "3dd9b947-882c-4e0f-88dc-84abc4c20b68",
   "metadata": {},
   "outputs": [],
   "source": []
  }
 ],
 "metadata": {
  "kernelspec": {
   "display_name": "Python 3 (ipykernel)",
   "language": "python",
   "name": "python3"
  },
  "language_info": {
   "codemirror_mode": {
    "name": "ipython",
    "version": 3
   },
   "file_extension": ".py",
   "mimetype": "text/x-python",
   "name": "python",
   "nbconvert_exporter": "python",
   "pygments_lexer": "ipython3",
   "version": "3.9.7"
  }
 },
 "nbformat": 4,
 "nbformat_minor": 5
}
