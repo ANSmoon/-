{
 "cells": [
  {
   "cell_type": "markdown",
   "id": "47c10a94-95d9-4b61-8a0f-6b2016871f9d",
   "metadata": {},
   "source": [
    "## Lambda 표현식\n",
    "- 하나의 함수 개념\n",
    "- 함수 : 작성 code가 길지만 Lambda : code길이가 상대적으로 짧다.\n",
    "- 실제로 data 분석 진행시 람다표현식을 이용해 전처리도 실시\n",
    "- lambda 매겨변수들 : 식"
   ]
  },
  {
   "cell_type": "code",
   "execution_count": 1,
   "id": "e787a3d3-61c5-4a50-ac8c-4e39c25c23f1",
   "metadata": {},
   "outputs": [
    {
     "data": {
      "text/plain": [
       "<function __main__.<lambda>(x)>"
      ]
     },
     "execution_count": 1,
     "metadata": {},
     "output_type": "execute_result"
    }
   ],
   "source": [
    "#제곱근을 만드는 람다표현식\n",
    "lambda x:x*x"
   ]
  },
  {
   "cell_type": "code",
   "execution_count": 3,
   "id": "6d6a7316-eaa2-46c2-94c7-f62747e2c568",
   "metadata": {},
   "outputs": [
    {
     "data": {
      "text/plain": [
       "100"
      ]
     },
     "execution_count": 3,
     "metadata": {},
     "output_type": "execute_result"
    }
   ],
   "source": [
    "ab = lambda x:x*x\n",
    "ab(10)"
   ]
  },
  {
   "cell_type": "markdown",
   "id": "532ab5b8-65a9-4825-99b7-3c11d03de564",
   "metadata": {},
   "source": [
    "### Lambda 표현식 자체로 값 출력\n",
    "- (lambda 매겨변수들 : 식)(넣을 값)"
   ]
  },
  {
   "cell_type": "code",
   "execution_count": 4,
   "id": "09a33953-604b-4e3d-89a3-1dcd15114358",
   "metadata": {},
   "outputs": [
    {
     "data": {
      "text/plain": [
       "100"
      ]
     },
     "execution_count": 4,
     "metadata": {},
     "output_type": "execute_result"
    }
   ],
   "source": [
    "(lambda x:x*x)(10)"
   ]
  },
  {
   "cell_type": "markdown",
   "id": "a050074d-5a7b-4292-9867-9c331c283bef",
   "metadata": {},
   "source": [
    "### map함수를 이용해 람다에 여러가지 값 넣기"
   ]
  },
  {
   "cell_type": "code",
   "execution_count": 8,
   "id": "8f23d297-e429-4a51-a418-ed1d987b75e4",
   "metadata": {},
   "outputs": [],
   "source": [
    "a = list(map(lambda x: x*x,[10,20,30]))"
   ]
  },
  {
   "cell_type": "code",
   "execution_count": 9,
   "id": "aba4a65e-a623-409e-8c10-bbd7f70a435d",
   "metadata": {},
   "outputs": [
    {
     "data": {
      "text/plain": [
       "[100, 400, 900]"
      ]
     },
     "execution_count": 9,
     "metadata": {},
     "output_type": "execute_result"
    }
   ],
   "source": [
    "a"
   ]
  },
  {
   "cell_type": "markdown",
   "id": "3cf4d8e3-2cd0-421d-a1d6-ca273671944b",
   "metadata": {},
   "source": [
    "### Lambda 표현식은 대부분 DataFrame 전처리 진행시 많이 사용\n",
    "- 조건문을 걸어 추가로 더 람다를 확장 가능\n",
    "\n",
    "- lambda 매개변수들 : 식1 if 조건식 else 식2"
   ]
  },
  {
   "cell_type": "code",
   "execution_count": 10,
   "id": "f1d7ced4-dde2-4e4f-b3a0-ac9c039ff7d0",
   "metadata": {},
   "outputs": [],
   "source": [
    "a = [1,2,3,4,5,6,7,8,9,10]"
   ]
  },
  {
   "cell_type": "code",
   "execution_count": 13,
   "id": "25c46681-5402-4b4e-b867-00a366e8e769",
   "metadata": {},
   "outputs": [],
   "source": [
    "b = list(map(lambda x:float(x) if x%2 == 0 else x, a))"
   ]
  },
  {
   "cell_type": "code",
   "execution_count": 14,
   "id": "897c9d41-f4ea-4426-91bf-9e97b240dec3",
   "metadata": {},
   "outputs": [],
   "source": [
    "import pandas as pd"
   ]
  },
  {
   "cell_type": "code",
   "execution_count": 16,
   "id": "3f6bdbf5-bb3d-4c5d-8193-e1a88159db92",
   "metadata": {},
   "outputs": [],
   "source": [
    "#조건식이 2개 이상인 경우?"
   ]
  },
  {
   "cell_type": "markdown",
   "id": "2767f5d6-8568-41cf-b593-638e530f35f0",
   "metadata": {},
   "source": [
    "- lambda 매개변수들 : 식1 if 조건식1 else 식2 if 조건식2 else 식3..."
   ]
  },
  {
   "cell_type": "code",
   "execution_count": 18,
   "id": "fef99326-efcc-4d3c-b804-98dd0d4a6fad",
   "metadata": {},
   "outputs": [
    {
     "data": {
      "text/plain": [
       "[1, 2.0, 3, 4.0, 5, 6.0, '7', 8.0, 9, 10.0]"
      ]
     },
     "execution_count": 18,
     "metadata": {},
     "output_type": "execute_result"
    }
   ],
   "source": [
    "list(map(lambda x:float(x) if x%2==0 else str(x) if x == 7 else x,a))"
   ]
  },
  {
   "cell_type": "markdown",
   "id": "699c8f43-864a-4dc3-95e0-fd87eac3105f",
   "metadata": {},
   "source": [
    "- 람다표현식에서 사용하는 함수\n",
    "- map\n",
    "- filter\n",
    "- reduce\n"
   ]
  },
  {
   "cell_type": "code",
   "execution_count": 19,
   "id": "2c4818d0-23a0-4f78-8ba6-69aa1ba69322",
   "metadata": {},
   "outputs": [],
   "source": [
    "## filter (함수, 반복가능한변수)\n",
    "a = [1,2,3,4,5,6,7,8,9,10]"
   ]
  },
  {
   "cell_type": "code",
   "execution_count": 20,
   "id": "4f69dd0d-e7d5-4fe0-9bfe-bf05024c0d6f",
   "metadata": {},
   "outputs": [
    {
     "data": {
      "text/plain": [
       "[4, 5, 6, 7, 8, 9, 10]"
      ]
     },
     "execution_count": 20,
     "metadata": {},
     "output_type": "execute_result"
    }
   ],
   "source": [
    "list(filter(lambda x : x > 3, a))"
   ]
  },
  {
   "cell_type": "markdown",
   "id": "90516c7b-92c8-4364-81c6-5e984872b304",
   "metadata": {},
   "source": [
    "- reduce\n",
    "- 함수, 반복가능한 객체"
   ]
  },
  {
   "cell_type": "code",
   "execution_count": 21,
   "id": "446630cb-6715-4f35-9f19-0847f6b85a25",
   "metadata": {},
   "outputs": [],
   "source": [
    "from functools import reduce"
   ]
  },
  {
   "cell_type": "code",
   "execution_count": 22,
   "id": "5e6c8646-372c-485e-b6db-731716847f4a",
   "metadata": {},
   "outputs": [
    {
     "data": {
      "text/plain": [
       "3628800"
      ]
     },
     "execution_count": 22,
     "metadata": {},
     "output_type": "execute_result"
    }
   ],
   "source": [
    "reduce(lambda x,y : x*y,a)"
   ]
  },
  {
   "cell_type": "code",
   "execution_count": 23,
   "id": "84e3f720-527c-43a3-94ac-210fcfe3e903",
   "metadata": {},
   "outputs": [
    {
     "data": {
      "text/plain": [
       "[1, 2, 3, 4, 5, 6, 7, 8, 9, 10]"
      ]
     },
     "execution_count": 23,
     "metadata": {},
     "output_type": "execute_result"
    }
   ],
   "source": [
    "a"
   ]
  },
  {
   "cell_type": "markdown",
   "id": "e3fac75d-c0e4-4764-8aaa-f09b8c00db0b",
   "metadata": {},
   "source": [
    "# 정규식표현식\n",
    "- 문자열에 대한 분석을 진행할 경우\n",
    "- 텍스트 분석, nlp\n",
    "- 자연어 처리에 대한 분석 방법 다양\n",
    "- 빈도(word cloud), 감성분석, 예측 머신러닝(chat bot 개념), 자연어 처리 등등\n",
    "- 자연어라는게 정의되지 않은 data\n",
    "- 그런 자연어를 문자열 data를 전처리 하기 위해서 필수적으로 사용하는 표현식"
   ]
  },
  {
   "cell_type": "markdown",
   "id": "45d98fca-2dac-4b8a-9cf2-9898127e70a9",
   "metadata": {},
   "source": [
    "## 정규표현식의 무엇이 좋은가?\n",
    "- 기존 문자열은 lstrip, split, replace 이런 함수들로 지정된 기능을 수행할 수 있는 함수\n",
    "- 한국어라면 예외가 너무 많고, 다양한 상황속 지정된 함수만 사용시 원한는 전처리 불가\n",
    "- 정규표현식은 원하는 상황(분석이 필요한 상황)에서 원하는 방법으로 문자열을 전처리 할 수 있는 방법\n",
    "\n",
    "- regular expressio re\n",
    "- 정규표현식을 사용하려면 함수를 불러와야 함\n",
    "- import re\n",
    "\n",
    "### 가장 중요한 정규표현식의 key\n",
    "- 내가 원하는 문자열 패턴을 만들어 해당 패턴을 추출할 수 있다.\n",
    "- 다양한 전처리가 가능하고 쉽고 빠르게 전처리가 가능하다.\n",
    "\n",
    "- 001215-4587532 주민번호 : 앞부터 맨 뒤 앞자리까지만 가지고 오고 싶다."
   ]
  },
  {
   "cell_type": "code",
   "execution_count": 32,
   "id": "e192b5c1-d5c1-4198-b5b2-25d19939e8a6",
   "metadata": {},
   "outputs": [],
   "source": [
    "import re"
   ]
  },
  {
   "cell_type": "markdown",
   "id": "01fae20f-a7c0-4f54-b76b-8e963d78facf",
   "metadata": {},
   "source": [
    "- 정규식에는 2가지 찾는 방법이 존재\n",
    "- match('패턴', '문자열') - 맨앞의 index 기준으로 해당 값이 있는지 체크 후 맨앞에 없을시 뒤 단어는 탐색 중지\n",
    "- search : 전체 문자열 패턴에서 내가 원하는 패턴 탐색"
   ]
  },
  {
   "cell_type": "code",
   "execution_count": 43,
   "id": "e48c85da-6efe-46d3-8717-2ce10505e9ac",
   "metadata": {},
   "outputs": [
    {
     "data": {
      "text/plain": [
       "<re.Match object; span=(0, 5), match='hello'>"
      ]
     },
     "execution_count": 43,
     "metadata": {},
     "output_type": "execute_result"
    }
   ],
   "source": [
    "re.match('hello', 'hello Python!')"
   ]
  },
  {
   "cell_type": "code",
   "execution_count": 41,
   "id": "8036ac91-8c2d-4a25-b24c-947ac57b78ac",
   "metadata": {},
   "outputs": [
    {
     "data": {
      "text/plain": [
       "<re.Match object; span=(0, 2), match='안녕'>"
      ]
     },
     "execution_count": 41,
     "metadata": {},
     "output_type": "execute_result"
    }
   ],
   "source": [
    "re.match('안녕?','안녕!')"
   ]
  },
  {
   "cell_type": "code",
   "execution_count": 48,
   "id": "d52af517-b294-4669-9ed0-5d95411e1846",
   "metadata": {},
   "outputs": [],
   "source": [
    "re.match('안녕?', 'python, 안녕!') #뒤에 있는 단어는 찾지 못한다."
   ]
  },
  {
   "cell_type": "code",
   "execution_count": 47,
   "id": "b77c8c0b-d6c3-4217-9385-8e8a2acea8a8",
   "metadata": {},
   "outputs": [
    {
     "data": {
      "text/plain": [
       "<re.Match object; span=(8, 10), match='안녕'>"
      ]
     },
     "execution_count": 47,
     "metadata": {},
     "output_type": "execute_result"
    }
   ],
   "source": [
    "re.search('안녕?', 'python, 안녕!') #search는 뒤에 있는 단어를 찾아준다."
   ]
  },
  {
   "cell_type": "markdown",
   "id": "802e3d46-f4da-4d1c-be70-d1cecb390cfd",
   "metadata": {},
   "source": [
    "- 다양한 정규표현식 방법\n",
    "- 문자열 앞에 ^을 붙이면 문자열이 맨 앞에 오는지 판단\n",
    "- 문자열 뒤에 $을 붙이면 문자열이 맨 뒤에 오는지 판단(특정 문자열로 되는지 체크함)"
   ]
  },
  {
   "cell_type": "code",
   "execution_count": 50,
   "id": "bde88dfe-7ada-4809-a375-4bcc6719cdb8",
   "metadata": {},
   "outputs": [
    {
     "data": {
      "text/plain": [
       "<re.Match object; span=(0, 5), match='hello'>"
      ]
     },
     "execution_count": 50,
     "metadata": {},
     "output_type": "execute_result"
    }
   ],
   "source": [
    "re.search('^hello','hello, World!')"
   ]
  },
  {
   "cell_type": "code",
   "execution_count": 51,
   "id": "1c8bf505-6108-46ba-9f45-2b52ca23d3a6",
   "metadata": {},
   "outputs": [
    {
     "data": {
      "text/plain": [
       "<re.Match object; span=(7, 12), match='Hello'>"
      ]
     },
     "execution_count": 51,
     "metadata": {},
     "output_type": "execute_result"
    }
   ],
   "source": [
    "re.search('Hello$', 'Hello, Hello')"
   ]
  },
  {
   "cell_type": "code",
   "execution_count": 52,
   "id": "0925d062-0f34-468a-bef0-16ba4f8e585d",
   "metadata": {},
   "outputs": [],
   "source": [
    "re.match('Hello', 'abc, Hello')"
   ]
  },
  {
   "cell_type": "code",
   "execution_count": 54,
   "id": "791c7eb9-3ce0-4e39-8797-875771d3cd38",
   "metadata": {},
   "outputs": [],
   "source": [
    "re.match('Hello&', 'abc, Hello') #match는 뒤에 문자열에 정규식 표현을 써도 찾지 못한다. match 맨앞의 인덱스에 꼭 해당하는 값이 있어야 한다."
   ]
  },
  {
   "cell_type": "markdown",
   "id": "a2bdee86-becc-4238-9100-142b450c59cf",
   "metadata": {},
   "source": [
    "- 문자열 | 문자열 | 문자열\n",
    "- 다중으로 탐색 가능"
   ]
  },
  {
   "cell_type": "code",
   "execution_count": 57,
   "id": "85966f4d-7574-44a3-b1bd-f1bb59068a9d",
   "metadata": {},
   "outputs": [
    {
     "data": {
      "text/plain": [
       "<re.Match object; span=(0, 2), match='hi'>"
      ]
     },
     "execution_count": 57,
     "metadata": {},
     "output_type": "execute_result"
    }
   ],
   "source": [
    "re.match('hi|hello|안녕?', 'hi') # 3개중 하나라도 있으면 찾아라!"
   ]
  },
  {
   "cell_type": "markdown",
   "id": "8219d6f7-05b3-4adc-9255-45dce5daf484",
   "metadata": {},
   "source": [
    "### 정규표현식으로 한글, 알파벳, 숫자 표현\n",
    "\n",
    "- 숫자표현[0~9] 모든 숫자\n",
    "- 알파벳은 [a-z], 대문자는[A-Z] 소문자와 대문자 모두 찾길 원하면 [a-zA-Z]\n",
    "- 한글은 [가-힣] 자음, 모음 나눌 수 있다.[ㄱ-ㅎ][ㅏ-ㅣ]\n",
    "- 정규표현식을 이용해서 기존에 사용했던 함수 외에 내가 원하는 패턴을 만들 수 있다.\n",
    "- 어떤 특정 data 안에서 한글만 추출해 주세요.\n",
    "- 어떤 특정 data 안에서 영어만 추출해 주세요.\n",
    "- 어떤 특정 data 안에서 숫자만 추출해 주세요."
   ]
  },
  {
   "cell_type": "code",
   "execution_count": 59,
   "id": "ad84629b-95e9-46cb-b849-9e5059a9d068",
   "metadata": {},
   "outputs": [
    {
     "data": {
      "text/plain": [
       "<re.Match object; span=(0, 1), match='1'>"
      ]
     },
     "execution_count": 59,
     "metadata": {},
     "output_type": "execute_result"
    }
   ],
   "source": [
    "re.match('[0-9]', '1a안녕?')"
   ]
  },
  {
   "cell_type": "code",
   "execution_count": 61,
   "id": "8c0f6f4e-f5e5-4684-971a-a47140d29821",
   "metadata": {},
   "outputs": [
    {
     "data": {
      "text/plain": [
       "<re.Match object; span=(1, 2), match='a'>"
      ]
     },
     "execution_count": 61,
     "metadata": {},
     "output_type": "execute_result"
    }
   ],
   "source": [
    "re.search('[a-z]','1a안녕?')"
   ]
  },
  {
   "cell_type": "code",
   "execution_count": 62,
   "id": "75916dcb-2364-4b61-aa25-06203f09c283",
   "metadata": {},
   "outputs": [
    {
     "data": {
      "text/plain": [
       "<re.Match object; span=(2, 3), match='안'>"
      ]
     },
     "execution_count": 62,
     "metadata": {},
     "output_type": "execute_result"
    }
   ],
   "source": [
    "re.search('[가-힣]','1a안녕?')"
   ]
  },
  {
   "cell_type": "markdown",
   "id": "7fefbe49-c60b-43d7-a3cb-067cd11f2728",
   "metadata": {},
   "source": [
    "- 서울특별시 강남구 신사동\n",
    "- 이 data에서 특정 패턴만 추출할 수 있다."
   ]
  },
  {
   "cell_type": "code",
   "execution_count": 63,
   "id": "6a74f3d5-da25-4764-8965-e0cfad618876",
   "metadata": {},
   "outputs": [
    {
     "data": {
      "text/plain": [
       "<re.Match object; span=(0, 1), match='0'>"
      ]
     },
     "execution_count": 63,
     "metadata": {},
     "output_type": "execute_result"
    }
   ],
   "source": [
    "re.match('[0-9]','001212-1245721, 주민등록번호입니다.')"
   ]
  },
  {
   "cell_type": "markdown",
   "id": "014098b8-aad5-4f5c-ade0-664cb3b29fe9",
   "metadata": {},
   "source": [
    "- \"+\" : 1개이상의 문자가 있는지 판단\n",
    "- \"*\" : 0개이상의 문자가 있는지 판단\n",
    "\n",
    "- 둘의 차이\n",
    "- 둘다 몇 개 이상의 문자열을 찾는 것"
   ]
  },
  {
   "cell_type": "code",
   "execution_count": 72,
   "id": "54e459e3-34a0-4545-b420-b7a17ffa6923",
   "metadata": {},
   "outputs": [
    {
     "data": {
      "text/plain": [
       "<re.Match object; span=(0, 1), match='1'>"
      ]
     },
     "execution_count": 72,
     "metadata": {},
     "output_type": "execute_result"
    }
   ],
   "source": [
    "re.match('[0-9]','1234')"
   ]
  },
  {
   "cell_type": "code",
   "execution_count": 73,
   "id": "97effb6d-d97c-4166-8ecf-83fb3bd7f16b",
   "metadata": {},
   "outputs": [
    {
     "data": {
      "text/plain": [
       "<re.Match object; span=(0, 4), match='1234'>"
      ]
     },
     "execution_count": 73,
     "metadata": {},
     "output_type": "execute_result"
    }
   ],
   "source": [
    "re.match('[0-9]+','1234')"
   ]
  },
  {
   "cell_type": "code",
   "execution_count": 74,
   "id": "0c218328-8545-4546-878a-60c5336f3cc8",
   "metadata": {},
   "outputs": [
    {
     "data": {
      "text/plain": [
       "<re.Match object; span=(0, 4), match='1234'>"
      ]
     },
     "execution_count": 74,
     "metadata": {},
     "output_type": "execute_result"
    }
   ],
   "source": [
    "re.match('[0-9]*','1234')"
   ]
  },
  {
   "cell_type": "markdown",
   "id": "93a47583-201f-49eb-b403-8e698e87533a",
   "metadata": {},
   "source": [
    "'+'.'*' 차이는?"
   ]
  },
  {
   "cell_type": "code",
   "execution_count": 81,
   "id": "bea1841b-5314-4dac-ae1a-fc96a7468c0b",
   "metadata": {},
   "outputs": [],
   "source": [
    "re.match('a+b','b') #b에 a가 1개 이상 없다."
   ]
  },
  {
   "cell_type": "code",
   "execution_count": 82,
   "id": "513501c6-c425-4852-b6f9-c5ebc51d187f",
   "metadata": {},
   "outputs": [
    {
     "data": {
      "text/plain": [
       "<re.Match object; span=(0, 1), match='b'>"
      ]
     },
     "execution_count": 82,
     "metadata": {},
     "output_type": "execute_result"
    }
   ],
   "source": [
    "re.match('a*b','b') #b에는 a가 0개 이상 있다. 매칭이 되는것"
   ]
  },
  {
   "cell_type": "code",
   "execution_count": 91,
   "id": "5f354db5-d174-44cd-97d0-b28067cfb68b",
   "metadata": {},
   "outputs": [
    {
     "data": {
      "text/plain": [
       "<re.Match object; span=(0, 2), match='ab'>"
      ]
     },
     "execution_count": 91,
     "metadata": {},
     "output_type": "execute_result"
    }
   ],
   "source": [
    "re.match('a+b','ab') #b에는 a가 1개 이상 없다."
   ]
  },
  {
   "cell_type": "code",
   "execution_count": 92,
   "id": "b0daa5e5-2805-42af-950a-1612431c541a",
   "metadata": {},
   "outputs": [
    {
     "data": {
      "text/plain": [
       "<re.Match object; span=(0, 2), match='ab'>"
      ]
     },
     "execution_count": 92,
     "metadata": {},
     "output_type": "execute_result"
    }
   ],
   "source": [
    "re.match('a*b','ab') #b에는 a가 "
   ]
  },
  {
   "cell_type": "code",
   "execution_count": null,
   "id": "91184fd7-a747-4e3b-885f-9f8c825a605e",
   "metadata": {},
   "outputs": [],
   "source": []
  },
  {
   "cell_type": "code",
   "execution_count": 65,
   "id": "d2888da7-52b6-4ef7-af86-c52c3dce4936",
   "metadata": {},
   "outputs": [
    {
     "data": {
      "text/plain": [
       "<re.Match object; span=(0, 6), match='001212'>"
      ]
     },
     "execution_count": 65,
     "metadata": {},
     "output_type": "execute_result"
    }
   ],
   "source": [
    "re.match('[0-9]+','001212-1245721, 주민등록번호입니다.')"
   ]
  },
  {
   "cell_type": "code",
   "execution_count": 67,
   "id": "cf8bdf30-5996-4329-93a5-63c4007819ad",
   "metadata": {},
   "outputs": [
    {
     "data": {
      "text/plain": [
       "<re.Match object; span=(0, 6), match='001212'>"
      ]
     },
     "execution_count": 67,
     "metadata": {},
     "output_type": "execute_result"
    }
   ],
   "source": [
    "re.search('[0-9]+','001212-1245721, 주민등록번호입니다.')"
   ]
  },
  {
   "cell_type": "markdown",
   "id": "9eff4ac8-7803-43ec-b15a-10ba5725f410",
   "metadata": {},
   "source": [
    "### 휴대전화번호 data를 추출해야 한다.\n",
    "- 010-0000-0000 이 하나의 패턴이 된다.\n",
    "- 00000-1 하나의 패턴이 된다.\n",
    "- 패턴을 내가 만들어서 data를 추출할 수 있다."
   ]
  },
  {
   "cell_type": "markdown",
   "id": "c2e84fa4-2886-45de-805a-f36f1e3e7cfb",
   "metadata": {},
   "source": [
    "### 문자 갯수 추가하기\n",
    "- 문자(갯수)\n",
    "- (문자열)(개수)"
   ]
  },
  {
   "cell_type": "code",
   "execution_count": 99,
   "id": "4a6d749b-baff-4719-b75d-6b123b2a2390",
   "metadata": {},
   "outputs": [],
   "source": [
    "re.match('[0-9]{3}-{0-9]{4}-[0-9]{4}','010-1234-5678')"
   ]
  },
  {
   "cell_type": "markdown",
   "id": "3bdc972a-f722-4e22-82bf-c8d981867c7a",
   "metadata": {},
   "source": [
    "- 이메일주소 패턴\n",
    "- 정규식으로 표현하기\n",
    "- 영어 숫자, 소문자가능, @ 포함, 사이트, com, org,net 등 다양"
   ]
  },
  {
   "cell_type": "code",
   "execution_count": 90,
   "id": "f0c6da70-60b9-45e8-8159-9531e1106daa",
   "metadata": {},
   "outputs": [
    {
     "data": {
      "text/plain": [
       "<re.Match object; span=(0, 10), match='bdaadfasd1'>"
      ]
     },
     "execution_count": 90,
     "metadata": {},
     "output_type": "execute_result"
    }
   ],
   "source": [
    "re.match('[a-zA-Z0-9]+','bdaadfasd1')"
   ]
  },
  {
   "cell_type": "code",
   "execution_count": 100,
   "id": "ae66cf3d-0119-49e2-b407-1cbd28979591",
   "metadata": {},
   "outputs": [
    {
     "data": {
      "text/plain": [
       "<re.Match object; span=(0, 2), match='브다'>"
      ]
     },
     "execution_count": 100,
     "metadata": {},
     "output_type": "execute_result"
    }
   ],
   "source": [
    "re.match('[가-힣]+','브다')"
   ]
  },
  {
   "cell_type": "markdown",
   "id": "3b27ad5e-f15c-494a-b72e-e4440217d416",
   "metadata": {},
   "source": [
    "### 복습 필수\n",
    "### 필수 과제1\n",
    "- 이메일패턴을 만들기\n",
    "- 이메일패턴의 규칙 존재\n",
    "- 구글링 말고 복습으로 만드기\n",
    "- 규칙 1. 이메일 주소는 알파벳 소문자로만 시작, 숫자로 시작할 수 없음\n",
    "- 규칙 2. 특수문자는 사용 불가\n",
    "- 규칙 3. @naver, gmail, 기업 등등, com, org, net, kr까지 모두 다 사용 가능\n",
    "- 규칙 3개를 만족하는 정규식 패턴을 만들고 실제 메일 주소를 넣었을 때 작동이 되는지 code로 작성하기."
   ]
  },
  {
   "cell_type": "code",
   "execution_count": null,
   "id": "95c95900-4ceb-4621-a8bd-431b77d154ee",
   "metadata": {},
   "outputs": [],
   "source": []
  }
 ],
 "metadata": {
  "kernelspec": {
   "display_name": "Python 3 (ipykernel)",
   "language": "python",
   "name": "python3"
  },
  "language_info": {
   "codemirror_mode": {
    "name": "ipython",
    "version": 3
   },
   "file_extension": ".py",
   "mimetype": "text/x-python",
   "name": "python",
   "nbconvert_exporter": "python",
   "pygments_lexer": "ipython3",
   "version": "3.9.12"
  }
 },
 "nbformat": 4,
 "nbformat_minor": 5
}
