{
 "cells": [
  {
   "cell_type": "markdown",
   "id": "2d9dd1b6-72a2-4acb-8ada-ef0d512242ab",
   "metadata": {},
   "source": [
    "## Dictionary\n",
    "- Dictionary properties"
   ]
  },
  {
   "cell_type": "code",
   "execution_count": 1,
   "id": "c6fe6a0c-2193-4128-8e7f-cdd4b3f72bba",
   "metadata": {},
   "outputs": [],
   "source": [
    "## 키 이름이 중복돌 시\n",
    "abc = { 'a' : 100, 'a' : 50, 'b' : 10, 'c' : 5}"
   ]
  },
  {
   "cell_type": "code",
   "execution_count": 2,
   "id": "03c3081c-5fec-4d26-b2b1-72546ca53144",
   "metadata": {},
   "outputs": [
    {
     "data": {
      "text/plain": [
       "{'a': 50, 'b': 10, 'c': 5}"
      ]
     },
     "execution_count": 2,
     "metadata": {},
     "output_type": "execute_result"
    }
   ],
   "source": [
    "abc # 가장 뒤에 있는 value가 저장된다."
   ]
  },
  {
   "cell_type": "code",
   "execution_count": 3,
   "id": "aaeb21af-4bb2-4d2f-a621-706d530524d8",
   "metadata": {},
   "outputs": [],
   "source": [
    "## Dictionary key's 자료형!\n",
    "# Dictionary key도 동일하게 모든 자료형이 가능하다.\n",
    "x = {100 : 'c', True : 1, 5.5 : [123]}"
   ]
  },
  {
   "cell_type": "code",
   "execution_count": 4,
   "id": "7f641c9b-008b-4b5f-8a0c-efa31d050bf2",
   "metadata": {},
   "outputs": [
    {
     "data": {
      "text/plain": [
       "{100: 'c', True: 1, 5.5: [123]}"
      ]
     },
     "execution_count": 4,
     "metadata": {},
     "output_type": "execute_result"
    }
   ],
   "source": [
    "x"
   ]
  },
  {
   "cell_type": "markdown",
   "id": "67aa6dc4-45c6-4c2e-adf9-efccb6994f5c",
   "metadata": {},
   "source": [
    "- Dictionary 만드는 법\n",
    "- Dictionary = {}\n",
    "- Dictionary = dict()\n",
    "\n",
    "- dict로 Dictionary 만들기\n",
    "- 변수 = dict(key1 = value1, key2 = value2)\n",
    "- 변수 = dict(zip([key1, key2], [value1, value2]))\n",
    "- 변수 = dict([(key1, value1),(key2,value2)])\n",
    "- 변수 = dict((key1:value1, key2:value2))\n",
    "\n",
    "## 과제 1\n",
    "- 분명 error가 나는 경우가 발생!\n",
    "- Dictionary를 만들면서 발생한 error를 어떻게 해결했는지 코드를 정리하고 주석처리로 표시할 것"
   ]
  },
  {
   "cell_type": "code",
   "execution_count": 5,
   "id": "239f1867-c09a-4bfd-b586-92d089c60558",
   "metadata": {},
   "outputs": [],
   "source": [
    "new_dict = dict(a = 50, b = 70, c = 10)"
   ]
  },
  {
   "cell_type": "code",
   "execution_count": 6,
   "id": "81a89ae3-1541-41be-b921-51c0665d48e4",
   "metadata": {},
   "outputs": [
    {
     "data": {
      "text/plain": [
       "{'a': 50, 'b': 70, 'c': 10}"
      ]
     },
     "execution_count": 6,
     "metadata": {},
     "output_type": "execute_result"
    }
   ],
   "source": [
    "new_dict"
   ]
  },
  {
   "cell_type": "markdown",
   "id": "668b6df6-689b-4cf1-8dcd-a5f803f9622e",
   "metadata": {},
   "source": [
    "### Dictionary는 key에 접근하고 value에 할당한다.\n",
    "- Dictionary[key]"
   ]
  },
  {
   "cell_type": "code",
   "execution_count": 7,
   "id": "0836f1a0-255b-4802-9b2b-a1aba36fedf3",
   "metadata": {},
   "outputs": [],
   "source": [
    "a = [1,2,3,4]"
   ]
  },
  {
   "cell_type": "code",
   "execution_count": 8,
   "id": "7cd7a64c-ed22-4185-9cda-b791102c35b5",
   "metadata": {},
   "outputs": [
    {
     "data": {
      "text/plain": [
       "[1, 2, 3, 4]"
      ]
     },
     "execution_count": 8,
     "metadata": {},
     "output_type": "execute_result"
    }
   ],
   "source": [
    "a"
   ]
  },
  {
   "cell_type": "code",
   "execution_count": 9,
   "id": "14b1ef68-cd54-461f-9c7e-4a03bc169a0a",
   "metadata": {},
   "outputs": [],
   "source": [
    "a[0] = 10"
   ]
  },
  {
   "cell_type": "code",
   "execution_count": 10,
   "id": "d71ad343-f55d-458f-b389-3cb8813516ee",
   "metadata": {},
   "outputs": [
    {
     "data": {
      "text/plain": [
       "[10, 2, 3, 4]"
      ]
     },
     "execution_count": 10,
     "metadata": {},
     "output_type": "execute_result"
    }
   ],
   "source": [
    "a"
   ]
  },
  {
   "cell_type": "code",
   "execution_count": 11,
   "id": "223f3548-2981-404e-8c55-9a8b33636dac",
   "metadata": {},
   "outputs": [],
   "source": [
    "### Dictionary key에 value 할당하기\n",
    "# Dictionary[key] = value"
   ]
  },
  {
   "cell_type": "code",
   "execution_count": 12,
   "id": "ae190104-a60e-4b5a-9e91-957b8b848697",
   "metadata": {},
   "outputs": [
    {
     "data": {
      "text/plain": [
       "{'a': 50, 'b': 70, 'c': 10}"
      ]
     },
     "execution_count": 12,
     "metadata": {},
     "output_type": "execute_result"
    }
   ],
   "source": [
    "new_dict"
   ]
  },
  {
   "cell_type": "code",
   "execution_count": 13,
   "id": "3b9f4f58-20e3-48d3-9c74-9456813ccd0a",
   "metadata": {},
   "outputs": [],
   "source": [
    "new_dict['b'] = 100"
   ]
  },
  {
   "cell_type": "code",
   "execution_count": 14,
   "id": "8994fac7-b25d-4af8-812a-f4f8fa54b7aa",
   "metadata": {},
   "outputs": [
    {
     "data": {
      "text/plain": [
       "{'a': 50, 'b': 100, 'c': 10}"
      ]
     },
     "execution_count": 14,
     "metadata": {},
     "output_type": "execute_result"
    }
   ],
   "source": [
    "new_dict"
   ]
  },
  {
   "cell_type": "code",
   "execution_count": 15,
   "id": "7ebd6a8e-928f-4675-af65-5db5662d6534",
   "metadata": {},
   "outputs": [
    {
     "data": {
      "text/plain": [
       "True"
      ]
     },
     "execution_count": 15,
     "metadata": {},
     "output_type": "execute_result"
    }
   ],
   "source": [
    "## Dictionary에 key가 있는지 확인하는 방법 = in\n",
    "'a' in new_dict"
   ]
  },
  {
   "cell_type": "code",
   "execution_count": 16,
   "id": "f594c780-0b92-4804-9e1e-25d7399e0ea0",
   "metadata": {},
   "outputs": [
    {
     "data": {
      "text/plain": [
       "3"
      ]
     },
     "execution_count": 16,
     "metadata": {},
     "output_type": "execute_result"
    }
   ],
   "source": [
    "len(new_dict)"
   ]
  },
  {
   "cell_type": "code",
   "execution_count": 17,
   "id": "23796d72-ceb6-4048-9854-45853ef47ebb",
   "metadata": {},
   "outputs": [
    {
     "data": {
      "text/plain": [
       "{'a': 50, 'b': 100, 'c': 10}"
      ]
     },
     "execution_count": 17,
     "metadata": {},
     "output_type": "execute_result"
    }
   ],
   "source": [
    "new_dict"
   ]
  },
  {
   "cell_type": "markdown",
   "id": "de15e2ea-ffce-4ebb-a627-3b1649d74c65",
   "metadata": {},
   "source": [
    "# if 조건문\n",
    "\n",
    "- 내가 원하는 조건이 생기고, 그 조건을 만족할 때 어떤 code가 작동한다.\n",
    "- 만약 x가 10이면, 10이라고 말해라!\n",
    "- 만약 True이면, True라고 말해라!\n",
    "\n",
    "- if it is rain now,\n",
    "    - take umbrella\n",
    "    \n",
    "### if 조건문?\n",
    "\n",
    "- if 조건식(내가 원하는 여러가지 식): (끝에 : 필요)\n",
    "    - code(들여쓰기 후 작성)\n",
    "- 반드시 if 다음 code문은 들여쓰기가 필요하다."
   ]
  },
  {
   "cell_type": "code",
   "execution_count": 18,
   "id": "504f2f72-cca2-4ed1-add7-71d61c8fa5be",
   "metadata": {},
   "outputs": [],
   "source": [
    "## x가 10일 때 10입니다를  출력하는 조건문 작성\n",
    "x = 10"
   ]
  },
  {
   "cell_type": "code",
   "execution_count": 19,
   "id": "886cfa3a-38a4-4587-8cac-6ea76a0e82b5",
   "metadata": {},
   "outputs": [
    {
     "data": {
      "text/plain": [
       "10"
      ]
     },
     "execution_count": 19,
     "metadata": {},
     "output_type": "execute_result"
    }
   ],
   "source": [
    "x"
   ]
  },
  {
   "cell_type": "code",
   "execution_count": 20,
   "id": "361e0c1f-60f9-44c0-9288-8b7c00404ff1",
   "metadata": {},
   "outputs": [
    {
     "data": {
      "text/plain": [
       "True"
      ]
     },
     "execution_count": 20,
     "metadata": {},
     "output_type": "execute_result"
    }
   ],
   "source": [
    "x == 10"
   ]
  },
  {
   "cell_type": "code",
   "execution_count": 21,
   "id": "cd4e4951-5685-4425-b2fb-95b5345d2b73",
   "metadata": {},
   "outputs": [
    {
     "name": "stdout",
     "output_type": "stream",
     "text": [
      "10 입니다\n"
     ]
    }
   ],
   "source": [
    "if x == 10:\n",
    "    print('10 입니다')"
   ]
  },
  {
   "cell_type": "code",
   "execution_count": 22,
   "id": "c24f4102-e8a5-48ef-9135-d1bff7b2514c",
   "metadata": {},
   "outputs": [
    {
     "name": "stdout",
     "output_type": "stream",
     "text": [
      "10이 아닙니다\n"
     ]
    }
   ],
   "source": [
    "y = 20\n",
    "if y != 10:\n",
    "    print('10이 아닙니다')"
   ]
  },
  {
   "cell_type": "code",
   "execution_count": 23,
   "id": "790be011-33ff-4f1f-a407-e24e99e531a9",
   "metadata": {},
   "outputs": [
    {
     "ename": "IndentationError",
     "evalue": "expected an indented block (3259109256.py, line 2)",
     "output_type": "error",
     "traceback": [
      "\u001b[1;36m  Input \u001b[1;32mIn [23]\u001b[1;36m\u001b[0m\n\u001b[1;33m    print('10입니다.')\u001b[0m\n\u001b[1;37m    ^\u001b[0m\n\u001b[1;31mIndentationError\u001b[0m\u001b[1;31m:\u001b[0m expected an indented block\n"
     ]
    }
   ],
   "source": [
    "if x == 10:\n",
    "print('10입니다.')\n",
    "# 들여쓰기 미실시시 error 발생"
   ]
  },
  {
   "cell_type": "markdown",
   "id": "cde63a39-4233-4de6-bdbd-c60d0d530b47",
   "metadata": {},
   "source": [
    "### 중첩 조건문을 사용해 보자!"
   ]
  },
  {
   "cell_type": "code",
   "execution_count": 24,
   "id": "500a6ba5-b6da-4cbe-b3e9-db1aeacb205b",
   "metadata": {},
   "outputs": [],
   "source": [
    "x = 17"
   ]
  },
  {
   "cell_type": "code",
   "execution_count": 25,
   "id": "8e087d0f-2016-4326-ac11-618cc79aa3c3",
   "metadata": {},
   "outputs": [
    {
     "name": "stdout",
     "output_type": "stream",
     "text": [
      "10 이상입니다.\n",
      "17 입니다.\n"
     ]
    }
   ],
   "source": [
    "if x >= 10:\n",
    "    print('10 이상입니다.') # True여야 다음 code 작동\n",
    "    if x == 17:           \n",
    "        print('17 입니다.')\n",
    "        if x == 20:\n",
    "            print('20 입니다.')"
   ]
  },
  {
   "cell_type": "code",
   "execution_count": 26,
   "id": "e3ba8b49-5ed3-4afa-8d71-4d4b8d91971f",
   "metadata": {},
   "outputs": [
    {
     "data": {
      "text/plain": [
       "True"
      ]
     },
     "execution_count": 26,
     "metadata": {},
     "output_type": "execute_result"
    }
   ],
   "source": [
    "x >= 10"
   ]
  },
  {
   "cell_type": "code",
   "execution_count": 27,
   "id": "65949eda-3a61-4f17-b7b4-099c6d89a515",
   "metadata": {},
   "outputs": [
    {
     "name": "stdout",
     "output_type": "stream",
     "text": [
      "10 이상입니다.\n"
     ]
    }
   ],
   "source": [
    "if x >= 10:\n",
    "    print('10 이상입니다.')\n",
    "    if x == 20:\n",
    "        print('20 입니다')\n",
    "if x == 20:\n",
    "    print('20 입니다')"
   ]
  },
  {
   "cell_type": "markdown",
   "id": "12f2b1d3-1658-4035-b35f-33d2dbec01f7",
   "metadata": {},
   "source": [
    "즉 2개의 code를 보면 알다시피 조건식의 상위값이 True여야 다음 내부 조건식을 작동시킨다.\n",
    "\n",
    "조건식의 들여쓰기는 중요한 의미를 갖는다.\n",
    "들여쓰기 없이 같은 라인에 작성된다면 동등한 우선순위를 갖게된다.\n",
    "왼쪽과 가까운 순으로 우선순위가 크다고 할 수 있다."
   ]
  },
  {
   "cell_type": "code",
   "execution_count": 28,
   "id": "0913beba-0d82-43f1-8b1c-d0bd38dabdb3",
   "metadata": {},
   "outputs": [
    {
     "name": "stdout",
     "output_type": "stream",
     "text": [
      "50 이하 대상자\n",
      "50\n"
     ]
    }
   ],
   "source": [
    "z = 50\n",
    "\n",
    "if z > 50:\n",
    "    print('50 초과 대상자')\n",
    "    if z > 70:\n",
    "        print('70 초과 대상자')\n",
    "\n",
    "if z <= 50:\n",
    "    print('50 이하 대상자')\n",
    "    if z == 50:\n",
    "        print('50')"
   ]
  },
  {
   "cell_type": "code",
   "execution_count": 32,
   "id": "4c1aa901-f25d-4d4b-82a2-2eb40717adb6",
   "metadata": {},
   "outputs": [
    {
     "name": "stdin",
     "output_type": "stream",
     "text": [
      " 5\n"
     ]
    },
    {
     "name": "stdout",
     "output_type": "stream",
     "text": [
      "B\n"
     ]
    }
   ],
   "source": [
    "## 유저에게 어떤 값을 입력 받아서 해당 값을 (숫자)통해 10점 이상이면 A, 10점 미만이면 B\n",
    "\n",
    "t = int(input())\n",
    "\n",
    "if t >= 10:\n",
    "    print('A')\n",
    "if t < 10:\n",
    "    print('B')"
   ]
  },
  {
   "cell_type": "markdown",
   "id": "19de20fc-6883-45a4-b2b0-114260cd8f23",
   "metadata": {},
   "source": [
    "## else를 사용하여 조건문을 2개로 나누기!\n",
    "\n",
    "- 만약 비가 오면:\n",
    "    - 우산 챙기기\n",
    "- 근데 안오면?:\n",
    "    - 우산 두고 오기\n",
    "   "
   ]
  },
  {
   "cell_type": "markdown",
   "id": "869487ee-267a-4837-bf35-0b66ddf626ad",
   "metadata": {},
   "source": [
    "- if 조건식:\n",
    "    - code 1\n",
    "- else:\n",
    "    - code 2"
   ]
  },
  {
   "cell_type": "code",
   "execution_count": 33,
   "id": "5db05098-07be-437c-8cad-1e2feb0ab9eb",
   "metadata": {},
   "outputs": [],
   "source": [
    "x = 17"
   ]
  },
  {
   "cell_type": "code",
   "execution_count": 34,
   "id": "70dd55b0-b0c0-4568-a59b-5bef660f733b",
   "metadata": {},
   "outputs": [
    {
     "name": "stdout",
     "output_type": "stream",
     "text": [
      "10이 아닙니다.\n"
     ]
    }
   ],
   "source": [
    "if x == 10:\n",
    "    print('10 입니다.')\n",
    "else:\n",
    "    print('10이 아닙니다.')\n"
   ]
  },
  {
   "cell_type": "code",
   "execution_count": 36,
   "id": "addd4aaf-0d32-465e-97f4-83fcff00e15a",
   "metadata": {},
   "outputs": [
    {
     "name": "stdin",
     "output_type": "stream",
     "text": [
      " 100000000\n"
     ]
    },
    {
     "name": "stdout",
     "output_type": "stream",
     "text": [
      "A\n"
     ]
    }
   ],
   "source": [
    "x = int(input())\n",
    "\n",
    "if x >= 10:\n",
    "    print('A')\n",
    "else:\n",
    "    print('B')\n",
    "# else에 대해서는 다른 조건을 걸지 않는다.(나머지란 뜻)"
   ]
  },
  {
   "cell_type": "markdown",
   "id": "1a37d1e6-3447-471f-8570-fa52f9553c85",
   "metadata": {},
   "source": [
    "## 조건식을 여러 개 지정하기!"
   ]
  },
  {
   "cell_type": "code",
   "execution_count": 37,
   "id": "2f66be35-c0a5-408e-8b98-fe082ceb261a",
   "metadata": {},
   "outputs": [],
   "source": [
    "x = 10\n",
    "y = 30"
   ]
  },
  {
   "cell_type": "code",
   "execution_count": 38,
   "id": "bd5a91c9-bbc1-447d-926e-88816884e8cd",
   "metadata": {},
   "outputs": [
    {
     "data": {
      "text/plain": [
       "True"
      ]
     },
     "execution_count": 38,
     "metadata": {},
     "output_type": "execute_result"
    }
   ],
   "source": [
    "x == 10 or y == 30"
   ]
  },
  {
   "cell_type": "code",
   "execution_count": 39,
   "id": "2d8536a6-c252-4ee2-a69d-c0c4b6fd4cc4",
   "metadata": {},
   "outputs": [
    {
     "data": {
      "text/plain": [
       "True"
      ]
     },
     "execution_count": 39,
     "metadata": {},
     "output_type": "execute_result"
    }
   ],
   "source": [
    "x == 10 and y == 30"
   ]
  },
  {
   "cell_type": "code",
   "execution_count": 40,
   "id": "749d3006-7bba-4dd3-a10c-9c184ea2014d",
   "metadata": {},
   "outputs": [
    {
     "data": {
      "text/plain": [
       "False"
      ]
     },
     "execution_count": 40,
     "metadata": {},
     "output_type": "execute_result"
    }
   ],
   "source": [
    "x == 10 and y == 20"
   ]
  },
  {
   "cell_type": "code",
   "execution_count": 42,
   "id": "921e8211-f67a-4592-a10f-ef43f6c3b9ef",
   "metadata": {},
   "outputs": [
    {
     "name": "stdout",
     "output_type": "stream",
     "text": [
      "조건문 is easy!\n"
     ]
    }
   ],
   "source": [
    "if x == 10 or y == 30:\n",
    "    print('조건문 is easy!')"
   ]
  },
  {
   "cell_type": "code",
   "execution_count": 43,
   "id": "04f56c11-f77c-497c-be34-7636d660e724",
   "metadata": {},
   "outputs": [
    {
     "name": "stdout",
     "output_type": "stream",
     "text": [
      "조건문 is easy!\n"
     ]
    }
   ],
   "source": [
    "if x == 10 or y == 30:\n",
    "    print('조건문 is easy!')\n",
    "    \n",
    "else:\n",
    "    print('조건문 is hard!')"
   ]
  },
  {
   "cell_type": "code",
   "execution_count": 44,
   "id": "3193588e-2f36-40ac-987d-d4b184f30112",
   "metadata": {},
   "outputs": [],
   "source": [
    "if x < 0:\n",
    "    if x >100:\n",
    "        print(\"?\")"
   ]
  },
  {
   "cell_type": "code",
   "execution_count": 45,
   "id": "7eb8bcf2-4db4-466f-9586-fccff6788c76",
   "metadata": {},
   "outputs": [
    {
     "name": "stdout",
     "output_type": "stream",
     "text": [
      "20보다 작은 x\n"
     ]
    }
   ],
   "source": [
    "# 조건문 범위 설정\n",
    "if x > 0 and x < 20:\n",
    "    print('20보다 작은 x')"
   ]
  },
  {
   "cell_type": "markdown",
   "id": "4c20a078-11a8-4b50-b59b-dea289fe3be1",
   "metadata": {},
   "source": [
    "if (TRUE) : code 작동"
   ]
  },
  {
   "cell_type": "markdown",
   "id": "bf4db976-bb29-4c81-a9f6-9ea77b2f296b",
   "metadata": {},
   "source": [
    "### elif문\n",
    "\n",
    "- 자판기 \n",
    "- 1번을 누르면 coke, 2번을 누르면 cider, 3번을 누르면 환타 4번을 누르면 juice"
   ]
  },
  {
   "cell_type": "markdown",
   "id": "586300a3-3042-48c4-ba03-0233fd2f0f9e",
   "metadata": {},
   "source": [
    "- if 조건식:\n",
    "    - code 1\n",
    "- elif 조건식:\n",
    "    - code 2\n",
    "\n",
    "- if 조건식:\n",
    "    -code 1\n",
    "- else:\n",
    "    -code 2"
   ]
  },
  {
   "cell_type": "code",
   "execution_count": 50,
   "id": "d6335acb-789a-412e-91cf-267d084759e8",
   "metadata": {},
   "outputs": [],
   "source": [
    "x = 20"
   ]
  },
  {
   "cell_type": "code",
   "execution_count": 51,
   "id": "4cfa2564-f0f0-4818-a83e-35e77418d168",
   "metadata": {},
   "outputs": [
    {
     "name": "stdout",
     "output_type": "stream",
     "text": [
      "20\n"
     ]
    }
   ],
   "source": [
    "if x == 10:\n",
    "    print('10')\n",
    "elif x == 20:\n",
    "    print('20')"
   ]
  },
  {
   "cell_type": "markdown",
   "id": "766185e4-3394-4e77-80a2-3f5c0922a0a3",
   "metadata": {},
   "source": [
    "### if, elif, else 모두 사용하기\n",
    "- if 조건식:\n",
    "    - code1\n",
    "- elif 조건식:\n",
    "    - code2\n",
    "- else:\n",
    "    - code3"
   ]
  },
  {
   "cell_type": "code",
   "execution_count": 52,
   "id": "f97a47b0-a623-4d0a-9530-9c2effb7fda9",
   "metadata": {},
   "outputs": [
    {
     "name": "stdout",
     "output_type": "stream",
     "text": [
      "100\n"
     ]
    }
   ],
   "source": [
    "x = 100\n",
    "\n",
    "if x == 10:\n",
    "    print('10')\n",
    "elif x == 50:\n",
    "    print('50')\n",
    "else:\n",
    "    print('100')"
   ]
  },
  {
   "cell_type": "markdown",
   "id": "9740597b-6460-4d1b-a4ba-af0f27a3877f",
   "metadata": {},
   "source": [
    "else는 반드시 마지막 elif는 당연히 else전에 와야한다.\n",
    "else가 나머지 조건들을 의미하고, elif는 임의의 조건 중 하나이기 때문이다.\n",
    "if는 첫 조건문에 가능하고, 기초적인 부분"
   ]
  },
  {
   "cell_type": "code",
   "execution_count": null,
   "id": "ed102b43-0f6c-4ca5-973b-314cd3bf450a",
   "metadata": {},
   "outputs": [],
   "source": []
  }
 ],
 "metadata": {
  "kernelspec": {
   "display_name": "Python 3 (ipykernel)",
   "language": "python",
   "name": "python3"
  },
  "language_info": {
   "codemirror_mode": {
    "name": "ipython",
    "version": 3
   },
   "file_extension": ".py",
   "mimetype": "text/x-python",
   "name": "python",
   "nbconvert_exporter": "python",
   "pygments_lexer": "ipython3",
   "version": "3.9.12"
  }
 },
 "nbformat": 4,
 "nbformat_minor": 5
}
