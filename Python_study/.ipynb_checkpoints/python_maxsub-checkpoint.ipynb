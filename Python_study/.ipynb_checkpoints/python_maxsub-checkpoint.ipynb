{
 "cells": [
  {
   "cell_type": "markdown",
   "id": "f1d09cfe-83b3-4b13-ac25-6367451be9ae",
   "metadata": {},
   "source": [
    "- project 1 : 최대 부분 배열 문제의 응용\n",
    "- author : 문범수(2018114657)\n",
    "- date : 2023-04-06"
   ]
  },
  {
   "cell_type": "code",
   "execution_count": 1,
   "id": "ef1b5970-abdd-4fc8-b1b5-b7db8e56ef69",
   "metadata": {},
   "outputs": [
    {
     "name": "stdout",
     "output_type": "stream",
     "text": [
      "Requirement already satisfied: finance-datareader in c:\\users\\munbe\\anaconda3\\lib\\site-packages (0.9.50)\n",
      "Requirement already satisfied: requests-file in c:\\users\\munbe\\anaconda3\\lib\\site-packages (from finance-datareader) (1.5.1)\n",
      "Requirement already satisfied: tqdm in c:\\users\\munbe\\anaconda3\\lib\\site-packages (from finance-datareader) (4.64.0)\n",
      "Requirement already satisfied: lxml in c:\\users\\munbe\\anaconda3\\lib\\site-packages (from finance-datareader) (4.8.0)\n",
      "Requirement already satisfied: pandas>=0.19.2 in c:\\users\\munbe\\anaconda3\\lib\\site-packages (from finance-datareader) (1.4.2)\n",
      "Requirement already satisfied: requests>=2.3.0 in c:\\users\\munbe\\anaconda3\\lib\\site-packages (from finance-datareader) (2.27.1)\n",
      "Requirement already satisfied: python-dateutil>=2.8.1 in c:\\users\\munbe\\anaconda3\\lib\\site-packages (from pandas>=0.19.2->finance-datareader) (2.8.2)\n",
      "Requirement already satisfied: pytz>=2020.1 in c:\\users\\munbe\\anaconda3\\lib\\site-packages (from pandas>=0.19.2->finance-datareader) (2021.3)\n",
      "Requirement already satisfied: numpy>=1.18.5 in c:\\users\\munbe\\anaconda3\\lib\\site-packages (from pandas>=0.19.2->finance-datareader) (1.21.5)\n",
      "Requirement already satisfied: six>=1.5 in c:\\users\\munbe\\anaconda3\\lib\\site-packages (from python-dateutil>=2.8.1->pandas>=0.19.2->finance-datareader) (1.16.0)\n",
      "Requirement already satisfied: idna<4,>=2.5 in c:\\users\\munbe\\anaconda3\\lib\\site-packages (from requests>=2.3.0->finance-datareader) (3.3)\n",
      "Requirement already satisfied: charset-normalizer~=2.0.0 in c:\\users\\munbe\\anaconda3\\lib\\site-packages (from requests>=2.3.0->finance-datareader) (2.0.4)\n",
      "Requirement already satisfied: certifi>=2017.4.17 in c:\\users\\munbe\\anaconda3\\lib\\site-packages (from requests>=2.3.0->finance-datareader) (2021.10.8)\n",
      "Requirement already satisfied: urllib3<1.27,>=1.21.1 in c:\\users\\munbe\\anaconda3\\lib\\site-packages (from requests>=2.3.0->finance-datareader) (1.26.9)\n",
      "Requirement already satisfied: colorama in c:\\users\\munbe\\anaconda3\\lib\\site-packages (from tqdm->finance-datareader) (0.4.4)\n",
      "Note: you may need to restart the kernel to use updated packages.\n"
     ]
    }
   ],
   "source": [
    "pip install -U finance-datareader"
   ]
  },
  {
   "cell_type": "code",
   "execution_count": 20,
   "id": "960139b8-653f-4cac-b4be-175911ca74ce",
   "metadata": {},
   "outputs": [],
   "source": [
    "import matplotlib.pyplot as plt"
   ]
  },
  {
   "cell_type": "code",
   "execution_count": 21,
   "id": "1fa1f29b-8c43-42a1-8790-e5a08dd9c76f",
   "metadata": {},
   "outputs": [],
   "source": [
    "import datetime"
   ]
  },
  {
   "cell_type": "code",
   "execution_count": 22,
   "id": "1be9b6a6-2c4b-4a84-a330-1229551fc1cc",
   "metadata": {},
   "outputs": [],
   "source": [
    "import pandas as pd"
   ]
  },
  {
   "cell_type": "code",
   "execution_count": 23,
   "id": "973e4b0b-c168-4bc0-9740-df0ac95c7fb4",
   "metadata": {},
   "outputs": [
    {
     "data": {
      "text/plain": [
       "'0.9.50'"
      ]
     },
     "execution_count": 23,
     "metadata": {},
     "output_type": "execute_result"
    }
   ],
   "source": [
    "import FinanceDataReader as fdr\n",
    "fdr.__version__"
   ]
  },
  {
   "cell_type": "code",
   "execution_count": 42,
   "id": "ac12ebb5-5a79-4d3d-b890-6a56fa81fd42",
   "metadata": {},
   "outputs": [
    {
     "name": "stdin",
     "output_type": "stream",
     "text": [
      " aapl 2019 2023\n"
     ]
    },
    {
     "data": {
      "text/plain": [
       "<AxesSubplot:xlabel='Date'>"
      ]
     },
     "execution_count": 42,
     "metadata": {},
     "output_type": "execute_result"
    },
    {
     "data": {
      "image/png": "[encoded data removed]",
      "text/plain": [
       "<Figure size 432x288 with 1 Axes>"
      ]
     },
     "metadata": {
      "needs_background": "light"
     },
     "output_type": "display_data"
    }
   ],
   "source": [
    "import FinanceDataReader as fdr\n",
    "\n",
    "stock_name, start_year, last_year = input().split()\n",
    "\n",
    "# 구글(GOOG), 2021년 ~ 2022년\n",
    "df = fdr.DataReader(stock_name, start_year, last_year)\n",
    "df['Close'].plot()"
   ]
  },
  {
   "cell_type": "code",
   "execution_count": 43,
   "id": "998bfea9-94b2-43e3-aada-48dae15f9b9d",
   "metadata": {},
   "outputs": [
    {
     "data": {
      "text/html": [
       "<div>\n",
       "<style scoped>\n",
       "    .dataframe tbody tr th:only-of-type {\n",
       "        vertical-align: middle;\n",
       "    }\n",
       "\n",
       "    .dataframe tbody tr th {\n",
       "        vertical-align: top;\n",
       "    }\n",
       "\n",
       "    .dataframe thead th {\n",
       "        text-align: right;\n",
       "    }\n",
       "</style>\n",
       "<table border=\"1\" class=\"dataframe\">\n",
       "  <thead>\n",
       "    <tr style=\"text-align: right;\">\n",
       "      <th></th>\n",
       "      <th>Open</th>\n",
       "      <th>High</th>\n",
       "      <th>Low</th>\n",
       "      <th>Close</th>\n",
       "      <th>Adj Close</th>\n",
       "      <th>Volume</th>\n",
       "    </tr>\n",
       "    <tr>\n",
       "      <th>Date</th>\n",
       "      <th></th>\n",
       "      <th></th>\n",
       "      <th></th>\n",
       "      <th></th>\n",
       "      <th></th>\n",
       "      <th></th>\n",
       "    </tr>\n",
       "  </thead>\n",
       "  <tbody>\n",
       "    <tr>\n",
       "      <th>2019-01-02</th>\n",
       "      <td>38.722500</td>\n",
       "      <td>39.712502</td>\n",
       "      <td>38.557499</td>\n",
       "      <td>39.480000</td>\n",
       "      <td>38.047050</td>\n",
       "      <td>148158800</td>\n",
       "    </tr>\n",
       "    <tr>\n",
       "      <th>2019-01-03</th>\n",
       "      <td>35.994999</td>\n",
       "      <td>36.430000</td>\n",
       "      <td>35.500000</td>\n",
       "      <td>35.547501</td>\n",
       "      <td>34.257282</td>\n",
       "      <td>365248800</td>\n",
       "    </tr>\n",
       "    <tr>\n",
       "      <th>2019-01-04</th>\n",
       "      <td>36.132500</td>\n",
       "      <td>37.137501</td>\n",
       "      <td>35.950001</td>\n",
       "      <td>37.064999</td>\n",
       "      <td>35.719700</td>\n",
       "      <td>234428400</td>\n",
       "    </tr>\n",
       "    <tr>\n",
       "      <th>2019-01-07</th>\n",
       "      <td>37.174999</td>\n",
       "      <td>37.207500</td>\n",
       "      <td>36.474998</td>\n",
       "      <td>36.982498</td>\n",
       "      <td>35.640198</td>\n",
       "      <td>219111200</td>\n",
       "    </tr>\n",
       "    <tr>\n",
       "      <th>2019-01-08</th>\n",
       "      <td>37.389999</td>\n",
       "      <td>37.955002</td>\n",
       "      <td>37.130001</td>\n",
       "      <td>37.687500</td>\n",
       "      <td>36.319599</td>\n",
       "      <td>164101200</td>\n",
       "    </tr>\n",
       "    <tr>\n",
       "      <th>...</th>\n",
       "      <td>...</td>\n",
       "      <td>...</td>\n",
       "      <td>...</td>\n",
       "      <td>...</td>\n",
       "      <td>...</td>\n",
       "      <td>...</td>\n",
       "    </tr>\n",
       "    <tr>\n",
       "      <th>2022-12-23</th>\n",
       "      <td>130.919998</td>\n",
       "      <td>132.419998</td>\n",
       "      <td>129.639999</td>\n",
       "      <td>131.860001</td>\n",
       "      <td>131.658981</td>\n",
       "      <td>63814900</td>\n",
       "    </tr>\n",
       "    <tr>\n",
       "      <th>2022-12-27</th>\n",
       "      <td>131.380005</td>\n",
       "      <td>131.410004</td>\n",
       "      <td>128.720001</td>\n",
       "      <td>130.029999</td>\n",
       "      <td>129.831772</td>\n",
       "      <td>69007800</td>\n",
       "    </tr>\n",
       "    <tr>\n",
       "      <th>2022-12-28</th>\n",
       "      <td>129.669998</td>\n",
       "      <td>131.029999</td>\n",
       "      <td>125.870003</td>\n",
       "      <td>126.040001</td>\n",
       "      <td>125.847855</td>\n",
       "      <td>85438400</td>\n",
       "    </tr>\n",
       "    <tr>\n",
       "      <th>2022-12-29</th>\n",
       "      <td>127.989998</td>\n",
       "      <td>130.479996</td>\n",
       "      <td>127.730003</td>\n",
       "      <td>129.610001</td>\n",
       "      <td>129.412415</td>\n",
       "      <td>75703700</td>\n",
       "    </tr>\n",
       "    <tr>\n",
       "      <th>2022-12-30</th>\n",
       "      <td>128.410004</td>\n",
       "      <td>129.949997</td>\n",
       "      <td>127.430000</td>\n",
       "      <td>129.929993</td>\n",
       "      <td>129.731918</td>\n",
       "      <td>77034200</td>\n",
       "    </tr>\n",
       "  </tbody>\n",
       "</table>\n",
       "<p>1008 rows × 6 columns</p>\n",
       "</div>"
      ],
      "text/plain": [
       "                  Open        High         Low       Close   Adj Close  \\\n",
       "Date                                                                     \n",
       "2019-01-02   38.722500   39.712502   38.557499   39.480000   38.047050   \n",
       "2019-01-03   35.994999   36.430000   35.500000   35.547501   34.257282   \n",
       "2019-01-04   36.132500   37.137501   35.950001   37.064999   35.719700   \n",
       "2019-01-07   37.174999   37.207500   36.474998   36.982498   35.640198   \n",
       "2019-01-08   37.389999   37.955002   37.130001   37.687500   36.319599   \n",
       "...                ...         ...         ...         ...         ...   \n",
       "2022-12-23  130.919998  132.419998  129.639999  131.860001  131.658981   \n",
       "2022-12-27  131.380005  131.410004  128.720001  130.029999  129.831772   \n",
       "2022-12-28  129.669998  131.029999  125.870003  126.040001  125.847855   \n",
       "2022-12-29  127.989998  130.479996  127.730003  129.610001  129.412415   \n",
       "2022-12-30  128.410004  129.949997  127.430000  129.929993  129.731918   \n",
       "\n",
       "               Volume  \n",
       "Date                   \n",
       "2019-01-02  148158800  \n",
       "2019-01-03  365248800  \n",
       "2019-01-04  234428400  \n",
       "2019-01-07  219111200  \n",
       "2019-01-08  164101200  \n",
       "...               ...  \n",
       "2022-12-23   63814900  \n",
       "2022-12-27   69007800  \n",
       "2022-12-28   85438400  \n",
       "2022-12-29   75703700  \n",
       "2022-12-30   77034200  \n",
       "\n",
       "[1008 rows x 6 columns]"
      ]
     },
     "execution_count": 43,
     "metadata": {},
     "output_type": "execute_result"
    }
   ],
   "source": [
    "df"
   ]
  },
  {
   "cell_type": "code",
   "execution_count": 44,
   "id": "2d20bb80-6c70-4115-9027-8a1e93bad8eb",
   "metadata": {},
   "outputs": [
    {
     "data": {
      "text/plain": [
       "<AxesSubplot:xlabel='Date'>"
      ]
     },
     "execution_count": 44,
     "metadata": {},
     "output_type": "execute_result"
    },
    {
     "data": {
      "image/png": "[encoded data removed]",
      "text/plain": [
       "<Figure size 432x288 with 1 Axes>"
      ]
     },
     "metadata": {
      "needs_background": "light"
     },
     "output_type": "display_data"
    }
   ],
   "source": [
    "df['Close'].plot() # 종가기준 주가 변동 추이 그래프"
   ]
  },
  {
   "cell_type": "code",
   "execution_count": 45,
   "id": "c5bfc728-49a8-4060-9c9b-4deb76d244ab",
   "metadata": {},
   "outputs": [],
   "source": [
    "price_cl = {}\n",
    "price_co = {}"
   ]
  },
  {
   "cell_type": "code",
   "execution_count": 46,
   "id": "f2943c4f-be1a-4e50-9bd6-7ee68b36dfed",
   "metadata": {},
   "outputs": [],
   "source": [
    "for i in range(len(df['Close'])):\n",
    "    price_cl[i] = round(df['Close'][i],2) # 소숫점 뒤 2자리 내림\n",
    "    price_co[i] = round(df['Close'][i],2) # 소숫점 뒤 2자리 내림"
   ]
  },
  {
   "cell_type": "code",
   "execution_count": 47,
   "id": "caae8c2a-4492-4b67-9c61-f466a6d120a3",
   "metadata": {},
   "outputs": [],
   "source": [
    "dif = {} \n",
    "for i in range(len(price_cl) - 1):\n",
    "    dif[i] = round(price_cl[i + 1] - price_co[i],2) # 소숫점 2자리 까지 가격간 차이 변환"
   ]
  },
  {
   "cell_type": "code",
   "execution_count": 48,
   "id": "75eaf38e-7991-4a3b-93ba-1a0a5d9c4d1f",
   "metadata": {},
   "outputs": [
    {
     "name": "stdout",
     "output_type": "stream",
     "text": [
      "(1, 756, 146.46)\n"
     ]
    }
   ],
   "source": [
    "def MaxSubarray(x, low, high):\n",
    "    if high < low: # 최댓값이 최솟값보다 작은 경우\n",
    "        return 0, 0, 0\n",
    "\n",
    "    if high == low: #최댓값과 최솟값이 동일할 경우\n",
    "        return low, high, x[low]\n",
    "\n",
    "    else: #나머지 case 3가지 설정\n",
    "        mid = (low + high) // 2\n",
    "        (ll, lh, ls) = MaxSubarray(x, low, mid - 1)\n",
    "        (rl, rh, rs) = MaxSubarray(x, mid + 1, high)\n",
    "        (cl, ch, cs) = Cross(x, low, mid, high)\n",
    "\n",
    "        if ls >= rs and ls >= cs: # 모두 왼쪽 배열에 있는경우\n",
    "            return ll, lh, ls\n",
    "        elif rs >= ls and rs >= cs: # 모두 오른쪽 배열에 있는경우\n",
    "            return rl, rh, rs\n",
    "        else: # 가운데 배열을 포함해서 있는 경우\n",
    "            return cl, ch, cs\n",
    "\n",
    "def Cross(x, low, mid, high): #가운데 배열을 포함해서 위치하는 경우\n",
    "    ls = 0\n",
    "    rs = 0\n",
    "    ml = 0\n",
    "    mr = 0\n",
    "    index_left = True\n",
    "    index_right = True\n",
    "\n",
    "    sum = 0\n",
    "    for i in range(mid - 1, low - 1, -1):\n",
    "        sum = sum + x[i]\n",
    "        if sum > ls:\n",
    "            ls = sum\n",
    "            ml = i\n",
    "            index_left = False\n",
    "\n",
    "    sum = 0\n",
    "    for j in range(mid + 1, high + 1, 1):\n",
    "        sum = sum + x[j]\n",
    "        if sum > rs:\n",
    "            rs = sum\n",
    "            mr = j\n",
    "            index_right = False\n",
    "\n",
    "    if index_left:\n",
    "        ml = mid\n",
    "    if index_right:\n",
    "        mr = mid\n",
    "\n",
    "    return ml, mr, round(ls + rs + x[mid],2)\n",
    "\n",
    "A = [-2, 1, -3, 4, -1, 2, 1, -5, 4]\n",
    "print(MaxSubarray(dif, 0, len(dif)-1))     #(배열, 시작 위치, 끝 위치)"
   ]
  },
  {
   "cell_type": "code",
   "execution_count": 49,
   "id": "e3a5729c-216a-4d43-9532-6255b7c60c60",
   "metadata": {},
   "outputs": [],
   "source": [
    "low_index, max_index, max_profit = MaxSubarray(dif,0,len(dif)-1)\n",
    "max_index = max_index + 1 # 각각의 index 파악"
   ]
  },
  {
   "cell_type": "code",
   "execution_count": 50,
   "id": "5c858606-e4e2-46a8-8fb4-3ac021a02b45",
   "metadata": {},
   "outputs": [],
   "source": [
    "low_price = df['Close'][low_index]\n",
    "max_price = df['Close'][max_index]"
   ]
  },
  {
   "cell_type": "code",
   "execution_count": 51,
   "id": "86ccdf7e-e976-4fcf-a562-fbbf276275cc",
   "metadata": {},
   "outputs": [
    {
     "name": "stdout",
     "output_type": "stream",
     "text": [
      "146.46\n"
     ]
    }
   ],
   "source": [
    "print(round(df['Close'][max_index] - df['Close'][low_index],2)) # 실제 index 설정 뒤 계산"
   ]
  },
  {
   "cell_type": "code",
   "execution_count": 60,
   "id": "7a0f1001-a8d4-46af-897f-6e5aa87cc737",
   "metadata": {},
   "outputs": [
    {
     "data": {
      "text/plain": [
       "35.547501"
      ]
     },
     "execution_count": 60,
     "metadata": {},
     "output_type": "execute_result"
    }
   ],
   "source": [
    "min = df['Close'][0]\n",
    "\n",
    "for i in df['Close']:\n",
    "    if i < min:\n",
    "        min = i\n",
    "min # 실제 최솟값"
   ]
  },
  {
   "cell_type": "code",
   "execution_count": 61,
   "id": "07404a42-e0cc-49d1-bc1e-ec21406acb97",
   "metadata": {},
   "outputs": [
    {
     "data": {
      "text/html": [
       "<div>\n",
       "<style scoped>\n",
       "    .dataframe tbody tr th:only-of-type {\n",
       "        vertical-align: middle;\n",
       "    }\n",
       "\n",
       "    .dataframe tbody tr th {\n",
       "        vertical-align: top;\n",
       "    }\n",
       "\n",
       "    .dataframe thead th {\n",
       "        text-align: right;\n",
       "    }\n",
       "</style>\n",
       "<table border=\"1\" class=\"dataframe\">\n",
       "  <thead>\n",
       "    <tr style=\"text-align: right;\">\n",
       "      <th></th>\n",
       "      <th>Open</th>\n",
       "      <th>High</th>\n",
       "      <th>Low</th>\n",
       "      <th>Close</th>\n",
       "      <th>Adj Close</th>\n",
       "      <th>Volume</th>\n",
       "    </tr>\n",
       "    <tr>\n",
       "      <th>Date</th>\n",
       "      <th></th>\n",
       "      <th></th>\n",
       "      <th></th>\n",
       "      <th></th>\n",
       "      <th></th>\n",
       "      <th></th>\n",
       "    </tr>\n",
       "  </thead>\n",
       "  <tbody>\n",
       "    <tr>\n",
       "      <th>2019-01-03</th>\n",
       "      <td>35.994999</td>\n",
       "      <td>36.43</td>\n",
       "      <td>35.5</td>\n",
       "      <td>35.547501</td>\n",
       "      <td>34.257282</td>\n",
       "      <td>365248800</td>\n",
       "    </tr>\n",
       "  </tbody>\n",
       "</table>\n",
       "</div>"
      ],
      "text/plain": [
       "                 Open   High   Low      Close  Adj Close     Volume\n",
       "Date                                                               \n",
       "2019-01-03  35.994999  36.43  35.5  35.547501  34.257282  365248800"
      ]
     },
     "execution_count": 61,
     "metadata": {},
     "output_type": "execute_result"
    }
   ],
   "source": [
    "df[df['Close'] == min] # 최솟값 위치"
   ]
  },
  {
   "cell_type": "code",
   "execution_count": 62,
   "id": "01a24da4-2521-424d-9187-779aef0fcede",
   "metadata": {},
   "outputs": [
    {
     "data": {
      "text/plain": [
       "182.009995"
      ]
     },
     "execution_count": 62,
     "metadata": {},
     "output_type": "execute_result"
    }
   ],
   "source": [
    "max = df['Close'][0]\n",
    "\n",
    "for i in df['Close']:\n",
    "    if i > max:\n",
    "        max = i\n",
    "max # 실제 최댓값"
   ]
  },
  {
   "cell_type": "code",
   "execution_count": 63,
   "id": "c70a63c0-068f-470a-99a0-20499f06994b",
   "metadata": {},
   "outputs": [
    {
     "data": {
      "text/html": [
       "<div>\n",
       "<style scoped>\n",
       "    .dataframe tbody tr th:only-of-type {\n",
       "        vertical-align: middle;\n",
       "    }\n",
       "\n",
       "    .dataframe tbody tr th {\n",
       "        vertical-align: top;\n",
       "    }\n",
       "\n",
       "    .dataframe thead th {\n",
       "        text-align: right;\n",
       "    }\n",
       "</style>\n",
       "<table border=\"1\" class=\"dataframe\">\n",
       "  <thead>\n",
       "    <tr style=\"text-align: right;\">\n",
       "      <th></th>\n",
       "      <th>Open</th>\n",
       "      <th>High</th>\n",
       "      <th>Low</th>\n",
       "      <th>Close</th>\n",
       "      <th>Adj Close</th>\n",
       "      <th>Volume</th>\n",
       "    </tr>\n",
       "    <tr>\n",
       "      <th>Date</th>\n",
       "      <th></th>\n",
       "      <th></th>\n",
       "      <th></th>\n",
       "      <th></th>\n",
       "      <th></th>\n",
       "      <th></th>\n",
       "    </tr>\n",
       "  </thead>\n",
       "  <tbody>\n",
       "    <tr>\n",
       "      <th>2022-01-03</th>\n",
       "      <td>177.830002</td>\n",
       "      <td>182.880005</td>\n",
       "      <td>177.710007</td>\n",
       "      <td>182.009995</td>\n",
       "      <td>180.683853</td>\n",
       "      <td>104487900</td>\n",
       "    </tr>\n",
       "  </tbody>\n",
       "</table>\n",
       "</div>"
      ],
      "text/plain": [
       "                  Open        High         Low       Close   Adj Close  \\\n",
       "Date                                                                     \n",
       "2022-01-03  177.830002  182.880005  177.710007  182.009995  180.683853   \n",
       "\n",
       "               Volume  \n",
       "Date                   \n",
       "2022-01-03  104487900  "
      ]
     },
     "execution_count": 63,
     "metadata": {},
     "output_type": "execute_result"
    }
   ],
   "source": [
    "df[df['Close'] == max] # 최댓값 위치"
   ]
  },
  {
   "cell_type": "code",
   "execution_count": 64,
   "id": "e9ae91ab-8b2e-475d-9f04-63c2781a2765",
   "metadata": {},
   "outputs": [],
   "source": [
    "date = df.index"
   ]
  },
  {
   "cell_type": "code",
   "execution_count": 65,
   "id": "0acdf292-e69f-4c2f-b51f-5a684453709b",
   "metadata": {},
   "outputs": [],
   "source": [
    "low_date = date[low_index].date()\n",
    "max_date = date[max_index].date()"
   ]
  },
  {
   "cell_type": "code",
   "execution_count": 66,
   "id": "05771ac0-c3c0-46eb-a4d5-f21451cc0439",
   "metadata": {},
   "outputs": [
    {
     "data": {
      "text/plain": [
       "<matplotlib.collections.LineCollection at 0x1ebece9d730>"
      ]
     },
     "execution_count": 66,
     "metadata": {},
     "output_type": "execute_result"
    },
    {
     "data": {
      "image/png": "[encoded data removed]",
      "text/plain": [
       "<Figure size 432x288 with 1 Axes>"
      ]
     },
     "metadata": {
      "needs_background": "light"
     },
     "output_type": "display_data"
    }
   ],
   "source": [
    "df['Close'].plot()\n",
    "plt.title(stock_name)\n",
    "plt.ylabel('price')\n",
    "plt.xlabel('Date')\n",
    "plt.vlines(low_date,min-30,df['Close'][low_index],color = 'blue',linestyle = '--',linewidth = 2)\n",
    "plt.vlines(max_date,min-30,df['Close'][max_index],color = 'red',linestyle = '--',linewidth = 2)"
   ]
  },
  {
   "cell_type": "code",
   "execution_count": 67,
   "id": "4745d06f-f59f-4a3e-b5cf-9821bb33d075",
   "metadata": {},
   "outputs": [
    {
     "name": "stdout",
     "output_type": "stream",
     "text": [
      "종목 : GOOG 매입날짜 :  2019-01-03 매도날짜 :  2022-01-03 총수익 146.46 $\n"
     ]
    }
   ],
   "source": [
    "print('종목 : GOOG','매입날짜 : ' , low_date, '매도날짜 : ' ,max_date,'총수익',max_profit,'$')"
   ]
  },
  {
   "cell_type": "markdown",
   "id": "c75aa837-dbee-44d4-acd7-8df972dd88bd",
   "metadata": {},
   "source": []
  }
 ],
 "metadata": {
  "kernelspec": {
   "display_name": "Python 3 (ipykernel)",
   "language": "python",
   "name": "python3"
  },
  "language_info": {
   "codemirror_mode": {
    "name": "ipython",
    "version": 3
   },
   "file_extension": ".py",
   "mimetype": "text/x-python",
   "name": "python",
   "nbconvert_exporter": "python",
   "pygments_lexer": "ipython3",
   "version": "3.9.12"
  }
 },
 "nbformat": 4,
 "nbformat_minor": 5
}
