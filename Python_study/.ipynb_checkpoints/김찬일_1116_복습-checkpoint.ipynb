{
 "cells": [
  {
   "cell_type": "code",
   "execution_count": 2,
   "id": "b943f143",
   "metadata": {},
   "outputs": [
    {
     "name": "stdout",
     "output_type": "stream",
     "text": [
      "hello world\n"
     ]
    }
   ],
   "source": [
    "print(\"hello world\")"
   ]
  },
  {
   "cell_type": "markdown",
   "id": "a98e7b9d",
   "metadata": {},
   "source": [
    "#### -초록색: 문법, 약속어, 작동하는 언어\n",
    "#### -갈색: \"\" '' 문자열\n",
    "#### -검은색: 코드\n",
    "#### -빨간색: error\n"
   ]
  },
  {
   "cell_type": "code",
   "execution_count": 4,
   "id": "15890d6b",
   "metadata": {
    "scrolled": true
   },
   "outputs": [
    {
     "ename": "NameError",
     "evalue": "name 'asdfa' is not defined",
     "output_type": "error",
     "traceback": [
      "\u001b[1;31m---------------------------------------------------------------------------\u001b[0m",
      "\u001b[1;31mNameError\u001b[0m                                 Traceback (most recent call last)",
      "\u001b[1;32m~\\AppData\\Local\\Temp\\ipykernel_13828\\4192327752.py\u001b[0m in \u001b[0;36m<module>\u001b[1;34m\u001b[0m\n\u001b[1;32m----> 1\u001b[1;33m \u001b[0masdfa\u001b[0m\u001b[1;33m\u001b[0m\u001b[1;33m\u001b[0m\u001b[0m\n\u001b[0m",
      "\u001b[1;31mNameError\u001b[0m: name 'asdfa' is not defined"
     ]
    }
   ],
   "source": [
    "asdfa\n"
   ]
  },
  {
   "cell_type": "code",
   "execution_count": 8,
   "id": "74966ea9",
   "metadata": {},
   "outputs": [
    {
     "name": "stdout",
     "output_type": "stream",
     "text": [
      "hi\n"
     ]
    }
   ],
   "source": [
    "print('hi') #주석은 작동이 되지 않는 글!"
   ]
  },
  {
   "cell_type": "code",
   "execution_count": 9,
   "id": "6b8258e9",
   "metadata": {},
   "outputs": [
    {
     "ename": "SyntaxError",
     "evalue": "invalid syntax (3893007333.py, line 1)",
     "output_type": "error",
     "traceback": [
      "\u001b[1;36m  File \u001b[1;32m\"C:\\Users\\askci\\AppData\\Local\\Temp\\ipykernel_13828\\3893007333.py\"\u001b[1;36m, line \u001b[1;32m1\u001b[0m\n\u001b[1;33m    printf('hi') asdfa\u001b[0m\n\u001b[1;37m                 ^\u001b[0m\n\u001b[1;31mSyntaxError\u001b[0m\u001b[1;31m:\u001b[0m invalid syntax\n"
     ]
    }
   ],
   "source": [
    "printf('hi') asdfa"
   ]
  },
  {
   "cell_type": "markdown",
   "id": "17b5468e",
   "metadata": {},
   "source": [
    "## 들여쓰기\n",
    " 1. 일정한 간격을 띄워서 작성하는 방법문법, \n",
    " 2. 약속이 있음\n",
    " 3. 특정 상황에선 들여쓰기 필수!(ex. if문)\n",
    " 4. space 4번과 같음"
   ]
  },
  {
   "cell_type": "code",
   "execution_count": 10,
   "id": "90232933",
   "metadata": {},
   "outputs": [],
   "source": [
    "a= 10\n"
   ]
  },
  {
   "cell_type": "code",
   "execution_count": 11,
   "id": "37ef71ed",
   "metadata": {},
   "outputs": [
    {
     "data": {
      "text/plain": [
       "10"
      ]
     },
     "execution_count": 11,
     "metadata": {},
     "output_type": "execute_result"
    }
   ],
   "source": [
    "a"
   ]
  },
  {
   "cell_type": "code",
   "execution_count": 14,
   "id": "dba255ab",
   "metadata": {},
   "outputs": [
    {
     "name": "stdout",
     "output_type": "stream",
     "text": [
      "10입니다\n"
     ]
    }
   ],
   "source": [
    "if a==10:\n",
    "    print('10입니다')"
   ]
  },
  {
   "cell_type": "markdown",
   "id": "a99e5d82",
   "metadata": {},
   "source": [
    "## 파이썬의 자료형\n",
    "1. 자료형(타입) 문자형, 숫자형"
   ]
  },
  {
   "cell_type": "code",
   "execution_count": 16,
   "id": "8a6d3787",
   "metadata": {},
   "outputs": [
    {
     "data": {
      "text/plain": [
       "1.4"
      ]
     },
     "execution_count": 16,
     "metadata": {},
     "output_type": "execute_result"
    }
   ],
   "source": [
    "1.4"
   ]
  },
  {
   "cell_type": "code",
   "execution_count": 17,
   "id": "f3ad7a1e",
   "metadata": {},
   "outputs": [
    {
     "data": {
      "text/plain": [
       "0.4142"
      ]
     },
     "execution_count": 17,
     "metadata": {},
     "output_type": "execute_result"
    }
   ],
   "source": [
    "0.4142"
   ]
  },
  {
   "cell_type": "code",
   "execution_count": 18,
   "id": "fa395b21",
   "metadata": {},
   "outputs": [
    {
     "data": {
      "text/plain": [
       "'ㅁㅁㅍㅁㄴㅇ'"
      ]
     },
     "execution_count": 18,
     "metadata": {},
     "output_type": "execute_result"
    }
   ],
   "source": [
    "'ㅁㅁㅍㅁㄴㅇ'"
   ]
  },
  {
   "cell_type": "code",
   "execution_count": 19,
   "id": "78c8fdbf",
   "metadata": {},
   "outputs": [
    {
     "data": {
      "text/plain": [
       "'$$%%&&*#**'"
      ]
     },
     "execution_count": 19,
     "metadata": {},
     "output_type": "execute_result"
    }
   ],
   "source": [
    "\"$$%%&&*#**\""
   ]
  },
  {
   "cell_type": "markdown",
   "id": "fdeb2984",
   "metadata": {},
   "source": [
    "## 파이썬은 숫자를 알아들음\n",
    "### But 문자는 알아듣지 X\n",
    "1. 문자를 알아듣게 하는 방법? '', \"\", \"\"\" \"\"\""
   ]
  },
  {
   "cell_type": "code",
   "execution_count": 20,
   "id": "a6a3a969",
   "metadata": {},
   "outputs": [
    {
     "data": {
      "text/plain": [
       "1231"
      ]
     },
     "execution_count": 20,
     "metadata": {},
     "output_type": "execute_result"
    }
   ],
   "source": [
    "1231"
   ]
  },
  {
   "cell_type": "code",
   "execution_count": 21,
   "id": "261851d2",
   "metadata": {},
   "outputs": [
    {
     "data": {
      "text/plain": [
       "\"He's\""
      ]
     },
     "execution_count": 21,
     "metadata": {},
     "output_type": "execute_result"
    }
   ],
   "source": [
    "\"\"\"He's\"\"\""
   ]
  },
  {
   "cell_type": "markdown",
   "id": "aad47995",
   "metadata": {},
   "source": [
    "## 숫자형\n",
    "\n",
    "1. 숫자형 계산하기\n",
    "2. 정수(int)\n",
    "3. 소수(float)\n",
    "4. 복소수(complex)\n",
    "\n",
    " ##### 정수, 소수 등 숫자형은 사칙 연산이 바로 가능"
   ]
  },
  {
   "cell_type": "code",
   "execution_count": 1,
   "id": "92b8a68d",
   "metadata": {},
   "outputs": [
    {
     "data": {
      "text/plain": [
       "2"
      ]
     },
     "execution_count": 1,
     "metadata": {},
     "output_type": "execute_result"
    }
   ],
   "source": [
    "1+1"
   ]
  },
  {
   "cell_type": "code",
   "execution_count": 2,
   "id": "a6f43414",
   "metadata": {},
   "outputs": [
    {
     "data": {
      "text/plain": [
       "111"
      ]
     },
     "execution_count": 2,
     "metadata": {},
     "output_type": "execute_result"
    }
   ],
   "source": [
    "100+11"
   ]
  },
  {
   "cell_type": "code",
   "execution_count": 3,
   "id": "ea93e7bf",
   "metadata": {},
   "outputs": [
    {
     "name": "stdout",
     "output_type": "stream",
     "text": [
      "600\n"
     ]
    }
   ],
   "source": [
    "print(500+100)"
   ]
  },
  {
   "cell_type": "code",
   "execution_count": 4,
   "id": "0491a358",
   "metadata": {},
   "outputs": [
    {
     "data": {
      "text/plain": [
       "4"
      ]
     },
     "execution_count": 4,
     "metadata": {},
     "output_type": "execute_result"
    }
   ],
   "source": [
    "2*2"
   ]
  },
  {
   "cell_type": "code",
   "execution_count": 5,
   "id": "e5750360",
   "metadata": {},
   "outputs": [
    {
     "data": {
      "text/plain": [
       "2.5"
      ]
     },
     "execution_count": 5,
     "metadata": {},
     "output_type": "execute_result"
    }
   ],
   "source": [
    "5/2"
   ]
  },
  {
   "cell_type": "code",
   "execution_count": 6,
   "id": "5ff667b7",
   "metadata": {},
   "outputs": [
    {
     "data": {
      "text/plain": [
       "2.0"
      ]
     },
     "execution_count": 6,
     "metadata": {},
     "output_type": "execute_result"
    }
   ],
   "source": [
    "4/2"
   ]
  },
  {
   "cell_type": "code",
   "execution_count": 7,
   "id": "1862c62f",
   "metadata": {},
   "outputs": [
    {
     "data": {
      "text/plain": [
       "2"
      ]
     },
     "execution_count": 7,
     "metadata": {},
     "output_type": "execute_result"
    }
   ],
   "source": [
    "5//2 #소수점 이하 버리기"
   ]
  },
  {
   "cell_type": "code",
   "execution_count": 8,
   "id": "dee68973",
   "metadata": {},
   "outputs": [
    {
     "data": {
      "text/plain": [
       "1"
      ]
     },
     "execution_count": 8,
     "metadata": {},
     "output_type": "execute_result"
    }
   ],
   "source": [
    "5%2"
   ]
  },
  {
   "cell_type": "code",
   "execution_count": 9,
   "id": "03881cae",
   "metadata": {
    "scrolled": true
   },
   "outputs": [
    {
     "data": {
      "text/plain": [
       "1024"
      ]
     },
     "execution_count": 9,
     "metadata": {},
     "output_type": "execute_result"
    }
   ],
   "source": [
    "#거듭제곱\n",
    "2**10"
   ]
  },
  {
   "cell_type": "markdown",
   "id": "9a25779b",
   "metadata": {},
   "source": [
    "## 숫자"
   ]
  },
  {
   "cell_type": "markdown",
   "id": "5eb9f006",
   "metadata": {},
   "source": [
    "int, float 바꾸기"
   ]
  },
  {
   "cell_type": "code",
   "execution_count": 11,
   "id": "99526db4",
   "metadata": {},
   "outputs": [
    {
     "data": {
      "text/plain": [
       "int"
      ]
     },
     "execution_count": 11,
     "metadata": {},
     "output_type": "execute_result"
    }
   ],
   "source": [
    "#자료형에 대해 보는 법\n",
    "type(1)"
   ]
  },
  {
   "cell_type": "code",
   "execution_count": 12,
   "id": "edfdf876",
   "metadata": {},
   "outputs": [
    {
     "data": {
      "text/plain": [
       "float"
      ]
     },
     "execution_count": 12,
     "metadata": {},
     "output_type": "execute_result"
    }
   ],
   "source": [
    "type(1.0)"
   ]
  },
  {
   "cell_type": "code",
   "execution_count": 13,
   "id": "63553a47",
   "metadata": {},
   "outputs": [
    {
     "data": {
      "text/plain": [
       "3"
      ]
     },
     "execution_count": 13,
     "metadata": {},
     "output_type": "execute_result"
    }
   ],
   "source": [
    "int(3.0)"
   ]
  },
  {
   "cell_type": "code",
   "execution_count": 14,
   "id": "74c2d038",
   "metadata": {},
   "outputs": [
    {
     "data": {
      "text/plain": [
       "3.0"
      ]
     },
     "execution_count": 14,
     "metadata": {},
     "output_type": "execute_result"
    }
   ],
   "source": [
    " float(3)"
   ]
  },
  {
   "cell_type": "code",
   "execution_count": 15,
   "id": "e6370a52",
   "metadata": {},
   "outputs": [
    {
     "name": "stdout",
     "output_type": "stream",
     "text": [
      "6\n"
     ]
    }
   ],
   "source": [
    "print(1+5)"
   ]
  },
  {
   "cell_type": "code",
   "execution_count": 17,
   "id": "b760ee10",
   "metadata": {},
   "outputs": [
    {
     "name": "stdout",
     "output_type": "stream",
     "text": [
      "15\n"
     ]
    }
   ],
   "source": [
    "print('1'+'5')"
   ]
  },
  {
   "cell_type": "code",
   "execution_count": 18,
   "id": "933f86f7",
   "metadata": {},
   "outputs": [
    {
     "data": {
      "text/plain": [
       "str"
      ]
     },
     "execution_count": 18,
     "metadata": {},
     "output_type": "execute_result"
    }
   ],
   "source": [
    "type('1')"
   ]
  },
  {
   "cell_type": "code",
   "execution_count": 19,
   "id": "65984d00",
   "metadata": {},
   "outputs": [
    {
     "data": {
      "text/plain": [
       "4.7"
      ]
     },
     "execution_count": 19,
     "metadata": {},
     "output_type": "execute_result"
    }
   ],
   "source": [
    "3.5+1.2"
   ]
  },
  {
   "cell_type": "code",
   "execution_count": 36,
   "id": "fd98c805",
   "metadata": {},
   "outputs": [
    {
     "data": {
      "text/plain": [
       "1.7999999999999998"
      ]
     },
     "execution_count": 36,
     "metadata": {},
     "output_type": "execute_result"
    }
   ],
   "source": [
    "1.5*1.2"
   ]
  },
  {
   "cell_type": "code",
   "execution_count": 37,
   "id": "bab51927",
   "metadata": {},
   "outputs": [
    {
     "data": {
      "text/plain": [
       "1.2000000000000002"
      ]
     },
     "execution_count": 37,
     "metadata": {},
     "output_type": "execute_result"
    }
   ],
   "source": [
    "2.7-1.5 #실수의 경우 뺄셈에서는 값이 다르게 나올 수 있다. (컴퓨터 메모리의 한계)"
   ]
  },
  {
   "cell_type": "markdown",
   "id": "4edb5387",
   "metadata": {},
   "source": [
    "## 변수와 입력\n",
    "\n",
    "1. 변수(variable) 주머니의 개념으로 이해하면 좋다\n",
    "2. a=10\n",
    "3. 할당의 개념!! \n",
    "4. \"<----------\"\n"
   ]
  },
  {
   "cell_type": "code",
   "execution_count": 23,
   "id": "e966ac44",
   "metadata": {},
   "outputs": [],
   "source": [
    "a=10\n",
    "#같다는 개념이 아닌 변수를 입력할 때 사용"
   ]
  },
  {
   "cell_type": "code",
   "execution_count": 25,
   "id": "ea06f954",
   "metadata": {},
   "outputs": [],
   "source": [
    "y=100"
   ]
  },
  {
   "cell_type": "code",
   "execution_count": 26,
   "id": "816701c4",
   "metadata": {},
   "outputs": [],
   "source": [
    "abc=100"
   ]
  },
  {
   "cell_type": "code",
   "execution_count": 27,
   "id": "037976db",
   "metadata": {},
   "outputs": [
    {
     "data": {
      "text/plain": [
       "100"
      ]
     },
     "execution_count": 27,
     "metadata": {},
     "output_type": "execute_result"
    }
   ],
   "source": [
    "abc"
   ]
  },
  {
   "cell_type": "markdown",
   "id": "a7516b36",
   "metadata": {},
   "source": [
    "## 변수명을 만드는 규칙\n",
    "1. 영문 문자, 숫자 같이 사용 가능\n",
    "2. 대소문자 꼭 구분\n",
    "3. 문자부터 시작하고 숫자부터 시작 X\n",
    "4. _(언더바) 시작 가능\n",
    "5. 특수문자 사용 불가(!@#등)\n",
    "6. 파이썬의 키워드, 약속어(print, sum, if, and, or과 같이 기존 기능이 있는 약속어를 변수로 지정하면 기존의 기능을 잃고 변수로만 성질이 바뀜)"
   ]
  },
  {
   "cell_type": "code",
   "execution_count": 29,
   "id": "d7ef6230",
   "metadata": {},
   "outputs": [],
   "source": [
    "_pocket=10"
   ]
  },
  {
   "cell_type": "code",
   "execution_count": 30,
   "id": "2e82dc3f",
   "metadata": {},
   "outputs": [
    {
     "data": {
      "text/plain": [
       "10"
      ]
     },
     "execution_count": 30,
     "metadata": {},
     "output_type": "execute_result"
    }
   ],
   "source": [
    "_pocket"
   ]
  },
  {
   "cell_type": "code",
   "execution_count": 31,
   "id": "4212eb20",
   "metadata": {},
   "outputs": [],
   "source": [
    "ad=10"
   ]
  },
  {
   "cell_type": "code",
   "execution_count": 32,
   "id": "ebeb219b",
   "metadata": {},
   "outputs": [],
   "source": [
    "Ad=2"
   ]
  },
  {
   "cell_type": "code",
   "execution_count": 33,
   "id": "8ce08b7b",
   "metadata": {},
   "outputs": [
    {
     "data": {
      "text/plain": [
       "10"
      ]
     },
     "execution_count": 33,
     "metadata": {},
     "output_type": "execute_result"
    }
   ],
   "source": [
    "ad"
   ]
  },
  {
   "cell_type": "code",
   "execution_count": 34,
   "id": "ea146621",
   "metadata": {},
   "outputs": [
    {
     "data": {
      "text/plain": [
       "2"
      ]
     },
     "execution_count": 34,
     "metadata": {},
     "output_type": "execute_result"
    }
   ],
   "source": [
    "Ad"
   ]
  },
  {
   "cell_type": "code",
   "execution_count": null,
   "id": "8cb54f98",
   "metadata": {},
   "outputs": [],
   "source": []
  }
 ],
 "metadata": {
  "kernelspec": {
   "display_name": "Python 3 (ipykernel)",
   "language": "python",
   "name": "python3"
  },
  "language_info": {
   "codemirror_mode": {
    "name": "ipython",
    "version": 3
   },
   "file_extension": ".py",
   "mimetype": "text/x-python",
   "name": "python",
   "nbconvert_exporter": "python",
   "pygments_lexer": "ipython3",
   "version": "3.9.13"
  }
 },
 "nbformat": 4,
 "nbformat_minor": 5
}
