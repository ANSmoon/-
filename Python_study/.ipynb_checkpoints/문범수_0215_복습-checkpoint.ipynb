{
 "cells": [
  {
   "cell_type": "markdown",
   "id": "05d91a15-6410-43f7-a954-5c8720c8494e",
   "metadata": {},
   "source": [
    "## List 응용\n",
    "- List의 대표적 기능\n",
    "- append : 요소 하나를 추가하기\n",
    "- extend : list를 연결하여 확장\n",
    "- insert : 특정 index 요소 추가"
   ]
  },
  {
   "cell_type": "code",
   "execution_count": 1,
   "id": "a9fe3f48-df8b-4d8b-9a00-8bb6e037b8b2",
   "metadata": {},
   "outputs": [],
   "source": [
    "# append\n",
    "a = [1, 2, 3]"
   ]
  },
  {
   "cell_type": "code",
   "execution_count": 2,
   "id": "f0cb08a1-eb9e-480f-af6a-f9feee38a498",
   "metadata": {},
   "outputs": [
    {
     "data": {
      "text/plain": [
       "[1, 2, 3]"
      ]
     },
     "execution_count": 2,
     "metadata": {},
     "output_type": "execute_result"
    }
   ],
   "source": [
    "a"
   ]
  },
  {
   "cell_type": "code",
   "execution_count": 3,
   "id": "862a520b-fdcd-43c3-a884-deca7497b028",
   "metadata": {},
   "outputs": [],
   "source": [
    "a.append(4)"
   ]
  },
  {
   "cell_type": "code",
   "execution_count": 4,
   "id": "67cfa5a9-2d64-476a-8d66-7c5dc54f3329",
   "metadata": {},
   "outputs": [
    {
     "data": {
      "text/plain": [
       "[1, 2, 3, 4]"
      ]
     },
     "execution_count": 4,
     "metadata": {},
     "output_type": "execute_result"
    }
   ],
   "source": [
    "a"
   ]
  },
  {
   "cell_type": "code",
   "execution_count": 5,
   "id": "b2e66ad4-d8cc-412c-8f34-b7cc4cb7d7f3",
   "metadata": {},
   "outputs": [],
   "source": [
    "b = []"
   ]
  },
  {
   "cell_type": "code",
   "execution_count": 6,
   "id": "504894fd-9aab-4f66-9ab7-a23d055dbf38",
   "metadata": {},
   "outputs": [],
   "source": [
    "b.append(100)"
   ]
  },
  {
   "cell_type": "code",
   "execution_count": 7,
   "id": "a7672e8c-1976-4467-b611-38270d055c93",
   "metadata": {},
   "outputs": [
    {
     "data": {
      "text/plain": [
       "[100]"
      ]
     },
     "execution_count": 7,
     "metadata": {},
     "output_type": "execute_result"
    }
   ],
   "source": [
    "b"
   ]
  },
  {
   "cell_type": "code",
   "execution_count": 8,
   "id": "af6bfcd1-def6-4e56-b5d7-4d84f3b56501",
   "metadata": {},
   "outputs": [],
   "source": [
    "b.append(range(1,4))"
   ]
  },
  {
   "cell_type": "code",
   "execution_count": 9,
   "id": "addcd305-a126-42ec-852a-9e46de9f56e3",
   "metadata": {},
   "outputs": [
    {
     "data": {
      "text/plain": [
       "[100, range(1, 4)]"
      ]
     },
     "execution_count": 9,
     "metadata": {},
     "output_type": "execute_result"
    }
   ],
   "source": [
    "b"
   ]
  },
  {
   "cell_type": "code",
   "execution_count": 11,
   "id": "9c5c801a-206e-4735-9680-124f17a6a2d5",
   "metadata": {},
   "outputs": [
    {
     "ename": "SyntaxError",
     "evalue": "invalid syntax (4199044049.py, line 1)",
     "output_type": "error",
     "traceback": [
      "\u001b[1;36m  Input \u001b[1;32mIn [11]\u001b[1;36m\u001b[0m\n\u001b[1;33m    b.append(for i in range(1,4))\u001b[0m\n\u001b[1;37m             ^\u001b[0m\n\u001b[1;31mSyntaxError\u001b[0m\u001b[1;31m:\u001b[0m invalid syntax\n"
     ]
    }
   ],
   "source": [
    "b.append(for i in range(1,4))"
   ]
  },
  {
   "cell_type": "code",
   "execution_count": 16,
   "id": "a4a1fc0a-d7c3-43d6-b951-022b447756fb",
   "metadata": {},
   "outputs": [
    {
     "data": {
      "text/html": [
       "<div>\n",
       "<style scoped>\n",
       "    .dataframe tbody tr th:only-of-type {\n",
       "        vertical-align: middle;\n",
       "    }\n",
       "\n",
       "    .dataframe tbody tr th {\n",
       "        vertical-align: top;\n",
       "    }\n",
       "\n",
       "    .dataframe thead th {\n",
       "        text-align: right;\n",
       "    }\n",
       "</style>\n",
       "<table border=\"1\" class=\"dataframe\">\n",
       "  <thead>\n",
       "    <tr style=\"text-align: right;\">\n",
       "      <th></th>\n",
       "      <th>A</th>\n",
       "      <th>B</th>\n",
       "    </tr>\n",
       "  </thead>\n",
       "  <tbody>\n",
       "    <tr>\n",
       "      <th>0</th>\n",
       "      <td>1</td>\n",
       "      <td>6</td>\n",
       "    </tr>\n",
       "    <tr>\n",
       "      <th>1</th>\n",
       "      <td>2</td>\n",
       "      <td>7</td>\n",
       "    </tr>\n",
       "    <tr>\n",
       "      <th>2</th>\n",
       "      <td>3</td>\n",
       "      <td>8</td>\n",
       "    </tr>\n",
       "    <tr>\n",
       "      <th>3</th>\n",
       "      <td>4</td>\n",
       "      <td>9</td>\n",
       "    </tr>\n",
       "    <tr>\n",
       "      <th>4</th>\n",
       "      <td>5</td>\n",
       "      <td>10</td>\n",
       "    </tr>\n",
       "  </tbody>\n",
       "</table>\n",
       "</div>"
      ],
      "text/plain": [
       "   A   B\n",
       "0  1   6\n",
       "1  2   7\n",
       "2  3   8\n",
       "3  4   9\n",
       "4  5  10"
      ]
     },
     "execution_count": 16,
     "metadata": {},
     "output_type": "execute_result"
    }
   ],
   "source": [
    "import pandas as pd\n",
    "\n",
    "df = pd.DataFrame({'A' : [1,2,3,4,5],\n",
    "                   'B' : [6,7,8,9,10]})\n",
    "df"
   ]
  },
  {
   "cell_type": "code",
   "execution_count": 18,
   "id": "4c04d66f-d9e8-44bd-a830-22378dc39578",
   "metadata": {},
   "outputs": [
    {
     "name": "stdout",
     "output_type": "stream",
     "text": [
      "6\n",
      "7\n",
      "8\n",
      "9\n",
      "10\n"
     ]
    }
   ],
   "source": [
    "a = []\n",
    "for i in df.B:\n",
    "    print(i)\n",
    "    a.append(i)"
   ]
  },
  {
   "cell_type": "code",
   "execution_count": 19,
   "id": "7c9d4a19-cbc3-49c5-b485-d911540bd929",
   "metadata": {},
   "outputs": [
    {
     "data": {
      "text/plain": [
       "[6, 7, 8, 9, 10]"
      ]
     },
     "execution_count": 19,
     "metadata": {},
     "output_type": "execute_result"
    }
   ],
   "source": [
    "a"
   ]
  },
  {
   "cell_type": "markdown",
   "id": "e355a818-a804-45ce-8b2c-83aee1472e31",
   "metadata": {},
   "source": [
    "## List 내 List 추가하기"
   ]
  },
  {
   "cell_type": "code",
   "execution_count": 20,
   "id": "f3387687-3006-491a-8846-d8ea00ea2212",
   "metadata": {},
   "outputs": [],
   "source": [
    "a = [1,2,3]\n",
    "a.append([10,20])"
   ]
  },
  {
   "cell_type": "code",
   "execution_count": 21,
   "id": "d12a7a5e-c362-4a58-8378-1b1a95410a02",
   "metadata": {},
   "outputs": [
    {
     "data": {
      "text/plain": [
       "[1, 2, 3, [10, 20]]"
      ]
     },
     "execution_count": 21,
     "metadata": {},
     "output_type": "execute_result"
    }
   ],
   "source": [
    "a"
   ]
  },
  {
   "cell_type": "code",
   "execution_count": 22,
   "id": "7706ee9c-f134-45c5-907d-e0c0db21eac0",
   "metadata": {},
   "outputs": [
    {
     "data": {
      "text/plain": [
       "4"
      ]
     },
     "execution_count": 22,
     "metadata": {},
     "output_type": "execute_result"
    }
   ],
   "source": [
    "len(a)"
   ]
  },
  {
   "cell_type": "code",
   "execution_count": 23,
   "id": "a4558f6a-c943-4c2e-86be-831854b83e75",
   "metadata": {},
   "outputs": [
    {
     "data": {
      "text/plain": [
       "20"
      ]
     },
     "execution_count": 23,
     "metadata": {},
     "output_type": "execute_result"
    }
   ],
   "source": [
    "a[3][1]"
   ]
  },
  {
   "cell_type": "code",
   "execution_count": 25,
   "id": "9177102a-d1d1-471e-bf30-7492583bde21",
   "metadata": {},
   "outputs": [
    {
     "data": {
      "text/plain": [
       "4"
      ]
     },
     "execution_count": 25,
     "metadata": {},
     "output_type": "execute_result"
    }
   ],
   "source": [
    "len(a)\n",
    "# 길이는 list도 하나로 취급한다."
   ]
  },
  {
   "cell_type": "code",
   "execution_count": 26,
   "id": "ca00f3a1-82eb-4e9f-8fc8-faf0c2626eda",
   "metadata": {},
   "outputs": [
    {
     "data": {
      "text/plain": [
       "20"
      ]
     },
     "execution_count": 26,
     "metadata": {},
     "output_type": "execute_result"
    }
   ],
   "source": [
    "a[3][1]"
   ]
  },
  {
   "cell_type": "markdown",
   "id": "10a51d76-31a9-4e43-bdc3-87d7f8e1ad79",
   "metadata": {},
   "source": [
    "## List 확장하기\n",
    "- extend([ ])"
   ]
  },
  {
   "cell_type": "code",
   "execution_count": 27,
   "id": "4bc47bdc-8d1a-4278-988a-57552e9eaa46",
   "metadata": {},
   "outputs": [
    {
     "data": {
      "text/plain": [
       "[1, 2, 3, 10, 20]"
      ]
     },
     "execution_count": 27,
     "metadata": {},
     "output_type": "execute_result"
    }
   ],
   "source": [
    "a = [1,2,3]\n",
    "a.extend([10,20])\n",
    "\n",
    "a"
   ]
  },
  {
   "cell_type": "code",
   "execution_count": 35,
   "id": "e7488b7c-3e87-4396-89e5-6edd4eb486ac",
   "metadata": {},
   "outputs": [
    {
     "data": {
      "text/plain": [
       "[1, 2, 3, 10]"
      ]
     },
     "execution_count": 35,
     "metadata": {},
     "output_type": "execute_result"
    }
   ],
   "source": [
    "b = [1,2,3]\n",
    "b.append(10)\n",
    "b"
   ]
  },
  {
   "cell_type": "markdown",
   "id": "c32eb6fc-b618-4b04-a110-769cf054d5f1",
   "metadata": {},
   "source": [
    "## 특정 Index에 요소 추가하기"
   ]
  },
  {
   "cell_type": "code",
   "execution_count": 1,
   "id": "f8aac170-fb3a-496c-b10b-37efb47f7d0e",
   "metadata": {},
   "outputs": [],
   "source": [
    "a = [1,2,3]\n",
    "a.insert(2,1000)"
   ]
  },
  {
   "cell_type": "code",
   "execution_count": 2,
   "id": "e940827e-ec37-42f2-9702-483569606fcf",
   "metadata": {},
   "outputs": [
    {
     "data": {
      "text/plain": [
       "[1, 2, 1000, 3]"
      ]
     },
     "execution_count": 2,
     "metadata": {},
     "output_type": "execute_result"
    }
   ],
   "source": [
    "a"
   ]
  },
  {
   "cell_type": "code",
   "execution_count": 3,
   "id": "f97b8599-b507-455f-9a26-d2e71b8d64f1",
   "metadata": {},
   "outputs": [],
   "source": [
    "a.append(5)"
   ]
  },
  {
   "cell_type": "code",
   "execution_count": 4,
   "id": "9d131b1a-bd91-4e5a-a448-b16256d9161c",
   "metadata": {},
   "outputs": [
    {
     "data": {
      "text/plain": [
       "[1, 2, 1000, 3, 5]"
      ]
     },
     "execution_count": 4,
     "metadata": {},
     "output_type": "execute_result"
    }
   ],
   "source": [
    "a"
   ]
  },
  {
   "cell_type": "code",
   "execution_count": 7,
   "id": "4d99556e-a19f-459f-a448-3bf1235dd173",
   "metadata": {},
   "outputs": [],
   "source": [
    "a.append([5,6,7])"
   ]
  },
  {
   "cell_type": "code",
   "execution_count": 8,
   "id": "92a3da97-ea40-4516-81f4-73865f97b0dc",
   "metadata": {},
   "outputs": [
    {
     "data": {
      "text/plain": [
       "[1, 2, 1000, 3, 5, [5, 6, 7]]"
      ]
     },
     "execution_count": 8,
     "metadata": {},
     "output_type": "execute_result"
    }
   ],
   "source": [
    "a"
   ]
  },
  {
   "cell_type": "code",
   "execution_count": 9,
   "id": "39e17a40-54ec-4649-b0d4-b7bad502a116",
   "metadata": {},
   "outputs": [],
   "source": [
    "a.extend([5,6,7])"
   ]
  },
  {
   "cell_type": "code",
   "execution_count": 10,
   "id": "3ad7df4a-5a32-47c8-824c-97abf705d2a7",
   "metadata": {},
   "outputs": [
    {
     "data": {
      "text/plain": [
       "[1, 2, 1000, 3, 5, [5, 6, 7], 5, 6, 7]"
      ]
     },
     "execution_count": 10,
     "metadata": {},
     "output_type": "execute_result"
    }
   ],
   "source": [
    "a"
   ]
  },
  {
   "cell_type": "markdown",
   "id": "43432b6a-ad27-4d25-8022-60cc614f6e69",
   "metadata": {},
   "source": [
    "## List내 요소 삭제하기\n",
    "- pop : 마지막 요소 or 특정 index 요소 삭제\n",
    "- remove : 특정 값을 찾아서 삭제\n",
    "- del"
   ]
  },
  {
   "cell_type": "code",
   "execution_count": 15,
   "id": "9f7899f2-e408-4f7d-9f19-bb2721d53d96",
   "metadata": {},
   "outputs": [
    {
     "data": {
      "text/plain": [
       "4"
      ]
     },
     "execution_count": 15,
     "metadata": {},
     "output_type": "execute_result"
    }
   ],
   "source": [
    "a = [1,2,3]\n",
    "a.append(4)\n",
    "a.pop()"
   ]
  },
  {
   "cell_type": "code",
   "execution_count": 16,
   "id": "52b944d4-0107-4033-ac93-e80d49ca1864",
   "metadata": {},
   "outputs": [
    {
     "data": {
      "text/plain": [
       "[1, 2, 3]"
      ]
     },
     "execution_count": 16,
     "metadata": {},
     "output_type": "execute_result"
    }
   ],
   "source": [
    "a"
   ]
  },
  {
   "cell_type": "markdown",
   "id": "d7455251-8125-4e07-aee7-c68c51869afc",
   "metadata": {},
   "source": [
    "- 원하는 값 삭제"
   ]
  },
  {
   "cell_type": "code",
   "execution_count": 17,
   "id": "749bfffe-cd98-4f70-bfdb-ecf9f7bd82a7",
   "metadata": {},
   "outputs": [
    {
     "data": {
      "text/plain": [
       "[2, 3]"
      ]
     },
     "execution_count": 17,
     "metadata": {},
     "output_type": "execute_result"
    }
   ],
   "source": [
    "a.remove(1)\n",
    "a"
   ]
  },
  {
   "cell_type": "code",
   "execution_count": 18,
   "id": "b61f6cd4-2339-4fac-a6a3-fac497280cea",
   "metadata": {},
   "outputs": [],
   "source": [
    "a = [1,2,3,4,5]\n",
    "del a[0]"
   ]
  },
  {
   "cell_type": "code",
   "execution_count": 19,
   "id": "3236326e-660b-46a4-a192-e7d13a4cd33b",
   "metadata": {},
   "outputs": [
    {
     "data": {
      "text/plain": [
       "[2, 3, 4, 5]"
      ]
     },
     "execution_count": 19,
     "metadata": {},
     "output_type": "execute_result"
    }
   ],
   "source": [
    "a"
   ]
  },
  {
   "cell_type": "markdown",
   "id": "bb805a79-594d-4b17-ae38-ae42c2d15a38",
   "metadata": {},
   "source": [
    "- List내 특정 값의 Index를 구할 수 있다."
   ]
  },
  {
   "cell_type": "code",
   "execution_count": 20,
   "id": "3fe6e994-a987-4bab-8a55-c5c433aa2717",
   "metadata": {},
   "outputs": [
    {
     "data": {
      "text/plain": [
       "1"
      ]
     },
     "execution_count": 20,
     "metadata": {},
     "output_type": "execute_result"
    }
   ],
   "source": [
    "a.index(3)"
   ]
  },
  {
   "cell_type": "code",
   "execution_count": 21,
   "id": "644e6458-8a8b-4ec1-a93b-fac9b5701ffc",
   "metadata": {},
   "outputs": [
    {
     "data": {
      "text/plain": [
       "[2, 3, 4, 5]"
      ]
     },
     "execution_count": 21,
     "metadata": {},
     "output_type": "execute_result"
    }
   ],
   "source": [
    "a"
   ]
  },
  {
   "cell_type": "code",
   "execution_count": 22,
   "id": "58396988-8b32-42bd-81a0-52e1778132e7",
   "metadata": {},
   "outputs": [
    {
     "ename": "ValueError",
     "evalue": "6 is not in list",
     "output_type": "error",
     "traceback": [
      "\u001b[1;31m---------------------------------------------------------------------------\u001b[0m",
      "\u001b[1;31mValueError\u001b[0m                                Traceback (most recent call last)",
      "Input \u001b[1;32mIn [22]\u001b[0m, in \u001b[0;36m<cell line: 1>\u001b[1;34m()\u001b[0m\n\u001b[1;32m----> 1\u001b[0m \u001b[43ma\u001b[49m\u001b[38;5;241;43m.\u001b[39;49m\u001b[43mindex\u001b[49m\u001b[43m(\u001b[49m\u001b[38;5;241;43m6\u001b[39;49m\u001b[43m)\u001b[49m\n",
      "\u001b[1;31mValueError\u001b[0m: 6 is not in list"
     ]
    }
   ],
   "source": [
    "a.index(6)"
   ]
  },
  {
   "cell_type": "code",
   "execution_count": 23,
   "id": "5bca0c9c-cd77-450a-b2c8-c008008aeed9",
   "metadata": {},
   "outputs": [
    {
     "data": {
      "text/plain": [
       "5"
      ]
     },
     "execution_count": 23,
     "metadata": {},
     "output_type": "execute_result"
    }
   ],
   "source": [
    "# Count도 셀 수 있음\n",
    "a = [1,2,3,4,5,1,1,1,1,2,2,3]\n",
    "a.count(1)"
   ]
  },
  {
   "cell_type": "code",
   "execution_count": 24,
   "id": "13ca20a7-9329-4da3-bd5e-53cb48e0266f",
   "metadata": {},
   "outputs": [],
   "source": [
    "# List의 순서를 뒤집을 수 있음\n",
    "a = [1,2,3,4,5]\n",
    "a.reverse()"
   ]
  },
  {
   "cell_type": "code",
   "execution_count": 25,
   "id": "9c368297-5952-48ba-81f6-0b2163d6ceee",
   "metadata": {},
   "outputs": [
    {
     "data": {
      "text/plain": [
       "[5, 4, 3, 2, 1]"
      ]
     },
     "execution_count": 25,
     "metadata": {},
     "output_type": "execute_result"
    }
   ],
   "source": [
    "a"
   ]
  },
  {
   "cell_type": "markdown",
   "id": "bc821b18-8b33-42ed-a4c0-c86005b15777",
   "metadata": {},
   "source": [
    "- List 요쇼를 정렬할 수 있음\n",
    "- sort(), sort(reverse = False) List 값을 오름차순으로 정렬\n",
    "- sort(reverse = True) 내림차순 정렬"
   ]
  },
  {
   "cell_type": "code",
   "execution_count": 28,
   "id": "a7463d6d-b74c-4be0-af3d-5d3291ea9704",
   "metadata": {},
   "outputs": [
    {
     "data": {
      "text/plain": [
       "[591237, 5123, 666, 512, 221, 125, 24, 12, 11, 1]"
      ]
     },
     "execution_count": 28,
     "metadata": {},
     "output_type": "execute_result"
    }
   ],
   "source": [
    "a = [12, 24, 512, 5123, 125, 666, 221, 11, 1, 591237]\n",
    "a.sort(reverse = True)\n",
    "a"
   ]
  },
  {
   "cell_type": "code",
   "execution_count": 29,
   "id": "5afb21c5-439b-441c-84e9-4033ad2801ad",
   "metadata": {},
   "outputs": [],
   "source": [
    "a.sort(reverse=False)"
   ]
  },
  {
   "cell_type": "code",
   "execution_count": 30,
   "id": "2bbb3d5f-0d76-40f3-a8e2-8b25c1d61bcb",
   "metadata": {},
   "outputs": [
    {
     "data": {
      "text/plain": [
       "[1, 11, 12, 24, 125, 221, 512, 666, 5123, 591237]"
      ]
     },
     "execution_count": 30,
     "metadata": {},
     "output_type": "execute_result"
    }
   ],
   "source": [
    "a"
   ]
  },
  {
   "cell_type": "markdown",
   "id": "98846415-144b-4def-bf0c-b6c197ec57a6",
   "metadata": {},
   "source": [
    "- List 모든 요소 삭제\n",
    "- clear()"
   ]
  },
  {
   "cell_type": "code",
   "execution_count": 31,
   "id": "43a8cdbf-8d52-4811-8513-3841e9bae92b",
   "metadata": {},
   "outputs": [
    {
     "data": {
      "text/plain": [
       "[]"
      ]
     },
     "execution_count": 31,
     "metadata": {},
     "output_type": "execute_result"
    }
   ],
   "source": [
    "a = [1,2,3,4,5]\n",
    "a.clear()\n",
    "a"
   ]
  },
  {
   "cell_type": "markdown",
   "id": "633544d6-c3ec-4885-a7d4-379e952a40cf",
   "metadata": {},
   "source": [
    "## slice로 조작 가능"
   ]
  },
  {
   "cell_type": "code",
   "execution_count": 32,
   "id": "5ed0d12a-c3ab-4561-993b-8d2f501d1725",
   "metadata": {},
   "outputs": [
    {
     "data": {
      "text/plain": [
       "[5000, 2, 3, 4]"
      ]
     },
     "execution_count": 32,
     "metadata": {},
     "output_type": "execute_result"
    }
   ],
   "source": [
    "a = [1,2,3,4]\n",
    "a[0:1] = [5000]\n",
    "a"
   ]
  },
  {
   "cell_type": "markdown",
   "id": "34cc6790-de1a-4797-ab0d-a7d51d4fdd75",
   "metadata": {},
   "source": [
    "- List 할당이랑 복사"
   ]
  },
  {
   "cell_type": "code",
   "execution_count": 33,
   "id": "9947a528-fe11-4bfe-adfe-49cfe37c83a0",
   "metadata": {},
   "outputs": [
    {
     "data": {
      "text/plain": [
       "[1, 2, 3, 4]"
      ]
     },
     "execution_count": 33,
     "metadata": {},
     "output_type": "execute_result"
    }
   ],
   "source": [
    "a = [1,2,3,4]\n",
    "b = a\n",
    "b"
   ]
  },
  {
   "cell_type": "code",
   "execution_count": 34,
   "id": "04521aeb-39a2-4eca-ab11-c5e98813bb17",
   "metadata": {},
   "outputs": [
    {
     "data": {
      "text/plain": [
       "[1, 100000, 3, 4]"
      ]
     },
     "execution_count": 34,
     "metadata": {},
     "output_type": "execute_result"
    }
   ],
   "source": [
    "b[1] = 100000\n",
    "b"
   ]
  },
  {
   "cell_type": "code",
   "execution_count": 35,
   "id": "07d6abdd-09ab-4e34-b6e8-8491e1a22cdc",
   "metadata": {},
   "outputs": [
    {
     "data": {
      "text/plain": [
       "[1, 100000, 3, 4]"
      ]
     },
     "execution_count": 35,
     "metadata": {},
     "output_type": "execute_result"
    }
   ],
   "source": [
    "a"
   ]
  },
  {
   "cell_type": "markdown",
   "id": "4f54968c-0d64-4d4f-a8d1-51b0e1b6438a",
   "metadata": {},
   "source": [
    "- 단순 복사만"
   ]
  },
  {
   "cell_type": "code",
   "execution_count": 36,
   "id": "16502c5f-60bc-4812-a539-4badbb98186d",
   "metadata": {},
   "outputs": [
    {
     "data": {
      "text/plain": [
       "[1, 2, 3, 4, 5]"
      ]
     },
     "execution_count": 36,
     "metadata": {},
     "output_type": "execute_result"
    }
   ],
   "source": [
    "a = [1,2,3,4,5]\n",
    "b = a.copy()\n",
    "a"
   ]
  },
  {
   "cell_type": "code",
   "execution_count": 37,
   "id": "badc506a-9b4c-4f82-a3ec-45f8dfd8fbd1",
   "metadata": {},
   "outputs": [
    {
     "data": {
      "text/plain": [
       "[1, 2, 3, 4, 5]"
      ]
     },
     "execution_count": 37,
     "metadata": {},
     "output_type": "execute_result"
    }
   ],
   "source": [
    "b"
   ]
  },
  {
   "cell_type": "code",
   "execution_count": 38,
   "id": "36f58c62-19b6-449b-bd59-03fdd36e10e6",
   "metadata": {},
   "outputs": [
    {
     "data": {
      "text/plain": [
       "[1, 1000, 3, 4, 5]"
      ]
     },
     "execution_count": 38,
     "metadata": {},
     "output_type": "execute_result"
    }
   ],
   "source": [
    "b[1] = 1000\n",
    "b"
   ]
  },
  {
   "cell_type": "code",
   "execution_count": 39,
   "id": "dcff450e-59e7-4a82-b5a0-c61be491e66b",
   "metadata": {},
   "outputs": [
    {
     "data": {
      "text/plain": [
       "[1, 2, 3, 4, 5]"
      ]
     },
     "execution_count": 39,
     "metadata": {},
     "output_type": "execute_result"
    }
   ],
   "source": [
    "a"
   ]
  },
  {
   "cell_type": "markdown",
   "id": "68a51f10-f8ee-4361-ae49-e5d3e7e8b662",
   "metadata": {},
   "source": [
    "## Data 분석 시 \n",
    "## df.copy()"
   ]
  },
  {
   "cell_type": "markdown",
   "id": "9abc26e7-fcc7-49e1-b882-25847b95a428",
   "metadata": {},
   "source": [
    "- List에 있는 값을 반복문으로 출력해보자"
   ]
  },
  {
   "cell_type": "code",
   "execution_count": 40,
   "id": "8f93e38a-a64c-4f7a-8a41-06919103abfa",
   "metadata": {},
   "outputs": [],
   "source": [
    "a = [100, 200, 300, 400, 500, 600]\n",
    "# a List에 있는 값을 모두 출력할 수 있는 반복문"
   ]
  },
  {
   "cell_type": "code",
   "execution_count": 41,
   "id": "0150fe3f-4655-45d4-98ec-99c09e7b88f0",
   "metadata": {},
   "outputs": [
    {
     "name": "stdout",
     "output_type": "stream",
     "text": [
      "100\n",
      "200\n",
      "300\n",
      "400\n",
      "500\n",
      "600\n"
     ]
    }
   ],
   "source": [
    "for i in a:\n",
    "    print(i)"
   ]
  },
  {
   "cell_type": "code",
   "execution_count": 42,
   "id": "65064fae-563d-45c4-98df-79ff69a76829",
   "metadata": {},
   "outputs": [],
   "source": [
    "a = [100,200,300,400,500,600]\n",
    "# a List에 있는 값과 index를 출력하는 반복문 만들기"
   ]
  },
  {
   "cell_type": "code",
   "execution_count": 43,
   "id": "077d710f-22d7-4aee-b766-8d5151dc81f3",
   "metadata": {},
   "outputs": [
    {
     "name": "stdout",
     "output_type": "stream",
     "text": [
      "100 0\n",
      "200 1\n",
      "300 2\n",
      "400 3\n",
      "500 4\n",
      "600 5\n"
     ]
    }
   ],
   "source": [
    "for i in a:\n",
    "    b = a.index(i)\n",
    "    print(i,b)"
   ]
  },
  {
   "cell_type": "code",
   "execution_count": 44,
   "id": "0eb608da-7c66-407e-87e9-6ce16c27eab3",
   "metadata": {},
   "outputs": [
    {
     "name": "stdout",
     "output_type": "stream",
     "text": [
      "100 0\n",
      "200 1\n",
      "300 2\n",
      "400 3\n",
      "500 4\n",
      "600 5\n"
     ]
    }
   ],
   "source": [
    "for i in range(len(a)):\n",
    "    print(a[i],i)"
   ]
  },
  {
   "cell_type": "code",
   "execution_count": 45,
   "id": "298731ba-cac5-4c5e-aefc-2b7023774bf6",
   "metadata": {},
   "outputs": [
    {
     "name": "stdout",
     "output_type": "stream",
     "text": [
      "100 0\n",
      "200 1\n",
      "300 2\n",
      "400 3\n",
      "500 4\n",
      "600 5\n"
     ]
    }
   ],
   "source": [
    "for i in a:\n",
    "    print(i,a.index(i))"
   ]
  },
  {
   "cell_type": "markdown",
   "id": "60ff8e74-9ddd-47de-b157-eb3019f27ba8",
   "metadata": {},
   "source": [
    "## index 요소를 함께 출력하기\n",
    "- enumerate\n",
    "- for index, 요소 in enumerate(list):"
   ]
  },
  {
   "cell_type": "code",
   "execution_count": 47,
   "id": "17a760bd-2911-4e36-8e8c-fb1695ef4a59",
   "metadata": {},
   "outputs": [
    {
     "data": {
      "text/plain": [
       "[100, 200, 300, 400, 500, 600]"
      ]
     },
     "execution_count": 47,
     "metadata": {},
     "output_type": "execute_result"
    }
   ],
   "source": [
    "a"
   ]
  },
  {
   "cell_type": "code",
   "execution_count": 50,
   "id": "cda3971b-642b-466f-abc3-4b22aaf13c4e",
   "metadata": {},
   "outputs": [
    {
     "name": "stdout",
     "output_type": "stream",
     "text": [
      "0 100\n",
      "1 200\n",
      "2 300\n",
      "3 400\n",
      "4 500\n",
      "5 600\n"
     ]
    }
   ],
   "source": [
    "for i, j in enumerate(a):\n",
    "    print(i,j)"
   ]
  },
  {
   "cell_type": "markdown",
   "id": "8d904104-d596-436a-9b62-d17ceb5c6c5f",
   "metadata": {},
   "source": [
    "## while 문으로 요소 출력해 보기"
   ]
  },
  {
   "cell_type": "code",
   "execution_count": 51,
   "id": "7a1d7fc1-3739-4260-bdcc-db62369e5a6c",
   "metadata": {},
   "outputs": [
    {
     "name": "stdout",
     "output_type": "stream",
     "text": [
      "100\n",
      "200\n",
      "300\n",
      "400\n",
      "500\n",
      "600\n"
     ]
    }
   ],
   "source": [
    "i = 0\n",
    "while i < len(a):\n",
    "    print(a[i])\n",
    "    i+=1"
   ]
  },
  {
   "cell_type": "code",
   "execution_count": 56,
   "id": "66af6e40-9f0a-4fdd-bf92-57136d6fa2fc",
   "metadata": {},
   "outputs": [
    {
     "name": "stdout",
     "output_type": "stream",
     "text": [
      "100\n",
      "200\n",
      "300\n",
      "400\n",
      "500\n",
      "600\n"
     ]
    }
   ],
   "source": [
    "i = 0\n",
    "while i < 6:\n",
    "    print(a[i])\n",
    "    i += 1"
   ]
  },
  {
   "cell_type": "markdown",
   "id": "2c74c7a5-4ca1-4206-bcd4-1e267e3f2d73",
   "metadata": {},
   "source": [
    "## a = [40, 50, 20, 31, 345, 46]\n",
    "- a값 중 가장 작은 수와 가장 큰 수를 출력하는 반복문을 만들어 주세요!"
   ]
  },
  {
   "cell_type": "code",
   "execution_count": 57,
   "id": "15a38186-d6b2-4082-8c07-f58c53405ee1",
   "metadata": {},
   "outputs": [
    {
     "name": "stdout",
     "output_type": "stream",
     "text": [
      "600 100\n"
     ]
    }
   ],
   "source": [
    "print(max(a), min(a))"
   ]
  },
  {
   "cell_type": "code",
   "execution_count": 59,
   "id": "6655015f-926e-4b2b-8e68-327233bef2fe",
   "metadata": {},
   "outputs": [
    {
     "name": "stdout",
     "output_type": "stream",
     "text": [
      "100 600\n"
     ]
    }
   ],
   "source": [
    "a.sort()\n",
    "print(a[0], a[len(a)-1])"
   ]
  },
  {
   "cell_type": "code",
   "execution_count": 62,
   "id": "0090d6ac-214f-4a01-a44e-869cd0bed2f7",
   "metadata": {},
   "outputs": [
    {
     "name": "stdout",
     "output_type": "stream",
     "text": [
      "100\n",
      "600\n"
     ]
    }
   ],
   "source": [
    "i = 0\n",
    "while i < len(a):\n",
    "    if max(a) == a[i]:\n",
    "        print(a[i])\n",
    "    elif min(a) == a[i]:\n",
    "        print(a[i])\n",
    "        \n",
    "    i += 1"
   ]
  },
  {
   "cell_type": "markdown",
   "id": "0c7bddae-a5bc-43f5-9453-cf3a77a0d77c",
   "metadata": {},
   "source": [
    "- 더블클릭 or Enter 키를 눌러 수정"
   ]
  },
  {
   "cell_type": "code",
   "execution_count": 68,
   "id": "c590a99f-3d40-4975-8f4d-4b6a75a8c465",
   "metadata": {},
   "outputs": [
    {
     "name": "stdout",
     "output_type": "stream",
     "text": [
      "19\n"
     ]
    }
   ],
   "source": [
    "# min 값 code 구현\n",
    "a = [40,50,20, 31, 345, 46, 19]\n",
    "cop = a[0]\n",
    "for i in a:\n",
    "    if i < cop:\n",
    "        cop = i\n",
    "print(cop)"
   ]
  },
  {
   "cell_type": "code",
   "execution_count": 69,
   "id": "9eeb5c19-e0b9-46ec-b5fe-8fe8ef44e9ad",
   "metadata": {},
   "outputs": [
    {
     "name": "stdout",
     "output_type": "stream",
     "text": [
      "345\n"
     ]
    }
   ],
   "source": [
    "# max 값 code 구현\n",
    "a = [40,50,20, 31, 345, 46, 19]\n",
    "cop = a[0]\n",
    "for i in a:\n",
    "    if i > cop:\n",
    "        cop = i\n",
    "print(cop)"
   ]
  },
  {
   "cell_type": "code",
   "execution_count": null,
   "id": "0146435c-e9d1-4bf9-9da7-3746397ed9ee",
   "metadata": {},
   "outputs": [],
   "source": []
  }
 ],
 "metadata": {
  "kernelspec": {
   "display_name": "Python 3 (ipykernel)",
   "language": "python",
   "name": "python3"
  },
  "language_info": {
   "codemirror_mode": {
    "name": "ipython",
    "version": 3
   },
   "file_extension": ".py",
   "mimetype": "text/x-python",
   "name": "python",
   "nbconvert_exporter": "python",
   "pygments_lexer": "ipython3",
   "version": "3.9.12"
  }
 },
 "nbformat": 4,
 "nbformat_minor": 5
}
