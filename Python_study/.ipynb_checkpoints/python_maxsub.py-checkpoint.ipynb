{
 "cells": [
  {
   "cell_type": "markdown",
   "id": "f1d09cfe-83b3-4b13-ac25-6367451be9ae",
   "metadata": {},
   "source": [
    "- project 1 : 최대 부분 배열 문제의 응용\n",
    "- author : 문범수(2018114657)\n",
    "- date : 2023-04-06"
   ]
  },
  {
   "cell_type": "code",
   "execution_count": 1,
   "id": "ef1b5970-abdd-4fc8-b1b5-b7db8e56ef69",
   "metadata": {},
   "outputs": [
    {
     "name": "stdout",
     "output_type": "stream",
     "text": [
      "Requirement already satisfied: finance-datareader in c:\\users\\munbe\\anaconda3\\lib\\site-packages (0.9.50)\n",
      "Requirement already satisfied: requests-file in c:\\users\\munbe\\anaconda3\\lib\\site-packages (from finance-datareader) (1.5.1)\n",
      "Requirement already satisfied: tqdm in c:\\users\\munbe\\anaconda3\\lib\\site-packages (from finance-datareader) (4.64.0)\n",
      "Requirement already satisfied: lxml in c:\\users\\munbe\\anaconda3\\lib\\site-packages (from finance-datareader) (4.8.0)\n",
      "Requirement already satisfied: pandas>=0.19.2 in c:\\users\\munbe\\anaconda3\\lib\\site-packages (from finance-datareader) (1.4.2)\n",
      "Requirement already satisfied: requests>=2.3.0 in c:\\users\\munbe\\anaconda3\\lib\\site-packages (from finance-datareader) (2.27.1)\n",
      "Requirement already satisfied: python-dateutil>=2.8.1 in c:\\users\\munbe\\anaconda3\\lib\\site-packages (from pandas>=0.19.2->finance-datareader) (2.8.2)\n",
      "Requirement already satisfied: pytz>=2020.1 in c:\\users\\munbe\\anaconda3\\lib\\site-packages (from pandas>=0.19.2->finance-datareader) (2021.3)\n",
      "Requirement already satisfied: numpy>=1.18.5 in c:\\users\\munbe\\anaconda3\\lib\\site-packages (from pandas>=0.19.2->finance-datareader) (1.21.5)\n",
      "Requirement already satisfied: six>=1.5 in c:\\users\\munbe\\anaconda3\\lib\\site-packages (from python-dateutil>=2.8.1->pandas>=0.19.2->finance-datareader) (1.16.0)\n",
      "Requirement already satisfied: idna<4,>=2.5 in c:\\users\\munbe\\anaconda3\\lib\\site-packages (from requests>=2.3.0->finance-datareader) (3.3)\n",
      "Requirement already satisfied: charset-normalizer~=2.0.0 in c:\\users\\munbe\\anaconda3\\lib\\site-packages (from requests>=2.3.0->finance-datareader) (2.0.4)\n",
      "Requirement already satisfied: certifi>=2017.4.17 in c:\\users\\munbe\\anaconda3\\lib\\site-packages (from requests>=2.3.0->finance-datareader) (2021.10.8)\n",
      "Requirement already satisfied: urllib3<1.27,>=1.21.1 in c:\\users\\munbe\\anaconda3\\lib\\site-packages (from requests>=2.3.0->finance-datareader) (1.26.9)\n",
      "Requirement already satisfied: colorama in c:\\users\\munbe\\anaconda3\\lib\\site-packages (from tqdm->finance-datareader) (0.4.4)\n",
      "Note: you may need to restart the kernel to use updated packages.\n"
     ]
    }
   ],
   "source": [
    "pip install -U finance-datareader"
   ]
  },
  {
   "cell_type": "code",
   "execution_count": 2,
   "id": "960139b8-653f-4cac-b4be-175911ca74ce",
   "metadata": {},
   "outputs": [],
   "source": [
    "import matplotlib.pyplot as plt"
   ]
  },
  {
   "cell_type": "code",
   "execution_count": 3,
   "id": "1fa1f29b-8c43-42a1-8790-e5a08dd9c76f",
   "metadata": {},
   "outputs": [],
   "source": [
    "import datetime"
   ]
  },
  {
   "cell_type": "code",
   "execution_count": 4,
   "id": "1be9b6a6-2c4b-4a84-a330-1229551fc1cc",
   "metadata": {},
   "outputs": [],
   "source": [
    "import pandas as pd"
   ]
  },
  {
   "cell_type": "code",
   "execution_count": 5,
   "id": "973e4b0b-c168-4bc0-9740-df0ac95c7fb4",
   "metadata": {},
   "outputs": [
    {
     "data": {
      "text/plain": [
       "'0.9.50'"
      ]
     },
     "execution_count": 5,
     "metadata": {},
     "output_type": "execute_result"
    }
   ],
   "source": [
    "import FinanceDataReader as fdr\n",
    "fdr.__version__"
   ]
  },
  {
   "cell_type": "code",
   "execution_count": 113,
   "id": "ac12ebb5-5a79-4d3d-b890-6a56fa81fd42",
   "metadata": {},
   "outputs": [
    {
     "name": "stdin",
     "output_type": "stream",
     "text": [
      " goog 2021 2023\n"
     ]
    },
    {
     "data": {
      "text/plain": [
       "<AxesSubplot:xlabel='Date'>"
      ]
     },
     "execution_count": 113,
     "metadata": {},
     "output_type": "execute_result"
    },
    {
     "data": {
      "image/png": "[encoded data removed]",
      "text/plain": [
       "<Figure size 432x288 with 1 Axes>"
      ]
     },
     "metadata": {
      "needs_background": "light"
     },
     "output_type": "display_data"
    }
   ],
   "source": [
    "import FinanceDataReader as fdr\n",
    "\n",
    "stock_name, start_year, last_year = input().split()\n",
    "\n",
    "# 구글(GOOG), 2021년 ~ 2022년\n",
    "df = fdr.DataReader(stock_name, start_year, last_year)\n",
    "df['Close'].plot()"
   ]
  },
  {
   "cell_type": "code",
   "execution_count": 114,
   "id": "998bfea9-94b2-43e3-aada-48dae15f9b9d",
   "metadata": {},
   "outputs": [
    {
     "data": {
      "text/html": [
       "<div>\n",
       "<style scoped>\n",
       "    .dataframe tbody tr th:only-of-type {\n",
       "        vertical-align: middle;\n",
       "    }\n",
       "\n",
       "    .dataframe tbody tr th {\n",
       "        vertical-align: top;\n",
       "    }\n",
       "\n",
       "    .dataframe thead th {\n",
       "        text-align: right;\n",
       "    }\n",
       "</style>\n",
       "<table border=\"1\" class=\"dataframe\">\n",
       "  <thead>\n",
       "    <tr style=\"text-align: right;\">\n",
       "      <th></th>\n",
       "      <th>Open</th>\n",
       "      <th>High</th>\n",
       "      <th>Low</th>\n",
       "      <th>Close</th>\n",
       "      <th>Adj Close</th>\n",
       "      <th>Volume</th>\n",
       "    </tr>\n",
       "    <tr>\n",
       "      <th>Date</th>\n",
       "      <th></th>\n",
       "      <th></th>\n",
       "      <th></th>\n",
       "      <th></th>\n",
       "      <th></th>\n",
       "      <th></th>\n",
       "    </tr>\n",
       "  </thead>\n",
       "  <tbody>\n",
       "    <tr>\n",
       "      <th>2021-01-04</th>\n",
       "      <td>87.876999</td>\n",
       "      <td>88.032501</td>\n",
       "      <td>85.392502</td>\n",
       "      <td>86.412003</td>\n",
       "      <td>86.412003</td>\n",
       "      <td>38038000</td>\n",
       "    </tr>\n",
       "    <tr>\n",
       "      <th>2021-01-05</th>\n",
       "      <td>86.250000</td>\n",
       "      <td>87.383499</td>\n",
       "      <td>85.900749</td>\n",
       "      <td>87.045998</td>\n",
       "      <td>87.045998</td>\n",
       "      <td>22906000</td>\n",
       "    </tr>\n",
       "    <tr>\n",
       "      <th>2021-01-06</th>\n",
       "      <td>85.131500</td>\n",
       "      <td>87.400002</td>\n",
       "      <td>84.949997</td>\n",
       "      <td>86.764503</td>\n",
       "      <td>86.764503</td>\n",
       "      <td>52042000</td>\n",
       "    </tr>\n",
       "    <tr>\n",
       "      <th>2021-01-07</th>\n",
       "      <td>87.002998</td>\n",
       "      <td>89.419998</td>\n",
       "      <td>86.852501</td>\n",
       "      <td>89.362503</td>\n",
       "      <td>89.362503</td>\n",
       "      <td>45300000</td>\n",
       "    </tr>\n",
       "    <tr>\n",
       "      <th>2021-01-08</th>\n",
       "      <td>89.399002</td>\n",
       "      <td>90.491997</td>\n",
       "      <td>88.676750</td>\n",
       "      <td>90.360497</td>\n",
       "      <td>90.360497</td>\n",
       "      <td>41012000</td>\n",
       "    </tr>\n",
       "    <tr>\n",
       "      <th>...</th>\n",
       "      <td>...</td>\n",
       "      <td>...</td>\n",
       "      <td>...</td>\n",
       "      <td>...</td>\n",
       "      <td>...</td>\n",
       "      <td>...</td>\n",
       "    </tr>\n",
       "    <tr>\n",
       "      <th>2022-12-23</th>\n",
       "      <td>87.620003</td>\n",
       "      <td>90.099998</td>\n",
       "      <td>87.620003</td>\n",
       "      <td>89.809998</td>\n",
       "      <td>89.809998</td>\n",
       "      <td>17815000</td>\n",
       "    </tr>\n",
       "    <tr>\n",
       "      <th>2022-12-27</th>\n",
       "      <td>89.309998</td>\n",
       "      <td>89.500000</td>\n",
       "      <td>87.535004</td>\n",
       "      <td>87.930000</td>\n",
       "      <td>87.930000</td>\n",
       "      <td>15470900</td>\n",
       "    </tr>\n",
       "    <tr>\n",
       "      <th>2022-12-28</th>\n",
       "      <td>87.500000</td>\n",
       "      <td>88.519997</td>\n",
       "      <td>86.370003</td>\n",
       "      <td>86.459999</td>\n",
       "      <td>86.459999</td>\n",
       "      <td>17879600</td>\n",
       "    </tr>\n",
       "    <tr>\n",
       "      <th>2022-12-29</th>\n",
       "      <td>87.029999</td>\n",
       "      <td>89.364998</td>\n",
       "      <td>86.989998</td>\n",
       "      <td>88.949997</td>\n",
       "      <td>88.949997</td>\n",
       "      <td>18280700</td>\n",
       "    </tr>\n",
       "    <tr>\n",
       "      <th>2022-12-30</th>\n",
       "      <td>87.364998</td>\n",
       "      <td>88.830002</td>\n",
       "      <td>87.029999</td>\n",
       "      <td>88.730003</td>\n",
       "      <td>88.730003</td>\n",
       "      <td>19190300</td>\n",
       "    </tr>\n",
       "  </tbody>\n",
       "</table>\n",
       "<p>503 rows × 6 columns</p>\n",
       "</div>"
      ],
      "text/plain": [
       "                 Open       High        Low      Close  Adj Close    Volume\n",
       "Date                                                                       \n",
       "2021-01-04  87.876999  88.032501  85.392502  86.412003  86.412003  38038000\n",
       "2021-01-05  86.250000  87.383499  85.900749  87.045998  87.045998  22906000\n",
       "2021-01-06  85.131500  87.400002  84.949997  86.764503  86.764503  52042000\n",
       "2021-01-07  87.002998  89.419998  86.852501  89.362503  89.362503  45300000\n",
       "2021-01-08  89.399002  90.491997  88.676750  90.360497  90.360497  41012000\n",
       "...               ...        ...        ...        ...        ...       ...\n",
       "2022-12-23  87.620003  90.099998  87.620003  89.809998  89.809998  17815000\n",
       "2022-12-27  89.309998  89.500000  87.535004  87.930000  87.930000  15470900\n",
       "2022-12-28  87.500000  88.519997  86.370003  86.459999  86.459999  17879600\n",
       "2022-12-29  87.029999  89.364998  86.989998  88.949997  88.949997  18280700\n",
       "2022-12-30  87.364998  88.830002  87.029999  88.730003  88.730003  19190300\n",
       "\n",
       "[503 rows x 6 columns]"
      ]
     },
     "execution_count": 114,
     "metadata": {},
     "output_type": "execute_result"
    }
   ],
   "source": [
    "df"
   ]
  },
  {
   "cell_type": "code",
   "execution_count": 115,
   "id": "2d20bb80-6c70-4115-9027-8a1e93bad8eb",
   "metadata": {},
   "outputs": [
    {
     "data": {
      "text/plain": [
       "<AxesSubplot:xlabel='Date'>"
      ]
     },
     "execution_count": 115,
     "metadata": {},
     "output_type": "execute_result"
    },
    {
     "data": {
      "image/png": "[encoded data removed]",
      "text/plain": [
       "<Figure size 432x288 with 1 Axes>"
      ]
     },
     "metadata": {
      "needs_background": "light"
     },
     "output_type": "display_data"
    }
   ],
   "source": [
    "df['Close'].plot() # 종가기준 주가 변동 추이 그래프"
   ]
  },
  {
   "cell_type": "code",
   "execution_count": 116,
   "id": "c5bfc728-49a8-4060-9c9b-4deb76d244ab",
   "metadata": {},
   "outputs": [],
   "source": [
    "price_cl = {}\n",
    "price_co = {}"
   ]
  },
  {
   "cell_type": "code",
   "execution_count": 117,
   "id": "f2943c4f-be1a-4e50-9bd6-7ee68b36dfed",
   "metadata": {},
   "outputs": [],
   "source": [
    "for i in range(len(df['Close'])):\n",
    "    price_cl[i] = round(df['Close'][i],2) # 소숫점 뒤 2자리 내림\n",
    "    price_co[i] = round(df['Close'][i],2) # 소숫점 뒤 2자리 내림"
   ]
  },
  {
   "cell_type": "code",
   "execution_count": 118,
   "id": "caae8c2a-4492-4b67-9c61-f466a6d120a3",
   "metadata": {},
   "outputs": [],
   "source": [
    "dif = {} \n",
    "for i in range(len(price_cl) - 1):\n",
    "    dif[i] = round(price_cl[i + 1] - price_co[i],2) # 소숫점 2자리 까지 가격간 차이 변환"
   ]
  },
  {
   "cell_type": "code",
   "execution_count": 119,
   "id": "75eaf38e-7991-4a3b-93ba-1a0a5d9c4d1f",
   "metadata": {},
   "outputs": [
    {
     "name": "stdout",
     "output_type": "stream",
     "text": [
      "(0, 221, 64.3)\n"
     ]
    }
   ],
   "source": [
    "def MaxSubarray(x, low, high):\n",
    "    if high < low: # 최댓값이 최솟값보다 작은 경우\n",
    "        return 0, 0, 0\n",
    "\n",
    "    if high == low: #최댓값과 최솟값이 동일할 경우\n",
    "        return low, high, x[low]\n",
    "\n",
    "    else: #나머지 case 3가지 설정\n",
    "        mid = (low + high) // 2\n",
    "        (ll, lh, ls) = MaxSubarray(x, low, mid - 1)\n",
    "        (rl, rh, rs) = MaxSubarray(x, mid + 1, high)\n",
    "        (cl, ch, cs) = Cross(x, low, mid, high)\n",
    "\n",
    "        if ls >= rs and ls >= cs: # 모두 왼쪽 배열에 있는경우\n",
    "            return ll, lh, ls\n",
    "        elif rs >= ls and rs >= cs: # 모두 오른쪽 배열에 있는경우\n",
    "            return rl, rh, rs\n",
    "        else: # 가운데 배열을 포함해서 있는 경우\n",
    "            return cl, ch, cs\n",
    "\n",
    "def Cross(x, low, mid, high): #가운데 배열을 포함해서 위치하는 경우\n",
    "    ls = 0\n",
    "    rs = 0\n",
    "    ml = 0\n",
    "    mr = 0\n",
    "    index_left = True\n",
    "    index_right = True\n",
    "\n",
    "    sum = 0\n",
    "    for i in range(mid - 1, low - 1, -1):\n",
    "        sum = sum + x[i]\n",
    "        if sum > ls:\n",
    "            ls = sum\n",
    "            ml = i\n",
    "            index_left = False\n",
    "\n",
    "    sum = 0\n",
    "    for j in range(mid + 1, high + 1, 1):\n",
    "        sum = sum + x[j]\n",
    "        if sum > rs:\n",
    "            rs = sum\n",
    "            mr = j\n",
    "            index_right = False\n",
    "\n",
    "    if index_left:\n",
    "        ml = mid\n",
    "    if index_right:\n",
    "        mr = mid\n",
    "\n",
    "    return ml, mr, round(ls + rs + x[mid],2)\n",
    "\n",
    "A = [-2, 1, -3, 4, -1, 2, 1, -5, 4]\n",
    "print(MaxSubarray(dif, 0, len(dif)-1))     #(배열, 시작 위치, 끝 위치)"
   ]
  },
  {
   "cell_type": "code",
   "execution_count": 120,
   "id": "e3a5729c-216a-4d43-9532-6255b7c60c60",
   "metadata": {},
   "outputs": [],
   "source": [
    "low_index, max_index, max_profit = MaxSubarray(dif,0,len(dif)-1)\n",
    "max_index = max_index + 1 # 각각의 index 파악"
   ]
  },
  {
   "cell_type": "code",
   "execution_count": 121,
   "id": "5c858606-e4e2-46a8-8fb4-3ac021a02b45",
   "metadata": {},
   "outputs": [],
   "source": [
    "low_price = df['Close'][low_index]\n",
    "max_price = df['Close'][max_index]"
   ]
  },
  {
   "cell_type": "code",
   "execution_count": 122,
   "id": "86ccdf7e-e976-4fcf-a562-fbbf276275cc",
   "metadata": {},
   "outputs": [
    {
     "name": "stdout",
     "output_type": "stream",
     "text": [
      "64.3\n"
     ]
    }
   ],
   "source": [
    "print(round(df['Close'][max_index] - df['Close'][low_index],2)) # 실제 index 설정 뒤 계산"
   ]
  },
  {
   "cell_type": "code",
   "execution_count": 123,
   "id": "7a0f1001-a8d4-46af-897f-6e5aa87cc737",
   "metadata": {},
   "outputs": [
    {
     "data": {
      "text/plain": [
       "86.412003"
      ]
     },
     "execution_count": 123,
     "metadata": {},
     "output_type": "execute_result"
    }
   ],
   "source": [
    "min = df['Close'][0]\n",
    "\n",
    "for i in df['Close']:\n",
    "    if i < min:\n",
    "        max = i\n",
    "min # 실제 최솟값"
   ]
  },
  {
   "cell_type": "code",
   "execution_count": 124,
   "id": "07404a42-e0cc-49d1-bc1e-ec21406acb97",
   "metadata": {},
   "outputs": [
    {
     "data": {
      "text/html": [
       "<div>\n",
       "<style scoped>\n",
       "    .dataframe tbody tr th:only-of-type {\n",
       "        vertical-align: middle;\n",
       "    }\n",
       "\n",
       "    .dataframe tbody tr th {\n",
       "        vertical-align: top;\n",
       "    }\n",
       "\n",
       "    .dataframe thead th {\n",
       "        text-align: right;\n",
       "    }\n",
       "</style>\n",
       "<table border=\"1\" class=\"dataframe\">\n",
       "  <thead>\n",
       "    <tr style=\"text-align: right;\">\n",
       "      <th></th>\n",
       "      <th>Open</th>\n",
       "      <th>High</th>\n",
       "      <th>Low</th>\n",
       "      <th>Close</th>\n",
       "      <th>Adj Close</th>\n",
       "      <th>Volume</th>\n",
       "    </tr>\n",
       "    <tr>\n",
       "      <th>Date</th>\n",
       "      <th></th>\n",
       "      <th></th>\n",
       "      <th></th>\n",
       "      <th></th>\n",
       "      <th></th>\n",
       "      <th></th>\n",
       "    </tr>\n",
       "  </thead>\n",
       "  <tbody>\n",
       "    <tr>\n",
       "      <th>2021-01-04</th>\n",
       "      <td>87.876999</td>\n",
       "      <td>88.032501</td>\n",
       "      <td>85.392502</td>\n",
       "      <td>86.412003</td>\n",
       "      <td>86.412003</td>\n",
       "      <td>38038000</td>\n",
       "    </tr>\n",
       "  </tbody>\n",
       "</table>\n",
       "</div>"
      ],
      "text/plain": [
       "                 Open       High        Low      Close  Adj Close    Volume\n",
       "Date                                                                       \n",
       "2021-01-04  87.876999  88.032501  85.392502  86.412003  86.412003  38038000"
      ]
     },
     "execution_count": 124,
     "metadata": {},
     "output_type": "execute_result"
    }
   ],
   "source": [
    "df[df['Close'] == min] # 최솟값 위치"
   ]
  },
  {
   "cell_type": "code",
   "execution_count": 125,
   "id": "01a24da4-2521-424d-9187-779aef0fcede",
   "metadata": {},
   "outputs": [
    {
     "data": {
      "text/plain": [
       "150.709"
      ]
     },
     "execution_count": 125,
     "metadata": {},
     "output_type": "execute_result"
    }
   ],
   "source": [
    "max = df['Close'][0]\n",
    "\n",
    "for i in df['Close']:\n",
    "    if i > max:\n",
    "        max = i\n",
    "max # 실제 최댓값"
   ]
  },
  {
   "cell_type": "code",
   "execution_count": 126,
   "id": "c70a63c0-068f-470a-99a0-20499f06994b",
   "metadata": {},
   "outputs": [
    {
     "data": {
      "text/html": [
       "<div>\n",
       "<style scoped>\n",
       "    .dataframe tbody tr th:only-of-type {\n",
       "        vertical-align: middle;\n",
       "    }\n",
       "\n",
       "    .dataframe tbody tr th {\n",
       "        vertical-align: top;\n",
       "    }\n",
       "\n",
       "    .dataframe thead th {\n",
       "        text-align: right;\n",
       "    }\n",
       "</style>\n",
       "<table border=\"1\" class=\"dataframe\">\n",
       "  <thead>\n",
       "    <tr style=\"text-align: right;\">\n",
       "      <th></th>\n",
       "      <th>Open</th>\n",
       "      <th>High</th>\n",
       "      <th>Low</th>\n",
       "      <th>Close</th>\n",
       "      <th>Adj Close</th>\n",
       "      <th>Volume</th>\n",
       "    </tr>\n",
       "    <tr>\n",
       "      <th>Date</th>\n",
       "      <th></th>\n",
       "      <th></th>\n",
       "      <th></th>\n",
       "      <th></th>\n",
       "      <th></th>\n",
       "      <th></th>\n",
       "    </tr>\n",
       "  </thead>\n",
       "  <tbody>\n",
       "    <tr>\n",
       "      <th>2021-11-18</th>\n",
       "      <td>149.145996</td>\n",
       "      <td>151.610001</td>\n",
       "      <td>148.998505</td>\n",
       "      <td>150.709</td>\n",
       "      <td>150.709</td>\n",
       "      <td>26658000</td>\n",
       "    </tr>\n",
       "  </tbody>\n",
       "</table>\n",
       "</div>"
      ],
      "text/plain": [
       "                  Open        High         Low    Close  Adj Close    Volume\n",
       "Date                                                                        \n",
       "2021-11-18  149.145996  151.610001  148.998505  150.709    150.709  26658000"
      ]
     },
     "execution_count": 126,
     "metadata": {},
     "output_type": "execute_result"
    }
   ],
   "source": [
    "df[df['Close'] == max] # 최댓값 위치"
   ]
  },
  {
   "cell_type": "code",
   "execution_count": 127,
   "id": "e9ae91ab-8b2e-475d-9f04-63c2781a2765",
   "metadata": {},
   "outputs": [],
   "source": [
    "date = df.index"
   ]
  },
  {
   "cell_type": "code",
   "execution_count": 128,
   "id": "0acdf292-e69f-4c2f-b51f-5a684453709b",
   "metadata": {},
   "outputs": [],
   "source": [
    "low_date = date[low_index].date()\n",
    "max_date = date[max_index].date()"
   ]
  },
  {
   "cell_type": "code",
   "execution_count": 129,
   "id": "05771ac0-c3c0-46eb-a4d5-f21451cc0439",
   "metadata": {},
   "outputs": [
    {
     "data": {
      "text/plain": [
       "<matplotlib.collections.LineCollection at 0x20660cbdc10>"
      ]
     },
     "execution_count": 129,
     "metadata": {},
     "output_type": "execute_result"
    },
    {
     "data": {
      "image/png": "[encoded data removed]",
      "text/plain": [
       "<Figure size 432x288 with 1 Axes>"
      ]
     },
     "metadata": {
      "needs_background": "light"
     },
     "output_type": "display_data"
    }
   ],
   "source": [
    "df['Close'].plot()\n",
    "plt.title(stock_name)\n",
    "plt.ylabel('price')\n",
    "plt.xlabel('Date')\n",
    "plt.vlines(low_date,min-30,df['Close'][low_index],color = 'blue',linestyle = '--',linewidth = 2)\n",
    "plt.vlines(max_date,min-30,df['Close'][max_index],color = 'red',linestyle = '--',linewidth = 2)"
   ]
  },
  {
   "cell_type": "code",
   "execution_count": 130,
   "id": "4745d06f-f59f-4a3e-b5cf-9821bb33d075",
   "metadata": {},
   "outputs": [
    {
     "name": "stdout",
     "output_type": "stream",
     "text": [
      "종목 : GOOG 매입날짜 :  2021-01-04 매도날짜 :  2021-11-18 총수익 64.3 $\n"
     ]
    }
   ],
   "source": [
    "print('종목 : GOOG','매입날짜 : ' , low_date, '매도날짜 : ' ,max_date,'총수익',max_profit,'$')"
   ]
  },
  {
   "cell_type": "code",
   "execution_count": null,
   "id": "16b624a4-9e4d-4ab1-a689-143341cd6e54",
   "metadata": {},
   "outputs": [],
   "source": []
  }
 ],
 "metadata": {
  "kernelspec": {
   "display_name": "Python 3 (ipykernel)",
   "language": "python",
   "name": "python3"
  },
  "language_info": {
   "codemirror_mode": {
    "name": "ipython",
    "version": 3
   },
   "file_extension": ".py",
   "mimetype": "text/x-python",
   "name": "python",
   "nbconvert_exporter": "python",
   "pygments_lexer": "ipython3",
   "version": "3.9.12"
  }
 },
 "nbformat": 4,
 "nbformat_minor": 5
}
