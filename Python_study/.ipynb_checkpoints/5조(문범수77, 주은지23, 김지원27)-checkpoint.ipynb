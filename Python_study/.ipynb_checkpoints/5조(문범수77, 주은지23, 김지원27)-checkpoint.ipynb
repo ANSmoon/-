{
 "cells": [
  {
   "cell_type": "markdown",
   "id": "958687a9-7c4d-426f-9ef2-d4474427d858",
   "metadata": {},
   "source": [
    "##### object : 코테 데이\n",
    "##### Author : 5조(2번, 3번, 4번 풀이)\n",
    "##### date : 2022.3.15"
   ]
  },
  {
   "cell_type": "markdown",
   "id": "b76b25e8-1435-4fac-968d-ab471bf25ffe",
   "metadata": {},
   "source": [
    "### 1번 알파벳 암호화 퀴즈"
   ]
  },
  {
   "cell_type": "code",
   "execution_count": 50,
   "id": "7c0a3481-522b-487a-80ab-3662e62b4c0b",
   "metadata": {},
   "outputs": [
    {
     "name": "stdin",
     "output_type": "stream",
     "text": [
      "Input your Alphabet abc\n",
      "Input any correct number[1 <= n <= 25] 123\n"
     ]
    }
   ],
   "source": [
    "x = str(input(\"Input your Alphabet\"))\n",
    "n = int(input(\"Input any correct number[1 <= n <= 25]\"))\n",
    "\n",
    "new_x = x.replace(\" \",\"\")"
   ]
  },
  {
   "cell_type": "markdown",
   "id": "db171c39-f504-4abf-ba71-3e4e7ab90a45",
   "metadata": {},
   "source": [
    "### 2번 ID 만들기"
   ]
  },
  {
   "cell_type": "code",
   "execution_count": 53,
   "id": "18b9bd71-3fe5-479c-8a60-ed6edb62a10e",
   "metadata": {},
   "outputs": [],
   "source": [
    "def result(new_id): \n",
    "  new_id = new_id.lower() # 대문자에서 소문자로 변경\n",
    "  for i in new_id:\n",
    "   if not (i.islower() or i.isdigit() or i in {\"-\",\"_\",\".\"}):\n",
    "    new_id = new_id.replace(i,\".\")   # 알파벳,소문자,숫자,특수문자 \n",
    "  while '..' in new_id:\n",
    "    new_id = new_id.replace(\"..\",\".\") # 중복 .은 1개로 치환\n",
    "  new_id = new_id.strip(\".\") # 맨앞 맨뒤 마침표 제거\n",
    "  while not len(new_id):\n",
    "    new_id +=\"0\"  # 빈 문자열에 0 추가\n",
    "  if len(new_id) >= 16:\n",
    "    new_id = new_id[:15]\n",
    "    if new_id[14] == \".\":\n",
    "      new_id = new_id[:-1] # 길이가 15고 15를 초과하면 마침표 제거\n",
    "  while len(new_id) < 3:\n",
    "    answer = new_id[-1]\n",
    "    new_id+=answer  # 길이가 2면 3이 될때까지 반복해서 붙인다\n",
    "  return new_id\n"
   ]
  },
  {
   "cell_type": "markdown",
   "id": "663656cb-bd92-438e-bbad-26e7509726bc",
   "metadata": {},
   "source": [
    "### 3번 팩토리얼 및 조합만들기"
   ]
  },
  {
   "cell_type": "code",
   "execution_count": 52,
   "id": "a31e4c32-f822-4893-a650-270012550fdd",
   "metadata": {},
   "outputs": [
    {
     "name": "stdin",
     "output_type": "stream",
     "text": [
      "factorial 구할 숫자를 입력하세요 :  12\n"
     ]
    },
    {
     "name": "stdout",
     "output_type": "stream",
     "text": [
      "479001600\n"
     ]
    }
   ],
   "source": [
    "a = int(input(\"factorial 구할 숫자를 입력하세요 : \"))\n",
    "result = 1\n",
    "for item in range(1,a+1, 1): \n",
    "    result *= item #result * 반복문 변수 # result = result * item\n",
    "print(result)"
   ]
  },
  {
   "cell_type": "markdown",
   "id": "6627c2b7-7817-4f44-a7a1-76320733166c",
   "metadata": {},
   "source": [
    "### 4번 사용자에게 태어난 년도를 입력받아 띠를 출력하는 코드"
   ]
  },
  {
   "cell_type": "code",
   "execution_count": 33,
   "id": "dacf9b7d-84c6-46f0-9fc6-e90030d904c4",
   "metadata": {},
   "outputs": [
    {
     "name": "stdin",
     "output_type": "stream",
     "text": [
      "태어난 년도를 입력하세요 2015\n"
     ]
    },
    {
     "name": "stdout",
     "output_type": "stream",
     "text": [
      "양 띠 입니다.\n"
     ]
    }
   ],
   "source": [
    "year = int(input(\"태어난 년도를 입력하세요\")) # 사용자에게 년도 입력\n",
    "animal = year % 12             # 년도를 12년 주기에 맞게 나머지 계산\n",
    "\n",
    "# 각 주기에 맞게 if문 작성\n",
    "if animal == 0:\n",
    "    print(\"원숭이 띠 입니다.\")\n",
    "\n",
    "elif animal == 1:\n",
    "    print(\"닭 띠 입니다.\")\n",
    "    \n",
    "elif animal == 2:\n",
    "    print(\"개 띠 입니다.\")\n",
    "    \n",
    "elif animal == 3:\n",
    "    print(\"돼지 띠 입니다.\")\n",
    "    \n",
    "elif animal == 4:\n",
    "    print(\"쥐 띠 입니다.\")\n",
    "    \n",
    "elif animal == 5:\n",
    "    print(\"소 띠 입니다.\")\n",
    "    \n",
    "elif animal == 6:\n",
    "    print(\"범 띠 입니다.\")\n",
    "    \n",
    "elif animal == 7:\n",
    "    print(\"토끼 띠 입니다.\")\n",
    "    \n",
    "elif animal == 8:\n",
    "    print(\"용 띠 입니다.\")\n",
    "\n",
    "elif animal == 9:\n",
    "    print(\"뱀 띠 입니다.\")    \n",
    "    \n",
    "elif animal == 10:\n",
    "    print(\"말 띠입니다.\")\n",
    "    \n",
    "elif animal == 11:\n",
    "    print(\"양 띠 입니다.\")\n",
    "    "
   ]
  }
 ],
 "metadata": {
  "kernelspec": {
   "display_name": "Python 3 (ipykernel)",
   "language": "python",
   "name": "python3"
  },
  "language_info": {
   "codemirror_mode": {
    "name": "ipython",
    "version": 3
   },
   "file_extension": ".py",
   "mimetype": "text/x-python",
   "name": "python",
   "nbconvert_exporter": "python",
   "pygments_lexer": "ipython3",
   "version": "3.9.12"
  }
 },
 "nbformat": 4,
 "nbformat_minor": 5
}
