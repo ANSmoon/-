{
 "cells": [
  {
   "cell_type": "markdown",
   "id": "9e545279-d08f-418c-8896-65b32bbbdc4b",
   "metadata": {},
   "source": [
    "##### object : 퀴즈 문제 풀이\n",
    "##### Author : 문범수\n",
    "##### date : 2022.3.13"
   ]
  },
  {
   "cell_type": "markdown",
   "id": "1962f128-b640-4041-b28a-82f2cb0adfbe",
   "metadata": {},
   "source": [
    "1.계산기 함수 만들기\n",
    "\n",
    "값 입력 5,20\n",
    "출력\n",
    "덧셈 25, 뺄셈 -15, 곱셈 100, 나눗셈 0.25, 평균 12.5"
   ]
  },
  {
   "cell_type": "code",
   "execution_count": 10,
   "id": "0f4bd5b2-6645-4aad-a6f1-cd30ad1e7d5b",
   "metadata": {},
   "outputs": [
    {
     "name": "stdin",
     "output_type": "stream",
     "text": [
      " 5\n",
      " 20\n"
     ]
    },
    {
     "name": "stdout",
     "output_type": "stream",
     "text": [
      "덧셈 :  25  뺄셈 :  -15  곱셈 :  100  나눗셈 :  0.25  평균 :  12.5\n"
     ]
    }
   ],
   "source": [
    "x = int(input())\n",
    "y = int(input())\n",
    "\n",
    "print('덧셈 : ',x+y ,' 뺄셈 : ', x-y ,' 곱셈 : ', x*y , ' 나눗셈 : ', x/y , ' 평균 : ', (x+y)/2 )"
   ]
  },
  {
   "cell_type": "markdown",
   "id": "31a14b27-560e-4ab2-b7bc-f4690fdce918",
   "metadata": {},
   "source": [
    "2. 음식점 테이블에 여러 명이 나누어 안증려고 한다.\n",
    "이때 한 사람만 앉는 테이블이 없게 그룹을 지어야 한다. \n",
    "인원 수를 나누는 패턴만 구하면 되며, 누가 어디에 앉는지는 상관 안해도 된다. \n",
    "예를 들어 6명인 경우는 \n",
    "2+2+2 2+4, 3+3, 6 \n",
    "한 테이블에 앉을 수 있는 최대의 사람은 10명 \n",
    "100명의 사람이 하나 이상의 테이블에 나누어 앉은 패턴은 ?\n",
    "함수를 이용해 문제 풀기 "
   ]
  },
  {
   "cell_type": "code",
   "execution_count": 18,
   "id": "02d03d63-38a4-4a1b-873b-c50dd6418278",
   "metadata": {},
   "outputs": [
    {
     "name": "stdout",
     "output_type": "stream",
     "text": [
      "437420\n"
     ]
    },
    {
     "ename": "KeyError",
     "evalue": "'[100,2]'",
     "output_type": "error",
     "traceback": [
      "\u001b[1;31m---------------------------------------------------------------------------\u001b[0m",
      "\u001b[1;31mKeyError\u001b[0m                                  Traceback (most recent call last)",
      "Input \u001b[1;32mIn [18]\u001b[0m, in \u001b[0;36m<cell line: 27>\u001b[1;34m()\u001b[0m\n\u001b[0;32m     24\u001b[0m     \u001b[38;5;28;01mreturn\u001b[39;00m count\n\u001b[0;32m     26\u001b[0m \u001b[38;5;28mprint\u001b[39m(table(x,y))\n\u001b[1;32m---> 27\u001b[0m \u001b[38;5;28mprint\u001b[39m(\u001b[43mnumber\u001b[49m\u001b[43m[\u001b[49m\u001b[38;5;124;43m'\u001b[39;49m\u001b[38;5;124;43m[100,2]\u001b[39;49m\u001b[38;5;124;43m'\u001b[39;49m\u001b[43m]\u001b[49m)\n",
      "\u001b[1;31mKeyError\u001b[0m: '[100,2]'"
     ]
    }
   ],
   "source": [
    "x = 100\n",
    "y = 2\n",
    "\n",
    "number ={}\n",
    "\n",
    "def table(total,min):\n",
    "    sit = str([total, min]) #남은 사람, 앉은 사람을 묶어 문자열에 저장\n",
    "    \n",
    "    if sit in number:\n",
    "        return number[sit]\n",
    "    \n",
    "    if total < 0:    #total이 다 소모된 경우\n",
    "        return 0\n",
    "    if total == 0:   #total이 마침내 끝나 다 않은경우 1\n",
    "        return 1\n",
    "    \n",
    "    count = 0\n",
    "    \n",
    "    for i in range(min, 11):\n",
    "        count = count + table(total - i, i) #재귀함수\n",
    "    \n",
    "    number[sit] = count\n",
    "    \n",
    "    return count\n",
    "\n",
    "print(table(x,y))\n",
    "print(number['[100,2]'])\n",
    "    "
   ]
  },
  {
   "cell_type": "code",
   "execution_count": null,
   "id": "31f0774f-9688-4589-ab34-1358340bcfcc",
   "metadata": {},
   "outputs": [],
   "source": []
  }
 ],
 "metadata": {
  "kernelspec": {
   "display_name": "Python 3 (ipykernel)",
   "language": "python",
   "name": "python3"
  },
  "language_info": {
   "codemirror_mode": {
    "name": "ipython",
    "version": 3
   },
   "file_extension": ".py",
   "mimetype": "text/x-python",
   "name": "python",
   "nbconvert_exporter": "python",
   "pygments_lexer": "ipython3",
   "version": "3.9.12"
  }
 },
 "nbformat": 4,
 "nbformat_minor": 5
}
