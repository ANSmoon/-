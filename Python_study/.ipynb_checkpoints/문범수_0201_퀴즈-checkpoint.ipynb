{
 "cells": [
  {
   "cell_type": "markdown",
   "id": "315ca774-7c7f-4e1e-8f28-193b0464456a",
   "metadata": {},
   "source": [
    "Q1. numbers = [ 151, 257, 855, 1367, 22, 1, 9888 ] \n",
    "\n",
    "실행결과 1 \n",
    "151은 홀수입니다. 외 모든 수 동일하게 짝수, 홀수 판별 코드\n",
    "\n",
    "실행결과 2\n",
    "151은 3 자릿수 입니다. 외 모든 수 동일하게 자릿수 체크 판별 코드 "
   ]
  },
  {
   "cell_type": "code",
   "execution_count": 24,
   "id": "a74afa94-aa1a-4ab3-a655-729291157098",
   "metadata": {},
   "outputs": [
    {
     "name": "stdout",
     "output_type": "stream",
     "text": [
      "실행결과 1\n",
      "\n",
      "151 은 홀수입니다.\n",
      "257 은 홀수입니다.\n",
      "855 은 홀수입니다.\n",
      "1367 은 홀수입니다.\n",
      "22 은 짝수입니다.\n",
      "1 은 홀수입니다.\n",
      "9888 은 짝수입니다.\n",
      "\n",
      "실행결과 2\n",
      "\n",
      "151 은 3자리 수입니다.\n",
      "257 은 3자리 수입니다.\n",
      "855 은 3자리 수입니다.\n",
      "1367 은 4자리 수입니다.\n",
      "22 은 2자리 수입니다.\n",
      "1 은 1자리 수입니다.\n",
      "9888 은 4자리 수입니다.\n"
     ]
    }
   ],
   "source": [
    "numbers = [151, 257, 855, 1367, 22, 1, 9888]\n",
    "\n",
    "print(\"실행결과 1\\n\")\n",
    "\n",
    "for i in numbers:\n",
    "    if i % 2 == 0:\n",
    "        print(i,\"은 짝수입니다.\")\n",
    "    \n",
    "    else:\n",
    "        print(i, \"은 홀수입니다.\")\n",
    "\n",
    "print(\"\\n실행결과 2\\n\")\n",
    "\n",
    "for i in numbers:\n",
    "    if 10 > int(i / 1000) > 0:\n",
    "        print(i, \"은 4자리 수입니다.\")\n",
    "    \n",
    "    elif 10 > int(i / 100) > 0:\n",
    "        print(i, \"은 3자리 수입니다.\")\n",
    "    \n",
    "    elif 10 > int(i /10) > 0:\n",
    "        print(i, \"은 2자리 수입니다.\")\n",
    "    \n",
    "    else:\n",
    "        print(i, \"은 1자리 수입니다.\")\n"
   ]
  },
  {
   "cell_type": "markdown",
   "id": "f34d6b44-eaf5-41b3-83d7-53f851d0d95d",
   "metadata": {},
   "source": [
    "Q2. 구구단 코드 만들기 \n",
    "사용자에게 원하는 단을 받아 구구단을 완성해 주세요.\n",
    "\n",
    "Ex) 원하는 단은 9 \n",
    "\n",
    "9*1 = 9 \n",
    "..\n",
    "9*9 = 81 \n",
    "\n",
    "위와 같이 출력 "
   ]
  },
  {
   "cell_type": "code",
   "execution_count": 37,
   "id": "e39f292b-cebd-4c98-accb-23f44550db41",
   "metadata": {},
   "outputs": [
    {
     "name": "stdin",
     "output_type": "stream",
     "text": [
      "Input proper number :  9\n"
     ]
    },
    {
     "name": "stdout",
     "output_type": "stream",
     "text": [
      "9  *  1  =  9\n",
      "9  *  2  =  18\n",
      "9  *  3  =  27\n",
      "9  *  4  =  36\n",
      "9  *  5  =  45\n",
      "9  *  6  =  54\n",
      "9  *  7  =  63\n",
      "9  *  8  =  72\n",
      "9  *  9  =  81\n"
     ]
    }
   ],
   "source": [
    "number = int(input(\"Input proper number : \"))\n",
    "i = 1\n",
    "while(i < 10):\n",
    "    print(number ,\" * \", i,\" = \", number * i)\n",
    "    i += 1"
   ]
  },
  {
   "cell_type": "markdown",
   "id": "afe173f3-6ff8-47dd-94dd-0a62e8c7ef7f",
   "metadata": {},
   "source": [
    "Q3. 숫자 맞추기 게임\n",
    "1부터 100까지 한정하여 누구나 5번이면 알아맞출 수 있는 게임을 만들어 주세요.\n",
    "\n",
    "ex)\n",
    "1부터 100사이 숫자를 맞추시오\n",
    "숫자를 입력하세요 : 10 \n",
    "그 숫자보다는 낮아요.\n",
    "..\n",
    "숫자를 입력하세요 : 5\n",
    "축하합니다! . 총 시도한 횟수는 = 3번 "
   ]
  },
  {
   "cell_type": "code",
   "execution_count": 71,
   "id": "c7f18cd3-bfcc-4e79-9957-946e38fe4268",
   "metadata": {},
   "outputs": [
    {
     "name": "stdout",
     "output_type": "stream",
     "text": [
      "43\n"
     ]
    },
    {
     "name": "stdin",
     "output_type": "stream",
     "text": [
      "Choose one correct number[1~100] :  1\n"
     ]
    },
    {
     "name": "stdout",
     "output_type": "stream",
     "text": [
      "Upper\n"
     ]
    },
    {
     "name": "stdin",
     "output_type": "stream",
     "text": [
      "Choose one correct number[1~100] :  1\n"
     ]
    },
    {
     "name": "stdout",
     "output_type": "stream",
     "text": [
      "Upper\n"
     ]
    },
    {
     "name": "stdin",
     "output_type": "stream",
     "text": [
      "Choose one correct number[1~100] :  1\n"
     ]
    },
    {
     "name": "stdout",
     "output_type": "stream",
     "text": [
      "Upper\n"
     ]
    },
    {
     "name": "stdin",
     "output_type": "stream",
     "text": [
      "Choose one correct number[1~100] :  1\n"
     ]
    },
    {
     "name": "stdout",
     "output_type": "stream",
     "text": [
      "Upper\n"
     ]
    },
    {
     "name": "stdin",
     "output_type": "stream",
     "text": [
      "Choose one correct number[1~100] :  43\n"
     ]
    },
    {
     "name": "stdout",
     "output_type": "stream",
     "text": [
      "43  is Correct! Congratulation! Total attempt is  5\n"
     ]
    }
   ],
   "source": [
    "import random\n",
    "\n",
    "random_number = random.randint(1,100)\n",
    "print(random_number)\n",
    "i = 0\n",
    "\n",
    "for i in range(5):\n",
    "    input_number = int(input(\"Choose one correct number[1~100] : \"))\n",
    "    \n",
    "    if random_number > input_number:\n",
    "        print(\"Upper\")\n",
    "\n",
    "    elif random_number < input_number:\n",
    "        print(\"Lower\")\n",
    "\n",
    "    elif random_number == input_number:\n",
    "        print(input_number, \" is Correct! Congratulation! Total attempt is \",i + 1)\n",
    "        break\n",
    "        \n",
    "    if i == 4:\n",
    "        print(\"\\nAnswer is \",random_number)\n",
    "    \n"
   ]
  },
  {
   "cell_type": "code",
   "execution_count": null,
   "id": "d52f1b20-1ac5-43b1-981d-d0a27a279201",
   "metadata": {},
   "outputs": [],
   "source": []
  }
 ],
 "metadata": {
  "kernelspec": {
   "display_name": "Python 3 (ipykernel)",
   "language": "python",
   "name": "python3"
  },
  "language_info": {
   "codemirror_mode": {
    "name": "ipython",
    "version": 3
   },
   "file_extension": ".py",
   "mimetype": "text/x-python",
   "name": "python",
   "nbconvert_exporter": "python",
   "pygments_lexer": "ipython3",
   "version": "3.9.12"
  }
 },
 "nbformat": 4,
 "nbformat_minor": 5
}
