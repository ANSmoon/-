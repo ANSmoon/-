{
 "cells": [
  {
   "cell_type": "markdown",
   "id": "17613c73-c8fa-4144-b491-5a17790d8f2b",
   "metadata": {},
   "source": [
    "object : Python 기본 문법에 대한 이해(복습)\n",
    "Author : 문범수\n",
    "date : 2022.11.22"
   ]
  },
  {
   "cell_type": "code",
   "execution_count": 6,
   "id": "71212539-067a-46bf-a444-c75e2b2edf58",
   "metadata": {},
   "outputs": [
    {
     "name": "stdout",
     "output_type": "stream",
     "text": [
      "hello world\n"
     ]
    }
   ],
   "source": [
    "print('hello world')"
   ]
  },
  {
   "cell_type": "code",
   "execution_count": 7,
   "id": "5887478a-be77-4327-b1ea-6da5804c7202",
   "metadata": {},
   "outputs": [],
   "source": [
    "a = 10"
   ]
  },
  {
   "cell_type": "code",
   "execution_count": 9,
   "id": "765f49af-8867-4171-b5c5-bb016f636982",
   "metadata": {},
   "outputs": [
    {
     "name": "stdout",
     "output_type": "stream",
     "text": [
      "true\n"
     ]
    }
   ],
   "source": [
    "if a == 10:\n",
    "    print('true')\n",
    "### 들여쓰기는 tap (스페이스 4번과 같다)"
   ]
  },
  {
   "cell_type": "code",
   "execution_count": 10,
   "id": "5b42692d-ba10-41ea-b12b-186ec825c79b",
   "metadata": {},
   "outputs": [
    {
     "data": {
      "text/plain": [
       "'파이썬 python'"
      ]
     },
     "execution_count": 10,
     "metadata": {},
     "output_type": "execute_result"
    }
   ],
   "source": [
    "'파이썬'\n",
    "\"Python\"\n",
    "\"\"\"파이썬 python\"\"\""
   ]
  },
  {
   "cell_type": "code",
   "execution_count": 12,
   "id": "d89b90ce-6976-4527-898c-19f712749a10",
   "metadata": {},
   "outputs": [
    {
     "data": {
      "text/plain": [
       "' \\' \"같은 문자가 사용되는 경우에 이번과 같이 따옴표 3개를 사용한다'"
      ]
     },
     "execution_count": 12,
     "metadata": {},
     "output_type": "execute_result"
    }
   ],
   "source": [
    "\"\"\" ' \"같은 문자가 사용되는 경우에 이번과 같이 따옴표 3개를 사용한다\"\"\""
   ]
  },
  {
   "cell_type": "code",
   "execution_count": 13,
   "id": "e2825016-2402-42f7-8dc9-401f5556c60f",
   "metadata": {},
   "outputs": [
    {
     "data": {
      "text/plain": [
       "2"
      ]
     },
     "execution_count": 13,
     "metadata": {},
     "output_type": "execute_result"
    }
   ],
   "source": [
    "### 정수 소수의 숫자형은 사칙연산이 바로 가능하다\n",
    "\n",
    "1 + 1 "
   ]
  },
  {
   "cell_type": "code",
   "execution_count": 14,
   "id": "06f61aad-323e-48ab-92ae-d613c8a24794",
   "metadata": {},
   "outputs": [
    {
     "data": {
      "text/plain": [
       "10000"
      ]
     },
     "execution_count": 14,
     "metadata": {},
     "output_type": "execute_result"
    }
   ],
   "source": [
    "100 * 100"
   ]
  },
  {
   "cell_type": "code",
   "execution_count": 15,
   "id": "4a905f8b-ad72-4787-8fdf-095c85f80c71",
   "metadata": {},
   "outputs": [
    {
     "data": {
      "text/plain": [
       "100.0"
      ]
     },
     "execution_count": 15,
     "metadata": {},
     "output_type": "execute_result"
    }
   ],
   "source": [
    "500/5"
   ]
  },
  {
   "cell_type": "code",
   "execution_count": 16,
   "id": "89ddd315-65aa-47a9-bf2d-3cf5cd636202",
   "metadata": {},
   "outputs": [
    {
     "data": {
      "text/plain": [
       "0"
      ]
     },
     "execution_count": 16,
     "metadata": {},
     "output_type": "execute_result"
    }
   ],
   "source": [
    "500 % 5"
   ]
  },
  {
   "cell_type": "code",
   "execution_count": 19,
   "id": "1d0f7504-f4ba-4d03-bc53-83290dc1e701",
   "metadata": {},
   "outputs": [
    {
     "name": "stdout",
     "output_type": "stream",
     "text": [
      "10\n"
     ]
    }
   ],
   "source": [
    "'''\n",
    "주석여러줄 방법\n",
    "'''\n",
    "\"\"\"\n",
    "주석 여러 라인 방법\n",
    "\"\"\"\n",
    "print(10)"
   ]
  },
  {
   "cell_type": "code",
   "execution_count": 20,
   "id": "96771827-606c-4cac-8beb-9f6276704d0d",
   "metadata": {},
   "outputs": [
    {
     "data": {
      "text/plain": [
       "1"
      ]
     },
     "execution_count": 20,
     "metadata": {},
     "output_type": "execute_result"
    }
   ],
   "source": [
    "1"
   ]
  },
  {
   "cell_type": "code",
   "execution_count": 21,
   "id": "65a825c5-d05d-468a-9f55-7f6e676b2930",
   "metadata": {},
   "outputs": [
    {
     "data": {
      "text/plain": [
       "int"
      ]
     },
     "execution_count": 21,
     "metadata": {},
     "output_type": "execute_result"
    }
   ],
   "source": [
    "type(1)"
   ]
  },
  {
   "cell_type": "code",
   "execution_count": 22,
   "id": "0f6f337d-1a7f-48e5-bc9f-048b87e7e338",
   "metadata": {},
   "outputs": [
    {
     "data": {
      "text/plain": [
       "float"
      ]
     },
     "execution_count": 22,
     "metadata": {},
     "output_type": "execute_result"
    }
   ],
   "source": [
    "type(1.0)"
   ]
  },
  {
   "cell_type": "code",
   "execution_count": 23,
   "id": "cd617b52-12af-46f9-a4f9-a0bd9acb76f4",
   "metadata": {},
   "outputs": [
    {
     "data": {
      "text/plain": [
       "3"
      ]
     },
     "execution_count": 23,
     "metadata": {},
     "output_type": "execute_result"
    }
   ],
   "source": [
    "int(3.4)"
   ]
  },
  {
   "cell_type": "code",
   "execution_count": 24,
   "id": "e19edef5-d80f-4566-a17e-634417ee869f",
   "metadata": {},
   "outputs": [
    {
     "data": {
      "text/plain": [
       "3"
      ]
     },
     "execution_count": 24,
     "metadata": {},
     "output_type": "execute_result"
    }
   ],
   "source": [
    "int(3.5)"
   ]
  },
  {
   "cell_type": "code",
   "execution_count": 25,
   "id": "50be0706-be93-4f53-ad77-c1ad9292357f",
   "metadata": {},
   "outputs": [
    {
     "data": {
      "text/plain": [
       "3"
      ]
     },
     "execution_count": 25,
     "metadata": {},
     "output_type": "execute_result"
    }
   ],
   "source": [
    "int(3.9)"
   ]
  },
  {
   "cell_type": "code",
   "execution_count": 26,
   "id": "72832f71-b355-4652-b3fd-ea9db7191e4b",
   "metadata": {},
   "outputs": [
    {
     "name": "stdout",
     "output_type": "stream",
     "text": [
      "60\n"
     ]
    }
   ],
   "source": [
    "print(10 + 50)"
   ]
  },
  {
   "cell_type": "code",
   "execution_count": 27,
   "id": "8a0a9ae9-554a-4f66-b68d-8eb0e9caaa21",
   "metadata": {},
   "outputs": [
    {
     "name": "stdout",
     "output_type": "stream",
     "text": [
      "15\n"
     ]
    }
   ],
   "source": [
    "print('1' + '5')"
   ]
  },
  {
   "cell_type": "code",
   "execution_count": 28,
   "id": "045a5996-65bc-44e7-9128-9a10ca5cd38c",
   "metadata": {},
   "outputs": [
    {
     "data": {
      "text/plain": [
       "str"
      ]
     },
     "execution_count": 28,
     "metadata": {},
     "output_type": "execute_result"
    }
   ],
   "source": [
    "type('1')"
   ]
  },
  {
   "cell_type": "code",
   "execution_count": 29,
   "id": "2ac21e5d-b95d-4f40-baab-df545896ada2",
   "metadata": {},
   "outputs": [
    {
     "data": {
      "text/plain": [
       "1.2000000000000002"
      ]
     },
     "execution_count": 29,
     "metadata": {},
     "output_type": "execute_result"
    }
   ],
   "source": [
    "2.7- 1.5"
   ]
  },
  {
   "cell_type": "code",
   "execution_count": 30,
   "id": "8405f921-168e-4749-8f8e-b44f4f8f8743",
   "metadata": {},
   "outputs": [],
   "source": [
    "###과제 \n",
    "###값을 실수로 만들어 보기!\n",
    "###float\n",
    "###숫자, 문자나, 계산식 만들어 보기"
   ]
  },
  {
   "cell_type": "code",
   "execution_count": 32,
   "id": "730a8244-bb2f-4dcb-8d97-1cc5d66c8542",
   "metadata": {},
   "outputs": [
    {
     "data": {
      "text/plain": [
       "40"
      ]
     },
     "execution_count": 32,
     "metadata": {},
     "output_type": "execute_result"
    }
   ],
   "source": [
    "30+5*2"
   ]
  },
  {
   "cell_type": "code",
   "execution_count": 33,
   "id": "8c0bab2b-0e3e-4e2b-9813-039ad8bace9e",
   "metadata": {},
   "outputs": [],
   "source": [
    "a = [1,2,3,4,5]"
   ]
  },
  {
   "cell_type": "code",
   "execution_count": 34,
   "id": "e2d48d7a-ecef-4a05-a733-77199d9739e6",
   "metadata": {},
   "outputs": [],
   "source": [
    "b = (1, 2, 3, 4)"
   ]
  },
  {
   "cell_type": "code",
   "execution_count": 35,
   "id": "1a0af42d-bbec-4ea8-ae7d-6d5b4981ce88",
   "metadata": {},
   "outputs": [],
   "source": [
    "c = {1, 2, 3, 4}"
   ]
  },
  {
   "cell_type": "code",
   "execution_count": 36,
   "id": "f47fed5f-6c78-4de9-a43f-dffe648264d4",
   "metadata": {},
   "outputs": [
    {
     "name": "stdout",
     "output_type": "stream",
     "text": [
      "[1, 2, 3, 4, 5] (1, 2, 3, 4) {1, 2, 3, 4}\n"
     ]
    }
   ],
   "source": [
    "print(a, b, c)"
   ]
  },
  {
   "cell_type": "code",
   "execution_count": 37,
   "id": "1a6047a0-6344-4fe3-99d7-71a3a081ec5f",
   "metadata": {},
   "outputs": [],
   "source": [
    "a = 10 # = 같다라는 개념이 아닌 변수를 선택함을 의미한다."
   ]
  },
  {
   "cell_type": "code",
   "execution_count": 38,
   "id": "09e6b960-bc7f-46c7-9c53-72a082c04e3d",
   "metadata": {},
   "outputs": [
    {
     "data": {
      "text/plain": [
       "10"
      ]
     },
     "execution_count": 38,
     "metadata": {},
     "output_type": "execute_result"
    }
   ],
   "source": [
    "a"
   ]
  },
  {
   "cell_type": "code",
   "execution_count": 39,
   "id": "5298bd27-051d-4e62-b029-09753e320cef",
   "metadata": {},
   "outputs": [
    {
     "data": {
      "text/plain": [
       "(1, 2, 3, 4)"
      ]
     },
     "execution_count": 39,
     "metadata": {},
     "output_type": "execute_result"
    }
   ],
   "source": [
    "b"
   ]
  },
  {
   "cell_type": "code",
   "execution_count": 40,
   "id": "b5c7b13d-1ff0-4f26-872f-8934accd73be",
   "metadata": {},
   "outputs": [
    {
     "data": {
      "text/plain": [
       "{1, 2, 3, 4}"
      ]
     },
     "execution_count": 40,
     "metadata": {},
     "output_type": "execute_result"
    }
   ],
   "source": [
    "b\n",
    "c\n"
   ]
  },
  {
   "cell_type": "code",
   "execution_count": 41,
   "id": "d7e0d9c1-29e6-4901-919b-fae25cd64477",
   "metadata": {},
   "outputs": [
    {
     "data": {
      "text/plain": [
       "10"
      ]
     },
     "execution_count": 41,
     "metadata": {},
     "output_type": "execute_result"
    }
   ],
   "source": [
    "b\n",
    "c\n",
    "a"
   ]
  },
  {
   "cell_type": "code",
   "execution_count": 47,
   "id": "add97c45-28e8-40e8-aa2c-963fe8c09914",
   "metadata": {},
   "outputs": [
    {
     "data": {
      "text/plain": [
       "((1, 2, 3, 4), {1, 2, 3, 4}, 10)"
      ]
     },
     "execution_count": 47,
     "metadata": {},
     "output_type": "execute_result"
    }
   ],
   "source": [
    "b, c, a"
   ]
  },
  {
   "cell_type": "code",
   "execution_count": 48,
   "id": "2ea89d58-ad22-4446-bc69-ce7c269e9197",
   "metadata": {},
   "outputs": [
    {
     "data": {
      "text/plain": [
       "(1, 2, 3, 4)"
      ]
     },
     "execution_count": 48,
     "metadata": {},
     "output_type": "execute_result"
    }
   ],
   "source": [
    "b"
   ]
  },
  {
   "cell_type": "code",
   "execution_count": 49,
   "id": "798e3612-239f-46ff-b45b-8a4faafb9028",
   "metadata": {},
   "outputs": [
    {
     "data": {
      "text/plain": [
       "10"
      ]
     },
     "execution_count": 49,
     "metadata": {},
     "output_type": "execute_result"
    }
   ],
   "source": [
    "a"
   ]
  },
  {
   "cell_type": "code",
   "execution_count": 58,
   "id": "bea2d7bb-95dd-4752-817a-ce154b2810e6",
   "metadata": {},
   "outputs": [
    {
     "data": {
      "text/plain": [
       "{10, 20}"
      ]
     },
     "execution_count": 58,
     "metadata": {},
     "output_type": "execute_result"
    }
   ],
   "source": [
    "\n",
    "{max(10, 20),\n",
    "min(10, 20)}\n"
   ]
  },
  {
   "cell_type": "code",
   "execution_count": 60,
   "id": "31d2ae9b-606c-49a1-974d-17e38325f06f",
   "metadata": {},
   "outputs": [],
   "source": [
    "# {}의 경우 원소들의 배열을 자동으로 지정해준다."
   ]
  },
  {
   "cell_type": "code",
   "execution_count": 61,
   "id": "53f2cdeb-5bf9-4aff-9beb-1b089f329990",
   "metadata": {},
   "outputs": [],
   "source": [
    "# 함수나 명령어의 키워드는 배열로 사용할 수 없다."
   ]
  },
  {
   "cell_type": "markdown",
   "id": "f443a47c-61c3-4bd3-9568-4a9a3a3d17d5",
   "metadata": {
    "tags": []
   },
   "source": [
    "Markdown"
   ]
  },
  {
   "cell_type": "code",
   "execution_count": 63,
   "id": "d3f0d8e9-932e-4dd7-9d90-ed385a9e413f",
   "metadata": {},
   "outputs": [
    {
     "data": {
      "text/plain": [
       "10"
      ]
     },
     "execution_count": 64,
     "metadata": {},
     "output_type": "execute_result"
    }
   ],
   "source": [
    "a"
   ]
  },
  {
   "cell_type": "code",
   "execution_count": null,
   "id": "3966a5c1-271b-4c7b-bf49-f1cd01fe87f7",
   "metadata": {},
   "outputs": [],
   "source": []
  }
 ],
 "metadata": {
  "kernelspec": {
   "display_name": "Python 3 (ipykernel)",
   "language": "python",
   "name": "python3"
  },
  "language_info": {
   "codemirror_mode": {
    "name": "ipython",
    "version": 3
   },
   "file_extension": ".py",
   "mimetype": "text/x-python",
   "name": "python",
   "nbconvert_exporter": "python",
   "pygments_lexer": "ipython3",
   "version": "3.9.12"
  }
 },
 "nbformat": 4,
 "nbformat_minor": 5
}
