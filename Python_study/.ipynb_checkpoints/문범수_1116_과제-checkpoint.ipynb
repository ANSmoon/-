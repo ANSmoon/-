{
 "cells": [
  {
   "cell_type": "markdown",
   "id": "3d5d1fb6-de86-45cc-9298-77856560ecc7",
   "metadata": {
    "tags": []
   },
   "source": [
    "##### object : 과제(숫자형, 문자형, 계산식에 대한 이해)\n",
    "##### Author : 문범수\n",
    "##### date : 2022.11.22"
   ]
  },
  {
   "cell_type": "markdown",
   "id": "c49fba5f-7333-444f-973a-5bee6181fc0d",
   "metadata": {
    "tags": []
   },
   "source": [
    "# Float"
   ]
  },
  {
   "cell_type": "code",
   "execution_count": 25,
   "id": "27b943b1-70da-4d13-943a-8af7d8bdec68",
   "metadata": {
    "tags": []
   },
   "outputs": [],
   "source": [
    "x = 5"
   ]
  },
  {
   "cell_type": "code",
   "execution_count": 26,
   "id": "2da004d6-121f-4580-ab93-2f805675503f",
   "metadata": {},
   "outputs": [
    {
     "data": {
      "text/plain": [
       "5.0"
      ]
     },
     "execution_count": 26,
     "metadata": {},
     "output_type": "execute_result"
    }
   ],
   "source": [
    "float(x)"
   ]
  },
  {
   "cell_type": "code",
   "execution_count": 27,
   "id": "c7a570df-e6e6-4abd-8593-afc732f15df4",
   "metadata": {},
   "outputs": [],
   "source": [
    "x = 7\n",
    "y = 15"
   ]
  },
  {
   "cell_type": "code",
   "execution_count": 28,
   "id": "b6328389-7e48-4ba0-945f-55a17ac2d32a",
   "metadata": {},
   "outputs": [],
   "source": [
    "a1 = x + y\n",
    "a2 = x * y\n",
    "a3 = x / y\n",
    "a4 = x % y"
   ]
  },
  {
   "cell_type": "code",
   "execution_count": 29,
   "id": "f24c229f-e742-4de4-9451-dae2f8a94365",
   "metadata": {},
   "outputs": [
    {
     "name": "stdout",
     "output_type": "stream",
     "text": [
      "22 105 0.4666666666666667 7\n"
     ]
    }
   ],
   "source": [
    "print(a1,a2,a3,a4)"
   ]
  },
  {
   "cell_type": "code",
   "execution_count": 30,
   "id": "950df97a-788c-46e2-80a7-3af54da6ef66",
   "metadata": {},
   "outputs": [
    {
     "data": {
      "text/plain": [
       "134.46666666666667"
      ]
     },
     "execution_count": 30,
     "metadata": {},
     "output_type": "execute_result"
    }
   ],
   "source": [
    "float(a1 + a2 + a3 + a4)"
   ]
  },
  {
   "cell_type": "code",
   "execution_count": 7,
   "id": "19e1ec0c-f649-4001-aade-823c8760a370",
   "metadata": {},
   "outputs": [
    {
     "data": {
      "text/plain": [
       "127"
      ]
     },
     "execution_count": 7,
     "metadata": {},
     "output_type": "execute_result"
    }
   ],
   "source": [
    "int (a1 + a2)"
   ]
  },
  {
   "cell_type": "code",
   "execution_count": 8,
   "id": "92f7c0fc-5856-43bb-b6a9-e534d068d08f",
   "metadata": {},
   "outputs": [
    {
     "data": {
      "text/plain": [
       "3"
      ]
     },
     "execution_count": 8,
     "metadata": {},
     "output_type": "execute_result"
    }
   ],
   "source": [
    "int(a3 * a4)"
   ]
  },
  {
   "cell_type": "code",
   "execution_count": 11,
   "id": "c934a72e-df7b-45f9-b733-75925bcbdd1a",
   "metadata": {},
   "outputs": [],
   "source": [
    "z = int(a1 + a2 + a3 * a4)"
   ]
  },
  {
   "cell_type": "code",
   "execution_count": 12,
   "id": "d9caef3f-b323-4296-91e8-87a2332fe123",
   "metadata": {},
   "outputs": [
    {
     "data": {
      "text/plain": [
       "130.0"
      ]
     },
     "execution_count": 12,
     "metadata": {},
     "output_type": "execute_result"
    }
   ],
   "source": [
    "float(z)"
   ]
  },
  {
   "cell_type": "markdown",
   "id": "0bc4c701-704d-4211-a4c3-a52db564b757",
   "metadata": {},
   "source": [
    "# String"
   ]
  },
  {
   "cell_type": "code",
   "execution_count": 15,
   "id": "34fb2c15-a081-4404-a072-3b625334a296",
   "metadata": {},
   "outputs": [
    {
     "data": {
      "text/plain": [
       "'a'"
      ]
     },
     "execution_count": 15,
     "metadata": {},
     "output_type": "execute_result"
    }
   ],
   "source": [
    "'a'"
   ]
  },
  {
   "cell_type": "code",
   "execution_count": 19,
   "id": "e9e9c400-c351-4b54-96ee-4d3de852570f",
   "metadata": {},
   "outputs": [
    {
     "data": {
      "text/plain": [
       "'ab'"
      ]
     },
     "execution_count": 19,
     "metadata": {},
     "output_type": "execute_result"
    }
   ],
   "source": [
    "'a' + 'b'"
   ]
  },
  {
   "cell_type": "code",
   "execution_count": 21,
   "id": "f28752c0-828c-43a5-bf7b-52dce47e0a5e",
   "metadata": {},
   "outputs": [
    {
     "name": "stdout",
     "output_type": "stream",
     "text": [
      "a\n"
     ]
    }
   ],
   "source": [
    "print('a')"
   ]
  },
  {
   "cell_type": "code",
   "execution_count": 22,
   "id": "8f0c935f-9e02-4da7-ae08-e79e4ec10098",
   "metadata": {},
   "outputs": [
    {
     "data": {
      "text/plain": [
       "'This python tool is so cool!'"
      ]
     },
     "execution_count": 22,
     "metadata": {},
     "output_type": "execute_result"
    }
   ],
   "source": [
    "\"This python tool is so cool!\""
   ]
  },
  {
   "cell_type": "code",
   "execution_count": 33,
   "id": "6bcd67ac-6d23-4f9c-b5c9-a9488a998d14",
   "metadata": {},
   "outputs": [
    {
     "name": "stdout",
     "output_type": "stream",
     "text": [
      "Hello world\n"
     ]
    }
   ],
   "source": [
    "print(\"Hello world\")"
   ]
  },
  {
   "cell_type": "markdown",
   "id": "95d08f1d-81ac-4c6e-9106-d69a9a8547b9",
   "metadata": {},
   "source": [
    "# Calulate"
   ]
  },
  {
   "cell_type": "code",
   "execution_count": null,
   "id": "85cc87f5-78ed-4f74-a821-1fae214b10ab",
   "metadata": {},
   "outputs": [],
   "source": []
  }
 ],
 "metadata": {
  "kernelspec": {
   "display_name": "Python 3 (ipykernel)",
   "language": "python",
   "name": "python3"
  },
  "language_info": {
   "codemirror_mode": {
    "name": "ipython",
    "version": 3
   },
   "file_extension": ".py",
   "mimetype": "text/x-python",
   "name": "python",
   "nbconvert_exporter": "python",
   "pygments_lexer": "ipython3",
   "version": "3.9.12"
  }
 },
 "nbformat": 4,
 "nbformat_minor": 5
}
