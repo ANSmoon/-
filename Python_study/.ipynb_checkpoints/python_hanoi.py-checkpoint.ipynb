{
 "cells": [
  {
   "cell_type": "markdown",
   "id": "14a8bd1c-d62c-4487-951a-8b3744095c29",
   "metadata": {},
   "source": [
    "- project 2 : 하노이 탑 응용\n",
    "- author : 문범수(2018114657)\n",
    "- date : 2023-04-06"
   ]
  },
  {
   "cell_type": "code",
   "execution_count": 43,
   "id": "537ccfe5-c5ad-4132-b1b9-2bb748b67e22",
   "metadata": {},
   "outputs": [
    {
     "name": "stdin",
     "output_type": "stream",
     "text": [
      " 3\n"
     ]
    },
    {
     "name": "stdout",
     "output_type": "stream",
     "text": [
      "총 움직인 횟수 :  7 번\n",
      "1 번 기둥에서  3 번 기둥으로  1 번 원반 이동\n",
      "1 번 기둥에서  2 번 기둥으로  2 번 원반 이동\n",
      "3 번 기둥에서  2 번 기둥으로  1 번 원반 이동\n",
      "1 번 기둥에서  3 번 기둥으로  3 번 원반 이동\n",
      "2 번 기둥에서  1 번 기둥으로  1 번 원반 이동\n",
      "2 번 기둥에서  3 번 기둥으로  2 번 원반 이동\n",
      "1 번 기둥에서  3 번 기둥으로  1 번 원반 이동\n"
     ]
    }
   ],
   "source": [
    "def moving(x, start, last, sub): # 1 <= x <= 20\n",
    "    \n",
    "    if x == 1: #만약 기둥에 원반이 1개만 있을 경우\n",
    "        print(start, '번 기둥에서 ', last, '번 기둥으로 ', x, '번 원반 이동')\n",
    "        return\n",
    "    \n",
    "    elif x > 20:\n",
    "        print(\"원반은 1개 이상 20개 이하여야 합니다.\")\n",
    "    \n",
    "    moving(x-1, start, sub, last) #먼저 sub(보조) 기둥에 맨 마지막 원반을 제외한 원반 이동\n",
    "    print(start, '번 기둥에서 ', last, '번 기둥으로 ', x, '번 원반 이동')\n",
    "    moving(x-1, sub, last, start) #도착지점에 남겨둔 원반 이동\n",
    "    \n",
    "    return\n",
    "x = int(input())\n",
    "\n",
    "def count(x):  # 옮긴 횟수 구하는 함수\n",
    "    if 20 >= x > 1:\n",
    "        return 2*count(x-1) + 1\n",
    "    else:\n",
    "        return 1\n",
    "\n",
    "print('총 움직인 횟수 : ',count(x), '번')\n",
    "moving(x,1,3,2)"
   ]
  }
 ],
 "metadata": {
  "kernelspec": {
   "display_name": "Python 3 (ipykernel)",
   "language": "python",
   "name": "python3"
  },
  "language_info": {
   "codemirror_mode": {
    "name": "ipython",
    "version": 3
   },
   "file_extension": ".py",
   "mimetype": "text/x-python",
   "name": "python",
   "nbconvert_exporter": "python",
   "pygments_lexer": "ipython3",
   "version": "3.9.12"
  }
 },
 "nbformat": 4,
 "nbformat_minor": 5
}
