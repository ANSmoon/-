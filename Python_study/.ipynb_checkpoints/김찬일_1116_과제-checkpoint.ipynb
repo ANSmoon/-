{
 "cells": [
  {
   "cell_type": "markdown",
   "id": "878d7cf3",
   "metadata": {},
   "source": [
    "# 값을 실수로 만들어 보기"
   ]
  },
  {
   "cell_type": "code",
   "execution_count": 4,
   "id": "4f979663",
   "metadata": {},
   "outputs": [
    {
     "name": "stdout",
     "output_type": "stream",
     "text": [
      "3.0\n"
     ]
    }
   ],
   "source": [
    "print(1.0+2.0)"
   ]
  },
  {
   "cell_type": "code",
   "execution_count": 7,
   "id": "dca3cca1",
   "metadata": {},
   "outputs": [
    {
     "data": {
      "text/plain": [
       "float"
      ]
     },
     "execution_count": 7,
     "metadata": {},
     "output_type": "execute_result"
    }
   ],
   "source": [
    "type(1.0+2.0) #실수끼리 더하면 실수로 출력"
   ]
  },
  {
   "cell_type": "code",
   "execution_count": 28,
   "id": "2e18fb3b",
   "metadata": {},
   "outputs": [
    {
     "data": {
      "text/plain": [
       "int"
      ]
     },
     "execution_count": 28,
     "metadata": {},
     "output_type": "execute_result"
    }
   ],
   "source": [
    "type(1+2) #정수끼리 더하면 정수로 출력"
   ]
  },
  {
   "cell_type": "code",
   "execution_count": 31,
   "id": "0a9dd2b2",
   "metadata": {},
   "outputs": [
    {
     "data": {
      "text/plain": [
       "float"
      ]
     },
     "execution_count": 31,
     "metadata": {},
     "output_type": "execute_result"
    }
   ],
   "source": [
    "type(40/2) # '/'연산은 계산값이 정수여도 float으로 출력된다. "
   ]
  },
  {
   "cell_type": "code",
   "execution_count": 32,
   "id": "798bb7f4",
   "metadata": {},
   "outputs": [
    {
     "data": {
      "text/plain": [
       "20"
      ]
     },
     "execution_count": 32,
     "metadata": {},
     "output_type": "execute_result"
    }
   ],
   "source": [
    "int(40/2) #정수로의 출력을 원한다면 int()를 이용하면 된다."
   ]
  },
  {
   "cell_type": "markdown",
   "id": "76509aeb",
   "metadata": {},
   "source": [
    "# float"
   ]
  },
  {
   "cell_type": "code",
   "execution_count": 21,
   "id": "3ad7589a",
   "metadata": {},
   "outputs": [
    {
     "name": "stdout",
     "output_type": "stream",
     "text": [
      "2.5\n"
     ]
    }
   ],
   "source": [
    "print(1.2+1.3)"
   ]
  },
  {
   "cell_type": "code",
   "execution_count": 24,
   "id": "a2f129ce",
   "metadata": {},
   "outputs": [
    {
     "name": "stdout",
     "output_type": "stream",
     "text": [
      "1.0\n"
     ]
    }
   ],
   "source": [
    "print(2/2)"
   ]
  },
  {
   "cell_type": "code",
   "execution_count": 25,
   "id": "49a5c684",
   "metadata": {},
   "outputs": [
    {
     "name": "stdout",
     "output_type": "stream",
     "text": [
      "0.7999999999999998\n"
     ]
    }
   ],
   "source": [
    "print(2.3-1.5) #컴퓨터 메모리의 한계로, 실수의 뺼셈은 값이 다르게 나올 수 있음"
   ]
  },
  {
   "cell_type": "code",
   "execution_count": 26,
   "id": "31c3e0de",
   "metadata": {},
   "outputs": [
    {
     "data": {
      "text/plain": [
       "float"
      ]
     },
     "execution_count": 26,
     "metadata": {},
     "output_type": "execute_result"
    }
   ],
   "source": [
    "type(3/2)"
   ]
  },
  {
   "cell_type": "code",
   "execution_count": 15,
   "id": "c37dd9c9",
   "metadata": {},
   "outputs": [
    {
     "data": {
      "text/plain": [
       "2.64"
      ]
     },
     "execution_count": 15,
     "metadata": {},
     "output_type": "execute_result"
    }
   ],
   "source": [
    "1.2*2.2"
   ]
  },
  {
   "cell_type": "markdown",
   "id": "9761544f",
   "metadata": {},
   "source": [
    "# 숫자, 문자, 계산식을 만들어 보기"
   ]
  },
  {
   "cell_type": "code",
   "execution_count": 17,
   "id": "bb3f27e9",
   "metadata": {},
   "outputs": [
    {
     "data": {
      "text/plain": [
       "-1"
      ]
     },
     "execution_count": 17,
     "metadata": {},
     "output_type": "execute_result"
    }
   ],
   "source": [
    "1-2"
   ]
  },
  {
   "cell_type": "code",
   "execution_count": 18,
   "id": "cfb50a75",
   "metadata": {},
   "outputs": [
    {
     "data": {
      "text/plain": [
       "int"
      ]
     },
     "execution_count": 18,
     "metadata": {},
     "output_type": "execute_result"
    }
   ],
   "source": [
    "type(1-2)"
   ]
  },
  {
   "cell_type": "code",
   "execution_count": 19,
   "id": "563b4564",
   "metadata": {},
   "outputs": [
    {
     "data": {
      "text/plain": [
       "int"
      ]
     },
     "execution_count": 19,
     "metadata": {},
     "output_type": "execute_result"
    }
   ],
   "source": [
    "type(0)"
   ]
  },
  {
   "cell_type": "code",
   "execution_count": 20,
   "id": "5e7ca1ce",
   "metadata": {},
   "outputs": [
    {
     "data": {
      "text/plain": [
       "10"
      ]
     },
     "execution_count": 20,
     "metadata": {},
     "output_type": "execute_result"
    }
   ],
   "source": [
    "2*(1+4)"
   ]
  },
  {
   "cell_type": "code",
   "execution_count": 36,
   "id": "9cbd7212",
   "metadata": {},
   "outputs": [
    {
     "name": "stdout",
     "output_type": "stream",
     "text": [
      "HIHI\n"
     ]
    }
   ],
   "source": [
    "a='HI'\n",
    "print(a*2)"
   ]
  },
  {
   "cell_type": "code",
   "execution_count": 53,
   "id": "5cc0c3d1",
   "metadata": {
    "scrolled": true
   },
   "outputs": [
    {
     "ename": "SyntaxError",
     "evalue": "unexpected EOF while parsing (1253561613.py, line 2)",
     "output_type": "error",
     "traceback": [
      "\u001b[1;36m  File \u001b[1;32m\"C:\\Users\\askci\\AppData\\Local\\Temp\\ipykernel_8544\\1253561613.py\"\u001b[1;36m, line \u001b[1;32m2\u001b[0m\n\u001b[1;33m    #문자열과 숫자의 연산은 정수 곱하기만 가능\u001b[0m\n\u001b[1;37m                            ^\u001b[0m\n\u001b[1;31mSyntaxError\u001b[0m\u001b[1;31m:\u001b[0m unexpected EOF while parsing\n"
     ]
    }
   ],
   "source": [
    "print(a*(3/1) # '/'연산은 float형태로 출력 되기 때문에 소수점을 인식해서 문자열 곱하기가 안됨.\n",
    "              #문자열과 숫자의 연산은 정수 곱하기만 가능"
   ]
  },
  {
   "cell_type": "code",
   "execution_count": 54,
   "id": "7d87badf",
   "metadata": {},
   "outputs": [
    {
     "name": "stdout",
     "output_type": "stream",
     "text": [
      "HI\n"
     ]
    }
   ],
   "source": [
    "print(a*(3//2)) #'//'연산은 결과값이 정수가 나오기 때문에 정상 출력"
   ]
  },
  {
   "cell_type": "markdown",
   "id": "12727031",
   "metadata": {},
   "source": [
    "### 문자열 * float = error\n",
    "### 문자열 * int = 정상출력"
   ]
  },
  {
   "cell_type": "code",
   "execution_count": null,
   "id": "3d572f91",
   "metadata": {},
   "outputs": [],
   "source": []
  }
 ],
 "metadata": {
  "kernelspec": {
   "display_name": "Python 3 (ipykernel)",
   "language": "python",
   "name": "python3"
  },
  "language_info": {
   "codemirror_mode": {
    "name": "ipython",
    "version": 3
   },
   "file_extension": ".py",
   "mimetype": "text/x-python",
   "name": "python",
   "nbconvert_exporter": "python",
   "pygments_lexer": "ipython3",
   "version": "3.9.13"
  }
 },
 "nbformat": 4,
 "nbformat_minor": 5
}
