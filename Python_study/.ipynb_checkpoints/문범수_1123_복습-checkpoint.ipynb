{
 "cells": [
  {
   "cell_type": "markdown",
   "id": "2e23989d-a5f9-43a5-86ce-b02c6b725234",
   "metadata": {},
   "source": [
    "#  문자열"
   ]
  },
  {
   "cell_type": "code",
   "execution_count": 1,
   "id": "85752c8f-5cc1-45a9-91ad-e799995d90df",
   "metadata": {},
   "outputs": [],
   "source": [
    "a = 'Hello world!'"
   ]
  },
  {
   "cell_type": "code",
   "execution_count": 2,
   "id": "567229ff-cf61-4fd0-9993-ff28aab5d828",
   "metadata": {},
   "outputs": [
    {
     "name": "stdout",
     "output_type": "stream",
     "text": [
      "Hello world!\n"
     ]
    }
   ],
   "source": [
    "print(a)"
   ]
  },
  {
   "cell_type": "markdown",
   "id": "715cf333-1abc-4bdc-9926-16c8b18254b6",
   "metadata": {
    "tags": []
   },
   "source": [
    "### 변수는 여러개 한번에 만들 수 있다."
   ]
  },
  {
   "cell_type": "code",
   "execution_count": 3,
   "id": "38dec6b9-cd54-462c-9241-dfbd331a7175",
   "metadata": {},
   "outputs": [],
   "source": [
    "a, b, c = 1, 2, 3"
   ]
  },
  {
   "cell_type": "markdown",
   "id": "d2bf0e19-6aad-4222-a211-6a76b06e8534",
   "metadata": {},
   "source": [
    "### Python에서 가장 유용한 기능"
   ]
  },
  {
   "cell_type": "code",
   "execution_count": 4,
   "id": "fbf135c2-5472-446d-b59e-2d2d71e8a3cb",
   "metadata": {},
   "outputs": [
    {
     "name": "stdout",
     "output_type": "stream",
     "text": [
      "1\n",
      "2\n",
      "3\n"
     ]
    }
   ],
   "source": [
    "print(a)\n",
    "print(b)\n",
    "print(c)"
   ]
  },
  {
   "cell_type": "code",
   "execution_count": 5,
   "id": "bfe68dcd-efa2-4448-ba8e-974b6467da29",
   "metadata": {},
   "outputs": [],
   "source": [
    "a = 55"
   ]
  },
  {
   "cell_type": "code",
   "execution_count": 6,
   "id": "1d49235c-20d6-4015-96b5-e9cc6b808810",
   "metadata": {},
   "outputs": [
    {
     "name": "stdout",
     "output_type": "stream",
     "text": [
      "55\n",
      "2\n",
      "3\n"
     ]
    }
   ],
   "source": [
    "print(a)\n",
    "print(b)\n",
    "print(c)"
   ]
  },
  {
   "cell_type": "code",
   "execution_count": 7,
   "id": "acf453bd-2c5e-4609-ad3a-bb1aa65b352b",
   "metadata": {},
   "outputs": [],
   "source": [
    "a == 10 # 참 / 거짓을 판별하는 \n",
    "a = 10 # 변수에 특정값 대입"
   ]
  },
  {
   "cell_type": "code",
   "execution_count": 8,
   "id": "90155312-f13e-4f1a-b9b1-1a6fc0732781",
   "metadata": {},
   "outputs": [],
   "source": [
    "d = a + b + c #변수끼리의 계산"
   ]
  },
  {
   "cell_type": "code",
   "execution_count": 9,
   "id": "a3d72ff9-53f3-40fa-835e-4101530b7f25",
   "metadata": {},
   "outputs": [
    {
     "data": {
      "text/plain": [
       "15"
      ]
     },
     "execution_count": 9,
     "metadata": {},
     "output_type": "execute_result"
    }
   ],
   "source": [
    "d"
   ]
  },
  {
   "cell_type": "markdown",
   "id": "115d57f6-3ead-422e-949b-2067de2b88c0",
   "metadata": {},
   "source": [
    "### - 산술 연산 후 할당 연산자 사용하기"
   ]
  },
  {
   "cell_type": "code",
   "execution_count": 10,
   "id": "54667a97-aafb-4f0d-a80b-3a8fa5cb1696",
   "metadata": {},
   "outputs": [],
   "source": [
    "a = 10"
   ]
  },
  {
   "cell_type": "code",
   "execution_count": 11,
   "id": "15d4e4ab-1d75-412d-b0ea-b0c4382dc46f",
   "metadata": {},
   "outputs": [
    {
     "data": {
      "text/plain": [
       "40"
      ]
     },
     "execution_count": 11,
     "metadata": {},
     "output_type": "execute_result"
    }
   ],
   "source": [
    "a + 30"
   ]
  },
  {
   "cell_type": "code",
   "execution_count": 28,
   "id": "4e6aeeac-808a-4279-a70c-3eddba97d616",
   "metadata": {},
   "outputs": [
    {
     "data": {
      "text/plain": [
       "80"
      ]
     },
     "execution_count": 28,
     "metadata": {},
     "output_type": "execute_result"
    }
   ],
   "source": [
    "a \n",
    "#a에 직접적으로 대입한게 아닌 산술로 사용되기만 했을뿐이기에 a 값\n",
    "#자체의 변화는 없다\n",
    "# = 을 사용하지 않는다면 변수 값 변화는 일어나지 않는다."
   ]
  },
  {
   "cell_type": "code",
   "execution_count": 15,
   "id": "354c4bd1-a76e-4e7a-91d3-1309eb48aa16",
   "metadata": {},
   "outputs": [],
   "source": [
    "a = a + 20"
   ]
  },
  {
   "cell_type": "code",
   "execution_count": 17,
   "id": "31f5b478-9b03-4db6-847c-d099c566cf54",
   "metadata": {},
   "outputs": [
    {
     "data": {
      "text/plain": [
       "50"
      ]
     },
     "execution_count": 17,
     "metadata": {},
     "output_type": "execute_result"
    }
   ],
   "source": [
    "a"
   ]
  },
  {
   "cell_type": "code",
   "execution_count": 18,
   "id": "0716a8d0-5e45-44d7-b3d1-8aa2c0b508f8",
   "metadata": {},
   "outputs": [],
   "source": [
    "a += 30"
   ]
  },
  {
   "cell_type": "code",
   "execution_count": 20,
   "id": "ca85c9ff-4d79-4a79-8543-5b0c07a42875",
   "metadata": {},
   "outputs": [
    {
     "data": {
      "text/plain": [
       "80"
      ]
     },
     "execution_count": 20,
     "metadata": {},
     "output_type": "execute_result"
    }
   ],
   "source": [
    "a"
   ]
  },
  {
   "cell_type": "markdown",
   "id": "7d613e73-cd36-471c-8856-7e8295733e7a",
   "metadata": {},
   "source": [
    "### 산술 연산자를 통해 반복되는 변수를 생략할 수 있다.\n",
    "ex) +=, -=, *=, /="
   ]
  },
  {
   "cell_type": "code",
   "execution_count": 21,
   "id": "2a0774f8-d60b-48d1-93e3-e330693677bf",
   "metadata": {},
   "outputs": [],
   "source": [
    "x = 15"
   ]
  },
  {
   "cell_type": "code",
   "execution_count": 22,
   "id": "53971585-f3dd-4579-93b2-e9ea6173b481",
   "metadata": {},
   "outputs": [],
   "source": [
    "x *= 10"
   ]
  },
  {
   "cell_type": "code",
   "execution_count": 23,
   "id": "b981a903-ff18-4ba0-87c6-104facd03ce9",
   "metadata": {},
   "outputs": [
    {
     "data": {
      "text/plain": [
       "150"
      ]
     },
     "execution_count": 23,
     "metadata": {},
     "output_type": "execute_result"
    }
   ],
   "source": [
    "x"
   ]
  },
  {
   "cell_type": "code",
   "execution_count": 24,
   "id": "353c6c05-367a-4e4b-89c9-e0f5d44e863b",
   "metadata": {},
   "outputs": [],
   "source": [
    "x /= 10"
   ]
  },
  {
   "cell_type": "code",
   "execution_count": 25,
   "id": "acb4d654-8fce-414f-b5b2-0407f04f4b31",
   "metadata": {},
   "outputs": [
    {
     "data": {
      "text/plain": [
       "15.0"
      ]
     },
     "execution_count": 25,
     "metadata": {},
     "output_type": "execute_result"
    }
   ],
   "source": [
    "x"
   ]
  },
  {
   "cell_type": "markdown",
   "id": "73fa9848-abd8-490f-be18-4a3f28daeae5",
   "metadata": {},
   "source": [
    "### 나누기 연산의 경우 결과값이 실수형으로 출력된다."
   ]
  },
  {
   "cell_type": "code",
   "execution_count": 27,
   "id": "c8a98a60-a17d-402f-a3c1-0d80368c70b3",
   "metadata": {},
   "outputs": [
    {
     "name": "stdin",
     "output_type": "stream",
     "text": [
      " hello world\n"
     ]
    },
    {
     "data": {
      "text/plain": [
       "'hello world'"
      ]
     },
     "execution_count": 27,
     "metadata": {},
     "output_type": "execute_result"
    }
   ],
   "source": [
    "### input()\n",
    "### 입력값에 대해 변수에 저장하기\n",
    "\n",
    "input()"
   ]
  },
  {
   "cell_type": "code",
   "execution_count": 31,
   "id": "f8ef4a64-d6a5-4284-ac5d-193495d46110",
   "metadata": {},
   "outputs": [
    {
     "name": "stdin",
     "output_type": "stream",
     "text": [
      " hello python!\n"
     ]
    }
   ],
   "source": [
    "new = input()"
   ]
  },
  {
   "cell_type": "code",
   "execution_count": 32,
   "id": "ba935fec-298a-4d61-93bd-7e7b0593362f",
   "metadata": {},
   "outputs": [
    {
     "name": "stdin",
     "output_type": "stream",
     "text": [
      " 150\n"
     ]
    }
   ],
   "source": [
    "number = input()"
   ]
  },
  {
   "cell_type": "code",
   "execution_count": 33,
   "id": "4a72b992-942e-4115-80e5-ed3578d7ea0e",
   "metadata": {},
   "outputs": [
    {
     "data": {
      "text/plain": [
       "'150'"
      ]
     },
     "execution_count": 33,
     "metadata": {},
     "output_type": "execute_result"
    }
   ],
   "source": [
    "number"
   ]
  },
  {
   "cell_type": "markdown",
   "id": "fc24ba4b-3702-4d14-a569-66134906974b",
   "metadata": {
    "tags": []
   },
   "source": [
    "##### User에게 2개의 숫자를 입력받고 그 값의 합산을 구하는 코드 작성\n",
    "##### User가 2개의 값을 입력하면 2개의 합을 print로 출력"
   ]
  },
  {
   "cell_type": "code",
   "execution_count": 34,
   "id": "e37ffb2e-ea8d-4924-b51b-eb5c5e13c8d9",
   "metadata": {},
   "outputs": [
    {
     "name": "stdin",
     "output_type": "stream",
     "text": [
      "첫번째 숫자 입력 10\n"
     ]
    }
   ],
   "source": [
    "x = input('첫번째 숫자 입력')"
   ]
  },
  {
   "cell_type": "code",
   "execution_count": 36,
   "id": "7dabdce3-e19d-4b9b-980e-896c0a60b66d",
   "metadata": {},
   "outputs": [
    {
     "name": "stdin",
     "output_type": "stream",
     "text": [
      "두번째 숫자 입력 5\n"
     ]
    }
   ],
   "source": [
    "y = input('두번째 숫자 입력')"
   ]
  },
  {
   "cell_type": "code",
   "execution_count": 38,
   "id": "c1db03b2-9026-4d02-bab0-fa9a3e2a8b88",
   "metadata": {},
   "outputs": [
    {
     "name": "stdout",
     "output_type": "stream",
     "text": [
      "105\n"
     ]
    }
   ],
   "source": [
    "print(x + y)"
   ]
  },
  {
   "cell_type": "markdown",
   "id": "66426660-e8ec-4dd7-9d3b-2abf2947d406",
   "metadata": {},
   "source": [
    "input으로 입력된 값은 문자열로 입력된다. 따라서 계산식에서 사용시 문자열로 인식된다."
   ]
  },
  {
   "cell_type": "code",
   "execution_count": 44,
   "id": "d7c633b0-c06f-43c1-bbff-7774bcf0d21f",
   "metadata": {},
   "outputs": [
    {
     "name": "stdin",
     "output_type": "stream",
     "text": [
      "첫번째 숫자 입력 10\n",
      "두번째 숫자 입력 5\n"
     ]
    },
    {
     "name": "stdout",
     "output_type": "stream",
     "text": [
      "50\n"
     ]
    }
   ],
   "source": [
    "#해결방안은 type형을 바꿔주면 가능\n",
    "x = int(input('첫번째 숫자 입력'))\n",
    "y = int(input('두번째 숫자 입력'))\n",
    "print(x * y)"
   ]
  },
  {
   "cell_type": "code",
   "execution_count": 41,
   "id": "2d7bb31a-bbf0-49fd-934b-25c15b427f45",
   "metadata": {},
   "outputs": [
    {
     "data": {
      "text/plain": [
       "15"
      ]
     },
     "execution_count": 41,
     "metadata": {},
     "output_type": "execute_result"
    }
   ],
   "source": [
    "x + y"
   ]
  },
  {
   "cell_type": "code",
   "execution_count": 43,
   "id": "11730d3a-00f1-46d9-8f90-f6b74b4d8831",
   "metadata": {},
   "outputs": [
    {
     "ename": "SyntaxError",
     "evalue": "cannot assign to function call (619307865.py, line 1)",
     "output_type": "error",
     "traceback": [
      "\u001b[1;36m  Input \u001b[1;32mIn [43]\u001b[1;36m\u001b[0m\n\u001b[1;33m    int(test1) = input('첫번째 숫자 입력')\u001b[0m\n\u001b[1;37m    ^\u001b[0m\n\u001b[1;31mSyntaxError\u001b[0m\u001b[1;31m:\u001b[0m cannot assign to function call\n"
     ]
    }
   ],
   "source": [
    "int(test1) = input('첫번째 숫자 입력')\n",
    "int(test2) = input('두번째 숫자 입력')\n",
    "#이런식으로 변수 자체에 대한 type 변화는 불가능"
   ]
  },
  {
   "cell_type": "markdown",
   "id": "27ddc53e-7a2b-4063-9680-f56da6af5b31",
   "metadata": {
    "tags": []
   },
   "source": [
    "### 입력값을 변수 2개에 저장\n",
    "- 값을 2개 넣어서 2개의 변수로 저장하기\n",
    "- split() 문자 나누기 함수 = 기준에 따라 나누기 가능"
   ]
  },
  {
   "cell_type": "code",
   "execution_count": 56,
   "id": "f6cab2aa-c19f-4962-a2fa-f23e48a67bc3",
   "metadata": {},
   "outputs": [
    {
     "name": "stdin",
     "output_type": "stream",
     "text": [
      "문자열 2개를 입력 :  10 2\n"
     ]
    }
   ],
   "source": [
    "a, b = input('문자열 2개를 입력 : ').split()"
   ]
  },
  {
   "cell_type": "code",
   "execution_count": 57,
   "id": "597ce4bc-8eca-4d5b-b068-733bc4bc6fe2",
   "metadata": {},
   "outputs": [
    {
     "data": {
      "text/plain": [
       "('10', '2')"
      ]
     },
     "execution_count": 57,
     "metadata": {},
     "output_type": "execute_result"
    }
   ],
   "source": [
    "a, b"
   ]
  },
  {
   "cell_type": "code",
   "execution_count": 59,
   "id": "2e1421c5-b9ab-487b-a703-6fe63bfe4de8",
   "metadata": {},
   "outputs": [
    {
     "name": "stdin",
     "output_type": "stream",
     "text": [
      "input 2 number : ex) 10 / 5 10/ 5\n"
     ]
    },
    {
     "ename": "ValueError",
     "evalue": "empty separator",
     "output_type": "error",
     "traceback": [
      "\u001b[1;31m---------------------------------------------------------------------------\u001b[0m",
      "\u001b[1;31mValueError\u001b[0m                                Traceback (most recent call last)",
      "Input \u001b[1;32mIn [59]\u001b[0m, in \u001b[0;36m<cell line: 1>\u001b[1;34m()\u001b[0m\n\u001b[1;32m----> 1\u001b[0m a1, a2 \u001b[38;5;241m=\u001b[39m \u001b[38;5;28;43minput\u001b[39;49m\u001b[43m(\u001b[49m\u001b[38;5;124;43m'\u001b[39;49m\u001b[38;5;124;43minput 2 number : ex) 10 / 5\u001b[39;49m\u001b[38;5;124;43m'\u001b[39;49m\u001b[43m)\u001b[49m\u001b[38;5;241;43m.\u001b[39;49m\u001b[43msplit\u001b[49m\u001b[43m(\u001b[49m\u001b[38;5;124;43m'\u001b[39;49m\u001b[38;5;124;43m'\u001b[39;49m\u001b[43m)\u001b[49m\n",
      "\u001b[1;31mValueError\u001b[0m: empty separator"
     ]
    }
   ],
   "source": [
    "a1, a2 = input('input 2 number : ex) 10 / 5').split('')"
   ]
  },
  {
   "cell_type": "code",
   "execution_count": 61,
   "id": "d85cf903-0719-4f6e-9eb8-67977e5c5f7c",
   "metadata": {},
   "outputs": [
    {
     "name": "stdin",
     "output_type": "stream",
     "text": [
      "숫자 2개 입력 :  15 2\n"
     ]
    },
    {
     "name": "stdout",
     "output_type": "stream",
     "text": [
      "15 2\n"
     ]
    }
   ],
   "source": [
    "b1, b2 = map(int, input('숫자 2개 입력 : ').split())\n",
    "print(b1, b2)\n",
    "#map 합수 묶어주는 역할\""
   ]
  },
  {
   "cell_type": "markdown",
   "id": "ad780518-2f07-4c6d-a0b4-598c27863f64",
   "metadata": {},
   "source": [
    "## 출력 형태\n",
    "- print() 간단하게 값을 출력 및 여러가지 성질 내포\n",
    "- print(값1, 값2, 값3)\n",
    "- print(변수1, 변수2, 변수3) 여러개 출력 가능"
   ]
  },
  {
   "cell_type": "code",
   "execution_count": 62,
   "id": "f6932091-5481-40c7-912f-62c483ee7fa5",
   "metadata": {},
   "outputs": [
    {
     "name": "stdout",
     "output_type": "stream",
     "text": [
      "1 2 3\n"
     ]
    }
   ],
   "source": [
    "print(1, 2, 3)"
   ]
  },
  {
   "cell_type": "code",
   "execution_count": 63,
   "id": "7d889133-1579-454b-8f66-96c5b6b723bd",
   "metadata": {},
   "outputs": [
    {
     "name": "stdout",
     "output_type": "stream",
     "text": [
      "10 2 3\n"
     ]
    }
   ],
   "source": [
    "print(a, b, c)"
   ]
  },
  {
   "cell_type": "markdown",
   "id": "ba6bf9a8-6ca0-442a-8443-06fb36e8cb22",
   "metadata": {},
   "source": [
    "- sep로 값 사이에 문자 기입 가능\n",
    "\n",
    "- print(값1, 값2, sep = '문자 or 문자열')\n",
    "- print(변수1, 변수2, sep = '문자 or 문자열')"
   ]
  },
  {
   "cell_type": "code",
   "execution_count": 65,
   "id": "53580333-25e4-4f9f-994e-532669a77e4d",
   "metadata": {},
   "outputs": [
    {
     "name": "stdout",
     "output_type": "stream",
     "text": [
      "1, 2, 3\n"
     ]
    }
   ],
   "source": [
    "print(1, 2, 3, sep = ', ')"
   ]
  },
  {
   "cell_type": "code",
   "execution_count": 66,
   "id": "9f41164e-8efb-4bec-a7c9-ad12cd46cf16",
   "metadata": {},
   "outputs": [
    {
     "name": "stdout",
     "output_type": "stream",
     "text": [
      "10 / 2\n"
     ]
    }
   ],
   "source": [
    "print(a, b, sep = ' / ')"
   ]
  },
  {
   "cell_type": "code",
   "execution_count": 67,
   "id": "24b1ed41-8228-42c4-b7b0-ac63f6e1b0b3",
   "metadata": {},
   "outputs": [
    {
     "name": "stdout",
     "output_type": "stream",
     "text": [
      "1\n",
      "2\n",
      "3\n"
     ]
    }
   ],
   "source": [
    "#줄바꿈 방식\n",
    "print(1, 2, 3, sep = '\\n')"
   ]
  },
  {
   "cell_type": "code",
   "execution_count": 73,
   "id": "b3f9ff9d-4800-4755-ab73-a0cac071c1a4",
   "metadata": {},
   "outputs": [
    {
     "name": "stdout",
     "output_type": "stream",
     "text": [
      "1\n",
      "2\n",
      "3\n",
      "\n"
     ]
    }
   ],
   "source": [
    "print('1\\n2\\n3\\n')"
   ]
  },
  {
   "cell_type": "code",
   "execution_count": 70,
   "id": "1445e8c0-acbc-4f24-a0c4-facd5f724d23",
   "metadata": {},
   "outputs": [
    {
     "name": "stdout",
     "output_type": "stream",
     "text": [
      "10\n",
      "5\n"
     ]
    }
   ],
   "source": [
    "print(x, y, sep = '\\n')"
   ]
  },
  {
   "cell_type": "markdown",
   "id": "4bf6f8fd-05f9-4098-bb03-e54aac48c74e",
   "metadata": {},
   "source": [
    "#### end 사용하기\n",
    "값들이 붙여서 나오는 경우가 있을시 end 빈 문자열을 통해서 다음번 출력이 바로 뒤에 올 수 있게끔 한다.\n",
    "- print(값, end = '문자 or 문자열')\n",
    "- print(변수, end = '문자 or 문자열')"
   ]
  },
  {
   "cell_type": "code",
   "execution_count": 74,
   "id": "983f5ca3-b2d5-45bd-a09d-1a3cae5bfb54",
   "metadata": {},
   "outputs": [
    {
     "name": "stdout",
     "output_type": "stream",
     "text": [
      "1\n",
      "2\n",
      "3\n"
     ]
    }
   ],
   "source": [
    "print(1)\n",
    "print(2)\n",
    "print(3)"
   ]
  },
  {
   "cell_type": "code",
   "execution_count": 75,
   "id": "8df7dc18-7ead-420d-8d93-2b37abe6b84a",
   "metadata": {},
   "outputs": [
    {
     "name": "stdout",
     "output_type": "stream",
     "text": [
      "123"
     ]
    }
   ],
   "source": [
    "print(1, end = '')\n",
    "print(2, end = '')\n",
    "print(3, end = '')"
   ]
  },
  {
   "cell_type": "code",
   "execution_count": 77,
   "id": "758d48cd-f696-4353-9c35-a20c95762232",
   "metadata": {},
   "outputs": [
    {
     "name": "stdout",
     "output_type": "stream",
     "text": [
      "1,2,3"
     ]
    }
   ],
   "source": [
    "print(1, end = ',')\n",
    "print(2, end = ',')\n",
    "print(3, end = '')"
   ]
  },
  {
   "cell_type": "markdown",
   "id": "5bc12d2d-f86e-4414-bda8-096ad89aab74",
   "metadata": {},
   "source": [
    "### 불과 비교, 논리 연산자"
   ]
  },
  {
   "cell_type": "code",
   "execution_count": 80,
   "id": "99e063ce-572c-4d6d-ac9a-723dd0305833",
   "metadata": {},
   "outputs": [
    {
     "name": "stdout",
     "output_type": "stream",
     "text": [
      "1\n",
      "1.0\n",
      "abc\n",
      "True\n",
      "False\n"
     ]
    }
   ],
   "source": [
    "### Python에는 참과 거짓이라는 값이 있다.\n",
    "print(1)\n",
    "print(1.0)\n",
    "print('abc')\n",
    "### 참(True) & 거짓(False)\n",
    "print(True)\n",
    "print(False)"
   ]
  },
  {
   "cell_type": "code",
   "execution_count": 82,
   "id": "8e9dac1e-9b00-4a1d-a0dc-3e62d2b72497",
   "metadata": {},
   "outputs": [
    {
     "ename": "NameError",
     "evalue": "name 'false' is not defined",
     "output_type": "error",
     "traceback": [
      "\u001b[1;31m---------------------------------------------------------------------------\u001b[0m",
      "\u001b[1;31mNameError\u001b[0m                                 Traceback (most recent call last)",
      "Input \u001b[1;32mIn [82]\u001b[0m, in \u001b[0;36m<cell line: 1>\u001b[1;34m()\u001b[0m\n\u001b[1;32m----> 1\u001b[0m \u001b[43mfalse\u001b[49m\n",
      "\u001b[1;31mNameError\u001b[0m: name 'false' is not defined"
     ]
    }
   ],
   "source": [
    "false\n",
    "#앞에 꼭 대문자로 사용해하 함"
   ]
  },
  {
   "cell_type": "code",
   "execution_count": 83,
   "id": "972e4ae1-cd43-448c-bb62-43889736a9c1",
   "metadata": {},
   "outputs": [
    {
     "data": {
      "text/plain": [
       "True"
      ]
     },
     "execution_count": 83,
     "metadata": {},
     "output_type": "execute_result"
    }
   ],
   "source": [
    "3 > 1"
   ]
  },
  {
   "cell_type": "code",
   "execution_count": 84,
   "id": "4c949ca6-fbcd-4ac2-a829-e5a2ac677d00",
   "metadata": {},
   "outputs": [
    {
     "data": {
      "text/plain": [
       "False"
      ]
     },
     "execution_count": 84,
     "metadata": {},
     "output_type": "execute_result"
    }
   ],
   "source": [
    "1 < 0"
   ]
  },
  {
   "cell_type": "code",
   "execution_count": 85,
   "id": "81393a5b-31d2-444a-9581-122b5ee46ac2",
   "metadata": {},
   "outputs": [
    {
     "data": {
      "text/plain": [
       "False"
      ]
     },
     "execution_count": 85,
     "metadata": {},
     "output_type": "execute_result"
    }
   ],
   "source": [
    "1 < -5"
   ]
  },
  {
   "cell_type": "code",
   "execution_count": 86,
   "id": "e6821f56-da09-46a7-8971-d72ad72c1468",
   "metadata": {},
   "outputs": [],
   "source": [
    "#True & False도 boolean 이라는 하나의 값을 의미한다."
   ]
  },
  {
   "cell_type": "code",
   "execution_count": 87,
   "id": "36f4d03b-a7ce-442b-9a5e-06c65ec89224",
   "metadata": {},
   "outputs": [
    {
     "data": {
      "text/plain": [
       "False"
      ]
     },
     "execution_count": 87,
     "metadata": {},
     "output_type": "execute_result"
    }
   ],
   "source": [
    "100 == 1"
   ]
  },
  {
   "cell_type": "code",
   "execution_count": 88,
   "id": "89e17dd4-6216-4e82-96cc-13de595d0ea6",
   "metadata": {},
   "outputs": [
    {
     "data": {
      "text/plain": [
       "True"
      ]
     },
     "execution_count": 88,
     "metadata": {},
     "output_type": "execute_result"
    }
   ],
   "source": [
    "100 == 100"
   ]
  },
  {
   "cell_type": "code",
   "execution_count": 89,
   "id": "108e519c-06dd-46fa-9207-f6ea768809b0",
   "metadata": {},
   "outputs": [
    {
     "data": {
      "text/plain": [
       "False"
      ]
     },
     "execution_count": 89,
     "metadata": {},
     "output_type": "execute_result"
    }
   ],
   "source": [
    "10 != 10"
   ]
  },
  {
   "cell_type": "code",
   "execution_count": 90,
   "id": "48f8de91-1189-4253-a70f-37a130337bab",
   "metadata": {},
   "outputs": [],
   "source": [
    "### 문자열의 불리안도 접근 가능하며 대소문자 구분이 가능하다"
   ]
  },
  {
   "cell_type": "code",
   "execution_count": 91,
   "id": "1fcd97ad-757d-4749-b53f-cef4220e994a",
   "metadata": {},
   "outputs": [
    {
     "data": {
      "text/plain": [
       "False"
      ]
     },
     "execution_count": 91,
     "metadata": {},
     "output_type": "execute_result"
    }
   ],
   "source": [
    "'Python' == \"python\""
   ]
  },
  {
   "cell_type": "code",
   "execution_count": 92,
   "id": "378e2783-8efe-44db-beea-cf9fc35f3617",
   "metadata": {},
   "outputs": [],
   "source": [
    "### Boolean 값을 이진 기법을 통해 함수에서 값으로 활용할 수 있다."
   ]
  },
  {
   "cell_type": "code",
   "execution_count": 93,
   "id": "2fe66b98-a3c0-4f4c-81aa-e3d6dfcba785",
   "metadata": {},
   "outputs": [
    {
     "data": {
      "text/plain": [
       "True"
      ]
     },
     "execution_count": 93,
     "metadata": {},
     "output_type": "execute_result"
    }
   ],
   "source": [
    "1 == 1.0"
   ]
  },
  {
   "cell_type": "code",
   "execution_count": 94,
   "id": "a3bd717c-8297-4418-837d-8cec1652fb70",
   "metadata": {},
   "outputs": [
    {
     "name": "stderr",
     "output_type": "stream",
     "text": [
      "<>:1: SyntaxWarning: \"is\" with a literal. Did you mean \"==\"?\n",
      "<>:1: SyntaxWarning: \"is\" with a literal. Did you mean \"==\"?\n",
      "C:\\Users\\munbe\\AppData\\Local\\Temp\\ipykernel_15512\\3336455986.py:1: SyntaxWarning: \"is\" with a literal. Did you mean \"==\"?\n",
      "  1 is 1.0\n"
     ]
    },
    {
     "data": {
      "text/plain": [
       "False"
      ]
     },
     "execution_count": 94,
     "metadata": {},
     "output_type": "execute_result"
    }
   ],
   "source": [
    "1 is 1.0"
   ]
  },
  {
   "cell_type": "code",
   "execution_count": 96,
   "id": "f50b68e5-0a3f-4d8f-879d-6a5ef318a1cd",
   "metadata": {},
   "outputs": [],
   "source": [
    "### == 과 is 의 결과값이 상이하다\n",
    "### == 는 값에 대한 비교 \n",
    "### is 는 객체, 변수에 대한 비교(메모리할당으로 인해 2개는 다르다고 나온다."
   ]
  },
  {
   "cell_type": "markdown",
   "id": "336639a2-cd39-4c79-8e06-76e80337965e",
   "metadata": {},
   "source": [
    "1 is 1.0의 경우 is는 접근 자체를 type형으로 했기 때문에\n",
    "int 와 float로 서로 다르기 때문에 차이가 발생한다."
   ]
  },
  {
   "cell_type": "markdown",
   "id": "d6f20664-09ba-4fd5-933d-9f9a4e55d9d7",
   "metadata": {},
   "source": [
    "### 논리연산자!\n",
    "and, or, not\n",
    "- and : 둘다 True일시 True 값 변환\n",
    "- or : 둘중 하나라도 True일시 True 값 변환\n",
    "- a and b\n",
    "- a or b"
   ]
  },
  {
   "cell_type": "code",
   "execution_count": 97,
   "id": "f0a0d937-0024-4cec-8b79-6c9223a35a0d",
   "metadata": {},
   "outputs": [
    {
     "data": {
      "text/plain": [
       "True"
      ]
     },
     "execution_count": 97,
     "metadata": {},
     "output_type": "execute_result"
    }
   ],
   "source": [
    "True and True"
   ]
  },
  {
   "cell_type": "code",
   "execution_count": 98,
   "id": "95606fff-38b3-4e9a-b1e5-90daac48f9c9",
   "metadata": {},
   "outputs": [
    {
     "data": {
      "text/plain": [
       "False"
      ]
     },
     "execution_count": 98,
     "metadata": {},
     "output_type": "execute_result"
    }
   ],
   "source": [
    "True and False"
   ]
  },
  {
   "cell_type": "code",
   "execution_count": 100,
   "id": "6567fd30-8fde-4f92-b885-76b49150063f",
   "metadata": {},
   "outputs": [
    {
     "data": {
      "text/plain": [
       "False"
      ]
     },
     "execution_count": 100,
     "metadata": {},
     "output_type": "execute_result"
    }
   ],
   "source": [
    "False and False"
   ]
  },
  {
   "cell_type": "code",
   "execution_count": 101,
   "id": "09de830e-b298-464b-90c8-bdfc560a16d7",
   "metadata": {},
   "outputs": [
    {
     "data": {
      "text/plain": [
       "True"
      ]
     },
     "execution_count": 101,
     "metadata": {},
     "output_type": "execute_result"
    }
   ],
   "source": [
    "True or True"
   ]
  },
  {
   "cell_type": "code",
   "execution_count": 102,
   "id": "c5bacc2a-1ac7-4b15-ab65-8d8c6e491184",
   "metadata": {},
   "outputs": [
    {
     "data": {
      "text/plain": [
       "True"
      ]
     },
     "execution_count": 102,
     "metadata": {},
     "output_type": "execute_result"
    }
   ],
   "source": [
    "True or False"
   ]
  },
  {
   "cell_type": "code",
   "execution_count": 103,
   "id": "9a094b41-3fa2-4f66-ab93-247aaa4ac2ef",
   "metadata": {},
   "outputs": [
    {
     "data": {
      "text/plain": [
       "False"
      ]
     },
     "execution_count": 103,
     "metadata": {},
     "output_type": "execute_result"
    }
   ],
   "source": [
    "False or False"
   ]
  },
  {
   "cell_type": "code",
   "execution_count": 106,
   "id": "99a97058-7c0b-48fb-abef-2baca721c8c1",
   "metadata": {},
   "outputs": [
    {
     "data": {
      "text/plain": [
       "True"
      ]
     },
     "execution_count": 106,
     "metadata": {},
     "output_type": "execute_result"
    }
   ],
   "source": [
    "bool(1)"
   ]
  },
  {
   "cell_type": "code",
   "execution_count": 107,
   "id": "f914269d-768b-4eec-b053-a54194e4f212",
   "metadata": {},
   "outputs": [
    {
     "data": {
      "text/plain": [
       "True"
      ]
     },
     "execution_count": 107,
     "metadata": {},
     "output_type": "execute_result"
    }
   ],
   "source": [
    "bool(2)"
   ]
  },
  {
   "cell_type": "code",
   "execution_count": 111,
   "id": "921a6bed-e50e-4980-afa2-cea5974ed480",
   "metadata": {},
   "outputs": [
    {
     "data": {
      "text/plain": [
       "False"
      ]
     },
     "execution_count": 111,
     "metadata": {},
     "output_type": "execute_result"
    }
   ],
   "source": [
    "bool(0) & bool(1)"
   ]
  },
  {
   "cell_type": "code",
   "execution_count": 113,
   "id": "1047b242-d00e-45e9-9c17-75e45cc4aaee",
   "metadata": {},
   "outputs": [
    {
     "data": {
      "text/plain": [
       "True"
      ]
     },
     "execution_count": 113,
     "metadata": {},
     "output_type": "execute_result"
    }
   ],
   "source": [
    "bool(1 < 2) | bool(1 > 2)"
   ]
  },
  {
   "cell_type": "code",
   "execution_count": 110,
   "id": "0e390676-e07f-465d-b220-783b4e6496b1",
   "metadata": {},
   "outputs": [
    {
     "data": {
      "text/plain": [
       "False"
      ]
     },
     "execution_count": 110,
     "metadata": {},
     "output_type": "execute_result"
    }
   ],
   "source": [
    "bool(1 > 2)"
   ]
  }
 ],
 "metadata": {
  "kernelspec": {
   "display_name": "Python 3 (ipykernel)",
   "language": "python",
   "name": "python3"
  },
  "language_info": {
   "codemirror_mode": {
    "name": "ipython",
    "version": 3
   },
   "file_extension": ".py",
   "mimetype": "text/x-python",
   "name": "python",
   "nbconvert_exporter": "python",
   "pygments_lexer": "ipython3",
   "version": "3.9.12"
  }
 },
 "nbformat": 4,
 "nbformat_minor": 5
}
