{
 "cells": [
  {
   "cell_type": "markdown",
   "id": "230572e4-c164-44af-bc5b-871cbb97c9ae",
   "metadata": {
    "tags": []
   },
   "source": [
    "#### object : Sequence 자료형\n",
    "#### Author : 문범수\n",
    "#### date : 2023.1.4"
   ]
  },
  {
   "cell_type": "markdown",
   "id": "d58ef12c-90c5-4cc4-94d9-e181f629791c",
   "metadata": {},
   "source": [
    "## Sequence 자료형\n",
    "- 연속된 자료형\n",
    "- List\n",
    "- Tuple\n",
    "- Range\n",
    "- String"
   ]
  },
  {
   "cell_type": "code",
   "execution_count": 1,
   "id": "9e0f814c-2d70-4c49-a640-f5fa4913c085",
   "metadata": {},
   "outputs": [],
   "source": [
    "a = [1, 2, 3, 4, 5,6]"
   ]
  },
  {
   "cell_type": "code",
   "execution_count": 3,
   "id": "cf7faef2-12d7-4d95-81f1-5c032eb73395",
   "metadata": {},
   "outputs": [
    {
     "data": {
      "text/plain": [
       "[1, 2, 3, 4, 5, 6]"
      ]
     },
     "execution_count": 3,
     "metadata": {},
     "output_type": "execute_result"
    }
   ],
   "source": [
    "a\n",
    "#sequence 객체라 함"
   ]
  },
  {
   "cell_type": "code",
   "execution_count": 4,
   "id": "7dbedc0b-d2c7-4669-97dc-c5931ae48ad1",
   "metadata": {},
   "outputs": [
    {
     "data": {
      "text/plain": [
       "[1, 2, 3, 4, 5, 6]"
      ]
     },
     "execution_count": 4,
     "metadata": {},
     "output_type": "execute_result"
    }
   ],
   "source": [
    "# Sequence 객체에서 사용할 수 있는 문법\n",
    "a"
   ]
  },
  {
   "cell_type": "code",
   "execution_count": 6,
   "id": "1966fe0e-220a-44e1-97eb-87aa7df1932e",
   "metadata": {},
   "outputs": [
    {
     "data": {
      "text/plain": [
       "True"
      ]
     },
     "execution_count": 6,
     "metadata": {},
     "output_type": "execute_result"
    }
   ],
   "source": [
    "6 in a"
   ]
  },
  {
   "cell_type": "code",
   "execution_count": 7,
   "id": "fc3eefb0-8a46-4690-986f-b6051219626f",
   "metadata": {},
   "outputs": [
    {
     "data": {
      "text/plain": [
       "False"
      ]
     },
     "execution_count": 7,
     "metadata": {},
     "output_type": "execute_result"
    }
   ],
   "source": [
    "10 in a"
   ]
  },
  {
   "cell_type": "code",
   "execution_count": 8,
   "id": "0d2b8fe1-c577-464c-a3cf-815fe53b6fe5",
   "metadata": {},
   "outputs": [
    {
     "data": {
      "text/plain": [
       "True"
      ]
     },
     "execution_count": 8,
     "metadata": {},
     "output_type": "execute_result"
    }
   ],
   "source": [
    "10 not in a"
   ]
  },
  {
   "cell_type": "code",
   "execution_count": 9,
   "id": "91fb4658-43a8-4786-916c-41ef384bb83c",
   "metadata": {},
   "outputs": [],
   "source": [
    "a = [1,2,3,4,5]"
   ]
  },
  {
   "cell_type": "code",
   "execution_count": 10,
   "id": "af9ba30d-d34d-4247-bc8e-cffd93f60602",
   "metadata": {},
   "outputs": [],
   "source": [
    "b = [7,8,9,10]"
   ]
  },
  {
   "cell_type": "code",
   "execution_count": 11,
   "id": "fc57960a-1662-458b-8ba3-7bfc247aa373",
   "metadata": {},
   "outputs": [
    {
     "data": {
      "text/plain": [
       "[1, 2, 3, 4, 5, 7, 8, 9, 10]"
      ]
     },
     "execution_count": 11,
     "metadata": {},
     "output_type": "execute_result"
    }
   ],
   "source": [
    "a + b"
   ]
  },
  {
   "cell_type": "code",
   "execution_count": 12,
   "id": "7f723128-10df-400f-8d15-faaa1b055ae8",
   "metadata": {},
   "outputs": [],
   "source": [
    "#sequence 객체간 연결 가능"
   ]
  },
  {
   "cell_type": "code",
   "execution_count": 36,
   "id": "fa6fd528-067b-4a29-a462-c9b8d5385b50",
   "metadata": {},
   "outputs": [
    {
     "ename": "TypeError",
     "evalue": "unsupported operand type(s) for +: 'range' and 'range'",
     "output_type": "error",
     "traceback": [
      "\u001b[1;31m---------------------------------------------------------------------------\u001b[0m",
      "\u001b[1;31mTypeError\u001b[0m                                 Traceback (most recent call last)",
      "Input \u001b[1;32mIn [36]\u001b[0m, in \u001b[0;36m<cell line: 1>\u001b[1;34m()\u001b[0m\n\u001b[1;32m----> 1\u001b[0m \u001b[38;5;28;43mrange\u001b[39;49m\u001b[43m(\u001b[49m\u001b[38;5;241;43m0\u001b[39;49m\u001b[43m,\u001b[49m\u001b[38;5;241;43m10\u001b[39;49m\u001b[43m)\u001b[49m\u001b[43m \u001b[49m\u001b[38;5;241;43m+\u001b[39;49m\u001b[43m \u001b[49m\u001b[38;5;28;43mrange\u001b[39;49m\u001b[43m(\u001b[49m\u001b[38;5;241;43m10\u001b[39;49m\u001b[43m,\u001b[49m\u001b[38;5;241;43m20\u001b[39;49m\u001b[43m)\u001b[49m\n",
      "\u001b[1;31mTypeError\u001b[0m: unsupported operand type(s) for +: 'range' and 'range'"
     ]
    }
   ],
   "source": [
    "range(0,10) + range(10,20)\n",
    "#range간 바로 연결은 불가능"
   ]
  },
  {
   "cell_type": "code",
   "execution_count": 37,
   "id": "419e9d7e-4a46-4636-9f4e-5ed0b61b29f6",
   "metadata": {},
   "outputs": [
    {
     "data": {
      "text/plain": [
       "[0, 1, 2, 3, 4, 5, 6, 7, 8, 9, 10, 11, 12, 13, 14, 15, 16, 17, 18, 19]"
      ]
     },
     "execution_count": 37,
     "metadata": {},
     "output_type": "execute_result"
    }
   ],
   "source": [
    "list(range(0,10)) + list(range(10,20))"
   ]
  },
  {
   "cell_type": "code",
   "execution_count": 38,
   "id": "4940d4c9-81c4-4ba5-aac6-8fb29b7ebe75",
   "metadata": {},
   "outputs": [
    {
     "data": {
      "text/plain": [
       "(0, 1, 2, 3, 4, 5, 6, 7, 8, 9, 10, 11, 12, 13, 14, 15, 16, 17, 18, 19)"
      ]
     },
     "execution_count": 38,
     "metadata": {},
     "output_type": "execute_result"
    }
   ],
   "source": [
    "tuple(range(0,10)) + tuple(range(10,20))"
   ]
  },
  {
   "cell_type": "code",
   "execution_count": 39,
   "id": "d9f7f8c5-47d6-4f8d-b9dc-53836027fe38",
   "metadata": {},
   "outputs": [
    {
     "data": {
      "text/plain": [
       "'hello world!'"
      ]
     },
     "execution_count": 39,
     "metadata": {},
     "output_type": "execute_result"
    }
   ],
   "source": [
    "'hello' + ' world!'"
   ]
  },
  {
   "cell_type": "markdown",
   "id": "1349814e-9cbf-41a4-9b5e-248cdc21d68c",
   "metadata": {},
   "source": [
    "### Sequence 객체는 반복 가능\n",
    "\n",
    "- Sequence 객체 * 5"
   ]
  },
  {
   "cell_type": "code",
   "execution_count": 40,
   "id": "ccb6d0a5-b445-419c-8c89-b7fc9d27f9a4",
   "metadata": {},
   "outputs": [
    {
     "data": {
      "text/plain": [
       "[1, 2, 3, 4, 5, 1, 2, 3, 4, 5, 1, 2, 3, 4, 5, 1, 2, 3, 4, 5, 1, 2, 3, 4, 5]"
      ]
     },
     "execution_count": 40,
     "metadata": {},
     "output_type": "execute_result"
    }
   ],
   "source": [
    "[1,2,3,4,5]*5"
   ]
  },
  {
   "cell_type": "code",
   "execution_count": 41,
   "id": "bda673a7-2cb8-4dde-b045-b59418285568",
   "metadata": {},
   "outputs": [],
   "source": [
    "# 내부 순서가 유지되면서 한덩어리로 반복됨"
   ]
  },
  {
   "cell_type": "code",
   "execution_count": 42,
   "id": "b6e2daf5-7eae-4466-82c8-ffb0b1001f18",
   "metadata": {},
   "outputs": [
    {
     "data": {
      "text/plain": [
       "[0, 1, 2, 0, 1, 2, 0, 1, 2, 0, 1, 2, 0, 1, 2]"
      ]
     },
     "execution_count": 42,
     "metadata": {},
     "output_type": "execute_result"
    }
   ],
   "source": [
    "list(range(3)) * 5"
   ]
  },
  {
   "cell_type": "markdown",
   "id": "11df17a7-c985-428f-9799-cfba19f2107b",
   "metadata": {},
   "source": [
    "### Sequence 객체의 개수 구하기"
   ]
  },
  {
   "cell_type": "code",
   "execution_count": 43,
   "id": "828e2186-c928-4f97-93f2-0fa4049915d6",
   "metadata": {},
   "outputs": [],
   "source": [
    "a = [1,2,3,4,5,6,7,8,9]"
   ]
  },
  {
   "cell_type": "markdown",
   "id": "a61ba4a0-5c5d-49bf-8955-b972e7c77284",
   "metadata": {},
   "source": [
    "- len(sequence 객체)\n",
    "\n",
    "element 개수(길이) 구하기"
   ]
  },
  {
   "cell_type": "code",
   "execution_count": 44,
   "id": "07a53eb0-556e-46ba-98ee-5bac76731b4c",
   "metadata": {},
   "outputs": [
    {
     "data": {
      "text/plain": [
       "9"
      ]
     },
     "execution_count": 44,
     "metadata": {},
     "output_type": "execute_result"
    }
   ],
   "source": [
    "len(a)\n",
    "#element 갯수 구하기"
   ]
  },
  {
   "cell_type": "code",
   "execution_count": 45,
   "id": "02866e9e-afbf-4510-985e-ae09dd2aa4f5",
   "metadata": {},
   "outputs": [
    {
     "data": {
      "text/plain": [
       "22"
      ]
     },
     "execution_count": 45,
     "metadata": {},
     "output_type": "execute_result"
    }
   ],
   "source": [
    "len(range(145, 189,2))"
   ]
  },
  {
   "cell_type": "code",
   "execution_count": 46,
   "id": "4505a8c6-4c33-4b9d-8bfe-4d4f40f0ce8f",
   "metadata": {},
   "outputs": [],
   "source": [
    "abc = 'Hello, World!'"
   ]
  },
  {
   "cell_type": "code",
   "execution_count": 47,
   "id": "b6ba6477-a4d5-4afb-a48b-0125d04421cb",
   "metadata": {},
   "outputs": [
    {
     "data": {
      "text/plain": [
       "'Hello, World!'"
      ]
     },
     "execution_count": 47,
     "metadata": {},
     "output_type": "execute_result"
    }
   ],
   "source": [
    "abc"
   ]
  },
  {
   "cell_type": "code",
   "execution_count": 48,
   "id": "d768c5f3-7ce6-4712-be59-d1cf4db3159a",
   "metadata": {},
   "outputs": [
    {
     "data": {
      "text/plain": [
       "13"
      ]
     },
     "execution_count": 48,
     "metadata": {},
     "output_type": "execute_result"
    }
   ],
   "source": [
    "len(abc)"
   ]
  },
  {
   "cell_type": "markdown",
   "id": "55c6e0e5-0753-4de0-803e-97f35fc89758",
   "metadata": {},
   "source": [
    "## Index 사용하기!!!"
   ]
  },
  {
   "cell_type": "code",
   "execution_count": 49,
   "id": "d90c2917-1eac-4721-8778-878156062c75",
   "metadata": {},
   "outputs": [],
   "source": [
    "x = [10, 20, 30, 40, 50]"
   ]
  },
  {
   "cell_type": "code",
   "execution_count": 50,
   "id": "f1c1aa3a-0b0e-469e-8c92-a4ac0f381e4c",
   "metadata": {},
   "outputs": [
    {
     "data": {
      "text/plain": [
       "20"
      ]
     },
     "execution_count": 50,
     "metadata": {},
     "output_type": "execute_result"
    }
   ],
   "source": [
    "x[1]"
   ]
  },
  {
   "cell_type": "code",
   "execution_count": 51,
   "id": "7359b99c-4f49-4f56-85e7-95b56bee880f",
   "metadata": {},
   "outputs": [
    {
     "data": {
      "text/plain": [
       "10"
      ]
     },
     "execution_count": 51,
     "metadata": {},
     "output_type": "execute_result"
    }
   ],
   "source": [
    "x[0]"
   ]
  },
  {
   "cell_type": "code",
   "execution_count": 52,
   "id": "ed68c0e1-853c-4b3e-bee4-ffcec7550b94",
   "metadata": {},
   "outputs": [
    {
     "data": {
      "text/plain": [
       "[10, 20, 30, 40, 50]"
      ]
     },
     "execution_count": 52,
     "metadata": {},
     "output_type": "execute_result"
    }
   ],
   "source": [
    "list(x)"
   ]
  },
  {
   "cell_type": "code",
   "execution_count": 53,
   "id": "b5a67d39-7a32-4398-84bf-e1f8f1855ba6",
   "metadata": {},
   "outputs": [
    {
     "data": {
      "text/plain": [
       "[10, 20, 30, 40, 50]"
      ]
     },
     "execution_count": 53,
     "metadata": {},
     "output_type": "execute_result"
    }
   ],
   "source": [
    "x"
   ]
  },
  {
   "cell_type": "markdown",
   "id": "25c16c30-071f-4c97-af6f-cb354826cc45",
   "metadata": {},
   "source": [
    "#### Sequence 객체[index]\n",
    "- sequence 객체의 index 순서의 값을 반환한다."
   ]
  },
  {
   "cell_type": "code",
   "execution_count": 54,
   "id": "459167e8-13ef-4a26-9426-5d8aa9ecfe1c",
   "metadata": {},
   "outputs": [
    {
     "ename": "IndexError",
     "evalue": "list index out of range",
     "output_type": "error",
     "traceback": [
      "\u001b[1;31m---------------------------------------------------------------------------\u001b[0m",
      "\u001b[1;31mIndexError\u001b[0m                                Traceback (most recent call last)",
      "Input \u001b[1;32mIn [54]\u001b[0m, in \u001b[0;36m<cell line: 1>\u001b[1;34m()\u001b[0m\n\u001b[1;32m----> 1\u001b[0m \u001b[43mx\u001b[49m\u001b[43m[\u001b[49m\u001b[38;5;241;43m5\u001b[39;49m\u001b[43m]\u001b[49m\n",
      "\u001b[1;31mIndexError\u001b[0m: list index out of range"
     ]
    }
   ],
   "source": [
    "x[5]"
   ]
  },
  {
   "cell_type": "code",
   "execution_count": 57,
   "id": "bda66315-5f60-4f10-a67e-5df27f03eb68",
   "metadata": {},
   "outputs": [],
   "source": [
    "#허용된 범위를 넘어갈 시 error"
   ]
  },
  {
   "cell_type": "code",
   "execution_count": 58,
   "id": "5edc9f54-a27e-4da0-a702-6203ffe49091",
   "metadata": {},
   "outputs": [
    {
     "data": {
      "text/plain": [
       "5"
      ]
     },
     "execution_count": 58,
     "metadata": {},
     "output_type": "execute_result"
    }
   ],
   "source": [
    "len(x)"
   ]
  },
  {
   "cell_type": "code",
   "execution_count": 60,
   "id": "f9d9c629-68f7-4f61-8074-c4078379cdfb",
   "metadata": {},
   "outputs": [],
   "source": [
    "y = range(100, 150, 7)"
   ]
  },
  {
   "cell_type": "code",
   "execution_count": 63,
   "id": "a3ebfaa4-ed7a-4390-b56c-005e473d22de",
   "metadata": {},
   "outputs": [
    {
     "data": {
      "text/plain": [
       "135"
      ]
     },
     "execution_count": 63,
     "metadata": {},
     "output_type": "execute_result"
    }
   ],
   "source": [
    "y[5]"
   ]
  },
  {
   "cell_type": "code",
   "execution_count": 64,
   "id": "024b8492-e05d-4e47-af26-cabe2a52844d",
   "metadata": {},
   "outputs": [
    {
     "data": {
      "text/plain": [
       "8"
      ]
     },
     "execution_count": 64,
     "metadata": {},
     "output_type": "execute_result"
    }
   ],
   "source": [
    "len(y)"
   ]
  },
  {
   "cell_type": "code",
   "execution_count": 66,
   "id": "54241377-ab1a-41cb-96b2-575708da6076",
   "metadata": {},
   "outputs": [
    {
     "data": {
      "text/plain": [
       "149"
      ]
     },
     "execution_count": 66,
     "metadata": {},
     "output_type": "execute_result"
    }
   ],
   "source": [
    "y[7]"
   ]
  },
  {
   "cell_type": "code",
   "execution_count": 67,
   "id": "be2d40d1-79dd-49b9-989d-f98b73ec5f10",
   "metadata": {},
   "outputs": [
    {
     "data": {
      "text/plain": [
       "100"
      ]
     },
     "execution_count": 67,
     "metadata": {},
     "output_type": "execute_result"
    }
   ],
   "source": [
    "y[0]"
   ]
  },
  {
   "cell_type": "code",
   "execution_count": 68,
   "id": "1c13638c-cec6-4190-877e-252ee33c03b6",
   "metadata": {},
   "outputs": [],
   "source": [
    "import pandas as pd"
   ]
  },
  {
   "cell_type": "code",
   "execution_count": 89,
   "id": "3d3280d8-bc78-4600-b792-11527b9adf21",
   "metadata": {},
   "outputs": [],
   "source": [
    "df = pd.DataFrame({'x' : [1,2,3,4,5],\n",
    "                   'y' : [6,7,8,9,10]})\n",
    "#dataframe 생성시 필요한 index 개념"
   ]
  },
  {
   "cell_type": "code",
   "execution_count": 85,
   "id": "4d2a3c87-d4c8-4e19-9e3e-41f51307175a",
   "metadata": {},
   "outputs": [
    {
     "data": {
      "text/html": [
       "<div>\n",
       "<style scoped>\n",
       "    .dataframe tbody tr th:only-of-type {\n",
       "        vertical-align: middle;\n",
       "    }\n",
       "\n",
       "    .dataframe tbody tr th {\n",
       "        vertical-align: top;\n",
       "    }\n",
       "\n",
       "    .dataframe thead th {\n",
       "        text-align: right;\n",
       "    }\n",
       "</style>\n",
       "<table border=\"1\" class=\"dataframe\">\n",
       "  <thead>\n",
       "    <tr style=\"text-align: right;\">\n",
       "      <th></th>\n",
       "      <th>x</th>\n",
       "      <th>y</th>\n",
       "    </tr>\n",
       "  </thead>\n",
       "  <tbody>\n",
       "    <tr>\n",
       "      <th>0</th>\n",
       "      <td>1</td>\n",
       "      <td>6</td>\n",
       "    </tr>\n",
       "    <tr>\n",
       "      <th>1</th>\n",
       "      <td>2</td>\n",
       "      <td>7</td>\n",
       "    </tr>\n",
       "    <tr>\n",
       "      <th>2</th>\n",
       "      <td>3</td>\n",
       "      <td>8</td>\n",
       "    </tr>\n",
       "    <tr>\n",
       "      <th>3</th>\n",
       "      <td>4</td>\n",
       "      <td>9</td>\n",
       "    </tr>\n",
       "    <tr>\n",
       "      <th>4</th>\n",
       "      <td>5</td>\n",
       "      <td>10</td>\n",
       "    </tr>\n",
       "  </tbody>\n",
       "</table>\n",
       "</div>"
      ],
      "text/plain": [
       "   x   y\n",
       "0  1   6\n",
       "1  2   7\n",
       "2  3   8\n",
       "3  4   9\n",
       "4  5  10"
      ]
     },
     "execution_count": 85,
     "metadata": {},
     "output_type": "execute_result"
    }
   ],
   "source": [
    "df"
   ]
  },
  {
   "cell_type": "code",
   "execution_count": 77,
   "id": "1ff7f911-3ca6-4320-ad19-fe7ea25f41bb",
   "metadata": {},
   "outputs": [
    {
     "data": {
      "text/plain": [
       "50"
      ]
     },
     "execution_count": 77,
     "metadata": {},
     "output_type": "execute_result"
    }
   ],
   "source": [
    "x[-1]\n",
    "#index 는 양수, 음수로 계산 가능"
   ]
  },
  {
   "cell_type": "code",
   "execution_count": 78,
   "id": "e92fa4db-912a-4066-8cb7-f09c09db8f16",
   "metadata": {},
   "outputs": [],
   "source": [
    "##\n",
    "\n",
    "abc = range(123,1000,23)"
   ]
  },
  {
   "cell_type": "code",
   "execution_count": 79,
   "id": "1b446b4c-5dfd-42ef-b980-76140c950d56",
   "metadata": {},
   "outputs": [
    {
     "data": {
      "text/plain": [
       "39"
      ]
     },
     "execution_count": 79,
     "metadata": {},
     "output_type": "execute_result"
    }
   ],
   "source": [
    "len(abc)"
   ]
  },
  {
   "cell_type": "code",
   "execution_count": 80,
   "id": "ec805f91-ea14-494e-b4ed-4c35515c78c8",
   "metadata": {},
   "outputs": [
    {
     "data": {
      "text/plain": [
       "997"
      ]
     },
     "execution_count": 80,
     "metadata": {},
     "output_type": "execute_result"
    }
   ],
   "source": [
    "abc[len(abc)-1]"
   ]
  },
  {
   "cell_type": "code",
   "execution_count": 81,
   "id": "54bfdac2-2b15-46eb-986a-76abccd5cd8c",
   "metadata": {},
   "outputs": [
    {
     "data": {
      "text/plain": [
       "997"
      ]
     },
     "execution_count": 81,
     "metadata": {},
     "output_type": "execute_result"
    }
   ],
   "source": [
    "abc[-1]"
   ]
  },
  {
   "cell_type": "markdown",
   "id": "3041b22a-ddaf-44c2-a61e-a54895a29620",
   "metadata": {},
   "source": [
    "### 값 할당\n",
    "- Sequence 객체[index] = value"
   ]
  },
  {
   "cell_type": "code",
   "execution_count": 94,
   "id": "4555b3ef-df3b-408c-846b-a73720c7356b",
   "metadata": {},
   "outputs": [],
   "source": [
    "t = [0,0,0,0]\n",
    "#값은 모두 같지만 index가 존재하는 list"
   ]
  },
  {
   "cell_type": "code",
   "execution_count": 91,
   "id": "0f42eb53-6489-4332-9e10-b16c0620a251",
   "metadata": {},
   "outputs": [
    {
     "data": {
      "text/plain": [
       "0"
      ]
     },
     "execution_count": 91,
     "metadata": {},
     "output_type": "execute_result"
    }
   ],
   "source": [
    "t[0]"
   ]
  },
  {
   "cell_type": "code",
   "execution_count": 92,
   "id": "bd9f10c3-fcf7-47ac-b14e-e3ca75403138",
   "metadata": {},
   "outputs": [
    {
     "data": {
      "text/plain": [
       "0"
      ]
     },
     "execution_count": 92,
     "metadata": {},
     "output_type": "execute_result"
    }
   ],
   "source": [
    "t[3]"
   ]
  },
  {
   "cell_type": "code",
   "execution_count": 93,
   "id": "4e70ff7a-7f59-4d6c-86cf-2302a26942c0",
   "metadata": {},
   "outputs": [
    {
     "data": {
      "text/plain": [
       "[0, 0, 0, 0]"
      ]
     },
     "execution_count": 93,
     "metadata": {},
     "output_type": "execute_result"
    }
   ],
   "source": [
    "t"
   ]
  },
  {
   "cell_type": "code",
   "execution_count": 95,
   "id": "85b28237-583b-4924-88fa-0b6fec6f2bb5",
   "metadata": {},
   "outputs": [],
   "source": [
    "t[3] = 1"
   ]
  },
  {
   "cell_type": "code",
   "execution_count": 96,
   "id": "d4290e5a-d3ee-4b7e-a5a0-d3319a4c2d99",
   "metadata": {},
   "outputs": [
    {
     "data": {
      "text/plain": [
       "[0, 0, 0, 1]"
      ]
     },
     "execution_count": 96,
     "metadata": {},
     "output_type": "execute_result"
    }
   ],
   "source": [
    "t"
   ]
  },
  {
   "cell_type": "code",
   "execution_count": 97,
   "id": "fc7bdc78-8fe5-4026-ac97-5e67599a2c7c",
   "metadata": {},
   "outputs": [
    {
     "data": {
      "text/plain": [
       "1"
      ]
     },
     "execution_count": 97,
     "metadata": {},
     "output_type": "execute_result"
    }
   ],
   "source": [
    "t[3]"
   ]
  },
  {
   "cell_type": "markdown",
   "id": "375eb392-7c55-4b3b-8851-20a3f77c5172",
   "metadata": {},
   "source": [
    "### index 기준 value delete 가능\n",
    "- del sequence 객체[index]"
   ]
  },
  {
   "cell_type": "code",
   "execution_count": 98,
   "id": "a1762639-973f-495c-86de-f756298e8412",
   "metadata": {},
   "outputs": [],
   "source": [
    "del t[3]"
   ]
  },
  {
   "cell_type": "code",
   "execution_count": 99,
   "id": "774675c9-325f-4923-b54d-ab580b54ec22",
   "metadata": {},
   "outputs": [
    {
     "data": {
      "text/plain": [
       "[0, 0, 0]"
      ]
     },
     "execution_count": 99,
     "metadata": {},
     "output_type": "execute_result"
    }
   ],
   "source": [
    "t"
   ]
  },
  {
   "cell_type": "markdown",
   "id": "228de63e-6b74-401e-a099-e205d56ee30f",
   "metadata": {},
   "source": [
    "### slicing\n",
    "- index를 잘라낸다는 뜻!\n",
    "- 원하는 index만 extraction 가능"
   ]
  },
  {
   "cell_type": "code",
   "execution_count": 108,
   "id": "f09de38c-2d19-4da2-a6f2-fdc4f1505815",
   "metadata": {},
   "outputs": [],
   "source": [
    "a = list(range(1,11))"
   ]
  },
  {
   "cell_type": "code",
   "execution_count": 109,
   "id": "f50ea478-d452-4765-a0b1-95c910b0dda8",
   "metadata": {},
   "outputs": [
    {
     "data": {
      "text/plain": [
       "2"
      ]
     },
     "execution_count": 109,
     "metadata": {},
     "output_type": "execute_result"
    }
   ],
   "source": [
    "a[1]"
   ]
  },
  {
   "cell_type": "code",
   "execution_count": 110,
   "id": "d29cb9e5-f101-4ccf-ba3e-f421999d45c1",
   "metadata": {},
   "outputs": [
    {
     "data": {
      "text/plain": [
       "[2, 3, 4, 5]"
      ]
     },
     "execution_count": 110,
     "metadata": {},
     "output_type": "execute_result"
    }
   ],
   "source": [
    "a[1:5]"
   ]
  },
  {
   "cell_type": "code",
   "execution_count": 111,
   "id": "906551e5-462e-4014-b409-4e89bc704556",
   "metadata": {},
   "outputs": [
    {
     "data": {
      "text/plain": [
       "[2, 3]"
      ]
     },
     "execution_count": 111,
     "metadata": {},
     "output_type": "execute_result"
    }
   ],
   "source": [
    "a[1:3]"
   ]
  },
  {
   "cell_type": "code",
   "execution_count": 112,
   "id": "d98f3560-fafe-43e6-a4e1-ff98c03c1f11",
   "metadata": {},
   "outputs": [
    {
     "data": {
      "text/plain": [
       "[6, 7, 8, 9]"
      ]
     },
     "execution_count": 112,
     "metadata": {},
     "output_type": "execute_result"
    }
   ],
   "source": [
    "a[5:-1]"
   ]
  },
  {
   "cell_type": "code",
   "execution_count": 113,
   "id": "32f1c7ec-9bcb-4582-9eda-63c8937da714",
   "metadata": {},
   "outputs": [
    {
     "data": {
      "text/plain": [
       "10"
      ]
     },
     "execution_count": 113,
     "metadata": {},
     "output_type": "execute_result"
    }
   ],
   "source": [
    "a[-1]"
   ]
  },
  {
   "cell_type": "code",
   "execution_count": 114,
   "id": "775dc66b-32b2-44a0-aeb9-641957236258",
   "metadata": {},
   "outputs": [
    {
     "data": {
      "text/plain": [
       "9"
      ]
     },
     "execution_count": 114,
     "metadata": {},
     "output_type": "execute_result"
    }
   ],
   "source": [
    "a[-2]"
   ]
  },
  {
   "cell_type": "code",
   "execution_count": 115,
   "id": "999ac75a-5091-4ab2-b477-bb4c176e721c",
   "metadata": {},
   "outputs": [
    {
     "data": {
      "text/plain": [
       "[1, 2, 3]"
      ]
     },
     "execution_count": 115,
     "metadata": {},
     "output_type": "execute_result"
    }
   ],
   "source": [
    "a[0:3]"
   ]
  },
  {
   "cell_type": "code",
   "execution_count": 116,
   "id": "8018860e-3faa-4c25-933d-69f81394bbf7",
   "metadata": {},
   "outputs": [
    {
     "name": "stdout",
     "output_type": "stream",
     "text": [
      "1\n"
     ]
    }
   ],
   "source": [
    "print(a[0])"
   ]
  },
  {
   "cell_type": "code",
   "execution_count": 118,
   "id": "062f28d9-3e14-480b-b6d6-afa5181efd07",
   "metadata": {},
   "outputs": [
    {
     "data": {
      "text/plain": [
       "[1, 2, 3, 4, 5, 6, 7, 8, 9, 10]"
      ]
     },
     "execution_count": 118,
     "metadata": {},
     "output_type": "execute_result"
    }
   ],
   "source": [
    "a"
   ]
  },
  {
   "cell_type": "markdown",
   "id": "0dcebe44-d702-4c2a-9d8b-f2ff3516d4d4",
   "metadata": {},
   "source": [
    "### index 생략하기!\n",
    "- sequence object[:]\n",
    "- sequence object[값:]\n",
    "- sequence object[:값]\n",
    "- 범위 지정시 시작부터 끝에서 끝부분은 이전까지를 의마한다.\n",
    "\n",
    "ex) [0:5] = 0번째 부터 5번째 이전까지!!!! 실수하지 말것!"
   ]
  },
  {
   "cell_type": "code",
   "execution_count": null,
   "id": "cd9a8ff7-d9c2-4b8b-82d0-0acfde17ffe2",
   "metadata": {},
   "outputs": [
    {
     "data": {
      "text/plain": [
       "[1, 2, 3, 4, 5, 6, 7, 8, 9, 10]"
      ]
     },
     "execution_count": 119,
     "metadata": {},
     "output_type": "execute_result"
    }
   ],
   "source": [
    "a[:]"
   ]
  },
  {
   "cell_type": "code",
   "execution_count": 120,
   "id": "010f56e2-29ff-4f78-a06b-f94a26e888b9",
   "metadata": {},
   "outputs": [
    {
     "data": {
      "text/plain": [
       "[2, 3, 4, 5, 6, 7, 8, 9, 10]"
      ]
     },
     "execution_count": 120,
     "metadata": {},
     "output_type": "execute_result"
    }
   ],
   "source": [
    "a[1:]"
   ]
  },
  {
   "cell_type": "code",
   "execution_count": 121,
   "id": "faa6a67b-24dc-4ef7-9dcf-456004fda045",
   "metadata": {},
   "outputs": [
    {
     "data": {
      "text/plain": [
       "[1]"
      ]
     },
     "execution_count": 121,
     "metadata": {},
     "output_type": "execute_result"
    }
   ],
   "source": [
    "a[:1]"
   ]
  },
  {
   "cell_type": "code",
   "execution_count": 122,
   "id": "a9b918b4-9dc4-4744-87c1-36b481b0351c",
   "metadata": {},
   "outputs": [
    {
     "data": {
      "text/plain": [
       "[5, 6, 7, 8, 9, 10]"
      ]
     },
     "execution_count": 122,
     "metadata": {},
     "output_type": "execute_result"
    }
   ],
   "source": [
    "a[4:]"
   ]
  },
  {
   "cell_type": "code",
   "execution_count": 123,
   "id": "fa828280-782c-4883-ada0-5a3a99610ae0",
   "metadata": {},
   "outputs": [
    {
     "data": {
      "text/plain": [
       "[1, 2, 3, 4, 5]"
      ]
     },
     "execution_count": 123,
     "metadata": {},
     "output_type": "execute_result"
    }
   ],
   "source": [
    "a[:5]"
   ]
  },
  {
   "cell_type": "code",
   "execution_count": 124,
   "id": "cf295e7f-ee07-4a4d-aadc-2de9c19add89",
   "metadata": {},
   "outputs": [
    {
     "data": {
      "text/plain": [
       "10"
      ]
     },
     "execution_count": 124,
     "metadata": {},
     "output_type": "execute_result"
    }
   ],
   "source": [
    "len(a)"
   ]
  },
  {
   "cell_type": "code",
   "execution_count": 125,
   "id": "57ff78be-896e-424a-8a6c-222bca2cea57",
   "metadata": {},
   "outputs": [
    {
     "ename": "IndexError",
     "evalue": "list index out of range",
     "output_type": "error",
     "traceback": [
      "\u001b[1;31m---------------------------------------------------------------------------\u001b[0m",
      "\u001b[1;31mIndexError\u001b[0m                                Traceback (most recent call last)",
      "Input \u001b[1;32mIn [125]\u001b[0m, in \u001b[0;36m<cell line: 1>\u001b[1;34m()\u001b[0m\n\u001b[1;32m----> 1\u001b[0m \u001b[43ma\u001b[49m\u001b[43m[\u001b[49m\u001b[38;5;241;43m25\u001b[39;49m\u001b[43m]\u001b[49m\n",
      "\u001b[1;31mIndexError\u001b[0m: list index out of range"
     ]
    }
   ],
   "source": [
    "a[25]"
   ]
  },
  {
   "cell_type": "code",
   "execution_count": 126,
   "id": "29c1c9c5-ee7e-484b-a478-d4ed58a4386f",
   "metadata": {},
   "outputs": [
    {
     "data": {
      "text/plain": [
       "[1, 2, 3, 4, 5, 6, 7, 8, 9, 10]"
      ]
     },
     "execution_count": 126,
     "metadata": {},
     "output_type": "execute_result"
    }
   ],
   "source": [
    "a[:len(a)]"
   ]
  },
  {
   "cell_type": "code",
   "execution_count": 127,
   "id": "5848ddd3-4de7-4f65-85a5-821b4e3b93b8",
   "metadata": {},
   "outputs": [
    {
     "data": {
      "text/plain": [
       "[1, 2, 3, 4, 5, 6, 7, 8, 9, 10]"
      ]
     },
     "execution_count": 127,
     "metadata": {},
     "output_type": "execute_result"
    }
   ],
   "source": [
    "a[:10]"
   ]
  },
  {
   "cell_type": "markdown",
   "id": "1cbb6f50-f6ac-453c-b706-a584811d90e7",
   "metadata": {},
   "source": [
    "### 과제 1 : Tuple도 위의 list와 동일하게 작성하기\n",
    "- 위에 배운 code를 tuple로 만들어서 동일하게 code 및 주석처리\n",
    "\n",
    "### 과제 2 : String도 동일\n",
    "- 위에 배운 code String도 동일하게 실시"
   ]
  },
  {
   "cell_type": "markdown",
   "id": "f9a67a60-555b-4a66-839c-caffa33ac8af",
   "metadata": {},
   "source": [
    "- slicing을 이용해 value 할당하기"
   ]
  },
  {
   "cell_type": "code",
   "execution_count": 205,
   "id": "c814cd40-15a3-4fa4-b4a0-31d8f7520614",
   "metadata": {},
   "outputs": [],
   "source": [
    "a = [1,2,3,4,5]"
   ]
  },
  {
   "cell_type": "code",
   "execution_count": 206,
   "id": "d353e110-7e76-4302-a6f3-6423847f219c",
   "metadata": {},
   "outputs": [
    {
     "data": {
      "text/plain": [
       "[1, 2, 3, 4, 5]"
      ]
     },
     "execution_count": 206,
     "metadata": {},
     "output_type": "execute_result"
    }
   ],
   "source": [
    "a"
   ]
  },
  {
   "cell_type": "code",
   "execution_count": 207,
   "id": "3de319e1-c8eb-4796-84e6-52898bff3f12",
   "metadata": {},
   "outputs": [],
   "source": [
    "a[0:2] = [10,20]"
   ]
  },
  {
   "cell_type": "code",
   "execution_count": 208,
   "id": "2af58596-cec3-4157-9346-797c84f84530",
   "metadata": {},
   "outputs": [
    {
     "data": {
      "text/plain": [
       "[10, 20, 3, 4, 5]"
      ]
     },
     "execution_count": 208,
     "metadata": {},
     "output_type": "execute_result"
    }
   ],
   "source": [
    "a"
   ]
  },
  {
   "cell_type": "code",
   "execution_count": 209,
   "id": "f5d0bd70-fc49-4868-9e31-4ac45f0de3cc",
   "metadata": {},
   "outputs": [],
   "source": [
    "a[0:2] = [10,20,30,40]"
   ]
  },
  {
   "cell_type": "code",
   "execution_count": 210,
   "id": "02036d92-c561-48a2-952c-51df2cdf30cf",
   "metadata": {},
   "outputs": [
    {
     "data": {
      "text/plain": [
       "[10, 20, 30, 40, 3, 4, 5]"
      ]
     },
     "execution_count": 210,
     "metadata": {},
     "output_type": "execute_result"
    }
   ],
   "source": [
    "a\n",
    "#지젇한 범위가 넘어갈 시! 지정범위 까지만 저장되고 나머지는 뒤로 밀리면서 저장된다.\n",
    "#위의 범위는 0부터 1까지 총 2개를 넣을 수 있지만 넣으려는 data가 3개기 때문에 2개까지는 정상적으로 저장되고 나머지는 뒤로 밀리면서 저장시킨다"
   ]
  },
  {
   "cell_type": "markdown",
   "id": "a015c1ee-0abd-4827-a98c-2ecea448cbfe",
   "metadata": {},
   "source": [
    "### del을 이용해 slice deletion\n",
    "- del sequence object[시작 index : 끝 index]"
   ]
  },
  {
   "cell_type": "code",
   "execution_count": 211,
   "id": "071d34e8-2036-4a4d-8ac9-d9a933f64b32",
   "metadata": {},
   "outputs": [],
   "source": [
    "del a[2:3]"
   ]
  },
  {
   "cell_type": "code",
   "execution_count": 212,
   "id": "cdc7d054-94fb-42a9-83ea-edf5b5a0130c",
   "metadata": {},
   "outputs": [
    {
     "data": {
      "text/plain": [
       "[10, 20, 40, 3, 4, 5]"
      ]
     },
     "execution_count": 212,
     "metadata": {},
     "output_type": "execute_result"
    }
   ],
   "source": [
    "a"
   ]
  },
  {
   "cell_type": "code",
   "execution_count": 213,
   "id": "5ca9090b-bf47-492a-8a47-9e434b603de6",
   "metadata": {},
   "outputs": [
    {
     "data": {
      "text/plain": [
       "[10, 20, 40]"
      ]
     },
     "execution_count": 213,
     "metadata": {},
     "output_type": "execute_result"
    }
   ],
   "source": [
    "a[0:3]"
   ]
  },
  {
   "cell_type": "code",
   "execution_count": 214,
   "id": "1a913312-36a1-41c1-9ad1-c365cf3c3f88",
   "metadata": {},
   "outputs": [
    {
     "data": {
      "text/plain": [
       "[10, 20, 40, 3, 4, 5]"
      ]
     },
     "execution_count": 214,
     "metadata": {},
     "output_type": "execute_result"
    }
   ],
   "source": [
    "a"
   ]
  },
  {
   "cell_type": "markdown",
   "id": "1651dbf0-38b5-4e39-bcec-923d56b7807a",
   "metadata": {},
   "source": [
    "### Dictionary\n",
    "- Dictionary 특징이 있다.\n",
    "- key와 value라는 2가지 요소로 이뤄지고\n",
    "- {}중괄호를 이용해서 만든다"
   ]
  },
  {
   "cell_type": "code",
   "execution_count": 215,
   "id": "f5764133-9858-41ab-a7be-7c3e5da21f44",
   "metadata": {},
   "outputs": [],
   "source": [
    "a = [1,2,3,4,5]"
   ]
  },
  {
   "cell_type": "code",
   "execution_count": 216,
   "id": "19a0f3e3-7568-4c83-be44-8c222d4cb31f",
   "metadata": {},
   "outputs": [
    {
     "data": {
      "text/plain": [
       "[1, 2, 3, 4, 5]"
      ]
     },
     "execution_count": 216,
     "metadata": {},
     "output_type": "execute_result"
    }
   ],
   "source": [
    "a"
   ]
  },
  {
   "cell_type": "code",
   "execution_count": 217,
   "id": "d609caf4-1eb9-4ba2-97f8-3c1bb6096cfa",
   "metadata": {},
   "outputs": [
    {
     "data": {
      "text/plain": [
       "{'이름': '홍길동', '나이': 20, '성별': '남자'}"
      ]
     },
     "execution_count": 217,
     "metadata": {},
     "output_type": "execute_result"
    }
   ],
   "source": [
    "abc = {'이름':'홍길동','나이': 20, '성별' : '남자'}\n",
    "abc"
   ]
  },
  {
   "cell_type": "code",
   "execution_count": 218,
   "id": "bb341035-6847-43d9-bc1a-421f5b4d945b",
   "metadata": {},
   "outputs": [],
   "source": [
    "x = [1,2,3,4,5]"
   ]
  },
  {
   "cell_type": "code",
   "execution_count": 219,
   "id": "e607f8e6-7b22-43ba-b5fd-e8fa5ee077cb",
   "metadata": {},
   "outputs": [],
   "source": [
    "x[:3] = [0,0,0,0,0,0,0,0]"
   ]
  },
  {
   "cell_type": "code",
   "execution_count": 220,
   "id": "ed6feafb-6e96-4e8b-8f7f-35f0575ec4e1",
   "metadata": {},
   "outputs": [
    {
     "data": {
      "text/plain": [
       "[0, 0, 0, 0, 0, 0, 0, 0, 4, 5]"
      ]
     },
     "execution_count": 220,
     "metadata": {},
     "output_type": "execute_result"
    }
   ],
   "source": [
    "x"
   ]
  },
  {
   "cell_type": "code",
   "execution_count": null,
   "id": "dc7e9590-b042-4260-a19e-82b3c2480824",
   "metadata": {},
   "outputs": [],
   "source": []
  }
 ],
 "metadata": {
  "kernelspec": {
   "display_name": "Python 3 (ipykernel)",
   "language": "python",
   "name": "python3"
  },
  "language_info": {
   "codemirror_mode": {
    "name": "ipython",
    "version": 3
   },
   "file_extension": ".py",
   "mimetype": "text/x-python",
   "name": "python",
   "nbconvert_exporter": "python",
   "pygments_lexer": "ipython3",
   "version": "3.9.12"
  }
 },
 "nbformat": 4,
 "nbformat_minor": 5
}
