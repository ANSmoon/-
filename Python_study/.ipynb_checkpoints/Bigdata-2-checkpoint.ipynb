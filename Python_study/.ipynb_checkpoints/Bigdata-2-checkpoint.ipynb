{
 "cells": [
  {
   "cell_type": "code",
   "execution_count": 1,
   "id": "558fe8d5-00de-471b-93a7-5648b74e67d5",
   "metadata": {},
   "outputs": [],
   "source": [
    "t4 = (1,2, (3, 4), ('Life', 'is'))"
   ]
  },
  {
   "cell_type": "code",
   "execution_count": 2,
   "id": "10ae1b33-985b-48e8-ac9f-4e8e71fbe70c",
   "metadata": {},
   "outputs": [
    {
     "data": {
      "text/plain": [
       "1"
      ]
     },
     "execution_count": 2,
     "metadata": {},
     "output_type": "execute_result"
    }
   ],
   "source": [
    "t4[0]"
   ]
  },
  {
   "cell_type": "code",
   "execution_count": 3,
   "id": "0ac7057f-f4c1-4665-a58c-7ff747fa36f7",
   "metadata": {},
   "outputs": [
    {
     "data": {
      "text/plain": [
       "'is'"
      ]
     },
     "execution_count": 3,
     "metadata": {},
     "output_type": "execute_result"
    }
   ],
   "source": [
    "t4[3][-1]"
   ]
  },
  {
   "cell_type": "code",
   "execution_count": 4,
   "id": "f193a5a0-1f07-4d80-a26c-4a137aa8d085",
   "metadata": {},
   "outputs": [
    {
     "data": {
      "text/plain": [
       "(1, 2, (3, 4))"
      ]
     },
     "execution_count": 4,
     "metadata": {},
     "output_type": "execute_result"
    }
   ],
   "source": [
    "t4[0:3]"
   ]
  },
  {
   "cell_type": "code",
   "execution_count": 5,
   "id": "d29fedfa-aa4c-4955-95ff-5fba8b8ec3a7",
   "metadata": {},
   "outputs": [],
   "source": [
    "t1 = (1, )"
   ]
  },
  {
   "cell_type": "code",
   "execution_count": 6,
   "id": "718c62c4-a803-446c-b9b1-4a927d46c527",
   "metadata": {},
   "outputs": [],
   "source": [
    "t2 = (1,2,3)"
   ]
  },
  {
   "cell_type": "code",
   "execution_count": 7,
   "id": "2228b294-9964-4ea8-8725-264f971a267f",
   "metadata": {},
   "outputs": [
    {
     "data": {
      "text/plain": [
       "(1, 1, 2, 3)"
      ]
     },
     "execution_count": 7,
     "metadata": {},
     "output_type": "execute_result"
    }
   ],
   "source": [
    "t1 + t2"
   ]
  },
  {
   "cell_type": "code",
   "execution_count": 8,
   "id": "6917090e-d737-4ebb-8595-d26b7547f6f8",
   "metadata": {},
   "outputs": [
    {
     "ename": "TypeError",
     "evalue": "can only concatenate tuple (not \"str\") to tuple",
     "output_type": "error",
     "traceback": [
      "\u001b[1;31m---------------------------------------------------------------------------\u001b[0m",
      "\u001b[1;31mTypeError\u001b[0m                                 Traceback (most recent call last)",
      "Input \u001b[1;32mIn [8]\u001b[0m, in \u001b[0;36m<cell line: 1>\u001b[1;34m()\u001b[0m\n\u001b[1;32m----> 1\u001b[0m \u001b[43mt1\u001b[49m\u001b[43m \u001b[49m\u001b[38;5;241;43m+\u001b[39;49m\u001b[43m \u001b[49m\u001b[38;5;124;43m\"\u001b[39;49m\u001b[38;5;124;43mhi~ ^^;\u001b[39;49m\u001b[38;5;124;43m\"\u001b[39;49m\n",
      "\u001b[1;31mTypeError\u001b[0m: can only concatenate tuple (not \"str\") to tuple"
     ]
    }
   ],
   "source": [
    "t1 + \"hi~ ^^;\""
   ]
  },
  {
   "cell_type": "code",
   "execution_count": 9,
   "id": "aa4acaca-d29c-4f9a-a24d-c95e84dbb854",
   "metadata": {},
   "outputs": [],
   "source": [
    "t2 = (1, 2, 3)"
   ]
  },
  {
   "cell_type": "code",
   "execution_count": 10,
   "id": "519b1c78-a864-478d-8e3e-97c6777de189",
   "metadata": {},
   "outputs": [
    {
     "data": {
      "text/plain": [
       "(1, 2, 3, 1, 2, 3, 1, 2, 3)"
      ]
     },
     "execution_count": 10,
     "metadata": {},
     "output_type": "execute_result"
    }
   ],
   "source": [
    "t2 * 3"
   ]
  },
  {
   "cell_type": "code",
   "execution_count": 11,
   "id": "202cf1f0-c414-4038-ba4f-1b3aa193c553",
   "metadata": {},
   "outputs": [
    {
     "ename": "TypeError",
     "evalue": "'tuple' object does not support item assignment",
     "output_type": "error",
     "traceback": [
      "\u001b[1;31m---------------------------------------------------------------------------\u001b[0m",
      "\u001b[1;31mTypeError\u001b[0m                                 Traceback (most recent call last)",
      "Input \u001b[1;32mIn [11]\u001b[0m, in \u001b[0;36m<cell line: 1>\u001b[1;34m()\u001b[0m\n\u001b[1;32m----> 1\u001b[0m t2[\u001b[38;5;241m2\u001b[39m] \u001b[38;5;241m=\u001b[39m \u001b[38;5;241m99\u001b[39m\n",
      "\u001b[1;31mTypeError\u001b[0m: 'tuple' object does not support item assignment"
     ]
    }
   ],
   "source": [
    "t2[2] = 99"
   ]
  },
  {
   "cell_type": "code",
   "execution_count": 12,
   "id": "c97a19c5-f410-4461-b6c8-baaac90f4f51",
   "metadata": {},
   "outputs": [
    {
     "name": "stdout",
     "output_type": "stream",
     "text": [
      "('apple', 'kiwi', 'cherry')\n"
     ]
    }
   ],
   "source": [
    "x = (\"apple\", \"banana\", \"cherry\")\n",
    "y = list(x)\n",
    "y[1] = \"kiwi\"\n",
    "x = tuple(y)\n",
    "\n",
    "print(x)"
   ]
  },
  {
   "cell_type": "code",
   "execution_count": 13,
   "id": "91d20627-55ce-41ab-8e6f-e8d6fba65ec0",
   "metadata": {},
   "outputs": [],
   "source": [
    "fruits = (\"apple\", \"banana\", \"cherry\")\n",
    "(green, yellow, red) = fruits\n"
   ]
  },
  {
   "cell_type": "code",
   "execution_count": 15,
   "id": "b8416f65-d888-4eaf-b7d5-c8a7006681a4",
   "metadata": {},
   "outputs": [],
   "source": [
    "fruits = [\"apple\", \"banana\", \"cherry\"]\n",
    "[green, yellow, red] = fruits"
   ]
  },
  {
   "cell_type": "code",
   "execution_count": 16,
   "id": "0b79ad57-1a3b-4b18-b6c0-ee214461ea8d",
   "metadata": {},
   "outputs": [],
   "source": [
    "fruits = (\"apple\", \"banana\", \"cherry\", \"strawberry\", \"raspberry\")\n",
    "(green, yellow, *red) = fruits"
   ]
  },
  {
   "cell_type": "code",
   "execution_count": 17,
   "id": "dc67c25c-af40-4650-825e-ff70c9269a62",
   "metadata": {},
   "outputs": [],
   "source": [
    "fruits = (\"apple\", \" mango\", \"papaya\", \"pineapple\", \"cherry\")"
   ]
  },
  {
   "cell_type": "code",
   "execution_count": 18,
   "id": "42c21fce-f6a4-44b2-bf99-4c80c11b907a",
   "metadata": {},
   "outputs": [],
   "source": [
    "(green, *tropic, red) = fruits\n"
   ]
  },
  {
   "cell_type": "code",
   "execution_count": 19,
   "id": "d0a25d1f-2daf-4ce4-801f-1f114db24055",
   "metadata": {},
   "outputs": [
    {
     "data": {
      "text/plain": [
       "{'name': 'Hong', 'phone': '01012345678', 'birth': '0814', 1: 'a', 'pet': 'dog'}"
      ]
     },
     "execution_count": 19,
     "metadata": {},
     "output_type": "execute_result"
    }
   ],
   "source": [
    "dic = {'name':'Hong', 'phone':'01012345678', 'birth':'0814'}\n",
    "dic[1] = 'a'\n",
    "dic['pet'] = 'dog'\n",
    "dic"
   ]
  },
  {
   "cell_type": "code",
   "execution_count": 20,
   "id": "4ac672ec-be87-4377-82a3-8550991fc57b",
   "metadata": {},
   "outputs": [
    {
     "data": {
      "text/plain": [
       "'dog'"
      ]
     },
     "execution_count": 20,
     "metadata": {},
     "output_type": "execute_result"
    }
   ],
   "source": [
    "dic['pet']"
   ]
  },
  {
   "cell_type": "code",
   "execution_count": 21,
   "id": "3cc24616-afce-4a12-9a9f-0ab17f2f9732",
   "metadata": {},
   "outputs": [
    {
     "data": {
      "text/plain": [
       "'dog'"
      ]
     },
     "execution_count": 21,
     "metadata": {},
     "output_type": "execute_result"
    }
   ],
   "source": [
    "dic.get('pet')"
   ]
  },
  {
   "cell_type": "code",
   "execution_count": 22,
   "id": "a8edc998-7b2c-4d6a-b954-7121810be2b1",
   "metadata": {},
   "outputs": [
    {
     "data": {
      "text/plain": [
       "dict_values(['Hong', '01012345678', '0814', 'a', 'dog'])"
      ]
     },
     "execution_count": 22,
     "metadata": {},
     "output_type": "execute_result"
    }
   ],
   "source": [
    "dic.values()"
   ]
  },
  {
   "cell_type": "code",
   "execution_count": 23,
   "id": "2b3e6cf3-44e0-43b2-97b7-70f5a43fcee5",
   "metadata": {},
   "outputs": [
    {
     "data": {
      "text/plain": [
       "['Hong', '01012345678', '0814', 'a', 'dog']"
      ]
     },
     "execution_count": 23,
     "metadata": {},
     "output_type": "execute_result"
    }
   ],
   "source": [
    "list(dic.values())"
   ]
  },
  {
   "cell_type": "code",
   "execution_count": 24,
   "id": "2d8ea71b-dd79-4982-ac9e-823d3edd05a7",
   "metadata": {},
   "outputs": [
    {
     "data": {
      "text/plain": [
       "dict_items([('name', 'Hong'), ('phone', '01012345678'), ('birth', '0814'), (1, 'a'), ('pet', 'dog')])"
      ]
     },
     "execution_count": 24,
     "metadata": {},
     "output_type": "execute_result"
    }
   ],
   "source": [
    "dic.items()"
   ]
  },
  {
   "cell_type": "code",
   "execution_count": 25,
   "id": "939ab3d4-7685-4149-ae37-1c45ac052cb8",
   "metadata": {},
   "outputs": [],
   "source": [
    "dic.clear()"
   ]
  },
  {
   "cell_type": "code",
   "execution_count": 26,
   "id": "ed6acbae-91b1-4616-8de0-5c057dbc3874",
   "metadata": {},
   "outputs": [
    {
     "data": {
      "text/plain": [
       "{}"
      ]
     },
     "execution_count": 26,
     "metadata": {},
     "output_type": "execute_result"
    }
   ],
   "source": [
    "dic"
   ]
  },
  {
   "cell_type": "code",
   "execution_count": null,
   "id": "d8195d8a-d403-435e-89d9-7e52c74b1fc0",
   "metadata": {},
   "outputs": [],
   "source": []
  }
 ],
 "metadata": {
  "kernelspec": {
   "display_name": "Python 3 (ipykernel)",
   "language": "python",
   "name": "python3"
  },
  "language_info": {
   "codemirror_mode": {
    "name": "ipython",
    "version": 3
   },
   "file_extension": ".py",
   "mimetype": "text/x-python",
   "name": "python",
   "nbconvert_exporter": "python",
   "pygments_lexer": "ipython3",
   "version": "3.9.12"
  }
 },
 "nbformat": 4,
 "nbformat_minor": 5
}
