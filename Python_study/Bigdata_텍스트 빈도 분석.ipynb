{
 "cells": [
  {
   "cell_type": "code",
   "execution_count": null,
   "id": "014e8fe0-04d5-4728-bb8e-86695c06b5d8",
   "metadata": {},
   "outputs": [],
   "source": [
    "#한글텍스트 빈도 코드\n",
    "#2018114657_문범수"
   ]
  },
  {
   "cell_type": "code",
   "execution_count": 2,
   "id": "1b6a756c-8d95-4fec-bb48-a123646ed834",
   "metadata": {},
   "outputs": [
    {
     "name": "stdout",
     "output_type": "stream",
     "text": [
      " C 드라이브의 볼륨에는 이름이 없습니다.\n",
      " 볼륨 일련 번호: 18FC-FA93\n",
      "\n",
      " C:\\Users\\munbe 디렉터리\n",
      "\n",
      "2022-11-07  오후 06:09    <DIR>          .\n",
      "2022-11-07  오후 06:09    <DIR>          ..\n",
      "2022-09-19  오후 07:12    <DIR>          .anaconda\n",
      "2022-03-07  오후 06:11    <DIR>          .cache\n",
      "2022-09-19  오후 07:55    <DIR>          .conda\n",
      "2022-09-19  오후 07:11                25 .condarc\n",
      "2021-09-28  오후 05:10    <DIR>          .config\n",
      "2022-09-19  오후 07:11    <DIR>          .continuum\n",
      "2021-05-17  오후 04:50    <DIR>          .designer\n",
      "2022-03-07  오후 06:11    <DIR>          .eclipse\n",
      "2022-11-07  오후 06:07    <DIR>          .ipynb_checkpoints\n",
      "2022-09-19  오후 07:14    <DIR>          .ipython\n",
      "2022-09-19  오후 07:14    <DIR>          .jupyter\n",
      "2022-09-27  오후 06:32    <DIR>          .matplotlib\n",
      "2021-09-28  오후 05:10    <DIR>          .mozilla\n",
      "2022-06-24  오후 07:25    <DIR>          .ms-ad\n",
      "2022-06-19  오후 10:41    <DIR>          .p2\n",
      "2021-09-28  오후 05:10    <DIR>          .Xilinx\n",
      "2020-03-12  오후 02:58    <DIR>          _CommonRedist\n",
      "2020-07-21  오후 11:08    <DIR>          3D Objects\n",
      "2022-10-18  오후 01:29             6,177 6_3_stock_info.ipynb\n",
      "2022-09-27  오후 07:17           105,002 AI-1.ipynb\n",
      "2014-11-25  오후 05:04           238,080 AMPV.dll\n",
      "2022-10-17  오후 06:15    <DIR>          anaconda3\n",
      "2020-07-21  오후 11:04    <DIR>          AppData\n",
      "2016-03-30  오후 03:08               601 AUTORUN.INF\n",
      "2022-10-17  오후 08:37           262,377 Bigdata_10.17.ipynb\n",
      "2022-10-15  오후 10:05               617 Bigdata_api-1.ipynb\n",
      "2022-10-15  오후 10:06             1,033 Bigdata_api-2.ipynb\n",
      "2022-10-16  오후 10:06            33,754 Bigdata_HW1.ipynb\n",
      "2022-10-18  오후 07:54             9,253 Bigdata_HW2.ipynb\n",
      "2022-10-24  오후 03:27            34,773 Bigdata_practice.ipynb\n",
      "2022-11-07  오후 06:09               617 Bigdata_텍스트 빈도 분석.ipynb\n",
      "2022-10-31  오후 10:40           568,783 Bigdata_통계분석.ipynb\n",
      "2022-09-19  오후 08:30            14,654 Bigdata-1.ipynb\n",
      "2022-09-26  오후 08:24            59,882 Bigdata-2.ipynb\n",
      "2014-11-25  오후 05:04            29,926 CD.ico\n",
      "2016-03-31  오전 10:05                70 CD.Ver\n",
      "2022-10-17  오후 07:37               205 CoffeeBean.csv\n",
      "2020-07-21  오후 11:08    <DIR>          Contacts\n",
      "2022-11-05  오후 03:24    <DIR>          Desktop\n",
      "2022-09-19  오후 06:58    <DIR>          Documents\n",
      "2022-11-07  오후 06:01    <DIR>          Downloads\n",
      "2022-03-21  오전 01:29    <DIR>          eclipse\n",
      "2020-03-12  오후 01:38    <DIR>          Engine\n",
      "2020-07-21  오후 11:08    <DIR>          Favorites\n",
      "2020-06-21  오후 09:43                29 Foxit Reader SDK ActiveX.ini\n",
      "2022-09-26  오후 08:10                27 input.txt\n",
      "2022-09-26  오후 08:14                31 input2.txt\n",
      "2022-09-26  오후 08:22                85 input3.txt\n",
      "2022-03-14  오후 06:39                 0 javadoc\n",
      "2013-03-27  오후 05:00            35,182 LICENSE.txt\n",
      "2020-07-21  오후 11:08    <DIR>          Links\n",
      "2020-03-12  오후 03:00    <DIR>          Log\n",
      "2020-08-25  오후 05:56    <DIR>          Music\n",
      "2021-08-09  오후 03:03    <DIR>          OneDrive\n",
      "2021-03-25  오후 03:14    <DIR>          Pictures\n",
      "2017-05-26  오후 03:28    <DIR>          Printer\n",
      "2021-10-26  오전 01:30    <DIR>          project_1\n",
      "2021-12-12  오후 05:41    <DIR>          project_10\n",
      "2021-12-12  오후 05:41    <DIR>          project_11\n",
      "2021-10-26  오전 01:42    <DIR>          project_2\n",
      "2021-10-26  오전 02:11    <DIR>          project_3\n",
      "2021-10-26  오전 02:14    <DIR>          project_4\n",
      "2021-10-26  오전 02:14    <DIR>          project_5\n",
      "2022-05-04  오후 10:58    <DIR>          project_5-2\n",
      "2021-12-12  오후 05:41    <DIR>          project_7\n",
      "2021-12-12  오후 05:41    <DIR>          project_8\n",
      "2021-12-12  오후 05:41    <DIR>          project_9\n",
      "2021-12-12  오후 10:28    <DIR>          project_SHA-1\n",
      "2021-12-12  오후 05:41    <DIR>          project_SHA-2\n",
      "2020-07-21  오후 11:08    <DIR>          Saved Games\n",
      "2022-10-31  오후 07:34    <DIR>          seaborn-data\n",
      "2020-07-21  오후 11:08    <DIR>          Searches\n",
      "2017-05-26  오후 03:28    <DIR>          Setup\n",
      "2017-04-04  오후 09:29         2,007,848 Setup.exe\n",
      "2021-09-06  오후 06:45    <DIR>          source\n",
      "2022-10-16  오후 08:48               182 test.csv\n",
      "2022-10-31  오후 08:09            57,910 titanic.csv\n",
      "2022-10-31  오후 08:09             1,219 titanic_corr.csv\n",
      "2022-10-31  오후 08:09            59,612 titanic3.csv\n",
      "2020-03-12  오후 02:57    <DIR>          TslGame\n",
      "2017-03-24  오후 04:00                55 VERSION.VER\n",
      "2021-11-02  오후 05:48    <DIR>          Videos\n",
      "2022-10-31  오후 08:09           421,528 wine.csv\n",
      "2022-10-31  오후 06:10            84,199 winequality-red.csv\n",
      "2022-10-31  오후 08:09            93,599 winequality-red2.csv\n",
      "2022-10-31  오후 06:10           264,426 winequality-white.csv\n",
      "2022-10-31  오후 08:09           292,287 winequality-white2.csv\n",
      "2022-10-18  오후 07:53           155,193 민주주의서울자유제안.csv\n",
      "2021-06-02  오전 01:06    <DIR>          저장용\n",
      "2021-05-19  오후 02:13             5,610 파일 1.qgz\n",
      "              37개 파일           4,844,851 바이트\n",
      "              55개 디렉터리  131,130,195,968 바이트 남음\n"
     ]
    }
   ],
   "source": [
    "%ls"
   ]
  },
  {
   "cell_type": "code",
   "execution_count": 3,
   "id": "8693cf50-c36c-41a5-8fad-44acef62a9a6",
   "metadata": {},
   "outputs": [
    {
     "ename": "SyntaxError",
     "evalue": "invalid syntax (2797607894.py, line 1)",
     "output_type": "error",
     "traceback": [
      "\u001b[1;36m  Input \u001b[1;32mIn [3]\u001b[1;36m\u001b[0m\n\u001b[1;33m    $ls *.txt\u001b[0m\n\u001b[1;37m    ^\u001b[0m\n\u001b[1;31mSyntaxError\u001b[0m\u001b[1;31m:\u001b[0m invalid syntax\n"
     ]
    }
   ],
   "source": [
    "$ls *.txt"
   ]
  },
  {
   "cell_type": "code",
   "execution_count": 4,
   "id": "1c0ce0dc-81f9-4961-8be6-d311637ef6de",
   "metadata": {},
   "outputs": [
    {
     "name": "stdout",
     "output_type": "stream",
     "text": [
      " C 드라이브의 볼륨에는 이름이 없습니다.\n",
      " 볼륨 일련 번호: 18FC-FA93\n",
      "\n",
      " C:\\Users\\munbe 디렉터리\n",
      "\n",
      "2022-09-26  오후 08:10                27 input.txt\n",
      "2022-09-26  오후 08:14                31 input2.txt\n",
      "2022-09-26  오후 08:22                85 input3.txt\n",
      "2013-03-27  오후 05:00            35,182 LICENSE.txt\n",
      "               4개 파일              35,325 바이트\n",
      "               0개 디렉터리  131,129,384,960 바이트 남음\n"
     ]
    }
   ],
   "source": [
    "ls *.txt"
   ]
  },
  {
   "cell_type": "code",
   "execution_count": 5,
   "id": "1a25713a-b76d-495d-b41c-f8d5e9645208",
   "metadata": {},
   "outputs": [],
   "source": [
    "import glob"
   ]
  },
  {
   "cell_type": "code",
   "execution_count": 6,
   "id": "706da0c7-42bd-4f1e-abba-78a64c504b5f",
   "metadata": {},
   "outputs": [
    {
     "data": {
      "text/plain": [
       "['6_3_stock_info.ipynb',\n",
       " 'AI-1.ipynb',\n",
       " 'Bigdata-1.ipynb',\n",
       " 'Bigdata-2.ipynb',\n",
       " 'Bigdata_10.17.ipynb',\n",
       " 'Bigdata_api-1.ipynb',\n",
       " 'Bigdata_api-2.ipynb',\n",
       " 'Bigdata_HW1.ipynb',\n",
       " 'Bigdata_HW2.ipynb',\n",
       " 'Bigdata_practice.ipynb',\n",
       " 'Bigdata_텍스트 빈도 분석.ipynb',\n",
       " 'Bigdata_통계분석.ipynb']"
      ]
     },
     "execution_count": 6,
     "metadata": {},
     "output_type": "execute_result"
    }
   ],
   "source": [
    "glob.glob('*.ipynb')"
   ]
  },
  {
   "cell_type": "code",
   "execution_count": 7,
   "id": "ff5ffd9b-c289-4919-9b91-122213678db9",
   "metadata": {},
   "outputs": [
    {
     "data": {
      "text/plain": [
       "['anaconda3\\\\pkgs\\\\xlrd-2.0.1-pyhd3eb1b0_0\\\\info\\\\recipe\\\\test.xls',\n",
       " 'anaconda3\\\\pkgs\\\\xlrd-2.0.1-pyhd3eb1b0_0\\\\info\\\\test\\\\test.xls',\n",
       " 'Desktop\\\\자격증\\\\컴활\\\\2-2016버전 액세스\\\\01-액세스 출제유형분석1회\\\\실적.xls',\n",
       " 'Desktop\\\\자격증\\\\컴활\\\\2-2016버전 액세스\\\\03-액세스 출제유형분석3회\\\\납품현황.xls',\n",
       " 'Desktop\\\\자격증\\\\컴활\\\\3-실력다지기(2단계)\\\\07-실력다지기 엑셀4회\\\\실적.xls',\n",
       " 'Desktop\\\\자격증\\\\컴활\\\\3-실력다지기(2단계)\\\\08-실력다지기 액세스4회\\\\실적.xls',\n",
       " 'Desktop\\\\자격증\\\\컴활\\\\4-특강(3단계)\\\\01-시험직전모의고사 엑셀12\\\\성적자료.xls',\n",
       " 'Desktop\\\\자격증\\\\컴활\\\\4-특강(3단계)\\\\08-시험직전모의고사 액세스9\\\\가입정보.xls']"
      ]
     },
     "execution_count": 7,
     "metadata": {},
     "output_type": "execute_result"
    }
   ],
   "source": [
    "glob.glob('**/*.xls', recursive=True)"
   ]
  },
  {
   "cell_type": "code",
   "execution_count": 16,
   "id": "ac9a511a-afe2-4c49-969f-5728f64bf3eb",
   "metadata": {},
   "outputs": [
    {
     "data": {
      "text/plain": [
       "['.\\\\',\n",
       " '.\\\\3D Objects\\\\',\n",
       " '.\\\\anaconda3\\\\',\n",
       " '.\\\\anaconda3\\\\conda-meta\\\\',\n",
       " '.\\\\anaconda3\\\\condabin\\\\',\n",
       " '.\\\\anaconda3\\\\DLLs\\\\',\n",
       " '.\\\\anaconda3\\\\envs\\\\',\n",
       " '.\\\\anaconda3\\\\etc\\\\',\n",
       " '.\\\\anaconda3\\\\etc\\\\fish\\\\',\n",
       " '.\\\\anaconda3\\\\etc\\\\fish\\\\conf.d\\\\',\n",
       " '.\\\\anaconda3\\\\etc\\\\jupyter\\\\',\n",
       " '.\\\\anaconda3\\\\etc\\\\jupyter\\\\jupyter_notebook_config.d\\\\',\n",
       " '.\\\\anaconda3\\\\etc\\\\jupyter\\\\jupyter_server_config.d\\\\',\n",
       " '.\\\\anaconda3\\\\etc\\\\jupyter\\\\nbconfig\\\\',\n",
       " '.\\\\anaconda3\\\\etc\\\\jupyter\\\\nbconfig\\\\notebook.d\\\\',\n",
       " '.\\\\anaconda3\\\\etc\\\\profile.d\\\\',\n",
       " '.\\\\anaconda3\\\\include\\\\',\n",
       " '.\\\\anaconda3\\\\include\\\\cpython\\\\',\n",
       " '.\\\\anaconda3\\\\include\\\\greenlet\\\\',\n",
       " '.\\\\anaconda3\\\\include\\\\internal\\\\',\n",
       " '.\\\\anaconda3\\\\Lib\\\\',\n",
       " '.\\\\anaconda3\\\\Lib\\\\asyncio\\\\',\n",
       " '.\\\\anaconda3\\\\Lib\\\\asyncio\\\\__pycache__\\\\',\n",
       " '.\\\\anaconda3\\\\Lib\\\\collections\\\\',\n",
       " '.\\\\anaconda3\\\\Lib\\\\collections\\\\__pycache__\\\\',\n",
       " '.\\\\anaconda3\\\\Lib\\\\concurrent\\\\',\n",
       " '.\\\\anaconda3\\\\Lib\\\\concurrent\\\\futures\\\\',\n",
       " '.\\\\anaconda3\\\\Lib\\\\concurrent\\\\futures\\\\__pycache__\\\\',\n",
       " '.\\\\anaconda3\\\\Lib\\\\concurrent\\\\__pycache__\\\\',\n",
       " '.\\\\anaconda3\\\\Lib\\\\ctypes\\\\',\n",
       " '.\\\\anaconda3\\\\Lib\\\\ctypes\\\\macholib\\\\',\n",
       " '.\\\\anaconda3\\\\Lib\\\\ctypes\\\\macholib\\\\__pycache__\\\\',\n",
       " '.\\\\anaconda3\\\\Lib\\\\ctypes\\\\test\\\\',\n",
       " '.\\\\anaconda3\\\\Lib\\\\ctypes\\\\test\\\\__pycache__\\\\',\n",
       " '.\\\\anaconda3\\\\Lib\\\\ctypes\\\\__pycache__\\\\',\n",
       " '.\\\\anaconda3\\\\Lib\\\\curses\\\\',\n",
       " '.\\\\anaconda3\\\\Lib\\\\curses\\\\__pycache__\\\\',\n",
       " '.\\\\anaconda3\\\\Lib\\\\dbm\\\\',\n",
       " '.\\\\anaconda3\\\\Lib\\\\dbm\\\\__pycache__\\\\',\n",
       " '.\\\\anaconda3\\\\Lib\\\\distutils\\\\',\n",
       " '.\\\\anaconda3\\\\Lib\\\\distutils\\\\command\\\\',\n",
       " '.\\\\anaconda3\\\\Lib\\\\distutils\\\\command\\\\__pycache__\\\\',\n",
       " '.\\\\anaconda3\\\\Lib\\\\distutils\\\\tests\\\\',\n",
       " '.\\\\anaconda3\\\\Lib\\\\distutils\\\\tests\\\\__pycache__\\\\',\n",
       " '.\\\\anaconda3\\\\Lib\\\\distutils\\\\__pycache__\\\\',\n",
       " '.\\\\anaconda3\\\\Lib\\\\email\\\\',\n",
       " '.\\\\anaconda3\\\\Lib\\\\email\\\\mime\\\\',\n",
       " '.\\\\anaconda3\\\\Lib\\\\email\\\\mime\\\\__pycache__\\\\',\n",
       " '.\\\\anaconda3\\\\Lib\\\\email\\\\__pycache__\\\\',\n",
       " '.\\\\anaconda3\\\\Lib\\\\encodings\\\\',\n",
       " '.\\\\anaconda3\\\\Lib\\\\encodings\\\\__pycache__\\\\',\n",
       " '.\\\\anaconda3\\\\Lib\\\\ensurepip\\\\',\n",
       " '.\\\\anaconda3\\\\Lib\\\\ensurepip\\\\_bundled\\\\',\n",
       " '.\\\\anaconda3\\\\Lib\\\\ensurepip\\\\_bundled\\\\__pycache__\\\\',\n",
       " '.\\\\anaconda3\\\\Lib\\\\ensurepip\\\\__pycache__\\\\',\n",
       " '.\\\\anaconda3\\\\Lib\\\\html\\\\',\n",
       " '.\\\\anaconda3\\\\Lib\\\\html\\\\__pycache__\\\\',\n",
       " '.\\\\anaconda3\\\\Lib\\\\http\\\\',\n",
       " '.\\\\anaconda3\\\\Lib\\\\http\\\\__pycache__\\\\',\n",
       " '.\\\\anaconda3\\\\Lib\\\\idlelib\\\\',\n",
       " '.\\\\anaconda3\\\\Lib\\\\idlelib\\\\Icons\\\\',\n",
       " '.\\\\anaconda3\\\\Lib\\\\idlelib\\\\idle_test\\\\',\n",
       " '.\\\\anaconda3\\\\Lib\\\\idlelib\\\\idle_test\\\\__pycache__\\\\',\n",
       " '.\\\\anaconda3\\\\Lib\\\\idlelib\\\\__pycache__\\\\',\n",
       " '.\\\\anaconda3\\\\Lib\\\\importlib\\\\',\n",
       " '.\\\\anaconda3\\\\Lib\\\\importlib\\\\__pycache__\\\\',\n",
       " '.\\\\anaconda3\\\\Lib\\\\json\\\\',\n",
       " '.\\\\anaconda3\\\\Lib\\\\json\\\\__pycache__\\\\',\n",
       " '.\\\\anaconda3\\\\Lib\\\\lib2to3\\\\',\n",
       " '.\\\\anaconda3\\\\Lib\\\\lib2to3\\\\fixes\\\\',\n",
       " '.\\\\anaconda3\\\\Lib\\\\lib2to3\\\\fixes\\\\__pycache__\\\\',\n",
       " '.\\\\anaconda3\\\\Lib\\\\lib2to3\\\\pgen2\\\\',\n",
       " '.\\\\anaconda3\\\\Lib\\\\lib2to3\\\\pgen2\\\\__pycache__\\\\',\n",
       " '.\\\\anaconda3\\\\Lib\\\\lib2to3\\\\__pycache__\\\\',\n",
       " '.\\\\anaconda3\\\\Lib\\\\logging\\\\',\n",
       " '.\\\\anaconda3\\\\Lib\\\\logging\\\\__pycache__\\\\',\n",
       " '.\\\\anaconda3\\\\Lib\\\\msilib\\\\',\n",
       " '.\\\\anaconda3\\\\Lib\\\\msilib\\\\__pycache__\\\\',\n",
       " '.\\\\anaconda3\\\\Lib\\\\multiprocessing\\\\',\n",
       " '.\\\\anaconda3\\\\Lib\\\\multiprocessing\\\\dummy\\\\',\n",
       " '.\\\\anaconda3\\\\Lib\\\\multiprocessing\\\\dummy\\\\__pycache__\\\\',\n",
       " '.\\\\anaconda3\\\\Lib\\\\multiprocessing\\\\__pycache__\\\\',\n",
       " '.\\\\anaconda3\\\\Lib\\\\pydoc_data\\\\',\n",
       " '.\\\\anaconda3\\\\Lib\\\\pydoc_data\\\\__pycache__\\\\',\n",
       " '.\\\\anaconda3\\\\Lib\\\\site-packages\\\\',\n",
       " '.\\\\anaconda3\\\\Lib\\\\site-packages\\\\adodbapi\\\\',\n",
       " '.\\\\anaconda3\\\\Lib\\\\site-packages\\\\adodbapi\\\\examples\\\\',\n",
       " '.\\\\anaconda3\\\\Lib\\\\site-packages\\\\adodbapi\\\\examples\\\\__pycache__\\\\',\n",
       " '.\\\\anaconda3\\\\Lib\\\\site-packages\\\\adodbapi\\\\test\\\\',\n",
       " '.\\\\anaconda3\\\\Lib\\\\site-packages\\\\adodbapi\\\\test\\\\__pycache__\\\\',\n",
       " '.\\\\anaconda3\\\\Lib\\\\site-packages\\\\adodbapi\\\\__pycache__\\\\',\n",
       " '.\\\\anaconda3\\\\Lib\\\\site-packages\\\\aiohttp\\\\',\n",
       " '.\\\\anaconda3\\\\Lib\\\\site-packages\\\\aiohttp\\\\__pycache__\\\\',\n",
       " '.\\\\anaconda3\\\\Lib\\\\site-packages\\\\aiohttp-3.8.1.dist-info\\\\',\n",
       " '.\\\\anaconda3\\\\Lib\\\\site-packages\\\\aiosignal\\\\',\n",
       " '.\\\\anaconda3\\\\Lib\\\\site-packages\\\\aiosignal\\\\__pycache__\\\\',\n",
       " '.\\\\anaconda3\\\\Lib\\\\site-packages\\\\aiosignal-1.2.0.dist-info\\\\',\n",
       " '.\\\\anaconda3\\\\Lib\\\\site-packages\\\\alabaster\\\\',\n",
       " '.\\\\anaconda3\\\\Lib\\\\site-packages\\\\alabaster\\\\static\\\\',\n",
       " '.\\\\anaconda3\\\\Lib\\\\site-packages\\\\alabaster\\\\__pycache__\\\\',\n",
       " '.\\\\anaconda3\\\\Lib\\\\site-packages\\\\alabaster-0.7.12.dist-info\\\\',\n",
       " '.\\\\anaconda3\\\\Lib\\\\site-packages\\\\anaconda_client-1.9.0.dist-info\\\\',\n",
       " '.\\\\anaconda3\\\\Lib\\\\site-packages\\\\anaconda_navigator\\\\',\n",
       " '.\\\\anaconda3\\\\Lib\\\\site-packages\\\\anaconda_navigator\\\\api\\\\',\n",
       " '.\\\\anaconda3\\\\Lib\\\\site-packages\\\\anaconda_navigator\\\\api\\\\external_apps\\\\',\n",
       " '.\\\\anaconda3\\\\Lib\\\\site-packages\\\\anaconda_navigator\\\\api\\\\external_apps\\\\__pycache__\\\\',\n",
       " '.\\\\anaconda3\\\\Lib\\\\site-packages\\\\anaconda_navigator\\\\api\\\\nucleus\\\\',\n",
       " '.\\\\anaconda3\\\\Lib\\\\site-packages\\\\anaconda_navigator\\\\api\\\\nucleus\\\\tools\\\\',\n",
       " '.\\\\anaconda3\\\\Lib\\\\site-packages\\\\anaconda_navigator\\\\api\\\\nucleus\\\\tools\\\\__pycache__\\\\',\n",
       " '.\\\\anaconda3\\\\Lib\\\\site-packages\\\\anaconda_navigator\\\\api\\\\nucleus\\\\utilities\\\\',\n",
       " '.\\\\anaconda3\\\\Lib\\\\site-packages\\\\anaconda_navigator\\\\api\\\\nucleus\\\\utilities\\\\__pycache__\\\\',\n",
       " '.\\\\anaconda3\\\\Lib\\\\site-packages\\\\anaconda_navigator\\\\api\\\\nucleus\\\\__pycache__\\\\',\n",
       " '.\\\\anaconda3\\\\Lib\\\\site-packages\\\\anaconda_navigator\\\\api\\\\__pycache__\\\\',\n",
       " '.\\\\anaconda3\\\\Lib\\\\site-packages\\\\anaconda_navigator\\\\app\\\\',\n",
       " '.\\\\anaconda3\\\\Lib\\\\site-packages\\\\anaconda_navigator\\\\app\\\\icons\\\\',\n",
       " '.\\\\anaconda3\\\\Lib\\\\site-packages\\\\anaconda_navigator\\\\app\\\\icons\\\\__pycache__\\\\',\n",
       " '.\\\\anaconda3\\\\Lib\\\\site-packages\\\\anaconda_navigator\\\\app\\\\__pycache__\\\\',\n",
       " '.\\\\anaconda3\\\\Lib\\\\site-packages\\\\anaconda_navigator\\\\config\\\\',\n",
       " '.\\\\anaconda3\\\\Lib\\\\site-packages\\\\anaconda_navigator\\\\config\\\\__pycache__\\\\',\n",
       " '.\\\\anaconda3\\\\Lib\\\\site-packages\\\\anaconda_navigator\\\\external\\\\',\n",
       " '.\\\\anaconda3\\\\Lib\\\\site-packages\\\\anaconda_navigator\\\\external\\\\binaryornot\\\\',\n",
       " '.\\\\anaconda3\\\\Lib\\\\site-packages\\\\anaconda_navigator\\\\external\\\\binaryornot\\\\__pycache__\\\\',\n",
       " '.\\\\anaconda3\\\\Lib\\\\site-packages\\\\anaconda_navigator\\\\external\\\\UniversalAnalytics\\\\',\n",
       " '.\\\\anaconda3\\\\Lib\\\\site-packages\\\\anaconda_navigator\\\\external\\\\UniversalAnalytics\\\\__pycache__\\\\',\n",
       " '.\\\\anaconda3\\\\Lib\\\\site-packages\\\\anaconda_navigator\\\\external\\\\__pycache__\\\\',\n",
       " '.\\\\anaconda3\\\\Lib\\\\site-packages\\\\anaconda_navigator\\\\static\\\\',\n",
       " '.\\\\anaconda3\\\\Lib\\\\site-packages\\\\anaconda_navigator\\\\static\\\\content\\\\',\n",
       " '.\\\\anaconda3\\\\Lib\\\\site-packages\\\\anaconda_navigator\\\\static\\\\content\\\\__pycache__\\\\',\n",
       " '.\\\\anaconda3\\\\Lib\\\\site-packages\\\\anaconda_navigator\\\\static\\\\css\\\\',\n",
       " '.\\\\anaconda3\\\\Lib\\\\site-packages\\\\anaconda_navigator\\\\static\\\\css\\\\__pycache__\\\\',\n",
       " '.\\\\anaconda3\\\\Lib\\\\site-packages\\\\anaconda_navigator\\\\static\\\\fonts\\\\',\n",
       " '.\\\\anaconda3\\\\Lib\\\\site-packages\\\\anaconda_navigator\\\\static\\\\fonts\\\\__pycache__\\\\',\n",
       " '.\\\\anaconda3\\\\Lib\\\\site-packages\\\\anaconda_navigator\\\\static\\\\images\\\\',\n",
       " '.\\\\anaconda3\\\\Lib\\\\site-packages\\\\anaconda_navigator\\\\static\\\\images\\\\icons\\\\',\n",
       " '.\\\\anaconda3\\\\Lib\\\\site-packages\\\\anaconda_navigator\\\\static\\\\images\\\\logos\\\\',\n",
       " '.\\\\anaconda3\\\\Lib\\\\site-packages\\\\anaconda_navigator\\\\static\\\\images\\\\__pycache__\\\\',\n",
       " '.\\\\anaconda3\\\\Lib\\\\site-packages\\\\anaconda_navigator\\\\static\\\\scripts\\\\',\n",
       " '.\\\\anaconda3\\\\Lib\\\\site-packages\\\\anaconda_navigator\\\\static\\\\scripts\\\\__pycache__\\\\',\n",
       " '.\\\\anaconda3\\\\Lib\\\\site-packages\\\\anaconda_navigator\\\\static\\\\__pycache__\\\\',\n",
       " '.\\\\anaconda3\\\\Lib\\\\site-packages\\\\anaconda_navigator\\\\utils\\\\',\n",
       " '.\\\\anaconda3\\\\Lib\\\\site-packages\\\\anaconda_navigator\\\\utils\\\\anaconda_solvers\\\\',\n",
       " '.\\\\anaconda3\\\\Lib\\\\site-packages\\\\anaconda_navigator\\\\utils\\\\anaconda_solvers\\\\__pycache__\\\\',\n",
       " '.\\\\anaconda3\\\\Lib\\\\site-packages\\\\anaconda_navigator\\\\utils\\\\conda\\\\',\n",
       " '.\\\\anaconda3\\\\Lib\\\\site-packages\\\\anaconda_navigator\\\\utils\\\\conda\\\\solvers\\\\',\n",
       " '.\\\\anaconda3\\\\Lib\\\\site-packages\\\\anaconda_navigator\\\\utils\\\\conda\\\\solvers\\\\__pycache__\\\\',\n",
       " '.\\\\anaconda3\\\\Lib\\\\site-packages\\\\anaconda_navigator\\\\utils\\\\conda\\\\__pycache__\\\\',\n",
       " '.\\\\anaconda3\\\\Lib\\\\site-packages\\\\anaconda_navigator\\\\utils\\\\__pycache__\\\\',\n",
       " '.\\\\anaconda3\\\\Lib\\\\site-packages\\\\anaconda_navigator\\\\widgets\\\\',\n",
       " '.\\\\anaconda3\\\\Lib\\\\site-packages\\\\anaconda_navigator\\\\widgets\\\\dialogs\\\\',\n",
       " '.\\\\anaconda3\\\\Lib\\\\site-packages\\\\anaconda_navigator\\\\widgets\\\\dialogs\\\\environment\\\\',\n",
       " '.\\\\anaconda3\\\\Lib\\\\site-packages\\\\anaconda_navigator\\\\widgets\\\\dialogs\\\\environment\\\\__pycache__\\\\',\n",
       " '.\\\\anaconda3\\\\Lib\\\\site-packages\\\\anaconda_navigator\\\\widgets\\\\dialogs\\\\login\\\\',\n",
       " '.\\\\anaconda3\\\\Lib\\\\site-packages\\\\anaconda_navigator\\\\widgets\\\\dialogs\\\\login\\\\__pycache__\\\\',\n",
       " '.\\\\anaconda3\\\\Lib\\\\site-packages\\\\anaconda_navigator\\\\widgets\\\\dialogs\\\\__pycache__\\\\',\n",
       " '.\\\\anaconda3\\\\Lib\\\\site-packages\\\\anaconda_navigator\\\\widgets\\\\lists\\\\',\n",
       " '.\\\\anaconda3\\\\Lib\\\\site-packages\\\\anaconda_navigator\\\\widgets\\\\lists\\\\__pycache__\\\\',\n",
       " '.\\\\anaconda3\\\\Lib\\\\site-packages\\\\anaconda_navigator\\\\widgets\\\\main_window\\\\',\n",
       " '.\\\\anaconda3\\\\Lib\\\\site-packages\\\\anaconda_navigator\\\\widgets\\\\main_window\\\\issue_solvers\\\\',\n",
       " '.\\\\anaconda3\\\\Lib\\\\site-packages\\\\anaconda_navigator\\\\widgets\\\\main_window\\\\issue_solvers\\\\__pycache__\\\\',\n",
       " '.\\\\anaconda3\\\\Lib\\\\site-packages\\\\anaconda_navigator\\\\widgets\\\\main_window\\\\__pycache__\\\\',\n",
       " '.\\\\anaconda3\\\\Lib\\\\site-packages\\\\anaconda_navigator\\\\widgets\\\\manager\\\\',\n",
       " '.\\\\anaconda3\\\\Lib\\\\site-packages\\\\anaconda_navigator\\\\widgets\\\\manager\\\\__pycache__\\\\',\n",
       " '.\\\\anaconda3\\\\Lib\\\\site-packages\\\\anaconda_navigator\\\\widgets\\\\tabs\\\\',\n",
       " '.\\\\anaconda3\\\\Lib\\\\site-packages\\\\anaconda_navigator\\\\widgets\\\\tabs\\\\__pycache__\\\\',\n",
       " '.\\\\anaconda3\\\\Lib\\\\site-packages\\\\anaconda_navigator\\\\widgets\\\\__pycache__\\\\',\n",
       " '.\\\\anaconda3\\\\Lib\\\\site-packages\\\\anaconda_navigator\\\\__pycache__\\\\',\n",
       " '.\\\\anaconda3\\\\Lib\\\\site-packages\\\\anaconda_navigator-2.1.4-py3.9.egg-info\\\\',\n",
       " '.\\\\anaconda3\\\\Lib\\\\site-packages\\\\anaconda_project\\\\',\n",
       " '.\\\\anaconda3\\\\Lib\\\\site-packages\\\\anaconda_project\\\\internal\\\\',\n",
       " '.\\\\anaconda3\\\\Lib\\\\site-packages\\\\anaconda_project\\\\internal\\\\cli\\\\',\n",
       " '.\\\\anaconda3\\\\Lib\\\\site-packages\\\\anaconda_project\\\\internal\\\\cli\\\\test\\\\',\n",
       " '.\\\\anaconda3\\\\Lib\\\\site-packages\\\\anaconda_project\\\\internal\\\\cli\\\\test\\\\__pycache__\\\\',\n",
       " '.\\\\anaconda3\\\\Lib\\\\site-packages\\\\anaconda_project\\\\internal\\\\cli\\\\__pycache__\\\\',\n",
       " '.\\\\anaconda3\\\\Lib\\\\site-packages\\\\anaconda_project\\\\internal\\\\test\\\\',\n",
       " '.\\\\anaconda3\\\\Lib\\\\site-packages\\\\anaconda_project\\\\internal\\\\test\\\\__pycache__\\\\',\n",
       " '.\\\\anaconda3\\\\Lib\\\\site-packages\\\\anaconda_project\\\\internal\\\\__pycache__\\\\',\n",
       " '.\\\\anaconda3\\\\Lib\\\\site-packages\\\\anaconda_project\\\\requirements_registry\\\\',\n",
       " '.\\\\anaconda3\\\\Lib\\\\site-packages\\\\anaconda_project\\\\requirements_registry\\\\providers\\\\',\n",
       " '.\\\\anaconda3\\\\Lib\\\\site-packages\\\\anaconda_project\\\\requirements_registry\\\\providers\\\\test\\\\',\n",
       " '.\\\\anaconda3\\\\Lib\\\\site-packages\\\\anaconda_project\\\\requirements_registry\\\\providers\\\\test\\\\__pycache__\\\\',\n",
       " '.\\\\anaconda3\\\\Lib\\\\site-packages\\\\anaconda_project\\\\requirements_registry\\\\providers\\\\__pycache__\\\\',\n",
       " '.\\\\anaconda3\\\\Lib\\\\site-packages\\\\anaconda_project\\\\requirements_registry\\\\requirements\\\\',\n",
       " '.\\\\anaconda3\\\\Lib\\\\site-packages\\\\anaconda_project\\\\requirements_registry\\\\requirements\\\\test\\\\',\n",
       " '.\\\\anaconda3\\\\Lib\\\\site-packages\\\\anaconda_project\\\\requirements_registry\\\\requirements\\\\test\\\\__pycache__\\\\',\n",
       " '.\\\\anaconda3\\\\Lib\\\\site-packages\\\\anaconda_project\\\\requirements_registry\\\\requirements\\\\__pycache__\\\\',\n",
       " '.\\\\anaconda3\\\\Lib\\\\site-packages\\\\anaconda_project\\\\requirements_registry\\\\test\\\\',\n",
       " '.\\\\anaconda3\\\\Lib\\\\site-packages\\\\anaconda_project\\\\requirements_registry\\\\test\\\\__pycache__\\\\',\n",
       " '.\\\\anaconda3\\\\Lib\\\\site-packages\\\\anaconda_project\\\\requirements_registry\\\\__pycache__\\\\',\n",
       " '.\\\\anaconda3\\\\Lib\\\\site-packages\\\\anaconda_project\\\\test\\\\',\n",
       " '.\\\\anaconda3\\\\Lib\\\\site-packages\\\\anaconda_project\\\\test\\\\__pycache__\\\\',\n",
       " '.\\\\anaconda3\\\\Lib\\\\site-packages\\\\anaconda_project\\\\__pycache__\\\\',\n",
       " '.\\\\anaconda3\\\\Lib\\\\site-packages\\\\anaconda_project-0.10.2.dist-info\\\\',\n",
       " '.\\\\anaconda3\\\\Lib\\\\site-packages\\\\anyio\\\\',\n",
       " '.\\\\anaconda3\\\\Lib\\\\site-packages\\\\anyio\\\\abc\\\\',\n",
       " '.\\\\anaconda3\\\\Lib\\\\site-packages\\\\anyio\\\\abc\\\\__pycache__\\\\',\n",
       " '.\\\\anaconda3\\\\Lib\\\\site-packages\\\\anyio\\\\streams\\\\',\n",
       " '.\\\\anaconda3\\\\Lib\\\\site-packages\\\\anyio\\\\streams\\\\__pycache__\\\\',\n",
       " '.\\\\anaconda3\\\\Lib\\\\site-packages\\\\anyio\\\\_backends\\\\',\n",
       " '.\\\\anaconda3\\\\Lib\\\\site-packages\\\\anyio\\\\_backends\\\\__pycache__\\\\',\n",
       " '.\\\\anaconda3\\\\Lib\\\\site-packages\\\\anyio\\\\_core\\\\',\n",
       " '.\\\\anaconda3\\\\Lib\\\\site-packages\\\\anyio\\\\_core\\\\__pycache__\\\\',\n",
       " '.\\\\anaconda3\\\\Lib\\\\site-packages\\\\anyio\\\\__pycache__\\\\',\n",
       " '.\\\\anaconda3\\\\Lib\\\\site-packages\\\\anyio-3.5.0.dist-info\\\\',\n",
       " '.\\\\anaconda3\\\\Lib\\\\site-packages\\\\appdirs-1.4.4-py3.9.egg-info\\\\',\n",
       " '.\\\\anaconda3\\\\Lib\\\\site-packages\\\\argon2\\\\',\n",
       " '.\\\\anaconda3\\\\Lib\\\\site-packages\\\\argon2\\\\__pycache__\\\\',\n",
       " '.\\\\anaconda3\\\\Lib\\\\site-packages\\\\argon2_cffi-21.3.0.dist-info\\\\',\n",
       " '.\\\\anaconda3\\\\Lib\\\\site-packages\\\\argon2_cffi_bindings-21.2.0.dist-info\\\\',\n",
       " '.\\\\anaconda3\\\\Lib\\\\site-packages\\\\arrow\\\\',\n",
       " '.\\\\anaconda3\\\\Lib\\\\site-packages\\\\arrow\\\\__pycache__\\\\',\n",
       " '.\\\\anaconda3\\\\Lib\\\\site-packages\\\\arrow-1.2.2.dist-info\\\\',\n",
       " '.\\\\anaconda3\\\\Lib\\\\site-packages\\\\astroid\\\\',\n",
       " '.\\\\anaconda3\\\\Lib\\\\site-packages\\\\astroid\\\\brain\\\\',\n",
       " '.\\\\anaconda3\\\\Lib\\\\site-packages\\\\astroid\\\\brain\\\\__pycache__\\\\',\n",
       " '.\\\\anaconda3\\\\Lib\\\\site-packages\\\\astroid\\\\interpreter\\\\',\n",
       " '.\\\\anaconda3\\\\Lib\\\\site-packages\\\\astroid\\\\interpreter\\\\_import\\\\',\n",
       " '.\\\\anaconda3\\\\Lib\\\\site-packages\\\\astroid\\\\interpreter\\\\_import\\\\__pycache__\\\\',\n",
       " '.\\\\anaconda3\\\\Lib\\\\site-packages\\\\astroid\\\\interpreter\\\\__pycache__\\\\',\n",
       " '.\\\\anaconda3\\\\Lib\\\\site-packages\\\\astroid\\\\__pycache__\\\\',\n",
       " '.\\\\anaconda3\\\\Lib\\\\site-packages\\\\astroid-2.6.6.dist-info\\\\',\n",
       " '.\\\\anaconda3\\\\Lib\\\\site-packages\\\\astropy\\\\',\n",
       " '.\\\\anaconda3\\\\Lib\\\\site-packages\\\\astropy\\\\config\\\\',\n",
       " '.\\\\anaconda3\\\\Lib\\\\site-packages\\\\astropy\\\\config\\\\tests\\\\',\n",
       " '.\\\\anaconda3\\\\Lib\\\\site-packages\\\\astropy\\\\config\\\\tests\\\\data\\\\',\n",
       " '.\\\\anaconda3\\\\Lib\\\\site-packages\\\\astropy\\\\config\\\\tests\\\\__pycache__\\\\',\n",
       " '.\\\\anaconda3\\\\Lib\\\\site-packages\\\\astropy\\\\config\\\\__pycache__\\\\',\n",
       " '.\\\\anaconda3\\\\Lib\\\\site-packages\\\\astropy\\\\constants\\\\',\n",
       " '.\\\\anaconda3\\\\Lib\\\\site-packages\\\\astropy\\\\constants\\\\tests\\\\',\n",
       " '.\\\\anaconda3\\\\Lib\\\\site-packages\\\\astropy\\\\constants\\\\tests\\\\__pycache__\\\\',\n",
       " '.\\\\anaconda3\\\\Lib\\\\site-packages\\\\astropy\\\\constants\\\\__pycache__\\\\',\n",
       " '.\\\\anaconda3\\\\Lib\\\\site-packages\\\\astropy\\\\convolution\\\\',\n",
       " '.\\\\anaconda3\\\\Lib\\\\site-packages\\\\astropy\\\\convolution\\\\tests\\\\',\n",
       " '.\\\\anaconda3\\\\Lib\\\\site-packages\\\\astropy\\\\convolution\\\\tests\\\\__pycache__\\\\',\n",
       " '.\\\\anaconda3\\\\Lib\\\\site-packages\\\\astropy\\\\convolution\\\\__pycache__\\\\',\n",
       " '.\\\\anaconda3\\\\Lib\\\\site-packages\\\\astropy\\\\coordinates\\\\',\n",
       " '.\\\\anaconda3\\\\Lib\\\\site-packages\\\\astropy\\\\coordinates\\\\builtin_frames\\\\',\n",
       " '.\\\\anaconda3\\\\Lib\\\\site-packages\\\\astropy\\\\coordinates\\\\builtin_frames\\\\__pycache__\\\\',\n",
       " '.\\\\anaconda3\\\\Lib\\\\site-packages\\\\astropy\\\\coordinates\\\\data\\\\',\n",
       " '.\\\\anaconda3\\\\Lib\\\\site-packages\\\\astropy\\\\coordinates\\\\tests\\\\',\n",
       " '.\\\\anaconda3\\\\Lib\\\\site-packages\\\\astropy\\\\coordinates\\\\tests\\\\accuracy\\\\',\n",
       " '.\\\\anaconda3\\\\Lib\\\\site-packages\\\\astropy\\\\coordinates\\\\tests\\\\accuracy\\\\data\\\\',\n",
       " '.\\\\anaconda3\\\\Lib\\\\site-packages\\\\astropy\\\\coordinates\\\\tests\\\\accuracy\\\\__pycache__\\\\',\n",
       " '.\\\\anaconda3\\\\Lib\\\\site-packages\\\\astropy\\\\coordinates\\\\tests\\\\__pycache__\\\\',\n",
       " '.\\\\anaconda3\\\\Lib\\\\site-packages\\\\astropy\\\\coordinates\\\\__pycache__\\\\',\n",
       " '.\\\\anaconda3\\\\Lib\\\\site-packages\\\\astropy\\\\cosmology\\\\',\n",
       " '.\\\\anaconda3\\\\Lib\\\\site-packages\\\\astropy\\\\cosmology\\\\io\\\\',\n",
       " '.\\\\anaconda3\\\\Lib\\\\site-packages\\\\astropy\\\\cosmology\\\\io\\\\tests\\\\',\n",
       " '.\\\\anaconda3\\\\Lib\\\\site-packages\\\\astropy\\\\cosmology\\\\io\\\\tests\\\\__pycache__\\\\',\n",
       " '.\\\\anaconda3\\\\Lib\\\\site-packages\\\\astropy\\\\cosmology\\\\io\\\\__pycache__\\\\',\n",
       " '.\\\\anaconda3\\\\Lib\\\\site-packages\\\\astropy\\\\cosmology\\\\tests\\\\',\n",
       " '.\\\\anaconda3\\\\Lib\\\\site-packages\\\\astropy\\\\cosmology\\\\tests\\\\mypackage\\\\',\n",
       " '.\\\\anaconda3\\\\Lib\\\\site-packages\\\\astropy\\\\cosmology\\\\tests\\\\mypackage\\\\io\\\\',\n",
       " '.\\\\anaconda3\\\\Lib\\\\site-packages\\\\astropy\\\\cosmology\\\\tests\\\\mypackage\\\\io\\\\tests\\\\',\n",
       " '.\\\\anaconda3\\\\Lib\\\\site-packages\\\\astropy\\\\cosmology\\\\tests\\\\mypackage\\\\io\\\\tests\\\\__pycache__\\\\',\n",
       " '.\\\\anaconda3\\\\Lib\\\\site-packages\\\\astropy\\\\cosmology\\\\tests\\\\mypackage\\\\io\\\\__pycache__\\\\',\n",
       " '.\\\\anaconda3\\\\Lib\\\\site-packages\\\\astropy\\\\cosmology\\\\tests\\\\mypackage\\\\__pycache__\\\\',\n",
       " '.\\\\anaconda3\\\\Lib\\\\site-packages\\\\astropy\\\\cosmology\\\\tests\\\\__pycache__\\\\',\n",
       " '.\\\\anaconda3\\\\Lib\\\\site-packages\\\\astropy\\\\cosmology\\\\__pycache__\\\\',\n",
       " '.\\\\anaconda3\\\\Lib\\\\site-packages\\\\astropy\\\\extern\\\\',\n",
       " '.\\\\anaconda3\\\\Lib\\\\site-packages\\\\astropy\\\\extern\\\\configobj\\\\',\n",
       " '.\\\\anaconda3\\\\Lib\\\\site-packages\\\\astropy\\\\extern\\\\configobj\\\\__pycache__\\\\',\n",
       " '.\\\\anaconda3\\\\Lib\\\\site-packages\\\\astropy\\\\extern\\\\jquery\\\\',\n",
       " '.\\\\anaconda3\\\\Lib\\\\site-packages\\\\astropy\\\\extern\\\\jquery\\\\data\\\\',\n",
       " '.\\\\anaconda3\\\\Lib\\\\site-packages\\\\astropy\\\\extern\\\\jquery\\\\data\\\\css\\\\',\n",
       " '.\\\\anaconda3\\\\Lib\\\\site-packages\\\\astropy\\\\extern\\\\jquery\\\\data\\\\js\\\\',\n",
       " '.\\\\anaconda3\\\\Lib\\\\site-packages\\\\astropy\\\\extern\\\\jquery\\\\__pycache__\\\\',\n",
       " '.\\\\anaconda3\\\\Lib\\\\site-packages\\\\astropy\\\\extern\\\\ply\\\\',\n",
       " '.\\\\anaconda3\\\\Lib\\\\site-packages\\\\astropy\\\\extern\\\\ply\\\\__pycache__\\\\',\n",
       " '.\\\\anaconda3\\\\Lib\\\\site-packages\\\\astropy\\\\extern\\\\__pycache__\\\\',\n",
       " '.\\\\anaconda3\\\\Lib\\\\site-packages\\\\astropy\\\\io\\\\',\n",
       " '.\\\\anaconda3\\\\Lib\\\\site-packages\\\\astropy\\\\io\\\\ascii\\\\',\n",
       " '.\\\\anaconda3\\\\Lib\\\\site-packages\\\\astropy\\\\io\\\\ascii\\\\tests\\\\',\n",
       " '.\\\\anaconda3\\\\Lib\\\\site-packages\\\\astropy\\\\io\\\\ascii\\\\tests\\\\data\\\\',\n",
       " '.\\\\anaconda3\\\\Lib\\\\site-packages\\\\astropy\\\\io\\\\ascii\\\\tests\\\\data\\\\cds\\\\',\n",
       " '.\\\\anaconda3\\\\Lib\\\\site-packages\\\\astropy\\\\io\\\\ascii\\\\tests\\\\data\\\\cds\\\\description\\\\',\n",
       " '.\\\\anaconda3\\\\Lib\\\\site-packages\\\\astropy\\\\io\\\\ascii\\\\tests\\\\data\\\\cds\\\\glob\\\\',\n",
       " '.\\\\anaconda3\\\\Lib\\\\site-packages\\\\astropy\\\\io\\\\ascii\\\\tests\\\\data\\\\cds\\\\multi\\\\',\n",
       " '.\\\\anaconda3\\\\Lib\\\\site-packages\\\\astropy\\\\io\\\\ascii\\\\tests\\\\data\\\\cds\\\\null\\\\',\n",
       " '.\\\\anaconda3\\\\Lib\\\\site-packages\\\\astropy\\\\io\\\\ascii\\\\tests\\\\data\\\\vizier\\\\',\n",
       " '.\\\\anaconda3\\\\Lib\\\\site-packages\\\\astropy\\\\io\\\\ascii\\\\tests\\\\__pycache__\\\\',\n",
       " '.\\\\anaconda3\\\\Lib\\\\site-packages\\\\astropy\\\\io\\\\ascii\\\\__pycache__\\\\',\n",
       " '.\\\\anaconda3\\\\Lib\\\\site-packages\\\\astropy\\\\io\\\\fits\\\\',\n",
       " '.\\\\anaconda3\\\\Lib\\\\site-packages\\\\astropy\\\\io\\\\fits\\\\hdu\\\\',\n",
       " '.\\\\anaconda3\\\\Lib\\\\site-packages\\\\astropy\\\\io\\\\fits\\\\hdu\\\\__pycache__\\\\',\n",
       " '.\\\\anaconda3\\\\Lib\\\\site-packages\\\\astropy\\\\io\\\\fits\\\\scripts\\\\',\n",
       " '.\\\\anaconda3\\\\Lib\\\\site-packages\\\\astropy\\\\io\\\\fits\\\\scripts\\\\__pycache__\\\\',\n",
       " '.\\\\anaconda3\\\\Lib\\\\site-packages\\\\astropy\\\\io\\\\fits\\\\tests\\\\',\n",
       " '.\\\\anaconda3\\\\Lib\\\\site-packages\\\\astropy\\\\io\\\\fits\\\\tests\\\\data\\\\',\n",
       " '.\\\\anaconda3\\\\Lib\\\\site-packages\\\\astropy\\\\io\\\\fits\\\\tests\\\\data\\\\invalid\\\\',\n",
       " '.\\\\anaconda3\\\\Lib\\\\site-packages\\\\astropy\\\\io\\\\fits\\\\tests\\\\__pycache__\\\\',\n",
       " '.\\\\anaconda3\\\\Lib\\\\site-packages\\\\astropy\\\\io\\\\fits\\\\__pycache__\\\\',\n",
       " '.\\\\anaconda3\\\\Lib\\\\site-packages\\\\astropy\\\\io\\\\misc\\\\',\n",
       " '.\\\\anaconda3\\\\Lib\\\\site-packages\\\\astropy\\\\io\\\\misc\\\\asdf\\\\',\n",
       " '.\\\\anaconda3\\\\Lib\\\\site-packages\\\\astropy\\\\io\\\\misc\\\\asdf\\\\data\\\\',\n",
       " '.\\\\anaconda3\\\\Lib\\\\site-packages\\\\astropy\\\\io\\\\misc\\\\asdf\\\\data\\\\schemas\\\\',\n",
       " '.\\\\anaconda3\\\\Lib\\\\site-packages\\\\astropy\\\\io\\\\misc\\\\asdf\\\\data\\\\schemas\\\\astropy.org\\\\',\n",
       " '.\\\\anaconda3\\\\Lib\\\\site-packages\\\\astropy\\\\io\\\\misc\\\\asdf\\\\data\\\\schemas\\\\astropy.org\\\\astropy\\\\',\n",
       " '.\\\\anaconda3\\\\Lib\\\\site-packages\\\\astropy\\\\io\\\\misc\\\\asdf\\\\data\\\\schemas\\\\astropy.org\\\\astropy\\\\coordinates\\\\',\n",
       " '.\\\\anaconda3\\\\Lib\\\\site-packages\\\\astropy\\\\io\\\\misc\\\\asdf\\\\data\\\\schemas\\\\astropy.org\\\\astropy\\\\coordinates\\\\frames\\\\',\n",
       " '.\\\\anaconda3\\\\Lib\\\\site-packages\\\\astropy\\\\io\\\\misc\\\\asdf\\\\data\\\\schemas\\\\astropy.org\\\\astropy\\\\fits\\\\',\n",
       " '.\\\\anaconda3\\\\Lib\\\\site-packages\\\\astropy\\\\io\\\\misc\\\\asdf\\\\data\\\\schemas\\\\astropy.org\\\\astropy\\\\table\\\\',\n",
       " '.\\\\anaconda3\\\\Lib\\\\site-packages\\\\astropy\\\\io\\\\misc\\\\asdf\\\\data\\\\schemas\\\\astropy.org\\\\astropy\\\\time\\\\',\n",
       " '.\\\\anaconda3\\\\Lib\\\\site-packages\\\\astropy\\\\io\\\\misc\\\\asdf\\\\data\\\\schemas\\\\astropy.org\\\\astropy\\\\transform\\\\',\n",
       " '.\\\\anaconda3\\\\Lib\\\\site-packages\\\\astropy\\\\io\\\\misc\\\\asdf\\\\data\\\\schemas\\\\astropy.org\\\\astropy\\\\units\\\\',\n",
       " '.\\\\anaconda3\\\\Lib\\\\site-packages\\\\astropy\\\\io\\\\misc\\\\asdf\\\\tags\\\\',\n",
       " '.\\\\anaconda3\\\\Lib\\\\site-packages\\\\astropy\\\\io\\\\misc\\\\asdf\\\\tags\\\\coordinates\\\\',\n",
       " '.\\\\anaconda3\\\\Lib\\\\site-packages\\\\astropy\\\\io\\\\misc\\\\asdf\\\\tags\\\\coordinates\\\\tests\\\\',\n",
       " '.\\\\anaconda3\\\\Lib\\\\site-packages\\\\astropy\\\\io\\\\misc\\\\asdf\\\\tags\\\\coordinates\\\\tests\\\\__pycache__\\\\',\n",
       " '.\\\\anaconda3\\\\Lib\\\\site-packages\\\\astropy\\\\io\\\\misc\\\\asdf\\\\tags\\\\coordinates\\\\__pycache__\\\\',\n",
       " '.\\\\anaconda3\\\\Lib\\\\site-packages\\\\astropy\\\\io\\\\misc\\\\asdf\\\\tags\\\\fits\\\\',\n",
       " '.\\\\anaconda3\\\\Lib\\\\site-packages\\\\astropy\\\\io\\\\misc\\\\asdf\\\\tags\\\\fits\\\\tests\\\\',\n",
       " '.\\\\anaconda3\\\\Lib\\\\site-packages\\\\astropy\\\\io\\\\misc\\\\asdf\\\\tags\\\\fits\\\\tests\\\\data\\\\',\n",
       " '.\\\\anaconda3\\\\Lib\\\\site-packages\\\\astropy\\\\io\\\\misc\\\\asdf\\\\tags\\\\fits\\\\tests\\\\__pycache__\\\\',\n",
       " '.\\\\anaconda3\\\\Lib\\\\site-packages\\\\astropy\\\\io\\\\misc\\\\asdf\\\\tags\\\\fits\\\\__pycache__\\\\',\n",
       " '.\\\\anaconda3\\\\Lib\\\\site-packages\\\\astropy\\\\io\\\\misc\\\\asdf\\\\tags\\\\table\\\\',\n",
       " '.\\\\anaconda3\\\\Lib\\\\site-packages\\\\astropy\\\\io\\\\misc\\\\asdf\\\\tags\\\\table\\\\tests\\\\',\n",
       " '.\\\\anaconda3\\\\Lib\\\\site-packages\\\\astropy\\\\io\\\\misc\\\\asdf\\\\tags\\\\table\\\\tests\\\\__pycache__\\\\',\n",
       " '.\\\\anaconda3\\\\Lib\\\\site-packages\\\\astropy\\\\io\\\\misc\\\\asdf\\\\tags\\\\table\\\\__pycache__\\\\',\n",
       " '.\\\\anaconda3\\\\Lib\\\\site-packages\\\\astropy\\\\io\\\\misc\\\\asdf\\\\tags\\\\tests\\\\',\n",
       " '.\\\\anaconda3\\\\Lib\\\\site-packages\\\\astropy\\\\io\\\\misc\\\\asdf\\\\tags\\\\tests\\\\__pycache__\\\\',\n",
       " '.\\\\anaconda3\\\\Lib\\\\site-packages\\\\astropy\\\\io\\\\misc\\\\asdf\\\\tags\\\\time\\\\',\n",
       " '.\\\\anaconda3\\\\Lib\\\\site-packages\\\\astropy\\\\io\\\\misc\\\\asdf\\\\tags\\\\time\\\\tests\\\\',\n",
       " '.\\\\anaconda3\\\\Lib\\\\site-packages\\\\astropy\\\\io\\\\misc\\\\asdf\\\\tags\\\\time\\\\tests\\\\__pycache__\\\\',\n",
       " '.\\\\anaconda3\\\\Lib\\\\site-packages\\\\astropy\\\\io\\\\misc\\\\asdf\\\\tags\\\\time\\\\__pycache__\\\\',\n",
       " '.\\\\anaconda3\\\\Lib\\\\site-packages\\\\astropy\\\\io\\\\misc\\\\asdf\\\\tags\\\\transform\\\\',\n",
       " '.\\\\anaconda3\\\\Lib\\\\site-packages\\\\astropy\\\\io\\\\misc\\\\asdf\\\\tags\\\\transform\\\\tests\\\\',\n",
       " '.\\\\anaconda3\\\\Lib\\\\site-packages\\\\astropy\\\\io\\\\misc\\\\asdf\\\\tags\\\\transform\\\\tests\\\\__pycache__\\\\',\n",
       " '.\\\\anaconda3\\\\Lib\\\\site-packages\\\\astropy\\\\io\\\\misc\\\\asdf\\\\tags\\\\transform\\\\__pycache__\\\\',\n",
       " '.\\\\anaconda3\\\\Lib\\\\site-packages\\\\astropy\\\\io\\\\misc\\\\asdf\\\\tags\\\\unit\\\\',\n",
       " '.\\\\anaconda3\\\\Lib\\\\site-packages\\\\astropy\\\\io\\\\misc\\\\asdf\\\\tags\\\\unit\\\\tests\\\\',\n",
       " '.\\\\anaconda3\\\\Lib\\\\site-packages\\\\astropy\\\\io\\\\misc\\\\asdf\\\\tags\\\\unit\\\\tests\\\\__pycache__\\\\',\n",
       " '.\\\\anaconda3\\\\Lib\\\\site-packages\\\\astropy\\\\io\\\\misc\\\\asdf\\\\tags\\\\unit\\\\__pycache__\\\\',\n",
       " '.\\\\anaconda3\\\\Lib\\\\site-packages\\\\astropy\\\\io\\\\misc\\\\asdf\\\\tags\\\\__pycache__\\\\',\n",
       " '.\\\\anaconda3\\\\Lib\\\\site-packages\\\\astropy\\\\io\\\\misc\\\\asdf\\\\tests\\\\',\n",
       " '.\\\\anaconda3\\\\Lib\\\\site-packages\\\\astropy\\\\io\\\\misc\\\\asdf\\\\tests\\\\__pycache__\\\\',\n",
       " '.\\\\anaconda3\\\\Lib\\\\site-packages\\\\astropy\\\\io\\\\misc\\\\asdf\\\\__pycache__\\\\',\n",
       " '.\\\\anaconda3\\\\Lib\\\\site-packages\\\\astropy\\\\io\\\\misc\\\\pandas\\\\',\n",
       " '.\\\\anaconda3\\\\Lib\\\\site-packages\\\\astropy\\\\io\\\\misc\\\\pandas\\\\__pycache__\\\\',\n",
       " '.\\\\anaconda3\\\\Lib\\\\site-packages\\\\astropy\\\\io\\\\misc\\\\tests\\\\',\n",
       " '.\\\\anaconda3\\\\Lib\\\\site-packages\\\\astropy\\\\io\\\\misc\\\\tests\\\\data\\\\',\n",
       " '.\\\\anaconda3\\\\Lib\\\\site-packages\\\\astropy\\\\io\\\\misc\\\\tests\\\\__pycache__\\\\',\n",
       " '.\\\\anaconda3\\\\Lib\\\\site-packages\\\\astropy\\\\io\\\\misc\\\\__pycache__\\\\',\n",
       " '.\\\\anaconda3\\\\Lib\\\\site-packages\\\\astropy\\\\io\\\\registry\\\\',\n",
       " '.\\\\anaconda3\\\\Lib\\\\site-packages\\\\astropy\\\\io\\\\registry\\\\tests\\\\',\n",
       " '.\\\\anaconda3\\\\Lib\\\\site-packages\\\\astropy\\\\io\\\\registry\\\\tests\\\\__pycache__\\\\',\n",
       " '.\\\\anaconda3\\\\Lib\\\\site-packages\\\\astropy\\\\io\\\\registry\\\\__pycache__\\\\',\n",
       " '.\\\\anaconda3\\\\Lib\\\\site-packages\\\\astropy\\\\io\\\\tests\\\\',\n",
       " '.\\\\anaconda3\\\\Lib\\\\site-packages\\\\astropy\\\\io\\\\tests\\\\__pycache__\\\\',\n",
       " '.\\\\anaconda3\\\\Lib\\\\site-packages\\\\astropy\\\\io\\\\votable\\\\',\n",
       " '.\\\\anaconda3\\\\Lib\\\\site-packages\\\\astropy\\\\io\\\\votable\\\\data\\\\',\n",
       " '.\\\\anaconda3\\\\Lib\\\\site-packages\\\\astropy\\\\io\\\\votable\\\\tests\\\\',\n",
       " '.\\\\anaconda3\\\\Lib\\\\site-packages\\\\astropy\\\\io\\\\votable\\\\tests\\\\data\\\\',\n",
       " '.\\\\anaconda3\\\\Lib\\\\site-packages\\\\astropy\\\\io\\\\votable\\\\tests\\\\__pycache__\\\\',\n",
       " '.\\\\anaconda3\\\\Lib\\\\site-packages\\\\astropy\\\\io\\\\votable\\\\validator\\\\',\n",
       " '.\\\\anaconda3\\\\Lib\\\\site-packages\\\\astropy\\\\io\\\\votable\\\\validator\\\\data\\\\',\n",
       " '.\\\\anaconda3\\\\Lib\\\\site-packages\\\\astropy\\\\io\\\\votable\\\\validator\\\\data\\\\urls\\\\',\n",
       " '.\\\\anaconda3\\\\Lib\\\\site-packages\\\\astropy\\\\io\\\\votable\\\\validator\\\\__pycache__\\\\',\n",
       " '.\\\\anaconda3\\\\Lib\\\\site-packages\\\\astropy\\\\io\\\\votable\\\\__pycache__\\\\',\n",
       " '.\\\\anaconda3\\\\Lib\\\\site-packages\\\\astropy\\\\io\\\\__pycache__\\\\',\n",
       " '.\\\\anaconda3\\\\Lib\\\\site-packages\\\\astropy\\\\modeling\\\\',\n",
       " '.\\\\anaconda3\\\\Lib\\\\site-packages\\\\astropy\\\\modeling\\\\tests\\\\',\n",
       " '.\\\\anaconda3\\\\Lib\\\\site-packages\\\\astropy\\\\modeling\\\\tests\\\\data\\\\',\n",
       " '.\\\\anaconda3\\\\Lib\\\\site-packages\\\\astropy\\\\modeling\\\\tests\\\\data\\\\__pycache__\\\\',\n",
       " '.\\\\anaconda3\\\\Lib\\\\site-packages\\\\astropy\\\\modeling\\\\tests\\\\__pycache__\\\\',\n",
       " '.\\\\anaconda3\\\\Lib\\\\site-packages\\\\astropy\\\\modeling\\\\__pycache__\\\\',\n",
       " '.\\\\anaconda3\\\\Lib\\\\site-packages\\\\astropy\\\\nddata\\\\',\n",
       " '.\\\\anaconda3\\\\Lib\\\\site-packages\\\\astropy\\\\nddata\\\\mixins\\\\',\n",
       " '.\\\\anaconda3\\\\Lib\\\\site-packages\\\\astropy\\\\nddata\\\\mixins\\\\tests\\\\',\n",
       " '.\\\\anaconda3\\\\Lib\\\\site-packages\\\\astropy\\\\nddata\\\\mixins\\\\tests\\\\__pycache__\\\\',\n",
       " '.\\\\anaconda3\\\\Lib\\\\site-packages\\\\astropy\\\\nddata\\\\mixins\\\\__pycache__\\\\',\n",
       " '.\\\\anaconda3\\\\Lib\\\\site-packages\\\\astropy\\\\nddata\\\\tests\\\\',\n",
       " '.\\\\anaconda3\\\\Lib\\\\site-packages\\\\astropy\\\\nddata\\\\tests\\\\data\\\\',\n",
       " '.\\\\anaconda3\\\\Lib\\\\site-packages\\\\astropy\\\\nddata\\\\tests\\\\__pycache__\\\\',\n",
       " '.\\\\anaconda3\\\\Lib\\\\site-packages\\\\astropy\\\\nddata\\\\__pycache__\\\\',\n",
       " '.\\\\anaconda3\\\\Lib\\\\site-packages\\\\astropy\\\\samp\\\\',\n",
       " '.\\\\anaconda3\\\\Lib\\\\site-packages\\\\astropy\\\\samp\\\\data\\\\',\n",
       " '.\\\\anaconda3\\\\Lib\\\\site-packages\\\\astropy\\\\samp\\\\tests\\\\',\n",
       " '.\\\\anaconda3\\\\Lib\\\\site-packages\\\\astropy\\\\samp\\\\tests\\\\__pycache__\\\\',\n",
       " '.\\\\anaconda3\\\\Lib\\\\site-packages\\\\astropy\\\\samp\\\\__pycache__\\\\',\n",
       " '.\\\\anaconda3\\\\Lib\\\\site-packages\\\\astropy\\\\stats\\\\',\n",
       " '.\\\\anaconda3\\\\Lib\\\\site-packages\\\\astropy\\\\stats\\\\bls\\\\',\n",
       " '.\\\\anaconda3\\\\Lib\\\\site-packages\\\\astropy\\\\stats\\\\bls\\\\__pycache__\\\\',\n",
       " '.\\\\anaconda3\\\\Lib\\\\site-packages\\\\astropy\\\\stats\\\\lombscargle\\\\',\n",
       " '.\\\\anaconda3\\\\Lib\\\\site-packages\\\\astropy\\\\stats\\\\lombscargle\\\\__pycache__\\\\',\n",
       " '.\\\\anaconda3\\\\Lib\\\\site-packages\\\\astropy\\\\stats\\\\tests\\\\',\n",
       " '.\\\\anaconda3\\\\Lib\\\\site-packages\\\\astropy\\\\stats\\\\tests\\\\__pycache__\\\\',\n",
       " '.\\\\anaconda3\\\\Lib\\\\site-packages\\\\astropy\\\\stats\\\\__pycache__\\\\',\n",
       " '.\\\\anaconda3\\\\Lib\\\\site-packages\\\\astropy\\\\table\\\\',\n",
       " '.\\\\anaconda3\\\\Lib\\\\site-packages\\\\astropy\\\\table\\\\mixins\\\\',\n",
       " '.\\\\anaconda3\\\\Lib\\\\site-packages\\\\astropy\\\\table\\\\mixins\\\\tests\\\\',\n",
       " '.\\\\anaconda3\\\\Lib\\\\site-packages\\\\astropy\\\\table\\\\mixins\\\\tests\\\\__pycache__\\\\',\n",
       " '.\\\\anaconda3\\\\Lib\\\\site-packages\\\\astropy\\\\table\\\\mixins\\\\__pycache__\\\\',\n",
       " '.\\\\anaconda3\\\\Lib\\\\site-packages\\\\astropy\\\\table\\\\scripts\\\\',\n",
       " '.\\\\anaconda3\\\\Lib\\\\site-packages\\\\astropy\\\\table\\\\scripts\\\\__pycache__\\\\',\n",
       " '.\\\\anaconda3\\\\Lib\\\\site-packages\\\\astropy\\\\table\\\\tests\\\\',\n",
       " '.\\\\anaconda3\\\\Lib\\\\site-packages\\\\astropy\\\\table\\\\tests\\\\__pycache__\\\\',\n",
       " '.\\\\anaconda3\\\\Lib\\\\site-packages\\\\astropy\\\\table\\\\__pycache__\\\\',\n",
       " '.\\\\anaconda3\\\\Lib\\\\site-packages\\\\astropy\\\\tests\\\\',\n",
       " '.\\\\anaconda3\\\\Lib\\\\site-packages\\\\astropy\\\\tests\\\\plugins\\\\',\n",
       " '.\\\\anaconda3\\\\Lib\\\\site-packages\\\\astropy\\\\tests\\\\plugins\\\\__pycache__\\\\',\n",
       " '.\\\\anaconda3\\\\Lib\\\\site-packages\\\\astropy\\\\tests\\\\tests\\\\',\n",
       " '.\\\\anaconda3\\\\Lib\\\\site-packages\\\\astropy\\\\tests\\\\tests\\\\__pycache__\\\\',\n",
       " '.\\\\anaconda3\\\\Lib\\\\site-packages\\\\astropy\\\\tests\\\\__pycache__\\\\',\n",
       " '.\\\\anaconda3\\\\Lib\\\\site-packages\\\\astropy\\\\time\\\\',\n",
       " '.\\\\anaconda3\\\\Lib\\\\site-packages\\\\astropy\\\\time\\\\tests\\\\',\n",
       " '.\\\\anaconda3\\\\Lib\\\\site-packages\\\\astropy\\\\time\\\\tests\\\\__pycache__\\\\',\n",
       " '.\\\\anaconda3\\\\Lib\\\\site-packages\\\\astropy\\\\time\\\\__pycache__\\\\',\n",
       " '.\\\\anaconda3\\\\Lib\\\\site-packages\\\\astropy\\\\timeseries\\\\',\n",
       " '.\\\\anaconda3\\\\Lib\\\\site-packages\\\\astropy\\\\timeseries\\\\io\\\\',\n",
       " '.\\\\anaconda3\\\\Lib\\\\site-packages\\\\astropy\\\\timeseries\\\\io\\\\tests\\\\',\n",
       " '.\\\\anaconda3\\\\Lib\\\\site-packages\\\\astropy\\\\timeseries\\\\io\\\\tests\\\\__pycache__\\\\',\n",
       " '.\\\\anaconda3\\\\Lib\\\\site-packages\\\\astropy\\\\timeseries\\\\io\\\\__pycache__\\\\',\n",
       " '.\\\\anaconda3\\\\Lib\\\\site-packages\\\\astropy\\\\timeseries\\\\periodograms\\\\',\n",
       " '.\\\\anaconda3\\\\Lib\\\\site-packages\\\\astropy\\\\timeseries\\\\periodograms\\\\bls\\\\',\n",
       " '.\\\\anaconda3\\\\Lib\\\\site-packages\\\\astropy\\\\timeseries\\\\periodograms\\\\bls\\\\tests\\\\',\n",
       " '.\\\\anaconda3\\\\Lib\\\\site-packages\\\\astropy\\\\timeseries\\\\periodograms\\\\bls\\\\tests\\\\__pycache__\\\\',\n",
       " '.\\\\anaconda3\\\\Lib\\\\site-packages\\\\astropy\\\\timeseries\\\\periodograms\\\\bls\\\\__pycache__\\\\',\n",
       " '.\\\\anaconda3\\\\Lib\\\\site-packages\\\\astropy\\\\timeseries\\\\periodograms\\\\lombscargle\\\\',\n",
       " '.\\\\anaconda3\\\\Lib\\\\site-packages\\\\astropy\\\\timeseries\\\\periodograms\\\\lombscargle\\\\implementations\\\\',\n",
       " '.\\\\anaconda3\\\\Lib\\\\site-packages\\\\astropy\\\\timeseries\\\\periodograms\\\\lombscargle\\\\implementations\\\\tests\\\\',\n",
       " '.\\\\anaconda3\\\\Lib\\\\site-packages\\\\astropy\\\\timeseries\\\\periodograms\\\\lombscargle\\\\implementations\\\\tests\\\\__pycache__\\\\',\n",
       " '.\\\\anaconda3\\\\Lib\\\\site-packages\\\\astropy\\\\timeseries\\\\periodograms\\\\lombscargle\\\\implementations\\\\__pycache__\\\\',\n",
       " '.\\\\anaconda3\\\\Lib\\\\site-packages\\\\astropy\\\\timeseries\\\\periodograms\\\\lombscargle\\\\tests\\\\',\n",
       " '.\\\\anaconda3\\\\Lib\\\\site-packages\\\\astropy\\\\timeseries\\\\periodograms\\\\lombscargle\\\\tests\\\\__pycache__\\\\',\n",
       " '.\\\\anaconda3\\\\Lib\\\\site-packages\\\\astropy\\\\timeseries\\\\periodograms\\\\lombscargle\\\\__pycache__\\\\',\n",
       " '.\\\\anaconda3\\\\Lib\\\\site-packages\\\\astropy\\\\timeseries\\\\periodograms\\\\__pycache__\\\\',\n",
       " '.\\\\anaconda3\\\\Lib\\\\site-packages\\\\astropy\\\\timeseries\\\\tests\\\\',\n",
       " '.\\\\anaconda3\\\\Lib\\\\site-packages\\\\astropy\\\\timeseries\\\\tests\\\\data\\\\',\n",
       " '.\\\\anaconda3\\\\Lib\\\\site-packages\\\\astropy\\\\timeseries\\\\tests\\\\__pycache__\\\\',\n",
       " '.\\\\anaconda3\\\\Lib\\\\site-packages\\\\astropy\\\\timeseries\\\\__pycache__\\\\',\n",
       " '.\\\\anaconda3\\\\Lib\\\\site-packages\\\\astropy\\\\uncertainty\\\\',\n",
       " '.\\\\anaconda3\\\\Lib\\\\site-packages\\\\astropy\\\\uncertainty\\\\tests\\\\',\n",
       " '.\\\\anaconda3\\\\Lib\\\\site-packages\\\\astropy\\\\uncertainty\\\\tests\\\\__pycache__\\\\',\n",
       " '.\\\\anaconda3\\\\Lib\\\\site-packages\\\\astropy\\\\uncertainty\\\\__pycache__\\\\',\n",
       " '.\\\\anaconda3\\\\Lib\\\\site-packages\\\\astropy\\\\units\\\\',\n",
       " '.\\\\anaconda3\\\\Lib\\\\site-packages\\\\astropy\\\\units\\\\format\\\\',\n",
       " '.\\\\anaconda3\\\\Lib\\\\site-packages\\\\astropy\\\\units\\\\format\\\\__pycache__\\\\',\n",
       " '.\\\\anaconda3\\\\Lib\\\\site-packages\\\\astropy\\\\units\\\\function\\\\',\n",
       " '.\\\\anaconda3\\\\Lib\\\\site-packages\\\\astropy\\\\units\\\\function\\\\__pycache__\\\\',\n",
       " '.\\\\anaconda3\\\\Lib\\\\site-packages\\\\astropy\\\\units\\\\quantity_helper\\\\',\n",
       " '.\\\\anaconda3\\\\Lib\\\\site-packages\\\\astropy\\\\units\\\\quantity_helper\\\\__pycache__\\\\',\n",
       " '.\\\\anaconda3\\\\Lib\\\\site-packages\\\\astropy\\\\units\\\\tests\\\\',\n",
       " '.\\\\anaconda3\\\\Lib\\\\site-packages\\\\astropy\\\\units\\\\tests\\\\__pycache__\\\\',\n",
       " '.\\\\anaconda3\\\\Lib\\\\site-packages\\\\astropy\\\\units\\\\__pycache__\\\\',\n",
       " '.\\\\anaconda3\\\\Lib\\\\site-packages\\\\astropy\\\\utils\\\\',\n",
       " '.\\\\anaconda3\\\\Lib\\\\site-packages\\\\astropy\\\\utils\\\\compat\\\\',\n",
       " '.\\\\anaconda3\\\\Lib\\\\site-packages\\\\astropy\\\\utils\\\\compat\\\\__pycache__\\\\',\n",
       " '.\\\\anaconda3\\\\Lib\\\\site-packages\\\\astropy\\\\utils\\\\iers\\\\',\n",
       " '.\\\\anaconda3\\\\Lib\\\\site-packages\\\\astropy\\\\utils\\\\iers\\\\data\\\\',\n",
       " '.\\\\anaconda3\\\\Lib\\\\site-packages\\\\astropy\\\\utils\\\\iers\\\\tests\\\\',\n",
       " '.\\\\anaconda3\\\\Lib\\\\site-packages\\\\astropy\\\\utils\\\\iers\\\\tests\\\\data\\\\',\n",
       " '.\\\\anaconda3\\\\Lib\\\\site-packages\\\\astropy\\\\utils\\\\iers\\\\tests\\\\__pycache__\\\\',\n",
       " '.\\\\anaconda3\\\\Lib\\\\site-packages\\\\astropy\\\\utils\\\\iers\\\\__pycache__\\\\',\n",
       " '.\\\\anaconda3\\\\Lib\\\\site-packages\\\\astropy\\\\utils\\\\masked\\\\',\n",
       " '.\\\\anaconda3\\\\Lib\\\\site-packages\\\\astropy\\\\utils\\\\masked\\\\tests\\\\',\n",
       " '.\\\\anaconda3\\\\Lib\\\\site-packages\\\\astropy\\\\utils\\\\masked\\\\tests\\\\__pycache__\\\\',\n",
       " '.\\\\anaconda3\\\\Lib\\\\site-packages\\\\astropy\\\\utils\\\\masked\\\\__pycache__\\\\',\n",
       " '.\\\\anaconda3\\\\Lib\\\\site-packages\\\\astropy\\\\utils\\\\tests\\\\',\n",
       " '.\\\\anaconda3\\\\Lib\\\\site-packages\\\\astropy\\\\utils\\\\tests\\\\data\\\\',\n",
       " '.\\\\anaconda3\\\\Lib\\\\site-packages\\\\astropy\\\\utils\\\\tests\\\\data\\\\dataurl\\\\',\n",
       " '.\\\\anaconda3\\\\Lib\\\\site-packages\\\\astropy\\\\utils\\\\tests\\\\data\\\\dataurl_mirror\\\\',\n",
       " '.\\\\anaconda3\\\\Lib\\\\site-packages\\\\astropy\\\\utils\\\\tests\\\\data\\\\test_package\\\\',\n",
       " '.\\\\anaconda3\\\\Lib\\\\site-packages\\\\astropy\\\\utils\\\\tests\\\\data\\\\test_package\\\\data\\\\',\n",
       " '.\\\\anaconda3\\\\Lib\\\\site-packages\\\\astropy\\\\utils\\\\tests\\\\data\\\\test_package\\\\__pycache__\\\\',\n",
       " '.\\\\anaconda3\\\\Lib\\\\site-packages\\\\astropy\\\\utils\\\\tests\\\\__pycache__\\\\',\n",
       " '.\\\\anaconda3\\\\Lib\\\\site-packages\\\\astropy\\\\utils\\\\xml\\\\',\n",
       " '.\\\\anaconda3\\\\Lib\\\\site-packages\\\\astropy\\\\utils\\\\xml\\\\tests\\\\',\n",
       " '.\\\\anaconda3\\\\Lib\\\\site-packages\\\\astropy\\\\utils\\\\xml\\\\tests\\\\__pycache__\\\\',\n",
       " '.\\\\anaconda3\\\\Lib\\\\site-packages\\\\astropy\\\\utils\\\\xml\\\\__pycache__\\\\',\n",
       " '.\\\\anaconda3\\\\Lib\\\\site-packages\\\\astropy\\\\utils\\\\__pycache__\\\\',\n",
       " '.\\\\anaconda3\\\\Lib\\\\site-packages\\\\astropy\\\\visualization\\\\',\n",
       " '.\\\\anaconda3\\\\Lib\\\\site-packages\\\\astropy\\\\visualization\\\\scripts\\\\',\n",
       " '.\\\\anaconda3\\\\Lib\\\\site-packages\\\\astropy\\\\visualization\\\\scripts\\\\tests\\\\',\n",
       " '.\\\\anaconda3\\\\Lib\\\\site-packages\\\\astropy\\\\visualization\\\\scripts\\\\tests\\\\__pycache__\\\\',\n",
       " '.\\\\anaconda3\\\\Lib\\\\site-packages\\\\astropy\\\\visualization\\\\scripts\\\\__pycache__\\\\',\n",
       " '.\\\\anaconda3\\\\Lib\\\\site-packages\\\\astropy\\\\visualization\\\\tests\\\\',\n",
       " '.\\\\anaconda3\\\\Lib\\\\site-packages\\\\astropy\\\\visualization\\\\tests\\\\__pycache__\\\\',\n",
       " '.\\\\anaconda3\\\\Lib\\\\site-packages\\\\astropy\\\\visualization\\\\wcsaxes\\\\',\n",
       " '.\\\\anaconda3\\\\Lib\\\\site-packages\\\\astropy\\\\visualization\\\\wcsaxes\\\\tests\\\\',\n",
       " '.\\\\anaconda3\\\\Lib\\\\site-packages\\\\astropy\\\\visualization\\\\wcsaxes\\\\tests\\\\data\\\\',\n",
       " '.\\\\anaconda3\\\\Lib\\\\site-packages\\\\astropy\\\\visualization\\\\wcsaxes\\\\tests\\\\__pycache__\\\\',\n",
       " '.\\\\anaconda3\\\\Lib\\\\site-packages\\\\astropy\\\\visualization\\\\wcsaxes\\\\__pycache__\\\\',\n",
       " '.\\\\anaconda3\\\\Lib\\\\site-packages\\\\astropy\\\\visualization\\\\__pycache__\\\\',\n",
       " '.\\\\anaconda3\\\\Lib\\\\site-packages\\\\astropy\\\\wcs\\\\',\n",
       " '.\\\\anaconda3\\\\Lib\\\\site-packages\\\\astropy\\\\wcs\\\\include\\\\',\n",
       " '.\\\\anaconda3\\\\Lib\\\\site-packages\\\\astropy\\\\wcs\\\\include\\\\astropy_wcs\\\\',\n",
       " '.\\\\anaconda3\\\\Lib\\\\site-packages\\\\astropy\\\\wcs\\\\include\\\\wcslib\\\\',\n",
       " '.\\\\anaconda3\\\\Lib\\\\site-packages\\\\astropy\\\\wcs\\\\tests\\\\',\n",
       " '.\\\\anaconda3\\\\Lib\\\\site-packages\\\\astropy\\\\wcs\\\\tests\\\\data\\\\',\n",
       " '.\\\\anaconda3\\\\Lib\\\\site-packages\\\\astropy\\\\wcs\\\\tests\\\\data\\\\maps\\\\',\n",
       " '.\\\\anaconda3\\\\Lib\\\\site-packages\\\\astropy\\\\wcs\\\\tests\\\\data\\\\spectra\\\\',\n",
       " '.\\\\anaconda3\\\\Lib\\\\site-packages\\\\astropy\\\\wcs\\\\tests\\\\__pycache__\\\\',\n",
       " '.\\\\anaconda3\\\\Lib\\\\site-packages\\\\astropy\\\\wcs\\\\wcsapi\\\\',\n",
       " '.\\\\anaconda3\\\\Lib\\\\site-packages\\\\astropy\\\\wcs\\\\wcsapi\\\\data\\\\',\n",
       " '.\\\\anaconda3\\\\Lib\\\\site-packages\\\\astropy\\\\wcs\\\\wcsapi\\\\tests\\\\',\n",
       " '.\\\\anaconda3\\\\Lib\\\\site-packages\\\\astropy\\\\wcs\\\\wcsapi\\\\tests\\\\__pycache__\\\\',\n",
       " '.\\\\anaconda3\\\\Lib\\\\site-packages\\\\astropy\\\\wcs\\\\wcsapi\\\\wrappers\\\\',\n",
       " '.\\\\anaconda3\\\\Lib\\\\site-packages\\\\astropy\\\\wcs\\\\wcsapi\\\\wrappers\\\\tests\\\\',\n",
       " '.\\\\anaconda3\\\\Lib\\\\site-packages\\\\astropy\\\\wcs\\\\wcsapi\\\\wrappers\\\\tests\\\\__pycache__\\\\',\n",
       " '.\\\\anaconda3\\\\Lib\\\\site-packages\\\\astropy\\\\wcs\\\\wcsapi\\\\wrappers\\\\__pycache__\\\\',\n",
       " '.\\\\anaconda3\\\\Lib\\\\site-packages\\\\astropy\\\\wcs\\\\wcsapi\\\\__pycache__\\\\',\n",
       " '.\\\\anaconda3\\\\Lib\\\\site-packages\\\\astropy\\\\wcs\\\\__pycache__\\\\',\n",
       " '.\\\\anaconda3\\\\Lib\\\\site-packages\\\\astropy\\\\_erfa\\\\',\n",
       " '.\\\\anaconda3\\\\Lib\\\\site-packages\\\\astropy\\\\_erfa\\\\__pycache__\\\\',\n",
       " '.\\\\anaconda3\\\\Lib\\\\site-packages\\\\astropy\\\\__pycache__\\\\',\n",
       " '.\\\\anaconda3\\\\Lib\\\\site-packages\\\\astropy-5.0.4.dist-info\\\\',\n",
       " '.\\\\anaconda3\\\\Lib\\\\site-packages\\\\asttokens\\\\',\n",
       " '.\\\\anaconda3\\\\Lib\\\\site-packages\\\\asttokens\\\\__pycache__\\\\',\n",
       " '.\\\\anaconda3\\\\Lib\\\\site-packages\\\\asttokens-2.0.5.dist-info\\\\',\n",
       " '.\\\\anaconda3\\\\Lib\\\\site-packages\\\\async_generator\\\\',\n",
       " '.\\\\anaconda3\\\\Lib\\\\site-packages\\\\async_generator\\\\_tests\\\\',\n",
       " '.\\\\anaconda3\\\\Lib\\\\site-packages\\\\async_generator\\\\_tests\\\\__pycache__\\\\',\n",
       " '.\\\\anaconda3\\\\Lib\\\\site-packages\\\\async_generator\\\\__pycache__\\\\',\n",
       " '.\\\\anaconda3\\\\Lib\\\\site-packages\\\\async_generator-1.10.dist-info\\\\',\n",
       " '.\\\\anaconda3\\\\Lib\\\\site-packages\\\\async_timeout\\\\',\n",
       " '.\\\\anaconda3\\\\Lib\\\\site-packages\\\\async_timeout\\\\__pycache__\\\\',\n",
       " '.\\\\anaconda3\\\\Lib\\\\site-packages\\\\async_timeout-4.0.1.dist-info\\\\',\n",
       " '.\\\\anaconda3\\\\Lib\\\\site-packages\\\\atomicwrites\\\\',\n",
       " '.\\\\anaconda3\\\\Lib\\\\site-packages\\\\atomicwrites\\\\__pycache__\\\\',\n",
       " '.\\\\anaconda3\\\\Lib\\\\site-packages\\\\atomicwrites-1.4.0.dist-info\\\\',\n",
       " '.\\\\anaconda3\\\\Lib\\\\site-packages\\\\attr\\\\',\n",
       " '.\\\\anaconda3\\\\Lib\\\\site-packages\\\\attr\\\\__pycache__\\\\',\n",
       " '.\\\\anaconda3\\\\Lib\\\\site-packages\\\\attrs\\\\',\n",
       " '.\\\\anaconda3\\\\Lib\\\\site-packages\\\\attrs\\\\__pycache__\\\\',\n",
       " '.\\\\anaconda3\\\\Lib\\\\site-packages\\\\attrs-21.4.0.dist-info\\\\',\n",
       " '.\\\\anaconda3\\\\Lib\\\\site-packages\\\\automat\\\\',\n",
       " '.\\\\anaconda3\\\\Lib\\\\site-packages\\\\automat\\\\_test\\\\',\n",
       " '.\\\\anaconda3\\\\Lib\\\\site-packages\\\\automat\\\\_test\\\\__pycache__\\\\',\n",
       " '.\\\\anaconda3\\\\Lib\\\\site-packages\\\\automat\\\\__pycache__\\\\',\n",
       " '.\\\\anaconda3\\\\Lib\\\\site-packages\\\\Automat-20.2.0.dist-info\\\\',\n",
       " '.\\\\anaconda3\\\\Lib\\\\site-packages\\\\autopep8-1.6.0.dist-info\\\\',\n",
       " '.\\\\anaconda3\\\\Lib\\\\site-packages\\\\babel\\\\',\n",
       " '.\\\\anaconda3\\\\Lib\\\\site-packages\\\\babel\\\\locale-data\\\\',\n",
       " '.\\\\anaconda3\\\\Lib\\\\site-packages\\\\babel\\\\localtime\\\\',\n",
       " '.\\\\anaconda3\\\\Lib\\\\site-packages\\\\babel\\\\localtime\\\\__pycache__\\\\',\n",
       " '.\\\\anaconda3\\\\Lib\\\\site-packages\\\\babel\\\\messages\\\\',\n",
       " '.\\\\anaconda3\\\\Lib\\\\site-packages\\\\babel\\\\messages\\\\__pycache__\\\\',\n",
       " '.\\\\anaconda3\\\\Lib\\\\site-packages\\\\babel\\\\__pycache__\\\\',\n",
       " '.\\\\anaconda3\\\\Lib\\\\site-packages\\\\Babel-2.9.1.dist-info\\\\',\n",
       " '.\\\\anaconda3\\\\Lib\\\\site-packages\\\\backcall\\\\',\n",
       " '.\\\\anaconda3\\\\Lib\\\\site-packages\\\\backcall\\\\__pycache__\\\\',\n",
       " '.\\\\anaconda3\\\\Lib\\\\site-packages\\\\backcall-0.2.0.dist-info\\\\',\n",
       " '.\\\\anaconda3\\\\Lib\\\\site-packages\\\\backports\\\\',\n",
       " '.\\\\anaconda3\\\\Lib\\\\site-packages\\\\backports\\\\__pycache__\\\\',\n",
       " '.\\\\anaconda3\\\\Lib\\\\site-packages\\\\backports.functools_lru_cache-1.6.4.dist-info\\\\',\n",
       " '.\\\\anaconda3\\\\Lib\\\\site-packages\\\\backports.tempfile-1.0.dist-info\\\\',\n",
       " '.\\\\anaconda3\\\\Lib\\\\site-packages\\\\backports.weakref-1.0.post1-py2.7.egg-info\\\\',\n",
       " '.\\\\anaconda3\\\\Lib\\\\site-packages\\\\bcrypt\\\\',\n",
       " '.\\\\anaconda3\\\\Lib\\\\site-packages\\\\bcrypt\\\\__pycache__\\\\',\n",
       " '.\\\\anaconda3\\\\Lib\\\\site-packages\\\\bcrypt-3.2.0.dist-info\\\\',\n",
       " '.\\\\anaconda3\\\\Lib\\\\site-packages\\\\beautifulsoup4-4.11.1.dist-info\\\\',\n",
       " '.\\\\anaconda3\\\\Lib\\\\site-packages\\\\binaryornot\\\\',\n",
       " '.\\\\anaconda3\\\\Lib\\\\site-packages\\\\binaryornot\\\\__pycache__\\\\',\n",
       " '.\\\\anaconda3\\\\Lib\\\\site-packages\\\\binaryornot-0.4.4.dist-info\\\\',\n",
       " '.\\\\anaconda3\\\\Lib\\\\site-packages\\\\binstar_client\\\\',\n",
       " '.\\\\anaconda3\\\\Lib\\\\site-packages\\\\binstar_client\\\\commands\\\\',\n",
       " '.\\\\anaconda3\\\\Lib\\\\site-packages\\\\binstar_client\\\\commands\\\\__pycache__\\\\',\n",
       " '.\\\\anaconda3\\\\Lib\\\\site-packages\\\\binstar_client\\\\inspect_package\\\\',\n",
       " '.\\\\anaconda3\\\\Lib\\\\site-packages\\\\binstar_client\\\\inspect_package\\\\tests\\\\',\n",
       " '.\\\\anaconda3\\\\Lib\\\\site-packages\\\\binstar_client\\\\inspect_package\\\\tests\\\\__pycache__\\\\',\n",
       " '.\\\\anaconda3\\\\Lib\\\\site-packages\\\\binstar_client\\\\inspect_package\\\\__pycache__\\\\',\n",
       " '.\\\\anaconda3\\\\Lib\\\\site-packages\\\\binstar_client\\\\mixins\\\\',\n",
       " '.\\\\anaconda3\\\\Lib\\\\site-packages\\\\binstar_client\\\\mixins\\\\__pycache__\\\\',\n",
       " '.\\\\anaconda3\\\\Lib\\\\site-packages\\\\binstar_client\\\\scripts\\\\',\n",
       " '.\\\\anaconda3\\\\Lib\\\\site-packages\\\\binstar_client\\\\scripts\\\\__pycache__\\\\',\n",
       " '.\\\\anaconda3\\\\Lib\\\\site-packages\\\\binstar_client\\\\tests\\\\',\n",
       " '.\\\\anaconda3\\\\Lib\\\\site-packages\\\\binstar_client\\\\tests\\\\__pycache__\\\\',\n",
       " '.\\\\anaconda3\\\\Lib\\\\site-packages\\\\binstar_client\\\\utils\\\\',\n",
       " '.\\\\anaconda3\\\\Lib\\\\site-packages\\\\binstar_client\\\\utils\\\\notebook\\\\',\n",
       " '.\\\\anaconda3\\\\Lib\\\\site-packages\\\\binstar_client\\\\utils\\\\notebook\\\\tests\\\\',\n",
       " '.\\\\anaconda3\\\\Lib\\\\site-packages\\\\binstar_client\\\\utils\\\\notebook\\\\tests\\\\__pycache__\\\\',\n",
       " '.\\\\anaconda3\\\\Lib\\\\site-packages\\\\binstar_client\\\\utils\\\\notebook\\\\__pycache__\\\\',\n",
       " '.\\\\anaconda3\\\\Lib\\\\site-packages\\\\binstar_client\\\\utils\\\\projects\\\\',\n",
       " '.\\\\anaconda3\\\\Lib\\\\site-packages\\\\binstar_client\\\\utils\\\\projects\\\\__pycache__\\\\',\n",
       " '.\\\\anaconda3\\\\Lib\\\\site-packages\\\\binstar_client\\\\utils\\\\test\\\\',\n",
       " '.\\\\anaconda3\\\\Lib\\\\site-packages\\\\binstar_client\\\\utils\\\\test\\\\__pycache__\\\\',\n",
       " '.\\\\anaconda3\\\\Lib\\\\site-packages\\\\binstar_client\\\\utils\\\\__pycache__\\\\',\n",
       " '.\\\\anaconda3\\\\Lib\\\\site-packages\\\\binstar_client\\\\__pycache__\\\\',\n",
       " '.\\\\anaconda3\\\\Lib\\\\site-packages\\\\bitarray\\\\',\n",
       " '.\\\\anaconda3\\\\Lib\\\\site-packages\\\\bitarray\\\\__pycache__\\\\',\n",
       " '.\\\\anaconda3\\\\Lib\\\\site-packages\\\\bitarray-2.4.1.dist-info\\\\',\n",
       " '.\\\\anaconda3\\\\Lib\\\\site-packages\\\\bkcharts\\\\',\n",
       " '.\\\\anaconda3\\\\Lib\\\\site-packages\\\\bkcharts\\\\builders\\\\',\n",
       " '.\\\\anaconda3\\\\Lib\\\\site-packages\\\\bkcharts\\\\builders\\\\tests\\\\',\n",
       " '.\\\\anaconda3\\\\Lib\\\\site-packages\\\\bkcharts\\\\builders\\\\tests\\\\__pycache__\\\\',\n",
       " '.\\\\anaconda3\\\\Lib\\\\site-packages\\\\bkcharts\\\\builders\\\\__pycache__\\\\',\n",
       " '.\\\\anaconda3\\\\Lib\\\\site-packages\\\\bkcharts\\\\tests\\\\',\n",
       " '.\\\\anaconda3\\\\Lib\\\\site-packages\\\\bkcharts\\\\tests\\\\__pycache__\\\\',\n",
       " '.\\\\anaconda3\\\\Lib\\\\site-packages\\\\bkcharts\\\\__pycache__\\\\',\n",
       " '.\\\\anaconda3\\\\Lib\\\\site-packages\\\\bkcharts-0.2-py3.9.egg-info\\\\',\n",
       " '.\\\\anaconda3\\\\Lib\\\\site-packages\\\\black-19.10b0.dist-info\\\\',\n",
       " '.\\\\anaconda3\\\\Lib\\\\site-packages\\\\bleach\\\\',\n",
       " '.\\\\anaconda3\\\\Lib\\\\site-packages\\\\bleach\\\\_vendor\\\\',\n",
       " '.\\\\anaconda3\\\\Lib\\\\site-packages\\\\bleach\\\\_vendor\\\\html5lib\\\\',\n",
       " '.\\\\anaconda3\\\\Lib\\\\site-packages\\\\bleach\\\\_vendor\\\\html5lib\\\\filters\\\\',\n",
       " '.\\\\anaconda3\\\\Lib\\\\site-packages\\\\bleach\\\\_vendor\\\\html5lib\\\\filters\\\\__pycache__\\\\',\n",
       " '.\\\\anaconda3\\\\Lib\\\\site-packages\\\\bleach\\\\_vendor\\\\html5lib\\\\treeadapters\\\\',\n",
       " '.\\\\anaconda3\\\\Lib\\\\site-packages\\\\bleach\\\\_vendor\\\\html5lib\\\\treeadapters\\\\__pycache__\\\\',\n",
       " '.\\\\anaconda3\\\\Lib\\\\site-packages\\\\bleach\\\\_vendor\\\\html5lib\\\\treebuilders\\\\',\n",
       " '.\\\\anaconda3\\\\Lib\\\\site-packages\\\\bleach\\\\_vendor\\\\html5lib\\\\treebuilders\\\\__pycache__\\\\',\n",
       " '.\\\\anaconda3\\\\Lib\\\\site-packages\\\\bleach\\\\_vendor\\\\html5lib\\\\treewalkers\\\\',\n",
       " '.\\\\anaconda3\\\\Lib\\\\site-packages\\\\bleach\\\\_vendor\\\\html5lib\\\\treewalkers\\\\__pycache__\\\\',\n",
       " '.\\\\anaconda3\\\\Lib\\\\site-packages\\\\bleach\\\\_vendor\\\\html5lib\\\\_trie\\\\',\n",
       " '.\\\\anaconda3\\\\Lib\\\\site-packages\\\\bleach\\\\_vendor\\\\html5lib\\\\_trie\\\\__pycache__\\\\',\n",
       " '.\\\\anaconda3\\\\Lib\\\\site-packages\\\\bleach\\\\_vendor\\\\html5lib\\\\__pycache__\\\\',\n",
       " '.\\\\anaconda3\\\\Lib\\\\site-packages\\\\bleach\\\\_vendor\\\\html5lib-1.1.dist-info\\\\',\n",
       " '.\\\\anaconda3\\\\Lib\\\\site-packages\\\\bleach\\\\_vendor\\\\__pycache__\\\\',\n",
       " '.\\\\anaconda3\\\\Lib\\\\site-packages\\\\bleach\\\\__pycache__\\\\',\n",
       " '.\\\\anaconda3\\\\Lib\\\\site-packages\\\\bleach-4.1.0.dist-info\\\\',\n",
       " '.\\\\anaconda3\\\\Lib\\\\site-packages\\\\blib2to3\\\\',\n",
       " '.\\\\anaconda3\\\\Lib\\\\site-packages\\\\blib2to3\\\\pgen2\\\\',\n",
       " '.\\\\anaconda3\\\\Lib\\\\site-packages\\\\blib2to3\\\\pgen2\\\\__pycache__\\\\',\n",
       " '.\\\\anaconda3\\\\Lib\\\\site-packages\\\\blib2to3\\\\__pycache__\\\\',\n",
       " '.\\\\anaconda3\\\\Lib\\\\site-packages\\\\bokeh\\\\',\n",
       " '.\\\\anaconda3\\\\Lib\\\\site-packages\\\\bokeh\\\\application\\\\',\n",
       " '.\\\\anaconda3\\\\Lib\\\\site-packages\\\\bokeh\\\\application\\\\handlers\\\\',\n",
       " '.\\\\anaconda3\\\\Lib\\\\site-packages\\\\bokeh\\\\application\\\\handlers\\\\__pycache__\\\\',\n",
       " '.\\\\anaconda3\\\\Lib\\\\site-packages\\\\bokeh\\\\application\\\\__pycache__\\\\',\n",
       " '.\\\\anaconda3\\\\Lib\\\\site-packages\\\\bokeh\\\\client\\\\',\n",
       " '.\\\\anaconda3\\\\Lib\\\\site-packages\\\\bokeh\\\\client\\\\__pycache__\\\\',\n",
       " '.\\\\anaconda3\\\\Lib\\\\site-packages\\\\bokeh\\\\colors\\\\',\n",
       " '.\\\\anaconda3\\\\Lib\\\\site-packages\\\\bokeh\\\\colors\\\\__pycache__\\\\',\n",
       " '.\\\\anaconda3\\\\Lib\\\\site-packages\\\\bokeh\\\\command\\\\',\n",
       " '.\\\\anaconda3\\\\Lib\\\\site-packages\\\\bokeh\\\\command\\\\subcommands\\\\',\n",
       " '.\\\\anaconda3\\\\Lib\\\\site-packages\\\\bokeh\\\\command\\\\subcommands\\\\__pycache__\\\\',\n",
       " '.\\\\anaconda3\\\\Lib\\\\site-packages\\\\bokeh\\\\command\\\\__pycache__\\\\',\n",
       " '.\\\\anaconda3\\\\Lib\\\\site-packages\\\\bokeh\\\\core\\\\',\n",
       " '.\\\\anaconda3\\\\Lib\\\\site-packages\\\\bokeh\\\\core\\\\property\\\\',\n",
       " '.\\\\anaconda3\\\\Lib\\\\site-packages\\\\bokeh\\\\core\\\\property\\\\__pycache__\\\\',\n",
       " '.\\\\anaconda3\\\\Lib\\\\site-packages\\\\bokeh\\\\core\\\\validation\\\\',\n",
       " '.\\\\anaconda3\\\\Lib\\\\site-packages\\\\bokeh\\\\core\\\\validation\\\\__pycache__\\\\',\n",
       " '.\\\\anaconda3\\\\Lib\\\\site-packages\\\\bokeh\\\\core\\\\_templates\\\\',\n",
       " '.\\\\anaconda3\\\\Lib\\\\site-packages\\\\bokeh\\\\core\\\\__pycache__\\\\',\n",
       " '.\\\\anaconda3\\\\Lib\\\\site-packages\\\\bokeh\\\\document\\\\',\n",
       " '.\\\\anaconda3\\\\Lib\\\\site-packages\\\\bokeh\\\\document\\\\__pycache__\\\\',\n",
       " '.\\\\anaconda3\\\\Lib\\\\site-packages\\\\bokeh\\\\embed\\\\',\n",
       " '.\\\\anaconda3\\\\Lib\\\\site-packages\\\\bokeh\\\\embed\\\\__pycache__\\\\',\n",
       " '.\\\\anaconda3\\\\Lib\\\\site-packages\\\\bokeh\\\\io\\\\',\n",
       " '.\\\\anaconda3\\\\Lib\\\\site-packages\\\\bokeh\\\\io\\\\__pycache__\\\\',\n",
       " '.\\\\anaconda3\\\\Lib\\\\site-packages\\\\bokeh\\\\model\\\\',\n",
       " '.\\\\anaconda3\\\\Lib\\\\site-packages\\\\bokeh\\\\model\\\\__pycache__\\\\',\n",
       " '.\\\\anaconda3\\\\Lib\\\\site-packages\\\\bokeh\\\\models\\\\',\n",
       " '.\\\\anaconda3\\\\Lib\\\\site-packages\\\\bokeh\\\\models\\\\util\\\\',\n",
       " '.\\\\anaconda3\\\\Lib\\\\site-packages\\\\bokeh\\\\models\\\\util\\\\__pycache__\\\\',\n",
       " '.\\\\anaconda3\\\\Lib\\\\site-packages\\\\bokeh\\\\models\\\\widgets\\\\',\n",
       " '.\\\\anaconda3\\\\Lib\\\\site-packages\\\\bokeh\\\\models\\\\widgets\\\\__pycache__\\\\',\n",
       " '.\\\\anaconda3\\\\Lib\\\\site-packages\\\\bokeh\\\\models\\\\__pycache__\\\\',\n",
       " '.\\\\anaconda3\\\\Lib\\\\site-packages\\\\bokeh\\\\plotting\\\\',\n",
       " '.\\\\anaconda3\\\\Lib\\\\site-packages\\\\bokeh\\\\plotting\\\\__pycache__\\\\',\n",
       " '.\\\\anaconda3\\\\Lib\\\\site-packages\\\\bokeh\\\\protocol\\\\',\n",
       " '.\\\\anaconda3\\\\Lib\\\\site-packages\\\\bokeh\\\\protocol\\\\messages\\\\',\n",
       " '.\\\\anaconda3\\\\Lib\\\\site-packages\\\\bokeh\\\\protocol\\\\messages\\\\__pycache__\\\\',\n",
       " '.\\\\anaconda3\\\\Lib\\\\site-packages\\\\bokeh\\\\protocol\\\\__pycache__\\\\',\n",
       " '.\\\\anaconda3\\\\Lib\\\\site-packages\\\\bokeh\\\\sampledata\\\\',\n",
       " '.\\\\anaconda3\\\\Lib\\\\site-packages\\\\bokeh\\\\sampledata\\\\_data\\\\',\n",
       " '.\\\\anaconda3\\\\Lib\\\\site-packages\\\\bokeh\\\\sampledata\\\\_data\\\\icons\\\\',\n",
       " '.\\\\anaconda3\\\\Lib\\\\site-packages\\\\bokeh\\\\sampledata\\\\__pycache__\\\\',\n",
       " '.\\\\anaconda3\\\\Lib\\\\site-packages\\\\bokeh\\\\server\\\\',\n",
       " '.\\\\anaconda3\\\\Lib\\\\site-packages\\\\bokeh\\\\server\\\\django\\\\',\n",
       " '.\\\\anaconda3\\\\Lib\\\\site-packages\\\\bokeh\\\\server\\\\django\\\\__pycache__\\\\',\n",
       " '.\\\\anaconda3\\\\Lib\\\\site-packages\\\\bokeh\\\\server\\\\static\\\\',\n",
       " '.\\\\anaconda3\\\\Lib\\\\site-packages\\\\bokeh\\\\server\\\\static\\\\js\\\\',\n",
       " '.\\\\anaconda3\\\\Lib\\\\site-packages\\\\bokeh\\\\server\\\\static\\\\js\\\\compiler\\\\',\n",
       " '.\\\\anaconda3\\\\Lib\\\\site-packages\\\\bokeh\\\\server\\\\static\\\\js\\\\lib\\\\',\n",
       " '.\\\\anaconda3\\\\Lib\\\\site-packages\\\\bokeh\\\\server\\\\static\\\\js\\\\lib\\\\api\\\\',\n",
       " '.\\\\anaconda3\\\\Lib\\\\site-packages\\\\bokeh\\\\server\\\\static\\\\js\\\\lib\\\\client\\\\',\n",
       " '.\\\\anaconda3\\\\Lib\\\\site-packages\\\\bokeh\\\\server\\\\static\\\\js\\\\lib\\\\core\\\\',\n",
       " '.\\\\anaconda3\\\\Lib\\\\site-packages\\\\bokeh\\\\server\\\\static\\\\js\\\\lib\\\\core\\\\layout\\\\',\n",
       " '.\\\\anaconda3\\\\Lib\\\\site-packages\\\\bokeh\\\\server\\\\static\\\\js\\\\lib\\\\core\\\\util\\\\',\n",
       " '.\\\\anaconda3\\\\Lib\\\\site-packages\\\\bokeh\\\\server\\\\static\\\\js\\\\lib\\\\core\\\\visuals\\\\',\n",
       " '.\\\\anaconda3\\\\Lib\\\\site-packages\\\\bokeh\\\\server\\\\static\\\\js\\\\lib\\\\document\\\\',\n",
       " '.\\\\anaconda3\\\\Lib\\\\site-packages\\\\bokeh\\\\server\\\\static\\\\js\\\\lib\\\\embed\\\\',\n",
       " '.\\\\anaconda3\\\\Lib\\\\site-packages\\\\bokeh\\\\server\\\\static\\\\js\\\\lib\\\\models\\\\',\n",
       " '.\\\\anaconda3\\\\Lib\\\\site-packages\\\\bokeh\\\\server\\\\static\\\\js\\\\lib\\\\models\\\\annotations\\\\',\n",
       " '.\\\\anaconda3\\\\Lib\\\\site-packages\\\\bokeh\\\\server\\\\static\\\\js\\\\lib\\\\models\\\\axes\\\\',\n",
       " '.\\\\anaconda3\\\\Lib\\\\site-packages\\\\bokeh\\\\server\\\\static\\\\js\\\\lib\\\\models\\\\callbacks\\\\',\n",
       " '.\\\\anaconda3\\\\Lib\\\\site-packages\\\\bokeh\\\\server\\\\static\\\\js\\\\lib\\\\models\\\\canvas\\\\',\n",
       " '.\\\\anaconda3\\\\Lib\\\\site-packages\\\\bokeh\\\\server\\\\static\\\\js\\\\lib\\\\models\\\\dom\\\\',\n",
       " '.\\\\anaconda3\\\\Lib\\\\site-packages\\\\bokeh\\\\server\\\\static\\\\js\\\\lib\\\\models\\\\expressions\\\\',\n",
       " '.\\\\anaconda3\\\\Lib\\\\site-packages\\\\bokeh\\\\server\\\\static\\\\js\\\\lib\\\\models\\\\filters\\\\',\n",
       " '.\\\\anaconda3\\\\Lib\\\\site-packages\\\\bokeh\\\\server\\\\static\\\\js\\\\lib\\\\models\\\\formatters\\\\',\n",
       " '.\\\\anaconda3\\\\Lib\\\\site-packages\\\\bokeh\\\\server\\\\static\\\\js\\\\lib\\\\models\\\\glyphs\\\\',\n",
       " '.\\\\anaconda3\\\\Lib\\\\site-packages\\\\bokeh\\\\server\\\\static\\\\js\\\\lib\\\\models\\\\glyphs\\\\webgl\\\\',\n",
       " '.\\\\anaconda3\\\\Lib\\\\site-packages\\\\bokeh\\\\server\\\\static\\\\js\\\\lib\\\\models\\\\glyphs\\\\webgl\\\\utils\\\\',\n",
       " '.\\\\anaconda3\\\\Lib\\\\site-packages\\\\bokeh\\\\server\\\\static\\\\js\\\\lib\\\\models\\\\graphs\\\\',\n",
       " '.\\\\anaconda3\\\\Lib\\\\site-packages\\\\bokeh\\\\server\\\\static\\\\js\\\\lib\\\\models\\\\grids\\\\',\n",
       " '.\\\\anaconda3\\\\Lib\\\\site-packages\\\\bokeh\\\\server\\\\static\\\\js\\\\lib\\\\models\\\\layouts\\\\',\n",
       " '.\\\\anaconda3\\\\Lib\\\\site-packages\\\\bokeh\\\\server\\\\static\\\\js\\\\lib\\\\models\\\\mappers\\\\',\n",
       " '.\\\\anaconda3\\\\Lib\\\\site-packages\\\\bokeh\\\\server\\\\static\\\\js\\\\lib\\\\models\\\\plots\\\\',\n",
       " '.\\\\anaconda3\\\\Lib\\\\site-packages\\\\bokeh\\\\server\\\\static\\\\js\\\\lib\\\\models\\\\policies\\\\',\n",
       " '.\\\\anaconda3\\\\Lib\\\\site-packages\\\\bokeh\\\\server\\\\static\\\\js\\\\lib\\\\models\\\\ranges\\\\',\n",
       " '.\\\\anaconda3\\\\Lib\\\\site-packages\\\\bokeh\\\\server\\\\static\\\\js\\\\lib\\\\models\\\\renderers\\\\',\n",
       " '.\\\\anaconda3\\\\Lib\\\\site-packages\\\\bokeh\\\\server\\\\static\\\\js\\\\lib\\\\models\\\\scales\\\\',\n",
       " '.\\\\anaconda3\\\\Lib\\\\site-packages\\\\bokeh\\\\server\\\\static\\\\js\\\\lib\\\\models\\\\selections\\\\',\n",
       " '.\\\\anaconda3\\\\Lib\\\\site-packages\\\\bokeh\\\\server\\\\static\\\\js\\\\lib\\\\models\\\\sources\\\\',\n",
       " '.\\\\anaconda3\\\\Lib\\\\site-packages\\\\bokeh\\\\server\\\\static\\\\js\\\\lib\\\\models\\\\text\\\\',\n",
       " '.\\\\anaconda3\\\\Lib\\\\site-packages\\\\bokeh\\\\server\\\\static\\\\js\\\\lib\\\\models\\\\text\\\\mathjax\\\\',\n",
       " '.\\\\anaconda3\\\\Lib\\\\site-packages\\\\bokeh\\\\server\\\\static\\\\js\\\\lib\\\\models\\\\textures\\\\',\n",
       " '.\\\\anaconda3\\\\Lib\\\\site-packages\\\\bokeh\\\\server\\\\static\\\\js\\\\lib\\\\models\\\\tickers\\\\',\n",
       " '.\\\\anaconda3\\\\Lib\\\\site-packages\\\\bokeh\\\\server\\\\static\\\\js\\\\lib\\\\models\\\\tiles\\\\',\n",
       " '.\\\\anaconda3\\\\Lib\\\\site-packages\\\\bokeh\\\\server\\\\static\\\\js\\\\lib\\\\models\\\\tools\\\\',\n",
       " '.\\\\anaconda3\\\\Lib\\\\site-packages\\\\bokeh\\\\server\\\\static\\\\js\\\\lib\\\\models\\\\tools\\\\actions\\\\',\n",
       " '.\\\\anaconda3\\\\Lib\\\\site-packages\\\\bokeh\\\\server\\\\static\\\\js\\\\lib\\\\models\\\\tools\\\\edit\\\\',\n",
       " '.\\\\anaconda3\\\\Lib\\\\site-packages\\\\bokeh\\\\server\\\\static\\\\js\\\\lib\\\\models\\\\tools\\\\gestures\\\\',\n",
       " '.\\\\anaconda3\\\\Lib\\\\site-packages\\\\bokeh\\\\server\\\\static\\\\js\\\\lib\\\\models\\\\tools\\\\inspectors\\\\',\n",
       " '.\\\\anaconda3\\\\Lib\\\\site-packages\\\\bokeh\\\\server\\\\static\\\\js\\\\lib\\\\models\\\\transforms\\\\',\n",
       " '.\\\\anaconda3\\\\Lib\\\\site-packages\\\\bokeh\\\\server\\\\static\\\\js\\\\lib\\\\models\\\\widgets\\\\',\n",
       " '.\\\\anaconda3\\\\Lib\\\\site-packages\\\\bokeh\\\\server\\\\static\\\\js\\\\lib\\\\models\\\\widgets\\\\tables\\\\',\n",
       " '.\\\\anaconda3\\\\Lib\\\\site-packages\\\\bokeh\\\\server\\\\static\\\\js\\\\lib\\\\protocol\\\\',\n",
       " '.\\\\anaconda3\\\\Lib\\\\site-packages\\\\bokeh\\\\server\\\\static\\\\js\\\\lib\\\\styles\\\\',\n",
       " '.\\\\anaconda3\\\\Lib\\\\site-packages\\\\bokeh\\\\server\\\\static\\\\js\\\\lib\\\\styles\\\\widgets\\\\',\n",
       " '.\\\\anaconda3\\\\Lib\\\\site-packages\\\\bokeh\\\\server\\\\static\\\\js\\\\types\\\\',\n",
       " '.\\\\anaconda3\\\\Lib\\\\site-packages\\\\bokeh\\\\server\\\\static\\\\js\\\\types\\\\api\\\\',\n",
       " '.\\\\anaconda3\\\\Lib\\\\site-packages\\\\bokeh\\\\server\\\\static\\\\js\\\\types\\\\client\\\\',\n",
       " '.\\\\anaconda3\\\\Lib\\\\site-packages\\\\bokeh\\\\server\\\\static\\\\js\\\\types\\\\core\\\\',\n",
       " '.\\\\anaconda3\\\\Lib\\\\site-packages\\\\bokeh\\\\server\\\\static\\\\js\\\\types\\\\core\\\\layout\\\\',\n",
       " '.\\\\anaconda3\\\\Lib\\\\site-packages\\\\bokeh\\\\server\\\\static\\\\js\\\\types\\\\core\\\\util\\\\',\n",
       " '.\\\\anaconda3\\\\Lib\\\\site-packages\\\\bokeh\\\\server\\\\static\\\\js\\\\types\\\\core\\\\visuals\\\\',\n",
       " '.\\\\anaconda3\\\\Lib\\\\site-packages\\\\bokeh\\\\server\\\\static\\\\js\\\\types\\\\document\\\\',\n",
       " '.\\\\anaconda3\\\\Lib\\\\site-packages\\\\bokeh\\\\server\\\\static\\\\js\\\\types\\\\embed\\\\',\n",
       " '.\\\\anaconda3\\\\Lib\\\\site-packages\\\\bokeh\\\\server\\\\static\\\\js\\\\types\\\\models\\\\',\n",
       " '.\\\\anaconda3\\\\Lib\\\\site-packages\\\\bokeh\\\\server\\\\static\\\\js\\\\types\\\\models\\\\annotations\\\\',\n",
       " '.\\\\anaconda3\\\\Lib\\\\site-packages\\\\bokeh\\\\server\\\\static\\\\js\\\\types\\\\models\\\\axes\\\\',\n",
       " '.\\\\anaconda3\\\\Lib\\\\site-packages\\\\bokeh\\\\server\\\\static\\\\js\\\\types\\\\models\\\\callbacks\\\\',\n",
       " '.\\\\anaconda3\\\\Lib\\\\site-packages\\\\bokeh\\\\server\\\\static\\\\js\\\\types\\\\models\\\\canvas\\\\',\n",
       " '.\\\\anaconda3\\\\Lib\\\\site-packages\\\\bokeh\\\\server\\\\static\\\\js\\\\types\\\\models\\\\dom\\\\',\n",
       " '.\\\\anaconda3\\\\Lib\\\\site-packages\\\\bokeh\\\\server\\\\static\\\\js\\\\types\\\\models\\\\expressions\\\\',\n",
       " '.\\\\anaconda3\\\\Lib\\\\site-packages\\\\bokeh\\\\server\\\\static\\\\js\\\\types\\\\models\\\\filters\\\\',\n",
       " '.\\\\anaconda3\\\\Lib\\\\site-packages\\\\bokeh\\\\server\\\\static\\\\js\\\\types\\\\models\\\\formatters\\\\',\n",
       " '.\\\\anaconda3\\\\Lib\\\\site-packages\\\\bokeh\\\\server\\\\static\\\\js\\\\types\\\\models\\\\glyphs\\\\',\n",
       " '.\\\\anaconda3\\\\Lib\\\\site-packages\\\\bokeh\\\\server\\\\static\\\\js\\\\types\\\\models\\\\glyphs\\\\webgl\\\\',\n",
       " '.\\\\anaconda3\\\\Lib\\\\site-packages\\\\bokeh\\\\server\\\\static\\\\js\\\\types\\\\models\\\\glyphs\\\\webgl\\\\utils\\\\',\n",
       " '.\\\\anaconda3\\\\Lib\\\\site-packages\\\\bokeh\\\\server\\\\static\\\\js\\\\types\\\\models\\\\graphs\\\\',\n",
       " '.\\\\anaconda3\\\\Lib\\\\site-packages\\\\bokeh\\\\server\\\\static\\\\js\\\\types\\\\models\\\\grids\\\\',\n",
       " '.\\\\anaconda3\\\\Lib\\\\site-packages\\\\bokeh\\\\server\\\\static\\\\js\\\\types\\\\models\\\\layouts\\\\',\n",
       " '.\\\\anaconda3\\\\Lib\\\\site-packages\\\\bokeh\\\\server\\\\static\\\\js\\\\types\\\\models\\\\mappers\\\\',\n",
       " '.\\\\anaconda3\\\\Lib\\\\site-packages\\\\bokeh\\\\server\\\\static\\\\js\\\\types\\\\models\\\\plots\\\\',\n",
       " '.\\\\anaconda3\\\\Lib\\\\site-packages\\\\bokeh\\\\server\\\\static\\\\js\\\\types\\\\models\\\\policies\\\\',\n",
       " '.\\\\anaconda3\\\\Lib\\\\site-packages\\\\bokeh\\\\server\\\\static\\\\js\\\\types\\\\models\\\\ranges\\\\',\n",
       " '.\\\\anaconda3\\\\Lib\\\\site-packages\\\\bokeh\\\\server\\\\static\\\\js\\\\types\\\\models\\\\renderers\\\\',\n",
       " '.\\\\anaconda3\\\\Lib\\\\site-packages\\\\bokeh\\\\server\\\\static\\\\js\\\\types\\\\models\\\\scales\\\\',\n",
       " '.\\\\anaconda3\\\\Lib\\\\site-packages\\\\bokeh\\\\server\\\\static\\\\js\\\\types\\\\models\\\\selections\\\\',\n",
       " '.\\\\anaconda3\\\\Lib\\\\site-packages\\\\bokeh\\\\server\\\\static\\\\js\\\\types\\\\models\\\\sources\\\\',\n",
       " '.\\\\anaconda3\\\\Lib\\\\site-packages\\\\bokeh\\\\server\\\\static\\\\js\\\\types\\\\models\\\\text\\\\',\n",
       " '.\\\\anaconda3\\\\Lib\\\\site-packages\\\\bokeh\\\\server\\\\static\\\\js\\\\types\\\\models\\\\text\\\\mathjax\\\\',\n",
       " '.\\\\anaconda3\\\\Lib\\\\site-packages\\\\bokeh\\\\server\\\\static\\\\js\\\\types\\\\models\\\\textures\\\\',\n",
       " '.\\\\anaconda3\\\\Lib\\\\site-packages\\\\bokeh\\\\server\\\\static\\\\js\\\\types\\\\models\\\\tickers\\\\',\n",
       " '.\\\\anaconda3\\\\Lib\\\\site-packages\\\\bokeh\\\\server\\\\static\\\\js\\\\types\\\\models\\\\tiles\\\\',\n",
       " '.\\\\anaconda3\\\\Lib\\\\site-packages\\\\bokeh\\\\server\\\\static\\\\js\\\\types\\\\models\\\\tools\\\\',\n",
       " '.\\\\anaconda3\\\\Lib\\\\site-packages\\\\bokeh\\\\server\\\\static\\\\js\\\\types\\\\models\\\\tools\\\\actions\\\\',\n",
       " '.\\\\anaconda3\\\\Lib\\\\site-packages\\\\bokeh\\\\server\\\\static\\\\js\\\\types\\\\models\\\\tools\\\\edit\\\\',\n",
       " '.\\\\anaconda3\\\\Lib\\\\site-packages\\\\bokeh\\\\server\\\\static\\\\js\\\\types\\\\models\\\\tools\\\\gestures\\\\',\n",
       " '.\\\\anaconda3\\\\Lib\\\\site-packages\\\\bokeh\\\\server\\\\static\\\\js\\\\types\\\\models\\\\tools\\\\inspectors\\\\',\n",
       " '.\\\\anaconda3\\\\Lib\\\\site-packages\\\\bokeh\\\\server\\\\static\\\\js\\\\types\\\\models\\\\transforms\\\\',\n",
       " '.\\\\anaconda3\\\\Lib\\\\site-packages\\\\bokeh\\\\server\\\\static\\\\js\\\\types\\\\models\\\\widgets\\\\',\n",
       " '.\\\\anaconda3\\\\Lib\\\\site-packages\\\\bokeh\\\\server\\\\static\\\\js\\\\types\\\\models\\\\widgets\\\\tables\\\\',\n",
       " '.\\\\anaconda3\\\\Lib\\\\site-packages\\\\bokeh\\\\server\\\\static\\\\js\\\\types\\\\protocol\\\\',\n",
       " '.\\\\anaconda3\\\\Lib\\\\site-packages\\\\bokeh\\\\server\\\\static\\\\js\\\\types\\\\styles\\\\',\n",
       " '.\\\\anaconda3\\\\Lib\\\\site-packages\\\\bokeh\\\\server\\\\static\\\\js\\\\types\\\\styles\\\\widgets\\\\',\n",
       " '.\\\\anaconda3\\\\Lib\\\\site-packages\\\\bokeh\\\\server\\\\static\\\\lib\\\\',\n",
       " '.\\\\anaconda3\\\\Lib\\\\site-packages\\\\bokeh\\\\server\\\\views\\\\',\n",
       " '.\\\\anaconda3\\\\Lib\\\\site-packages\\\\bokeh\\\\server\\\\views\\\\__pycache__\\\\',\n",
       " '.\\\\anaconda3\\\\Lib\\\\site-packages\\\\bokeh\\\\server\\\\__pycache__\\\\',\n",
       " '.\\\\anaconda3\\\\Lib\\\\site-packages\\\\bokeh\\\\sphinxext\\\\',\n",
       " '.\\\\anaconda3\\\\Lib\\\\site-packages\\\\bokeh\\\\sphinxext\\\\_templates\\\\',\n",
       " '.\\\\anaconda3\\\\Lib\\\\site-packages\\\\bokeh\\\\sphinxext\\\\__pycache__\\\\',\n",
       " '.\\\\anaconda3\\\\Lib\\\\site-packages\\\\bokeh\\\\themes\\\\',\n",
       " '.\\\\anaconda3\\\\Lib\\\\site-packages\\\\bokeh\\\\themes\\\\__pycache__\\\\',\n",
       " '.\\\\anaconda3\\\\Lib\\\\site-packages\\\\bokeh\\\\util\\\\',\n",
       " '.\\\\anaconda3\\\\Lib\\\\site-packages\\\\bokeh\\\\util\\\\__pycache__\\\\',\n",
       " '.\\\\anaconda3\\\\Lib\\\\site-packages\\\\bokeh\\\\_testing\\\\',\n",
       " '.\\\\anaconda3\\\\Lib\\\\site-packages\\\\bokeh\\\\_testing\\\\plugins\\\\',\n",
       " '.\\\\anaconda3\\\\Lib\\\\site-packages\\\\bokeh\\\\_testing\\\\plugins\\\\__pycache__\\\\',\n",
       " '.\\\\anaconda3\\\\Lib\\\\site-packages\\\\bokeh\\\\_testing\\\\util\\\\',\n",
       " '.\\\\anaconda3\\\\Lib\\\\site-packages\\\\bokeh\\\\_testing\\\\util\\\\__pycache__\\\\',\n",
       " '.\\\\anaconda3\\\\Lib\\\\site-packages\\\\bokeh\\\\_testing\\\\__pycache__\\\\',\n",
       " '.\\\\anaconda3\\\\Lib\\\\site-packages\\\\bokeh\\\\__pycache__\\\\',\n",
       " '.\\\\anaconda3\\\\Lib\\\\site-packages\\\\bokeh-2.4.2.dist-info\\\\',\n",
       " '.\\\\anaconda3\\\\Lib\\\\site-packages\\\\boto3\\\\',\n",
       " '.\\\\anaconda3\\\\Lib\\\\site-packages\\\\boto3\\\\data\\\\',\n",
       " '.\\\\anaconda3\\\\Lib\\\\site-packages\\\\boto3\\\\data\\\\cloudformation\\\\',\n",
       " '.\\\\anaconda3\\\\Lib\\\\site-packages\\\\boto3\\\\data\\\\cloudformation\\\\2010-05-15\\\\',\n",
       " '.\\\\anaconda3\\\\Lib\\\\site-packages\\\\boto3\\\\data\\\\cloudwatch\\\\',\n",
       " '.\\\\anaconda3\\\\Lib\\\\site-packages\\\\boto3\\\\data\\\\cloudwatch\\\\2010-08-01\\\\',\n",
       " '.\\\\anaconda3\\\\Lib\\\\site-packages\\\\boto3\\\\data\\\\dynamodb\\\\',\n",
       " '.\\\\anaconda3\\\\Lib\\\\site-packages\\\\boto3\\\\data\\\\dynamodb\\\\2012-08-10\\\\',\n",
       " '.\\\\anaconda3\\\\Lib\\\\site-packages\\\\boto3\\\\data\\\\ec2\\\\',\n",
       " '.\\\\anaconda3\\\\Lib\\\\site-packages\\\\boto3\\\\data\\\\ec2\\\\2014-10-01\\\\',\n",
       " '.\\\\anaconda3\\\\Lib\\\\site-packages\\\\boto3\\\\data\\\\ec2\\\\2015-03-01\\\\',\n",
       " '.\\\\anaconda3\\\\Lib\\\\site-packages\\\\boto3\\\\data\\\\ec2\\\\2015-04-15\\\\',\n",
       " '.\\\\anaconda3\\\\Lib\\\\site-packages\\\\boto3\\\\data\\\\ec2\\\\2015-10-01\\\\',\n",
       " '.\\\\anaconda3\\\\Lib\\\\site-packages\\\\boto3\\\\data\\\\ec2\\\\2016-04-01\\\\',\n",
       " '.\\\\anaconda3\\\\Lib\\\\site-packages\\\\boto3\\\\data\\\\ec2\\\\2016-09-15\\\\',\n",
       " '.\\\\anaconda3\\\\Lib\\\\site-packages\\\\boto3\\\\data\\\\ec2\\\\2016-11-15\\\\',\n",
       " '.\\\\anaconda3\\\\Lib\\\\site-packages\\\\boto3\\\\data\\\\glacier\\\\',\n",
       " '.\\\\anaconda3\\\\Lib\\\\site-packages\\\\boto3\\\\data\\\\glacier\\\\2012-06-01\\\\',\n",
       " '.\\\\anaconda3\\\\Lib\\\\site-packages\\\\boto3\\\\data\\\\iam\\\\',\n",
       " '.\\\\anaconda3\\\\Lib\\\\site-packages\\\\boto3\\\\data\\\\iam\\\\2010-05-08\\\\',\n",
       " '.\\\\anaconda3\\\\Lib\\\\site-packages\\\\boto3\\\\data\\\\opsworks\\\\',\n",
       " '.\\\\anaconda3\\\\Lib\\\\site-packages\\\\boto3\\\\data\\\\opsworks\\\\2013-02-18\\\\',\n",
       " '.\\\\anaconda3\\\\Lib\\\\site-packages\\\\boto3\\\\data\\\\s3\\\\',\n",
       " '.\\\\anaconda3\\\\Lib\\\\site-packages\\\\boto3\\\\data\\\\s3\\\\2006-03-01\\\\',\n",
       " '.\\\\anaconda3\\\\Lib\\\\site-packages\\\\boto3\\\\data\\\\sns\\\\',\n",
       " '.\\\\anaconda3\\\\Lib\\\\site-packages\\\\boto3\\\\data\\\\sns\\\\2010-03-31\\\\',\n",
       " '.\\\\anaconda3\\\\Lib\\\\site-packages\\\\boto3\\\\data\\\\sqs\\\\',\n",
       " '.\\\\anaconda3\\\\Lib\\\\site-packages\\\\boto3\\\\data\\\\sqs\\\\2012-11-05\\\\',\n",
       " '.\\\\anaconda3\\\\Lib\\\\site-packages\\\\boto3\\\\docs\\\\',\n",
       " '.\\\\anaconda3\\\\Lib\\\\site-packages\\\\boto3\\\\docs\\\\__pycache__\\\\',\n",
       " '.\\\\anaconda3\\\\Lib\\\\site-packages\\\\boto3\\\\dynamodb\\\\',\n",
       " '.\\\\anaconda3\\\\Lib\\\\site-packages\\\\boto3\\\\dynamodb\\\\__pycache__\\\\',\n",
       " '.\\\\anaconda3\\\\Lib\\\\site-packages\\\\boto3\\\\ec2\\\\',\n",
       " '.\\\\anaconda3\\\\Lib\\\\site-packages\\\\boto3\\\\ec2\\\\__pycache__\\\\',\n",
       " '.\\\\anaconda3\\\\Lib\\\\site-packages\\\\boto3\\\\resources\\\\',\n",
       " '.\\\\anaconda3\\\\Lib\\\\site-packages\\\\boto3\\\\resources\\\\__pycache__\\\\',\n",
       " '.\\\\anaconda3\\\\Lib\\\\site-packages\\\\boto3\\\\s3\\\\',\n",
       " '.\\\\anaconda3\\\\Lib\\\\site-packages\\\\boto3\\\\s3\\\\__pycache__\\\\',\n",
       " '.\\\\anaconda3\\\\Lib\\\\site-packages\\\\boto3\\\\__pycache__\\\\',\n",
       " '.\\\\anaconda3\\\\Lib\\\\site-packages\\\\boto3-1.21.32.dist-info\\\\',\n",
       " '.\\\\anaconda3\\\\Lib\\\\site-packages\\\\botocore\\\\',\n",
       " '.\\\\anaconda3\\\\Lib\\\\site-packages\\\\botocore\\\\crt\\\\',\n",
       " '.\\\\anaconda3\\\\Lib\\\\site-packages\\\\botocore\\\\crt\\\\__pycache__\\\\',\n",
       " '.\\\\anaconda3\\\\Lib\\\\site-packages\\\\botocore\\\\data\\\\',\n",
       " '.\\\\anaconda3\\\\Lib\\\\site-packages\\\\botocore\\\\data\\\\accessanalyzer\\\\',\n",
       " '.\\\\anaconda3\\\\Lib\\\\site-packages\\\\botocore\\\\data\\\\accessanalyzer\\\\2019-11-01\\\\',\n",
       " '.\\\\anaconda3\\\\Lib\\\\site-packages\\\\botocore\\\\data\\\\account\\\\',\n",
       " '.\\\\anaconda3\\\\Lib\\\\site-packages\\\\botocore\\\\data\\\\account\\\\2021-02-01\\\\',\n",
       " '.\\\\anaconda3\\\\Lib\\\\site-packages\\\\botocore\\\\data\\\\acm\\\\',\n",
       " '.\\\\anaconda3\\\\Lib\\\\site-packages\\\\botocore\\\\data\\\\acm\\\\2015-12-08\\\\',\n",
       " '.\\\\anaconda3\\\\Lib\\\\site-packages\\\\botocore\\\\data\\\\acm-pca\\\\',\n",
       " '.\\\\anaconda3\\\\Lib\\\\site-packages\\\\botocore\\\\data\\\\acm-pca\\\\2017-08-22\\\\',\n",
       " '.\\\\anaconda3\\\\Lib\\\\site-packages\\\\botocore\\\\data\\\\alexaforbusiness\\\\',\n",
       " '.\\\\anaconda3\\\\Lib\\\\site-packages\\\\botocore\\\\data\\\\alexaforbusiness\\\\2017-11-09\\\\',\n",
       " '.\\\\anaconda3\\\\Lib\\\\site-packages\\\\botocore\\\\data\\\\amp\\\\',\n",
       " '.\\\\anaconda3\\\\Lib\\\\site-packages\\\\botocore\\\\data\\\\amp\\\\2020-08-01\\\\',\n",
       " '.\\\\anaconda3\\\\Lib\\\\site-packages\\\\botocore\\\\data\\\\amplify\\\\',\n",
       " '.\\\\anaconda3\\\\Lib\\\\site-packages\\\\botocore\\\\data\\\\amplify\\\\2017-07-25\\\\',\n",
       " '.\\\\anaconda3\\\\Lib\\\\site-packages\\\\botocore\\\\data\\\\amplifybackend\\\\',\n",
       " '.\\\\anaconda3\\\\Lib\\\\site-packages\\\\botocore\\\\data\\\\amplifybackend\\\\2020-08-11\\\\',\n",
       " '.\\\\anaconda3\\\\Lib\\\\site-packages\\\\botocore\\\\data\\\\amplifyuibuilder\\\\',\n",
       " '.\\\\anaconda3\\\\Lib\\\\site-packages\\\\botocore\\\\data\\\\amplifyuibuilder\\\\2021-08-11\\\\',\n",
       " '.\\\\anaconda3\\\\Lib\\\\site-packages\\\\botocore\\\\data\\\\apigateway\\\\',\n",
       " '.\\\\anaconda3\\\\Lib\\\\site-packages\\\\botocore\\\\data\\\\apigateway\\\\2015-07-09\\\\',\n",
       " '.\\\\anaconda3\\\\Lib\\\\site-packages\\\\botocore\\\\data\\\\apigatewaymanagementapi\\\\',\n",
       " '.\\\\anaconda3\\\\Lib\\\\site-packages\\\\botocore\\\\data\\\\apigatewaymanagementapi\\\\2018-11-29\\\\',\n",
       " '.\\\\anaconda3\\\\Lib\\\\site-packages\\\\botocore\\\\data\\\\apigatewayv2\\\\',\n",
       " '.\\\\anaconda3\\\\Lib\\\\site-packages\\\\botocore\\\\data\\\\apigatewayv2\\\\2018-11-29\\\\',\n",
       " '.\\\\anaconda3\\\\Lib\\\\site-packages\\\\botocore\\\\data\\\\appconfig\\\\',\n",
       " '.\\\\anaconda3\\\\Lib\\\\site-packages\\\\botocore\\\\data\\\\appconfig\\\\2019-10-09\\\\',\n",
       " '.\\\\anaconda3\\\\Lib\\\\site-packages\\\\botocore\\\\data\\\\appconfigdata\\\\',\n",
       " '.\\\\anaconda3\\\\Lib\\\\site-packages\\\\botocore\\\\data\\\\appconfigdata\\\\2021-11-11\\\\',\n",
       " '.\\\\anaconda3\\\\Lib\\\\site-packages\\\\botocore\\\\data\\\\appflow\\\\',\n",
       " '.\\\\anaconda3\\\\Lib\\\\site-packages\\\\botocore\\\\data\\\\appflow\\\\2020-08-23\\\\',\n",
       " '.\\\\anaconda3\\\\Lib\\\\site-packages\\\\botocore\\\\data\\\\appintegrations\\\\',\n",
       " '.\\\\anaconda3\\\\Lib\\\\site-packages\\\\botocore\\\\data\\\\appintegrations\\\\2020-07-29\\\\',\n",
       " '.\\\\anaconda3\\\\Lib\\\\site-packages\\\\botocore\\\\data\\\\application-autoscaling\\\\',\n",
       " '.\\\\anaconda3\\\\Lib\\\\site-packages\\\\botocore\\\\data\\\\application-autoscaling\\\\2016-02-06\\\\',\n",
       " '.\\\\anaconda3\\\\Lib\\\\site-packages\\\\botocore\\\\data\\\\application-insights\\\\',\n",
       " '.\\\\anaconda3\\\\Lib\\\\site-packages\\\\botocore\\\\data\\\\application-insights\\\\2018-11-25\\\\',\n",
       " '.\\\\anaconda3\\\\Lib\\\\site-packages\\\\botocore\\\\data\\\\applicationcostprofiler\\\\',\n",
       " '.\\\\anaconda3\\\\Lib\\\\site-packages\\\\botocore\\\\data\\\\applicationcostprofiler\\\\2020-09-10\\\\',\n",
       " '.\\\\anaconda3\\\\Lib\\\\site-packages\\\\botocore\\\\data\\\\appmesh\\\\',\n",
       " '.\\\\anaconda3\\\\Lib\\\\site-packages\\\\botocore\\\\data\\\\appmesh\\\\2018-10-01\\\\',\n",
       " '.\\\\anaconda3\\\\Lib\\\\site-packages\\\\botocore\\\\data\\\\appmesh\\\\2019-01-25\\\\',\n",
       " '.\\\\anaconda3\\\\Lib\\\\site-packages\\\\botocore\\\\data\\\\apprunner\\\\',\n",
       " '.\\\\anaconda3\\\\Lib\\\\site-packages\\\\botocore\\\\data\\\\apprunner\\\\2020-05-15\\\\',\n",
       " '.\\\\anaconda3\\\\Lib\\\\site-packages\\\\botocore\\\\data\\\\appstream\\\\',\n",
       " '.\\\\anaconda3\\\\Lib\\\\site-packages\\\\botocore\\\\data\\\\appstream\\\\2016-12-01\\\\',\n",
       " '.\\\\anaconda3\\\\Lib\\\\site-packages\\\\botocore\\\\data\\\\appsync\\\\',\n",
       " '.\\\\anaconda3\\\\Lib\\\\site-packages\\\\botocore\\\\data\\\\appsync\\\\2017-07-25\\\\',\n",
       " '.\\\\anaconda3\\\\Lib\\\\site-packages\\\\botocore\\\\data\\\\athena\\\\',\n",
       " '.\\\\anaconda3\\\\Lib\\\\site-packages\\\\botocore\\\\data\\\\athena\\\\2017-05-18\\\\',\n",
       " '.\\\\anaconda3\\\\Lib\\\\site-packages\\\\botocore\\\\data\\\\auditmanager\\\\',\n",
       " '.\\\\anaconda3\\\\Lib\\\\site-packages\\\\botocore\\\\data\\\\auditmanager\\\\2017-07-25\\\\',\n",
       " '.\\\\anaconda3\\\\Lib\\\\site-packages\\\\botocore\\\\data\\\\autoscaling\\\\',\n",
       " '.\\\\anaconda3\\\\Lib\\\\site-packages\\\\botocore\\\\data\\\\autoscaling\\\\2011-01-01\\\\',\n",
       " '.\\\\anaconda3\\\\Lib\\\\site-packages\\\\botocore\\\\data\\\\autoscaling-plans\\\\',\n",
       " '.\\\\anaconda3\\\\Lib\\\\site-packages\\\\botocore\\\\data\\\\autoscaling-plans\\\\2018-01-06\\\\',\n",
       " '.\\\\anaconda3\\\\Lib\\\\site-packages\\\\botocore\\\\data\\\\backup\\\\',\n",
       " '.\\\\anaconda3\\\\Lib\\\\site-packages\\\\botocore\\\\data\\\\backup\\\\2018-11-15\\\\',\n",
       " '.\\\\anaconda3\\\\Lib\\\\site-packages\\\\botocore\\\\data\\\\backup-gateway\\\\',\n",
       " '.\\\\anaconda3\\\\Lib\\\\site-packages\\\\botocore\\\\data\\\\backup-gateway\\\\2021-01-01\\\\',\n",
       " '.\\\\anaconda3\\\\Lib\\\\site-packages\\\\botocore\\\\data\\\\batch\\\\',\n",
       " '.\\\\anaconda3\\\\Lib\\\\site-packages\\\\botocore\\\\data\\\\batch\\\\2016-08-10\\\\',\n",
       " '.\\\\anaconda3\\\\Lib\\\\site-packages\\\\botocore\\\\data\\\\billingconductor\\\\',\n",
       " '.\\\\anaconda3\\\\Lib\\\\site-packages\\\\botocore\\\\data\\\\billingconductor\\\\2021-07-30\\\\',\n",
       " '.\\\\anaconda3\\\\Lib\\\\site-packages\\\\botocore\\\\data\\\\braket\\\\',\n",
       " '.\\\\anaconda3\\\\Lib\\\\site-packages\\\\botocore\\\\data\\\\braket\\\\2019-09-01\\\\',\n",
       " '.\\\\anaconda3\\\\Lib\\\\site-packages\\\\botocore\\\\data\\\\budgets\\\\',\n",
       " '.\\\\anaconda3\\\\Lib\\\\site-packages\\\\botocore\\\\data\\\\budgets\\\\2016-10-20\\\\',\n",
       " '.\\\\anaconda3\\\\Lib\\\\site-packages\\\\botocore\\\\data\\\\ce\\\\',\n",
       " '.\\\\anaconda3\\\\Lib\\\\site-packages\\\\botocore\\\\data\\\\ce\\\\2017-10-25\\\\',\n",
       " '.\\\\anaconda3\\\\Lib\\\\site-packages\\\\botocore\\\\data\\\\chime\\\\',\n",
       " '.\\\\anaconda3\\\\Lib\\\\site-packages\\\\botocore\\\\data\\\\chime\\\\2018-05-01\\\\',\n",
       " '.\\\\anaconda3\\\\Lib\\\\site-packages\\\\botocore\\\\data\\\\chime-sdk-identity\\\\',\n",
       " '.\\\\anaconda3\\\\Lib\\\\site-packages\\\\botocore\\\\data\\\\chime-sdk-identity\\\\2021-04-20\\\\',\n",
       " '.\\\\anaconda3\\\\Lib\\\\site-packages\\\\botocore\\\\data\\\\chime-sdk-meetings\\\\',\n",
       " '.\\\\anaconda3\\\\Lib\\\\site-packages\\\\botocore\\\\data\\\\chime-sdk-meetings\\\\2021-07-15\\\\',\n",
       " '.\\\\anaconda3\\\\Lib\\\\site-packages\\\\botocore\\\\data\\\\chime-sdk-messaging\\\\',\n",
       " '.\\\\anaconda3\\\\Lib\\\\site-packages\\\\botocore\\\\data\\\\chime-sdk-messaging\\\\2021-05-15\\\\',\n",
       " '.\\\\anaconda3\\\\Lib\\\\site-packages\\\\botocore\\\\data\\\\cloud9\\\\',\n",
       " '.\\\\anaconda3\\\\Lib\\\\site-packages\\\\botocore\\\\data\\\\cloud9\\\\2017-09-23\\\\',\n",
       " '.\\\\anaconda3\\\\Lib\\\\site-packages\\\\botocore\\\\data\\\\cloudcontrol\\\\',\n",
       " '.\\\\anaconda3\\\\Lib\\\\site-packages\\\\botocore\\\\data\\\\cloudcontrol\\\\2021-09-30\\\\',\n",
       " '.\\\\anaconda3\\\\Lib\\\\site-packages\\\\botocore\\\\data\\\\clouddirectory\\\\',\n",
       " '.\\\\anaconda3\\\\Lib\\\\site-packages\\\\botocore\\\\data\\\\clouddirectory\\\\2016-05-10\\\\',\n",
       " '.\\\\anaconda3\\\\Lib\\\\site-packages\\\\botocore\\\\data\\\\clouddirectory\\\\2017-01-11\\\\',\n",
       " '.\\\\anaconda3\\\\Lib\\\\site-packages\\\\botocore\\\\data\\\\cloudformation\\\\',\n",
       " '.\\\\anaconda3\\\\Lib\\\\site-packages\\\\botocore\\\\data\\\\cloudformation\\\\2010-05-15\\\\',\n",
       " '.\\\\anaconda3\\\\Lib\\\\site-packages\\\\botocore\\\\data\\\\cloudfront\\\\',\n",
       " '.\\\\anaconda3\\\\Lib\\\\site-packages\\\\botocore\\\\data\\\\cloudfront\\\\2014-05-31\\\\',\n",
       " '.\\\\anaconda3\\\\Lib\\\\site-packages\\\\botocore\\\\data\\\\cloudfront\\\\2014-10-21\\\\',\n",
       " '.\\\\anaconda3\\\\Lib\\\\site-packages\\\\botocore\\\\data\\\\cloudfront\\\\2014-11-06\\\\',\n",
       " '.\\\\anaconda3\\\\Lib\\\\site-packages\\\\botocore\\\\data\\\\cloudfront\\\\2015-04-17\\\\',\n",
       " '.\\\\anaconda3\\\\Lib\\\\site-packages\\\\botocore\\\\data\\\\cloudfront\\\\2015-07-27\\\\',\n",
       " '.\\\\anaconda3\\\\Lib\\\\site-packages\\\\botocore\\\\data\\\\cloudfront\\\\2015-09-17\\\\',\n",
       " '.\\\\anaconda3\\\\Lib\\\\site-packages\\\\botocore\\\\data\\\\cloudfront\\\\2016-01-13\\\\',\n",
       " '.\\\\anaconda3\\\\Lib\\\\site-packages\\\\botocore\\\\data\\\\cloudfront\\\\2016-01-28\\\\',\n",
       " '.\\\\anaconda3\\\\Lib\\\\site-packages\\\\botocore\\\\data\\\\cloudfront\\\\2016-08-01\\\\',\n",
       " '.\\\\anaconda3\\\\Lib\\\\site-packages\\\\botocore\\\\data\\\\cloudfront\\\\2016-08-20\\\\',\n",
       " '.\\\\anaconda3\\\\Lib\\\\site-packages\\\\botocore\\\\data\\\\cloudfront\\\\2016-09-07\\\\',\n",
       " '.\\\\anaconda3\\\\Lib\\\\site-packages\\\\botocore\\\\data\\\\cloudfront\\\\2016-09-29\\\\',\n",
       " '.\\\\anaconda3\\\\Lib\\\\site-packages\\\\botocore\\\\data\\\\cloudfront\\\\2016-11-25\\\\',\n",
       " '.\\\\anaconda3\\\\Lib\\\\site-packages\\\\botocore\\\\data\\\\cloudfront\\\\2017-03-25\\\\',\n",
       " '.\\\\anaconda3\\\\Lib\\\\site-packages\\\\botocore\\\\data\\\\cloudfront\\\\2017-10-30\\\\',\n",
       " '.\\\\anaconda3\\\\Lib\\\\site-packages\\\\botocore\\\\data\\\\cloudfront\\\\2018-06-18\\\\',\n",
       " '.\\\\anaconda3\\\\Lib\\\\site-packages\\\\botocore\\\\data\\\\cloudfront\\\\2018-11-05\\\\',\n",
       " '.\\\\anaconda3\\\\Lib\\\\site-packages\\\\botocore\\\\data\\\\cloudfront\\\\2019-03-26\\\\',\n",
       " '.\\\\anaconda3\\\\Lib\\\\site-packages\\\\botocore\\\\data\\\\cloudfront\\\\2020-05-31\\\\',\n",
       " '.\\\\anaconda3\\\\Lib\\\\site-packages\\\\botocore\\\\data\\\\cloudhsm\\\\',\n",
       " '.\\\\anaconda3\\\\Lib\\\\site-packages\\\\botocore\\\\data\\\\cloudhsm\\\\2014-05-30\\\\',\n",
       " '.\\\\anaconda3\\\\Lib\\\\site-packages\\\\botocore\\\\data\\\\cloudhsmv2\\\\',\n",
       " '.\\\\anaconda3\\\\Lib\\\\site-packages\\\\botocore\\\\data\\\\cloudhsmv2\\\\2017-04-28\\\\',\n",
       " '.\\\\anaconda3\\\\Lib\\\\site-packages\\\\botocore\\\\data\\\\cloudsearch\\\\',\n",
       " '.\\\\anaconda3\\\\Lib\\\\site-packages\\\\botocore\\\\data\\\\cloudsearch\\\\2011-02-01\\\\',\n",
       " '.\\\\anaconda3\\\\Lib\\\\site-packages\\\\botocore\\\\data\\\\cloudsearch\\\\2013-01-01\\\\',\n",
       " '.\\\\anaconda3\\\\Lib\\\\site-packages\\\\botocore\\\\data\\\\cloudsearchdomain\\\\',\n",
       " '.\\\\anaconda3\\\\Lib\\\\site-packages\\\\botocore\\\\data\\\\cloudsearchdomain\\\\2013-01-01\\\\',\n",
       " '.\\\\anaconda3\\\\Lib\\\\site-packages\\\\botocore\\\\data\\\\cloudtrail\\\\',\n",
       " '.\\\\anaconda3\\\\Lib\\\\site-packages\\\\botocore\\\\data\\\\cloudtrail\\\\2013-11-01\\\\',\n",
       " '.\\\\anaconda3\\\\Lib\\\\site-packages\\\\botocore\\\\data\\\\cloudwatch\\\\',\n",
       " '.\\\\anaconda3\\\\Lib\\\\site-packages\\\\botocore\\\\data\\\\cloudwatch\\\\2010-08-01\\\\',\n",
       " '.\\\\anaconda3\\\\Lib\\\\site-packages\\\\botocore\\\\data\\\\codeartifact\\\\',\n",
       " '.\\\\anaconda3\\\\Lib\\\\site-packages\\\\botocore\\\\data\\\\codeartifact\\\\2018-09-22\\\\',\n",
       " '.\\\\anaconda3\\\\Lib\\\\site-packages\\\\botocore\\\\data\\\\codebuild\\\\',\n",
       " '.\\\\anaconda3\\\\Lib\\\\site-packages\\\\botocore\\\\data\\\\codebuild\\\\2016-10-06\\\\',\n",
       " '.\\\\anaconda3\\\\Lib\\\\site-packages\\\\botocore\\\\data\\\\codecommit\\\\',\n",
       " '.\\\\anaconda3\\\\Lib\\\\site-packages\\\\botocore\\\\data\\\\codecommit\\\\2015-04-13\\\\',\n",
       " '.\\\\anaconda3\\\\Lib\\\\site-packages\\\\botocore\\\\data\\\\codedeploy\\\\',\n",
       " '.\\\\anaconda3\\\\Lib\\\\site-packages\\\\botocore\\\\data\\\\codedeploy\\\\2014-10-06\\\\',\n",
       " '.\\\\anaconda3\\\\Lib\\\\site-packages\\\\botocore\\\\data\\\\codeguru-reviewer\\\\',\n",
       " '.\\\\anaconda3\\\\Lib\\\\site-packages\\\\botocore\\\\data\\\\codeguru-reviewer\\\\2019-09-19\\\\',\n",
       " '.\\\\anaconda3\\\\Lib\\\\site-packages\\\\botocore\\\\data\\\\codeguruprofiler\\\\',\n",
       " '.\\\\anaconda3\\\\Lib\\\\site-packages\\\\botocore\\\\data\\\\codeguruprofiler\\\\2019-07-18\\\\',\n",
       " '.\\\\anaconda3\\\\Lib\\\\site-packages\\\\botocore\\\\data\\\\codepipeline\\\\',\n",
       " '.\\\\anaconda3\\\\Lib\\\\site-packages\\\\botocore\\\\data\\\\codepipeline\\\\2015-07-09\\\\',\n",
       " '.\\\\anaconda3\\\\Lib\\\\site-packages\\\\botocore\\\\data\\\\codestar\\\\',\n",
       " '.\\\\anaconda3\\\\Lib\\\\site-packages\\\\botocore\\\\data\\\\codestar\\\\2017-04-19\\\\',\n",
       " '.\\\\anaconda3\\\\Lib\\\\site-packages\\\\botocore\\\\data\\\\codestar-connections\\\\',\n",
       " '.\\\\anaconda3\\\\Lib\\\\site-packages\\\\botocore\\\\data\\\\codestar-connections\\\\2019-12-01\\\\',\n",
       " '.\\\\anaconda3\\\\Lib\\\\site-packages\\\\botocore\\\\data\\\\codestar-notifications\\\\',\n",
       " '.\\\\anaconda3\\\\Lib\\\\site-packages\\\\botocore\\\\data\\\\codestar-notifications\\\\2019-10-15\\\\',\n",
       " '.\\\\anaconda3\\\\Lib\\\\site-packages\\\\botocore\\\\data\\\\cognito-identity\\\\',\n",
       " '.\\\\anaconda3\\\\Lib\\\\site-packages\\\\botocore\\\\data\\\\cognito-identity\\\\2014-06-30\\\\',\n",
       " '.\\\\anaconda3\\\\Lib\\\\site-packages\\\\botocore\\\\data\\\\cognito-idp\\\\',\n",
       " '.\\\\anaconda3\\\\Lib\\\\site-packages\\\\botocore\\\\data\\\\cognito-idp\\\\2016-04-18\\\\',\n",
       " '.\\\\anaconda3\\\\Lib\\\\site-packages\\\\botocore\\\\data\\\\cognito-sync\\\\',\n",
       " '.\\\\anaconda3\\\\Lib\\\\site-packages\\\\botocore\\\\data\\\\cognito-sync\\\\2014-06-30\\\\',\n",
       " '.\\\\anaconda3\\\\Lib\\\\site-packages\\\\botocore\\\\data\\\\comprehend\\\\',\n",
       " '.\\\\anaconda3\\\\Lib\\\\site-packages\\\\botocore\\\\data\\\\comprehend\\\\2017-11-27\\\\',\n",
       " '.\\\\anaconda3\\\\Lib\\\\site-packages\\\\botocore\\\\data\\\\comprehendmedical\\\\',\n",
       " '.\\\\anaconda3\\\\Lib\\\\site-packages\\\\botocore\\\\data\\\\comprehendmedical\\\\2018-10-30\\\\',\n",
       " '.\\\\anaconda3\\\\Lib\\\\site-packages\\\\botocore\\\\data\\\\compute-optimizer\\\\',\n",
       " '.\\\\anaconda3\\\\Lib\\\\site-packages\\\\botocore\\\\data\\\\compute-optimizer\\\\2019-11-01\\\\',\n",
       " '.\\\\anaconda3\\\\Lib\\\\site-packages\\\\botocore\\\\data\\\\config\\\\',\n",
       " '.\\\\anaconda3\\\\Lib\\\\site-packages\\\\botocore\\\\data\\\\config\\\\2014-11-12\\\\',\n",
       " '.\\\\anaconda3\\\\Lib\\\\site-packages\\\\botocore\\\\data\\\\connect\\\\',\n",
       " '.\\\\anaconda3\\\\Lib\\\\site-packages\\\\botocore\\\\data\\\\connect\\\\2017-08-08\\\\',\n",
       " '.\\\\anaconda3\\\\Lib\\\\site-packages\\\\botocore\\\\data\\\\connect-contact-lens\\\\',\n",
       " '.\\\\anaconda3\\\\Lib\\\\site-packages\\\\botocore\\\\data\\\\connect-contact-lens\\\\2020-08-21\\\\',\n",
       " '.\\\\anaconda3\\\\Lib\\\\site-packages\\\\botocore\\\\data\\\\connectparticipant\\\\',\n",
       " '.\\\\anaconda3\\\\Lib\\\\site-packages\\\\botocore\\\\data\\\\connectparticipant\\\\2018-09-07\\\\',\n",
       " '.\\\\anaconda3\\\\Lib\\\\site-packages\\\\botocore\\\\data\\\\cur\\\\',\n",
       " '.\\\\anaconda3\\\\Lib\\\\site-packages\\\\botocore\\\\data\\\\cur\\\\2017-01-06\\\\',\n",
       " '.\\\\anaconda3\\\\Lib\\\\site-packages\\\\botocore\\\\data\\\\customer-profiles\\\\',\n",
       " '.\\\\anaconda3\\\\Lib\\\\site-packages\\\\botocore\\\\data\\\\customer-profiles\\\\2020-08-15\\\\',\n",
       " '.\\\\anaconda3\\\\Lib\\\\site-packages\\\\botocore\\\\data\\\\databrew\\\\',\n",
       " '.\\\\anaconda3\\\\Lib\\\\site-packages\\\\botocore\\\\data\\\\databrew\\\\2017-07-25\\\\',\n",
       " '.\\\\anaconda3\\\\Lib\\\\site-packages\\\\botocore\\\\data\\\\dataexchange\\\\',\n",
       " '.\\\\anaconda3\\\\Lib\\\\site-packages\\\\botocore\\\\data\\\\dataexchange\\\\2017-07-25\\\\',\n",
       " '.\\\\anaconda3\\\\Lib\\\\site-packages\\\\botocore\\\\data\\\\datapipeline\\\\',\n",
       " '.\\\\anaconda3\\\\Lib\\\\site-packages\\\\botocore\\\\data\\\\datapipeline\\\\2012-10-29\\\\',\n",
       " '.\\\\anaconda3\\\\Lib\\\\site-packages\\\\botocore\\\\data\\\\datasync\\\\',\n",
       " '.\\\\anaconda3\\\\Lib\\\\site-packages\\\\botocore\\\\data\\\\datasync\\\\2018-11-09\\\\',\n",
       " '.\\\\anaconda3\\\\Lib\\\\site-packages\\\\botocore\\\\data\\\\dax\\\\',\n",
       " '.\\\\anaconda3\\\\Lib\\\\site-packages\\\\botocore\\\\data\\\\dax\\\\2017-04-19\\\\',\n",
       " '.\\\\anaconda3\\\\Lib\\\\site-packages\\\\botocore\\\\data\\\\detective\\\\',\n",
       " '.\\\\anaconda3\\\\Lib\\\\site-packages\\\\botocore\\\\data\\\\detective\\\\2018-10-26\\\\',\n",
       " '.\\\\anaconda3\\\\Lib\\\\site-packages\\\\botocore\\\\data\\\\devicefarm\\\\',\n",
       " '.\\\\anaconda3\\\\Lib\\\\site-packages\\\\botocore\\\\data\\\\devicefarm\\\\2015-06-23\\\\',\n",
       " '.\\\\anaconda3\\\\Lib\\\\site-packages\\\\botocore\\\\data\\\\devops-guru\\\\',\n",
       " ...]"
      ]
     },
     "execution_count": 16,
     "metadata": {},
     "output_type": "execute_result"
    }
   ],
   "source": [
    "glob.glob('./**/', recursive=True)"
   ]
  },
  {
   "cell_type": "code",
   "execution_count": 9,
   "id": "31303d78-7d43-47cd-b3f9-654ea6e48cdf",
   "metadata": {},
   "outputs": [
    {
     "data": {
      "text/plain": [
       "['.ipynb_checkpoints', '.ipython']"
      ]
     },
     "execution_count": 9,
     "metadata": {},
     "output_type": "execute_result"
    }
   ],
   "source": [
    "glob.glob('.i*')"
   ]
  },
  {
   "cell_type": "code",
   "execution_count": 10,
   "id": "adb3469c-4aaf-4335-91cb-7d1bd4a3cf44",
   "metadata": {},
   "outputs": [
    {
     "data": {
      "text/plain": [
       "['.\\\\6_3_stock_info.ipynb']"
      ]
     },
     "execution_count": 11,
     "metadata": {},
     "output_type": "execute_result"
    }
   ],
   "source": [
    "glob.glob('./[0-9]*.*'0"
   ]
  },
  {
   "cell_type": "code",
   "execution_count": 12,
   "id": "1abb28e7-999c-46a1-a95d-0f0f2b2998d0",
   "metadata": {},
   "outputs": [
    {
     "data": {
      "text/plain": [
       "['.\\\\AI-1.ipynb',\n",
       " '.\\\\Bigdata-1.ipynb',\n",
       " '.\\\\Bigdata-2.ipynb',\n",
       " '.\\\\Bigdata_10.17.ipynb',\n",
       " '.\\\\Bigdata_api-1.ipynb',\n",
       " '.\\\\Bigdata_api-2.ipynb',\n",
       " '.\\\\Bigdata_HW1.ipynb',\n",
       " '.\\\\Bigdata_HW2.ipynb',\n",
       " '.\\\\input2.txt',\n",
       " '.\\\\NTUSER.DAT{53b39e88-18c4-11ea-a811-000d3aa4692b}.TM.blf',\n",
       " '.\\\\NTUSER.DAT{53b39e88-18c4-11ea-a811-000d3aa4692b}.TMContainer00000000000000000001.regtrans-ms',\n",
       " '.\\\\NTUSER.DAT{53b39e88-18c4-11ea-a811-000d3aa4692b}.TMContainer00000000000000000002.regtrans-ms',\n",
       " '.\\\\winequality-red2.csv',\n",
       " '.\\\\winequality-white2.csv',\n",
       " '.\\\\파일 1.qgz']"
      ]
     },
     "execution_count": 12,
     "metadata": {},
     "output_type": "execute_result"
    }
   ],
   "source": [
    "glob.glob('./*[1-2]*.*')"
   ]
  },
  {
   "cell_type": "code",
   "execution_count": 17,
   "id": "ca30010e-164d-4d24-adfc-cd98cb672676",
   "metadata": {},
   "outputs": [
    {
     "data": {
      "text/plain": [
       "['.\\\\6_3_stock_info.ipynb']"
      ]
     },
     "execution_count": 17,
     "metadata": {},
     "output_type": "execute_result"
    }
   ],
   "source": [
    "glob.glob('./[0-9]*.*')"
   ]
  },
  {
   "cell_type": "code",
   "execution_count": 18,
   "id": "a39383cb-f9d0-45b9-a335-aa2de2cabb9c",
   "metadata": {},
   "outputs": [
    {
     "data": {
      "text/plain": [
       "['.\\\\AI-1.ipynb',\n",
       " '.\\\\Bigdata-1.ipynb',\n",
       " '.\\\\Bigdata-2.ipynb',\n",
       " '.\\\\Bigdata_10.17.ipynb',\n",
       " '.\\\\Bigdata_api-1.ipynb',\n",
       " '.\\\\Bigdata_api-2.ipynb',\n",
       " '.\\\\Bigdata_HW1.ipynb',\n",
       " '.\\\\Bigdata_HW2.ipynb',\n",
       " '.\\\\input2.txt',\n",
       " '.\\\\NTUSER.DAT{53b39e88-18c4-11ea-a811-000d3aa4692b}.TM.blf',\n",
       " '.\\\\NTUSER.DAT{53b39e88-18c4-11ea-a811-000d3aa4692b}.TMContainer00000000000000000001.regtrans-ms',\n",
       " '.\\\\NTUSER.DAT{53b39e88-18c4-11ea-a811-000d3aa4692b}.TMContainer00000000000000000002.regtrans-ms',\n",
       " '.\\\\winequality-red2.csv',\n",
       " '.\\\\winequality-white2.csv',\n",
       " '.\\\\파일 1.qgz']"
      ]
     },
     "execution_count": 18,
     "metadata": {},
     "output_type": "execute_result"
    }
   ],
   "source": [
    "glob.glob('./*[1-2]*.*')"
   ]
  },
  {
   "cell_type": "code",
   "execution_count": 17,
   "id": "e3fed30f-48bd-459f-a0b5-ae9f9eed40e5",
   "metadata": {},
   "outputs": [],
   "source": [
    "def my_add(a,b):\n",
    "    result = a + b\n",
    "    print(f\"{a} + {b} = {result}\")\n",
    "    return result"
   ]
  },
  {
   "cell_type": "code",
   "execution_count": 18,
   "id": "35567188-4392-4a95-aab0-0a8a738482e2",
   "metadata": {},
   "outputs": [
    {
     "name": "stdout",
     "output_type": "stream",
     "text": [
      "100 + 1500 = 1600\n"
     ]
    },
    {
     "data": {
      "text/plain": [
       "1600"
      ]
     },
     "execution_count": 18,
     "metadata": {},
     "output_type": "execute_result"
    }
   ],
   "source": [
    "my_add(100,1500)"
   ]
  },
  {
   "cell_type": "code",
   "execution_count": 19,
   "id": "fbef6751-df3b-41ca-bad6-c8b05a15b672",
   "metadata": {},
   "outputs": [
    {
     "name": "stdout",
     "output_type": "stream",
     "text": [
      "0 + 1 = 1\n",
      "1 + 2 = 3\n",
      "3 + 3 = 6\n",
      "6 + 4 = 10\n"
     ]
    },
    {
     "data": {
      "text/plain": [
       "10"
      ]
     },
     "execution_count": 19,
     "metadata": {},
     "output_type": "execute_result"
    }
   ],
   "source": [
    "from functools import reduce\n",
    "\n",
    "numbers = [0, 1, 2, 3, 4]\n",
    "\n",
    "reduce(my_add, numbers)"
   ]
  },
  {
   "cell_type": "code",
   "execution_count": 20,
   "id": "7e12c01c-5c7c-4471-8969-c7e86526d883",
   "metadata": {},
   "outputs": [
    {
     "name": "stdout",
     "output_type": "stream",
     "text": [
      "sum : 17\n",
      "max : 6\n"
     ]
    }
   ],
   "source": [
    "import functools\n",
    "\n",
    "li = [1, 3, 5, 6, 2]\n",
    "\n",
    "print(\"sum : \", end = \"\")\n",
    "print(functools.reduce(lambda a, b: a+b, li))\n",
    "\n",
    "print(\"max : \", end = \"\")\n",
    "print(functools.reduce(lambda a, b: a if a > b else b, li))"
   ]
  },
  {
   "cell_type": "code",
   "execution_count": 47,
   "id": "890d8815-b7d8-4e47-8570-a90236c33c05",
   "metadata": {},
   "outputs": [
    {
     "name": "stdout",
     "output_type": "stream",
     "text": [
      "showing info https://raw.githubusercontent.com/nltk/nltk_data/gh-pages/index.xml\n"
     ]
    },
    {
     "data": {
      "text/plain": [
       "True"
      ]
     },
     "execution_count": 47,
     "metadata": {},
     "output_type": "execute_result"
    }
   ],
   "source": [
    "import nltk\n",
    "nltk.download()"
   ]
  },
  {
   "cell_type": "code",
   "execution_count": 50,
   "id": "31e54988-9bd4-4af6-b121-8e55e68340c0",
   "metadata": {},
   "outputs": [
    {
     "data": {
      "text/plain": [
       "['Good',\n",
       " 'muffinds',\n",
       " 'cost',\n",
       " '$',\n",
       " '3.88',\n",
       " 'in',\n",
       " 'New',\n",
       " 'York',\n",
       " '.',\n",
       " 'Please',\n",
       " 'buy',\n",
       " 'me',\n",
       " '\\\\',\n",
       " 'two',\n",
       " 'of',\n",
       " 'them',\n",
       " '.',\n",
       " '감사합니다',\n",
       " '.']"
      ]
     },
     "execution_count": 50,
     "metadata": {},
     "output_type": "execute_result"
    }
   ],
   "source": [
    "from nltk.tokenize import word_tokenize\n",
    "\n",
    "s = '''Good muffinds cost $3.88\\nin New York. Please buy me \\ \n",
    "two of them. \\n\\n감사합니다.'''\n",
    "\n",
    "word_tokenize(s)"
   ]
  },
  {
   "cell_type": "code",
   "execution_count": 51,
   "id": "9e99a851-961e-4800-9f31-07ea30bc4c5c",
   "metadata": {},
   "outputs": [
    {
     "name": "stdout",
     "output_type": "stream",
     "text": [
      "['Good muffinds cost $3.88\\nin New York.', 'Please buy me \\\\ \\ntwo of them.', '감사합니다.']\n"
     ]
    }
   ],
   "source": [
    "from nltk.tokenize import sent_tokenize\n",
    "\n",
    "print(sent_tokenize(s))"
   ]
  },
  {
   "cell_type": "code",
   "execution_count": 52,
   "id": "6599b82c-787f-4eb3-91dc-2f29f9a6e53c",
   "metadata": {},
   "outputs": [
    {
     "data": {
      "text/plain": [
       "[['Good', 'muffinds', 'cost', '$', '3.88', 'in', 'New', 'York', '.'],\n",
       " ['Please', 'buy', 'me', '\\\\', 'two', 'of', 'them', '.'],\n",
       " ['감사합니다', '.']]"
      ]
     },
     "execution_count": 52,
     "metadata": {},
     "output_type": "execute_result"
    }
   ],
   "source": [
    "[word_tokenize(t) for t in sent_tokenize(s)]"
   ]
  },
  {
   "cell_type": "code",
   "execution_count": 56,
   "id": "0ee9337f-3f52-4129-b80f-4285cd23f02f",
   "metadata": {},
   "outputs": [
    {
     "name": "stdout",
     "output_type": "stream",
     "text": [
      "['i', 'me', 'my', 'myself', 'we', 'our', 'ours', 'ourselves', 'you', \"you're\", \"you've\", \"you'll\", \"you'd\", 'your', 'yours', 'yourself', 'yourselves', 'he', 'him', 'his', 'himself', 'she', \"she's\", 'her', 'hers', 'herself', 'it', \"it's\", 'its', 'itself', 'they', 'them', 'their', 'theirs', 'themselves', 'what', 'which', 'who', 'whom', 'this', 'that', \"that'll\", 'these', 'those', 'am', 'is', 'are', 'was', 'were', 'be', 'been', 'being', 'have', 'has', 'had', 'having', 'do', 'does', 'did', 'doing', 'a', 'an', 'the', 'and', 'but', 'if', 'or', 'because', 'as', 'until', 'while', 'of', 'at', 'by', 'for', 'with', 'about', 'against', 'between', 'into', 'through', 'during', 'before', 'after', 'above', 'below', 'to', 'from', 'up', 'down', 'in', 'out', 'on', 'off', 'over', 'under', 'again', 'further', 'then', 'once', 'here', 'there', 'when', 'where', 'why', 'how', 'all', 'any', 'both', 'each', 'few', 'more', 'most', 'other', 'some', 'such', 'no', 'nor', 'not', 'only', 'own', 'same', 'so', 'than', 'too', 'very', 's', 't', 'can', 'will', 'just', 'don', \"don't\", 'should', \"should've\", 'now', 'd', 'll', 'm', 'o', 're', 've', 'y', 'ain', 'aren', \"aren't\", 'couldn', \"couldn't\", 'didn', \"didn't\", 'doesn', \"doesn't\", 'hadn', \"hadn't\", 'hasn', \"hasn't\", 'haven', \"haven't\", 'isn', \"isn't\", 'ma', 'mightn', \"mightn't\", 'mustn', \"mustn't\", 'needn', \"needn't\", 'shan', \"shan't\", 'shouldn', \"shouldn't\", 'wasn', \"wasn't\", 'weren', \"weren't\", 'won', \"won't\", 'wouldn', \"wouldn't\"]\n"
     ]
    }
   ],
   "source": [
    "import nltk\n",
    "from nltk.corpus import stopwords\n",
    "print(stopwords.words('english'))"
   ]
  },
  {
   "cell_type": "code",
   "execution_count": 78,
   "id": "94d614fd-ccd2-4007-ac0c-3f26c7fad305",
   "metadata": {},
   "outputs": [
    {
     "name": "stdout",
     "output_type": "stream",
     "text": [
      "dog\n",
      "church\n",
      "aardwolf\n",
      "good\n"
     ]
    }
   ],
   "source": [
    "from nltk.stem import WordNetLemmatizer\n",
    "wnl = WordNetLemmatizer()\n",
    "\n",
    "print(wnl.lemmatize('dogs'))\n",
    "print(wnl.lemmatize('churches'))\n",
    "print(wnl.lemmatize('aardwolves'))\n",
    "\n",
    "# a denotes adjective in \"pos\"\n",
    "print( wnl.lemmatize(\"better\", pos = \"a\"))"
   ]
  },
  {
   "cell_type": "code",
   "execution_count": 67,
   "id": "8311277f-43ea-4103-a5e1-d4c929cd6cc3",
   "metadata": {},
   "outputs": [
    {
     "data": {
      "text/plain": [
       "{'m': 1, 'i': 4, 's': 4, 'p': 2}"
      ]
     },
     "execution_count": 67,
     "metadata": {},
     "output_type": "execute_result"
    }
   ],
   "source": [
    "word = \"mississippi\"\n",
    "counter = {}\n",
    "\n",
    "for letter in word:\n",
    "    counter[letter] = counter.get(letter, 0) + 1\n",
    "    \n",
    "counter"
   ]
  },
  {
   "cell_type": "code",
   "execution_count": 68,
   "id": "66a23e7a-1470-42e6-9e02-a8306439fecc",
   "metadata": {},
   "outputs": [
    {
     "data": {
      "text/plain": [
       "Counter({'a': 5, 'b': 2, 'r': 2, 'c': 1, 'd': 1})"
      ]
     },
     "execution_count": 68,
     "metadata": {},
     "output_type": "execute_result"
    }
   ],
   "source": [
    "from collections import Counter\n",
    "Counter('abracadabra')"
   ]
  },
  {
   "cell_type": "code",
   "execution_count": 71,
   "id": "6712c781-2625-49bc-a4dc-062fbb0308d8",
   "metadata": {},
   "outputs": [
    {
     "data": {
      "text/plain": [
       "[('a', 5), ('b', 2), ('r', 2)]"
      ]
     },
     "execution_count": 71,
     "metadata": {},
     "output_type": "execute_result"
    }
   ],
   "source": [
    "Counter('abracadabra').most_common(3)"
   ]
  },
  {
   "cell_type": "code",
   "execution_count": 72,
   "id": "7e72c18b-790e-41f0-ad78-4f00d51a65b1",
   "metadata": {},
   "outputs": [
    {
     "data": {
      "text/plain": [
       "Counter({'m': 1, 'i': 4, 's': 4, 'p': 2})"
      ]
     },
     "execution_count": 72,
     "metadata": {},
     "output_type": "execute_result"
    }
   ],
   "source": [
    "from collections import Counter\n",
    "\n",
    "Counter(\"mississippi\")"
   ]
  },
  {
   "cell_type": "code",
   "execution_count": 73,
   "id": "573c68cc-f0ae-405f-86a1-9706b0b07984",
   "metadata": {},
   "outputs": [
    {
     "data": {
      "text/plain": [
       "Counter({'m': 1, 'i': 4, 's': 4, 'p': 2})"
      ]
     },
     "execution_count": 73,
     "metadata": {},
     "output_type": "execute_result"
    }
   ],
   "source": [
    "Counter(list(\"mississippi\"))"
   ]
  },
  {
   "cell_type": "code",
   "execution_count": 74,
   "id": "5b36695f-c6b8-4762-b28f-d2317c41af62",
   "metadata": {},
   "outputs": [
    {
     "data": {
      "text/plain": [
       "Counter({'m': 1, 'i': 1, 's': 1, 'p': 1})"
      ]
     },
     "execution_count": 74,
     "metadata": {},
     "output_type": "execute_result"
    }
   ],
   "source": [
    "Counter(set(\"mississippi\"))"
   ]
  },
  {
   "cell_type": "code",
   "execution_count": 75,
   "id": "614011a4-6c6c-4e32-96f2-0efc1054538f",
   "metadata": {},
   "outputs": [
    {
     "data": {
      "text/plain": [
       "Counter({'i': 6, 's': 6, 'p': 2, 'm': 2, 'o': 1, 'u': 1, 'r': 1})"
      ]
     },
     "execution_count": 75,
     "metadata": {},
     "output_type": "execute_result"
    }
   ],
   "source": [
    "from collections import Counter\n",
    "\n",
    "letters = Counter({\"i\":4, \"s\":4, \"p\":2, \"m\":1})\n",
    "letters.update(\"missouri\")\n",
    "letters"
   ]
  },
  {
   "cell_type": "code",
   "execution_count": 76,
   "id": "abb0d97b-f8a9-42ec-8802-a0895cb37557",
   "metadata": {},
   "outputs": [
    {
     "name": "stdout",
     "output_type": "stream",
     "text": [
      "Counter({'apple': 35, 'orange': 23, 'banana': 15})\n",
      "Counter({'apple': 39, 'orange': 30, 'banana': 15, 'tomato': 4})\n"
     ]
    }
   ],
   "source": [
    "from collections import Counter\n",
    "sales = Counter(apple = 25, orange = 15, banana = 12)\n",
    "\n",
    "monday_sales = Counter(apple = 10, orange = 8, banana = 3)\n",
    "sales.update(monday_sales)\n",
    "print (sales)\n",
    "\n",
    "tuesday_sales = {\"apple\" : 4, \"orange\" : 7, \"tomato\" : 4}\n",
    "sales.update(tuesday_sales)\n",
    "print(sales)"
   ]
  },
  {
   "cell_type": "code",
   "execution_count": 79,
   "id": "ee8c70e0-f971-4c5e-a38a-2846c39ec409",
   "metadata": {},
   "outputs": [
    {
     "name": "stdout",
     "output_type": "stream",
     "text": [
      "2\n",
      "4\n",
      "m 1\n",
      "i 4\n",
      "s 4\n",
      "p 2\n",
      "m 1\n",
      "i 4\n",
      "s 4\n",
      "p 2\n",
      "1\n",
      "4\n",
      "4\n",
      "2\n",
      "m 1\n",
      "i 4\n",
      "s 4\n",
      "p 2\n"
     ]
    }
   ],
   "source": [
    "from collections import Counter\n",
    "letters = Counter(\"mississippi\")\n",
    "\n",
    "print(letters[\"p\"])\n",
    "print(letters[\"s\"])\n",
    "\n",
    "for letter in letters:\n",
    "    print(letter, letters[letter])\n",
    "    \n",
    "for letter in letters.keys():\n",
    "    print(letter,letters[letter])\n",
    "    \n",
    "for count in letters.values():\n",
    "    print(count)\n",
    "    \n",
    "for letter, count in letters.items():\n",
    "    print(letter, count)"
   ]
  },
  {
   "cell_type": "code",
   "execution_count": 96,
   "id": "85adbc64-db54-420a-8088-302e19ac2b03",
   "metadata": {},
   "outputs": [
    {
     "name": "stdout",
     "output_type": "stream",
     "text": [
      "[('apple', 39)]\n",
      "[('apple', 39), ('orange', 30)]\n",
      "[('apple', 39), ('orange', 30), ('banana', 15), ('tomato', 4)]\n"
     ]
    }
   ],
   "source": [
    "from collections import Counter\n",
    "sales = Counter(banana = 15, tomato = 4, apple = 39, orange = 30)\n",
    "\n",
    "print(sales.most_common(1))\n",
    "\n",
    "print(sales.most_common(2))\n",
    "\n",
    "print(sales.most_common())"
   ]
  },
  {
   "cell_type": "code",
   "execution_count": 97,
   "id": "22469832-707d-4e51-998d-fba52dd76a16",
   "metadata": {},
   "outputs": [
    {
     "name": "stdout",
     "output_type": "stream",
     "text": [
      "Requirement already satisfied: wordcloud in c:\\users\\munbe\\anaconda3\\lib\\site-packages (1.8.2.2)\n",
      "Requirement already satisfied: numpy>=1.6.1 in c:\\users\\munbe\\anaconda3\\lib\\site-packages (from wordcloud) (1.21.5)\n",
      "Requirement already satisfied: matplotlib in c:\\users\\munbe\\anaconda3\\lib\\site-packages (from wordcloud) (3.5.1)\n",
      "Requirement already satisfied: pillow in c:\\users\\munbe\\anaconda3\\lib\\site-packages (from wordcloud) (9.0.1)\n",
      "Requirement already satisfied: pyparsing>=2.2.1 in c:\\users\\munbe\\anaconda3\\lib\\site-packages (from matplotlib->wordcloud) (3.0.4)\n",
      "Requirement already satisfied: fonttools>=4.22.0 in c:\\users\\munbe\\anaconda3\\lib\\site-packages (from matplotlib->wordcloud) (4.25.0)\n",
      "Requirement already satisfied: cycler>=0.10 in c:\\users\\munbe\\anaconda3\\lib\\site-packages (from matplotlib->wordcloud) (0.11.0)\n",
      "Requirement already satisfied: python-dateutil>=2.7 in c:\\users\\munbe\\anaconda3\\lib\\site-packages (from matplotlib->wordcloud) (2.8.2)\n",
      "Requirement already satisfied: packaging>=20.0 in c:\\users\\munbe\\anaconda3\\lib\\site-packages (from matplotlib->wordcloud) (21.3)\n",
      "Requirement already satisfied: kiwisolver>=1.0.1 in c:\\users\\munbe\\anaconda3\\lib\\site-packages (from matplotlib->wordcloud) (1.3.2)\n",
      "Requirement already satisfied: six>=1.5 in c:\\users\\munbe\\anaconda3\\lib\\site-packages (from python-dateutil>=2.7->matplotlib->wordcloud) (1.16.0)\n"
     ]
    }
   ],
   "source": [
    "!pip install wordcloud"
   ]
  },
  {
   "cell_type": "code",
   "execution_count": 98,
   "id": "397a1f83-fafe-4efc-9bda-676c24be65f8",
   "metadata": {},
   "outputs": [
    {
     "data": {
      "image/png": "[encoded data removed]",
      "text/plain": [
       "<Figure size 432x288 with 1 Axes>"
      ]
     },
     "metadata": {
      "needs_background": "light"
     },
     "output_type": "display_data"
    }
   ],
   "source": [
    "from wordcloud import WordCloud\n",
    "\n",
    "text = open('words.txt').read()\n",
    "wordcloud = WordCloud().generate(text)\n",
    "\n",
    "import matplotlib.pyplot as plt\n",
    "\n",
    "plt.imshow(wordcloud)\n",
    "plt.axis(\"off\")\n",
    "plt.show()"
   ]
  },
  {
   "cell_type": "code",
   "execution_count": 105,
   "id": "c229d8a7-a077-4dc8-b951-57c7dab67952",
   "metadata": {},
   "outputs": [
    {
     "data": {
      "text/plain": [
       "['myCabinetExcelData (1).xls',\n",
       " 'myCabinetExcelData (2).xls',\n",
       " 'myCabinetExcelData (3).xls',\n",
       " 'myCabinetExcelData.xls']"
      ]
     },
     "execution_count": 105,
     "metadata": {},
     "output_type": "execute_result"
    }
   ],
   "source": [
    "import glob\n",
    "all_files = glob.glob('myCabinetExcelData*.xls')\n",
    "\n",
    "all_files"
   ]
  },
  {
   "cell_type": "code",
   "execution_count": 108,
   "id": "64b320f7-810a-4ef2-ae93-f13fe0745084",
   "metadata": {},
   "outputs": [
    {
     "data": {
      "text/html": [
       "<div>\n",
       "<style scoped>\n",
       "    .dataframe tbody tr th:only-of-type {\n",
       "        vertical-align: middle;\n",
       "    }\n",
       "\n",
       "    .dataframe tbody tr th {\n",
       "        vertical-align: top;\n",
       "    }\n",
       "\n",
       "    .dataframe thead th {\n",
       "        text-align: right;\n",
       "    }\n",
       "</style>\n",
       "<table border=\"1\" class=\"dataframe\">\n",
       "  <thead>\n",
       "    <tr style=\"text-align: right;\">\n",
       "      <th></th>\n",
       "      <th>Unnamed: 0</th>\n",
       "      <th>번호</th>\n",
       "      <th>제목</th>\n",
       "      <th>저자</th>\n",
       "      <th>출판사</th>\n",
       "      <th>출판일</th>\n",
       "    </tr>\n",
       "  </thead>\n",
       "  <tbody>\n",
       "    <tr>\n",
       "      <th>0</th>\n",
       "      <td>NaN</td>\n",
       "      <td>1</td>\n",
       "      <td>Call for Special Issue Papers: Soft Computing ...</td>\n",
       "      <td>Chilamkurti, Naveen; Paul, Anand; Kumar, Akshi</td>\n",
       "      <td>Mary Ann Leibert</td>\n",
       "      <td>2020</td>\n",
       "    </tr>\n",
       "    <tr>\n",
       "      <th>1</th>\n",
       "      <td>NaN</td>\n",
       "      <td>2</td>\n",
       "      <td>Atmospheric and ecosystem big data providing k...</td>\n",
       "      <td>Kulmala, Markku; Lintunen, Anna; Ylivinkka, Il...</td>\n",
       "      <td>John Wiley &amp; Sons Ltd</td>\n",
       "      <td>2021</td>\n",
       "    </tr>\n",
       "    <tr>\n",
       "      <th>2</th>\n",
       "      <td>NaN</td>\n",
       "      <td>3</td>\n",
       "      <td>Earth observation and geospatial big data mana...</td>\n",
       "      <td>Mihály, Szabolcs; Remetey-Fülöpp, Gábor; Krist...</td>\n",
       "      <td>John Wiley &amp; Sons Ltd</td>\n",
       "      <td>2021</td>\n",
       "    </tr>\n",
       "    <tr>\n",
       "      <th>3</th>\n",
       "      <td>NaN</td>\n",
       "      <td>4</td>\n",
       "      <td>RST-DE: Rough Sets-Based New Differential Evol...</td>\n",
       "      <td>Thakur, Santosh; Dharavath, Ramesh; Shankar, A...</td>\n",
       "      <td>Mary Ann Leibert</td>\n",
       "      <td>2022</td>\n",
       "    </tr>\n",
       "    <tr>\n",
       "      <th>4</th>\n",
       "      <td>NaN</td>\n",
       "      <td>5</td>\n",
       "      <td>Furthest-Pair-Based Binary Search Tree for Spe...</td>\n",
       "      <td>Hassanat, A. B. A.</td>\n",
       "      <td>Mary Ann Leibert</td>\n",
       "      <td>2018</td>\n",
       "    </tr>\n",
       "    <tr>\n",
       "      <th>...</th>\n",
       "      <td>...</td>\n",
       "      <td>...</td>\n",
       "      <td>...</td>\n",
       "      <td>...</td>\n",
       "      <td>...</td>\n",
       "      <td>...</td>\n",
       "    </tr>\n",
       "    <tr>\n",
       "      <th>95</th>\n",
       "      <td>NaN</td>\n",
       "      <td>96</td>\n",
       "      <td>A platform for big data analytics on distribut...</td>\n",
       "      <td>Aye, Kyar Nyo; Thein, Thandar</td>\n",
       "      <td>Inderscience</td>\n",
       "      <td>2015</td>\n",
       "    </tr>\n",
       "    <tr>\n",
       "      <th>96</th>\n",
       "      <td>NaN</td>\n",
       "      <td>97</td>\n",
       "      <td>Classification and comparison of NoSQL big dat...</td>\n",
       "      <td>Sharma, Sugam; Tim, Udoyara Sunday; Gadia, Sha...</td>\n",
       "      <td>Inderscience</td>\n",
       "      <td>2015</td>\n",
       "    </tr>\n",
       "    <tr>\n",
       "      <th>97</th>\n",
       "      <td>NaN</td>\n",
       "      <td>98</td>\n",
       "      <td>Kvasir: Scalable Provision of Semantically Rel...</td>\n",
       "      <td>Wang, L.; Tasoulis, S.; Roos, T.; Kangasharju, J.</td>\n",
       "      <td>unknown</td>\n",
       "      <td>2016</td>\n",
       "    </tr>\n",
       "    <tr>\n",
       "      <th>98</th>\n",
       "      <td>NaN</td>\n",
       "      <td>99</td>\n",
       "      <td>NoSQL databases for big data</td>\n",
       "      <td>Oussous, Ahmed; Benjelloun, Fatima-Zahra; Lahc...</td>\n",
       "      <td>Inderscience</td>\n",
       "      <td>2017</td>\n",
       "    </tr>\n",
       "    <tr>\n",
       "      <th>99</th>\n",
       "      <td>NaN</td>\n",
       "      <td>100</td>\n",
       "      <td>Towards quality-of-service driven consistency ...</td>\n",
       "      <td>García-Recuero, Álvaro; Esteves, Sérgio; Veiga...</td>\n",
       "      <td>Inderscience</td>\n",
       "      <td>2014</td>\n",
       "    </tr>\n",
       "  </tbody>\n",
       "</table>\n",
       "<p>100 rows × 6 columns</p>\n",
       "</div>"
      ],
      "text/plain": [
       "    Unnamed: 0   번호                                                 제목  \\\n",
       "0          NaN    1  Call for Special Issue Papers: Soft Computing ...   \n",
       "1          NaN    2  Atmospheric and ecosystem big data providing k...   \n",
       "2          NaN    3  Earth observation and geospatial big data mana...   \n",
       "3          NaN    4  RST-DE: Rough Sets-Based New Differential Evol...   \n",
       "4          NaN    5  Furthest-Pair-Based Binary Search Tree for Spe...   \n",
       "..         ...  ...                                                ...   \n",
       "95         NaN   96  A platform for big data analytics on distribut...   \n",
       "96         NaN   97  Classification and comparison of NoSQL big dat...   \n",
       "97         NaN   98  Kvasir: Scalable Provision of Semantically Rel...   \n",
       "98         NaN   99                       NoSQL databases for big data   \n",
       "99         NaN  100  Towards quality-of-service driven consistency ...   \n",
       "\n",
       "                                                   저자                    출판사  \\\n",
       "0      Chilamkurti, Naveen; Paul, Anand; Kumar, Akshi       Mary Ann Leibert   \n",
       "1   Kulmala, Markku; Lintunen, Anna; Ylivinkka, Il...  John Wiley & Sons Ltd   \n",
       "2   Mihály, Szabolcs; Remetey-Fülöpp, Gábor; Krist...  John Wiley & Sons Ltd   \n",
       "3   Thakur, Santosh; Dharavath, Ramesh; Shankar, A...       Mary Ann Leibert   \n",
       "4                                  Hassanat, A. B. A.       Mary Ann Leibert   \n",
       "..                                                ...                    ...   \n",
       "95                      Aye, Kyar Nyo; Thein, Thandar           Inderscience   \n",
       "96  Sharma, Sugam; Tim, Udoyara Sunday; Gadia, Sha...           Inderscience   \n",
       "97  Wang, L.; Tasoulis, S.; Roos, T.; Kangasharju, J.                unknown   \n",
       "98  Oussous, Ahmed; Benjelloun, Fatima-Zahra; Lahc...           Inderscience   \n",
       "99  García-Recuero, Álvaro; Esteves, Sérgio; Veiga...           Inderscience   \n",
       "\n",
       "     출판일  \n",
       "0   2020  \n",
       "1   2021  \n",
       "2   2021  \n",
       "3   2022  \n",
       "4   2018  \n",
       "..   ...  \n",
       "95  2015  \n",
       "96  2015  \n",
       "97  2016  \n",
       "98  2017  \n",
       "99  2014  \n",
       "\n",
       "[100 rows x 6 columns]"
      ]
     },
     "execution_count": 108,
     "metadata": {},
     "output_type": "execute_result"
    }
   ],
   "source": [
    "import pandas as pd\n",
    "\n",
    "all_files_data = []\n",
    "for file in all_files:\n",
    "    data_frame = pd.read_excel(file)\n",
    "    all_files_data.append(data_frame)\n",
    "    \n",
    "all_files_data[0]"
   ]
  },
  {
   "cell_type": "code",
   "execution_count": 109,
   "id": "94655818-67aa-48c5-9223-4023b4888ab4",
   "metadata": {},
   "outputs": [
    {
     "data": {
      "text/html": [
       "<div>\n",
       "<style scoped>\n",
       "    .dataframe tbody tr th:only-of-type {\n",
       "        vertical-align: middle;\n",
       "    }\n",
       "\n",
       "    .dataframe tbody tr th {\n",
       "        vertical-align: top;\n",
       "    }\n",
       "\n",
       "    .dataframe thead th {\n",
       "        text-align: right;\n",
       "    }\n",
       "</style>\n",
       "<table border=\"1\" class=\"dataframe\">\n",
       "  <thead>\n",
       "    <tr style=\"text-align: right;\">\n",
       "      <th></th>\n",
       "      <th>Unnamed: 0</th>\n",
       "      <th>번호</th>\n",
       "      <th>제목</th>\n",
       "      <th>저자</th>\n",
       "      <th>출판사</th>\n",
       "      <th>출판일</th>\n",
       "    </tr>\n",
       "  </thead>\n",
       "  <tbody>\n",
       "    <tr>\n",
       "      <th>0</th>\n",
       "      <td>NaN</td>\n",
       "      <td>1</td>\n",
       "      <td>Call for Special Issue Papers: Soft Computing ...</td>\n",
       "      <td>Chilamkurti, Naveen; Paul, Anand; Kumar, Akshi</td>\n",
       "      <td>Mary Ann Leibert</td>\n",
       "      <td>2020</td>\n",
       "    </tr>\n",
       "    <tr>\n",
       "      <th>1</th>\n",
       "      <td>NaN</td>\n",
       "      <td>2</td>\n",
       "      <td>Atmospheric and ecosystem big data providing k...</td>\n",
       "      <td>Kulmala, Markku; Lintunen, Anna; Ylivinkka, Il...</td>\n",
       "      <td>John Wiley &amp; Sons Ltd</td>\n",
       "      <td>2021</td>\n",
       "    </tr>\n",
       "    <tr>\n",
       "      <th>2</th>\n",
       "      <td>NaN</td>\n",
       "      <td>3</td>\n",
       "      <td>Earth observation and geospatial big data mana...</td>\n",
       "      <td>Mihály, Szabolcs; Remetey-Fülöpp, Gábor; Krist...</td>\n",
       "      <td>John Wiley &amp; Sons Ltd</td>\n",
       "      <td>2021</td>\n",
       "    </tr>\n",
       "    <tr>\n",
       "      <th>3</th>\n",
       "      <td>NaN</td>\n",
       "      <td>4</td>\n",
       "      <td>RST-DE: Rough Sets-Based New Differential Evol...</td>\n",
       "      <td>Thakur, Santosh; Dharavath, Ramesh; Shankar, A...</td>\n",
       "      <td>Mary Ann Leibert</td>\n",
       "      <td>2022</td>\n",
       "    </tr>\n",
       "    <tr>\n",
       "      <th>4</th>\n",
       "      <td>NaN</td>\n",
       "      <td>5</td>\n",
       "      <td>Furthest-Pair-Based Binary Search Tree for Spe...</td>\n",
       "      <td>Hassanat, A. B. A.</td>\n",
       "      <td>Mary Ann Leibert</td>\n",
       "      <td>2018</td>\n",
       "    </tr>\n",
       "    <tr>\n",
       "      <th>...</th>\n",
       "      <td>...</td>\n",
       "      <td>...</td>\n",
       "      <td>...</td>\n",
       "      <td>...</td>\n",
       "      <td>...</td>\n",
       "      <td>...</td>\n",
       "    </tr>\n",
       "    <tr>\n",
       "      <th>395</th>\n",
       "      <td>NaN</td>\n",
       "      <td>96</td>\n",
       "      <td>Call for Special Issue Papers: Big Scientific ...</td>\n",
       "      <td>Anaraki, Farhad Pourkamali; Hariri-Ardebili, M...</td>\n",
       "      <td>Mary Ann Leibert</td>\n",
       "      <td>2021</td>\n",
       "    </tr>\n",
       "    <tr>\n",
       "      <th>396</th>\n",
       "      <td>NaN</td>\n",
       "      <td>97</td>\n",
       "      <td>A Survey of Biological Data in a Big Data Pers...</td>\n",
       "      <td>Dall'Alba, Gabriel; Casa, Pedro Lenz; Abreu, F...</td>\n",
       "      <td>Mary Ann Leibert</td>\n",
       "      <td>2022</td>\n",
       "    </tr>\n",
       "    <tr>\n",
       "      <th>397</th>\n",
       "      <td>NaN</td>\n",
       "      <td>98</td>\n",
       "      <td>Call for Special Issue Papers: Soft Computing ...</td>\n",
       "      <td>Chilamkurti, Naveen; Paul, Anand; Kumar, Akshi</td>\n",
       "      <td>Mary Ann Leibert</td>\n",
       "      <td>2020</td>\n",
       "    </tr>\n",
       "    <tr>\n",
       "      <th>398</th>\n",
       "      <td>NaN</td>\n",
       "      <td>99</td>\n",
       "      <td>Moth-Flame Optimization-Bat Optimization: Map-...</td>\n",
       "      <td>Ravuri, Vasavi; Vasundra, S.</td>\n",
       "      <td>Mary Ann Leibert</td>\n",
       "      <td>2020</td>\n",
       "    </tr>\n",
       "    <tr>\n",
       "      <th>399</th>\n",
       "      <td>NaN</td>\n",
       "      <td>100</td>\n",
       "      <td>Call for Papers: Special Issue on Computationa...</td>\n",
       "      <td>unknown</td>\n",
       "      <td>Mary Ann Leibert</td>\n",
       "      <td>2017</td>\n",
       "    </tr>\n",
       "  </tbody>\n",
       "</table>\n",
       "<p>400 rows × 6 columns</p>\n",
       "</div>"
      ],
      "text/plain": [
       "     Unnamed: 0   번호                                                 제목  \\\n",
       "0           NaN    1  Call for Special Issue Papers: Soft Computing ...   \n",
       "1           NaN    2  Atmospheric and ecosystem big data providing k...   \n",
       "2           NaN    3  Earth observation and geospatial big data mana...   \n",
       "3           NaN    4  RST-DE: Rough Sets-Based New Differential Evol...   \n",
       "4           NaN    5  Furthest-Pair-Based Binary Search Tree for Spe...   \n",
       "..          ...  ...                                                ...   \n",
       "395         NaN   96  Call for Special Issue Papers: Big Scientific ...   \n",
       "396         NaN   97  A Survey of Biological Data in a Big Data Pers...   \n",
       "397         NaN   98  Call for Special Issue Papers: Soft Computing ...   \n",
       "398         NaN   99  Moth-Flame Optimization-Bat Optimization: Map-...   \n",
       "399         NaN  100  Call for Papers: Special Issue on Computationa...   \n",
       "\n",
       "                                                    저자                    출판사  \\\n",
       "0       Chilamkurti, Naveen; Paul, Anand; Kumar, Akshi       Mary Ann Leibert   \n",
       "1    Kulmala, Markku; Lintunen, Anna; Ylivinkka, Il...  John Wiley & Sons Ltd   \n",
       "2    Mihály, Szabolcs; Remetey-Fülöpp, Gábor; Krist...  John Wiley & Sons Ltd   \n",
       "3    Thakur, Santosh; Dharavath, Ramesh; Shankar, A...       Mary Ann Leibert   \n",
       "4                                   Hassanat, A. B. A.       Mary Ann Leibert   \n",
       "..                                                 ...                    ...   \n",
       "395  Anaraki, Farhad Pourkamali; Hariri-Ardebili, M...       Mary Ann Leibert   \n",
       "396  Dall'Alba, Gabriel; Casa, Pedro Lenz; Abreu, F...       Mary Ann Leibert   \n",
       "397     Chilamkurti, Naveen; Paul, Anand; Kumar, Akshi       Mary Ann Leibert   \n",
       "398                       Ravuri, Vasavi; Vasundra, S.       Mary Ann Leibert   \n",
       "399                                            unknown       Mary Ann Leibert   \n",
       "\n",
       "      출판일  \n",
       "0    2020  \n",
       "1    2021  \n",
       "2    2021  \n",
       "3    2022  \n",
       "4    2018  \n",
       "..    ...  \n",
       "395  2021  \n",
       "396  2022  \n",
       "397  2020  \n",
       "398  2020  \n",
       "399  2017  \n",
       "\n",
       "[400 rows x 6 columns]"
      ]
     },
     "execution_count": 109,
     "metadata": {},
     "output_type": "execute_result"
    }
   ],
   "source": [
    "all_files_data_concat = pd.concat(all_files_data, ignore_index = True)\n",
    "all_files_data_concat"
   ]
  },
  {
   "cell_type": "code",
   "execution_count": 116,
   "id": "d9b59c76-efc7-49f4-ba1a-ae1888c52dd9",
   "metadata": {},
   "outputs": [],
   "source": [
    "all_files_data_concat.to_csv('riss_bigdata.csv',\n",
    "                             encoding = 'utf-8', index = False)"
   ]
  },
  {
   "cell_type": "code",
   "execution_count": 117,
   "id": "6ef95b0e-4de0-495d-84c0-36d9e28cd234",
   "metadata": {},
   "outputs": [
    {
     "data": {
      "text/plain": [
       "0      Call for Special Issue Papers: Soft Computing ...\n",
       "1      Atmospheric and ecosystem big data providing k...\n",
       "2      Earth observation and geospatial big data mana...\n",
       "3      RST-DE: Rough Sets-Based New Differential Evol...\n",
       "4      Furthest-Pair-Based Binary Search Tree for Spe...\n",
       "                             ...                        \n",
       "395    Call for Special Issue Papers: Big Scientific ...\n",
       "396    A Survey of Biological Data in a Big Data Pers...\n",
       "397    Call for Special Issue Papers: Soft Computing ...\n",
       "398    Moth-Flame Optimization-Bat Optimization: Map-...\n",
       "399    Call for Papers: Special Issue on Computationa...\n",
       "Name: 제목, Length: 400, dtype: object"
      ]
     },
     "execution_count": 117,
     "metadata": {},
     "output_type": "execute_result"
    }
   ],
   "source": [
    "all_title = all_files_data_concat['제목']\n",
    "\n",
    "all_title"
   ]
  },
  {
   "cell_type": "code",
   "execution_count": 119,
   "id": "6ee45204-af3c-451e-b35e-0702e5662447",
   "metadata": {},
   "outputs": [
    {
     "name": "stdout",
     "output_type": "stream",
     "text": [
      "[['call', 'special', 'issue', 'paper', 'soft', 'computing', 'model', 'big', 'data', 'internet', 'thing'], ['atmospheric', 'ecosystem', 'big', 'data', 'providing', 'key', 'contribution', 'reaching', 'united', 'nation', 'sustainable', 'development', 'goal'], ['earth', 'observation', 'geospatial', 'big', 'data', 'management', 'engagement', 'stakeholder', 'hungary', 'support', 'sdgs'], ['rst-de', 'rough', 'sets-based', 'new', 'differential', 'evolution', 'algorithm', 'scalable', 'big', 'data', 'feature', 'selection', 'distributed', 'computing', 'platform'], ['furthest-pair-based', 'binary', 'search', 'tree', 'speeding', 'big', 'data', 'classification', 'using', 'k-nearest', 'neighbor'], ['remotely', 'sensed', 'big', 'data', 'ocean', 'polar', 'region'], ['call', 'special', 'issue', 'paper', 'multimedia', 'big', 'data', 'analytics', 'engineering', 'education'], ['secdedoop', 'secure', 'deduplication', 'access', 'control', 'big', 'data', 'hdfs/hadoop', 'environment'], ['big', 'data', 'application', 'guangzhou', 'restaurant', 'analysis'], ['big', 'data', 'little', 'data', 'care', 'coordination', 'medicare', 'beneficiary', 'medigap', 'coverage'], ['medical', 'school', 'training', 'relate', 'practice', 'evidence', 'big', 'data'], ['ensemble-based', 'scalable', 'approach', 'intrusion', 'detection', 'using', 'big', 'data', 'framework'], ['u.s', 'army', 'person-event', 'data', 'environment', 'militaryãƒâ¢ã¢â€šâ¬ã¢â‚¬å', '“', 'civilian', 'big', 'data', 'enterprise'], ['big', 'data', 'ensemble', 'clinical', 'prediction', 'healthcare', 'data', 'using', 'deep', 'learning', 'model'], ['call', 'paper', 'big', 'data'], ['data', 'science', 'oceanography', 'small', 'data', 'big', 'data'], ['artificial', 'bee', 'colony', 'reinforced', 'extended', 'kalman', 'filter', 'localization', 'algorithm', 'internet', 'thing', 'big', 'data', 'blending', 'technique', 'finding', 'accurate', 'position', 'reference', 'node'], ['call', 'paper', 'special', 'issue', 'big', 'data', 'robotics'], ['correction', 'big', 'data', '2016', ';', '4:60–66'], ['big', 'data', 'literature', 'search'], ['combining', 'human', 'computing', 'machine', 'learning', 'make', 'sense', 'big', '(', 'aerial', 'data', 'disaster', 'response'], ['comparison', 'scalability', 'batch', 'big', 'data', 'processing', 'apache', 'spark', 'apache', 'flink'], ['big', 'data', 'social', 'good'], ['big', 'data', 'predictive', 'analytics', 'health', 'care'], ['common', 'big', 'data', 'challenge', 'overcome'], ['exercise', 'exploring', 'big', 'data', 'producing', 'reliable', 'statistical', 'information'], ['stgi：a', 'spatio-temporal', 'grid', 'index', 'model', 'marine', 'big', 'data'], ['big', 'data', 'analytics', 'data', 'management', 'perspective', 'public', 'administration'], ['tv', 'audience', 'measurement', 'big', 'data'], ['big', 'data', 'guide', 'understanding', 'climate', 'change', 'case', 'theory-guided', 'data', 'science'], ['call', 'paper', 'special', 'issue', 'big', 'data', 'robotics'], ['curating', 'big', 'data', 'made', 'simple', 'perspective', 'scientific', 'community'], ['national', 'survey', 'population', 'health', 'big', 'data', 'analytics', 'mobile', 'health', 'monitor'], ['big', 'data', 'machine', 'analyze', 'stock', 'market', 'sentiment', '?'], ['big', 'data', '2.0', 'cataclysm', 'catalyst', '?'], ['big', 'data', 'big', 'deal'], ['big', 'data', 'rise', 'machine', 'financial', 'market'], ['us', 'big', 'data', 'city'], ['leveraging', 'big', 'data', 'analytics', 'case', 'kenyan', 'telecom'], ['agile', 'big', 'data', 'analytics', 'web-based', 'system', 'architecture-centric', 'approach'], ['analyzing', 'big', 'smart', 'metering', 'data', 'towards', 'differentiated', 'user', 'service', 'sublinear', 'approach'], ['scalable', 'big', 'data', 'modelling'], ['clustering', 'big', 'spatiotemporal-interval', 'data'], ['health', 'big', 'data', 'analytics', 'current', 'perspective', 'challenge', 'potential', 'solution'], ['health', 'big', 'data', 'analytics', 'current', 'perspective', 'challenge', 'potential', 'solution'], ['intelligent', 'big', 'data', 'analysis', 'review'], ['intelligent', 'big', 'data', 'analysis', 'review'], ['improved', 'big', 'data', 'stock', 'index', 'prediction', 'using', 'deep', 'learning', 'cnn', 'gru'], ['big', 'data', 'analytics', 'framework', 'border', 'crossing', 'transportation'], ['guest', 'editorial', 'big', 'scholar', 'data', 'discovery', 'collaboration'], ['guest', 'editorial', 'big', 'data', 'analytics', 'web'], ['guest', 'editorial', 'big', 'data', 'analytics', 'web'], ['guest', 'editorial', 'big', 'scholar', 'data', 'discovery', 'collaboration'], ['guest', 'editorial', 'big', 'data', 'infrastructure'], ['speed', 'big', 'data', 'analytics', 'unveiling', 'storage', 'distribution', 'sub-datasets'], ['towards', 'max-min', 'fair', 'resource', 'allocation', 'stream', 'big', 'data', 'analytics', 'shared', 'cloud'], ['resting-state', 'fmri', 'functional', 'connectivity', 'big', 'data', 'preprocessing', 'pipeline', 'topological', 'data', 'analysis'], ['thermal-aware', 'dvfs-enabled', 'big', 'data', 'task', 'scheduling', 'data', 'center'], ['distributed', 'feature', 'selection', 'efficient', 'economic', 'big', 'data', 'analysis'], ['perception', 'independent', 'financial', 'advisor', 'usefulness', 'big', 'data', 'context', 'decision', 'making', 'uk'], ['review', 'ethical', 'concern', 'big', 'data', 'management'], ['online', 'similarity', 'learning', 'big', 'data', 'overfitting'], ['optimized', 'deep', 'learning', 'eeg', 'big', 'data', 'seizure', 'prediction', 'bci', 'via', 'internet', 'thing'], ['towards', 'quality-of-service', 'driven', 'consistency', 'big', 'data', 'management'], ['survey', 'development', 'context-aware', 'monitoring', 'healthcare', 'big', 'data'], ['201', 'index', 'ieee', 'transaction', 'big', 'data', 'vol', '3'], ['current', 'trend', 'predictive', 'analytics', 'big', 'data'], ['hdm', 'composable', 'framework', 'big', 'data', 'processing'], ['enhanced', 'visualization', 'method', 'aid', 'behavioral', 'trajectory', 'pattern', 'recognition', 'infrastructure', 'big', 'longitudinal', 'data'], ['extended', 'spatio-temporal', 'granger', 'causality', 'model', 'air', 'quality', 'estimation', 'heterogeneous', 'urban', 'big', 'data'], ['concentric', 'framework', 'leveraging', 'big', 'data', 'business', 'value'], ['secure', 'multi-owner-based', 'cloud', 'computing', 'scheme', 'big', 'data'], ['toward', 'efficient', 'flexible', 'metadata', 'indexing', 'big', 'data', 'system'], ['smart', 'monitoring', 'camera', 'driven', 'intelligent', 'processing', 'big', 'surveillance', 'video', 'data'], ['201', 'index', 'ieee', 'transaction', 'big', 'data', 'vol', '2'], ['algorithmseer', 'system', 'extracting', 'searching', 'algorithm', 'scholarly', 'big', 'data'], ['taxi-passenger-demand', 'modeling', 'based', 'big', 'data', 'roving', 'sensor', 'network'], ['dip-svm', 'distribution', 'preserving', 'kernel', 'support', 'vector', 'machine', 'big', 'data'], ['availability', 'modelling', 'assurance', 'big', 'data', 'computing'], ['hierarchical', 'distributed', 'processing', 'framework', 'big', 'image', 'data'], ['guest', 'editorial', 'special', 'issue', 'big', 'scholar', 'data', 'discovery', 'collaboration', '(', 'continued', ')'], ['structural', 'balance', 'theory-based', 'e-commerce', 'recommendation', 'big', 'rating', 'data'], ['deduplication', 'encrypted', 'big', 'data', 'cloud'], ['towards', 'real-time', 'big', 'data', 'analytics', 'platform', 'health', 'application'], ['hybridisation', 'classifier', 'anomaly', 'detection', 'big', 'data'], ['fast', 'approach', 'semantic', 'service', 'composition', 'big', 'data', 'environment'], ['reference', 'architecture', 'big', 'data', 'solution', 'introducing', 'model', 'perform', 'predictive', 'analytics', 'using', 'big', 'data', 'technology'], ['platform', 'big', 'data', 'analytics', 'distributed', 'scale\\x96out', 'storage', 'system'], ['five-layer', 'architecture', 'big', 'data', 'processing', 'analytics'], ['petuum', 'new', 'platform', 'distributed', 'machine', 'learning', 'big', 'data'], ['parallel', 'computing', 'preserving', 'privacy', 'using', 'k-anonymisation', 'algorithm', 'big', 'data'], ['palopro', 'platform', 'knowledge', 'extraction', 'big', 'social', 'data', 'news'], ['corporate', 'governance', 'fraud', 'detection', 'annual', 'report', 'using', 'big', 'data', 'analytics'], ['fuzzy', 'based', 'scalable', 'clustering', 'algorithm', 'handling', 'big', 'data', 'using', 'apache', 'spark'], ['survey', 'big', 'data', 'processing', 'infrastructure', 'evolving', 'role', 'fpga'], ['platform', 'big', 'data', 'analytics', 'distributed', 'scale-out', 'storage', 'system'], ['classification', 'comparison', 'nosql', 'big', 'data', 'model'], ['kvasir', 'scalable', 'provision', 'semantically', 'relevant', 'web', 'content', 'big', 'data', 'framework'], ['nosql', 'database', 'big', 'data'], ['towards', 'quality-of-service', 'driven', 'consistency', 'big', 'data', 'management'], ['large-scale', 'spectral', 'clustering', 'managing', 'big', 'data', 'healthcare', 'operation'], ['big', 'earth', 'data', 'new', 'frontier', 'earth', 'information', 'science'], ['view-based', 'model', 'data-cube', 'support', 'big', 'earth', 'data', 'system', 'interoperability'], ['big', 'earth', 'data', 'comprehensive', 'analysis', 'visualization', 'analytics', 'issue'], ['gsio', 'programmatic', 'interface', 'delivering', 'big', 'earth', 'data-as-a-service'], ['role', 'big', 'earth', 'data', 'understanding', 'climate', 'change'], ['analytics', 'big', 'geosocial', 'medium', 'crowdsourced', 'data'], ['big', 'spatial', 'vector', 'data', 'management', 'review'], ['exploiting', 'big', 'earth', 'data', 'space', 'first', 'experience', 'timescan', 'processing', 'chain'], ['generalized', 'supervised', 'classification', 'scheme', 'produce', 'provincial', 'wetland', 'inventory', 'map', 'application', 'google', 'earth', 'engine', 'big', 'geo', 'data', 'processing'], ['big', 'earth', 'data', 'analytics', 'survey'], ['geospatial', 'semantics', 'ontology', 'knowledge', 'graph', 'big', 'earth', 'data'], ['efficient', 'utilization', 'multi-core', 'processor', 'many-core', 'co-processors', 'supercomputer', 'beacon', 'scalable', 'geocomputation', 'geo-simulation', 'big', 'earth', 'data'], ['evaluating', 'role', 'partnership', 'increasing', 'use', 'big', 'earth', 'data', 'support', 'sustainable', 'development', 'goal', 'australian', 'perspective'], ['big', 'earth', 'data', 'facilitates', 'sustainable', 'development', 'goal'], ['big', 'earth', 'data', 'analytics', 'sentinel-', 'landsat', 'imagery', 'support', 'global', 'human', 'settlement', 'mapping'], ['semantics', 'way', 'semantic', 'web', 'open', 'science', 'big', 'earth', 'data'], ['visual', 'analytics', 'big', 'open', 'public', 'transport', 'data', 'framework', 'pipeline', 'monitoring', 'system', 'performance', 'greater', 'sydney'], ['stewardship', 'analysis', 'big', 'earth', 'observation', 'data'], ['big', 'earth', 'data', 'achieving', 'sustainable', 'development', 'goal', 'belt', 'road', 'region'], ['innovative', 'approach', 'sustainable', 'development', 'goal', 'using', 'big', 'earth', 'data'], ['impact', 'wechat', 'public', 'platform', 'blood', 'donation', 'behavior', 'big', 'data-based', 'study'], ['simd', 'parallel', 'mcmc', 'sampling', 'application', 'big-data', 'bayesian', 'analytics'], ['review', 'sentiment', 'discovery', 'analysis', 'educational', 'big‐data'], ['data', 'analysis', 'big', 'data', 'improving', 'map', 'shuffle', 'phase', 'hadoop', 'map', 'reduce'], ['big', 'data', 'analytics—a', 'review', 'data‐mining', 'model', 'small', 'medium', 'enterprise', 'transportation', 'sector'], ['big', 'bigger', 'biggest', 'data', 'repository', 'balloon', 'unprecedented', 'level', 'coping', '``', 'big', 'data', '.', \"''\"], ['big', 'data', 'analytics—a', 'review', 'data‐mining', 'model', 'small', 'medium', 'enterprise', 'transportation', 'sector'], ['transforming', 'big', 'data', 'smart', 'data', 'insight', 'use', 'k‐nearest', 'neighbor', 'algorithm', 'obtain', 'quality', 'data'], ['forecasting', 'big', 'data', 'review'], ['semantics', 'meet', 'big', 'data', 'formal', 'model', 'practical', 'issue', 'novel', 'paradigm'], ['quantile', 'regression', 'big', 'data', 'divide', 'conquer', 'based', 'strategy'], ['organisation', 'leverage', 'big', 'data', 'maturity', 'model'], ['visualization', 'statistical', 'modeling', 'financial', 'big', 'data', 'double-log', 'modeling', 'skew-symmetric', 'error', 'distribution'], ['big', 'data', \"n't\", 'always', 'yield', 'big', 'benefit'], ['big', 'data', 'challenge', 'big', 'science'], ['big', 'data', 'big', 'result', 'knowledge', 'discovery', 'output', 'large', '?', 'scale', 'analytics'], ['data', 'mining', 'big', 'data'], ['big', 'data', 'technology', 'process', 'spatial', 'attribute', 'data', 'designing', 'operating', 'mine-engineering', 'system'], ['data', 'discretization', 'taxonomy', 'big', 'data', 'challenge'], ['automated', 'data', 'slicing', 'model', 'validation', 'big', 'data', 'ai', 'integration', 'approach'], ['spatial', 'data', 'mining', 'perspective', 'big', 'data'], ['using', 'data', 'build', 'better', 'em', 'em', 'big', 'data'], ['big', 'data', 'big', 'analysis', 'perspective', 'geographical', 'condition', 'monitoring'], ['theme', 'data', 'mining', 'big', 'data', 'crime', 'analytics'], ['detailed', 'review', 'prominent', 'compression', 'method', 'used', 'reducing', 'data', 'volume', 'big', 'data'], ['divide', 'recombine', '(', '&', 'r', 'data', 'science', 'project', 'deep', 'analysis', 'big', 'data', 'high', 'computational', 'complexity'], ['overview', 'online', 'based', 'platform', 'sharing', 'analyzing', 'electrophysiology', 'data', 'big', 'data', 'perspective'], ['overview', 'online', 'based', 'platform', 'sharing', 'analyzing', 'electrophysiology', 'data', 'big', 'data', 'perspective'], ['survey', 'data', 'collection', 'machine', 'learning', 'big', 'data', 'ai', 'integration', 'perspective'], ['haery', 'hadoop', 'based', 'query', 'system', 'accumulative', 'high-dimensional', 'data', 'model', 'big', 'data'], ['gamma', 'matrix', 'summarize', 'dense', 'sparse', 'data', 'set', 'big', 'data', 'analytics'], ['entity', 'deduplication', 'big', 'data', 'graph', 'scholarly', 'communication'], ['big', 'data', 'processing', 'tool', 'experimental', 'performance', 'evaluation'], ['big', 'data', 'cloud', 'computing', 'insight', 'computing', 'environment', 'mapreduce', 'programming', 'framework'], ['big', 'data', 'analytics', 'apache', 'spark'], ['big', 'data', 'improves', 'care'], ['big', 'data', 'portfolio', 'allocation', ':', 'new', 'approach', 'successful', 'portfolio', 'optimization'], ['big', 'data', 'analytics', 'security', 'criminal', 'investigation'], ['big', 'data', 'analytics', 'security', 'criminal', 'investigation'], ['analysis', 'academic', 'librarian', 'competency', 'skill', 'implementation', 'big', 'data', 'analytics', 'library'], ['applying', 'big', 'data', 'analytics', 'support', 'kansei', 'engineering', 'hotel', 'service', 'development'], ['special', 'issue', 'first', 'international', 'conference', 'big', 'data', 'smart', 'computing', '(', 'bigcomp2014', ')'], ['big', 'data', 'acquired', 'internet', 'things-enabled', 'industrial', 'multichannel', 'wireless', 'sensor', 'network', 'active', 'monitoring', 'control', 'smart', 'grid', 'industry', '4.0'], ['big', 'data', 'analytics', 'enabled', 'cyber-physical', 'system', 'model', 'application'], ['big', 'data', 'analytics', 'machine', 'learning', 'bayesian', 'learning', 'perspectives—what', 'done', '?'], ['big', 'data', 'fusion'], ['big', 'data', 'internet', 'thing', 'revised', 'knowledge', 'pyramid'], ['dynamic', 'distributed', 'parallel', 'machine', 'learning', 'algorithm', 'big', 'data', 'mining', 'processing'], ['big', 'data', 'paradigm', 'status', 'privacy', 'security', '?'], ['quality', 'assessment', 'peer-produced', 'content', 'knowledge', 'repository', 'using', 'big', 'data', 'social', 'network', 'case', 'implicit', 'collaboration', 'wikipedia'], ['big', 'data', 'analytics', 'single‐cell', 'transcriptomics', 'five', 'grand', 'opportunity'], ['big', 'data', 'analytics', 'swarm', 'intelligence'], ['chicken', 'swarm', 'foraging', 'algorithm', 'big', 'data', 'classification', 'using', 'deep', 'belief', 'network', 'classifier'], ['exploring', 'big', 'data', 'analysis', 'fundamental', 'scientific', 'problem'], ['practical', 'big', 'data'], ['analytics', 'partner', 'allina', 'health', 'team', 'health', 'catalyst', 'garner', 'benefit', 'big', 'data'], ['managing', 'big', 'data', 'coal-fired', 'power', 'plant', 'business', 'intelligence', 'framework'], ['michael', 'buck', 'talk', 'living', 'dream', 'bioinformaticist', 'emerging', 'alternative', 'big', 'data', 'warehouse'], ['tensor-based', 'big', 'data', 'management', 'scheme', 'dimensionality', 'reduction', 'problem', 'smart', 'grid', 'system', 'sdn', 'perspective'], ['in-memory', 'big', 'data', 'management', 'processing', 'survey'], ['mongodb-based', 'modular', 'ontology', 'building', 'big', 'data', 'integration'], ['semantics-aware', 'approach', 'big', 'data', 'engineering'], ['cell', 'phone', 'big', 'data', 'compute', 'mobility', 'scenario', 'future', 'smart', 'city'], ['fuzzy', 'rule', 'based', 'classification', 'system', 'big', 'data', 'mapreduce', 'granularity', 'analysis'], ['flexible', 'heavy', 'tailed', 'distribution', 'big', 'data'], ['smart', 'city', 'big', 'data', 'analytics', 'advanced', 'review'], ['china', 'deal', 'big', 'data'], ['analysing', 'repeat', 'blood', 'donation', 'behavior', 'via', 'big', 'data'], ['application', 'hyper-convergent', 'platform', 'big', 'data', 'exploring', 'regional', 'innovation', 'system'], ['scalable', 'machine‐learning', 'algorithm', 'big', 'data', 'analytics', 'comprehensive', 'review'], ['online', 'updating', 'method', 'correct', 'measurement', 'error', 'big', 'data', 'stream'], ['exploring', 'path', 'big', 'data', 'analytics', 'implementation', 'success', 'banking', 'financial', 'service', 'integrated', 'approach'], ['watchdog', 'approach', 'name-matching', 'algorithm', 'big', 'data', 'risk', 'intelligence'], ['advancing', 'science', 'technology', 'big', 'data', 'analytics'], ['comparing', 'world', 'regional', 'sustainable', 'supply', 'chain', 'finance', 'using', 'big', 'data', 'analytics', 'bibliometric', 'analysis'], ['mr', 'plot', 'big', 'data', 'tool', 'distinguishing', 'distribution'], ['supervised', 'compression', 'big', 'data'], ['detection', 'straggler', 'optimal', 'rescheduling', 'slow', 'running', 'task', 'big', 'data', 'environment', 'using', 'lfcso-lvq', 'classifier', 'enhanced', 'pso', 'algorithm'], ['unlocking', 'causal', 'relation', 'barrier', 'big', 'data', 'analytics', 'manufacturing', 'firm'], ['responding', 'market', 'turbulence', 'big', 'data', 'analytics', 'mass', 'customization', 'capability'], ['modeling', 'evaluating', 'effect', 'big', 'data', 'storage', 'resource', 'allocation', 'global', 'scale', 'cloud', 'architecture'], ['framework', 'evaluating', 'design', 'methodology', 'big', 'data', 'warehouse', 'measurement', 'design', 'process'], ['predicting', 'rating', 'amazon', 'product', 'using', 'big', 'data'], ['intelligent', 'approach', 'big', 'data', 'analytics', 'sustainable', 'retail', 'environment', 'using', 'apriori-mapreduce', 'framework'], ['barrier', 'embedding', 'big', 'data', 'solution', 'smart', 'factory', 'insight', 'sap', 'consultant'], ['holistic', 'view', 'big', 'data'], ['insight', 'application', 'big', 'data', 'analytics', 'healthcare'], ['distributed', 'subdata', 'selection', 'big', 'data', 'via', 'sampling-based', 'approach'], ['efficient', 'skyline', 'computation', 'big', 'data'], ['stakeholder', 'perception', 'word-of-mouth', 'csr', 'dynamic', 'big', 'data', 'analysis', 'twitter'], ['bayesian', 'consensus', 'clustering', 'lime', 'security', 'big', 'data'], ['incremental', 'query', 'processing', 'big', 'data', 'stream'], ['telecom', 'fraud', 'detection', 'big', 'data', 'analytics'], ['$', '^2', 'mapreduce', 'incremental', 'mapreduce', 'mining', 'evolving', 'big', 'data'], ['k', 'nearest', 'neighbour', 'join', 'big', 'data', 'mapreduce', 'theoretical', 'experimental', 'analysis'], ['multi-step', 'nonlinear', 'dimension-reduction', 'approach', 'application', 'big', 'data'], ['survey', 'spark', 'ecosystem', 'big', 'data', 'processing', 'infrastructure', 'machine', 'learning', 'application'], ['bit-oriented', 'sampling', 'aggregation', 'big', 'data'], ['feasibility', 'distributed', 'kernel', 'regression', 'big', 'data'], ['privacy-preserving', 'distributed', 'contextual', 'federated', 'online', 'learning', 'framework', 'big', 'data', 'support', 'social', 'recommender', 'system'], ['uncertainty', 'measure', 'fusion', 'rule', 'conflict', 'evidence', 'big', 'data', 'via', 'dempster–shafer', 'theory'], ['novel', 'pipeline', 'approach', 'efficient', 'big', 'data', 'broadcasting'], ['enhanced', 'graph', 'transforming', 'v', 'algorithm', 'non-simple', 'graph', 'big', 'data', 'pre-processing'], ['t-pcce', 'twitter', 'personality', 'based', 'communicative', 'community', 'extraction', 'system', 'big', 'data'], ['va-store', 'virtual', 'approximate', 'store', 'approach', 'supporting', 'repetitive', 'big', 'data', 'genome', 'sequence', 'analysis'], ['security', 'privacy', 'implication', 'database', 'system', 'big', 'data', 'era', 'survey'], ['mining', 'suspicious', 'tax', 'evasion', 'group', 'big', 'data'], ['distributed', 'bayesian', 'matrix', 'decomposition', 'big', 'data', 'mining', 'clustering'], ['web', 'medium', 'stock', 'market', 'survey', 'future', 'direction', 'big', 'data', 'perspective'], ['semi-automatic', 'design', 'methodology', '(', 'big', 'data', 'warehouse', 'transforming', 'fact', 'dimension'], ['bias', 'correction', 'small', 'sample', 'big', 'data'], ['towards', 'big', 'linked', 'data', 'large-scale', 'distributed', 'semantic', 'data', 'storage'], ['data-driven', 'sequential', 'localization', 'framework', 'big', 'telco', 'data'], ['effective', 'efficient', 'distributed', 'management', 'big', 'clinical', 'data', 'framework'], ['scalable', 'multi-data', 'source', 'based', 'recursive', 'approximation', 'approach', 'fast', 'error', 'recovery', 'big', 'sensing', 'data', 'cloud'], ['scalable', 'data', 'chunk', 'similarity', 'based', 'compression', 'approach', 'efficient', 'big', 'sensing', 'data', 'processing', 'cloud'], ['extracting', 'kernel', 'dataset', 'big', 'sensory', 'data', 'wireless', 'sensor', 'network'], ['scalable', 'algorithm', 'nearest-neighbor', 'join', 'big', 'trajectory', 'data'], ['efficient', 'distributed', 'generalized', 'canonical', 'correlation', 'analysis', 'big', 'multiview', 'data'], ['skia', 'scalable', 'efficient', 'in-memory', 'analytics', 'big', 'spatial-textual', 'data'], ['parallel', 'fractional', 'hot-deck', 'imputation', 'variance', 'estimation', 'big', 'incomplete', 'data', 'curing'], ['incremental', 'factorization', 'big', 'time', 'series', 'data', 'blind', 'factor', 'approximation'], ['emulated', 'order', 'identification', 'model', 'big', 'time', 'series', 'data'], ['vecchia–laplace', 'approximation', 'generalized', 'gaussian', 'process', 'big', 'non-gaussian', 'spatial', 'data'], ['handling', 'big', 'dimension', 'distrubted', 'data', 'warehouse', 'using', 'dws', 'technique'], ['data', 'access', 'big', 'competitive', 'advantage', 'evidence', 'china', \"'s\", 'car-hailing', 'platform'], ['eu', 'data', 'privacy', 'law', 'face', 'big', 'shake-up'], ['archeological', 'data', 'recovery', 'site', '41bs908', '9,00', 'year-old', 'site', 'chisos', 'basin', 'big', 'bend', 'national', 'park'], ['big-data', 'transformation', 'heterogeneous', 'data', 'semantically-enriched', 'simplified', 'data'], ['big', 'data', 'im', 'labor', 'der', 'zukunft', 'big-data-anwendungen', 'im', 'labor', 'chancen', 'herausforderungen'], ['`', 'big', 'data', 'analytics', 'course', 'given', 'student', 'expectation', 'industry', 'demand', \"'s\", 'time', 're-frame', 'content', 'make', 'analytics', 'course', 'big-data', 'friendly'], ['editorial', 'commentary', '``', 'mo', 'data', 'mo', 'problem', \"''\", '``', 'big', 'data', 'national', 'database', 'study', 'orthopaedic', 'research', 'concern', 'generalizability'], ['oracle', 'sparc', 'accelerates', 'big', 'data', 'oracle', \"'s\", 'recent', 'sparc', 'processor', 'integrate', 'hardware', 'acceleration', 'database', 'software', 'big-data', 'analytics', 'security', 'also', 'enable', 'compression', 'in-memory', 'database'], ['working', 'field', 'big', 'data', 'using', 'big-data-augmented', 'online', 'ethnography', 'study', 'candidate–candidate', 'interaction', 'election', 'time'], ['32.', 'ready', 'big', 'data', 'governance', 'big-data', 'research'], ['32.', 'ready', 'big', 'data', 'governance', 'big-data', 'research'], ['hazy', 'making', 'easier', 'build', 'maintain', 'big-data', 'analytics', 'racing', 'unleash', 'full', 'potential', 'big', 'data', 'latest', 'statistical', 'machine-learning', 'technique'], ['big-data', 'cloud', 'service', 'platform', 'growth', 'enterprise', 'adaptive', 'exception', 'handling', 'parallelized', 'data', 'mining'], ['big-data', 'science', 'infrastructure', 'impact'], ['big-data', 'based', 'online', 'state', 'charge', 'estimation', 'energy', 'consumption', 'prediction', 'electric', 'vehicle'], ['big-data', 'streaming', 'application', 'scheduling', 'online', 'learning', 'concept', 'drift', 'detection'], ['big-data-driven', 'stem', 'cell', 'science', 'tissue', 'engineering', 'vision', 'unique', 'opportunity'], ['big-data', 'simulation', 'social', 'economic', 'systems-prospect', 'econophysics', 'study'], ['big-data', 'satellite', 'yearly', 'report', 'generation', '(', 'aiaa', '2018-2368', ')'], ['big-data', 'validierungsplattform', 'für', 'methoden', 'zur', '(', 'teil-', 'automatisierten', 'felddatenanalyse'], ['big-data-based', 'edge', 'biomarkers', 'study', 'dynamical', 'drug', 'sensitivity', 'resistance', 'individual'], ['big-data', 'analytics', 'drive', 'parking', 'policy', 'evaluating', 'adherence', 'meter', 'time', 'limit', 'washington', 'd.c'], ['big-data', 'feature', 'screening', 'using', 'bregman', 'divergence'], ['big-data-driven', 'safety', 'decision-making', 'conceptual', 'framework', 'influencing', 'factor'], ['big-data-technologien', 'der', 'fahrzeugentwicklung'], ['big-sensing-data', 'curation', 'cloud', 'coming', 'promise', 'scalable', 'cloud-data-center', 'mitigation', 'next-generation', 'iot', 'wireless', 'sensor', 'network'], ['big-data-geschäftsmodelle', 'die', 'drei', 'seiten', 'der', 'medaille'], ['big-data', 'building', 'energy', 'performance', 'lesson', 'assembling', 'large', 'national', 'database', 'building', 'energy', 'use'], ['big-data', 'x-ray', 'phase', 'contrast', 'imaging', 'simulation', 'challenge', '[', '9594-17', ']'], ['big-data', 'analytics', 'framework', 'incorporating', 'smallholder', 'sustainable', 'palm', 'oil', 'production'], ['big-data', 'business', 'model', 'critical', 'literature', 'review', 'multiperspective', 'research', 'framework'], ['big-data', 'science', 'infrastructure', 'impact'], ['big-data-driven', 'framework', 'intelligent', 'textile', 'manufacturing'], ['big-data', 'theoretical', 'engineering', 'analytics', 'perspective'], ['data', 'transfer', 'scheduling', 'maximizing', 'throughput', 'big-data', 'computing', 'cloud', 'system'], ['big-data', 'challenge', 'advance', 'highlight', 'big', 'issue'], ['big-data', 'tensor', 'recovery', 'high-dimensional', 'uncertainty', 'quantification', 'process', 'variation'], ['big-data', 'machine', 'learning', 'revamp', 'computational', 'toxicology', 'use', 'risk', 'assessment'], ['big-data-based', 'power', 'battery', 'recycling', 'new', 'energy', 'vehicle', 'information', 'sharing', 'platform', 'intelligent', 'transportation', 'optimization'], ['big-data', 'analytics', 'critical', 'review', 'future', 'direction'], ['big-data-anwendungsfälle', 'methodisch', 'erarbeiten'], ['big-data', 'question', 'horizontal', 'vertical', 'intelligence', 'discussion', 'disaster', 'management'], ['big', 'data/big', 'compute', 'technology', 'realm', 'possibility', 'emergence', 'real-time', 'risk', 'enterprise', 'capital', 'market', 'industry'], ['big-data', 'mechanism', 'energy-policy', 'design'], ['big-data-driven', 'operational', 'analysis', 'decision-making', 'methodology', 'intelligent', 'workshop'], ['big-data', 'based', 'real-time', 'interactive', 'growth', 'management', 'system', 'wireless', 'communication'], ['big-data', 'method', 'advance', 'public', 'health', 'informatics', 'smarter', 'public', 'health', 'prevention', 'system', '(', 'sphps', ')'], ['big-data', 'approach', 'bioinformatics', 'workflow', 'comparative', 'assessment'], ['big-data', 'approach', 'protein', 'structure', 'prediction', 'metagenomics', 'sequence', 'data', 'give', 'protein', 'structure', 'prediction', 'boost'], ['big-data-losungen', 'fur', 'netzbetreiber', 'siemens', 'und', 'teradata', 'vereinbaren', 'globale', 'zusammenarbeit'], ['big-data', 'analysis', 'cluster', 'analysis', 'machine-learning', 'approach'], ['big-data', 'visualization'], ['big-data-ansätze', 'der', 'psychiatrie', 'beispiele', 'au', 'der', 'depressionsforschung'], ['big-data', 'approach', 'three-dimensional', 'building', 'extraction', 'aerial', 'laser', 'scanning'], ['architecting', 'time-critical', 'big-data', 'system'], ['trust-based', 'crowdfunding', 'campaign', 'marketing', 'framework', 'theoretical', 'underpinnings', 'big-data', 'analytics', 'practice'], ['computation', 'migration', 'new', 'approach', 'execute', 'big-data', 'bioinformatics', 'workflow'], ['call', 'special', 'issue', 'paper', 'big', 'data-driven', 'futuristic', 'fabric', 'system', 'societal', 'digital', 'transformation'], ['structural', 'consequence', 'big', 'data-driven', 'education'], ['mapping', 'essential', 'urban', 'land', 'use', 'category', '(', 'euluc', 'using', 'geospatial', 'big', 'data', 'progress', 'challenge', 'opportunity'], ['scientific', 'training', 'era', 'big', 'data', 'new', 'pedagogy', 'graduate', 'education'], ['role', 'teamwork', 'analysis', 'big', 'data', 'study', 'visual', 'analytics', 'box', 'office', 'prediction'], ['sport', 'analytics', 'era', 'big', 'data', 'moving', 'toward', 'next', 'frontier'], ['big', 'data', 'small', 'persona', 'algorithm', 'shape', 'demographic', 'representation', 'data-driven', 'user', 'segment'], ['author', 'response', 'gong', \"'s\", '“', 'comment', 'data', 'science', 'relationship', 'big', 'data', 'data-driven', 'decision', 'making', '”'], ['diversity', 'big', 'data', 'review'], ['multiple', 'target', 'tracking', 'big', 'data-based', 'measurement', 'extended', 'binary', 'phase', 'shift', 'keying', 'transceiver'], ['call', 'special', 'issue', 'paper', 'big', 'data-driven', 'futuristic', 'fabric', 'system', 'societal', 'digital', 'transformation'], ['big', 'scholarly', 'data', 'survey'], ['capturing', 'value', 'biosurveillance', '``', 'big', 'data', 'natural', 'capital', 'accounting'], ['data', 'science', 'relationship', 'big', 'data', 'data-driven', 'decision', 'making'], ['sport', 'analytics', 'era', 'big', 'data', 'moving', 'toward', 'next', 'frontier'], ['call', 'special', 'issue', 'paper', 'big', 'data-driven', 'futuristic', 'fabric', 'system', 'societal', 'digital', 'transformation'], ['correction', 'predictive', 'modeling', 'big', 'data', 'bigger', 'really', 'better', 'junqu', 'de', 'fortuny', 'e', 'marten', 'provost', 'f', 'big', 'data', '2013', ';', '1', '(', '4', ')', ':215–226', '.'], ['bring', 'big', 'data', 'beyond', 'hype'], ['big', 'data–artificial', 'intelligence', 'fusion', 'technology', 'education', 'context', 'new', 'crown', 'epidemic'], ['big-boe', 'fusing', 'spanish', 'official', 'gazette', 'big', 'data', 'technology'], ['global', 'water', 'cycle', 'remote', 'sensing', 'big', 'data', 'overview', 'challenge', 'opportunity'], ['scalable', 'data', 'quality', 'big', 'data', 'pythia', 'framework', 'handling', 'missing', 'value'], ['big', 'data', 'new', 'method', 'idea', 'geological', 'scientific', 'research'], ['computational', 'propaganda', 'political', 'big', 'data', 'moving', 'toward', 'critical', 'research', 'agenda'], ['big', 'data-based', 'rf', 'localisation', 'method', 'unmanned', 'search', 'rescue'], ['guest', 'editorial', 'big', 'medium', 'data', 'understanding', 'search', 'mining'], ['guest', 'editorial', 'big', 'medium', 'data', 'understanding', 'search', 'mining'], ['guest', 'editorial', 'big', 'medium', 'data', 'understanding', 'search', 'mining', '(', 'part', '2', ')'], ['special', 'issue', 'biomedical', 'big', 'data', 'understanding', 'learning', 'application'], ['new', 'approach', 'accurate', 'distributed', 'cluster', 'analysis', 'big', 'data', 'competitive', 'k-means'], ['privacy', 'model', 'big', 'data', 'survey'], ['new', 'approach', 'accurate', 'distributed', 'cluster', 'analysis', 'big', 'data', 'competitive', 'k-means'], ['recent', 'advance', 'earth', 'observation', 'big', 'data', 'hydrology'], ['call', 'special', 'issue', 'paper', 'big', 'data', 'business'], ['big', 'data', 'healthcare', 'opportunity', 'challenge'], ['challenge', 'big', 'data', 'earth'], ['call', 'special', 'issue', 'paper', 'big', 'data', 'analytics', 'intelligent', 'system', 'cybersecurity'], ['call', 'special', 'issue', 'paper', 'internet', 'medical', 'thing', 'big', 'data', 'pervasive', 'medical', 'care'], ['big', 'data', 'business', 'bibliometric', 'analysis', 'relevant', 'literature'], ['internet', 'things-based', 'optimized', 'routing', 'big', 'data', 'gathering', 'system', 'landslide', 'detection'], ['call', 'special', 'issue', 'paper', 'big', 'scientific', 'data', 'machine', 'learning', 'science', 'engineering'], ['call', 'special', 'issue', 'paper', 'big', 'data', 'analytics', 'agricultural', 'disaster', 'management'], ['big', 'data', 'robotics'], ['big', 'data', 'drive', 'development', 'earth', 'science'], ['new', 'discrimination', 'diagram', 'basalt', 'based', 'big', 'data', 'research'], ['big', 'data', 'support', 'sustainable', 'development', 'goal', 'celebration', 'establishment', 'international', 'research', 'center', 'big', 'data', 'sustainable', 'development', 'goal', '(', 'cbas', ')'], ['new', 'big', 'data', 'approach', 'based', 'geoecological', 'information-modeling', 'system'], ['unstructured', 'big', 'data', 'analytical', 'method', 'firm', 'conceptual', 'model', 'measurement', 'perception'], ['toward', 'business', 'process', 'innovation', 'big', 'data', 'era', 'mediating', 'role', 'big', 'data', 'knowledge', 'management'], ['call', 'special', 'issue', 'paper', 'programming', 'model', 'algorithm', 'big', 'data'], ['big', 'data', 'enabler', 'primary', 'education'], ['agricultural', 'disaster', 'risk', 'management', 'capability', 'assessment', 'using', 'big', 'data', 'analytics'], ['call', 'special', 'issue', 'paper', 'big', 'data', 'analytics', 'agricultural', 'disaster', 'management'], ['unsupervised', 'tensor', 'mining', 'big', 'data', 'practitioner'], ['message', 'editor-in-chief', 'big', 'data'], ['big', 'data', 'analytics', 'capability', 'digital', 'transformation', 'insurance', 'sector'], ['big', 'uncertain', 'data', 'multiple', 'sensor', 'efficient', 'processing', 'high', 'order', 'multi-hypothesis', 'evidence', 'theoretic', 'approach'], ['strength', 'number', 'using', 'big', 'data', 'simplify', 'sentiment', 'classification'], ['online', 'analytical', 'processing', 'business', 'intelligence', 'big', 'data'], ['data', 'behaviour', 'model', 'big', 'data', 'visual', 'analytics'], ['call', 'special', 'issue', 'paper', 'programming', 'model', 'algorithm', 'big', 'data'], ['big', 'data', 'based', 'security', 'analytics', 'protecting', 'virtualized', 'infrastructure', 'cloud', 'computing'], ['big', 'data', '(', 'lost', 'cloud'], ['big', 'data', '(', 'lost', 'cloud'], ['optimizing', 'sentinel-', 'image', 'selection', 'big', 'data', 'context'], ['big', 'data', 'analysis', 'swimming', 'pool', 'impact', 'household', 'electric', 'intensity', 'san', 'antonio', 'texas'], ['overcoming', 'resistance', 'big', 'data', 'operational', 'change', 'interactive', 'data', 'visualization'], ['comparative', 'study', 'big', 'data', 'global', 'adakites', 'mineralization-related', 'granite', 'geza', 'arc', 'metallogenic', 'belt', 'northwest', 'yunnan', 'southwest', 'china'], ['mrs-dp', 'improving', 'performance', 'resource', 'utilization', 'big', 'data', 'application', 'deadline', 'priority'], ['spatial', 'pattern', 'urban', 'green', 'space', 'actual', 'utilization', 'status', 'china', 'based', 'big', 'data', 'analysis'], ['call', 'special', 'issue', 'paper', 'big', 'data', 'internet-of-things', 'complex', 'information', 'system', 'selection', 'iotbds', '202', 'complexis', '2022'], ['call', 'special', 'issue', 'paper', 'multimedia', 'big', 'data', 'analytics', 'engineering', 'education'], ['optimal', 'feature', 'selection', 'big', 'data', 'classification', 'firefly', 'lion-assisted', 'model'], ['research', 'dilemma', 'behavioral', 'big', 'data'], ['call', 'paper', 'special', 'issue', 'computational', 'propaganda', 'political', 'big', 'data'], ['big', 'data', 'support', 'sustainable', 'development', 'goal', '(', 'continued', ')', 'celebration', 'establishment', 'international', 'research', 'center', 'big', 'data', 'sustainable', 'development', 'goal', '(', 'cbas', ')'], ['call', 'special', 'issue', 'paper', 'big', 'scientific', 'data', 'machine', 'learning', 'science', 'engineering'], ['exploiting', 'reused-based', 'sharing', 'work', 'opportunity', 'big', 'data', 'multiquery', 'optimization', 'flink'], ['efficient', 'ensemble-based', 'classification', 'framework', 'big', 'medical', 'data'], ['call', 'special', 'issue', 'paper', 'cloud', 'computing', 'big', 'data', 'cognitive', 'iot'], ['call', 'special', 'issue', 'paper', 'big', 'data', 'analytics', 'industrial', 'intelligence'], ['call', 'special', 'issue', 'paper', 'deep', 'learning', 'assisted', 'big', 'data', 'analytics', 'biomedical', 'application', 'digital', 'healthcare'], ['call', 'special', 'issue', 'paper', 'big', 'data', 'business'], ['deep', 'learning', 'big', 'sparse', 'behavioral', 'data'], ['labor', 'economist', 'get', 'microscope', 'big', 'data', 'labor', 'market', 'analysis'], ['interview', 'dr', 'silvio', 'carta', 'author', 'book', 'big', 'data', 'code', 'discrete', 'city', '(', 'routledge', '2019', ')'], ['soom', 'sort-based', 'optimizer', 'big', 'data', 'multi-query'], ['using', 'big', 'data', 'understand', 'human', 'condition', 'kavli', 'human', 'project'], ['big', 'data', 'efficient', 'market', 'end', 'daily', 'fantasy', 'sport', 'know', '?'], ['call', 'special', 'issue', 'paper', 'cloud', 'computing', 'big', 'data', 'cognitive', 'iot'], ['monkeyking', 'adaptive', 'parameter', 'tuning', 'big', 'data', 'platform', 'deep', 'reinforcement', 'learning'], ['call', 'special', 'issue', 'paper', 'deep', 'learning', 'assisted', 'big', 'data', 'analytics', 'biomedical', 'application', 'digital', 'healthcare'], ['call', 'special', 'issue', 'paper', 'big', 'scientific', 'data', 'machine', 'learning', 'science', 'engineering'], ['survey', 'biological', 'data', 'big', 'data', 'perspective'], ['call', 'special', 'issue', 'paper', 'soft', 'computing', 'model', 'big', 'data', 'internet', 'thing'], ['moth-flame', 'optimization-bat', 'optimization', 'map-reduce', 'framework', 'big', 'data', 'clustering', 'using', 'moth-flame', 'bat', 'optimization', 'sparse', 'fuzzy', 'c-means'], ['call', 'paper', 'special', 'issue', 'computational', 'propaganda', 'political', 'big', 'data']]\n"
     ]
    }
   ],
   "source": [
    "from nltk.corpus import stopwords\n",
    "from nltk.stem import WordNetLemmatizer\n",
    "from nltk.tokenize import word_tokenize\n",
    "import re\n",
    "\n",
    "stopwords = set(stopwords.words(\"english\"))\n",
    "lemma = WordNetLemmatizer()\n",
    "lemma\n",
    "\n",
    "words = []\n",
    "for title in all_title:\n",
    "    EnWords = re.sub(r\"[^a-zA-Z] +\", \" \", str(title))\n",
    "    EnWrodsToken = word_tokenize(EnWords.lower())\n",
    "    EnWordsTokenStop = [w for w in EnWrodsToken if w not in stopwords]\n",
    "    EnWordsTokenStopLemma = [lemma.lemmatize(w) for w in EnWordsTokenStop]\n",
    "    words.append(EnWordsTokenStopLemma)\n",
    "    \n",
    "print(words)"
   ]
  },
  {
   "cell_type": "code",
   "execution_count": 120,
   "id": "8c88f9d7-72ef-4410-9a58-2a25a2a08254",
   "metadata": {},
   "outputs": [
    {
     "name": "stdout",
     "output_type": "stream",
     "text": [
      "['call', 'special', 'issue', 'paper', 'soft', 'computing', 'model', 'big', 'data', 'internet', 'thing', 'atmospheric', 'ecosystem', 'big', 'data', 'providing', 'key', 'contribution', 'reaching', 'united', 'nation', 'sustainable', 'development', 'goal', 'earth', 'observation', 'geospatial', 'big', 'data', 'management', 'engagement', 'stakeholder', 'hungary', 'support', 'sdgs', 'rst-de', 'rough', 'sets-based', 'new', 'differential', 'evolution', 'algorithm', 'scalable', 'big', 'data', 'feature', 'selection', 'distributed', 'computing', 'platform', 'furthest-pair-based', 'binary', 'search', 'tree', 'speeding', 'big', 'data', 'classification', 'using', 'k-nearest', 'neighbor', 'remotely', 'sensed', 'big', 'data', 'ocean', 'polar', 'region', 'call', 'special', 'issue', 'paper', 'multimedia', 'big', 'data', 'analytics', 'engineering', 'education', 'secdedoop', 'secure', 'deduplication', 'access', 'control', 'big', 'data', 'hdfs/hadoop', 'environment', 'big', 'data', 'application', 'guangzhou', 'restaurant', 'analysis', 'big', 'data', 'little', 'data', 'care', 'coordination', 'medicare', 'beneficiary', 'medigap', 'coverage', 'medical', 'school', 'training', 'relate', 'practice', 'evidence', 'big', 'data', 'ensemble-based', 'scalable', 'approach', 'intrusion', 'detection', 'using', 'big', 'data', 'framework', 'u.s', 'army', 'person-event', 'data', 'environment', 'militaryãƒâ¢ã¢â€šâ¬ã¢â‚¬å', '“', 'civilian', 'big', 'data', 'enterprise', 'big', 'data', 'ensemble', 'clinical', 'prediction', 'healthcare', 'data', 'using', 'deep', 'learning', 'model', 'call', 'paper', 'big', 'data', 'data', 'science', 'oceanography', 'small', 'data', 'big', 'data', 'artificial', 'bee', 'colony', 'reinforced', 'extended', 'kalman', 'filter', 'localization', 'algorithm', 'internet', 'thing', 'big', 'data', 'blending', 'technique', 'finding', 'accurate', 'position', 'reference', 'node', 'call', 'paper', 'special', 'issue', 'big', 'data', 'robotics', 'correction', 'big', 'data', '2016', ';', '4:60–66', 'big', 'data', 'literature', 'search', 'combining', 'human', 'computing', 'machine', 'learning', 'make', 'sense', 'big', '(', 'aerial', 'data', 'disaster', 'response', 'comparison', 'scalability', 'batch', 'big', 'data', 'processing', 'apache', 'spark', 'apache', 'flink', 'big', 'data', 'social', 'good', 'big', 'data', 'predictive', 'analytics', 'health', 'care', 'common', 'big', 'data', 'challenge', 'overcome', 'exercise', 'exploring', 'big', 'data', 'producing', 'reliable', 'statistical', 'information', 'stgi：a', 'spatio-temporal', 'grid', 'index', 'model', 'marine', 'big', 'data', 'big', 'data', 'analytics', 'data', 'management', 'perspective', 'public', 'administration', 'tv', 'audience', 'measurement', 'big', 'data', 'big', 'data', 'guide', 'understanding', 'climate', 'change', 'case', 'theory-guided', 'data', 'science', 'call', 'paper', 'special', 'issue', 'big', 'data', 'robotics', 'curating', 'big', 'data', 'made', 'simple', 'perspective', 'scientific', 'community', 'national', 'survey', 'population', 'health', 'big', 'data', 'analytics', 'mobile', 'health', 'monitor', 'big', 'data', 'machine', 'analyze', 'stock', 'market', 'sentiment', '?', 'big', 'data', '2.0', 'cataclysm', 'catalyst', '?', 'big', 'data', 'big', 'deal', 'big', 'data', 'rise', 'machine', 'financial', 'market', 'us', 'big', 'data', 'city', 'leveraging', 'big', 'data', 'analytics', 'case', 'kenyan', 'telecom', 'agile', 'big', 'data', 'analytics', 'web-based', 'system', 'architecture-centric', 'approach', 'analyzing', 'big', 'smart', 'metering', 'data', 'towards', 'differentiated', 'user', 'service', 'sublinear', 'approach', 'scalable', 'big', 'data', 'modelling', 'clustering', 'big', 'spatiotemporal-interval', 'data', 'health', 'big', 'data', 'analytics', 'current', 'perspective', 'challenge', 'potential', 'solution', 'health', 'big', 'data', 'analytics', 'current', 'perspective', 'challenge', 'potential', 'solution', 'intelligent', 'big', 'data', 'analysis', 'review', 'intelligent', 'big', 'data', 'analysis', 'review', 'improved', 'big', 'data', 'stock', 'index', 'prediction', 'using', 'deep', 'learning', 'cnn', 'gru', 'big', 'data', 'analytics', 'framework', 'border', 'crossing', 'transportation', 'guest', 'editorial', 'big', 'scholar', 'data', 'discovery', 'collaboration', 'guest', 'editorial', 'big', 'data', 'analytics', 'web', 'guest', 'editorial', 'big', 'data', 'analytics', 'web', 'guest', 'editorial', 'big', 'scholar', 'data', 'discovery', 'collaboration', 'guest', 'editorial', 'big', 'data', 'infrastructure', 'speed', 'big', 'data', 'analytics', 'unveiling', 'storage', 'distribution', 'sub-datasets', 'towards', 'max-min', 'fair', 'resource', 'allocation', 'stream', 'big', 'data', 'analytics', 'shared', 'cloud', 'resting-state', 'fmri', 'functional', 'connectivity', 'big', 'data', 'preprocessing', 'pipeline', 'topological', 'data', 'analysis', 'thermal-aware', 'dvfs-enabled', 'big', 'data', 'task', 'scheduling', 'data', 'center', 'distributed', 'feature', 'selection', 'efficient', 'economic', 'big', 'data', 'analysis', 'perception', 'independent', 'financial', 'advisor', 'usefulness', 'big', 'data', 'context', 'decision', 'making', 'uk', 'review', 'ethical', 'concern', 'big', 'data', 'management', 'online', 'similarity', 'learning', 'big', 'data', 'overfitting', 'optimized', 'deep', 'learning', 'eeg', 'big', 'data', 'seizure', 'prediction', 'bci', 'via', 'internet', 'thing', 'towards', 'quality-of-service', 'driven', 'consistency', 'big', 'data', 'management', 'survey', 'development', 'context-aware', 'monitoring', 'healthcare', 'big', 'data', '201', 'index', 'ieee', 'transaction', 'big', 'data', 'vol', '3', 'current', 'trend', 'predictive', 'analytics', 'big', 'data', 'hdm', 'composable', 'framework', 'big', 'data', 'processing', 'enhanced', 'visualization', 'method', 'aid', 'behavioral', 'trajectory', 'pattern', 'recognition', 'infrastructure', 'big', 'longitudinal', 'data', 'extended', 'spatio-temporal', 'granger', 'causality', 'model', 'air', 'quality', 'estimation', 'heterogeneous', 'urban', 'big', 'data', 'concentric', 'framework', 'leveraging', 'big', 'data', 'business', 'value', 'secure', 'multi-owner-based', 'cloud', 'computing', 'scheme', 'big', 'data', 'toward', 'efficient', 'flexible', 'metadata', 'indexing', 'big', 'data', 'system', 'smart', 'monitoring', 'camera', 'driven', 'intelligent', 'processing', 'big', 'surveillance', 'video', 'data', '201', 'index', 'ieee', 'transaction', 'big', 'data', 'vol', '2', 'algorithmseer', 'system', 'extracting', 'searching', 'algorithm', 'scholarly', 'big', 'data', 'taxi-passenger-demand', 'modeling', 'based', 'big', 'data', 'roving', 'sensor', 'network', 'dip-svm', 'distribution', 'preserving', 'kernel', 'support', 'vector', 'machine', 'big', 'data', 'availability', 'modelling', 'assurance', 'big', 'data', 'computing', 'hierarchical', 'distributed', 'processing', 'framework', 'big', 'image', 'data', 'guest', 'editorial', 'special', 'issue', 'big', 'scholar', 'data', 'discovery', 'collaboration', '(', 'continued', ')', 'structural', 'balance', 'theory-based', 'e-commerce', 'recommendation', 'big', 'rating', 'data', 'deduplication', 'encrypted', 'big', 'data', 'cloud', 'towards', 'real-time', 'big', 'data', 'analytics', 'platform', 'health', 'application', 'hybridisation', 'classifier', 'anomaly', 'detection', 'big', 'data', 'fast', 'approach', 'semantic', 'service', 'composition', 'big', 'data', 'environment', 'reference', 'architecture', 'big', 'data', 'solution', 'introducing', 'model', 'perform', 'predictive', 'analytics', 'using', 'big', 'data', 'technology', 'platform', 'big', 'data', 'analytics', 'distributed', 'scale\\x96out', 'storage', 'system', 'five-layer', 'architecture', 'big', 'data', 'processing', 'analytics', 'petuum', 'new', 'platform', 'distributed', 'machine', 'learning', 'big', 'data', 'parallel', 'computing', 'preserving', 'privacy', 'using', 'k-anonymisation', 'algorithm', 'big', 'data', 'palopro', 'platform', 'knowledge', 'extraction', 'big', 'social', 'data', 'news', 'corporate', 'governance', 'fraud', 'detection', 'annual', 'report', 'using', 'big', 'data', 'analytics', 'fuzzy', 'based', 'scalable', 'clustering', 'algorithm', 'handling', 'big', 'data', 'using', 'apache', 'spark', 'survey', 'big', 'data', 'processing', 'infrastructure', 'evolving', 'role', 'fpga', 'platform', 'big', 'data', 'analytics', 'distributed', 'scale-out', 'storage', 'system', 'classification', 'comparison', 'nosql', 'big', 'data', 'model', 'kvasir', 'scalable', 'provision', 'semantically', 'relevant', 'web', 'content', 'big', 'data', 'framework', 'nosql', 'database', 'big', 'data', 'towards', 'quality-of-service', 'driven', 'consistency', 'big', 'data', 'management', 'large-scale', 'spectral', 'clustering', 'managing', 'big', 'data', 'healthcare', 'operation', 'big', 'earth', 'data', 'new', 'frontier', 'earth', 'information', 'science', 'view-based', 'model', 'data-cube', 'support', 'big', 'earth', 'data', 'system', 'interoperability', 'big', 'earth', 'data', 'comprehensive', 'analysis', 'visualization', 'analytics', 'issue', 'gsio', 'programmatic', 'interface', 'delivering', 'big', 'earth', 'data-as-a-service', 'role', 'big', 'earth', 'data', 'understanding', 'climate', 'change', 'analytics', 'big', 'geosocial', 'medium', 'crowdsourced', 'data', 'big', 'spatial', 'vector', 'data', 'management', 'review', 'exploiting', 'big', 'earth', 'data', 'space', 'first', 'experience', 'timescan', 'processing', 'chain', 'generalized', 'supervised', 'classification', 'scheme', 'produce', 'provincial', 'wetland', 'inventory', 'map', 'application', 'google', 'earth', 'engine', 'big', 'geo', 'data', 'processing', 'big', 'earth', 'data', 'analytics', 'survey', 'geospatial', 'semantics', 'ontology', 'knowledge', 'graph', 'big', 'earth', 'data', 'efficient', 'utilization', 'multi-core', 'processor', 'many-core', 'co-processors', 'supercomputer', 'beacon', 'scalable', 'geocomputation', 'geo-simulation', 'big', 'earth', 'data', 'evaluating', 'role', 'partnership', 'increasing', 'use', 'big', 'earth', 'data', 'support', 'sustainable', 'development', 'goal', 'australian', 'perspective', 'big', 'earth', 'data', 'facilitates', 'sustainable', 'development', 'goal', 'big', 'earth', 'data', 'analytics', 'sentinel-', 'landsat', 'imagery', 'support', 'global', 'human', 'settlement', 'mapping', 'semantics', 'way', 'semantic', 'web', 'open', 'science', 'big', 'earth', 'data', 'visual', 'analytics', 'big', 'open', 'public', 'transport', 'data', 'framework', 'pipeline', 'monitoring', 'system', 'performance', 'greater', 'sydney', 'stewardship', 'analysis', 'big', 'earth', 'observation', 'data', 'big', 'earth', 'data', 'achieving', 'sustainable', 'development', 'goal', 'belt', 'road', 'region', 'innovative', 'approach', 'sustainable', 'development', 'goal', 'using', 'big', 'earth', 'data', 'impact', 'wechat', 'public', 'platform', 'blood', 'donation', 'behavior', 'big', 'data-based', 'study', 'simd', 'parallel', 'mcmc', 'sampling', 'application', 'big-data', 'bayesian', 'analytics', 'review', 'sentiment', 'discovery', 'analysis', 'educational', 'big‐data', 'data', 'analysis', 'big', 'data', 'improving', 'map', 'shuffle', 'phase', 'hadoop', 'map', 'reduce', 'big', 'data', 'analytics—a', 'review', 'data‐mining', 'model', 'small', 'medium', 'enterprise', 'transportation', 'sector', 'big', 'bigger', 'biggest', 'data', 'repository', 'balloon', 'unprecedented', 'level', 'coping', '``', 'big', 'data', '.', \"''\", 'big', 'data', 'analytics—a', 'review', 'data‐mining', 'model', 'small', 'medium', 'enterprise', 'transportation', 'sector', 'transforming', 'big', 'data', 'smart', 'data', 'insight', 'use', 'k‐nearest', 'neighbor', 'algorithm', 'obtain', 'quality', 'data', 'forecasting', 'big', 'data', 'review', 'semantics', 'meet', 'big', 'data', 'formal', 'model', 'practical', 'issue', 'novel', 'paradigm', 'quantile', 'regression', 'big', 'data', 'divide', 'conquer', 'based', 'strategy', 'organisation', 'leverage', 'big', 'data', 'maturity', 'model', 'visualization', 'statistical', 'modeling', 'financial', 'big', 'data', 'double-log', 'modeling', 'skew-symmetric', 'error', 'distribution', 'big', 'data', \"n't\", 'always', 'yield', 'big', 'benefit', 'big', 'data', 'challenge', 'big', 'science', 'big', 'data', 'big', 'result', 'knowledge', 'discovery', 'output', 'large', '?', 'scale', 'analytics', 'data', 'mining', 'big', 'data', 'big', 'data', 'technology', 'process', 'spatial', 'attribute', 'data', 'designing', 'operating', 'mine-engineering', 'system', 'data', 'discretization', 'taxonomy', 'big', 'data', 'challenge', 'automated', 'data', 'slicing', 'model', 'validation', 'big', 'data', 'ai', 'integration', 'approach', 'spatial', 'data', 'mining', 'perspective', 'big', 'data', 'using', 'data', 'build', 'better', 'em', 'em', 'big', 'data', 'big', 'data', 'big', 'analysis', 'perspective', 'geographical', 'condition', 'monitoring', 'theme', 'data', 'mining', 'big', 'data', 'crime', 'analytics', 'detailed', 'review', 'prominent', 'compression', 'method', 'used', 'reducing', 'data', 'volume', 'big', 'data', 'divide', 'recombine', '(', '&', 'r', 'data', 'science', 'project', 'deep', 'analysis', 'big', 'data', 'high', 'computational', 'complexity', 'overview', 'online', 'based', 'platform', 'sharing', 'analyzing', 'electrophysiology', 'data', 'big', 'data', 'perspective', 'overview', 'online', 'based', 'platform', 'sharing', 'analyzing', 'electrophysiology', 'data', 'big', 'data', 'perspective', 'survey', 'data', 'collection', 'machine', 'learning', 'big', 'data', 'ai', 'integration', 'perspective', 'haery', 'hadoop', 'based', 'query', 'system', 'accumulative', 'high-dimensional', 'data', 'model', 'big', 'data', 'gamma', 'matrix', 'summarize', 'dense', 'sparse', 'data', 'set', 'big', 'data', 'analytics', 'entity', 'deduplication', 'big', 'data', 'graph', 'scholarly', 'communication', 'big', 'data', 'processing', 'tool', 'experimental', 'performance', 'evaluation', 'big', 'data', 'cloud', 'computing', 'insight', 'computing', 'environment', 'mapreduce', 'programming', 'framework', 'big', 'data', 'analytics', 'apache', 'spark', 'big', 'data', 'improves', 'care', 'big', 'data', 'portfolio', 'allocation', ':', 'new', 'approach', 'successful', 'portfolio', 'optimization', 'big', 'data', 'analytics', 'security', 'criminal', 'investigation', 'big', 'data', 'analytics', 'security', 'criminal', 'investigation', 'analysis', 'academic', 'librarian', 'competency', 'skill', 'implementation', 'big', 'data', 'analytics', 'library', 'applying', 'big', 'data', 'analytics', 'support', 'kansei', 'engineering', 'hotel', 'service', 'development', 'special', 'issue', 'first', 'international', 'conference', 'big', 'data', 'smart', 'computing', '(', 'bigcomp2014', ')', 'big', 'data', 'acquired', 'internet', 'things-enabled', 'industrial', 'multichannel', 'wireless', 'sensor', 'network', 'active', 'monitoring', 'control', 'smart', 'grid', 'industry', '4.0', 'big', 'data', 'analytics', 'enabled', 'cyber-physical', 'system', 'model', 'application', 'big', 'data', 'analytics', 'machine', 'learning', 'bayesian', 'learning', 'perspectives—what', 'done', '?', 'big', 'data', 'fusion', 'big', 'data', 'internet', 'thing', 'revised', 'knowledge', 'pyramid', 'dynamic', 'distributed', 'parallel', 'machine', 'learning', 'algorithm', 'big', 'data', 'mining', 'processing', 'big', 'data', 'paradigm', 'status', 'privacy', 'security', '?', 'quality', 'assessment', 'peer-produced', 'content', 'knowledge', 'repository', 'using', 'big', 'data', 'social', 'network', 'case', 'implicit', 'collaboration', 'wikipedia', 'big', 'data', 'analytics', 'single‐cell', 'transcriptomics', 'five', 'grand', 'opportunity', 'big', 'data', 'analytics', 'swarm', 'intelligence', 'chicken', 'swarm', 'foraging', 'algorithm', 'big', 'data', 'classification', 'using', 'deep', 'belief', 'network', 'classifier', 'exploring', 'big', 'data', 'analysis', 'fundamental', 'scientific', 'problem', 'practical', 'big', 'data', 'analytics', 'partner', 'allina', 'health', 'team', 'health', 'catalyst', 'garner', 'benefit', 'big', 'data', 'managing', 'big', 'data', 'coal-fired', 'power', 'plant', 'business', 'intelligence', 'framework', 'michael', 'buck', 'talk', 'living', 'dream', 'bioinformaticist', 'emerging', 'alternative', 'big', 'data', 'warehouse', 'tensor-based', 'big', 'data', 'management', 'scheme', 'dimensionality', 'reduction', 'problem', 'smart', 'grid', 'system', 'sdn', 'perspective', 'in-memory', 'big', 'data', 'management', 'processing', 'survey', 'mongodb-based', 'modular', 'ontology', 'building', 'big', 'data', 'integration', 'semantics-aware', 'approach', 'big', 'data', 'engineering', 'cell', 'phone', 'big', 'data', 'compute', 'mobility', 'scenario', 'future', 'smart', 'city', 'fuzzy', 'rule', 'based', 'classification', 'system', 'big', 'data', 'mapreduce', 'granularity', 'analysis', 'flexible', 'heavy', 'tailed', 'distribution', 'big', 'data', 'smart', 'city', 'big', 'data', 'analytics', 'advanced', 'review', 'china', 'deal', 'big', 'data', 'analysing', 'repeat', 'blood', 'donation', 'behavior', 'via', 'big', 'data', 'application', 'hyper-convergent', 'platform', 'big', 'data', 'exploring', 'regional', 'innovation', 'system', 'scalable', 'machine‐learning', 'algorithm', 'big', 'data', 'analytics', 'comprehensive', 'review', 'online', 'updating', 'method', 'correct', 'measurement', 'error', 'big', 'data', 'stream', 'exploring', 'path', 'big', 'data', 'analytics', 'implementation', 'success', 'banking', 'financial', 'service', 'integrated', 'approach', 'watchdog', 'approach', 'name-matching', 'algorithm', 'big', 'data', 'risk', 'intelligence', 'advancing', 'science', 'technology', 'big', 'data', 'analytics', 'comparing', 'world', 'regional', 'sustainable', 'supply', 'chain', 'finance', 'using', 'big', 'data', 'analytics', 'bibliometric', 'analysis', 'mr', 'plot', 'big', 'data', 'tool', 'distinguishing', 'distribution', 'supervised', 'compression', 'big', 'data', 'detection', 'straggler', 'optimal', 'rescheduling', 'slow', 'running', 'task', 'big', 'data', 'environment', 'using', 'lfcso-lvq', 'classifier', 'enhanced', 'pso', 'algorithm', 'unlocking', 'causal', 'relation', 'barrier', 'big', 'data', 'analytics', 'manufacturing', 'firm', 'responding', 'market', 'turbulence', 'big', 'data', 'analytics', 'mass', 'customization', 'capability', 'modeling', 'evaluating', 'effect', 'big', 'data', 'storage', 'resource', 'allocation', 'global', 'scale', 'cloud', 'architecture', 'framework', 'evaluating', 'design', 'methodology', 'big', 'data', 'warehouse', 'measurement', 'design', 'process', 'predicting', 'rating', 'amazon', 'product', 'using', 'big', 'data', 'intelligent', 'approach', 'big', 'data', 'analytics', 'sustainable', 'retail', 'environment', 'using', 'apriori-mapreduce', 'framework', 'barrier', 'embedding', 'big', 'data', 'solution', 'smart', 'factory', 'insight', 'sap', 'consultant', 'holistic', 'view', 'big', 'data', 'insight', 'application', 'big', 'data', 'analytics', 'healthcare', 'distributed', 'subdata', 'selection', 'big', 'data', 'via', 'sampling-based', 'approach', 'efficient', 'skyline', 'computation', 'big', 'data', 'stakeholder', 'perception', 'word-of-mouth', 'csr', 'dynamic', 'big', 'data', 'analysis', 'twitter', 'bayesian', 'consensus', 'clustering', 'lime', 'security', 'big', 'data', 'incremental', 'query', 'processing', 'big', 'data', 'stream', 'telecom', 'fraud', 'detection', 'big', 'data', 'analytics', '$', '^2', 'mapreduce', 'incremental', 'mapreduce', 'mining', 'evolving', 'big', 'data', 'k', 'nearest', 'neighbour', 'join', 'big', 'data', 'mapreduce', 'theoretical', 'experimental', 'analysis', 'multi-step', 'nonlinear', 'dimension-reduction', 'approach', 'application', 'big', 'data', 'survey', 'spark', 'ecosystem', 'big', 'data', 'processing', 'infrastructure', 'machine', 'learning', 'application', 'bit-oriented', 'sampling', 'aggregation', 'big', 'data', 'feasibility', 'distributed', 'kernel', 'regression', 'big', 'data', 'privacy-preserving', 'distributed', 'contextual', 'federated', 'online', 'learning', 'framework', 'big', 'data', 'support', 'social', 'recommender', 'system', 'uncertainty', 'measure', 'fusion', 'rule', 'conflict', 'evidence', 'big', 'data', 'via', 'dempster–shafer', 'theory', 'novel', 'pipeline', 'approach', 'efficient', 'big', 'data', 'broadcasting', 'enhanced', 'graph', 'transforming', 'v', 'algorithm', 'non-simple', 'graph', 'big', 'data', 'pre-processing', 't-pcce', 'twitter', 'personality', 'based', 'communicative', 'community', 'extraction', 'system', 'big', 'data', 'va-store', 'virtual', 'approximate', 'store', 'approach', 'supporting', 'repetitive', 'big', 'data', 'genome', 'sequence', 'analysis', 'security', 'privacy', 'implication', 'database', 'system', 'big', 'data', 'era', 'survey', 'mining', 'suspicious', 'tax', 'evasion', 'group', 'big', 'data', 'distributed', 'bayesian', 'matrix', 'decomposition', 'big', 'data', 'mining', 'clustering', 'web', 'medium', 'stock', 'market', 'survey', 'future', 'direction', 'big', 'data', 'perspective', 'semi-automatic', 'design', 'methodology', '(', 'big', 'data', 'warehouse', 'transforming', 'fact', 'dimension', 'bias', 'correction', 'small', 'sample', 'big', 'data', 'towards', 'big', 'linked', 'data', 'large-scale', 'distributed', 'semantic', 'data', 'storage', 'data-driven', 'sequential', 'localization', 'framework', 'big', 'telco', 'data', 'effective', 'efficient', 'distributed', 'management', 'big', 'clinical', 'data', 'framework', 'scalable', 'multi-data', 'source', 'based', 'recursive', 'approximation', 'approach', 'fast', 'error', 'recovery', 'big', 'sensing', 'data', 'cloud', 'scalable', 'data', 'chunk', 'similarity', 'based', 'compression', 'approach', 'efficient', 'big', 'sensing', 'data', 'processing', 'cloud', 'extracting', 'kernel', 'dataset', 'big', 'sensory', 'data', 'wireless', 'sensor', 'network', 'scalable', 'algorithm', 'nearest-neighbor', 'join', 'big', 'trajectory', 'data', 'efficient', 'distributed', 'generalized', 'canonical', 'correlation', 'analysis', 'big', 'multiview', 'data', 'skia', 'scalable', 'efficient', 'in-memory', 'analytics', 'big', 'spatial-textual', 'data', 'parallel', 'fractional', 'hot-deck', 'imputation', 'variance', 'estimation', 'big', 'incomplete', 'data', 'curing', 'incremental', 'factorization', 'big', 'time', 'series', 'data', 'blind', 'factor', 'approximation', 'emulated', 'order', 'identification', 'model', 'big', 'time', 'series', 'data', 'vecchia–laplace', 'approximation', 'generalized', 'gaussian', 'process', 'big', 'non-gaussian', 'spatial', 'data', 'handling', 'big', 'dimension', 'distrubted', 'data', 'warehouse', 'using', 'dws', 'technique', 'data', 'access', 'big', 'competitive', 'advantage', 'evidence', 'china', \"'s\", 'car-hailing', 'platform', 'eu', 'data', 'privacy', 'law', 'face', 'big', 'shake-up', 'archeological', 'data', 'recovery', 'site', '41bs908', '9,00', 'year-old', 'site', 'chisos', 'basin', 'big', 'bend', 'national', 'park', 'big-data', 'transformation', 'heterogeneous', 'data', 'semantically-enriched', 'simplified', 'data', 'big', 'data', 'im', 'labor', 'der', 'zukunft', 'big-data-anwendungen', 'im', 'labor', 'chancen', 'herausforderungen', '`', 'big', 'data', 'analytics', 'course', 'given', 'student', 'expectation', 'industry', 'demand', \"'s\", 'time', 're-frame', 'content', 'make', 'analytics', 'course', 'big-data', 'friendly', 'editorial', 'commentary', '``', 'mo', 'data', 'mo', 'problem', \"''\", '``', 'big', 'data', 'national', 'database', 'study', 'orthopaedic', 'research', 'concern', 'generalizability', 'oracle', 'sparc', 'accelerates', 'big', 'data', 'oracle', \"'s\", 'recent', 'sparc', 'processor', 'integrate', 'hardware', 'acceleration', 'database', 'software', 'big-data', 'analytics', 'security', 'also', 'enable', 'compression', 'in-memory', 'database', 'working', 'field', 'big', 'data', 'using', 'big-data-augmented', 'online', 'ethnography', 'study', 'candidate–candidate', 'interaction', 'election', 'time', '32.', 'ready', 'big', 'data', 'governance', 'big-data', 'research', '32.', 'ready', 'big', 'data', 'governance', 'big-data', 'research', 'hazy', 'making', 'easier', 'build', 'maintain', 'big-data', 'analytics', 'racing', 'unleash', 'full', 'potential', 'big', 'data', 'latest', 'statistical', 'machine-learning', 'technique', 'big-data', 'cloud', 'service', 'platform', 'growth', 'enterprise', 'adaptive', 'exception', 'handling', 'parallelized', 'data', 'mining', 'big-data', 'science', 'infrastructure', 'impact', 'big-data', 'based', 'online', 'state', 'charge', 'estimation', 'energy', 'consumption', 'prediction', 'electric', 'vehicle', 'big-data', 'streaming', 'application', 'scheduling', 'online', 'learning', 'concept', 'drift', 'detection', 'big-data-driven', 'stem', 'cell', 'science', 'tissue', 'engineering', 'vision', 'unique', 'opportunity', 'big-data', 'simulation', 'social', 'economic', 'systems-prospect', 'econophysics', 'study', 'big-data', 'satellite', 'yearly', 'report', 'generation', '(', 'aiaa', '2018-2368', ')', 'big-data', 'validierungsplattform', 'für', 'methoden', 'zur', '(', 'teil-', 'automatisierten', 'felddatenanalyse', 'big-data-based', 'edge', 'biomarkers', 'study', 'dynamical', 'drug', 'sensitivity', 'resistance', 'individual', 'big-data', 'analytics', 'drive', 'parking', 'policy', 'evaluating', 'adherence', 'meter', 'time', 'limit', 'washington', 'd.c', 'big-data', 'feature', 'screening', 'using', 'bregman', 'divergence', 'big-data-driven', 'safety', 'decision-making', 'conceptual', 'framework', 'influencing', 'factor', 'big-data-technologien', 'der', 'fahrzeugentwicklung', 'big-sensing-data', 'curation', 'cloud', 'coming', 'promise', 'scalable', 'cloud-data-center', 'mitigation', 'next-generation', 'iot', 'wireless', 'sensor', 'network', 'big-data-geschäftsmodelle', 'die', 'drei', 'seiten', 'der', 'medaille', 'big-data', 'building', 'energy', 'performance', 'lesson', 'assembling', 'large', 'national', 'database', 'building', 'energy', 'use', 'big-data', 'x-ray', 'phase', 'contrast', 'imaging', 'simulation', 'challenge', '[', '9594-17', ']', 'big-data', 'analytics', 'framework', 'incorporating', 'smallholder', 'sustainable', 'palm', 'oil', 'production', 'big-data', 'business', 'model', 'critical', 'literature', 'review', 'multiperspective', 'research', 'framework', 'big-data', 'science', 'infrastructure', 'impact', 'big-data-driven', 'framework', 'intelligent', 'textile', 'manufacturing', 'big-data', 'theoretical', 'engineering', 'analytics', 'perspective', 'data', 'transfer', 'scheduling', 'maximizing', 'throughput', 'big-data', 'computing', 'cloud', 'system', 'big-data', 'challenge', 'advance', 'highlight', 'big', 'issue', 'big-data', 'tensor', 'recovery', 'high-dimensional', 'uncertainty', 'quantification', 'process', 'variation', 'big-data', 'machine', 'learning', 'revamp', 'computational', 'toxicology', 'use', 'risk', 'assessment', 'big-data-based', 'power', 'battery', 'recycling', 'new', 'energy', 'vehicle', 'information', 'sharing', 'platform', 'intelligent', 'transportation', 'optimization', 'big-data', 'analytics', 'critical', 'review', 'future', 'direction', 'big-data-anwendungsfälle', 'methodisch', 'erarbeiten', 'big-data', 'question', 'horizontal', 'vertical', 'intelligence', 'discussion', 'disaster', 'management', 'big', 'data/big', 'compute', 'technology', 'realm', 'possibility', 'emergence', 'real-time', 'risk', 'enterprise', 'capital', 'market', 'industry', 'big-data', 'mechanism', 'energy-policy', 'design', 'big-data-driven', 'operational', 'analysis', 'decision-making', 'methodology', 'intelligent', 'workshop', 'big-data', 'based', 'real-time', 'interactive', 'growth', 'management', 'system', 'wireless', 'communication', 'big-data', 'method', 'advance', 'public', 'health', 'informatics', 'smarter', 'public', 'health', 'prevention', 'system', '(', 'sphps', ')', 'big-data', 'approach', 'bioinformatics', 'workflow', 'comparative', 'assessment', 'big-data', 'approach', 'protein', 'structure', 'prediction', 'metagenomics', 'sequence', 'data', 'give', 'protein', 'structure', 'prediction', 'boost', 'big-data-losungen', 'fur', 'netzbetreiber', 'siemens', 'und', 'teradata', 'vereinbaren', 'globale', 'zusammenarbeit', 'big-data', 'analysis', 'cluster', 'analysis', 'machine-learning', 'approach', 'big-data', 'visualization', 'big-data-ansätze', 'der', 'psychiatrie', 'beispiele', 'au', 'der', 'depressionsforschung', 'big-data', 'approach', 'three-dimensional', 'building', 'extraction', 'aerial', 'laser', 'scanning', 'architecting', 'time-critical', 'big-data', 'system', 'trust-based', 'crowdfunding', 'campaign', 'marketing', 'framework', 'theoretical', 'underpinnings', 'big-data', 'analytics', 'practice', 'computation', 'migration', 'new', 'approach', 'execute', 'big-data', 'bioinformatics', 'workflow', 'call', 'special', 'issue', 'paper', 'big', 'data-driven', 'futuristic', 'fabric', 'system', 'societal', 'digital', 'transformation', 'structural', 'consequence', 'big', 'data-driven', 'education', 'mapping', 'essential', 'urban', 'land', 'use', 'category', '(', 'euluc', 'using', 'geospatial', 'big', 'data', 'progress', 'challenge', 'opportunity', 'scientific', 'training', 'era', 'big', 'data', 'new', 'pedagogy', 'graduate', 'education', 'role', 'teamwork', 'analysis', 'big', 'data', 'study', 'visual', 'analytics', 'box', 'office', 'prediction', 'sport', 'analytics', 'era', 'big', 'data', 'moving', 'toward', 'next', 'frontier', 'big', 'data', 'small', 'persona', 'algorithm', 'shape', 'demographic', 'representation', 'data-driven', 'user', 'segment', 'author', 'response', 'gong', \"'s\", '“', 'comment', 'data', 'science', 'relationship', 'big', 'data', 'data-driven', 'decision', 'making', '”', 'diversity', 'big', 'data', 'review', 'multiple', 'target', 'tracking', 'big', 'data-based', 'measurement', 'extended', 'binary', 'phase', 'shift', 'keying', 'transceiver', 'call', 'special', 'issue', 'paper', 'big', 'data-driven', 'futuristic', 'fabric', 'system', 'societal', 'digital', 'transformation', 'big', 'scholarly', 'data', 'survey', 'capturing', 'value', 'biosurveillance', '``', 'big', 'data', 'natural', 'capital', 'accounting', 'data', 'science', 'relationship', 'big', 'data', 'data-driven', 'decision', 'making', 'sport', 'analytics', 'era', 'big', 'data', 'moving', 'toward', 'next', 'frontier', 'call', 'special', 'issue', 'paper', 'big', 'data-driven', 'futuristic', 'fabric', 'system', 'societal', 'digital', 'transformation', 'correction', 'predictive', 'modeling', 'big', 'data', 'bigger', 'really', 'better', 'junqu', 'de', 'fortuny', 'e', 'marten', 'provost', 'f', 'big', 'data', '2013', ';', '1', '(', '4', ')', ':215–226', '.', 'bring', 'big', 'data', 'beyond', 'hype', 'big', 'data–artificial', 'intelligence', 'fusion', 'technology', 'education', 'context', 'new', 'crown', 'epidemic', 'big-boe', 'fusing', 'spanish', 'official', 'gazette', 'big', 'data', 'technology', 'global', 'water', 'cycle', 'remote', 'sensing', 'big', 'data', 'overview', 'challenge', 'opportunity', 'scalable', 'data', 'quality', 'big', 'data', 'pythia', 'framework', 'handling', 'missing', 'value', 'big', 'data', 'new', 'method', 'idea', 'geological', 'scientific', 'research', 'computational', 'propaganda', 'political', 'big', 'data', 'moving', 'toward', 'critical', 'research', 'agenda', 'big', 'data-based', 'rf', 'localisation', 'method', 'unmanned', 'search', 'rescue', 'guest', 'editorial', 'big', 'medium', 'data', 'understanding', 'search', 'mining', 'guest', 'editorial', 'big', 'medium', 'data', 'understanding', 'search', 'mining', 'guest', 'editorial', 'big', 'medium', 'data', 'understanding', 'search', 'mining', '(', 'part', '2', ')', 'special', 'issue', 'biomedical', 'big', 'data', 'understanding', 'learning', 'application', 'new', 'approach', 'accurate', 'distributed', 'cluster', 'analysis', 'big', 'data', 'competitive', 'k-means', 'privacy', 'model', 'big', 'data', 'survey', 'new', 'approach', 'accurate', 'distributed', 'cluster', 'analysis', 'big', 'data', 'competitive', 'k-means', 'recent', 'advance', 'earth', 'observation', 'big', 'data', 'hydrology', 'call', 'special', 'issue', 'paper', 'big', 'data', 'business', 'big', 'data', 'healthcare', 'opportunity', 'challenge', 'challenge', 'big', 'data', 'earth', 'call', 'special', 'issue', 'paper', 'big', 'data', 'analytics', 'intelligent', 'system', 'cybersecurity', 'call', 'special', 'issue', 'paper', 'internet', 'medical', 'thing', 'big', 'data', 'pervasive', 'medical', 'care', 'big', 'data', 'business', 'bibliometric', 'analysis', 'relevant', 'literature', 'internet', 'things-based', 'optimized', 'routing', 'big', 'data', 'gathering', 'system', 'landslide', 'detection', 'call', 'special', 'issue', 'paper', 'big', 'scientific', 'data', 'machine', 'learning', 'science', 'engineering', 'call', 'special', 'issue', 'paper', 'big', 'data', 'analytics', 'agricultural', 'disaster', 'management', 'big', 'data', 'robotics', 'big', 'data', 'drive', 'development', 'earth', 'science', 'new', 'discrimination', 'diagram', 'basalt', 'based', 'big', 'data', 'research', 'big', 'data', 'support', 'sustainable', 'development', 'goal', 'celebration', 'establishment', 'international', 'research', 'center', 'big', 'data', 'sustainable', 'development', 'goal', '(', 'cbas', ')', 'new', 'big', 'data', 'approach', 'based', 'geoecological', 'information-modeling', 'system', 'unstructured', 'big', 'data', 'analytical', 'method', 'firm', 'conceptual', 'model', 'measurement', 'perception', 'toward', 'business', 'process', 'innovation', 'big', 'data', 'era', 'mediating', 'role', 'big', 'data', 'knowledge', 'management', 'call', 'special', 'issue', 'paper', 'programming', 'model', 'algorithm', 'big', 'data', 'big', 'data', 'enabler', 'primary', 'education', 'agricultural', 'disaster', 'risk', 'management', 'capability', 'assessment', 'using', 'big', 'data', 'analytics', 'call', 'special', 'issue', 'paper', 'big', 'data', 'analytics', 'agricultural', 'disaster', 'management', 'unsupervised', 'tensor', 'mining', 'big', 'data', 'practitioner', 'message', 'editor-in-chief', 'big', 'data', 'big', 'data', 'analytics', 'capability', 'digital', 'transformation', 'insurance', 'sector', 'big', 'uncertain', 'data', 'multiple', 'sensor', 'efficient', 'processing', 'high', 'order', 'multi-hypothesis', 'evidence', 'theoretic', 'approach', 'strength', 'number', 'using', 'big', 'data', 'simplify', 'sentiment', 'classification', 'online', 'analytical', 'processing', 'business', 'intelligence', 'big', 'data', 'data', 'behaviour', 'model', 'big', 'data', 'visual', 'analytics', 'call', 'special', 'issue', 'paper', 'programming', 'model', 'algorithm', 'big', 'data', 'big', 'data', 'based', 'security', 'analytics', 'protecting', 'virtualized', 'infrastructure', 'cloud', 'computing', 'big', 'data', '(', 'lost', 'cloud', 'big', 'data', '(', 'lost', 'cloud', 'optimizing', 'sentinel-', 'image', 'selection', 'big', 'data', 'context', 'big', 'data', 'analysis', 'swimming', 'pool', 'impact', 'household', 'electric', 'intensity', 'san', 'antonio', 'texas', 'overcoming', 'resistance', 'big', 'data', 'operational', 'change', 'interactive', 'data', 'visualization', 'comparative', 'study', 'big', 'data', 'global', 'adakites', 'mineralization-related', 'granite', 'geza', 'arc', 'metallogenic', 'belt', 'northwest', 'yunnan', 'southwest', 'china', 'mrs-dp', 'improving', 'performance', 'resource', 'utilization', 'big', 'data', 'application', 'deadline', 'priority', 'spatial', 'pattern', 'urban', 'green', 'space', 'actual', 'utilization', 'status', 'china', 'based', 'big', 'data', 'analysis', 'call', 'special', 'issue', 'paper', 'big', 'data', 'internet-of-things', 'complex', 'information', 'system', 'selection', 'iotbds', '202', 'complexis', '2022', 'call', 'special', 'issue', 'paper', 'multimedia', 'big', 'data', 'analytics', 'engineering', 'education', 'optimal', 'feature', 'selection', 'big', 'data', 'classification', 'firefly', 'lion-assisted', 'model', 'research', 'dilemma', 'behavioral', 'big', 'data', 'call', 'paper', 'special', 'issue', 'computational', 'propaganda', 'political', 'big', 'data', 'big', 'data', 'support', 'sustainable', 'development', 'goal', '(', 'continued', ')', 'celebration', 'establishment', 'international', 'research', 'center', 'big', 'data', 'sustainable', 'development', 'goal', '(', 'cbas', ')', 'call', 'special', 'issue', 'paper', 'big', 'scientific', 'data', 'machine', 'learning', 'science', 'engineering', 'exploiting', 'reused-based', 'sharing', 'work', 'opportunity', 'big', 'data', 'multiquery', 'optimization', 'flink', 'efficient', 'ensemble-based', 'classification', 'framework', 'big', 'medical', 'data', 'call', 'special', 'issue', 'paper', 'cloud', 'computing', 'big', 'data', 'cognitive', 'iot', 'call', 'special', 'issue', 'paper', 'big', 'data', 'analytics', 'industrial', 'intelligence', 'call', 'special', 'issue', 'paper', 'deep', 'learning', 'assisted', 'big', 'data', 'analytics', 'biomedical', 'application', 'digital', 'healthcare', 'call', 'special', 'issue', 'paper', 'big', 'data', 'business', 'deep', 'learning', 'big', 'sparse', 'behavioral', 'data', 'labor', 'economist', 'get', 'microscope', 'big', 'data', 'labor', 'market', 'analysis', 'interview', 'dr', 'silvio', 'carta', 'author', 'book', 'big', 'data', 'code', 'discrete', 'city', '(', 'routledge', '2019', ')', 'soom', 'sort-based', 'optimizer', 'big', 'data', 'multi-query', 'using', 'big', 'data', 'understand', 'human', 'condition', 'kavli', 'human', 'project', 'big', 'data', 'efficient', 'market', 'end', 'daily', 'fantasy', 'sport', 'know', '?', 'call', 'special', 'issue', 'paper', 'cloud', 'computing', 'big', 'data', 'cognitive', 'iot', 'monkeyking', 'adaptive', 'parameter', 'tuning', 'big', 'data', 'platform', 'deep', 'reinforcement', 'learning', 'call', 'special', 'issue', 'paper', 'deep', 'learning', 'assisted', 'big', 'data', 'analytics', 'biomedical', 'application', 'digital', 'healthcare', 'call', 'special', 'issue', 'paper', 'big', 'scientific', 'data', 'machine', 'learning', 'science', 'engineering', 'survey', 'biological', 'data', 'big', 'data', 'perspective', 'call', 'special', 'issue', 'paper', 'soft', 'computing', 'model', 'big', 'data', 'internet', 'thing', 'moth-flame', 'optimization-bat', 'optimization', 'map-reduce', 'framework', 'big', 'data', 'clustering', 'using', 'moth-flame', 'bat', 'optimization', 'sparse', 'fuzzy', 'c-means', 'call', 'paper', 'special', 'issue', 'computational', 'propaganda', 'political', 'big', 'data']\n"
     ]
    }
   ],
   "source": [
    "from functools import reduce\n",
    "\n",
    "words2 = list(reduce(lambda x, y: x+y, words))\n",
    "print(words2)"
   ]
  },
  {
   "cell_type": "code",
   "execution_count": 121,
   "id": "330425f4-ffe6-489f-ad6d-c2dbafa51f61",
   "metadata": {},
   "outputs": [
    {
     "name": "stdout",
     "output_type": "stream",
     "text": [
      "Counter({'data': 389, 'big': 365, 'analytics': 73, 'big-data': 39, 'issue': 34, 'special': 31, 'call': 29, 'paper': 29, 'analysis': 29, 'system': 27, 'approach': 26, 'using': 24, 'model': 23, 'earth': 22, 'framework': 22, 'learning': 22, '(': 17, 'algorithm': 16, 'distributed': 16, 'science': 16, 'processing': 16, 'based': 16, 'management': 15, 'cloud': 15, 'computing': 14, 'platform': 14, 'application': 14, 'perspective': 14, 'review': 14, 'new': 13, 'scalable': 13, 'machine': 13, 'sustainable': 12, 'development': 12, 'survey': 12, 'efficient': 12, 'mining': 12, 'challenge': 11, 'health': 10, 'editorial': 10, ')': 10, 'research': 10, 'goal': 9, 'support': 9, 'engineering': 9, 'deep': 9, 'smart': 9, 'guest': 9, 'online': 9, 'internet': 8, 'classification': 8, 'intelligent': 8, 'business': 8, 'data-driven': 8, 'detection': 7, 'prediction': 7, 'healthcare': 7, 'scientific': 7, 'market': 7, 'infrastructure': 7, 'method': 7, 'medium': 7, 'study': 7, 'security': 7, 'intelligence': 7, 'thing': 6, 'selection': 6, 'search': 6, 'education': 6, 'environment': 6, 'understanding': 6, '?': 6, 'towards': 6, 'clustering': 6, 'network': 6, 'technology': 6, 'knowledge': 6, 'database': 6, 'opportunity': 6, 'digital': 6, 'enterprise': 5, 'small': 5, 'disaster': 5, 'social': 5, 'public': 5, 'measurement': 5, 'service': 5, 'discovery': 5, 'web': 5, 'storage': 5, 'distribution': 5, 'monitoring': 5, 'visualization': 5, 'toward': 5, 'modeling': 5, 'sensor': 5, 'privacy': 5, 'role': 5, 'spatial': 5, 'use': 5, 'process': 5, 'computational': 5, 'mapreduce': 5, 'optimization': 5, 'era': 5, 'time': 5, 'transformation': 5, 'der': 5, 'feature': 4, 'care': 4, 'medical': 4, 'evidence': 4, 'human': 4, 'apache': 4, 'spark': 4, 'predictive': 4, 'exploring': 4, 'information': 4, 'index': 4, 'national': 4, 'financial': 4, 'city': 4, 'solution': 4, 'transportation': 4, 'collaboration': 4, 'making': 4, 'via': 4, 'quality': 4, 'parallel': 4, 'handling': 4, 'graph': 4, 'evaluating': 4, 'global': 4, 'performance': 4, 'impact': 4, 'bayesian': 4, '``': 4, 'insight': 4, 'compression': 4, 'sharing': 4, 'wireless': 4, 'assessment': 4, 'warehouse': 4, 'building': 4, 'china': 4, 'risk': 4, 'design': 4, \"'s\": 4, 'labor': 4, 'energy': 4, 'big-data-driven': 4, 'observation': 3, 'geospatial': 3, 'deduplication': 3, 'extended': 3, 'technique': 3, 'accurate': 3, 'robotics': 3, 'correction': 3, 'literature': 3, 'statistical': 3, 'grid': 3, 'change': 3, 'case': 3, 'stock': 3, 'sentiment': 3, 'analyzing': 3, 'current': 3, 'potential': 3, 'scholar': 3, 'resource': 3, 'allocation': 3, 'stream': 3, 'pipeline': 3, 'scheduling': 3, 'center': 3, 'perception': 3, 'context': 3, 'decision': 3, 'driven': 3, 'enhanced': 3, 'behavioral': 3, 'estimation': 3, 'urban': 3, 'value': 3, 'scheme': 3, 'scholarly': 3, 'kernel': 3, 'real-time': 3, 'classifier': 3, 'semantic': 3, 'architecture': 3, 'extraction': 3, 'governance': 3, 'fuzzy': 3, 'content': 3, 'frontier': 3, 'generalized': 3, 'map': 3, 'semantics': 3, 'utilization': 3, 'visual': 3, 'data-based': 3, 'phase': 3, 'sector': 3, 'transforming': 3, 'error': 3, 'integration': 3, 'overview': 3, 'sparse': 3, 'programming': 3, 'international': 3, 'industry': 3, 'fusion': 3, 'problem': 3, 'in-memory': 3, 'future': 3, 'capability': 3, 'methodology': 3, 'incremental': 3, 'theoretical': 3, 'approximation': 3, 'recovery': 3, 'sensing': 3, 'competitive': 3, 'iot': 3, 'critical': 3, 'advance': 3, 'cluster': 3, 'futuristic': 3, 'fabric': 3, 'societal': 3, 'sport': 3, 'moving': 3, 'propaganda': 3, 'political': 3, 'biomedical': 3, 'agricultural': 3, 'soft': 2, 'ecosystem': 2, 'stakeholder': 2, 'binary': 2, 'neighbor': 2, 'region': 2, 'multimedia': 2, 'secure': 2, 'access': 2, 'control': 2, 'training': 2, 'practice': 2, 'ensemble-based': 2, '“': 2, 'clinical': 2, 'localization': 2, 'reference': 2, ';': 2, 'make': 2, 'aerial': 2, 'response': 2, 'comparison': 2, 'flink': 2, 'spatio-temporal': 2, 'climate': 2, 'community': 2, 'catalyst': 2, 'deal': 2, 'leveraging': 2, 'telecom': 2, 'user': 2, 'modelling': 2, 'task': 2, 'economic': 2, 'concern': 2, 'similarity': 2, 'optimized': 2, 'quality-of-service': 2, 'consistency': 2, '201': 2, 'ieee': 2, 'transaction': 2, 'vol': 2, 'trajectory': 2, 'pattern': 2, 'heterogeneous': 2, 'flexible': 2, '2': 2, 'extracting': 2, 'preserving': 2, 'vector': 2, 'image': 2, 'continued': 2, 'structural': 2, 'rating': 2, 'fast': 2, 'fraud': 2, 'report': 2, 'evolving': 2, 'nosql': 2, 'relevant': 2, 'large-scale': 2, 'managing': 2, 'comprehensive': 2, 'exploiting': 2, 'space': 2, 'first': 2, 'chain': 2, 'supervised': 2, 'ontology': 2, 'processor': 2, 'sentinel-': 2, 'mapping': 2, 'open': 2, 'belt': 2, 'blood': 2, 'donation': 2, 'behavior': 2, 'sampling': 2, 'improving': 2, 'hadoop': 2, 'analytics—a': 2, 'data‐mining': 2, 'bigger': 2, 'repository': 2, '.': 2, \"''\": 2, 'practical': 2, 'novel': 2, 'paradigm': 2, 'regression': 2, 'divide': 2, 'benefit': 2, 'large': 2, 'scale': 2, 'ai': 2, 'build': 2, 'better': 2, 'em': 2, 'condition': 2, 'project': 2, 'high': 2, 'electrophysiology': 2, 'query': 2, 'high-dimensional': 2, 'matrix': 2, 'communication': 2, 'tool': 2, 'experimental': 2, 'portfolio': 2, 'criminal': 2, 'investigation': 2, 'implementation': 2, 'industrial': 2, 'dynamic': 2, 'status': 2, 'swarm': 2, 'power': 2, 'cell': 2, 'compute': 2, 'rule': 2, 'regional': 2, 'innovation': 2, 'bibliometric': 2, 'optimal': 2, 'barrier': 2, 'manufacturing': 2, 'firm': 2, 'computation': 2, 'twitter': 2, 'join': 2, 'uncertainty': 2, 'sequence': 2, 'direction': 2, 'dimension': 2, 'series': 2, 'factor': 2, 'order': 2, 'site': 2, 'im': 2, 'course': 2, 'mo': 2, 'oracle': 2, 'sparc': 2, 'recent': 2, '32.': 2, 'ready': 2, 'machine-learning': 2, 'growth': 2, 'adaptive': 2, 'electric': 2, 'vehicle': 2, 'simulation': 2, 'big-data-based': 2, 'resistance': 2, 'drive': 2, 'decision-making': 2, 'conceptual': 2, 'tensor': 2, 'capital': 2, 'operational': 2, 'interactive': 2, 'bioinformatics': 2, 'workflow': 2, 'comparative': 2, 'protein': 2, 'structure': 2, 'next': 2, 'author': 2, 'relationship': 2, 'multiple': 2, 'k-means': 2, 'celebration': 2, 'establishment': 2, 'cbas': 2, 'analytical': 2, 'lost': 2, 'cognitive': 2, 'assisted': 2, 'moth-flame': 2, 'atmospheric': 1, 'providing': 1, 'key': 1, 'contribution': 1, 'reaching': 1, 'united': 1, 'nation': 1, 'engagement': 1, 'hungary': 1, 'sdgs': 1, 'rst-de': 1, 'rough': 1, 'sets-based': 1, 'differential': 1, 'evolution': 1, 'furthest-pair-based': 1, 'tree': 1, 'speeding': 1, 'k-nearest': 1, 'remotely': 1, 'sensed': 1, 'ocean': 1, 'polar': 1, 'secdedoop': 1, 'hdfs/hadoop': 1, 'guangzhou': 1, 'restaurant': 1, 'little': 1, 'coordination': 1, 'medicare': 1, 'beneficiary': 1, 'medigap': 1, 'coverage': 1, 'school': 1, 'relate': 1, 'intrusion': 1, 'u.s': 1, 'army': 1, 'person-event': 1, 'militaryãƒâ¢ã¢â€šâ¬ã¢â‚¬å': 1, 'civilian': 1, 'ensemble': 1, 'oceanography': 1, 'artificial': 1, 'bee': 1, 'colony': 1, 'reinforced': 1, 'kalman': 1, 'filter': 1, 'blending': 1, 'finding': 1, 'position': 1, 'node': 1, '2016': 1, '4:60–66': 1, 'combining': 1, 'sense': 1, 'scalability': 1, 'batch': 1, 'good': 1, 'common': 1, 'overcome': 1, 'exercise': 1, 'producing': 1, 'reliable': 1, 'stgi：a': 1, 'marine': 1, 'administration': 1, 'tv': 1, 'audience': 1, 'guide': 1, 'theory-guided': 1, 'curating': 1, 'made': 1, 'simple': 1, 'population': 1, 'mobile': 1, 'monitor': 1, 'analyze': 1, '2.0': 1, 'cataclysm': 1, 'rise': 1, 'us': 1, 'kenyan': 1, 'agile': 1, 'web-based': 1, 'architecture-centric': 1, 'metering': 1, 'differentiated': 1, 'sublinear': 1, 'spatiotemporal-interval': 1, 'improved': 1, 'cnn': 1, 'gru': 1, 'border': 1, 'crossing': 1, 'speed': 1, 'unveiling': 1, 'sub-datasets': 1, 'max-min': 1, 'fair': 1, 'shared': 1, 'resting-state': 1, 'fmri': 1, 'functional': 1, 'connectivity': 1, 'preprocessing': 1, 'topological': 1, 'thermal-aware': 1, 'dvfs-enabled': 1, 'independent': 1, 'advisor': 1, 'usefulness': 1, 'uk': 1, 'ethical': 1, 'overfitting': 1, 'eeg': 1, 'seizure': 1, 'bci': 1, 'context-aware': 1, '3': 1, 'trend': 1, 'hdm': 1, 'composable': 1, 'aid': 1, 'recognition': 1, 'longitudinal': 1, 'granger': 1, 'causality': 1, 'air': 1, 'concentric': 1, 'multi-owner-based': 1, 'metadata': 1, 'indexing': 1, 'camera': 1, 'surveillance': 1, 'video': 1, 'algorithmseer': 1, 'searching': 1, 'taxi-passenger-demand': 1, 'roving': 1, 'dip-svm': 1, 'availability': 1, 'assurance': 1, 'hierarchical': 1, 'balance': 1, 'theory-based': 1, 'e-commerce': 1, 'recommendation': 1, 'encrypted': 1, 'hybridisation': 1, 'anomaly': 1, 'composition': 1, 'introducing': 1, 'perform': 1, 'scale\\x96out': 1, 'five-layer': 1, 'petuum': 1, 'k-anonymisation': 1, 'palopro': 1, 'news': 1, 'corporate': 1, 'annual': 1, 'fpga': 1, 'scale-out': 1, 'kvasir': 1, 'provision': 1, 'semantically': 1, 'spectral': 1, 'operation': 1, 'view-based': 1, 'data-cube': 1, 'interoperability': 1, 'gsio': 1, 'programmatic': 1, 'interface': 1, 'delivering': 1, 'data-as-a-service': 1, 'geosocial': 1, 'crowdsourced': 1, 'experience': 1, 'timescan': 1, 'produce': 1, 'provincial': 1, 'wetland': 1, 'inventory': 1, 'google': 1, 'engine': 1, 'geo': 1, 'multi-core': 1, 'many-core': 1, 'co-processors': 1, 'supercomputer': 1, 'beacon': 1, 'geocomputation': 1, 'geo-simulation': 1, 'partnership': 1, 'increasing': 1, 'australian': 1, 'facilitates': 1, 'landsat': 1, 'imagery': 1, 'settlement': 1, 'way': 1, 'transport': 1, 'greater': 1, 'sydney': 1, 'stewardship': 1, 'achieving': 1, 'road': 1, 'innovative': 1, 'wechat': 1, 'simd': 1, 'mcmc': 1, 'educational': 1, 'big‐data': 1, 'shuffle': 1, 'reduce': 1, 'biggest': 1, 'balloon': 1, 'unprecedented': 1, 'level': 1, 'coping': 1, 'k‐nearest': 1, 'obtain': 1, 'forecasting': 1, 'meet': 1, 'formal': 1, 'quantile': 1, 'conquer': 1, 'strategy': 1, 'organisation': 1, 'leverage': 1, 'maturity': 1, 'double-log': 1, 'skew-symmetric': 1, \"n't\": 1, 'always': 1, 'yield': 1, 'result': 1, 'output': 1, 'attribute': 1, 'designing': 1, 'operating': 1, 'mine-engineering': 1, 'discretization': 1, 'taxonomy': 1, 'automated': 1, 'slicing': 1, 'validation': 1, 'geographical': 1, 'theme': 1, 'crime': 1, 'detailed': 1, 'prominent': 1, 'used': 1, 'reducing': 1, 'volume': 1, 'recombine': 1, '&': 1, 'r': 1, 'complexity': 1, 'collection': 1, 'haery': 1, 'accumulative': 1, 'gamma': 1, 'summarize': 1, 'dense': 1, 'set': 1, 'entity': 1, 'evaluation': 1, 'improves': 1, ':': 1, 'successful': 1, 'academic': 1, 'librarian': 1, 'competency': 1, 'skill': 1, 'library': 1, 'applying': 1, 'kansei': 1, 'hotel': 1, 'conference': 1, 'bigcomp2014': 1, 'acquired': 1, 'things-enabled': 1, 'multichannel': 1, 'active': 1, '4.0': 1, 'enabled': 1, 'cyber-physical': 1, 'perspectives—what': 1, 'done': 1, 'revised': 1, 'pyramid': 1, 'peer-produced': 1, 'implicit': 1, 'wikipedia': 1, 'single‐cell': 1, 'transcriptomics': 1, 'five': 1, 'grand': 1, 'chicken': 1, 'foraging': 1, 'belief': 1, 'fundamental': 1, 'partner': 1, 'allina': 1, 'team': 1, 'garner': 1, 'coal-fired': 1, 'plant': 1, 'michael': 1, 'buck': 1, 'talk': 1, 'living': 1, 'dream': 1, 'bioinformaticist': 1, 'emerging': 1, 'alternative': 1, 'tensor-based': 1, 'dimensionality': 1, 'reduction': 1, 'sdn': 1, 'mongodb-based': 1, 'modular': 1, 'semantics-aware': 1, 'phone': 1, 'mobility': 1, 'scenario': 1, 'granularity': 1, 'heavy': 1, 'tailed': 1, 'advanced': 1, 'analysing': 1, 'repeat': 1, 'hyper-convergent': 1, 'machine‐learning': 1, 'updating': 1, 'correct': 1, 'path': 1, 'success': 1, 'banking': 1, 'integrated': 1, 'watchdog': 1, 'name-matching': 1, 'advancing': 1, 'comparing': 1, 'world': 1, 'supply': 1, 'finance': 1, 'mr': 1, 'plot': 1, 'distinguishing': 1, 'straggler': 1, 'rescheduling': 1, 'slow': 1, 'running': 1, 'lfcso-lvq': 1, 'pso': 1, 'unlocking': 1, 'causal': 1, 'relation': 1, 'responding': 1, 'turbulence': 1, 'mass': 1, 'customization': 1, 'effect': 1, 'predicting': 1, 'amazon': 1, 'product': 1, 'retail': 1, 'apriori-mapreduce': 1, 'embedding': 1, 'factory': 1, 'sap': 1, 'consultant': 1, 'holistic': 1, 'view': 1, 'subdata': 1, 'sampling-based': 1, 'skyline': 1, 'word-of-mouth': 1, 'csr': 1, 'consensus': 1, 'lime': 1, '$': 1, '^2': 1, 'k': 1, 'nearest': 1, 'neighbour': 1, 'multi-step': 1, 'nonlinear': 1, 'dimension-reduction': 1, 'bit-oriented': 1, 'aggregation': 1, 'feasibility': 1, 'privacy-preserving': 1, 'contextual': 1, 'federated': 1, 'recommender': 1, 'measure': 1, 'conflict': 1, 'dempster–shafer': 1, 'theory': 1, 'broadcasting': 1, 'v': 1, 'non-simple': 1, 'pre-processing': 1, 't-pcce': 1, 'personality': 1, 'communicative': 1, 'va-store': 1, 'virtual': 1, 'approximate': 1, 'store': 1, 'supporting': 1, 'repetitive': 1, 'genome': 1, 'implication': 1, 'suspicious': 1, 'tax': 1, 'evasion': 1, 'group': 1, 'decomposition': 1, 'semi-automatic': 1, 'fact': 1, 'bias': 1, 'sample': 1, 'linked': 1, 'sequential': 1, 'telco': 1, 'effective': 1, 'multi-data': 1, 'source': 1, 'recursive': 1, 'chunk': 1, 'dataset': 1, 'sensory': 1, 'nearest-neighbor': 1, 'canonical': 1, 'correlation': 1, 'multiview': 1, 'skia': 1, 'spatial-textual': 1, 'fractional': 1, 'hot-deck': 1, 'imputation': 1, 'variance': 1, 'incomplete': 1, 'curing': 1, 'factorization': 1, 'blind': 1, 'emulated': 1, 'identification': 1, 'vecchia–laplace': 1, 'gaussian': 1, 'non-gaussian': 1, 'distrubted': 1, 'dws': 1, 'advantage': 1, 'car-hailing': 1, 'eu': 1, 'law': 1, 'face': 1, 'shake-up': 1, 'archeological': 1, '41bs908': 1, '9,00': 1, 'year-old': 1, 'chisos': 1, 'basin': 1, 'bend': 1, 'park': 1, 'semantically-enriched': 1, 'simplified': 1, 'zukunft': 1, 'big-data-anwendungen': 1, 'chancen': 1, 'herausforderungen': 1, '`': 1, 'given': 1, 'student': 1, 'expectation': 1, 'demand': 1, 're-frame': 1, 'friendly': 1, 'commentary': 1, 'orthopaedic': 1, 'generalizability': 1, 'accelerates': 1, 'integrate': 1, 'hardware': 1, 'acceleration': 1, 'software': 1, 'also': 1, 'enable': 1, 'working': 1, 'field': 1, 'big-data-augmented': 1, 'ethnography': 1, 'candidate–candidate': 1, 'interaction': 1, 'election': 1, 'hazy': 1, 'easier': 1, 'maintain': 1, 'racing': 1, 'unleash': 1, 'full': 1, 'latest': 1, 'exception': 1, 'parallelized': 1, 'state': 1, 'charge': 1, 'consumption': 1, 'streaming': 1, 'concept': 1, 'drift': 1, 'stem': 1, 'tissue': 1, 'vision': 1, 'unique': 1, 'systems-prospect': 1, 'econophysics': 1, 'satellite': 1, 'yearly': 1, 'generation': 1, 'aiaa': 1, '2018-2368': 1, 'validierungsplattform': 1, 'für': 1, 'methoden': 1, 'zur': 1, 'teil-': 1, 'automatisierten': 1, 'felddatenanalyse': 1, 'edge': 1, 'biomarkers': 1, 'dynamical': 1, 'drug': 1, 'sensitivity': 1, 'individual': 1, 'parking': 1, 'policy': 1, 'adherence': 1, 'meter': 1, 'limit': 1, 'washington': 1, 'd.c': 1, 'screening': 1, 'bregman': 1, 'divergence': 1, 'safety': 1, 'influencing': 1, 'big-data-technologien': 1, 'fahrzeugentwicklung': 1, 'big-sensing-data': 1, 'curation': 1, 'coming': 1, 'promise': 1, 'cloud-data-center': 1, 'mitigation': 1, 'next-generation': 1, 'big-data-geschäftsmodelle': 1, 'die': 1, 'drei': 1, 'seiten': 1, 'medaille': 1, 'lesson': 1, 'assembling': 1, 'x-ray': 1, 'contrast': 1, 'imaging': 1, '[': 1, '9594-17': 1, ']': 1, 'incorporating': 1, 'smallholder': 1, 'palm': 1, 'oil': 1, 'production': 1, 'multiperspective': 1, 'textile': 1, 'transfer': 1, 'maximizing': 1, 'throughput': 1, 'highlight': 1, 'quantification': 1, 'variation': 1, 'revamp': 1, 'toxicology': 1, 'battery': 1, 'recycling': 1, 'big-data-anwendungsfälle': 1, 'methodisch': 1, 'erarbeiten': 1, 'question': 1, 'horizontal': 1, 'vertical': 1, 'discussion': 1, 'data/big': 1, 'realm': 1, 'possibility': 1, 'emergence': 1, 'mechanism': 1, 'energy-policy': 1, 'workshop': 1, 'informatics': 1, 'smarter': 1, 'prevention': 1, 'sphps': 1, 'metagenomics': 1, 'give': 1, 'boost': 1, 'big-data-losungen': 1, 'fur': 1, 'netzbetreiber': 1, 'siemens': 1, 'und': 1, 'teradata': 1, 'vereinbaren': 1, 'globale': 1, 'zusammenarbeit': 1, 'big-data-ansätze': 1, 'psychiatrie': 1, 'beispiele': 1, 'au': 1, 'depressionsforschung': 1, 'three-dimensional': 1, 'laser': 1, 'scanning': 1, 'architecting': 1, 'time-critical': 1, 'trust-based': 1, 'crowdfunding': 1, 'campaign': 1, 'marketing': 1, 'underpinnings': 1, 'migration': 1, 'execute': 1, 'consequence': 1, 'essential': 1, 'land': 1, 'category': 1, 'euluc': 1, 'progress': 1, 'pedagogy': 1, 'graduate': 1, 'teamwork': 1, 'box': 1, 'office': 1, 'persona': 1, 'shape': 1, 'demographic': 1, 'representation': 1, 'segment': 1, 'gong': 1, 'comment': 1, '”': 1, 'diversity': 1, 'target': 1, 'tracking': 1, 'shift': 1, 'keying': 1, 'transceiver': 1, 'capturing': 1, 'biosurveillance': 1, 'natural': 1, 'accounting': 1, 'really': 1, 'junqu': 1, 'de': 1, 'fortuny': 1, 'e': 1, 'marten': 1, 'provost': 1, 'f': 1, '2013': 1, '1': 1, '4': 1, ':215–226': 1, 'bring': 1, 'beyond': 1, 'hype': 1, 'data–artificial': 1, 'crown': 1, 'epidemic': 1, 'big-boe': 1, 'fusing': 1, 'spanish': 1, 'official': 1, 'gazette': 1, 'water': 1, 'cycle': 1, 'remote': 1, 'pythia': 1, 'missing': 1, 'idea': 1, 'geological': 1, 'agenda': 1, 'rf': 1, 'localisation': 1, 'unmanned': 1, 'rescue': 1, 'part': 1, 'hydrology': 1, 'cybersecurity': 1, 'pervasive': 1, 'things-based': 1, 'routing': 1, 'gathering': 1, 'landslide': 1, 'discrimination': 1, 'diagram': 1, 'basalt': 1, 'geoecological': 1, 'information-modeling': 1, 'unstructured': 1, 'mediating': 1, 'enabler': 1, 'primary': 1, 'unsupervised': 1, 'practitioner': 1, 'message': 1, 'editor-in-chief': 1, 'insurance': 1, 'uncertain': 1, 'multi-hypothesis': 1, 'theoretic': 1, 'strength': 1, 'number': 1, 'simplify': 1, 'behaviour': 1, 'protecting': 1, 'virtualized': 1, 'optimizing': 1, 'swimming': 1, 'pool': 1, 'household': 1, 'intensity': 1, 'san': 1, 'antonio': 1, 'texas': 1, 'overcoming': 1, 'adakites': 1, 'mineralization-related': 1, 'granite': 1, 'geza': 1, 'arc': 1, 'metallogenic': 1, 'northwest': 1, 'yunnan': 1, 'southwest': 1, 'mrs-dp': 1, 'deadline': 1, 'priority': 1, 'green': 1, 'actual': 1, 'internet-of-things': 1, 'complex': 1, 'iotbds': 1, '202': 1, 'complexis': 1, '2022': 1, 'firefly': 1, 'lion-assisted': 1, 'dilemma': 1, 'reused-based': 1, 'work': 1, 'multiquery': 1, 'economist': 1, 'get': 1, 'microscope': 1, 'interview': 1, 'dr': 1, 'silvio': 1, 'carta': 1, 'book': 1, 'code': 1, 'discrete': 1, 'routledge': 1, '2019': 1, 'soom': 1, 'sort-based': 1, 'optimizer': 1, 'multi-query': 1, 'understand': 1, 'kavli': 1, 'end': 1, 'daily': 1, 'fantasy': 1, 'know': 1, 'monkeyking': 1, 'parameter': 1, 'tuning': 1, 'reinforcement': 1, 'biological': 1, 'optimization-bat': 1, 'map-reduce': 1, 'bat': 1, 'c-means': 1})\n"
     ]
    }
   ],
   "source": [
    "from collections import Counter\n",
    "count = Counter(words2)\n",
    "print(count)"
   ]
  },
  {
   "cell_type": "code",
   "execution_count": 124,
   "id": "88558258-1dc5-45fd-a7ec-bafe0817f960",
   "metadata": {},
   "outputs": [
    {
     "name": "stdout",
     "output_type": "stream",
     "text": [
      "data : 389\n",
      "big : 365\n",
      "analytics : 73\n",
      "big-data : 39\n",
      "issue : 34\n",
      "special : 31\n",
      "call : 29\n",
      "paper : 29\n",
      "analysis : 29\n",
      "system : 27\n",
      "approach : 26\n",
      "using : 24\n",
      "model : 23\n",
      "earth : 22\n",
      "framework : 22\n",
      "learning : 22\n",
      "algorithm : 16\n",
      "distributed : 16\n",
      "science : 16\n",
      "processing : 16\n",
      "based : 16\n",
      "management : 15\n",
      "cloud : 15\n",
      "computing : 14\n",
      "platform : 14\n",
      "application : 14\n",
      "perspective : 14\n",
      "review : 14\n",
      "new : 13\n",
      "scalable : 13\n",
      "machine : 13\n",
      "sustainable : 12\n",
      "development : 12\n",
      "survey : 12\n",
      "efficient : 12\n",
      "mining : 12\n",
      "challenge : 11\n",
      "health : 10\n",
      "editorial : 10\n",
      "research : 10\n",
      "goal : 9\n",
      "support : 9\n",
      "engineering : 9\n",
      "deep : 9\n",
      "smart : 9\n",
      "guest : 9\n",
      "online : 9\n",
      "internet : 8\n"
     ]
    }
   ],
   "source": [
    "word_count = dict()\n",
    "\n",
    "for tag, counts in count.most_common(50):\n",
    "    if(len(str(tag)) > 1):\n",
    "        word_count[tag] = counts\n",
    "        print(\"%s : %d\" % (tag, counts))"
   ]
  },
  {
   "cell_type": "code",
   "execution_count": 126,
   "id": "9ba6b4a2-2426-47f8-9de2-2be19b504aed",
   "metadata": {},
   "outputs": [
    {
     "data": {
      "image/png": "[encoded data removed]",
      "text/plain": [
       "<Figure size 432x288 with 1 Axes>"
      ]
     },
     "metadata": {
      "needs_background": "light"
     },
     "output_type": "display_data"
    }
   ],
   "source": [
    "import matplotlib.pyplot as plt\n",
    "\n",
    "sorted_keys = sorted(word_count, key = word_count.get, reverse = True)\n",
    "sorted_values = sorted(word_count.values(), reverse = True)\n",
    "\n",
    "plt.bar(range(len(word_count)), sorted_values, align = 'center')\n",
    "plt.xticks(range(len(word_count)), list(sorted_keys), rotation = '85')\n",
    "plt.show()"
   ]
  },
  {
   "cell_type": "code",
   "execution_count": 149,
   "id": "bedac44e-8dc1-4999-8c55-44ad7f9ed429",
   "metadata": {},
   "outputs": [
    {
     "ename": "KeyError",
     "evalue": "'big'",
     "output_type": "error",
     "traceback": [
      "\u001b[1;31m---------------------------------------------------------------------------\u001b[0m",
      "\u001b[1;31mKeyError\u001b[0m                                  Traceback (most recent call last)",
      "Input \u001b[1;32mIn [149]\u001b[0m, in \u001b[0;36m<cell line: 1>\u001b[1;34m()\u001b[0m\n\u001b[1;32m----> 1\u001b[0m \u001b[38;5;28;01mdel\u001b[39;00m word_count[\u001b[38;5;124m'\u001b[39m\u001b[38;5;124mbig\u001b[39m\u001b[38;5;124m'\u001b[39m]\n\u001b[0;32m      2\u001b[0m \u001b[38;5;28;01mdel\u001b[39;00m word_count[\u001b[38;5;124m'\u001b[39m\u001b[38;5;124mdata\u001b[39m\u001b[38;5;124m'\u001b[39m]\n\u001b[0;32m      4\u001b[0m plt\u001b[38;5;241m.\u001b[39mfigure(figsize\u001b[38;5;241m=\u001b[39m(\u001b[38;5;241m12\u001b[39m,\u001b[38;5;241m5\u001b[39m))\n",
      "\u001b[1;31mKeyError\u001b[0m: 'big'"
     ]
    }
   ],
   "source": [
    "del word_count['big']\n",
    "del word_count['data']\n",
    "\n",
    "plt.figure(figsize=(12,5))\n",
    "plt.xlabel(\"word\")\n",
    "plt.ylabel(\"count\")\n",
    "plt.grid(True)\n",
    "\n",
    "sorted_keys = sorted(word_count, key = word_count.get, reverse = True)\n",
    "sorted_values = sorted(word_count.values(), reverse= True)\n",
    "\n",
    "plt.bar(range(len(word_count)), sorted_values, align = 'center')\n",
    "plt.xticks(range(len(word_count)), list(sorted_keys), rotation = '85')\n",
    "\n",
    "plt.show()"
   ]
  },
  {
   "cell_type": "code",
   "execution_count": 143,
   "id": "a676fb99-07fe-405f-ad83-216ef09c3864",
   "metadata": {},
   "outputs": [
    {
     "data": {
      "text/html": [
       "<div>\n",
       "<style scoped>\n",
       "    .dataframe tbody tr th:only-of-type {\n",
       "        vertical-align: middle;\n",
       "    }\n",
       "\n",
       "    .dataframe tbody tr th {\n",
       "        vertical-align: top;\n",
       "    }\n",
       "\n",
       "    .dataframe thead th {\n",
       "        text-align: right;\n",
       "    }\n",
       "</style>\n",
       "<table border=\"1\" class=\"dataframe\">\n",
       "  <thead>\n",
       "    <tr style=\"text-align: right;\">\n",
       "      <th></th>\n",
       "      <th>출판일</th>\n",
       "      <th>doc_count</th>\n",
       "    </tr>\n",
       "  </thead>\n",
       "  <tbody>\n",
       "    <tr>\n",
       "      <th>0</th>\n",
       "      <td>1999</td>\n",
       "      <td>1</td>\n",
       "    </tr>\n",
       "    <tr>\n",
       "      <th>1</th>\n",
       "      <td>2004</td>\n",
       "      <td>1</td>\n",
       "    </tr>\n",
       "    <tr>\n",
       "      <th>2</th>\n",
       "      <td>2011</td>\n",
       "      <td>1</td>\n",
       "    </tr>\n",
       "    <tr>\n",
       "      <th>3</th>\n",
       "      <td>2012</td>\n",
       "      <td>3</td>\n",
       "    </tr>\n",
       "    <tr>\n",
       "      <th>4</th>\n",
       "      <td>2013</td>\n",
       "      <td>8</td>\n",
       "    </tr>\n",
       "    <tr>\n",
       "      <th>5</th>\n",
       "      <td>2014</td>\n",
       "      <td>33</td>\n",
       "    </tr>\n",
       "    <tr>\n",
       "      <th>6</th>\n",
       "      <td>2015</td>\n",
       "      <td>32</td>\n",
       "    </tr>\n",
       "    <tr>\n",
       "      <th>7</th>\n",
       "      <td>2016</td>\n",
       "      <td>59</td>\n",
       "    </tr>\n",
       "    <tr>\n",
       "      <th>8</th>\n",
       "      <td>2017</td>\n",
       "      <td>59</td>\n",
       "    </tr>\n",
       "    <tr>\n",
       "      <th>9</th>\n",
       "      <td>2018</td>\n",
       "      <td>51</td>\n",
       "    </tr>\n",
       "    <tr>\n",
       "      <th>10</th>\n",
       "      <td>2019</td>\n",
       "      <td>34</td>\n",
       "    </tr>\n",
       "    <tr>\n",
       "      <th>11</th>\n",
       "      <td>2020</td>\n",
       "      <td>51</td>\n",
       "    </tr>\n",
       "    <tr>\n",
       "      <th>12</th>\n",
       "      <td>2021</td>\n",
       "      <td>47</td>\n",
       "    </tr>\n",
       "    <tr>\n",
       "      <th>13</th>\n",
       "      <td>2022</td>\n",
       "      <td>20</td>\n",
       "    </tr>\n",
       "  </tbody>\n",
       "</table>\n",
       "</div>"
      ],
      "text/plain": [
       "     출판일  doc_count\n",
       "0   1999          1\n",
       "1   2004          1\n",
       "2   2011          1\n",
       "3   2012          3\n",
       "4   2013          8\n",
       "5   2014         33\n",
       "6   2015         32\n",
       "7   2016         59\n",
       "8   2017         59\n",
       "9   2018         51\n",
       "10  2019         34\n",
       "11  2020         51\n",
       "12  2021         47\n",
       "13  2022         20"
      ]
     },
     "execution_count": 143,
     "metadata": {},
     "output_type": "execute_result"
    }
   ],
   "source": [
    "all_files_data_concat['doc_count'] = 0\n",
    "summary_year = all_files_data_concat.groupby('출판일', as_index = False)['doc_count'].count()\n",
    "summary_year"
   ]
  },
  {
   "cell_type": "code",
   "execution_count": 150,
   "id": "ba53adf1-0156-4f35-b3a3-e8ef107df77f",
   "metadata": {},
   "outputs": [
    {
     "data": {
      "image/png": "[encoded data removed]",
      "text/plain": [
       "<Figure size 864x360 with 1 Axes>"
      ]
     },
     "metadata": {
      "needs_background": "light"
     },
     "output_type": "display_data"
    }
   ],
   "source": [
    "plt.figure(figsize = (12, 5))\n",
    "plt.xlabel(\"year\")\n",
    "plt.ylabel(\"doc-count\")\n",
    "plt.grid(True)\n",
    "\n",
    "plt.plot(range(len(summary_year)), summary_year['doc_count'])\n",
    "plt.xticks(range(len(summary_year)), [text for text in summary_year['출판일']])\n",
    "\n",
    "plt.show()"
   ]
  },
  {
   "cell_type": "code",
   "execution_count": 151,
   "id": "306532ee-1c37-4a58-ba3a-2e0168dfb7f9",
   "metadata": {},
   "outputs": [
    {
     "data": {
      "image/png": "[encoded data removed]",
      "text/plain": [
       "<Figure size 576x576 with 1 Axes>"
      ]
     },
     "metadata": {
      "needs_background": "light"
     },
     "output_type": "display_data"
    }
   ],
   "source": [
    "from wordcloud import WordCloud, STOPWORDS\n",
    "\n",
    "stopwords = set(STOPWORDS)\n",
    "wc = WordCloud(background_color='ivory', stopwords=stopwords, width = 800, height = 600)\n",
    "cloud = wc.generate_from_frequencies(word_count)\n",
    "\n",
    "cloud.to_file(\"riss_bigdata.wordcloud.jpg\")\n",
    "\n",
    "plt.figure(figsize=(8,8))\n",
    "plt.imshow(cloud)\n",
    "plt.axis('off')\n",
    "plt.show()"
   ]
  },
  {
   "cell_type": "code",
   "execution_count": 7,
   "id": "dc530ac5-80dd-4be5-91b6-354093136266",
   "metadata": {},
   "outputs": [
    {
     "name": "stdout",
     "output_type": "stream",
     "text": [
      "Requirement already satisfied: KoNLPy in c:\\users\\munbe\\anaconda3\\lib\\site-packages (0.6.0)\n",
      "Requirement already satisfied: lxml>=4.1.0 in c:\\users\\munbe\\anaconda3\\lib\\site-packages (from KoNLPy) (4.8.0)\n",
      "Requirement already satisfied: numpy>=1.6 in c:\\users\\munbe\\anaconda3\\lib\\site-packages (from KoNLPy) (1.21.5)\n",
      "Requirement already satisfied: JPype1>=0.7.0 in c:\\users\\munbe\\anaconda3\\lib\\site-packages (from KoNLPy) (1.4.1)\n",
      "Requirement already satisfied: packaging in c:\\users\\munbe\\anaconda3\\lib\\site-packages (from JPype1>=0.7.0->KoNLPy) (21.3)\n",
      "Requirement already satisfied: pyparsing!=3.0.5,>=2.0.2 in c:\\users\\munbe\\anaconda3\\lib\\site-packages (from packaging->JPype1>=0.7.0->KoNLPy) (3.0.4)\n"
     ]
    }
   ],
   "source": [
    "!pip install KoNLPy"
   ]
  },
  {
   "cell_type": "code",
   "execution_count": 6,
   "id": "bc4ff55f-ca5b-4427-963d-c3e255c6b189",
   "metadata": {},
   "outputs": [
    {
     "name": "stdout",
     "output_type": "stream",
     "text": [
      "['단독', '입찰', '보다', '복수', '입찰', '의', '경우']\n"
     ]
    }
   ],
   "source": [
    "from konlpy.tag import Okt\n",
    "okt = Okt()\n",
    "\n",
    "print(okt.morphs(u'단독입찰보다 복수입찰의 경우'))"
   ]
  },
  {
   "cell_type": "code",
   "execution_count": 9,
   "id": "cbb96bc0-8bcd-4c91-8e2b-38e57a1b98a6",
   "metadata": {},
   "outputs": [
    {
     "name": "stdout",
     "output_type": "stream",
     "text": [
      "['항공기', '체계', '종합', '개발', '경험']\n"
     ]
    }
   ],
   "source": [
    "print(okt.nouns(u'유일하게 항공기 체계 종합개발 경험을 갖고 있는 KAI는'))"
   ]
  },
  {
   "cell_type": "code",
   "execution_count": 10,
   "id": "30a10db4-a56d-44b3-93dd-f96e6ac4f8c8",
   "metadata": {},
   "outputs": [
    {
     "name": "stdout",
     "output_type": "stream",
     "text": [
      "['날카로운 분석', '날카로운 분석과 신뢰감', '날카로운 분석과 신뢰감 있는 진행', '분석', '신뢰', '진행']\n"
     ]
    }
   ],
   "source": [
    "print(okt.phrases(u'날카로운 분석과 신뢰감 있는 진행으로'))"
   ]
  },
  {
   "cell_type": "code",
   "execution_count": 11,
   "id": "bf279288-6901-4a07-b50c-a82b598287dc",
   "metadata": {},
   "outputs": [
    {
     "name": "stdout",
     "output_type": "stream",
     "text": [
      "[('아무', 'Modifier'), ('거', 'Noun'), ('다', 'Josa'), ('다', 'Adverb'), ('됨', 'Verb'), ('?', 'Punctuation')]\n"
     ]
    }
   ],
   "source": [
    "print(okt.pos(u'아무거다 다 됨?'))"
   ]
  },
  {
   "cell_type": "code",
   "execution_count": 20,
   "id": "dc3fabae-8dc6-4879-b7fa-5ecc94b8fdf7",
   "metadata": {},
   "outputs": [
    {
     "ename": "NameError",
     "evalue": "name 'json' is not defined",
     "output_type": "error",
     "traceback": [
      "\u001b[1;31m---------------------------------------------------------------------------\u001b[0m",
      "\u001b[1;31mNameError\u001b[0m                                 Traceback (most recent call last)",
      "Input \u001b[1;32mIn [20]\u001b[0m, in \u001b[0;36m<cell line: 2>\u001b[1;34m()\u001b[0m\n\u001b[0;32m      1\u001b[0m imputFileName \u001b[38;5;241m=\u001b[39m \u001b[38;5;124m'\u001b[39m\u001b[38;5;124metnews.kr_facebook_2016-01-01_2018-08-01_4차 산업혁명\u001b[39m\u001b[38;5;124m'\u001b[39m\n\u001b[1;32m----> 2\u001b[0m data \u001b[38;5;241m=\u001b[39m \u001b[43mjson\u001b[49m\u001b[38;5;241m.\u001b[39mloads(\u001b[38;5;28mopen\u001b[39m(inputFileName\u001b[38;5;241m+\u001b[39m\u001b[38;5;124m'\u001b[39m\u001b[38;5;124m.json\u001b[39m\u001b[38;5;124m'\u001b[39m, \u001b[38;5;124m'\u001b[39m\u001b[38;5;124mr\u001b[39m\u001b[38;5;124m'\u001b[39m, encoding \u001b[38;5;241m=\u001b[39m \u001b[38;5;124m'\u001b[39m\u001b[38;5;124mutf-8\u001b[39m\u001b[38;5;124m'\u001b[39m)\u001b[38;5;241m.\u001b[39mread())\n\u001b[0;32m      3\u001b[0m data\n",
      "\u001b[1;31mNameError\u001b[0m: name 'json' is not defined"
     ]
    }
   ],
   "source": [
    "imputFileName = 'etnews.kr_facebook_2016-01-01_2018-08-01_4차 산업혁명'\n",
    "data = json.loads(open(inputFileName+'.json', 'r', encoding = 'utf-8').read())\n",
    "data"
   ]
  },
  {
   "cell_type": "code",
   "execution_count": 23,
   "id": "beedf39a-348e-4c12-93c6-297ad1fb3447",
   "metadata": {},
   "outputs": [
    {
     "ename": "TypeError",
     "evalue": "__init__() got an unexpected keyword argument 'frame'",
     "output_type": "error",
     "traceback": [
      "\u001b[1;31m---------------------------------------------------------------------------\u001b[0m",
      "\u001b[1;31mTypeError\u001b[0m                                 Traceback (most recent call last)",
      "Input \u001b[1;32mIn [23]\u001b[0m, in \u001b[0;36m<cell line: 4>\u001b[1;34m()\u001b[0m\n\u001b[0;32m      1\u001b[0m \u001b[38;5;28;01mfrom\u001b[39;00m \u001b[38;5;21;01mmatplotlib\u001b[39;00m \u001b[38;5;28;01mimport\u001b[39;00m font_manager, rc\n\u001b[0;32m      3\u001b[0m font_path \u001b[38;5;241m=\u001b[39m \u001b[38;5;124m\"\u001b[39m\u001b[38;5;124mc:/Windows/fonts/malgun.ttf\u001b[39m\u001b[38;5;124m\"\u001b[39m\n\u001b[1;32m----> 4\u001b[0m font_name \u001b[38;5;241m=\u001b[39m \u001b[43mfont_manager\u001b[49m\u001b[38;5;241;43m.\u001b[39;49m\u001b[43mFontProperties\u001b[49m\u001b[43m(\u001b[49m\u001b[43mframe\u001b[49m\u001b[43m \u001b[49m\u001b[38;5;241;43m=\u001b[39;49m\u001b[43m \u001b[49m\u001b[43mfont_path\u001b[49m\u001b[43m)\u001b[49m\u001b[38;5;241m.\u001b[39mget_name()\n\u001b[0;32m      6\u001b[0m get_ipython()\u001b[38;5;241m.\u001b[39mrun_line_magic(\u001b[38;5;124m\"\u001b[39m\u001b[38;5;124mmatplotlib.rc(\u001b[39m\u001b[38;5;124m'\u001b[39m\u001b[38;5;124mfont\u001b[39m\u001b[38;5;124m'\u001b[39m\u001b[38;5;124m,\u001b[39m\u001b[38;5;124m\"\u001b[39m, \u001b[38;5;124m'\u001b[39m\u001b[38;5;124mfamilt = font_name)\u001b[39m\u001b[38;5;124m'\u001b[39m)\n",
      "\u001b[1;31mTypeError\u001b[0m: __init__() got an unexpected keyword argument 'frame'"
     ]
    }
   ],
   "source": [
    "from matplotlib import font_manager, rc\n",
    "\n",
    "font_path = \"c:/Windows/fonts/malgun.ttf\"\n",
    "font_name = font_manager.FontProperties(frame = font_path).get_name()\n",
    "\n",
    "%matplotlib.rc('font', familt = font_name)"
   ]
  },
  {
   "cell_type": "code",
   "execution_count": 22,
   "id": "e1a26869-8e33-4474-a14e-33cecce69a5f",
   "metadata": {},
   "outputs": [
    {
     "name": "stdout",
     "output_type": "stream",
     "text": [
      "['arial.ttf', 'arialbd.ttf', 'arialbi.ttf', 'ariali.ttf', 'ariblk.ttf', 'bahnschrift.ttf', 'calibri.ttf', 'calibrib.ttf', 'calibrii.ttf', 'calibril.ttf', 'calibrili.ttf', 'calibriz.ttf', 'cambriab.ttf', 'cambriai.ttf', 'cambriaz.ttf', 'Candara.ttf', 'Candarab.ttf', 'Candarai.ttf', 'Candaral.ttf', 'Candarali.ttf', 'Candaraz.ttf', 'comic.ttf', 'comicbd.ttf', 'comici.ttf', 'comicz.ttf', 'consola.ttf', 'consolab.ttf', 'consolai.ttf', 'consolaz.ttf', 'constan.ttf', 'constanb.ttf', 'constani.ttf', 'constanz.ttf', 'corbel.ttf', 'corbelb.ttf', 'corbeli.ttf', 'corbell.ttf', 'corbelli.ttf', 'corbelz.ttf', 'cour.ttf', 'courbd.ttf', 'courbi.ttf', 'couri.ttf', 'ebrima.ttf', 'ebrimabd.ttf', 'framd.ttf', 'framdit.ttf', 'Gabriola.ttf', 'gadugi.ttf', 'gadugib.ttf', 'georgia.ttf', 'georgiab.ttf', 'georgiai.ttf', 'georgiaz.ttf', 'HANBatang.ttf', 'HANBatangB.ttf', 'HANBatangExt.ttf', 'HANBatangExtB.ttf', 'HANBatangExtBB.ttf', 'Hancom Gothic Bold.ttf', 'Hancom Gothic Regular.ttf', 'HancomEQN.ttf', 'HANDotum.ttf', 'HANDotumB.ttf', 'HANDotumExt.ttf', 'HanSantteutDotumBold.ttf', 'HanSantteutDotumRegular.ttf', 'HANWing2.ttf', 'himalaya.ttf', 'holomdl2.ttf', 'impact.ttf', 'Inkfree.ttf', 'javatext.ttf', 'LeelaUIb.ttf', 'LeelawUI.ttf', 'LeelUIsl.ttf', 'lucon.ttf', 'l_10646.ttf', 'malgun.ttf', 'malgunbd.ttf', 'malgunsl.ttf', 'marlett.ttf', 'micross.ttf', 'mmrtext.ttf', 'mmrtextb.ttf', 'monbaiti.ttf', 'mstmc.ttf', 'msyi.ttf', 'mvboli.ttf', 'NanumGothic.ttf', 'Nirmala.ttf', 'NirmalaB.ttf', 'NirmalaS.ttf', 'ntailu.ttf', 'ntailub.ttf', 'pala.ttf', 'palab.ttf', 'palabi.ttf', 'palai.ttf', 'phagspa.ttf', 'phagspab.ttf', 'segmdl2.ttf', 'segoepr.ttf', 'segoeprb.ttf', 'segoesc.ttf', 'segoescb.ttf', 'segoeui.ttf', 'segoeuib.ttf', 'segoeuii.ttf', 'segoeuil.ttf', 'segoeuisl.ttf', 'segoeuiz.ttf', 'seguibl.ttf', 'seguibli.ttf', 'seguiemj.ttf', 'seguihis.ttf', 'seguili.ttf', 'seguisb.ttf', 'seguisbi.ttf', 'seguisli.ttf', 'seguisym.ttf', 'simsunb.ttf', 'sylfaen.ttf', 'symbol.ttf', 'tahoma.ttf', 'tahomabd.ttf', 'taile.ttf', 'taileb.ttf', 'times.ttf', 'timesbd.ttf', 'timesbi.ttf', 'timesi.ttf', 'trebuc.ttf', 'trebucbd.ttf', 'trebucbi.ttf', 'trebucit.ttf', 'unispace bd.ttf', 'V3Detect.ttf', 'verdana.ttf', 'verdanab.ttf', 'verdanai.ttf', 'verdanaz.ttf', 'webdings.ttf', 'wingding.ttf']\n"
     ]
    }
   ],
   "source": [
    "import os\n",
    "\n",
    "list = []\n",
    "for file in os.listdir('C:/windows/Fonts'):\n",
    "    if file.endswith(\".ttf\"):\n",
    "        list.append(file)\n",
    "        \n",
    "print(list)"
   ]
  },
  {
   "cell_type": "code",
   "execution_count": null,
   "id": "551c76e5-6d9f-4444-a587-8d0ed3f5ef92",
   "metadata": {},
   "outputs": [],
   "source": []
  }
 ],
 "metadata": {
  "kernelspec": {
   "display_name": "Python 3 (ipykernel)",
   "language": "python",
   "name": "python3"
  },
  "language_info": {
   "codemirror_mode": {
    "name": "ipython",
    "version": 3
   },
   "file_extension": ".py",
   "mimetype": "text/x-python",
   "name": "python",
   "nbconvert_exporter": "python",
   "pygments_lexer": "ipython3",
   "version": "3.9.18"
  }
 },
 "nbformat": 4,
 "nbformat_minor": 5
}
