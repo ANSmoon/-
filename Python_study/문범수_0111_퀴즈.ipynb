{
 "cells": [
  {
   "cell_type": "markdown",
   "id": "336ce078-6a45-4301-bf5e-4c6976aefa6e",
   "metadata": {},
   "source": [
    "##### object : 퀴즈(Q1. 음료수 자판기 만들기, Q2. 유저에게 입력받은 숫자가 짝수인지 홀수인지 구분하기!, Q3. 학점 변환 코드 만들기, Q4. 챗봇을 만들어 주세요!)\n",
    "##### Author : 문범수\n",
    "##### date : 2022.1.25"
   ]
  },
  {
   "cell_type": "markdown",
   "id": "425d527a-ba9c-46c3-a296-dec42feb4c0d",
   "metadata": {},
   "source": [
    "## 1. 음료수 자판기 만들기\n",
    "- 1번 입력시 콜라\n",
    "- 2번 입력시 사이다\n",
    "- 3번 입력시 환타\n",
    "- 4번 입력시 제로콜라\n",
    "- '나머지 입력은 제공하지 않는 메뉴' 출력"
   ]
  },
  {
   "cell_type": "code",
   "execution_count": 61,
   "id": "683f1101-5af4-4838-a2c1-1a0a674da8f7",
   "metadata": {},
   "outputs": [
    {
     "name": "stdin",
     "output_type": "stream",
     "text": [
      "Select Menu ㅁ\n"
     ]
    },
    {
     "name": "stdout",
     "output_type": "stream",
     "text": [
      "Please select only number\n"
     ]
    }
   ],
   "source": [
    "try:\n",
    "    drink = int(input(\"Select Menu\"))\n",
    "    if drink == 1:\n",
    "        print(\"Coke\")\n",
    "    elif drink == 2:\n",
    "        print(\"Sprite\")\n",
    "    elif drink == 3:\n",
    "        print(\"Fanta\")\n",
    "    elif drink == 4:\n",
    "        print(\"Zero Coke\")\n",
    "    else:\n",
    "        print(\"Not provided Menu!\")\n",
    "except ValueError:\n",
    "    print(\"Please select only number\")"
   ]
  },
  {
   "cell_type": "markdown",
   "id": "9c036c55-b69e-4b95-8e6f-a2403efd85c1",
   "metadata": {},
   "source": [
    "## 2. 유저에게 입력받은 숫자가 짝수인지 홀수인지 구분하기!\n",
    "- 유저에게 받은 숫자가 짝수인지 홀수인지 출력하는 조건문을 만들기"
   ]
  },
  {
   "cell_type": "code",
   "execution_count": 62,
   "id": "c4f0c26c-b33b-407e-9beb-d3ae5a5c7f69",
   "metadata": {},
   "outputs": [
    {
     "name": "stdin",
     "output_type": "stream",
     "text": [
      "Please input your number ㅁ\n"
     ]
    },
    {
     "name": "stdout",
     "output_type": "stream",
     "text": [
      "Please input number\n"
     ]
    }
   ],
   "source": [
    "try:\n",
    "    y = int(input(\"Please input your number\"))\n",
    "    if y % 2 == 0:\n",
    "        print(\"This number is even!\")\n",
    "    elif y == 0:\n",
    "        print(\"This number is neither even nor odd!\")\n",
    "    elif y < 0:\n",
    "        print(\"Please input only positive number!\")\n",
    "    else:\n",
    "        print(\"this number is odd!\")\n",
    "except ValueError:\n",
    "    print(\"Please input number\")"
   ]
  },
  {
   "cell_type": "markdown",
   "id": "3d1f6464-e13b-4949-bb0c-f2be9b98febd",
   "metadata": {},
   "source": [
    "## 3. 학점 변환 코드 만들기\n",
    "- 조건\n",
    "- 4.5 A+\n",
    "- 4.0 A\n",
    "- 3.5 B+\n",
    "- 3.0 B\n",
    "- 2.5 D\n",
    "- 2.0외 그이하 부모님 소환\n",
    "\n",
    "- 학생에게 파이썬 문법, 데이터 분석, 알고리즘 이 세 개의 과목의 학점을 받아 평균을 계산하여\n",
    "- 총 평균 학점에 대한 학점 변환 코드를 만들어 주세요.\n",
    "- ex) 3.5, 3.5, 3.5 입력 -> 총 학점은 B+ 입니다.\n",
    "\n"
   ]
  },
  {
   "cell_type": "code",
   "execution_count": 76,
   "id": "61b98347-8df2-450a-851f-57b13795b3b0",
   "metadata": {},
   "outputs": [
    {
     "name": "stdin",
     "output_type": "stream",
     "text": [
      "Python grammar 3\n",
      "data analysis 4\n",
      "Algorithm 5\n"
     ]
    },
    {
     "name": "stdout",
     "output_type": "stream",
     "text": [
      "Total average = A\n"
     ]
    }
   ],
   "source": [
    "try:\n",
    "    a = float(input(\"Python grammar\"))\n",
    "    b = float(input(\"data analysis\"))\n",
    "    c = float(input(\"Algorithm\"))\n",
    "        \n",
    "    total = (a + b + c) / 3\n",
    "\n",
    "    if total == 4.5:\n",
    "        print(\"Total average = A+\")\n",
    "    elif 4.5 > total >= 4.0:\n",
    "        print(\"Total average = A\")\n",
    "    elif 4.0 > total >= 3.5:\n",
    "        print(\"Total average = B+\")\n",
    "    elif 3.5 > total >= 3.0:\n",
    "        print(\"Total average = B\")\n",
    "    elif 3.0 > total >= 2.5:\n",
    "        print(\"Total average = D\")\n",
    "    elif total > 4.5:\n",
    "        print(\"Check again!\")\n",
    "    else:\n",
    "        print(\"부모님 소환\")\n",
    "\n",
    "except:\n",
    "    print(\"please input possible score!\")"
   ]
  },
  {
   "cell_type": "markdown",
   "id": "4fe58826-8365-4867-9d20-d642f5e69a94",
   "metadata": {},
   "source": [
    "## 4. 챗봇 만들기\n",
    "- 조건\n",
    "- 입력: 안녕? -> 안녕하세요\n",
    "- 입력: 뭐해? -> 너랑 놀잖아..\n",
    "- 입력: 나 배고파 -> 몸무게 먼저 체크해봐!\n",
    "- (다양하게 만들어 주세요! (최소 5개 이상 조건)) 만약 위의 조건이 아닌 입력을 하는 경우\n",
    "- 입력: 너 몇살이야? -> 너 몇살이야?\n",
    "- 그대로 출력하게 해주세요! "
   ]
  },
  {
   "cell_type": "code",
   "execution_count": 57,
   "id": "7c40651a-cc33-4008-89e4-7c2a1e16bd30",
   "metadata": {},
   "outputs": [
    {
     "name": "stdin",
     "output_type": "stream",
     "text": [
      "Have fun chatting!\n",
      " 헤헤\n"
     ]
    }
   ],
   "source": [
    "chat = input(\"Have fun chatting!\\n\")\n",
    "\n",
    "if chat == \"안녕?\":\n",
    "    print(\" 안녕하세요\")\n",
    "elif chat == \"뭐해?\":\n",
    "    print(\" 너랑 놀잖아.\")\n",
    "elif chat == \"나 배고파\":\n",
    "    print(\" 몸무게 먼저 체크해봐!\")\n",
    "elif chat == \"어디살아?\":\n",
    "    print(\" 전세계 어디든!\")\n",
    "elif chat == \"너는 사람이야?\":\n",
    "    print(\" 그건 모르겠는뎅.\")\n",
    "else:\n",
    "    chat"
   ]
  }
 ],
 "metadata": {
  "kernelspec": {
   "display_name": "Python 3 (ipykernel)",
   "language": "python",
   "name": "python3"
  },
  "language_info": {
   "codemirror_mode": {
    "name": "ipython",
    "version": 3
   },
   "file_extension": ".py",
   "mimetype": "text/x-python",
   "name": "python",
   "nbconvert_exporter": "python",
   "pygments_lexer": "ipython3",
   "version": "3.9.12"
  }
 },
 "nbformat": 4,
 "nbformat_minor": 5
}
