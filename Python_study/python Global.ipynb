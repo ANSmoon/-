{
 "cells": [
  {
   "cell_type": "code",
   "execution_count": 1,
   "id": "6b8f3302-66d4-4be7-8dd5-1b0b9e9e73cb",
   "metadata": {},
   "outputs": [],
   "source": [
    "class ScoreParam:\n",
    "    \n",
    "    def __init__(self, gap, mismatch):\n",
    "        self.gap = gap\n",
    "        self.mismatch = mismatch\n",
    "    def match(self, chr):\n",
    "        if chr == 'A':\n",
    "            return 3\n",
    "        elif chr == 'C' or chr == 'T':\n",
    "            return 2\n",
    "        else:\n",
    "            return 1\n",
    "\n",
    "def global_align(x, y, score=ScoreParam(-4, -3)):\n",
    "   \n",
    "    A = []\n",
    "    for i in range(len(y) + 1):\n",
    "        A.append([0] * (len(x) +1))\n",
    "    for i in range(len(y)+1):\n",
    "        A[i][0] = score.gap * i\n",
    "    for i in range(len(x)+1):\n",
    "        A[0][i] = score.gap * i\n",
    "    for i in range(1, len(y) + 1):\n",
    "        for j in range(1, len(x) + 1):\n",
    "           \n",
    "            A[i][j] = max(\n",
    "            A[i][j-1] + score.gap,\n",
    "            A[i-1][j] + score.gap,\n",
    "            A[i-1][j-1] + (score.match(y[i-1]) if y[i-1] == x[j-1] else score.mismatch)\n",
    "            )\n",
    "\n",
    "    align_X = \"\"\n",
    "    align_Y = \"\"\n",
    "    i = len(x)\n",
    "    j = len(y)\n",
    "\n",
    "    while i > 0 or j > 0:\n",
    "         \n",
    "        current_score = A[j][i]\n",
    "\n",
    "        if i > 0 and j > 0 and x[i - 1] == y[j - 1]:\n",
    "            align_X = x[i - 1] + align_X\n",
    "            align_Y = y[j - 1] + align_Y\n",
    "            i = i - 1\n",
    "            j = j - 1\n",
    "         \n",
    "        elif i > 0 and (current_score == A[j][i - 1] + score.mismatch or current_score == A[j][i - 1] + score.gap):\n",
    "            align_X = x[i - 1] + align_X\n",
    "            align_Y = \"-\" + align_Y\n",
    "            i = i - 1\n",
    "             \n",
    "        else:\n",
    "            align_X = \"-\" + align_X\n",
    "            align_Y = y[j - 1] + align_Y\n",
    "            j = j - 1\n",
    "   \n",
    "    return (align_X, align_Y)"
   ]
  },
  {
   "cell_type": "code",
   "execution_count": null,
   "id": "485379ec-8b3d-4b4f-8707-bac026102ad9",
   "metadata": {},
   "outputs": [],
   "source": []
  }
 ],
 "metadata": {
  "kernelspec": {
   "display_name": "Python 3 (ipykernel)",
   "language": "python",
   "name": "python3"
  },
  "language_info": {
   "codemirror_mode": {
    "name": "ipython",
    "version": 3
   },
   "file_extension": ".py",
   "mimetype": "text/x-python",
   "name": "python",
   "nbconvert_exporter": "python",
   "pygments_lexer": "ipython3",
   "version": "3.9.12"
  }
 },
 "nbformat": 4,
 "nbformat_minor": 5
}
