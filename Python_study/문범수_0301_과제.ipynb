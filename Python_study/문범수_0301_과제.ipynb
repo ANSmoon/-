{
 "cells": [
  {
   "cell_type": "markdown",
   "id": "4afb995f-1784-4f59-a200-7dbe851c029a",
   "metadata": {
    "jp-MarkdownHeadingCollapsed": true,
    "tags": []
   },
   "source": [
    "##### object : Formating 및 문자열 함수 응용\n",
    "##### Author : 문범수\n",
    "##### date : 2022.3.6"
   ]
  },
  {
   "cell_type": "markdown",
   "id": "802c14a6-7e3a-4fbd-a82f-a922aab68693",
   "metadata": {},
   "source": [
    "#### 예시 data 1 \n",
    "\n",
    "이번 WBC에서 한국 대표팀이 가장 내세울 수 있는 자랑거리는 디펜스다. 특히 내야진 수비력은 역대 국가대표 중 최강으로 평가받고 있다.\n",
    "특히 현역 메이저리거 2루수 토미 현수 에드먼(28·세인트루이스)과 유격수 김하성(28·샌디에이고)이 포진하는 동갑내기 키스톤 콤비내이션의 활약은 이번 대회 한국 대표팀의 최고 관전포인트가 될 듯하다. 일본도 벌써부터 이들 듀오를 경계하고 있다.\n",
    "\n",
    "<네이버 스포츠 WBC 관련 기사 중 일부 발췌>"
   ]
  },
  {
   "cell_type": "markdown",
   "id": "842cacff-a23a-436f-8f9e-d0b68fbb8fcc",
   "metadata": {},
   "source": [
    "#### 예시 data 2\n",
    "\n",
    "맨유는 지난 6일(한국시간) 잉글랜드 리버풀의 안필드에서 열린 2022~2023시즌 잉글랜드 프리미어리그(EPL) 리버풀과 26라운드 경기에서 무려 0-7로 충격패했다. 에릭 텐 하흐 감독 부임 후 확실하게 달라진 모습을 보였던 맨유는 이 대패로 상승세가 한풀 꺾였다.\n",
    "\n",
    "<네이버 스포츠 해외축구 관련 기사 중 일부 발췌>"
   ]
  },
  {
   "cell_type": "markdown",
   "id": "f6f0e22f-fd16-4996-8bd1-ce44437fede0",
   "metadata": {},
   "source": [
    "### Formating"
   ]
  },
  {
   "cell_type": "code",
   "execution_count": 31,
   "id": "81210930-f687-4cab-8d90-27abcb49fb9d",
   "metadata": {},
   "outputs": [],
   "source": [
    "# \"이번 WBC에서 한국 대표팀이 가장 내세울 수 있는 자랑거리는 디펜스다. 특히 내야진 수비력은 역대 국가대표 중 최강으로 평가받고 있다.\" \n",
    "# \"특히 현역 메이저리거 2루수 토미 현수 에드먼(28·세인트루이스)과 유격수 김하성(28·샌디에이고)이 포진하는 동갑내기 키스톤 콤비내이션의 활약은 이번 대회 한국 대표팀의 최고 관전포인트가 될 듯하다.\"\n",
    "# \"일본도 벌써부터 이들 듀오를 경계하고 있다.\"\n",
    "\n",
    "ex1 = (\"이번 {0}에서 {1}이 가장 내세울 수 있는 자랑거리는 {2}다. 특히 {3} 수비력은 역대 {4} 중 최강으로 평가받고 있다.\")\n",
    "ex2 = (\"특히 현역 메이저리거 2루수 {1}({0}·세인트루이스)과 유격수 {2}({0}·샌디에이고)이 포진하는 동갑내기 키스톤 콤비내이션의 활약은 이번 대회 한국 대표팀의 최고 관전포인트가 될 듯하다.\")\n",
    "ex3 = (\"{0}도 {0}부터 이들 {0}를 경계하고 있다.\")"
   ]
  },
  {
   "cell_type": "code",
   "execution_count": 23,
   "id": "3e7437a7-e492-4a60-b8c5-98b4dee97281",
   "metadata": {},
   "outputs": [
    {
     "data": {
      "text/plain": [
       "'이번 World base ball cup에서 선수들이이 가장 내세울 수 있는 자랑거리는 정신력다. 특히 키스톤 콤비의 수비력은 역대 대표팀 전력 중 최강으로 평가받고 있다.'"
      ]
     },
     "execution_count": 23,
     "metadata": {},
     "output_type": "execute_result"
    }
   ],
   "source": [
    "ex1.format(\"World base ball cup\",\"선수들이\",\"정신력\",\"키스톤 콤비의\",\"대표팀 전력\")"
   ]
  },
  {
   "cell_type": "code",
   "execution_count": 20,
   "id": "35a83126-833b-460f-88dc-f322303d9681",
   "metadata": {},
   "outputs": [
    {
     "data": {
      "text/plain": [
       "'특히 현역 메이저리거 2루수 에드먼(20·세인트루이스)과 유격수 하성킴(20·샌디에이고)이 포진하는 동갑내기 키스톤 콤비내이션의 활약은 이번 대회 한국 대표팀의 최고 관전포인트가 될 듯하다.'"
      ]
     },
     "execution_count": 21,
     "metadata": {},
     "output_type": "execute_result"
    }
   ],
   "source": [
    "ex2.format(20,\"에드먼\",\"하성킴\")"
   ]
  },
  {
   "cell_type": "code",
   "execution_count": 26,
   "id": "9d03adbd-1162-47e3-a792-9144834f693f",
   "metadata": {},
   "outputs": [
    {
     "data": {
      "text/plain": [
       "'Japan도 Japan부터 이들 Japan를 경계하고 있다.'"
      ]
     },
     "execution_count": 26,
     "metadata": {},
     "output_type": "execute_result"
    }
   ],
   "source": [
    "ex3.format('Japan')"
   ]
  },
  {
   "cell_type": "code",
   "execution_count": 27,
   "id": "2cf813bf-f1ee-46cd-8b13-4096be74efec",
   "metadata": {},
   "outputs": [
    {
     "data": {
      "text/plain": [
       "'이번 대회에서 대표팀이 가장 내세울 수 있는 자랑거리는 디펜스다. 특히 내야진 수비력은 역대 전력 중 최강으로 평가받고 있다.'"
      ]
     },
     "execution_count": 27,
     "metadata": {},
     "output_type": "execute_result"
    }
   ],
   "source": [
    "\"이번 %s에서 %s이 가장 내세울 수 있는 자랑거리는 디펜스다. 특히 내야진 수비력은 역대 %s 중 최강으로 평가받고 있다.\" % ('대회','대표팀','전력')\n"
   ]
  },
  {
   "cell_type": "code",
   "execution_count": 28,
   "id": "32776818-939d-4db1-a757-eb4219878d93",
   "metadata": {},
   "outputs": [
    {
     "data": {
      "text/plain": [
       "'특히 현역 메이저 2루수 토미 현수 에드먼(28·세인트루이스)과 유격수 김하성(28·샌디에이고)이 포진하는 동갑내기 키스톤 콤비내이션의 활약은 이번 대회 한국 대표팀의 최고 관전포인트가 될 듯하다.'"
      ]
     },
     "execution_count": 28,
     "metadata": {},
     "output_type": "execute_result"
    }
   ],
   "source": [
    "\"특히 현역 %s %d루수 토미 현수 에드먼(%d·세인트루이스)과 유격수 김하성(%d·샌디에이고)이 포진하는 동갑내기 %s 콤비내이션의 활약은 이번 대회 한국 대표팀의 최고 관전포인트가 될 듯하다.\" % ('메이저',2,28,28,'키스톤')"
   ]
  },
  {
   "cell_type": "code",
   "execution_count": 30,
   "id": "e3cc5191-f645-40fe-bf67-c1c39c615d81",
   "metadata": {},
   "outputs": [
    {
     "data": {
      "text/plain": [
       "'japan도 벌써부터 이들 duo를 경계하고 있다.'"
      ]
     },
     "execution_count": 30,
     "metadata": {},
     "output_type": "execute_result"
    }
   ],
   "source": [
    "\"%s도 벌써부터 이들 %s를 경계하고 있다.\" %('japan', 'duo')"
   ]
  },
  {
   "cell_type": "markdown",
   "id": "8f06bc10-bc9d-4ffc-ba13-e53e88a2846b",
   "metadata": {},
   "source": [
    "### 문자열 함수 응용"
   ]
  },
  {
   "cell_type": "code",
   "execution_count": 36,
   "id": "e9dfdf5f-9482-4712-9820-5b2d67c17545",
   "metadata": {},
   "outputs": [],
   "source": [
    "sentence1 = (\"맨유는 지난 6일(한국시간) 잉글랜드 리버풀의 안필드에서 열린 2022~2023시즌 잉글랜드 프리미어리그(EPL) 리버풀과 26라운드 경기에서 무려 0-7로 충격패했다.\")\n",
    "sentence2 = (\"에릭 텐 하흐 감독 부임 후 확실하게 달라진 모습을 보였던 맨유는 이 대패로 상승세가 한풀 꺾였다.\")"
   ]
  },
  {
   "cell_type": "code",
   "execution_count": 35,
   "id": "c00e7367-6179-4176-b437-9701cebe10a7",
   "metadata": {},
   "outputs": [
    {
     "data": {
      "text/plain": [
       "'Manchester United는 지난 6일(한국시간) 잉글랜드 리버풀의 안필드에서 열린 2022~2023시즌 잉글랜드 프리미어리그(EPL) 리버풀과 26라운드 경기에서 무려 0-7로 충격패했다.'"
      ]
     },
     "execution_count": 35,
     "metadata": {},
     "output_type": "execute_result"
    }
   ],
   "source": [
    "sentence1.replace(\"맨유\",\"Manchester United\")"
   ]
  },
  {
   "cell_type": "code",
   "execution_count": 39,
   "id": "55ca4959-5f43-44df-b33e-f0ce51ca7ed7",
   "metadata": {},
   "outputs": [
    {
     "data": {
      "text/plain": [
       "'맨유는 지난 6일(한국시간) 잉글랜드 리버풀의 안필드에서 열린 2022~2023시즌 잉글랜드 프리미어리그(EPL) 리버풀과 26라운드 경기에서 무려 0-7로 충격패했다.'"
      ]
     },
     "execution_count": 39,
     "metadata": {},
     "output_type": "execute_result"
    }
   ],
   "source": [
    "sentence1"
   ]
  },
  {
   "cell_type": "code",
   "execution_count": 40,
   "id": "41857f40-3bdc-4644-a3ee-7da6e9864947",
   "metadata": {},
   "outputs": [
    {
     "data": {
      "text/plain": [
       "'퍼거슨 감독 부임 후 확실하게 달라진 모습을 보였던 맨유는 이 대패로 상승세가 한풀 꺾였다.'"
      ]
     },
     "execution_count": 40,
     "metadata": {},
     "output_type": "execute_result"
    }
   ],
   "source": [
    "sentence2.replace(\"에릭 텐 하흐\", \"퍼거슨\")"
   ]
  },
  {
   "cell_type": "code",
   "execution_count": 41,
   "id": "8c0c65cd-708e-488c-93f2-883aa82291cc",
   "metadata": {},
   "outputs": [
    {
     "data": {
      "text/plain": [
       "['맨유는',\n",
       " '지난',\n",
       " '6일(한국시간)',\n",
       " '잉글랜드',\n",
       " '리버풀의',\n",
       " '안필드에서',\n",
       " '열린',\n",
       " '2022~2023시즌',\n",
       " '잉글랜드',\n",
       " '프리미어리그(EPL)',\n",
       " '리버풀과',\n",
       " '26라운드',\n",
       " '경기에서',\n",
       " '무려',\n",
       " '0-7로',\n",
       " '충격패했다.']"
      ]
     },
     "execution_count": 41,
     "metadata": {},
     "output_type": "execute_result"
    }
   ],
   "source": [
    "sentence1.split()"
   ]
  },
  {
   "cell_type": "code",
   "execution_count": 42,
   "id": "fbcefe5f-cd64-4e1c-b13c-4c4d651f9f51",
   "metadata": {},
   "outputs": [
    {
     "data": {
      "text/plain": [
       "['에릭',\n",
       " '텐',\n",
       " '하흐',\n",
       " '감독',\n",
       " '부임',\n",
       " '후',\n",
       " '확실하게',\n",
       " '달라진',\n",
       " '모습을',\n",
       " '보였던',\n",
       " '맨유는',\n",
       " '이',\n",
       " '대패로',\n",
       " '상승세가',\n",
       " '한풀',\n",
       " '꺾였다.']"
      ]
     },
     "execution_count": 42,
     "metadata": {},
     "output_type": "execute_result"
    }
   ],
   "source": [
    "sentence2.split()"
   ]
  },
  {
   "cell_type": "code",
   "execution_count": 43,
   "id": "c574f886-c5db-4d2f-97c6-1d6a66238345",
   "metadata": {},
   "outputs": [
    {
     "data": {
      "text/plain": [
       "'맨__유__는__ __지__난__ __6__일__(__한__국__시__간__)__ __잉__글__랜__드__ __리__버__풀__의__ __안__필__드__에__서__ __열__린__ __2__0__2__2__~__2__0__2__3__시__즌__ __잉__글__랜__드__ __프__리__미__어__리__그__(__E__P__L__)__ __리__버__풀__과__ __2__6__라__운__드__ __경__기__에__서__ __무__려__ __0__-__7__로__ __충__격__패__했__다__.'"
      ]
     },
     "execution_count": 43,
     "metadata": {},
     "output_type": "execute_result"
    }
   ],
   "source": [
    "\"__\".join(sentence1)"
   ]
  },
  {
   "cell_type": "code",
   "execution_count": 44,
   "id": "e255af1d-d5ab-4487-a62b-5c100724df9f",
   "metadata": {},
   "outputs": [
    {
     "data": {
      "text/plain": [
       "'맨 유 는   지 난   6 일 ( 한 국 시 간 )   잉 글 랜 드   리 버 풀 의   안 필 드 에 서   열 린   2 0 2 2 ~ 2 0 2 3 시 즌   잉 글 랜 드   프 리 미 어 리 그 ( E P L )   리 버 풀 과   2 6 라 운 드   경 기 에 서   무 려   0 - 7 로   충 격 패 했 다 .'"
      ]
     },
     "execution_count": 44,
     "metadata": {},
     "output_type": "execute_result"
    }
   ],
   "source": [
    "\" \".join(sentence1)"
   ]
  },
  {
   "cell_type": "code",
   "execution_count": 45,
   "id": "3bbb305c-183a-45dd-926d-6aceafcd2bd1",
   "metadata": {},
   "outputs": [
    {
     "data": {
      "text/plain": [
       "'맨유는 지난 6일(한국시간) 잉글랜드 리버풀의 안필드에서 열린 2022~2023시즌 잉글랜드 프리미어리그(EPL) 리버풀과 26라운드 경기에서 무려 0-7로 충격패했다.'"
      ]
     },
     "execution_count": 45,
     "metadata": {},
     "output_type": "execute_result"
    }
   ],
   "source": [
    "sentence1.upper()"
   ]
  },
  {
   "cell_type": "code",
   "execution_count": 47,
   "id": "a5bf5a35-4574-464e-94cc-427bc1d1c576",
   "metadata": {},
   "outputs": [
    {
     "data": {
      "text/plain": [
       "'맨유는 지난 6일(한국시간) 잉글랜드 리버풀의 안필드에서 열린 2022~2023시즌 잉글랜드 프리미어리그(epl) 리버풀과 26라운드 경기에서 무려 0-7로 충격패했다.'"
      ]
     },
     "execution_count": 47,
     "metadata": {},
     "output_type": "execute_result"
    }
   ],
   "source": [
    "sentence1.lower()"
   ]
  },
  {
   "cell_type": "code",
   "execution_count": 48,
   "id": "d682bdae-0b10-493c-bb4e-980dec853e3f",
   "metadata": {},
   "outputs": [
    {
     "data": {
      "text/plain": [
       "'맨유는 지난 6일(한국시간) 잉글랜드 리버풀의 안필드에서 열린 2022~2023시즌 잉글랜드 프리미어리그(EPL) 리버풀과 26라운드 경기에서 무려 0-7로 충격패했다.'"
      ]
     },
     "execution_count": 48,
     "metadata": {},
     "output_type": "execute_result"
    }
   ],
   "source": [
    "sentence1.lstrip()"
   ]
  },
  {
   "cell_type": "code",
   "execution_count": 49,
   "id": "9fadf784-c269-4d6e-b129-7b9776d1e0b0",
   "metadata": {},
   "outputs": [
    {
     "data": {
      "text/plain": [
       "'에릭 텐 하흐 감독 부임 후 확실하게 달라진 모습을 보였던 맨유는 이 대패로 상승세가 한풀 꺾였다.'"
      ]
     },
     "execution_count": 49,
     "metadata": {},
     "output_type": "execute_result"
    }
   ],
   "source": [
    "sentence2"
   ]
  },
  {
   "cell_type": "code",
   "execution_count": 50,
   "id": "e999dc95-4e13-42d2-b976-0b99ad5b9bc6",
   "metadata": {},
   "outputs": [
    {
     "data": {
      "text/plain": [
       "'감독 부임 후 확실하게 달라진 모습을 보였던 맨유는 이 대패로 상승세가 한풀 꺾였다.'"
      ]
     },
     "execution_count": 50,
     "metadata": {},
     "output_type": "execute_result"
    }
   ],
   "source": [
    "sentence2.strip(\"에릭 텐 하흐\")"
   ]
  },
  {
   "cell_type": "code",
   "execution_count": 51,
   "id": "b5a3ee58-6e5c-4985-8012-45609a32272a",
   "metadata": {},
   "outputs": [
    {
     "data": {
      "text/plain": [
       "'에릭 텐 하흐 감독 부임 후 확실하게 달라진 모습을 보였던 맨유는 이 대패로 상승세가 한풀 꺾였다.'"
      ]
     },
     "execution_count": 51,
     "metadata": {},
     "output_type": "execute_result"
    }
   ],
   "source": [
    "sentence2.ljust(5)"
   ]
  },
  {
   "cell_type": "code",
   "execution_count": 53,
   "id": "635bf7bd-7d98-4219-ad99-1cbb1855a6c4",
   "metadata": {},
   "outputs": [
    {
     "data": {
      "text/plain": [
       "'에릭 텐 하흐 감독 부임 후 확실하게 달라진 모습을 보였던 맨유는 이 대패로 상승세가 한풀 꺾였다.'"
      ]
     },
     "execution_count": 53,
     "metadata": {},
     "output_type": "execute_result"
    }
   ],
   "source": [
    "sentence2.ljust(10)"
   ]
  },
  {
   "cell_type": "code",
   "execution_count": 54,
   "id": "1f05163b-c762-4512-86b7-bc4dcc3a044f",
   "metadata": {},
   "outputs": [
    {
     "data": {
      "text/plain": [
       "'에릭 텐 하흐 감독 부임 후 확실하게 달라진 모습을 보였던 맨유는 이 대패로 상승세가 한풀 꺾였다.'"
      ]
     },
     "execution_count": 54,
     "metadata": {},
     "output_type": "execute_result"
    }
   ],
   "source": [
    "sentence2.ljust(50)"
   ]
  },
  {
   "cell_type": "code",
   "execution_count": 55,
   "id": "5fcd02b8-d3f9-44ba-a167-6f0928647821",
   "metadata": {},
   "outputs": [
    {
     "data": {
      "text/plain": [
       "'에릭 텐 하흐 감독 부임 후 확실하게 달라진 모습을 보였던 맨유는 이 대패로 상승세가 한풀 꺾였다.                                             '"
      ]
     },
     "execution_count": 55,
     "metadata": {},
     "output_type": "execute_result"
    }
   ],
   "source": [
    "sentence2.ljust(100)"
   ]
  },
  {
   "cell_type": "code",
   "execution_count": 56,
   "id": "1bf90d5c-6d91-45b6-8069-5f1ce94afc74",
   "metadata": {},
   "outputs": [
    {
     "data": {
      "text/plain": [
       "'                                             에릭 텐 하흐 감독 부임 후 확실하게 달라진 모습을 보였던 맨유는 이 대패로 상승세가 한풀 꺾였다.'"
      ]
     },
     "execution_count": 56,
     "metadata": {},
     "output_type": "execute_result"
    }
   ],
   "source": [
    "sentence2.rjust(100)"
   ]
  },
  {
   "cell_type": "code",
   "execution_count": 58,
   "id": "443f72b1-d741-4f0f-b15d-63c395ea9f4e",
   "metadata": {},
   "outputs": [
    {
     "data": {
      "text/plain": [
       "'   맨유는 지난 6일(한국시간) 잉글랜드 리버풀의 안필드에서 열린 2022~2023시즌 잉글랜드 프리미어리그(EPL) 리버풀과 26라운드 경기에서 무려 0-7로 충격패했다.   '"
      ]
     },
     "execution_count": 58,
     "metadata": {},
     "output_type": "execute_result"
    }
   ],
   "source": [
    "sentence1.center(100)"
   ]
  },
  {
   "cell_type": "code",
   "execution_count": 61,
   "id": "00d5177d-f6e6-422b-87c5-4fbb746714b7",
   "metadata": {},
   "outputs": [
    {
     "data": {
      "text/plain": [
       "0"
      ]
     },
     "execution_count": 61,
     "metadata": {},
     "output_type": "execute_result"
    }
   ],
   "source": [
    "sentence2.find('에릭')"
   ]
  },
  {
   "cell_type": "code",
   "execution_count": 62,
   "id": "6ee47539-694a-485b-8cc2-a7b2fa32ae0b",
   "metadata": {},
   "outputs": [
    {
     "data": {
      "text/plain": [
       "26"
      ]
     },
     "execution_count": 62,
     "metadata": {},
     "output_type": "execute_result"
    }
   ],
   "source": [
    "sentence1.find('안필드')"
   ]
  },
  {
   "cell_type": "code",
   "execution_count": 63,
   "id": "609054dd-d627-46e8-9305-6bc742926b15",
   "metadata": {},
   "outputs": [
    {
     "data": {
      "text/plain": [
       "16"
      ]
     },
     "execution_count": 63,
     "metadata": {},
     "output_type": "execute_result"
    }
   ],
   "source": [
    "sentence2.index('확실하게')"
   ]
  },
  {
   "cell_type": "code",
   "execution_count": 64,
   "id": "bf7644db-ac93-41ea-94a7-85ae424944d3",
   "metadata": {},
   "outputs": [
    {
     "data": {
      "text/plain": [
       "1"
      ]
     },
     "execution_count": 64,
     "metadata": {},
     "output_type": "execute_result"
    }
   ],
   "source": [
    "sentence1.count(\"맨유\")"
   ]
  }
 ],
 "metadata": {
  "kernelspec": {
   "display_name": "Python 3 (ipykernel)",
   "language": "python",
   "name": "python3"
  },
  "language_info": {
   "codemirror_mode": {
    "name": "ipython",
    "version": 3
   },
   "file_extension": ".py",
   "mimetype": "text/x-python",
   "name": "python",
   "nbconvert_exporter": "python",
   "pygments_lexer": "ipython3",
   "version": "3.9.12"
  }
 },
 "nbformat": 4,
 "nbformat_minor": 5
}
