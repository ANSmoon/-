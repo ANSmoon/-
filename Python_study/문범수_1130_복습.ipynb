{
 "cells": [
  {
   "cell_type": "markdown",
   "id": "5af933e2-523a-4c77-a4be-08f7a06efb8e",
   "metadata": {
    "tags": []
   },
   "source": [
    "## 불린값과 논리 연산자\n",
    "- 참 True\n",
    "- 거짓 False"
   ]
  },
  {
   "cell_type": "code",
   "execution_count": null,
   "id": "82c7ff14-91c5-408d-8ff3-5f5f0c8123fc",
   "metadata": {},
   "outputs": [],
   "source": []
  },
  {
   "cell_type": "code",
   "execution_count": 1,
   "id": "f603a806-f20f-4b0b-9a39-bb69cb86b83e",
   "metadata": {},
   "outputs": [
    {
     "data": {
      "text/plain": [
       "True"
      ]
     },
     "execution_count": 1,
     "metadata": {},
     "output_type": "execute_result"
    }
   ],
   "source": [
    "True and True"
   ]
  },
  {
   "cell_type": "code",
   "execution_count": 2,
   "id": "5b2e2506-2167-4380-ac06-d69a61aa8a71",
   "metadata": {},
   "outputs": [
    {
     "data": {
      "text/plain": [
       "False"
      ]
     },
     "execution_count": 2,
     "metadata": {},
     "output_type": "execute_result"
    }
   ],
   "source": [
    "True and False"
   ]
  },
  {
   "cell_type": "code",
   "execution_count": 3,
   "id": "7c425c60-c14f-49bd-b0df-875a52bd899d",
   "metadata": {},
   "outputs": [
    {
     "data": {
      "text/plain": [
       "False"
      ]
     },
     "execution_count": 3,
     "metadata": {},
     "output_type": "execute_result"
    }
   ],
   "source": [
    "False and False"
   ]
  },
  {
   "cell_type": "code",
   "execution_count": 4,
   "id": "6d7255e7-b740-48f2-8f3d-9245e19cdc8d",
   "metadata": {},
   "outputs": [
    {
     "data": {
      "text/plain": [
       "True"
      ]
     },
     "execution_count": 4,
     "metadata": {},
     "output_type": "execute_result"
    }
   ],
   "source": [
    "True or True"
   ]
  },
  {
   "cell_type": "code",
   "execution_count": 5,
   "id": "550993da-5eca-4b02-9f2a-3ad9b26bbe2e",
   "metadata": {},
   "outputs": [
    {
     "data": {
      "text/plain": [
       "True"
      ]
     },
     "execution_count": 5,
     "metadata": {},
     "output_type": "execute_result"
    }
   ],
   "source": [
    "True or False"
   ]
  },
  {
   "cell_type": "code",
   "execution_count": 6,
   "id": "7f8da256-f907-4c6f-88c4-c4e4c39e520c",
   "metadata": {},
   "outputs": [
    {
     "data": {
      "text/plain": [
       "False"
      ]
     },
     "execution_count": 6,
     "metadata": {},
     "output_type": "execute_result"
    }
   ],
   "source": [
    "False or False"
   ]
  },
  {
   "cell_type": "code",
   "execution_count": 7,
   "id": "afcaddb8-f3fb-42bc-a85e-358459d97e8c",
   "metadata": {},
   "outputs": [
    {
     "data": {
      "text/plain": [
       "False"
      ]
     },
     "execution_count": 7,
     "metadata": {},
     "output_type": "execute_result"
    }
   ],
   "source": [
    "not True"
   ]
  },
  {
   "cell_type": "code",
   "execution_count": 8,
   "id": "b77d738d-6302-4e85-ba31-261abcd56950",
   "metadata": {},
   "outputs": [
    {
     "data": {
      "text/plain": [
       "True"
      ]
     },
     "execution_count": 8,
     "metadata": {},
     "output_type": "execute_result"
    }
   ],
   "source": [
    "not False"
   ]
  },
  {
   "cell_type": "code",
   "execution_count": 10,
   "id": "fcc2e6cd-1e85-4fce-990f-5892cf8caa77",
   "metadata": {},
   "outputs": [
    {
     "data": {
      "text/plain": [
       "False"
      ]
     },
     "execution_count": 10,
     "metadata": {},
     "output_type": "execute_result"
    }
   ],
   "source": [
    "not True and False or False and not True"
   ]
  },
  {
   "cell_type": "markdown",
   "id": "353efdaf-5f9d-4384-af10-9282b0c21843",
   "metadata": {},
   "source": [
    "### 연산의 순서는 왼쪽우선[기호는 무관하다고 가정]"
   ]
  },
  {
   "cell_type": "markdown",
   "id": "1fbf1750-89dc-4272-a119-29af1a6e5e73",
   "metadata": {},
   "source": [
    " <기본적 순서>\n",
    "- 1. not\n",
    "- 2. and\n",
    "- 3. or"
   ]
  },
  {
   "cell_type": "markdown",
   "id": "3b3fa068-aa45-48aa-9401-7de53f0f820d",
   "metadata": {
    "tags": []
   },
   "source": [
    "## 논리연산자 및 비교 연산자 혼합 사용 "
   ]
  },
  {
   "cell_type": "code",
   "execution_count": 11,
   "id": "09296243-41f4-4abf-bb67-3b57914366c4",
   "metadata": {},
   "outputs": [
    {
     "data": {
      "text/plain": [
       "True"
      ]
     },
     "execution_count": 11,
     "metadata": {},
     "output_type": "execute_result"
    }
   ],
   "source": [
    "10 == 10"
   ]
  },
  {
   "cell_type": "code",
   "execution_count": 12,
   "id": "0b00fcd2-458c-4135-acff-ac24f86249e4",
   "metadata": {},
   "outputs": [
    {
     "data": {
      "text/plain": [
       "True"
      ]
     },
     "execution_count": 12,
     "metadata": {},
     "output_type": "execute_result"
    }
   ],
   "source": [
    "10 == 10 and 5 != 100"
   ]
  },
  {
   "cell_type": "markdown",
   "id": "2fc4ce3f-5bc2-4fed-bee3-c960ce57601e",
   "metadata": {},
   "source": [
    "True and True와 같은 논리식을 의미한다."
   ]
  },
  {
   "cell_type": "code",
   "execution_count": 13,
   "id": "b1cae3b0-410e-42bb-8f8f-c9311bc0ec79",
   "metadata": {},
   "outputs": [
    {
     "data": {
      "text/plain": [
       "True"
      ]
     },
     "execution_count": 13,
     "metadata": {},
     "output_type": "execute_result"
    }
   ],
   "source": [
    "10 > 5 or 3 > 10"
   ]
  },
  {
   "cell_type": "code",
   "execution_count": 16,
   "id": "3f0b763f-442e-47e7-ac94-7477b931c5b4",
   "metadata": {},
   "outputs": [
    {
     "data": {
      "text/plain": [
       "True"
      ]
     },
     "execution_count": 16,
     "metadata": {},
     "output_type": "execute_result"
    }
   ],
   "source": [
    "not 10 > 100"
   ]
  },
  {
   "cell_type": "code",
   "execution_count": 17,
   "id": "0e0c7f8b-0e6b-49e7-a3b8-cb86ccea2fb3",
   "metadata": {},
   "outputs": [
    {
     "data": {
      "text/plain": [
       "False"
      ]
     },
     "execution_count": 17,
     "metadata": {},
     "output_type": "execute_result"
    }
   ],
   "source": [
    "not 10"
   ]
  },
  {
   "cell_type": "code",
   "execution_count": 18,
   "id": "99b50582-d1a2-4ec3-b9ab-51ac61de3770",
   "metadata": {},
   "outputs": [
    {
     "data": {
      "text/plain": [
       "True"
      ]
     },
     "execution_count": 18,
     "metadata": {},
     "output_type": "execute_result"
    }
   ],
   "source": [
    "not (10 > 100)"
   ]
  },
  {
   "cell_type": "markdown",
   "id": "cfa07691-a583-428d-856e-39380165a14e",
   "metadata": {},
   "source": [
    "- not 10 > 100 은 not ( 10 > 100)과 같은가?\n",
    "- 만약 같다면 왜 괄호없이 논리식이 계산되는가?"
   ]
  },
  {
   "cell_type": "code",
   "execution_count": 21,
   "id": "ebd1150d-bc61-4945-a88f-4810e9c7036c",
   "metadata": {},
   "outputs": [
    {
     "data": {
      "text/plain": [
       "False"
      ]
     },
     "execution_count": 21,
     "metadata": {},
     "output_type": "execute_result"
    }
   ],
   "source": [
    "not 10"
   ]
  },
  {
   "cell_type": "code",
   "execution_count": 22,
   "id": "8b5b830e-d9e5-42fa-bee8-830e4b89038f",
   "metadata": {},
   "outputs": [
    {
     "data": {
      "text/plain": [
       "10"
      ]
     },
     "execution_count": 22,
     "metadata": {},
     "output_type": "execute_result"
    }
   ],
   "source": [
    "10"
   ]
  },
  {
   "cell_type": "code",
   "execution_count": 23,
   "id": "7195673c-38f2-47d8-b879-9fe3b8658818",
   "metadata": {},
   "outputs": [
    {
     "data": {
      "text/plain": [
       "1"
      ]
     },
     "execution_count": 23,
     "metadata": {},
     "output_type": "execute_result"
    }
   ],
   "source": [
    "1"
   ]
  },
  {
   "cell_type": "code",
   "execution_count": 24,
   "id": "b885756f-c076-4dc9-89f8-e229f8888dff",
   "metadata": {},
   "outputs": [
    {
     "data": {
      "text/plain": [
       "True"
      ]
     },
     "execution_count": 24,
     "metadata": {},
     "output_type": "execute_result"
    }
   ],
   "source": [
    "bool(10)"
   ]
  },
  {
   "cell_type": "code",
   "execution_count": 25,
   "id": "d7a6d2c0-4ad3-4a5b-88bf-5fc1ac13079e",
   "metadata": {},
   "outputs": [
    {
     "data": {
      "text/plain": [
       "False"
      ]
     },
     "execution_count": 25,
     "metadata": {},
     "output_type": "execute_result"
    }
   ],
   "source": [
    "bool(0)"
   ]
  },
  {
   "cell_type": "code",
   "execution_count": 26,
   "id": "34a1afc5-5e52-4509-a0ce-e16841cad80c",
   "metadata": {},
   "outputs": [
    {
     "data": {
      "text/plain": [
       "True"
      ]
     },
     "execution_count": 26,
     "metadata": {},
     "output_type": "execute_result"
    }
   ],
   "source": [
    "bool(-1)"
   ]
  },
  {
   "cell_type": "markdown",
   "id": "03ba41c3-6e50-4415-ad31-eb62779eb8b6",
   "metadata": {},
   "source": [
    "문자열은 기본적으로 True를 의미한다."
   ]
  },
  {
   "cell_type": "code",
   "execution_count": 27,
   "id": "5b1e8ac5-e028-4ebd-aa48-55a87ce13a71",
   "metadata": {},
   "outputs": [
    {
     "data": {
      "text/plain": [
       "True"
      ]
     },
     "execution_count": 27,
     "metadata": {},
     "output_type": "execute_result"
    }
   ],
   "source": [
    "'python' and True"
   ]
  },
  {
   "cell_type": "code",
   "execution_count": 30,
   "id": "03c4e7e8-8a9f-42d6-81a7-e4b65ea472b8",
   "metadata": {},
   "outputs": [
    {
     "data": {
      "text/plain": [
       "False"
      ]
     },
     "execution_count": 30,
     "metadata": {},
     "output_type": "execute_result"
    }
   ],
   "source": [
    "False and 'ccc'"
   ]
  },
  {
   "cell_type": "code",
   "execution_count": 31,
   "id": "f0018099-c4b5-49c9-a641-7bfcdf94daa1",
   "metadata": {},
   "outputs": [
    {
     "data": {
      "text/plain": [
       "'ccc'"
      ]
     },
     "execution_count": 31,
     "metadata": {},
     "output_type": "execute_result"
    }
   ],
   "source": [
    "False or 'ccc'"
   ]
  },
  {
   "cell_type": "code",
   "execution_count": 32,
   "id": "ed4e2408-4657-4c34-9395-10ca1a7b79b6",
   "metadata": {},
   "outputs": [
    {
     "data": {
      "text/plain": [
       "0"
      ]
     },
     "execution_count": 32,
     "metadata": {},
     "output_type": "execute_result"
    }
   ],
   "source": [
    "0 and 'abc'"
   ]
  },
  {
   "cell_type": "markdown",
   "id": "41e670dc-6960-4a1b-a0ba-ad922f4cd315",
   "metadata": {},
   "source": [
    "#### 0같은 경우는 기본적으로 False를 의미하기 때문에 뒤에 and 수식이 이어질 경우 확인하지 않고, 0값을 return한다.\n",
    "- 효율성에 따른 결과"
   ]
  },
  {
   "cell_type": "code",
   "execution_count": 33,
   "id": "6457eb9f-b5b1-4c6b-bdf5-44014ed19ce8",
   "metadata": {},
   "outputs": [
    {
     "data": {
      "text/plain": [
       "True"
      ]
     },
     "execution_count": 33,
     "metadata": {},
     "output_type": "execute_result"
    }
   ],
   "source": [
    "True or 'soccer'"
   ]
  },
  {
   "cell_type": "code",
   "execution_count": 34,
   "id": "9a74e039-7820-4771-b97c-db5ce32ccdf8",
   "metadata": {},
   "outputs": [
    {
     "data": {
      "text/plain": [
       "'soccer'"
      ]
     },
     "execution_count": 34,
     "metadata": {},
     "output_type": "execute_result"
    }
   ],
   "source": [
    "'soccer' or True"
   ]
  },
  {
   "cell_type": "markdown",
   "id": "37fcf493-6f05-47c2-a514-3308a9e3698c",
   "metadata": {},
   "source": [
    "python의 전형적인 결과값\n",
    "뒤에 연산자에 의해 나머지 부분을 판단할 필요가 없다고 판단할 경우 앞부분을 그대로 return한다."
   ]
  },
  {
   "cell_type": "markdown",
   "id": "a901220c-9a06-4ba6-bdb3-a3ad842cc8ab",
   "metadata": {},
   "source": [
    "즉 결과를 바꿀 수 있는 주도권이 있는 인자를 return하는게 python의 특징"
   ]
  },
  {
   "cell_type": "markdown",
   "id": "ab53a848-7cdc-42ea-9f18-31fa81e6cc59",
   "metadata": {
    "tags": []
   },
   "source": [
    "## 문자열 사용하기!\n",
    "- ' ', \" \", \"\"\" \"\"\""
   ]
  },
  {
   "cell_type": "code",
   "execution_count": 35,
   "id": "8ca3100f-02ce-4077-8dc9-8d60b3f6d7e6",
   "metadata": {},
   "outputs": [],
   "source": [
    "x = 'hello, python!'"
   ]
  },
  {
   "cell_type": "code",
   "execution_count": 36,
   "id": "cb04ca7f-db79-43a1-85e4-1a7bc290131b",
   "metadata": {},
   "outputs": [
    {
     "data": {
      "text/plain": [
       "'hello, python!'"
      ]
     },
     "execution_count": 36,
     "metadata": {},
     "output_type": "execute_result"
    }
   ],
   "source": [
    "x"
   ]
  },
  {
   "cell_type": "code",
   "execution_count": 37,
   "id": "ed62c7a0-eb87-4826-90c6-fdf1e81f56dc",
   "metadata": {},
   "outputs": [
    {
     "name": "stdout",
     "output_type": "stream",
     "text": [
      "hello, python!\n"
     ]
    }
   ],
   "source": [
    "print(x)"
   ]
  },
  {
   "cell_type": "code",
   "execution_count": 39,
   "id": "c1cee994-1e3c-4e77-a3ee-0282722acb01",
   "metadata": {},
   "outputs": [
    {
     "name": "stdin",
     "output_type": "stream",
     "text": [
      " hello, c language\n"
     ]
    }
   ],
   "source": [
    "y = input()"
   ]
  },
  {
   "cell_type": "code",
   "execution_count": 40,
   "id": "16ffa5e1-5c86-4f07-9d0d-182742464f10",
   "metadata": {},
   "outputs": [
    {
     "data": {
      "text/plain": [
       "'hello, c language'"
      ]
     },
     "execution_count": 40,
     "metadata": {},
     "output_type": "execute_result"
    }
   ],
   "source": [
    "y"
   ]
  },
  {
   "cell_type": "markdown",
   "id": "b04608e4-7071-4179-b747-1581e81150c6",
   "metadata": {},
   "source": [
    "## ' 의 영어 문법으로 인한 오류 예시\n",
    "- color변화를 인지하자!"
   ]
  },
  {
   "cell_type": "code",
   "execution_count": 41,
   "id": "89e1c66b-b007-4e14-ba6d-32c4926a1416",
   "metadata": {},
   "outputs": [
    {
     "ename": "SyntaxError",
     "evalue": "invalid syntax (1508732829.py, line 1)",
     "output_type": "error",
     "traceback": [
      "\u001b[1;36m  Input \u001b[1;32mIn [41]\u001b[1;36m\u001b[0m\n\u001b[1;33m    'Python isn't difficult'\u001b[0m\n\u001b[1;37m                ^\u001b[0m\n\u001b[1;31mSyntaxError\u001b[0m\u001b[1;31m:\u001b[0m invalid syntax\n"
     ]
    }
   ],
   "source": [
    "'Python isn't difficult'"
   ]
  },
  {
   "cell_type": "code",
   "execution_count": 44,
   "id": "ef3dfa49-b669-4846-b718-25f4a6130762",
   "metadata": {},
   "outputs": [
    {
     "data": {
      "text/plain": [
       "\"Python isn't difficult\""
      ]
     },
     "execution_count": 44,
     "metadata": {},
     "output_type": "execute_result"
    }
   ],
   "source": [
    "'''Python isn't difficult'''"
   ]
  },
  {
   "cell_type": "markdown",
   "id": "b85c7973-a345-4828-b0ab-7d3959cfc27b",
   "metadata": {
    "tags": []
   },
   "source": [
    "## 리스트 & 튜플\n",
    "- list = 도라에몽주머니\n",
    "- 만능으로 뭐든 들어간다."
   ]
  },
  {
   "cell_type": "code",
   "execution_count": 45,
   "id": "02831c74-4cc4-4d60-a8fd-602b384e7117",
   "metadata": {},
   "outputs": [],
   "source": [
    "a = 10\n",
    "b = 20\n",
    "c = 30\n"
   ]
  },
  {
   "cell_type": "markdown",
   "id": "052a38ab-bfb4-45ca-92d5-01136714a9c5",
   "metadata": {},
   "source": [
    "하나의 변수에 내가 원하는 모든 값을 넣으면 된다.\n",
    "- 내가 원하는 모든 변수를 넣는 주머니의 이름이 list & tuple"
   ]
  },
  {
   "cell_type": "markdown",
   "id": "bbcb98a1-ad25-4aea-a517-060025fe6c83",
   "metadata": {},
   "source": [
    "##List 만들기\n",
    "- list = [값, 값, 값]\n",
    "- list = [대괄호 사용]"
   ]
  },
  {
   "cell_type": "code",
   "execution_count": 46,
   "id": "04cb336a-673e-4fe9-8bb9-940b8c77c8fc",
   "metadata": {},
   "outputs": [],
   "source": [
    "a = 10"
   ]
  },
  {
   "cell_type": "code",
   "execution_count": 47,
   "id": "bc2621b7-e3f0-4f4d-b3f5-aba98124b224",
   "metadata": {},
   "outputs": [],
   "source": [
    "b = [1, 2, 3, 4, 5]"
   ]
  },
  {
   "cell_type": "code",
   "execution_count": 48,
   "id": "cb1617d2-859b-4579-bacb-cc8418264102",
   "metadata": {},
   "outputs": [
    {
     "data": {
      "text/plain": [
       "10"
      ]
     },
     "execution_count": 48,
     "metadata": {},
     "output_type": "execute_result"
    }
   ],
   "source": [
    "a"
   ]
  },
  {
   "cell_type": "code",
   "execution_count": 49,
   "id": "9c3ae0d3-8f68-48b3-b14a-4947bfd46c0a",
   "metadata": {},
   "outputs": [
    {
     "data": {
      "text/plain": [
       "[1, 2, 3, 4, 5]"
      ]
     },
     "execution_count": 49,
     "metadata": {},
     "output_type": "execute_result"
    }
   ],
   "source": [
    "b"
   ]
  },
  {
   "cell_type": "markdown",
   "id": "0ceaf123-424d-4398-b278-e26979439999",
   "metadata": {},
   "source": [
    "##List가 도라에몽인 이유?\n",
    "- python은 문자열, 정수, 실수, bool 등의 다양한 자료형을 가지고 있는데, list는 이 모든 자료형을 담을 수 있으므로"
   ]
  },
  {
   "cell_type": "code",
   "execution_count": 50,
   "id": "e5807f7a-b654-49f0-ade9-4ffbe56d2dd6",
   "metadata": {},
   "outputs": [],
   "source": [
    "abc = ['hi', 11, 15, True, False, 0]"
   ]
  },
  {
   "cell_type": "code",
   "execution_count": 51,
   "id": "594955be-6f87-44ac-befa-ce639d875ece",
   "metadata": {},
   "outputs": [
    {
     "data": {
      "text/plain": [
       "['hi', 11, 15, True, False, 0]"
      ]
     },
     "execution_count": 51,
     "metadata": {},
     "output_type": "execute_result"
    }
   ],
   "source": [
    "abc"
   ]
  },
  {
   "cell_type": "markdown",
   "id": "86d6420e-ce78-42f5-98df-4ccb27befd63",
   "metadata": {},
   "source": [
    "## Empty List 만들기\n",
    "- list = []\n",
    "- =list()"
   ]
  },
  {
   "cell_type": "code",
   "execution_count": 52,
   "id": "ad886d55-e3b1-4000-a765-9fe4cc8c0d0f",
   "metadata": {},
   "outputs": [],
   "source": [
    "a = []"
   ]
  },
  {
   "cell_type": "code",
   "execution_count": 53,
   "id": "f8c3e85f-9e55-4a93-a788-d1665d944513",
   "metadata": {},
   "outputs": [
    {
     "data": {
      "text/plain": [
       "[]"
      ]
     },
     "execution_count": 53,
     "metadata": {},
     "output_type": "execute_result"
    }
   ],
   "source": [
    "a"
   ]
  },
  {
   "cell_type": "code",
   "execution_count": 54,
   "id": "71f9f4a9-7385-45a5-a953-f1267cfc982e",
   "metadata": {},
   "outputs": [],
   "source": [
    "b = list()"
   ]
  },
  {
   "cell_type": "code",
   "execution_count": 55,
   "id": "d5c726c8-6689-4211-a111-9ed4916b96c3",
   "metadata": {},
   "outputs": [
    {
     "data": {
      "text/plain": [
       "[]"
      ]
     },
     "execution_count": 55,
     "metadata": {},
     "output_type": "execute_result"
    }
   ],
   "source": [
    "b"
   ]
  },
  {
   "cell_type": "markdown",
   "id": "a34ddc63-4590-4aff-9ded-3d137cded629",
   "metadata": {},
   "source": [
    "### 값을 채워 넣을 때 만약 1~100까지 값을 list내 넣고 싶은경우 "
   ]
  },
  {
   "cell_type": "markdown",
   "id": "cb3b0756-d6e1-4e2e-bccd-806a33be0a79",
   "metadata": {},
   "source": [
    "### range 함수 사용[빈도 多]\n",
    "- range는 연속된 숫자 생성 가능\n",
    "- range(횟수) or range(시작, 끝 - 1) or range(시작, 끝, 증가폭)\n",
    "- 정수범위내 연산가능\n",
    "- 결과는 range(시작, 끝) 순서 형태로 return\n",
    "- 당연히 초기값은 0"
   ]
  },
  {
   "cell_type": "code",
   "execution_count": 58,
   "id": "1f8d20f7-6f47-46c1-bbba-7fc8cf393975",
   "metadata": {},
   "outputs": [
    {
     "data": {
      "text/plain": [
       "range(0, 100)"
      ]
     },
     "execution_count": 58,
     "metadata": {},
     "output_type": "execute_result"
    }
   ],
   "source": [
    "range(100)"
   ]
  },
  {
   "cell_type": "code",
   "execution_count": 59,
   "id": "f67c2cfb-7e6f-4fb0-a825-92abc3bc0ced",
   "metadata": {},
   "outputs": [
    {
     "data": {
      "text/plain": [
       "[0, 1, 2, 3, 4, 5, 6, 7, 8, 9]"
      ]
     },
     "execution_count": 59,
     "metadata": {},
     "output_type": "execute_result"
    }
   ],
   "source": [
    "list(range(10))"
   ]
  },
  {
   "cell_type": "code",
   "execution_count": 64,
   "id": "7d13cdd3-f169-4d7d-9c51-6f9a50a6bd47",
   "metadata": {},
   "outputs": [],
   "source": [
    "a = list(range(10))"
   ]
  },
  {
   "cell_type": "code",
   "execution_count": 65,
   "id": "b0d3718e-7725-440d-9021-9b149fcd9894",
   "metadata": {},
   "outputs": [
    {
     "data": {
      "text/plain": [
       "[0, 1, 2, 3, 4, 5, 6, 7, 8, 9]"
      ]
     },
     "execution_count": 65,
     "metadata": {},
     "output_type": "execute_result"
    }
   ],
   "source": [
    "a"
   ]
  },
  {
   "cell_type": "markdown",
   "id": "d0715db7-d908-4d8f-8eda-9a18b8e9e9bb",
   "metadata": {
    "tags": []
   },
   "source": [
    "### 1 ~ 15까지 값을 list 입력\n",
    "- range 사용"
   ]
  },
  {
   "cell_type": "code",
   "execution_count": 66,
   "id": "1b9a81a9-32c1-4327-aa9c-e36af10e5652",
   "metadata": {},
   "outputs": [],
   "source": [
    "a = list(range(14))"
   ]
  },
  {
   "cell_type": "code",
   "execution_count": 67,
   "id": "b771b6ed-089d-4647-978a-e2ec4f4aabf6",
   "metadata": {},
   "outputs": [],
   "source": [
    "a = list(range(1,16))"
   ]
  },
  {
   "cell_type": "code",
   "execution_count": 68,
   "id": "302b919f-9490-4731-89b5-8f2460cf228a",
   "metadata": {},
   "outputs": [
    {
     "data": {
      "text/plain": [
       "[1, 2, 3, 4, 5, 6, 7, 8, 9, 10, 11, 12, 13, 14, 15]"
      ]
     },
     "execution_count": 68,
     "metadata": {},
     "output_type": "execute_result"
    }
   ],
   "source": [
    "a"
   ]
  },
  {
   "cell_type": "markdown",
   "id": "d618b8b5-6c98-4426-bfe9-cf9710dcbb31",
   "metadata": {},
   "source": [
    "### 짝수만 list에 넣는 방식\n",
    "- 변수 = list(range(시작, 끝, 증가폭))"
   ]
  },
  {
   "cell_type": "code",
   "execution_count": 72,
   "id": "f9fbe05a-772e-445f-8f22-c16eaf89bd1b",
   "metadata": {},
   "outputs": [],
   "source": [
    "a = list(range(0,11,2))"
   ]
  },
  {
   "cell_type": "code",
   "execution_count": 73,
   "id": "4f7f0970-59f8-4a41-bee7-3f947580c4c3",
   "metadata": {},
   "outputs": [
    {
     "data": {
      "text/plain": [
       "[0, 2, 4, 6, 8, 10]"
      ]
     },
     "execution_count": 73,
     "metadata": {},
     "output_type": "execute_result"
    }
   ],
   "source": [
    "a"
   ]
  },
  {
   "cell_type": "code",
   "execution_count": 74,
   "id": "f71a1919-d826-49ad-8cf6-617c6bde6fe4",
   "metadata": {},
   "outputs": [],
   "source": [
    "b = list(range(-10, 10, 5))"
   ]
  },
  {
   "cell_type": "code",
   "execution_count": 75,
   "id": "3eeeb81a-6698-4aba-9626-cea30532c5a1",
   "metadata": {},
   "outputs": [
    {
     "data": {
      "text/plain": [
       "[-10, -5, 0, 5]"
      ]
     },
     "execution_count": 75,
     "metadata": {},
     "output_type": "execute_result"
    }
   ],
   "source": [
    "b"
   ]
  },
  {
   "cell_type": "code",
   "execution_count": 76,
   "id": "e4615ff3-b397-4a1f-9e78-9852290f3b00",
   "metadata": {},
   "outputs": [],
   "source": [
    "c = list(range(10, -10, -2))"
   ]
  },
  {
   "cell_type": "code",
   "execution_count": 77,
   "id": "21ce7030-2041-46a6-8787-426c250412c8",
   "metadata": {},
   "outputs": [
    {
     "data": {
      "text/plain": [
       "[10, 8, 6, 4, 2, 0, -2, -4, -6, -8]"
      ]
     },
     "execution_count": 77,
     "metadata": {},
     "output_type": "execute_result"
    }
   ],
   "source": [
    "c"
   ]
  },
  {
   "cell_type": "code",
   "execution_count": 80,
   "id": "dd70a895-d38c-4b66-b6c5-e506a2289518",
   "metadata": {},
   "outputs": [],
   "source": [
    "d = list(range(10, 0))"
   ]
  },
  {
   "cell_type": "code",
   "execution_count": 79,
   "id": "4e3de85c-b90e-4aa5-816c-2981d2bec1ea",
   "metadata": {},
   "outputs": [
    {
     "data": {
      "text/plain": [
       "[]"
      ]
     },
     "execution_count": 79,
     "metadata": {},
     "output_type": "execute_result"
    }
   ],
   "source": [
    "d"
   ]
  },
  {
   "cell_type": "code",
   "execution_count": 81,
   "id": "5c702162-cd32-401b-ac7f-804afcb95610",
   "metadata": {},
   "outputs": [],
   "source": [
    "d = list(range(10, 0, -1))"
   ]
  },
  {
   "cell_type": "code",
   "execution_count": 82,
   "id": "1d9bd2ca-91da-4c51-a929-3a927b38ede1",
   "metadata": {},
   "outputs": [
    {
     "data": {
      "text/plain": [
       "[10, 9, 8, 7, 6, 5, 4, 3, 2, 1]"
      ]
     },
     "execution_count": 82,
     "metadata": {},
     "output_type": "execute_result"
    }
   ],
   "source": [
    "d"
   ]
  },
  {
   "cell_type": "markdown",
   "id": "4930d236-c3aa-42a3-8dbe-1f1c85b03d64",
   "metadata": {},
   "source": [
    "### range를 이용한 복습 실시\n",
    "- code 작성 및 주석처리를 통해 값의 증가폭, 시작, 끝 이해"
   ]
  },
  {
   "cell_type": "markdown",
   "id": "54a7d0a8-7c5c-480b-aa32-952c8572d3c5",
   "metadata": {},
   "source": [
    "### Tuple\n",
    "- 안에 저장된 요소를 변경, 추가, 삭제 불가\n",
    "- Only Reading Version\n",
    "- 변수 = (소괄호)\n",
    "- 변수 = (값, 값, 값) or 값, 값, 값 과 같은 형태로 작성\n",
    "- tuple 또한 모든 자료형 할당 가능"
   ]
  },
  {
   "cell_type": "code",
   "execution_count": 83,
   "id": "b55abd7c-bb53-4d31-8ad1-498d9be44b5f",
   "metadata": {},
   "outputs": [],
   "source": [
    "a = 1, 2, 3, 4, 5"
   ]
  },
  {
   "cell_type": "code",
   "execution_count": 84,
   "id": "f53e6a45-c466-454d-9d9a-4e1be9e2e65d",
   "metadata": {},
   "outputs": [
    {
     "data": {
      "text/plain": [
       "(1, 2, 3, 4, 5)"
      ]
     },
     "execution_count": 84,
     "metadata": {},
     "output_type": "execute_result"
    }
   ],
   "source": [
    "a"
   ]
  },
  {
   "cell_type": "code",
   "execution_count": 85,
   "id": "efee59f2-ebcc-4a65-ba1a-3d3b62f571fd",
   "metadata": {},
   "outputs": [],
   "source": [
    "b = ('hello', 1, 5, False)"
   ]
  },
  {
   "cell_type": "code",
   "execution_count": 88,
   "id": "6aab0e08-4777-49d5-bc17-527c6c2625b6",
   "metadata": {},
   "outputs": [
    {
     "data": {
      "text/plain": [
       "('hello', 1, 5, False)"
      ]
     },
     "execution_count": 88,
     "metadata": {},
     "output_type": "execute_result"
    }
   ],
   "source": [
    "b"
   ]
  },
  {
   "cell_type": "markdown",
   "id": "ceab6118-2f98-4620-9647-cbaa930f4c02",
   "metadata": {
    "tags": []
   },
   "source": [
    "### 필수 과제\n",
    "- range를 이용해 tuple 생성\n",
    "- [] 대괄호 -> ()소괄호로 변경"
   ]
  },
  {
   "cell_type": "markdown",
   "id": "857028ca-07a0-4ad0-b00a-462df7ef72f4",
   "metadata": {},
   "source": [
    "#### tuple -> list\n",
    "#### list -> tuple 형태 변환"
   ]
  },
  {
   "cell_type": "code",
   "execution_count": 90,
   "id": "df86fcc3-cc35-4c9a-a76e-75d78248416a",
   "metadata": {},
   "outputs": [],
   "source": [
    "a = [1,2,3]"
   ]
  },
  {
   "cell_type": "code",
   "execution_count": 91,
   "id": "ebc639ab-9a60-4485-821a-46d9a7e86512",
   "metadata": {},
   "outputs": [
    {
     "data": {
      "text/plain": [
       "(1, 2, 3)"
      ]
     },
     "execution_count": 91,
     "metadata": {},
     "output_type": "execute_result"
    }
   ],
   "source": [
    "tuple(a)"
   ]
  },
  {
   "cell_type": "code",
   "execution_count": 92,
   "id": "e79ffc80-23f1-4afa-a670-e1f8537b706f",
   "metadata": {},
   "outputs": [
    {
     "data": {
      "text/plain": [
       "[1, 2, 3]"
      ]
     },
     "execution_count": 92,
     "metadata": {},
     "output_type": "execute_result"
    }
   ],
   "source": [
    "a"
   ]
  },
  {
   "cell_type": "code",
   "execution_count": 93,
   "id": "3782fe67-45fc-4846-a8b8-9f072fdb8ba4",
   "metadata": {},
   "outputs": [],
   "source": [
    "b = (4,5,6)"
   ]
  },
  {
   "cell_type": "code",
   "execution_count": 94,
   "id": "5b22037d-1a4e-4f2a-8846-efc4d8aae47d",
   "metadata": {},
   "outputs": [
    {
     "data": {
      "text/plain": [
       "(4, 5, 6)"
      ]
     },
     "execution_count": 94,
     "metadata": {},
     "output_type": "execute_result"
    }
   ],
   "source": [
    "b"
   ]
  },
  {
   "cell_type": "code",
   "execution_count": 95,
   "id": "a75c6008-9a15-4089-a06e-6c2157b41f44",
   "metadata": {},
   "outputs": [
    {
     "data": {
      "text/plain": [
       "[4, 5, 6]"
      ]
     },
     "execution_count": 95,
     "metadata": {},
     "output_type": "execute_result"
    }
   ],
   "source": [
    "list(b)"
   ]
  },
  {
   "cell_type": "code",
   "execution_count": 96,
   "id": "7d2e5afc-2b41-4c63-81f3-8e03dc0df78e",
   "metadata": {},
   "outputs": [],
   "source": [
    "b = list(b)"
   ]
  },
  {
   "cell_type": "code",
   "execution_count": 97,
   "id": "a762c36a-3ed4-4559-a468-b04a6f51cb67",
   "metadata": {},
   "outputs": [
    {
     "data": {
      "text/plain": [
       "[4, 5, 6]"
      ]
     },
     "execution_count": 97,
     "metadata": {},
     "output_type": "execute_result"
    }
   ],
   "source": [
    "b"
   ]
  }
 ],
 "metadata": {
  "kernelspec": {
   "display_name": "Python 3 (ipykernel)",
   "language": "python",
   "name": "python3"
  },
  "language_info": {
   "codemirror_mode": {
    "name": "ipython",
    "version": 3
   },
   "file_extension": ".py",
   "mimetype": "text/x-python",
   "name": "python",
   "nbconvert_exporter": "python",
   "pygments_lexer": "ipython3",
   "version": "3.9.12"
  }
 },
 "nbformat": 4,
 "nbformat_minor": 5
}
