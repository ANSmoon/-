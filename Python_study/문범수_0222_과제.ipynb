{
 "cells": [
  {
   "cell_type": "markdown",
   "id": "1306a00b-02d7-44c8-bf67-75e1d5c1cda7",
   "metadata": {},
   "source": [
    "##### object : 이차원 list 중첩루프에 대한 code 작성 후 개념 설명하기(주석으로)\n",
    "##### Author : 문범수\n",
    "##### date : 2022.2.28"
   ]
  },
  {
   "cell_type": "markdown",
   "id": "ac82f994-321c-44d5-a1f9-c819fdd9629c",
   "metadata": {},
   "source": [
    "## 필수과제\n",
    "- 이차원 list 중첩루프에 대한 code 작성 후 개념 설명하기(주석으로)\n",
    "- for문과 while 모두 이용\n",
    "- 발표 多"
   ]
  },
  {
   "cell_type": "code",
   "execution_count": 1,
   "id": "ab6f20cf-120f-4e10-a874-0b912d851f45",
   "metadata": {},
   "outputs": [
    {
     "name": "stdout",
     "output_type": "stream",
     "text": [
      "1 2 3 \n",
      "4 5 6 \n",
      "7 8 9 \n"
     ]
    }
   ],
   "source": [
    "a = [[1,2,3], [4,5,6], [7,8,9]]\n",
    "\n",
    "for i in a:                 # a list에서 내부 list를 꺼냄\n",
    "    for j in i:             # 내부 list에서 하나씩 꺼냄\n",
    "        print(j,end = ' ')\n",
    "    print()"
   ]
  },
  {
   "cell_type": "code",
   "execution_count": 2,
   "id": "b050d055-db3d-47ee-8bcd-edea82bb39ea",
   "metadata": {},
   "outputs": [
    {
     "name": "stdout",
     "output_type": "stream",
     "text": [
      "1 2 3 4 5 \n",
      "6 7 8 \n",
      "9 \n"
     ]
    }
   ],
   "source": [
    "b = [[1,2,3,4,5], [6,7,8], [9]]\n",
    "i = 0\n",
    "\n",
    "while i < len(b):               # list b의 내부 list 갯수만큼 진행\n",
    "    j = 0\n",
    "    while j < len(b[i]):        # 내부 list의 갯수만큼 출력\n",
    "        print(b[i][j], end = ' ')\n",
    "        j += 1\n",
    "    print()\n",
    "    i += 1"
   ]
  },
  {
   "cell_type": "code",
   "execution_count": null,
   "id": "3a02e4b3-9fc8-49f6-a907-0cacdbd69bd0",
   "metadata": {},
   "outputs": [],
   "source": []
  }
 ],
 "metadata": {
  "kernelspec": {
   "display_name": "Python 3 (ipykernel)",
   "language": "python",
   "name": "python3"
  },
  "language_info": {
   "codemirror_mode": {
    "name": "ipython",
    "version": 3
   },
   "file_extension": ".py",
   "mimetype": "text/x-python",
   "name": "python",
   "nbconvert_exporter": "python",
   "pygments_lexer": "ipython3",
   "version": "3.9.12"
  }
 },
 "nbformat": 4,
 "nbformat_minor": 5
}
