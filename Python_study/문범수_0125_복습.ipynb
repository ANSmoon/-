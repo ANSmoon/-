{
 "cells": [
  {
   "cell_type": "markdown",
   "id": "8d12001f-6292-428a-99a1-c82e23346693",
   "metadata": {},
   "source": [
    "### 반복문\n",
    "- 반복문은 중요하다.\n",
    "- data analysis 시 반복문은 필수"
   ]
  },
  {
   "cell_type": "code",
   "execution_count": 1,
   "id": "683a78e8-08cd-4117-9945-46db2e2c9f6c",
   "metadata": {},
   "outputs": [
    {
     "name": "stdout",
     "output_type": "stream",
     "text": [
      "Hello python!\n",
      "Hello python!\n",
      "Hello python!\n"
     ]
    }
   ],
   "source": [
    "print(\"Hello python!\")\n",
    "print(\"Hello python!\")\n",
    "print(\"Hello python!\")\n",
    "\n",
    "#이와 같은 단순 반복은 비효율적"
   ]
  },
  {
   "cell_type": "markdown",
   "id": "e0af159e-eb95-459c-b2d5-d75e8d659c92",
   "metadata": {},
   "source": [
    "## for, range 사용\n",
    "- for 변수 in range(횟수):\n",
    "    - 반복할 code"
   ]
  },
  {
   "cell_type": "code",
   "execution_count": 2,
   "id": "fb40fe83-c070-4c44-8fd6-1b98259a0c7c",
   "metadata": {},
   "outputs": [
    {
     "name": "stdout",
     "output_type": "stream",
     "text": [
      "Hello Python!\n",
      "Hello Python!\n",
      "Hello Python!\n"
     ]
    }
   ],
   "source": [
    "for i in range(3):\n",
    "    print(\"Hello Python!\")"
   ]
  },
  {
   "cell_type": "markdown",
   "id": "a607d3c7-ba4a-4dc0-a85b-61ac529d0ae4",
   "metadata": {},
   "source": [
    "- i 의 역할은 index를 의미\n",
    "- 즉, 시작지점부터 지정한 지점까지 loop하면서 활동"
   ]
  },
  {
   "cell_type": "code",
   "execution_count": 3,
   "id": "882cf0f8-c0e1-45a3-b412-ae9affde4e01",
   "metadata": {},
   "outputs": [
    {
     "name": "stdout",
     "output_type": "stream",
     "text": [
      "hello, World! 0\n",
      "hello, World! 1\n",
      "hello, World! 2\n",
      "hello, World! 3\n",
      "hello, World! 4\n",
      "hello, World! 5\n",
      "hello, World! 6\n",
      "hello, World! 7\n",
      "hello, World! 8\n",
      "hello, World! 9\n"
     ]
    }
   ],
   "source": [
    "for x in range(10):\n",
    "    print(\"hello, World!\", x)"
   ]
  },
  {
   "cell_type": "code",
   "execution_count": 4,
   "id": "9458133c-9c1d-4ff3-94e4-6c50297fdedd",
   "metadata": {},
   "outputs": [
    {
     "name": "stdout",
     "output_type": "stream",
     "text": [
      "\n",
      "두분 인사하세요\n",
      "\n",
      "안녕하세요\n",
      "안녕하세요\n",
      "\n",
      "두분 인사하세요\n",
      "\n",
      "안녕하세요\n",
      "안녕하세요\n",
      "\n",
      "두분 인사하세요\n",
      "\n",
      "안녕하세요\n",
      "안녕하세요\n",
      "\n",
      "두분 인사하세요\n",
      "\n",
      "안녕하세요\n",
      "안녕하세요\n",
      "\n",
      "두분 인사하세요\n",
      "\n",
      "안녕하세요\n",
      "안녕하세요\n",
      "\n",
      "두분 인사하세요\n",
      "\n",
      "안녕하세요\n",
      "안녕하세요\n",
      "\n",
      "두분 인사하세요\n",
      "\n",
      "안녕하세요\n",
      "안녕하세요\n",
      "\n",
      "두분 인사하세요\n",
      "\n",
      "안녕하세요\n",
      "안녕하세요\n",
      "\n",
      "두분 인사하세요\n",
      "\n",
      "안녕하세요\n",
      "안녕하세요\n",
      "\n",
      "두분 인사하세요\n",
      "\n",
      "안녕하세요\n",
      "안녕하세요\n"
     ]
    }
   ],
   "source": [
    "#응용 중첩 반복문\n",
    "for x in range(10):\n",
    "    print(\"\\n두분 인사하세요\\n\")\n",
    "    for y in range(2):\n",
    "        print(\"안녕하세요\")"
   ]
  },
  {
   "cell_type": "code",
   "execution_count": 5,
   "id": "53e20c25-b35f-4214-8ec7-a11e37d6804d",
   "metadata": {},
   "outputs": [
    {
     "name": "stdout",
     "output_type": "stream",
     "text": [
      "안녕하세요? 5\n",
      "안녕하세요? 15\n",
      "안녕하세요? 25\n",
      "안녕하세요? 35\n",
      "안녕하세요? 45\n"
     ]
    }
   ],
   "source": [
    "for a in range(5, 50, 10):\n",
    "    print(\"안녕하세요?\", a)"
   ]
  },
  {
   "cell_type": "code",
   "execution_count": 6,
   "id": "fc2ffee9-87e8-4948-a087-796f5dccb79f",
   "metadata": {},
   "outputs": [
    {
     "name": "stdout",
     "output_type": "stream",
     "text": [
      "Hello 10\n",
      "Hello 9\n",
      "Hello 8\n",
      "Hello 7\n",
      "Hello 6\n",
      "Hello 5\n",
      "Hello 4\n",
      "Hello 3\n"
     ]
    }
   ],
   "source": [
    "for b in range(10, 2, -1):\n",
    "    print(\"Hello\",b)"
   ]
  },
  {
   "cell_type": "code",
   "execution_count": 7,
   "id": "805c4ad4-2ceb-4c42-b115-39786e49c22e",
   "metadata": {},
   "outputs": [
    {
     "name": "stdout",
     "output_type": "stream",
     "text": [
      "hi 10\n",
      "hi 9\n",
      "hi 8\n",
      "hi 7\n",
      "hi 6\n",
      "hi 5\n",
      "hi 4\n",
      "hi 3\n",
      "hi 2\n",
      "hi 1\n"
     ]
    }
   ],
   "source": [
    "#loop index를 내림차순으로 부르고 싶을때\n",
    "for z in range(10,0,-1):\n",
    "    print('hi',z)"
   ]
  },
  {
   "cell_type": "code",
   "execution_count": 8,
   "id": "5e722ab6-974e-43e3-ab87-e30532847f85",
   "metadata": {},
   "outputs": [
    {
     "name": "stdout",
     "output_type": "stream",
     "text": [
      "hello 9\n",
      "hello 8\n",
      "hello 7\n",
      "hello 6\n",
      "hello 5\n",
      "hello 4\n",
      "hello 3\n",
      "hello 2\n",
      "hello 1\n",
      "hello 0\n"
     ]
    }
   ],
   "source": [
    "#다른 방식\n",
    "for z in reversed(range(10)):\n",
    "    print(\"hello\", z)"
   ]
  },
  {
   "cell_type": "code",
   "execution_count": 20,
   "id": "cf962d59-0a62-49b2-9549-e9adc5aec613",
   "metadata": {},
   "outputs": [
    {
     "name": "stdin",
     "output_type": "stream",
     "text": [
      "반복 2\n"
     ]
    }
   ],
   "source": [
    "count = int(input(\"반복\"))"
   ]
  },
  {
   "cell_type": "code",
   "execution_count": 10,
   "id": "16543f7a-21e2-4bc0-868c-465075a6b02b",
   "metadata": {},
   "outputs": [
    {
     "name": "stdout",
     "output_type": "stream",
     "text": [
      "hello 0\n"
     ]
    }
   ],
   "source": [
    "for z in reversed(range(count)):\n",
    "    print(\"hello\", z)"
   ]
  },
  {
   "cell_type": "markdown",
   "id": "019de8bc-0b99-41c8-b366-b2b349e20f32",
   "metadata": {},
   "source": [
    "#### value는 variable이 들어 갈 수 있다."
   ]
  },
  {
   "cell_type": "markdown",
   "id": "da72d2f6-aa0b-40d5-ba50-1ea9f252c012",
   "metadata": {},
   "source": [
    "#### Sequence 객체를 반복하기!"
   ]
  },
  {
   "cell_type": "code",
   "execution_count": 11,
   "id": "89d79ed0-a7da-4e8e-9beb-c135e9361efd",
   "metadata": {},
   "outputs": [],
   "source": [
    "a = [5,6,7,8,9,10]"
   ]
  },
  {
   "cell_type": "code",
   "execution_count": 12,
   "id": "fdb2b228-fa37-4928-9290-ffbb6fac9349",
   "metadata": {},
   "outputs": [
    {
     "data": {
      "text/plain": [
       "5"
      ]
     },
     "execution_count": 12,
     "metadata": {},
     "output_type": "execute_result"
    }
   ],
   "source": [
    "a[0]"
   ]
  },
  {
   "cell_type": "code",
   "execution_count": 13,
   "id": "5f206bcf-0b01-4d68-a4e8-aab5f483b650",
   "metadata": {},
   "outputs": [
    {
     "data": {
      "text/plain": [
       "6"
      ]
     },
     "execution_count": 13,
     "metadata": {},
     "output_type": "execute_result"
    }
   ],
   "source": [
    "a[1]"
   ]
  },
  {
   "cell_type": "code",
   "execution_count": 14,
   "id": "47124ff3-e6d1-47a2-913b-54630f0ea7eb",
   "metadata": {},
   "outputs": [
    {
     "data": {
      "text/plain": [
       "7"
      ]
     },
     "execution_count": 14,
     "metadata": {},
     "output_type": "execute_result"
    }
   ],
   "source": [
    "a[2]"
   ]
  },
  {
   "cell_type": "code",
   "execution_count": 15,
   "id": "5c9cd94c-059f-4b84-9ff1-f81fb78657c6",
   "metadata": {},
   "outputs": [
    {
     "data": {
      "text/plain": [
       "8"
      ]
     },
     "execution_count": 15,
     "metadata": {},
     "output_type": "execute_result"
    }
   ],
   "source": [
    "a[3]"
   ]
  },
  {
   "cell_type": "code",
   "execution_count": 16,
   "id": "2eec57a2-bb6f-4e0a-bb33-72c07597579a",
   "metadata": {},
   "outputs": [
    {
     "data": {
      "text/plain": [
       "10"
      ]
     },
     "execution_count": 16,
     "metadata": {},
     "output_type": "execute_result"
    }
   ],
   "source": [
    "a[5]"
   ]
  },
  {
   "cell_type": "code",
   "execution_count": 17,
   "id": "903d504b-ccc8-4d04-8cc1-5b9eee9b3c67",
   "metadata": {},
   "outputs": [
    {
     "name": "stdout",
     "output_type": "stream",
     "text": [
      "5\n",
      "6\n",
      "7\n",
      "8\n",
      "9\n",
      "10\n"
     ]
    }
   ],
   "source": [
    "for i in a:\n",
    "    print(i)"
   ]
  },
  {
   "cell_type": "markdown",
   "id": "1f070bcd-fcfc-46bc-8322-6e23e7c8e9d9",
   "metadata": {},
   "source": [
    "### 반복문 내 sequence 객체 사용시 순서대로 value값 들을 불러온다.\n",
    "### 위와 아래 code 비교"
   ]
  },
  {
   "cell_type": "code",
   "execution_count": 18,
   "id": "daca1f83-4a4c-420b-803a-0fef0fe5fd19",
   "metadata": {},
   "outputs": [
    {
     "name": "stdout",
     "output_type": "stream",
     "text": [
      "5\n",
      "6\n",
      "7\n",
      "8\n",
      "9\n",
      "10\n"
     ]
    }
   ],
   "source": [
    "for i in range(6):\n",
    "    print(a[i])"
   ]
  },
  {
   "cell_type": "code",
   "execution_count": 19,
   "id": "85c6371c-b5c0-45af-b53b-5e5a3f656e7c",
   "metadata": {},
   "outputs": [
    {
     "ename": "IndexError",
     "evalue": "list index out of range",
     "output_type": "error",
     "traceback": [
      "\u001b[1;31m---------------------------------------------------------------------------\u001b[0m",
      "\u001b[1;31mIndexError\u001b[0m                                Traceback (most recent call last)",
      "Input \u001b[1;32mIn [19]\u001b[0m, in \u001b[0;36m<cell line: 1>\u001b[1;34m()\u001b[0m\n\u001b[1;32m----> 1\u001b[0m \u001b[43ma\u001b[49m\u001b[43m[\u001b[49m\u001b[38;5;241;43m6\u001b[39;49m\u001b[43m]\u001b[49m\n",
      "\u001b[1;31mIndexError\u001b[0m: list index out of range"
     ]
    }
   ],
   "source": [
    "a[6]"
   ]
  },
  {
   "cell_type": "code",
   "execution_count": 21,
   "id": "f24a6fad-ec59-4112-a5b8-a56d52c6be66",
   "metadata": {},
   "outputs": [],
   "source": [
    "dic =  ['a', 'b', 'c', 'd', 'e']"
   ]
  },
  {
   "cell_type": "code",
   "execution_count": 22,
   "id": "33026437-0003-4dc1-8954-f25a22482c21",
   "metadata": {},
   "outputs": [
    {
     "data": {
      "text/plain": [
       "['a', 'b', 'c', 'd', 'e']"
      ]
     },
     "execution_count": 22,
     "metadata": {},
     "output_type": "execute_result"
    }
   ],
   "source": [
    "dic"
   ]
  },
  {
   "cell_type": "code",
   "execution_count": 23,
   "id": "30c3e314-7d8a-4928-a0c5-ad08e2daf4af",
   "metadata": {},
   "outputs": [
    {
     "name": "stdout",
     "output_type": "stream",
     "text": [
      "a\n",
      "b\n",
      "c\n",
      "d\n",
      "e\n"
     ]
    }
   ],
   "source": [
    "for i in dic:\n",
    "    print(i)"
   ]
  },
  {
   "cell_type": "markdown",
   "id": "697365de-fb43-4784-a02e-1a8f0d62ebe0",
   "metadata": {},
   "source": [
    "- 문자열도 동일한 형태로 불러올 수 있다."
   ]
  },
  {
   "cell_type": "code",
   "execution_count": null,
   "id": "0f12391d-3298-402e-a25f-c9fffdc5ea58",
   "metadata": {},
   "outputs": [
    {
     "name": "stdout",
     "output_type": "stream",
     "text": [
      "e\n",
      "d\n",
      "c\n",
      "b\n",
      "a\n"
     ]
    }
   ],
   "source": [
    "for i in reversed(dic):\n",
    "    print(i)"
   ]
  },
  {
   "cell_type": "code",
   "execution_count": null,
   "id": "94d11ecc-fde0-46f8-b7e6-f9f057784842",
   "metadata": {},
   "outputs": [
    {
     "name": "stdout",
     "output_type": "stream",
     "text": [
      "e\n",
      "d\n",
      "c\n",
      "b\n",
      "a\n"
     ]
    }
   ],
   "source": [
    "for i in reversed(range(5)):\n",
    "    print(dic[i])"
   ]
  },
  {
   "cell_type": "code",
   "execution_count": null,
   "id": "0195ed6f-adac-4322-8132-911feef09a54",
   "metadata": {},
   "outputs": [
    {
     "name": "stdout",
     "output_type": "stream",
     "text": [
      "e\n",
      "d\n",
      "c\n",
      "b\n",
      "a\n"
     ]
    }
   ],
   "source": [
    "#시작 끝 지정하는건 좀 어려움\n",
    "for i in range(4,-1,-1):\n",
    "    print(dic[i])"
   ]
  },
  {
   "cell_type": "code",
   "execution_count": null,
   "id": "3548b318-7e54-4d8f-a2f2-e177adc47ab1",
   "metadata": {},
   "outputs": [
    {
     "name": "stdout",
     "output_type": "stream",
     "text": [
      "p y t h o n "
     ]
    }
   ],
   "source": [
    "for i in 'python':\n",
    "    print(i, end=\" \")"
   ]
  },
  {
   "cell_type": "code",
   "execution_count": null,
   "id": "22d2b03d-d0dd-471a-9988-78d4534c76e2",
   "metadata": {},
   "outputs": [
    {
     "name": "stdout",
     "output_type": "stream",
     "text": [
      "0\n",
      "2\n",
      "4\n",
      "6\n",
      "8\n",
      "10\n",
      "12\n",
      "14\n",
      "16\n",
      "18\n",
      "20\n"
     ]
    }
   ],
   "source": [
    "for i in range(0, 21, 2):\n",
    "    print(i)"
   ]
  },
  {
   "cell_type": "code",
   "execution_count": null,
   "id": "930cdbbd-7528-4cf5-bfb0-d5773c3417af",
   "metadata": {},
   "outputs": [
    {
     "name": "stdout",
     "output_type": "stream",
     "text": [
      "{0: 0}\n",
      "{0: 0, 1: 1}\n",
      "{0: 0, 1: 1, 2: 2}\n",
      "{0: 0, 1: 1, 2: 2, 3: 3}\n",
      "{0: 0, 1: 1, 2: 2, 3: 3, 4: 4}\n",
      "{0: 0, 1: 1, 2: 2, 3: 3, 4: 4, 5: 5}\n",
      "{0: 0, 1: 1, 2: 2, 3: 3, 4: 4, 5: 5, 6: 6}\n",
      "{0: 0, 1: 1, 2: 2, 3: 3, 4: 4, 5: 5, 6: 6, 7: 7}\n",
      "{0: 0, 1: 1, 2: 2, 3: 3, 4: 4, 5: 5, 6: 6, 7: 7, 8: 8}\n",
      "{0: 0, 1: 1, 2: 2, 3: 3, 4: 4, 5: 5, 6: 6, 7: 7, 8: 8, 9: 9}\n",
      "{0: 0, 1: 1, 2: 2, 3: 3, 4: 4, 5: 5, 6: 6, 7: 7, 8: 8, 9: 9, 10: 10}\n",
      "{0: 0, 1: 1, 2: 2, 3: 3, 4: 4, 5: 5, 6: 6, 7: 7, 8: 8, 9: 9, 10: 10, 11: 11}\n",
      "{0: 0, 1: 1, 2: 2, 3: 3, 4: 4, 5: 5, 6: 6, 7: 7, 8: 8, 9: 9, 10: 10, 11: 11, 12: 12}\n",
      "{0: 0, 1: 1, 2: 2, 3: 3, 4: 4, 5: 5, 6: 6, 7: 7, 8: 8, 9: 9, 10: 10, 11: 11, 12: 12, 13: 13}\n",
      "{0: 0, 1: 1, 2: 2, 3: 3, 4: 4, 5: 5, 6: 6, 7: 7, 8: 8, 9: 9, 10: 10, 11: 11, 12: 12, 13: 13, 14: 14}\n",
      "{0: 0, 1: 1, 2: 2, 3: 3, 4: 4, 5: 5, 6: 6, 7: 7, 8: 8, 9: 9, 10: 10, 11: 11, 12: 12, 13: 13, 14: 14, 15: 15}\n",
      "{0: 0, 1: 1, 2: 2, 3: 3, 4: 4, 5: 5, 6: 6, 7: 7, 8: 8, 9: 9, 10: 10, 11: 11, 12: 12, 13: 13, 14: 14, 15: 15, 16: 16}\n",
      "{0: 0, 1: 1, 2: 2, 3: 3, 4: 4, 5: 5, 6: 6, 7: 7, 8: 8, 9: 9, 10: 10, 11: 11, 12: 12, 13: 13, 14: 14, 15: 15, 16: 16, 17: 17}\n",
      "{0: 0, 1: 1, 2: 2, 3: 3, 4: 4, 5: 5, 6: 6, 7: 7, 8: 8, 9: 9, 10: 10, 11: 11, 12: 12, 13: 13, 14: 14, 15: 15, 16: 16, 17: 17, 18: 18}\n",
      "{0: 0, 1: 1, 2: 2, 3: 3, 4: 4, 5: 5, 6: 6, 7: 7, 8: 8, 9: 9, 10: 10, 11: 11, 12: 12, 13: 13, 14: 14, 15: 15, 16: 16, 17: 17, 18: 18, 19: 19}\n",
      "{0: 0, 1: 1, 2: 2, 3: 3, 4: 4, 5: 5, 6: 6, 7: 7, 8: 8, 9: 9, 10: 10, 11: 11, 12: 12, 13: 13, 14: 14, 15: 15, 16: 16, 17: 17, 18: 18, 19: 19, 20: 20}\n"
     ]
    }
   ],
   "source": [
    "#list내 숫자 넣기 연습해 볼 것!\n",
    "list = {}\n",
    "for i in range(21):\n",
    "    list[i] = i\n",
    "    print(list)"
   ]
  },
  {
   "cell_type": "code",
   "execution_count": null,
   "id": "92fe33b6-be72-40b7-8a8d-27f2fa045664",
   "metadata": {},
   "outputs": [
    {
     "name": "stdout",
     "output_type": "stream",
     "text": [
      "0\n",
      "10\n",
      "20\n",
      "30\n",
      "40\n",
      "50\n",
      "60\n",
      "70\n",
      "80\n",
      "90\n"
     ]
    }
   ],
   "source": [
    "for i in range(10):\n",
    "    print(i*10)"
   ]
  },
  {
   "cell_type": "code",
   "execution_count": null,
   "id": "028b57a8-1d8a-45f0-a562-766733a18825",
   "metadata": {},
   "outputs": [
    {
     "name": "stdout",
     "output_type": "stream",
     "text": [
      "0\n",
      "2\n",
      "4\n",
      "6\n",
      "8\n",
      "10\n",
      "12\n",
      "14\n",
      "16\n",
      "18\n",
      "20\n"
     ]
    }
   ],
   "source": [
    "for i in range(21):\n",
    "    if i % 2 == 0:\n",
    "        print(i)"
   ]
  },
  {
   "cell_type": "markdown",
   "id": "7e352274-6a47-42a4-9504-40dd7a392b1b",
   "metadata": {},
   "source": [
    "### While 반복문 출력\n",
    "- for문과 다르게 while문은 반복 횟수 지정 필수!\n",
    "- while 의 조건식은 그 조건이 True일때만 실시함을 의미한다."
   ]
  },
  {
   "cell_type": "code",
   "execution_count": null,
   "id": "16890c5e-c7c0-4971-a26d-75fd390d9993",
   "metadata": {},
   "outputs": [
    {
     "name": "stdout",
     "output_type": "stream",
     "text": [
      "Hello, world!\n",
      "Hello, world!\n",
      "Hello, world!\n",
      "Hello, world!\n",
      "Hello, world!\n",
      "Hello, world!\n",
      "Hello, world!\n",
      "Hello, world!\n",
      "Hello, world!\n",
      "Hello, world!\n"
     ]
    }
   ],
   "source": [
    "i = 0 # Initialization 값\n",
    "while i < 10: # while 조건식\n",
    "    print(\"Hello, world!\") # Executive code\n",
    "    i += 1 #변화식(infinite loop 방지)"
   ]
  },
  {
   "cell_type": "markdown",
   "id": "548b1055-b574-427a-ba02-1ed6eaf104a0",
   "metadata": {},
   "source": [
    "### for문 및 while반복문은 code작성시 무조건적으로 사용빈도가 높기때문에 복습 필수!\n",
    "- 다양한 예시를 통해 연습할 것!"
   ]
  },
  {
   "cell_type": "code",
   "execution_count": null,
   "id": "acc8ff44-99e2-4e3f-8280-ab29b83b7b8a",
   "metadata": {},
   "outputs": [
    {
     "name": "stdout",
     "output_type": "stream",
     "text": [
      "1\n",
      "2\n",
      "3\n",
      "4\n",
      "5\n",
      "6\n",
      "7\n",
      "8\n",
      "9\n",
      "Hello, World!\n"
     ]
    }
   ],
   "source": [
    "for i in range(1, 10):\n",
    "    print(i)\n",
    "print(\"Hello, World!\")"
   ]
  },
  {
   "cell_type": "code",
   "execution_count": null,
   "id": "8a96c52a-f112-4a31-9779-cc994bc6b91f",
   "metadata": {},
   "outputs": [
    {
     "name": "stdout",
     "output_type": "stream",
     "text": [
      "1\n",
      "Hello, World!\n",
      "2\n",
      "Hello, World!\n",
      "3\n",
      "Hello, World!\n",
      "4\n",
      "Hello, World!\n",
      "5\n",
      "Hello, World!\n",
      "6\n",
      "Hello, World!\n",
      "7\n",
      "Hello, World!\n",
      "8\n",
      "Hello, World!\n",
      "9\n",
      "Hello, World!\n"
     ]
    }
   ],
   "source": [
    "for i in range(1, 10):\n",
    "    print(i)\n",
    "    print(\"Hello, World!\")"
   ]
  },
  {
   "cell_type": "code",
   "execution_count": null,
   "id": "1fd65d57-6660-4c5c-87fc-3e1b76c1fe31",
   "metadata": {},
   "outputs": [
    {
     "name": "stdout",
     "output_type": "stream",
     "text": [
      "apple\n",
      "banana\n",
      "orange\n",
      "mange\n"
     ]
    }
   ],
   "source": [
    "for fruit in [\"apple\", \"banana\", \"orange\", \"mange\"]:\n",
    "    print(fruit)"
   ]
  },
  {
   "cell_type": "code",
   "execution_count": null,
   "id": "89f43dc8-6bf4-4cd2-b42b-43c2de181c1d",
   "metadata": {},
   "outputs": [
    {
     "name": "stdout",
     "output_type": "stream",
     "text": [
      "3\n",
      "4\n",
      "5\n"
     ]
    }
   ],
   "source": [
    "x = 3;\n",
    "while x < 6:\n",
    "    print(x)\n",
    "    x = x + 1"
   ]
  },
  {
   "cell_type": "code",
   "execution_count": 37,
   "id": "d5c5af4a-6cd8-48e1-a632-758e2dab62a4",
   "metadata": {},
   "outputs": [],
   "source": [
    "x = 8;\n",
    "while x < 6:\n",
    "    print(x)\n",
    "    x = x + 1"
   ]
  },
  {
   "cell_type": "code",
   "execution_count": 38,
   "id": "5d4ea4de-0918-4e13-805f-aa2b0c994987",
   "metadata": {},
   "outputs": [
    {
     "name": "stdout",
     "output_type": "stream",
     "text": [
      "3\n"
     ]
    }
   ],
   "source": [
    "x = 3;\n",
    "while x < 6:\n",
    "    print(x)\n",
    "    x = x + 1\n",
    "    break"
   ]
  },
  {
   "cell_type": "code",
   "execution_count": 40,
   "id": "7b78a524-c99c-4fca-bbc5-55b2f883babd",
   "metadata": {},
   "outputs": [
    {
     "name": "stdout",
     "output_type": "stream",
     "text": [
      "apple\n",
      "banana\n",
      " I found orange\n"
     ]
    }
   ],
   "source": [
    "list = [\"apple\", \"banana\", \"orange\", \"mango\"]\n",
    "\n",
    "for fruit in list:\n",
    "    if fruit == \"orange\":\n",
    "        print(\" I found \" + fruit)\n",
    "        break\n",
    "    print(fruit)"
   ]
  },
  {
   "cell_type": "code",
   "execution_count": null,
   "id": "31aa73a1-d5f1-4f0b-89b4-fdf17993a9a0",
   "metadata": {},
   "outputs": [],
   "source": []
  }
 ],
 "metadata": {
  "kernelspec": {
   "display_name": "Python 3 (ipykernel)",
   "language": "python",
   "name": "python3"
  },
  "language_info": {
   "codemirror_mode": {
    "name": "ipython",
    "version": 3
   },
   "file_extension": ".py",
   "mimetype": "text/x-python",
   "name": "python",
   "nbconvert_exporter": "python",
   "pygments_lexer": "ipython3",
   "version": "3.9.12"
  }
 },
 "nbformat": 4,
 "nbformat_minor": 5
}
