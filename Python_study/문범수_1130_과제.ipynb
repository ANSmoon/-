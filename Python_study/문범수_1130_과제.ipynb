{
 "cells": [
  {
   "cell_type": "markdown",
   "id": "11be828b-fb0a-481d-9dec-32c7a953f6a4",
   "metadata": {},
   "source": [
    "##### object : 과제(range를 이용한 tuple 생성, tuple <-> list간 상호 변환)\n",
    "##### Author : 문범수\n",
    "##### date : 2022.12.22"
   ]
  },
  {
   "cell_type": "markdown",
   "id": "8ad0d27e-ba21-4157-8dac-24a223dbb0cb",
   "metadata": {
    "tags": []
   },
   "source": [
    "### 필수 과제\n",
    "- range를 이용해 tuple 생성\n",
    "- [] 대괄호 -> ()소괄호로 변경"
   ]
  },
  {
   "cell_type": "markdown",
   "id": "7766ba03-4796-412a-b6ae-c30f05501f4c",
   "metadata": {},
   "source": [
    "#### tuple -> list\n",
    "#### list -> tuple 형태 변환"
   ]
  },
  {
   "cell_type": "code",
   "execution_count": 11,
   "id": "f0cbb984-f594-4907-a789-a9c05c43f7e9",
   "metadata": {},
   "outputs": [],
   "source": [
    "x = tuple(range(0, 10))"
   ]
  },
  {
   "cell_type": "code",
   "execution_count": 12,
   "id": "88ee427d-682c-4f7f-af5b-473e51d1bf27",
   "metadata": {},
   "outputs": [
    {
     "data": {
      "text/plain": [
       "(0, 1, 2, 3, 4, 5, 6, 7, 8, 9)"
      ]
     },
     "execution_count": 12,
     "metadata": {},
     "output_type": "execute_result"
    }
   ],
   "source": [
    "x"
   ]
  },
  {
   "cell_type": "code",
   "execution_count": 13,
   "id": "6bc05472-8255-4ac5-9020-8d57b98d570b",
   "metadata": {},
   "outputs": [
    {
     "data": {
      "text/plain": [
       "[0, 1, 2, 3, 4, 5, 6, 7, 8, 9]"
      ]
     },
     "execution_count": 13,
     "metadata": {},
     "output_type": "execute_result"
    }
   ],
   "source": [
    "list(x)"
   ]
  },
  {
   "cell_type": "code",
   "execution_count": 14,
   "id": "c32afa1a-7f39-405f-a772-ff348284b089",
   "metadata": {},
   "outputs": [],
   "source": [
    "y = list(range(10))"
   ]
  },
  {
   "cell_type": "code",
   "execution_count": 15,
   "id": "5bdce895-f40b-4e72-8e04-53229a5637c3",
   "metadata": {},
   "outputs": [
    {
     "data": {
      "text/plain": [
       "[0, 1, 2, 3, 4, 5, 6, 7, 8, 9]"
      ]
     },
     "execution_count": 15,
     "metadata": {},
     "output_type": "execute_result"
    }
   ],
   "source": [
    "y"
   ]
  },
  {
   "cell_type": "code",
   "execution_count": 16,
   "id": "7b25140d-4dd7-4fa3-87f4-c1578ea029c2",
   "metadata": {},
   "outputs": [
    {
     "data": {
      "text/plain": [
       "(0, 1, 2, 3, 4, 5, 6, 7, 8, 9)"
      ]
     },
     "execution_count": 16,
     "metadata": {},
     "output_type": "execute_result"
    }
   ],
   "source": [
    "tuple(y)"
   ]
  },
  {
   "cell_type": "code",
   "execution_count": 27,
   "id": "195b2f25-90c6-48b4-ba22-06e9b5d99d3f",
   "metadata": {},
   "outputs": [],
   "source": [
    "z = tuple(range(10, 20))"
   ]
  },
  {
   "cell_type": "code",
   "execution_count": 28,
   "id": "223cf8d4-6dd3-4fa0-a918-9cfb7f561acd",
   "metadata": {},
   "outputs": [
    {
     "data": {
      "text/plain": [
       "(10, 11, 12, 13, 14, 15, 16, 17, 18, 19)"
      ]
     },
     "execution_count": 28,
     "metadata": {},
     "output_type": "execute_result"
    }
   ],
   "source": [
    "z"
   ]
  },
  {
   "cell_type": "code",
   "execution_count": 36,
   "id": "d41c50c9-5de7-4e1e-b984-52714a058374",
   "metadata": {},
   "outputs": [],
   "source": [
    "a = []"
   ]
  },
  {
   "cell_type": "code",
   "execution_count": 37,
   "id": "c1c37386-8532-4470-9fac-6cfd522fe3ca",
   "metadata": {},
   "outputs": [
    {
     "data": {
      "text/plain": [
       "[]"
      ]
     },
     "execution_count": 37,
     "metadata": {},
     "output_type": "execute_result"
    }
   ],
   "source": [
    "a"
   ]
  },
  {
   "cell_type": "code",
   "execution_count": 38,
   "id": "6fc80af0-efa7-4500-84db-7a45b153b0ed",
   "metadata": {},
   "outputs": [
    {
     "data": {
      "text/plain": [
       "[]"
      ]
     },
     "execution_count": 38,
     "metadata": {},
     "output_type": "execute_result"
    }
   ],
   "source": [
    "list(a)"
   ]
  },
  {
   "cell_type": "code",
   "execution_count": 42,
   "id": "91b20c82-073e-47de-a00f-98235de8ef66",
   "metadata": {},
   "outputs": [],
   "source": [
    "a = range(-10, 10, 2)"
   ]
  },
  {
   "cell_type": "code",
   "execution_count": 43,
   "id": "8b04607c-e2f8-4ecd-82bb-8b960303690f",
   "metadata": {},
   "outputs": [
    {
     "data": {
      "text/plain": [
       "range(-10, 10, 2)"
      ]
     },
     "execution_count": 43,
     "metadata": {},
     "output_type": "execute_result"
    }
   ],
   "source": [
    "a"
   ]
  },
  {
   "cell_type": "code",
   "execution_count": 44,
   "id": "10d5c88e-fecb-464a-b53e-78a9bd019fd2",
   "metadata": {},
   "outputs": [
    {
     "data": {
      "text/plain": [
       "[-10, -8, -6, -4, -2, 0, 2, 4, 6, 8]"
      ]
     },
     "execution_count": 44,
     "metadata": {},
     "output_type": "execute_result"
    }
   ],
   "source": [
    "list(a)"
   ]
  },
  {
   "cell_type": "code",
   "execution_count": 45,
   "id": "131edcec-335e-47fb-b4aa-35b8c79cb0fd",
   "metadata": {},
   "outputs": [
    {
     "data": {
      "text/plain": [
       "(-10, -8, -6, -4, -2, 0, 2, 4, 6, 8)"
      ]
     },
     "execution_count": 45,
     "metadata": {},
     "output_type": "execute_result"
    }
   ],
   "source": [
    "tuple(a)"
   ]
  },
  {
   "cell_type": "code",
   "execution_count": 46,
   "id": "85edb598-0216-4647-8679-e83280620318",
   "metadata": {},
   "outputs": [
    {
     "data": {
      "text/plain": [
       "[10, 11, 12, 13, 14, 15, 16, 17, 18, 19]"
      ]
     },
     "execution_count": 46,
     "metadata": {},
     "output_type": "execute_result"
    }
   ],
   "source": [
    "list(z)"
   ]
  }
 ],
 "metadata": {
  "kernelspec": {
   "display_name": "Python 3 (ipykernel)",
   "language": "python",
   "name": "python3"
  },
  "language_info": {
   "codemirror_mode": {
    "name": "ipython",
    "version": 3
   },
   "file_extension": ".py",
   "mimetype": "text/x-python",
   "name": "python",
   "nbconvert_exporter": "python",
   "pygments_lexer": "ipython3",
   "version": "3.9.12"
  }
 },
 "nbformat": 4,
 "nbformat_minor": 5
}
