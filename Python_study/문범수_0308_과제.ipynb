{
 "cells": [
  {
   "cell_type": "markdown",
   "id": "e2286fd6-76c8-40ba-9f54-630adf444f40",
   "metadata": {},
   "source": [
    "##### object : 다양한 집합 연산자 사용 및 딕셔너리 복습\n",
    "##### Author : 문범수\n",
    "##### date : 2022.3.13"
   ]
  },
  {
   "cell_type": "markdown",
   "id": "47776aca-766f-4ca9-bbc5-bb2aa717964f",
   "metadata": {},
   "source": [
    "### 다양한 집합 연산자"
   ]
  },
  {
   "cell_type": "code",
   "execution_count": 43,
   "id": "d33f0750-2559-40e3-8591-7f16dbba9033",
   "metadata": {},
   "outputs": [],
   "source": [
    "x = {1,2,3,4,5}\n",
    "y = {4,5,6,7,8}"
   ]
  },
  {
   "cell_type": "code",
   "execution_count": 44,
   "id": "2a1f8228-7ee1-4ddd-b917-c99e56d285cd",
   "metadata": {},
   "outputs": [
    {
     "data": {
      "text/plain": [
       "{1, 2, 3, 4, 5, 6, 7, 8}"
      ]
     },
     "execution_count": 44,
     "metadata": {},
     "output_type": "execute_result"
    }
   ],
   "source": [
    "x|y # x 와 y의 합집합"
   ]
  },
  {
   "cell_type": "code",
   "execution_count": 45,
   "id": "117eb46f-1190-4b17-bf38-ad57497d4bbe",
   "metadata": {},
   "outputs": [
    {
     "data": {
      "text/plain": [
       "{4, 5}"
      ]
     },
     "execution_count": 45,
     "metadata": {},
     "output_type": "execute_result"
    }
   ],
   "source": [
    "x&y # x 와 y의 교집합"
   ]
  },
  {
   "cell_type": "code",
   "execution_count": 46,
   "id": "30d170da-a634-45fa-a505-120f182e9e90",
   "metadata": {},
   "outputs": [
    {
     "data": {
      "text/plain": [
       "{1, 2, 3}"
      ]
     },
     "execution_count": 46,
     "metadata": {},
     "output_type": "execute_result"
    }
   ],
   "source": [
    "x-y # x 의 y 차집합"
   ]
  },
  {
   "cell_type": "code",
   "execution_count": 47,
   "id": "18659c58-99ed-40eb-aead-6601e999150d",
   "metadata": {},
   "outputs": [
    {
     "data": {
      "text/plain": [
       "{6, 7, 8}"
      ]
     },
     "execution_count": 47,
     "metadata": {},
     "output_type": "execute_result"
    }
   ],
   "source": [
    "y-x # y 의 x 차집합"
   ]
  },
  {
   "cell_type": "code",
   "execution_count": 48,
   "id": "80fdee1f-815b-4a67-95a7-1fae66c756d2",
   "metadata": {},
   "outputs": [
    {
     "data": {
      "text/plain": [
       "{1, 2, 3}"
      ]
     },
     "execution_count": 48,
     "metadata": {},
     "output_type": "execute_result"
    }
   ],
   "source": [
    "x-y"
   ]
  },
  {
   "cell_type": "code",
   "execution_count": 49,
   "id": "73c3ff0c-9d7b-4446-b0f2-5261fbde2b8e",
   "metadata": {},
   "outputs": [
    {
     "data": {
      "text/plain": [
       "{1, 2, 3, 4, 5, 6, 7, 8}"
      ]
     },
     "execution_count": 49,
     "metadata": {},
     "output_type": "execute_result"
    }
   ],
   "source": [
    "set.union(x,y) # set method를 이용한 합집합"
   ]
  },
  {
   "cell_type": "code",
   "execution_count": 50,
   "id": "7f3f3805-4dc4-4a0f-b368-501ddb67063c",
   "metadata": {},
   "outputs": [
    {
     "data": {
      "text/plain": [
       "{4, 5}"
      ]
     },
     "execution_count": 50,
     "metadata": {},
     "output_type": "execute_result"
    }
   ],
   "source": [
    "set.intersection(x,y) # set method를 이용한 교집합"
   ]
  },
  {
   "cell_type": "code",
   "execution_count": 51,
   "id": "9f6fe8e1-e143-4fa4-80e2-7e737d339f21",
   "metadata": {},
   "outputs": [
    {
     "data": {
      "text/plain": [
       "{1, 2, 3}"
      ]
     },
     "execution_count": 51,
     "metadata": {},
     "output_type": "execute_result"
    }
   ],
   "source": [
    "set.difference(x,y) # set method를 이용한 차집합"
   ]
  },
  {
   "cell_type": "code",
   "execution_count": 52,
   "id": "8a9fb061-19ee-4c1e-b8d7-1e3ac5d0b5a4",
   "metadata": {},
   "outputs": [
    {
     "data": {
      "text/plain": [
       "{6, 7, 8}"
      ]
     },
     "execution_count": 52,
     "metadata": {},
     "output_type": "execute_result"
    }
   ],
   "source": [
    "set.difference(y,x) # set method를 이용한 합집합"
   ]
  },
  {
   "cell_type": "code",
   "execution_count": 53,
   "id": "db3e9721-5043-4fba-a260-db161f695cca",
   "metadata": {},
   "outputs": [
    {
     "data": {
      "text/plain": [
       "{1, 2, 3, 6, 7, 8}"
      ]
     },
     "execution_count": 53,
     "metadata": {},
     "output_type": "execute_result"
    }
   ],
   "source": [
    "set.symmetric_difference(x,y) # set method를 이용한 대칭 차집합"
   ]
  },
  {
   "cell_type": "code",
   "execution_count": 54,
   "id": "0d4f2c83-8d1b-4495-9640-428bee5560fc",
   "metadata": {},
   "outputs": [
    {
     "data": {
      "text/plain": [
       "False"
      ]
     },
     "execution_count": 54,
     "metadata": {},
     "output_type": "execute_result"
    }
   ],
   "source": [
    "x.issubset(y) # 부분집합 method"
   ]
  },
  {
   "cell_type": "code",
   "execution_count": 55,
   "id": "56bbb013-855b-4acc-8eb8-abe260bb7bd9",
   "metadata": {},
   "outputs": [
    {
     "data": {
      "text/plain": [
       "False"
      ]
     },
     "execution_count": 55,
     "metadata": {},
     "output_type": "execute_result"
    }
   ],
   "source": [
    "y.issubset(x) # 부분집합 method"
   ]
  },
  {
   "cell_type": "code",
   "execution_count": 56,
   "id": "c27e6c16-2959-4631-b4a5-cac946f4364b",
   "metadata": {},
   "outputs": [
    {
     "data": {
      "text/plain": [
       "False"
      ]
     },
     "execution_count": 56,
     "metadata": {},
     "output_type": "execute_result"
    }
   ],
   "source": [
    "x.isdisjoint(y) # 교집합 유무 확인 method"
   ]
  },
  {
   "cell_type": "code",
   "execution_count": 57,
   "id": "11049321-4fd3-4a2a-85cb-90748ab5f3f8",
   "metadata": {},
   "outputs": [],
   "source": [
    "z={1,2,3}"
   ]
  },
  {
   "cell_type": "code",
   "execution_count": 58,
   "id": "20f96675-2334-42ba-ab10-2c5daf9496cf",
   "metadata": {},
   "outputs": [
    {
     "data": {
      "text/plain": [
       "True"
      ]
     },
     "execution_count": 58,
     "metadata": {},
     "output_type": "execute_result"
    }
   ],
   "source": [
    "x>z # 부분집합 확인 method"
   ]
  },
  {
   "cell_type": "code",
   "execution_count": 59,
   "id": "043d1366-c1a6-49e4-ac43-96e286eed2eb",
   "metadata": {},
   "outputs": [
    {
     "data": {
      "text/plain": [
       "True"
      ]
     },
     "execution_count": 59,
     "metadata": {},
     "output_type": "execute_result"
    }
   ],
   "source": [
    "z.issubset(x) # 부분집합 method"
   ]
  },
  {
   "cell_type": "code",
   "execution_count": 60,
   "id": "cc26d2b4-7814-40a6-85e9-5d468cb9d28d",
   "metadata": {},
   "outputs": [
    {
     "data": {
      "text/plain": [
       "True"
      ]
     },
     "execution_count": 60,
     "metadata": {},
     "output_type": "execute_result"
    }
   ],
   "source": [
    "x.issuperset(z) # 상위집합 method"
   ]
  },
  {
   "cell_type": "code",
   "execution_count": 61,
   "id": "c4b68c12-6ac9-4a90-bb4d-b0bbc5e2edda",
   "metadata": {},
   "outputs": [],
   "source": [
    "x.difference_update({1}) # 차집합 결과를 저장하도록 하는 method"
   ]
  },
  {
   "cell_type": "code",
   "execution_count": 62,
   "id": "0658b2da-69da-4e32-842b-55b895036bb3",
   "metadata": {},
   "outputs": [
    {
     "data": {
      "text/plain": [
       "{2, 3, 4, 5}"
      ]
     },
     "execution_count": 62,
     "metadata": {},
     "output_type": "execute_result"
    }
   ],
   "source": [
    "x"
   ]
  },
  {
   "cell_type": "code",
   "execution_count": 63,
   "id": "eda4cdc9-e471-4f5f-9d55-73f4ea752d3b",
   "metadata": {},
   "outputs": [],
   "source": [
    "y.intersection_update({4,5,6,10}) # 교집합 결과를 저장하도록 하는 method"
   ]
  },
  {
   "cell_type": "code",
   "execution_count": 64,
   "id": "45d22205-201e-4060-b7cc-3151bdd1da4f",
   "metadata": {},
   "outputs": [
    {
     "data": {
      "text/plain": [
       "{4, 5, 6}"
      ]
     },
     "execution_count": 64,
     "metadata": {},
     "output_type": "execute_result"
    }
   ],
   "source": [
    "y"
   ]
  },
  {
   "cell_type": "code",
   "execution_count": 65,
   "id": "30717457-075d-4802-97ec-826ceffa4b5a",
   "metadata": {},
   "outputs": [],
   "source": [
    "set.symmetric_difference_update(x,y) # 대칭 차집합 결과를 저장하도록 하는 method"
   ]
  },
  {
   "cell_type": "code",
   "execution_count": 66,
   "id": "986e59ba-7c04-47e0-a922-f1e6cba13cf9",
   "metadata": {},
   "outputs": [
    {
     "data": {
      "text/plain": [
       "{2, 3, 6}"
      ]
     },
     "execution_count": 66,
     "metadata": {},
     "output_type": "execute_result"
    }
   ],
   "source": [
    "x"
   ]
  },
  {
   "cell_type": "code",
   "execution_count": 67,
   "id": "49862880-b58f-439d-bdcd-bac5989a7e4e",
   "metadata": {},
   "outputs": [],
   "source": [
    "set.symmetric_difference_update(y,x) # 대칭 차집합 결과를 저장하도록 하는 method"
   ]
  },
  {
   "cell_type": "code",
   "execution_count": 68,
   "id": "34f961f4-c9de-45dc-ac89-3a1f23fd9d89",
   "metadata": {},
   "outputs": [
    {
     "data": {
      "text/plain": [
       "{2, 3, 4, 5}"
      ]
     },
     "execution_count": 68,
     "metadata": {},
     "output_type": "execute_result"
    }
   ],
   "source": [
    "y"
   ]
  },
  {
   "cell_type": "markdown",
   "id": "b4d8cb7b-db82-4196-803e-c9cd11745dba",
   "metadata": {},
   "source": [
    "### 딕셔너리 복습"
   ]
  },
  {
   "cell_type": "code",
   "execution_count": 90,
   "id": "09bc25b5-5dd4-422b-89c9-93433077399f",
   "metadata": {},
   "outputs": [],
   "source": [
    "dic = {'name' : ['MUN'], \n",
    "       'phone' : [\"010-3641-7754\"],\n",
    "       'university' : [\"KNU\"]}"
   ]
  },
  {
   "cell_type": "code",
   "execution_count": 91,
   "id": "3ef68017-a1dd-4e94-9a79-803aa703bc98",
   "metadata": {},
   "outputs": [
    {
     "data": {
      "text/plain": [
       "{'name': ['MUN'], 'phone': ['010-3641-7754'], 'university': ['KNU']}"
      ]
     },
     "execution_count": 91,
     "metadata": {},
     "output_type": "execute_result"
    }
   ],
   "source": [
    "dic"
   ]
  },
  {
   "cell_type": "code",
   "execution_count": 92,
   "id": "de577fff-ab3e-4be2-80d3-559ab6913838",
   "metadata": {},
   "outputs": [],
   "source": [
    "from pandas import Series, DataFrame"
   ]
  },
  {
   "cell_type": "code",
   "execution_count": 93,
   "id": "d150916e-9892-47b1-93e4-4084766d0b5b",
   "metadata": {},
   "outputs": [
    {
     "name": "stdout",
     "output_type": "stream",
     "text": [
      "  name          phone university\n",
      "0  MUN  010-3641-7754        KNU\n"
     ]
    }
   ],
   "source": [
    "data = DataFrame(dic)\n",
    "print(data)"
   ]
  },
  {
   "cell_type": "code",
   "execution_count": 115,
   "id": "46d0507e-737a-4fc1-a7c5-02ea747c856f",
   "metadata": {},
   "outputs": [],
   "source": [
    "array = {'year' : 2023}"
   ]
  },
  {
   "cell_type": "code",
   "execution_count": 116,
   "id": "4fbd48f0-be7b-4067-8923-3f5c19f056dc",
   "metadata": {},
   "outputs": [
    {
     "data": {
      "text/plain": [
       "{'year': 2023}"
      ]
     },
     "execution_count": 116,
     "metadata": {},
     "output_type": "execute_result"
    }
   ],
   "source": [
    "array"
   ]
  },
  {
   "cell_type": "code",
   "execution_count": 117,
   "id": "389cef13-2ee4-4404-afda-f5af35b54330",
   "metadata": {},
   "outputs": [],
   "source": [
    "array.update(month = 3)"
   ]
  },
  {
   "cell_type": "code",
   "execution_count": 118,
   "id": "18d96e5a-2bfb-4687-8cfa-917eb6b202d0",
   "metadata": {},
   "outputs": [
    {
     "data": {
      "text/plain": [
       "{'year': 2023, 'month': 3}"
      ]
     },
     "execution_count": 118,
     "metadata": {},
     "output_type": "execute_result"
    }
   ],
   "source": [
    "array"
   ]
  },
  {
   "cell_type": "code",
   "execution_count": 119,
   "id": "1da2d440-79f6-4041-88ca-e8bed736d65d",
   "metadata": {},
   "outputs": [
    {
     "data": {
      "text/plain": [
       "15"
      ]
     },
     "execution_count": 119,
     "metadata": {},
     "output_type": "execute_result"
    }
   ],
   "source": [
    "array.setdefault('day', 15)"
   ]
  },
  {
   "cell_type": "code",
   "execution_count": 120,
   "id": "dee2a786-6748-4ae6-a95c-ca421f50c56f",
   "metadata": {},
   "outputs": [
    {
     "data": {
      "text/plain": [
       "{'year': 2023, 'month': 3, 'day': 15}"
      ]
     },
     "execution_count": 120,
     "metadata": {},
     "output_type": "execute_result"
    }
   ],
   "source": [
    "array"
   ]
  },
  {
   "cell_type": "code",
   "execution_count": 104,
   "id": "fcf85430-1d36-4c86-b835-5acf6de8f771",
   "metadata": {},
   "outputs": [],
   "source": [
    "array.update(year = 2024)"
   ]
  },
  {
   "cell_type": "code",
   "execution_count": 105,
   "id": "406b5cf0-8443-4d97-b770-07d5bb6de76b",
   "metadata": {},
   "outputs": [
    {
     "data": {
      "text/plain": [
       "{'year': 2024, 'month': 3, 'day': 15}"
      ]
     },
     "execution_count": 105,
     "metadata": {},
     "output_type": "execute_result"
    }
   ],
   "source": [
    "array"
   ]
  },
  {
   "cell_type": "code",
   "execution_count": 107,
   "id": "d80e6389-ee90-43a6-bfff-245311e8ffc8",
   "metadata": {},
   "outputs": [
    {
     "data": {
      "text/plain": [
       "2024"
      ]
     },
     "execution_count": 107,
     "metadata": {},
     "output_type": "execute_result"
    }
   ],
   "source": [
    "array.pop('year')"
   ]
  },
  {
   "cell_type": "code",
   "execution_count": 108,
   "id": "2508f21e-d8d8-48dd-b911-775b47f7a091",
   "metadata": {},
   "outputs": [
    {
     "data": {
      "text/plain": [
       "{'month': 3, 'day': 15}"
      ]
     },
     "execution_count": 108,
     "metadata": {},
     "output_type": "execute_result"
    }
   ],
   "source": [
    "array"
   ]
  },
  {
   "cell_type": "code",
   "execution_count": 113,
   "id": "286a6442-e72e-4eee-bcf2-2a2d6e8125d0",
   "metadata": {},
   "outputs": [],
   "source": [
    "del array['month']"
   ]
  },
  {
   "cell_type": "code",
   "execution_count": 114,
   "id": "d42e95f8-3b7c-4a66-bf46-7e103be9697c",
   "metadata": {},
   "outputs": [
    {
     "data": {
      "text/plain": [
       "{'day': 15}"
      ]
     },
     "execution_count": 114,
     "metadata": {},
     "output_type": "execute_result"
    }
   ],
   "source": [
    "array"
   ]
  },
  {
   "cell_type": "code",
   "execution_count": 121,
   "id": "0112f28b-e010-4550-8469-e7d0f4b6d525",
   "metadata": {},
   "outputs": [
    {
     "data": {
      "text/plain": [
       "dict_items([('year', 2023), ('month', 3), ('day', 15)])"
      ]
     },
     "execution_count": 121,
     "metadata": {},
     "output_type": "execute_result"
    }
   ],
   "source": [
    "array.items()"
   ]
  },
  {
   "cell_type": "code",
   "execution_count": 122,
   "id": "9cd176ce-c6ed-4eee-b6ce-04061bfd5c24",
   "metadata": {},
   "outputs": [
    {
     "data": {
      "text/plain": [
       "dict_keys(['year', 'month', 'day'])"
      ]
     },
     "execution_count": 122,
     "metadata": {},
     "output_type": "execute_result"
    }
   ],
   "source": [
    "array.keys()"
   ]
  },
  {
   "cell_type": "code",
   "execution_count": 123,
   "id": "d9d6da47-00dc-4d15-983c-a2f380f94bcc",
   "metadata": {},
   "outputs": [
    {
     "data": {
      "text/plain": [
       "dict_values([2023, 3, 15])"
      ]
     },
     "execution_count": 123,
     "metadata": {},
     "output_type": "execute_result"
    }
   ],
   "source": [
    "array.values()"
   ]
  }
 ],
 "metadata": {
  "kernelspec": {
   "display_name": "Python 3 (ipykernel)",
   "language": "python",
   "name": "python3"
  },
  "language_info": {
   "codemirror_mode": {
    "name": "ipython",
    "version": 3
   },
   "file_extension": ".py",
   "mimetype": "text/x-python",
   "name": "python",
   "nbconvert_exporter": "python",
   "pygments_lexer": "ipython3",
   "version": "3.9.12"
  }
 },
 "nbformat": 4,
 "nbformat_minor": 5
}
