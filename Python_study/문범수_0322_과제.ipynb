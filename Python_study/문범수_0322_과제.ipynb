{
 "cells": [
  {
   "cell_type": "markdown",
   "id": "d7e84b8b-2da3-43ee-a215-f8890c6873bb",
   "metadata": {},
   "source": [
    "##### object : 이메일 패턴 만들기\n",
    "##### Author : 문범수\n",
    "##### date : 2022.3.28"
   ]
  },
  {
   "cell_type": "markdown",
   "id": "b1a94364-33d6-4c6a-a6b5-718cbed297f1",
   "metadata": {},
   "source": [
    "### 복습 필수\n",
    "### 필수 과제1\n",
    "- 이메일패턴을 만들기\n",
    "- 이메일패턴의 규칙 존재\n",
    "- 구글링 말고 복습으로 만드기\n",
    "- 규칙 1. 이메일 주소는 알파벳 소문자로만 시작, 숫자로 시작할 수 없음\n",
    "- 규칙 2. 특수문자는 사용 불가\n",
    "- 규칙 3. @naver, gmail, 기업 등등, com, org, net, kr까지 모두 다 사용 가능\n",
    "- 규칙 3개를 만족하는 정규식 패턴을 만들고 실제 메일 주소를 넣었을 때 작동이 되는지 code로 작성하기."
   ]
  },
  {
   "cell_type": "code",
   "execution_count": 1,
   "id": "6f6b6f38-70ef-4a12-9fca-08bd7ca4686d",
   "metadata": {},
   "outputs": [],
   "source": [
    "import re"
   ]
  },
  {
   "cell_type": "code",
   "execution_count": 18,
   "id": "e8a81ab3-aa26-4e5e-8bc1-9d5f6715302d",
   "metadata": {},
   "outputs": [
    {
     "name": "stdin",
     "output_type": "stream",
     "text": [
      "Make new E-Mail munbeumsu@hanmail.net\n"
     ]
    },
    {
     "name": "stdout",
     "output_type": "stream",
     "text": [
      "munbeumsu@hanmail.net\n"
     ]
    }
   ],
   "source": [
    "email = input(\"Make new E-Mail\")\n",
    "\n",
    "if(re.match('^[a-z]+[a-zA-Z0-9]@[a-zA-Z0-9]+\\.[a-z]+$',email)): #영어 소문자로 시작하면서 특수문자는 사용 불가능하고, @ 형식 및 도메인 형식 준수만 가능하도록 설계\n",
    "    print(email)\n",
    "\n",
    "else:\n",
    "    print(\"Wrong email pattern\")"
   ]
  },
  {
   "cell_type": "code",
   "execution_count": null,
   "id": "949dff5d-cb52-49a9-a249-96393af2db0b",
   "metadata": {},
   "outputs": [],
   "source": []
  }
 ],
 "metadata": {
  "kernelspec": {
   "display_name": "Python 3 (ipykernel)",
   "language": "python",
   "name": "python3"
  },
  "language_info": {
   "codemirror_mode": {
    "name": "ipython",
    "version": 3
   },
   "file_extension": ".py",
   "mimetype": "text/x-python",
   "name": "python",
   "nbconvert_exporter": "python",
   "pygments_lexer": "ipython3",
   "version": "3.9.12"
  }
 },
 "nbformat": 4,
 "nbformat_minor": 5
}
