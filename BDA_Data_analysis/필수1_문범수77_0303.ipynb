{
 "cells": [
  {
   "cell_type": "markdown",
   "id": "e3426af0-be4a-4a20-96ee-f0cafe96db38",
   "metadata": {},
   "source": [
    "##### Author : 문범수\n",
    "##### date : 2024-03-03\n",
    "##### title : 03/03 필수과제1"
   ]
  },
  {
   "cell_type": "markdown",
   "id": "b144d698-727c-41a9-8a85-65547a05df70",
   "metadata": {},
   "source": [
    "## 필수과제1\n",
    "- 정규분포와 비슷한 컬럼을 추가하여 \n",
    "- 기존 데이터 df casual, cnt ,[정규분포와 비슷한 추가컬럼] 을 통해서 - r2, rmse, 확인해 주세요.\n",
    "- 정규분포와 비슷하지 않은 컬럼 추가하여\n",
    "- 기존 데이터 df casual, cnt ,[정규분포와 비슷하지 않은 추가컬럼] 을 통해서 - r2, rmse, 확인해 주세요.\n",
    "- 컴퓨터 성능 이슈로 인한 임의의 소규모 데이터 생성 후 실습 진행"
   ]
  },
  {
   "cell_type": "code",
   "execution_count": 3,
   "id": "9ee7198b-5b10-4288-97a5-eda3756c8a0c",
   "metadata": {},
   "outputs": [],
   "source": [
    "import pandas as pd\n",
    "import numpy as np\n",
    "from sklearn.linear_model import LinearRegression\n",
    "from sklearn.metrics import r2_score, mean_squared_error\n",
    "from scipy.stats import norm, boxcox"
   ]
  },
  {
   "cell_type": "code",
   "execution_count": 4,
   "id": "092e2bac-75dc-4b77-a88e-9122f72a0dce",
   "metadata": {},
   "outputs": [],
   "source": [
    "# 예시를 위해 임의의 데이터프레임 생성\n",
    "np.random.seed(0)\n",
    "data = {'casual': np.random.randint(0, 100, 100),\n",
    "        'cnt': np.random.randint(50, 200, 100)}\n",
    "df = pd.DataFrame(data)"
   ]
  },
  {
   "cell_type": "code",
   "execution_count": 5,
   "id": "c8131b38-04e7-4c40-96c0-2eeb4e647803",
   "metadata": {},
   "outputs": [],
   "source": [
    "# 정규분포와 비슷한 컬럼 추가\n",
    "df['normal_column'] = np.random.normal(loc=100, scale=20, size=len(df))\n",
    "\n",
    "# 정규분포와 비슷하지 않은 컬럼 추가\n",
    "df['non_normal_column'] = np.random.uniform(low=0, high=200, size=len(df))"
   ]
  },
  {
   "cell_type": "code",
   "execution_count": 6,
   "id": "82d69ecf-cf7d-4587-a260-9a21d335c3a1",
   "metadata": {},
   "outputs": [],
   "source": [
    "# 정규분포와 비슷한 컬럼을 사용하여 선형 회귀 모델 학습\n",
    "X_normal = df[['casual', 'normal_column']]\n",
    "y = df['cnt']\n",
    "model_normal = LinearRegression().fit(X_normal, y)\n",
    "y_pred_normal = model_normal.predict(X_normal)\n",
    "r2_normal = r2_score(y, y_pred_normal)\n",
    "rmse_normal = np.sqrt(mean_squared_error(y, y_pred_normal))"
   ]
  },
  {
   "cell_type": "code",
   "execution_count": 7,
   "id": "96babc07-9ae4-4a66-a77d-e63c828bb24b",
   "metadata": {},
   "outputs": [],
   "source": [
    "# 정규분포와 비슷하지 않은 컬럼을 사용하여 선형 회귀 모델 학습\n",
    "X_non_normal = df[['casual', 'non_normal_column']]\n",
    "model_non_normal = LinearRegression().fit(X_non_normal, y)\n",
    "y_pred_non_normal = model_non_normal.predict(X_non_normal)\n",
    "r2_non_normal = r2_score(y, y_pred_non_normal)\n",
    "rmse_non_normal = np.sqrt(mean_squared_error(y, y_pred_non_normal))"
   ]
  },
  {
   "cell_type": "code",
   "execution_count": 8,
   "id": "15126e38-ee3f-42d0-a96b-b391956d57f2",
   "metadata": {},
   "outputs": [
    {
     "name": "stdout",
     "output_type": "stream",
     "text": [
      "Using columns with normal distribution-like properties:\n",
      "R-squared: 0.07276342661701163\n",
      "RMSE: 42.10668749505873\n",
      "\n",
      "Using columns without normal distribution-like properties:\n",
      "R-squared: 0.06412829754271199\n",
      "RMSE: 42.30229781115999\n"
     ]
    }
   ],
   "source": [
    "print(\"Using columns with normal distribution-like properties:\")\n",
    "print(\"R-squared:\", r2_normal)\n",
    "print(\"RMSE:\", rmse_normal)\n",
    "\n",
    "print(\"\\nUsing columns without normal distribution-like properties:\")\n",
    "print(\"R-squared:\", r2_non_normal)\n",
    "print(\"RMSE:\", rmse_non_normal)"
   ]
  },
  {
   "cell_type": "code",
   "execution_count": 9,
   "id": "6e257339-2b4e-43f3-9e08-131bdb45dcd4",
   "metadata": {},
   "outputs": [],
   "source": [
    "# Box-Cox 변환을 통해 정규분포와 비슷하지 않은 컬럼 변환\n",
    "df['non_normal_column_boxcox'], _ = boxcox(df['non_normal_column'] + 1)  # +1을 해줘서 0 값이 되지 않도록 함\n",
    "\n",
    "# Box-Cox 변환된 값을 실제 값으로 되돌리기\n",
    "df['non_normal_column_back'] = np.power(df['non_normal_column_boxcox'], 1/2)  # Box-Cox 변환의 역함수는 x^(1/lambda)"
   ]
  },
  {
   "cell_type": "code",
   "execution_count": 10,
   "id": "07913d9f-5cb1-4e3b-b408-a9650cebad8c",
   "metadata": {},
   "outputs": [],
   "source": [
    "# 변환된 컬럼을 사용하여 선형 회귀 모델 학습\n",
    "X_boxcox = df[['casual', 'non_normal_column_boxcox']]\n",
    "model_boxcox = LinearRegression().fit(X_boxcox, y)\n",
    "y_pred_boxcox = model_boxcox.predict(X_boxcox)\n",
    "r2_boxcox = r2_score(y, y_pred_boxcox)\n",
    "rmse_boxcox = np.sqrt(mean_squared_error(y, y_pred_boxcox))"
   ]
  },
  {
   "cell_type": "code",
   "execution_count": 11,
   "id": "14ae4d91-e65d-4e34-af05-72c45409dda2",
   "metadata": {},
   "outputs": [
    {
     "name": "stdout",
     "output_type": "stream",
     "text": [
      "\n",
      "Using Box-Cox transformed column:\n",
      "R-squared: 0.05982398760533714\n",
      "RMSE: 42.39946568147162\n",
      "\n",
      "Actual values vs. Box-Cox transformed values:\n",
      "   non_normal_column  non_normal_column_boxcox  non_normal_column_back\n",
      "0         192.314031                 46.394278                6.811335\n",
      "1          46.340325                 17.552422                4.189561\n",
      "2         189.863764                 45.995817                6.782022\n",
      "3         188.275541                 45.736598                6.762884\n",
      "4         159.840517                 40.959382                6.399952\n"
     ]
    }
   ],
   "source": [
    "print(\"\\nUsing Box-Cox transformed column:\")\n",
    "print(\"R-squared:\", r2_boxcox)\n",
    "print(\"RMSE:\", rmse_boxcox)\n",
    "\n",
    "# 실제 값과 변환된 값 비교\n",
    "print(\"\\nActual values vs. Box-Cox transformed values:\")\n",
    "print(df[['non_normal_column', 'non_normal_column_boxcox', 'non_normal_column_back']].head())"
   ]
  },
  {
   "cell_type": "code",
   "execution_count": null,
   "id": "f560e145-592e-4eff-8d84-facc01337f5c",
   "metadata": {},
   "outputs": [],
   "source": []
  }
 ],
 "metadata": {
  "kernelspec": {
   "display_name": "Python 3 (ipykernel)",
   "language": "python",
   "name": "python3"
  },
  "language_info": {
   "codemirror_mode": {
    "name": "ipython",
    "version": 3
   },
   "file_extension": ".py",
   "mimetype": "text/x-python",
   "name": "python",
   "nbconvert_exporter": "python",
   "pygments_lexer": "ipython3",
   "version": "3.9.18"
  }
 },
 "nbformat": 4,
 "nbformat_minor": 5
}
