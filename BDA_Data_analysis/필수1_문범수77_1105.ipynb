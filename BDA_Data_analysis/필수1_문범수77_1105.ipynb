{
 "cells": [
  {
   "cell_type": "markdown",
   "id": "6b4ec982-6dc5-4680-b5f3-5eae33ed609b",
   "metadata": {},
   "source": [
    "#### Author : 문범수\n",
    "#### date : 2023-11-01\n",
    "#### title : 1105 과제"
   ]
  },
  {
   "cell_type": "markdown",
   "id": "f60af271-40dc-4655-be09-4dca09de69b1",
   "metadata": {},
   "source": [
    "### 필수과제1\n",
    "- 시리즈 형태 문법을 직접 작성해서 값이 어떻게 나오는지 확인하기 ( 위의 적힌 문법들 )\n",
    "- 구글링을 통해 위의 문법 외에 최소 3개 이상 정도 검색해서 해당 문법 설명과 코드 작성해서 표현하기"
   ]
  },
  {
   "cell_type": "code",
   "execution_count": 1,
   "id": "146d19bb-de73-4354-a504-61dc81588575",
   "metadata": {},
   "outputs": [],
   "source": [
    "import pandas as pd\n",
    "import numpy as np\n",
    "import matplotlib.pyplot as plt"
   ]
  },
  {
   "cell_type": "code",
   "execution_count": 2,
   "id": "5dc2bfd2-dbe1-41e1-b934-aac69b6704a5",
   "metadata": {},
   "outputs": [
    {
     "data": {
      "text/html": [
       "<div>\n",
       "<style scoped>\n",
       "    .dataframe tbody tr th:only-of-type {\n",
       "        vertical-align: middle;\n",
       "    }\n",
       "\n",
       "    .dataframe tbody tr th {\n",
       "        vertical-align: top;\n",
       "    }\n",
       "\n",
       "    .dataframe thead th {\n",
       "        text-align: right;\n",
       "    }\n",
       "</style>\n",
       "<table border=\"1\" class=\"dataframe\">\n",
       "  <thead>\n",
       "    <tr style=\"text-align: right;\">\n",
       "      <th></th>\n",
       "      <th>country</th>\n",
       "      <th>continent</th>\n",
       "      <th>year</th>\n",
       "      <th>lifeExp</th>\n",
       "      <th>pop</th>\n",
       "      <th>gdpPercap</th>\n",
       "    </tr>\n",
       "  </thead>\n",
       "  <tbody>\n",
       "    <tr>\n",
       "      <th>0</th>\n",
       "      <td>Afghanistan</td>\n",
       "      <td>Asia</td>\n",
       "      <td>1952</td>\n",
       "      <td>28.801</td>\n",
       "      <td>8425333</td>\n",
       "      <td>779.445314</td>\n",
       "    </tr>\n",
       "    <tr>\n",
       "      <th>1</th>\n",
       "      <td>Afghanistan</td>\n",
       "      <td>Asia</td>\n",
       "      <td>1957</td>\n",
       "      <td>30.332</td>\n",
       "      <td>9240934</td>\n",
       "      <td>820.853030</td>\n",
       "    </tr>\n",
       "    <tr>\n",
       "      <th>2</th>\n",
       "      <td>Afghanistan</td>\n",
       "      <td>Asia</td>\n",
       "      <td>1962</td>\n",
       "      <td>31.997</td>\n",
       "      <td>10267083</td>\n",
       "      <td>853.100710</td>\n",
       "    </tr>\n",
       "    <tr>\n",
       "      <th>3</th>\n",
       "      <td>Afghanistan</td>\n",
       "      <td>Asia</td>\n",
       "      <td>1967</td>\n",
       "      <td>34.020</td>\n",
       "      <td>11537966</td>\n",
       "      <td>836.197138</td>\n",
       "    </tr>\n",
       "    <tr>\n",
       "      <th>4</th>\n",
       "      <td>Afghanistan</td>\n",
       "      <td>Asia</td>\n",
       "      <td>1972</td>\n",
       "      <td>36.088</td>\n",
       "      <td>13079460</td>\n",
       "      <td>739.981106</td>\n",
       "    </tr>\n",
       "    <tr>\n",
       "      <th>...</th>\n",
       "      <td>...</td>\n",
       "      <td>...</td>\n",
       "      <td>...</td>\n",
       "      <td>...</td>\n",
       "      <td>...</td>\n",
       "      <td>...</td>\n",
       "    </tr>\n",
       "    <tr>\n",
       "      <th>1699</th>\n",
       "      <td>Zimbabwe</td>\n",
       "      <td>Africa</td>\n",
       "      <td>1987</td>\n",
       "      <td>62.351</td>\n",
       "      <td>9216418</td>\n",
       "      <td>706.157306</td>\n",
       "    </tr>\n",
       "    <tr>\n",
       "      <th>1700</th>\n",
       "      <td>Zimbabwe</td>\n",
       "      <td>Africa</td>\n",
       "      <td>1992</td>\n",
       "      <td>60.377</td>\n",
       "      <td>10704340</td>\n",
       "      <td>693.420786</td>\n",
       "    </tr>\n",
       "    <tr>\n",
       "      <th>1701</th>\n",
       "      <td>Zimbabwe</td>\n",
       "      <td>Africa</td>\n",
       "      <td>1997</td>\n",
       "      <td>46.809</td>\n",
       "      <td>11404948</td>\n",
       "      <td>792.449960</td>\n",
       "    </tr>\n",
       "    <tr>\n",
       "      <th>1702</th>\n",
       "      <td>Zimbabwe</td>\n",
       "      <td>Africa</td>\n",
       "      <td>2002</td>\n",
       "      <td>39.989</td>\n",
       "      <td>11926563</td>\n",
       "      <td>672.038623</td>\n",
       "    </tr>\n",
       "    <tr>\n",
       "      <th>1703</th>\n",
       "      <td>Zimbabwe</td>\n",
       "      <td>Africa</td>\n",
       "      <td>2007</td>\n",
       "      <td>43.487</td>\n",
       "      <td>12311143</td>\n",
       "      <td>469.709298</td>\n",
       "    </tr>\n",
       "  </tbody>\n",
       "</table>\n",
       "<p>1704 rows × 6 columns</p>\n",
       "</div>"
      ],
      "text/plain": [
       "          country continent  year  lifeExp       pop   gdpPercap\n",
       "0     Afghanistan      Asia  1952   28.801   8425333  779.445314\n",
       "1     Afghanistan      Asia  1957   30.332   9240934  820.853030\n",
       "2     Afghanistan      Asia  1962   31.997  10267083  853.100710\n",
       "3     Afghanistan      Asia  1967   34.020  11537966  836.197138\n",
       "4     Afghanistan      Asia  1972   36.088  13079460  739.981106\n",
       "...           ...       ...   ...      ...       ...         ...\n",
       "1699     Zimbabwe    Africa  1987   62.351   9216418  706.157306\n",
       "1700     Zimbabwe    Africa  1992   60.377  10704340  693.420786\n",
       "1701     Zimbabwe    Africa  1997   46.809  11404948  792.449960\n",
       "1702     Zimbabwe    Africa  2002   39.989  11926563  672.038623\n",
       "1703     Zimbabwe    Africa  2007   43.487  12311143  469.709298\n",
       "\n",
       "[1704 rows x 6 columns]"
      ]
     },
     "execution_count": 2,
     "metadata": {},
     "output_type": "execute_result"
    }
   ],
   "source": [
    "df_gm = pd.read_csv('gapminder.tsv', sep='\\t')\n",
    "df_gm"
   ]
  },
  {
   "cell_type": "code",
   "execution_count": 3,
   "id": "bfbaf57c-fc5a-42c5-8f9e-befc496dfb85",
   "metadata": {},
   "outputs": [
    {
     "name": "stdout",
     "output_type": "stream",
     "text": [
      "<class 'pandas.core.series.Series'>\n"
     ]
    }
   ],
   "source": [
    "gm_lifeExp = df_gm['lifeExp']\n",
    "print(type(gm_lifeExp))"
   ]
  },
  {
   "cell_type": "code",
   "execution_count": 4,
   "id": "e6c4a321-58bc-4a65-a65e-8d082f50ce18",
   "metadata": {},
   "outputs": [
    {
     "data": {
      "text/plain": [
       "0       28.801\n",
       "1       30.332\n",
       "2       31.997\n",
       "3       34.020\n",
       "4       36.088\n",
       "         ...  \n",
       "1699    62.351\n",
       "1700    60.377\n",
       "1701    46.809\n",
       "1702    39.989\n",
       "1703    43.487\n",
       "Name: lifeExp, Length: 1704, dtype: float64"
      ]
     },
     "execution_count": 4,
     "metadata": {},
     "output_type": "execute_result"
    }
   ],
   "source": [
    "gm_lifeExp"
   ]
  },
  {
   "cell_type": "code",
   "execution_count": 5,
   "id": "8f9ec93e-42ee-40d3-aecb-351a085d2099",
   "metadata": {},
   "outputs": [
    {
     "data": {
      "text/plain": [
       "23.599"
      ]
     },
     "execution_count": 5,
     "metadata": {},
     "output_type": "execute_result"
    }
   ],
   "source": [
    "gm_lifeExp.min()"
   ]
  },
  {
   "cell_type": "code",
   "execution_count": 6,
   "id": "5ba85fe9-4d5d-4066-b05b-5dd7771db1cb",
   "metadata": {},
   "outputs": [
    {
     "data": {
      "text/plain": [
       "82.603"
      ]
     },
     "execution_count": 6,
     "metadata": {},
     "output_type": "execute_result"
    }
   ],
   "source": [
    "gm_lifeExp.max()"
   ]
  },
  {
   "cell_type": "code",
   "execution_count": 7,
   "id": "55284d9b-f3ef-4dfd-8102-c0c514d5f106",
   "metadata": {},
   "outputs": [
    {
     "data": {
      "text/plain": [
       "60.7125"
      ]
     },
     "execution_count": 7,
     "metadata": {},
     "output_type": "execute_result"
    }
   ],
   "source": [
    "gm_lifeExp.median()"
   ]
  },
  {
   "cell_type": "code",
   "execution_count": 8,
   "id": "517721d2-f977-4025-a0cf-ee32bdbb68b6",
   "metadata": {},
   "outputs": [
    {
     "data": {
      "text/plain": [
       "12.917107415241187"
      ]
     },
     "execution_count": 8,
     "metadata": {},
     "output_type": "execute_result"
    }
   ],
   "source": [
    "gm_lifeExp.std()"
   ]
  },
  {
   "cell_type": "code",
   "execution_count": 9,
   "id": "1e79ba25-dd0c-413d-af60-8bc70ef46dcc",
   "metadata": {},
   "outputs": [
    {
     "name": "stderr",
     "output_type": "stream",
     "text": [
      "C:\\Users\\munbe\\AppData\\Local\\Temp\\ipykernel_1808\\3374082484.py:2: FutureWarning: The series.append method is deprecated and will be removed from pandas in a future version. Use pandas.concat instead.\n",
      "  gm_lifeExp = gm_lifeExp.append(pd.Series([12.345, 34.567, 56.789], index=[1704, 1705, 1706]))\n"
     ]
    },
    {
     "data": {
      "text/plain": [
       "0       28.801\n",
       "1       30.332\n",
       "2       31.997\n",
       "3       34.020\n",
       "4       36.088\n",
       "         ...  \n",
       "1702    39.989\n",
       "1703    43.487\n",
       "1704    12.345\n",
       "1705    34.567\n",
       "1706    56.789\n",
       "Length: 1707, dtype: float64"
      ]
     },
     "execution_count": 9,
     "metadata": {},
     "output_type": "execute_result"
    }
   ],
   "source": [
    "#append는 pandas 2.0부터 삭제\n",
    "gm_lifeExp = gm_lifeExp.append(pd.Series([12.345, 34.567, 56.789], index=[1704, 1705, 1706]))\n",
    "gm_lifeExp"
   ]
  },
  {
   "cell_type": "code",
   "execution_count": 10,
   "id": "d2894a2a-36d0-49f1-9235-2725db27dee8",
   "metadata": {},
   "outputs": [
    {
     "data": {
      "text/plain": [
       "count    1707.000000\n",
       "mean       59.430665\n",
       "std        12.970204\n",
       "min        12.345000\n",
       "25%        48.143000\n",
       "50%        60.542000\n",
       "75%        70.840500\n",
       "max        82.603000\n",
       "dtype: float64"
      ]
     },
     "execution_count": 10,
     "metadata": {},
     "output_type": "execute_result"
    }
   ],
   "source": [
    "gm_lifeExp.describe()"
   ]
  },
  {
   "cell_type": "code",
   "execution_count": 11,
   "id": "c055a174-f863-4972-b4b9-fd455305c172",
   "metadata": {},
   "outputs": [
    {
     "data": {
      "text/plain": [
       "0         Asia\n",
       "12      Europe\n",
       "24      Africa\n",
       "48    Americas\n",
       "60     Oceania\n",
       "Name: continent, dtype: object"
      ]
     },
     "execution_count": 11,
     "metadata": {},
     "output_type": "execute_result"
    }
   ],
   "source": [
    "gm_continent = df_gm['continent']\n",
    "gm_continent.drop_duplicates()"
   ]
  },
  {
   "cell_type": "code",
   "execution_count": 13,
   "id": "3aada1f0-c7bc-47e0-9e58-3e92364b3f78",
   "metadata": {},
   "outputs": [
    {
     "data": {
      "text/plain": [
       "1704    12.345\n",
       "1292    23.599\n",
       "0       28.801\n",
       "552     30.000\n",
       "36      30.015\n",
       "         ...  \n",
       "1487    81.701\n",
       "695     81.757\n",
       "802     82.000\n",
       "671     82.208\n",
       "803     82.603\n",
       "Length: 1707, dtype: float64"
      ]
     },
     "execution_count": 13,
     "metadata": {},
     "output_type": "execute_result"
    }
   ],
   "source": [
    "gm_lifeExp.sort_values()"
   ]
  },
  {
   "cell_type": "code",
   "execution_count": 14,
   "id": "4b060061-1254-492d-8800-6971da9e6122",
   "metadata": {},
   "outputs": [
    {
     "data": {
      "text/html": [
       "<div>\n",
       "<style scoped>\n",
       "    .dataframe tbody tr th:only-of-type {\n",
       "        vertical-align: middle;\n",
       "    }\n",
       "\n",
       "    .dataframe tbody tr th {\n",
       "        vertical-align: top;\n",
       "    }\n",
       "\n",
       "    .dataframe thead th {\n",
       "        text-align: right;\n",
       "    }\n",
       "</style>\n",
       "<table border=\"1\" class=\"dataframe\">\n",
       "  <thead>\n",
       "    <tr style=\"text-align: right;\">\n",
       "      <th></th>\n",
       "      <th>lifeExp</th>\n",
       "    </tr>\n",
       "  </thead>\n",
       "  <tbody>\n",
       "    <tr>\n",
       "      <th>0</th>\n",
       "      <td>28.801</td>\n",
       "    </tr>\n",
       "    <tr>\n",
       "      <th>1</th>\n",
       "      <td>30.332</td>\n",
       "    </tr>\n",
       "    <tr>\n",
       "      <th>2</th>\n",
       "      <td>31.997</td>\n",
       "    </tr>\n",
       "    <tr>\n",
       "      <th>3</th>\n",
       "      <td>34.020</td>\n",
       "    </tr>\n",
       "    <tr>\n",
       "      <th>4</th>\n",
       "      <td>36.088</td>\n",
       "    </tr>\n",
       "    <tr>\n",
       "      <th>...</th>\n",
       "      <td>...</td>\n",
       "    </tr>\n",
       "    <tr>\n",
       "      <th>1675</th>\n",
       "      <td>52.922</td>\n",
       "    </tr>\n",
       "    <tr>\n",
       "      <th>1676</th>\n",
       "      <td>55.599</td>\n",
       "    </tr>\n",
       "    <tr>\n",
       "      <th>1677</th>\n",
       "      <td>58.020</td>\n",
       "    </tr>\n",
       "    <tr>\n",
       "      <th>1678</th>\n",
       "      <td>60.308</td>\n",
       "    </tr>\n",
       "    <tr>\n",
       "      <th>1679</th>\n",
       "      <td>62.698</td>\n",
       "    </tr>\n",
       "  </tbody>\n",
       "</table>\n",
       "<p>396 rows × 1 columns</p>\n",
       "</div>"
      ],
      "text/plain": [
       "      lifeExp\n",
       "0      28.801\n",
       "1      30.332\n",
       "2      31.997\n",
       "3      34.020\n",
       "4      36.088\n",
       "...       ...\n",
       "1675   52.922\n",
       "1676   55.599\n",
       "1677   58.020\n",
       "1678   60.308\n",
       "1679   62.698\n",
       "\n",
       "[396 rows x 1 columns]"
      ]
     },
     "execution_count": 14,
     "metadata": {},
     "output_type": "execute_result"
    }
   ],
   "source": [
    "stod = df_gm[df_gm['continent'] == 'Asia']['lifeExp'].to_frame()\n",
    "stod"
   ]
  },
  {
   "cell_type": "code",
   "execution_count": 15,
   "id": "fbc493f8-a713-4d63-862c-d1c8f0e3385d",
   "metadata": {},
   "outputs": [
    {
     "data": {
      "text/plain": [
       "0         Asia\n",
       "12      Europe\n",
       "24      Africa\n",
       "48    Americas\n",
       "60     Oceania\n",
       "Name: continent, dtype: object"
      ]
     },
     "execution_count": 15,
     "metadata": {},
     "output_type": "execute_result"
    }
   ],
   "source": [
    "gm_continent = gm_continent.drop_duplicates()\n",
    "gm_continent"
   ]
  },
  {
   "cell_type": "code",
   "execution_count": 16,
   "id": "4e4be6a2-3f8c-4843-9c6f-8fcb75b67f6e",
   "metadata": {},
   "outputs": [
    {
     "data": {
      "text/plain": [
       "0        Asia\n",
       "12     Europe\n",
       "24     Africa\n",
       "48    America\n",
       "60    Oceania\n",
       "Name: continent, dtype: object"
      ]
     },
     "execution_count": 16,
     "metadata": {},
     "output_type": "execute_result"
    }
   ],
   "source": [
    "#문자열을 대체하는 함수 replace -> Series.replace('현재 문자열', '바꿀 문자열')\n",
    "#Series 원본을 바꿀 때는 inplace=True 추가\n",
    "gm_continent2 = gm_continent.replace('Americas', 'America')\n",
    "gm_continent2"
   ]
  },
  {
   "cell_type": "code",
   "execution_count": 17,
   "id": "7a26ef3d-0b87-4355-a266-0815a4016a20",
   "metadata": {},
   "outputs": [
    {
     "name": "stdout",
     "output_type": "stream",
     "text": [
      "24      Africa\n",
      "60     Oceania\n",
      "48    Americas\n",
      "Name: continent, dtype: object\n"
     ]
    }
   ],
   "source": [
    "#임의의 행을 선택하는 함수 sample -> Series.sample(선택할 행 개수)\n",
    "print(gm_continent.sample(3))"
   ]
  },
  {
   "cell_type": "code",
   "execution_count": 18,
   "id": "f47ba145-0e6d-4c23-9d72-a212f395587a",
   "metadata": {},
   "outputs": [
    {
     "name": "stdout",
     "output_type": "stream",
     "text": [
      "False\n"
     ]
    }
   ],
   "source": [
    "#두 series가 같은지 확인하는 함수 equals ->  Series1.equals(series2)\n",
    "print(gm_continent.equals(gm_continent2))"
   ]
  },
  {
   "cell_type": "code",
   "execution_count": null,
   "id": "b7384afe-5495-4ba1-925c-d2e34cb0e363",
   "metadata": {},
   "outputs": [],
   "source": []
  }
 ],
 "metadata": {
  "kernelspec": {
   "display_name": "Python 3 (ipykernel)",
   "language": "python",
   "name": "python3"
  },
  "language_info": {
   "codemirror_mode": {
    "name": "ipython",
    "version": 3
   },
   "file_extension": ".py",
   "mimetype": "text/x-python",
   "name": "python",
   "nbconvert_exporter": "python",
   "pygments_lexer": "ipython3",
   "version": "3.9.18"
  }
 },
 "nbformat": 4,
 "nbformat_minor": 5
}
