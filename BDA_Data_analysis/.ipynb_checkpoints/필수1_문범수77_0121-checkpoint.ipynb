{
 "cells": [
  {
   "cell_type": "markdown",
   "id": "7accad53-7e32-4fe3-bbcc-301804a1dcf0",
   "metadata": {},
   "source": [
    "#### Author : 문범수\n",
    "#### date : 2024-01-21\n",
    "#### title : 0121 필수과제1"
   ]
  },
  {
   "cell_type": "markdown",
   "id": "f493ed27-a0c6-4b0c-8a38-393154a4ae18",
   "metadata": {},
   "source": [
    "### 필수과제 1\n",
    "\n",
    "- 영문데이터를 가지고 실제 대소문자를 바꿔보는 str문법 적용하기\n",
    "- 그 외에 split, 아래에 배우는 find 등 다양한 문법에도 응용!"
   ]
  },
  {
   "cell_type": "code",
   "execution_count": 1,
   "id": "5b30cc49-ffb7-431a-8243-564abe2b40a7",
   "metadata": {},
   "outputs": [
    {
     "name": "stdout",
     "output_type": "stream",
     "text": [
      "Original: hello, world! how are you?\n",
      "Title Case: Hello, World! How Are You?\n"
     ]
    }
   ],
   "source": [
    "original_text = \"hello, world! how are you?\"\n",
    "title_case_text = original_text.title()\n",
    "\n",
    "print(\"Original:\", original_text)\n",
    "print(\"Title Case:\", title_case_text)\n"
   ]
  },
  {
   "cell_type": "code",
   "execution_count": 2,
   "id": "8daa513d-0c14-4cd5-906f-0bcf9988612d",
   "metadata": {},
   "outputs": [
    {
     "name": "stdout",
     "output_type": "stream",
     "text": [
      "Original words: ['apple', 'orange', 'banana']\n",
      "Joined and Capitalized: Apple, orange, banana\n"
     ]
    }
   ],
   "source": [
    "words = [\"apple\", \"orange\", \"banana\"]\n",
    "joined_text = \", \".join(words).capitalize()\n",
    "\n",
    "print(\"Original words:\", words)\n",
    "print(\"Joined and Capitalized:\", joined_text)\n"
   ]
  },
  {
   "cell_type": "code",
   "execution_count": 3,
   "id": "e2d960f9-dae4-4741-9d32-57bd5dd58049",
   "metadata": {},
   "outputs": [
    {
     "name": "stdout",
     "output_type": "stream",
     "text": [
      "Original sentence: I like programming in Python.\n",
      "Replaced sentence: I like programming in JavaScript.\n",
      "Split sentence: ['I', 'like', 'programming', 'in', 'Python.']\n"
     ]
    }
   ],
   "source": [
    "sentence = \"I like programming in Python.\"\n",
    "replaced_sentence = sentence.replace(\"Python\", \"JavaScript\")\n",
    "split_sentence = sentence.split(\" \")\n",
    "\n",
    "print(\"Original sentence:\", sentence)\n",
    "print(\"Replaced sentence:\", replaced_sentence)\n",
    "print(\"Split sentence:\", split_sentence)\n"
   ]
  },
  {
   "cell_type": "code",
   "execution_count": 4,
   "id": "53d3b956-ddd7-40ef-b7c3-35f7e71c0d8b",
   "metadata": {},
   "outputs": [
    {
     "name": "stdout",
     "output_type": "stream",
     "text": [
      "example.txt is a text file.\n"
     ]
    }
   ],
   "source": [
    "filename = \"example.txt\"\n",
    "\n",
    "if filename.endswith(\".txt\"):\n",
    "    print(f\"{filename} is a text file.\")\n",
    "else:\n",
    "    print(f\"{filename} is not a text file.\")\n"
   ]
  },
  {
   "cell_type": "code",
   "execution_count": 5,
   "id": "1de83fb2-70a1-4850-8fed-b7e56d87482f",
   "metadata": {},
   "outputs": [
    {
     "name": "stdout",
     "output_type": "stream",
     "text": [
      "Messy text:    This is a messy text with extra spaces.   \n",
      "Cleaned text: This is a messy text with extra spaces.\n"
     ]
    }
   ],
   "source": [
    "messy_text = \"   This is a messy text with extra spaces.   \"\n",
    "cleaned_text = messy_text.strip()\n",
    "\n",
    "print(\"Messy text:\", messy_text)\n",
    "print(\"Cleaned text:\", cleaned_text)\n"
   ]
  },
  {
   "cell_type": "code",
   "execution_count": null,
   "id": "6d4639d0-7890-41f5-bb7f-0df206d586a6",
   "metadata": {},
   "outputs": [],
   "source": []
  }
 ],
 "metadata": {
  "kernelspec": {
   "display_name": "Python 3 (ipykernel)",
   "language": "python",
   "name": "python3"
  },
  "language_info": {
   "codemirror_mode": {
    "name": "ipython",
    "version": 3
   },
   "file_extension": ".py",
   "mimetype": "text/x-python",
   "name": "python",
   "nbconvert_exporter": "python",
   "pygments_lexer": "ipython3",
   "version": "3.9.18"
  }
 },
 "nbformat": 4,
 "nbformat_minor": 5
}
