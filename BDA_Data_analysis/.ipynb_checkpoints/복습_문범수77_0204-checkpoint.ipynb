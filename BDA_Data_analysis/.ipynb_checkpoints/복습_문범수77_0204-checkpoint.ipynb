{
 "cells": [
  {
   "cell_type": "markdown",
   "id": "64e7f8fb-bd63-415a-83cc-d53e5938d1ff",
   "metadata": {},
   "source": [
    "##### Author : 문범수\n",
    "##### date : 2024-02-04\n",
    "##### title : 02/04수업 복습"
   ]
  },
  {
   "cell_type": "code",
   "execution_count": 2,
   "id": "90205f0b",
   "metadata": {},
   "outputs": [],
   "source": [
    "import pandas as pd\n",
    "import numpy as np\n",
    "\n",
    "df = pd.read_csv('movie_rv.csv')"
   ]
  },
  {
   "cell_type": "code",
   "execution_count": 3,
   "id": "34b3e649",
   "metadata": {},
   "outputs": [
    {
     "data": {
      "text/plain": [
       "Unnamed: 0    0\n",
       "id            0\n",
       "document      5\n",
       "label         0\n",
       "dtype: int64"
      ]
     },
     "execution_count": 3,
     "metadata": {},
     "output_type": "execute_result"
    }
   ],
   "source": [
    "df.isna().sum()"
   ]
  },
  {
   "cell_type": "code",
   "execution_count": 4,
   "id": "c5fdca8b",
   "metadata": {},
   "outputs": [],
   "source": [
    "#na값 처리\n",
    "df['document'] = df['document'].fillna(0)\n",
    "df['document'] = df['document'].astype(str)\n",
    "\n",
    "#df['document'].iloc[:10000]"
   ]
  },
  {
   "cell_type": "code",
   "execution_count": 5,
   "id": "a40b87b6",
   "metadata": {},
   "outputs": [],
   "source": [
    "df_docu_sp2=df['document'].iloc[:50000]"
   ]
  },
  {
   "cell_type": "code",
   "execution_count": 6,
   "id": "de7e4c12",
   "metadata": {},
   "outputs": [
    {
     "data": {
      "text/plain": [
       "0                                      아 더빙.. 진짜 짜증나네요 목소리\n",
       "1                        흠...포스터보고 초딩영화줄....오버연기조차 가볍지 않구나\n",
       "2                                        너무재밓었다그래서보는것을추천한다\n",
       "3                            교도소 이야기구먼 ..솔직히 재미는 없다..평점 조정\n",
       "4        사이몬페그의 익살스런 연기가 돋보였던 영화!스파이더맨에서 늙어보이기만 했던 커스틴 ...\n",
       "                               ...                        \n",
       "49995    \"이게 소위 스페인식 Neo-realism 이란 건가? - 물론, \"\"아동 판타지\"...\n",
       "49996                                     보지마셈 저 믿으세요 보지마셈\n",
       "49997                                                 최고졸작\n",
       "49998                                    재밌고 좋았음 10자 쓰라고?!\n",
       "49999                                 소박하지만 잔잔한 감동을 주는 영화.\n",
       "Name: document, Length: 50000, dtype: object"
      ]
     },
     "execution_count": 6,
     "metadata": {},
     "output_type": "execute_result"
    }
   ],
   "source": [
    "df_docu_sp2"
   ]
  },
  {
   "cell_type": "code",
   "execution_count": 7,
   "id": "9a7c048b",
   "metadata": {},
   "outputs": [
    {
     "data": {
      "text/plain": [
       "0"
      ]
     },
     "execution_count": 7,
     "metadata": {},
     "output_type": "execute_result"
    }
   ],
   "source": [
    "df_docu_sp2.isna().sum()"
   ]
  },
  {
   "cell_type": "markdown",
   "id": "e9618e0d",
   "metadata": {},
   "source": [
    "## CountVectorize \n",
    "- bow 카운트 기반으로 (카운팅을 하여서 전처리를 진행하는 것)\n",
    "- 학습하기 위해서 어떤 식으로 벡터를 만들어야 하는지?"
   ]
  },
  {
   "cell_type": "code",
   "execution_count": 8,
   "id": "96990c41",
   "metadata": {},
   "outputs": [],
   "source": [
    "from sklearn.feature_extraction.text import CountVectorizer\n",
    "\n",
    "# max_featrue 빈도기반으로 우선순위로 100, 1,000개 ,10,000 개등 본인이 원하는 피처를 제한을 둘 수 있다."
   ]
  },
  {
   "cell_type": "code",
   "execution_count": 9,
   "id": "784265e5",
   "metadata": {},
   "outputs": [
    {
     "data": {
      "text/plain": [
       "0                                       아 더빙.. 진짜 짜증나네요 목소리\n",
       "1                         흠...포스터보고 초딩영화줄....오버연기조차 가볍지 않구나\n",
       "2                                         너무재밓었다그래서보는것을추천한다\n",
       "3                             교도소 이야기구먼 ..솔직히 재미는 없다..평점 조정\n",
       "4         사이몬페그의 익살스런 연기가 돋보였던 영화!스파이더맨에서 늙어보이기만 했던 커스틴 ...\n",
       "                                ...                        \n",
       "149995                                  인간이 문제지.. 소는 뭔죄인가..\n",
       "149996                                        평점이 너무 낮아서...\n",
       "149997                      이게 뭐요? 한국인은 거들먹거리고 필리핀 혼혈은 착하다?\n",
       "149998                          청춘 영화의 최고봉.방황과 우울했던 날들의 자화상\n",
       "149999                             한국 영화 최초로 수간하는 내용이 담긴 영화\n",
       "Name: document, Length: 150000, dtype: object"
      ]
     },
     "execution_count": 9,
     "metadata": {},
     "output_type": "execute_result"
    }
   ],
   "source": [
    "df['document']"
   ]
  },
  {
   "cell_type": "code",
   "execution_count": 10,
   "id": "4c7e80e8",
   "metadata": {},
   "outputs": [],
   "source": [
    "re_cv = CountVectorizer(max_features=1000) # 1000개의 피처만 가지고 오겠다."
   ]
  },
  {
   "cell_type": "code",
   "execution_count": 11,
   "id": "c623e42c",
   "metadata": {},
   "outputs": [],
   "source": [
    "# 리뷰 데이터를 이 안에 넣어보자! ( 전처리를 하고 진행해야 하지만 시간관계상 그대로 넣는 것) 여러분들은 추후 더 좋은 성능을 위해서는 전처리 작업 필수!\n",
    "\n",
    "re_dtm =re_cv.fit_transform(df_docu_sp2)"
   ]
  },
  {
   "cell_type": "code",
   "execution_count": 12,
   "id": "34832539",
   "metadata": {
    "scrolled": true
   },
   "outputs": [
    {
     "data": {
      "text/plain": [
       "<50000x1000 sparse matrix of type '<class 'numpy.int64'>'\n",
       "\twith 124124 stored elements in Compressed Sparse Row format>"
      ]
     },
     "execution_count": 12,
     "metadata": {},
     "output_type": "execute_result"
    }
   ],
   "source": [
    "re_dtm"
   ]
  },
  {
   "cell_type": "markdown",
   "id": "b88853cf",
   "metadata": {},
   "source": [
    "### 행은 15만개, 열은 1,000개 제한 (1000개의 컬럼은 카운트기반으로 가장많이 나온 것으로 선정)\n",
    "\n",
    "- Sparse 0이 얼마나 많은지에 대한 값들도 확인할 수 있다!"
   ]
  },
  {
   "cell_type": "code",
   "execution_count": 13,
   "id": "c4ca38ae",
   "metadata": {},
   "outputs": [
    {
     "data": {
      "text/plain": [
       "0.040282298346814474"
      ]
     },
     "execution_count": 13,
     "metadata": {},
     "output_type": "execute_result"
    }
   ],
   "source": [
    "#sparse 간단한 계산 \n",
    "(50000/(124124*1000)*100) #"
   ]
  },
  {
   "cell_type": "code",
   "execution_count": 14,
   "id": "2704f2c6",
   "metadata": {},
   "outputs": [
    {
     "data": {
      "text/plain": [
       "array(['0점', '0점은', '10', '10자', '10점', '1점', '1점도', '2점', '3류', '3점',\n",
       "       '4점', '80년대', '90년대', '9점', 'b급', 'good', 'oo', 'ooo', 'ooo기',\n",
       "       'ost', 'the', 'tv', 'ㄷㄷ', 'ㅅㅂ', 'ㅇㅇ', 'ㅉㅉ', 'ㅋㅋ', 'ㅋㅋㅋ', 'ㅋㅋㅋㅋ',\n",
       "       'ㅋㅋㅋㅋㅋ', 'ㅎㅎ', 'ㅎㅎㅎ', 'ㅜㅜ', 'ㅠㅠ', 'ㅠㅠㅠ', 'ㅡㅡ', '가끔', '가는', '가볍게',\n",
       "       '가서', '가슴', '가슴이', '가장', '가지고', '가진', '각본', '간만에', '갈수록', '감독',\n",
       "       '감독님', '감독은', '감독의', '감독이', '감동', '감동과', '감동도', '감동을', '감동이',\n",
       "       '감동적이고', '감동적인', '감사합니다', '갑자기', '강추', '같네요', '같다', '같습니다', '같아서',\n",
       "       '같아요', '같은', '같은데', '같음', '같이', '개봉', '개뿔', '개연성', '개인적으로', '거의',\n",
       "       '건지', '걸작', '겁나', '것도', '것은', '것을', '것이', '것이다', '게다가', '결국', '결말',\n",
       "       '결말도', '결말은', '결말이', '계속', '공감이', '공포', '공포영화', '과연', '괜찮은', '괜히',\n",
       "       '굉장히', '구성'], dtype=object)"
      ]
     },
     "execution_count": 14,
     "metadata": {},
     "output_type": "execute_result"
    }
   ],
   "source": [
    "re_cv.get_feature_names_out()[:100]"
   ]
  },
  {
   "cell_type": "markdown",
   "id": "33bdc841",
   "metadata": {},
   "source": [
    "### okt를 이용해서 동사, 명사만 추출해 보자!"
   ]
  },
  {
   "cell_type": "code",
   "execution_count": 15,
   "id": "2f7fe7aa",
   "metadata": {},
   "outputs": [],
   "source": [
    "from konlpy.tag import Okt"
   ]
  },
  {
   "cell_type": "code",
   "execution_count": 16,
   "id": "606fdc32",
   "metadata": {},
   "outputs": [],
   "source": [
    "tw_tag= Okt()"
   ]
  },
  {
   "cell_type": "code",
   "execution_count": 17,
   "id": "017f4c4d",
   "metadata": {
    "scrolled": true
   },
   "outputs": [
    {
     "name": "stdout",
     "output_type": "stream",
     "text": [
      "전체 형태소 추출  ['흠', '...', '포스터', '보고', '초딩', '영화', '줄', '....', '오버', '연기', '조차', '가볍지', '않구나']\n",
      "명사만 추출  ['흠', '포스터', '보고', '초딩', '영화', '줄', '오버', '연기']\n",
      "태그 같이추출  [('흠', 'Noun'), ('...', 'Punctuation'), ('포스터', 'Noun'), ('보고', 'Noun'), ('초딩', 'Noun'), ('영화', 'Noun'), ('줄', 'Noun'), ('....', 'Punctuation'), ('오버', 'Noun'), ('연기', 'Noun'), ('조차', 'Josa'), ('가볍지', 'Adjective'), ('않구나', 'Verb')]\n"
     ]
    }
   ],
   "source": [
    "print('전체 형태소 추출 ',tw_tag.morphs(df.document[1]))\n",
    "print('명사만 추출 ',tw_tag.nouns(df.document[1]))\n",
    "print('태그 같이추출 ',tw_tag.pos(df.document[1]))"
   ]
  },
  {
   "cell_type": "markdown",
   "id": "5b2e646a",
   "metadata": {},
   "source": [
    "## 전체 데이터에 적용해야 하니깐 위에는 1개 샘플만 가지고 진행한 것\n",
    "- 함수를 하나 만들고 전체 데이터셋을 다 전처리 진행해야 한다!"
   ]
  },
  {
   "cell_type": "code",
   "execution_count": 18,
   "id": "3209f277",
   "metadata": {},
   "outputs": [
    {
     "name": "stdout",
     "output_type": "stream",
     "text": [
      "실제 결과는 ['흠', '포스터', '보고', '초딩', '영화', '줄', '오버', '연기', '않구나']\n"
     ]
    }
   ],
   "source": [
    "def my_tokenizer(doc):\n",
    "    return[\n",
    "        token\n",
    "        for token, pos in tw_tag.pos(doc)\n",
    "        if pos in ['Noun','Verb']\n",
    "    ]\n",
    "\n",
    "print('실제 결과는', my_tokenizer(df.document[1]))"
   ]
  },
  {
   "cell_type": "code",
   "execution_count": 19,
   "id": "02ca9ab2",
   "metadata": {},
   "outputs": [],
   "source": [
    "#사용할 토큰을 지정 가능하다.\n",
    "re_cv = CountVectorizer(max_features=1000, tokenizer = my_tokenizer )"
   ]
  },
  {
   "cell_type": "code",
   "execution_count": null,
   "id": "57df9c95",
   "metadata": {},
   "outputs": [],
   "source": [
    "re_dtm =re_cv.fit_transform(df_docu_sp2)"
   ]
  },
  {
   "cell_type": "code",
   "execution_count": null,
   "id": "79b20cb7",
   "metadata": {},
   "outputs": [],
   "source": [
    "#어떤 식으로 카운팅 기반으로 되어 있는지 확인해 보자!\n",
    "for word, count in zip(re_cv.get_feature_names_out(), re_dtm[1].toarray()[0]):\n",
    "    if count>0:\n",
    "        print(word,count,end=',')"
   ]
  },
  {
   "cell_type": "markdown",
   "id": "db2d74be",
   "metadata": {},
   "source": [
    "### 리뷰데이터를 카운팅해서 하나의 데이터프레임으로 만들고 있다.\n",
    "- 50,000개의 행, 1,000개의 컬럼으로 만들었다."
   ]
  },
  {
   "cell_type": "markdown",
   "id": "c1c520d5",
   "metadata": {},
   "source": [
    "## 간단하게 Cosine_Similarity 를 확인하자!"
   ]
  },
  {
   "cell_type": "code",
   "execution_count": null,
   "id": "ed29c067",
   "metadata": {},
   "outputs": [],
   "source": [
    "from sklearn.metrics.pairwise import cosine_similarity\n",
    "\n",
    "# 기준으로 볼 리뷰를 하나 가지고 오기!\n",
    "st = len(df_docu_sp2[0])//2\n",
    "\n",
    "# 중심점으로부터 뒤 절반을 가지고 와서 비교할 문서를 생성\n",
    "source = df_docu_sp2[0][-st:]"
   ]
  },
  {
   "cell_type": "code",
   "execution_count": null,
   "id": "5dcd90fe",
   "metadata": {},
   "outputs": [],
   "source": [
    "df_docu_sp2[0]"
   ]
  },
  {
   "cell_type": "code",
   "execution_count": null,
   "id": "49ce4312",
   "metadata": {},
   "outputs": [],
   "source": [
    "st"
   ]
  },
  {
   "cell_type": "code",
   "execution_count": null,
   "id": "9b98a326",
   "metadata": {},
   "outputs": [],
   "source": [
    "source"
   ]
  },
  {
   "cell_type": "code",
   "execution_count": null,
   "id": "2fa17c53",
   "metadata": {},
   "outputs": [],
   "source": [
    "#코사인 유사도를 게산하기 위해 벡터로 변환해야 한다\n",
    "source_rv=re_cv.transform([source])"
   ]
  },
  {
   "cell_type": "code",
   "execution_count": null,
   "id": "11a28a41",
   "metadata": {},
   "outputs": [],
   "source": [
    "source_rv"
   ]
  },
  {
   "cell_type": "code",
   "execution_count": null,
   "id": "c900b293",
   "metadata": {},
   "outputs": [],
   "source": [
    "source_rv"
   ]
  },
  {
   "cell_type": "code",
   "execution_count": null,
   "id": "febccbae",
   "metadata": {},
   "outputs": [],
   "source": [
    "sim_res=cosine_similarity(source_rv,re_dtm)"
   ]
  },
  {
   "cell_type": "code",
   "execution_count": null,
   "id": "f2f0cfe8",
   "metadata": {},
   "outputs": [],
   "source": [
    "sim_res"
   ]
  },
  {
   "cell_type": "code",
   "execution_count": null,
   "id": "d9824209",
   "metadata": {},
   "outputs": [],
   "source": [
    "sim_res[0]"
   ]
  },
  {
   "cell_type": "code",
   "execution_count": null,
   "id": "eba67926",
   "metadata": {},
   "outputs": [],
   "source": [
    "#유사도 계산 결과가 어떤식으로 되어 있는지 역순으로 정렬\n",
    "print('유사도 정렬',sorted(sim_res[0], reverse=True)[:100])"
   ]
  },
  {
   "cell_type": "code",
   "execution_count": null,
   "id": "c6f87476",
   "metadata": {},
   "outputs": [],
   "source": [
    "#리뷰가 어떤 리뷰인지 유사한 리뷰가 무엇인지 확인을 해야 한다!\n",
    "print('가장 유사한 리뷰는 무엇인지?',np.argmax(sim_res[0]))"
   ]
  },
  {
   "cell_type": "code",
   "execution_count": null,
   "id": "7a665b11",
   "metadata": {},
   "outputs": [],
   "source": [
    "df_docu_sp2[7876]"
   ]
  },
  {
   "cell_type": "code",
   "execution_count": null,
   "id": "29b17e82",
   "metadata": {},
   "outputs": [],
   "source": [
    "df_docu_sp2[33311]"
   ]
  },
  {
   "cell_type": "code",
   "execution_count": null,
   "id": "7a7dadb2",
   "metadata": {},
   "outputs": [],
   "source": [
    "print(sim_res[0].argsort()[3])"
   ]
  },
  {
   "cell_type": "markdown",
   "id": "69a2a046",
   "metadata": {},
   "source": [
    "### 카운트기반으로 하는 게 문제가 많다.\n",
    "- 단어가 더 많다고 해서 꼭 중요한 건 아닐 수 있다.\n",
    "- 이런 의미를 좀 반영해서 전처리 하는 방법이 TF-IDF(Term Frequency - Inverse Document Frequency) \n",
    "- 단어빈도 - 역문서빈도\n",
    "\n",
    "- 카운트 대신 단어의 빈도에 그 단어가 출연한 문서의 수를 역수를 곱하는 것\n",
    "- 단어의 빈도를 그 단어가 나타난 문서의 수로 나눠 준 것\n",
    "- 단어가 나타난 문서의 수가 클수록 이 값이 작아지니 단순하게 카운팅 한 것 보다는 빈도를 이용해서 계산하게 되니 더 의미있는 단어를 추출할 수 있다."
   ]
  },
  {
   "cell_type": "code",
   "execution_count": null,
   "id": "4289c563",
   "metadata": {},
   "outputs": [],
   "source": [
    "from sklearn.feature_extraction.text import TfidfTransformer\n",
    "\n",
    "transformer = TfidfTransformer()\n",
    "transformer"
   ]
  },
  {
   "cell_type": "code",
   "execution_count": null,
   "id": "da0ec881",
   "metadata": {},
   "outputs": [],
   "source": [
    "rv_tfidf =transformer.fit_transform(re_dtm)"
   ]
  },
  {
   "cell_type": "code",
   "execution_count": null,
   "id": "5ad9f3a1",
   "metadata": {},
   "outputs": [],
   "source": [
    "rv_tfidf"
   ]
  },
  {
   "cell_type": "code",
   "execution_count": null,
   "id": "0fa4d6c5",
   "metadata": {
    "scrolled": true
   },
   "outputs": [],
   "source": [
    "re_dtm[10].toarray()[0] #맨처음 만든 re_dtm의 배열이 어떤식으로 되어있는지 확인이 가능하다! #카운트 기반은 대부분 0 1,2 정수 "
   ]
  },
  {
   "cell_type": "code",
   "execution_count": null,
   "id": "91da8645",
   "metadata": {},
   "outputs": [],
   "source": [
    "rv_tfidf[0].toarray()[0] # tf_idf 카운팅이 아닌 확률처럼 소수로 되어있다. 빈도기반이라"
   ]
  },
  {
   "cell_type": "code",
   "execution_count": null,
   "id": "d2e087e8",
   "metadata": {},
   "outputs": [],
   "source": [
    "source"
   ]
  },
  {
   "cell_type": "code",
   "execution_count": null,
   "id": "75ba5808",
   "metadata": {
    "scrolled": true
   },
   "outputs": [],
   "source": [
    "tf = TfidfTransformer()\n",
    "rv_tfidf=tf.fit_transform(re_dtm)"
   ]
  },
  {
   "cell_type": "code",
   "execution_count": null,
   "id": "22c7a230",
   "metadata": {},
   "outputs": [],
   "source": [
    "source_idf=tf.transform(source_rv)"
   ]
  },
  {
   "cell_type": "code",
   "execution_count": null,
   "id": "0c7c4fda",
   "metadata": {},
   "outputs": [],
   "source": [
    "source_idf"
   ]
  },
  {
   "cell_type": "code",
   "execution_count": null,
   "id": "efaa680a",
   "metadata": {},
   "outputs": [],
   "source": [
    "sim_res_tfidf=cosine_similarity(source_idf,rv_tfidf)"
   ]
  },
  {
   "cell_type": "code",
   "execution_count": null,
   "id": "9ed171f6",
   "metadata": {},
   "outputs": [],
   "source": [
    "sim_res_tfidf[0]"
   ]
  },
  {
   "cell_type": "code",
   "execution_count": null,
   "id": "e84814eb",
   "metadata": {},
   "outputs": [],
   "source": [
    "print('가장 유사한 리뷰는 무엇인지?',np.argmax(sim_res_tfidf[0]))"
   ]
  },
  {
   "cell_type": "code",
   "execution_count": null,
   "id": "57648340",
   "metadata": {},
   "outputs": [],
   "source": [
    "df_docu_sp2[7876]"
   ]
  },
  {
   "cell_type": "markdown",
   "id": "a4ffc7cb",
   "metadata": {},
   "source": [
    "### 두 가지 방법으로 문자열 데이터를 전처리하고, 벡터로 만들어서 코사인 유사도를 계산하였다.\n",
    "- ml 분류, 감성분석 등을 진행하게 되면 이 부분도 결국에는 동일하게 벡터화로 만들어서 학습을 시켜야 된다."
   ]
  },
  {
   "cell_type": "code",
   "execution_count": null,
   "id": "e8b31cc1",
   "metadata": {},
   "outputs": [],
   "source": [
    "df"
   ]
  },
  {
   "cell_type": "markdown",
   "id": "52b3176b",
   "metadata": {},
   "source": [
    "## 필수과제1\n",
    "- 1번 리뷰로 진행했는데, 원하시는 다른 리뷰로 진행해서 실제 두 개의 방법으로 진행했을 때 유사도가 어떻게 나오는지 확인해 주시면 좋을 것 같습니다.\n",
    "- 차이가 어떤 식으로 발생하는지 확인하면 좋을 것 같습니다.\n",
    "\n",
    "## 필수과제2\n",
    "- 더 좋은 차이를 만드는 법은\n",
    "- 베이스로 아무것도 하지 않고 그냥 카운팅해서 진행한 것과\n",
    "- 불용어 처리, 기타 전처리 등을 진행하고 더 깔끔하게 리뷰 전처리 후에 진행하고 두 개를 비교해 주세요! \n"
   ]
  },
  {
   "cell_type": "markdown",
   "id": "82b55b99",
   "metadata": {},
   "source": [
    "- word2vec 정도의 추론기반으로 자연어 처리, 학습하는 것도 관심있으시면 같이 봐도 좋을 것 같습니다."
   ]
  },
  {
   "cell_type": "code",
   "execution_count": null,
   "id": "512aace3",
   "metadata": {},
   "outputs": [],
   "source": []
  }
 ],
 "metadata": {
  "kernelspec": {
   "display_name": "Python 3 (ipykernel)",
   "language": "python",
   "name": "python3"
  },
  "language_info": {
   "codemirror_mode": {
    "name": "ipython",
    "version": 3
   },
   "file_extension": ".py",
   "mimetype": "text/x-python",
   "name": "python",
   "nbconvert_exporter": "python",
   "pygments_lexer": "ipython3",
   "version": "3.9.18"
  }
 },
 "nbformat": 4,
 "nbformat_minor": 5
}
