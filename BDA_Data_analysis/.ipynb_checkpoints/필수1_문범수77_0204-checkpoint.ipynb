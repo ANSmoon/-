{
 "cells": [
  {
   "cell_type": "markdown",
   "id": "7456a744-1aec-4aca-9771-aa722f6a0935",
   "metadata": {
    "tags": []
   },
   "source": [
    "#### Author : 문범수\n",
    "#### date : 2024-02-04\n",
    "#### title : 0204 필수과제1"
   ]
  },
  {
   "cell_type": "markdown",
   "id": "7dec045b-062d-4f5d-82e9-299387b446f5",
   "metadata": {},
   "source": [
    "## 필수과제1\n",
    "- 1번 리뷰로 진행했는데, 원하시는 다른 리뷰로 진행해서 실제 두 개의 방법으로 진행했을 때 유사도가 어떻게 나오는지 확인\n",
    "- 차이가 어떤 식으로 발생하는지 확인"
   ]
  },
  {
   "cell_type": "code",
   "execution_count": 1,
   "id": "5b5276a4-178e-4f0a-8bb0-ca588c7a6172",
   "metadata": {},
   "outputs": [],
   "source": [
    "import pandas as pd\n",
    "import numpy as np\n",
    "\n",
    "df = pd.read_csv('movie_rv.csv')"
   ]
  },
  {
   "cell_type": "code",
   "execution_count": 2,
   "id": "51b198c4-e8a2-425f-af79-b94474dfceef",
   "metadata": {},
   "outputs": [
    {
     "data": {
      "text/plain": [
       "Unnamed: 0    0\n",
       "id            0\n",
       "document      5\n",
       "label         0\n",
       "dtype: int64"
      ]
     },
     "execution_count": 2,
     "metadata": {},
     "output_type": "execute_result"
    }
   ],
   "source": [
    "df.isna().sum()"
   ]
  },
  {
   "cell_type": "code",
   "execution_count": 3,
   "id": "aa6508fc-3c33-4de8-a09a-7282cb12f4aa",
   "metadata": {},
   "outputs": [
    {
     "data": {
      "text/html": [
       "<div>\n",
       "<style scoped>\n",
       "    .dataframe tbody tr th:only-of-type {\n",
       "        vertical-align: middle;\n",
       "    }\n",
       "\n",
       "    .dataframe tbody tr th {\n",
       "        vertical-align: top;\n",
       "    }\n",
       "\n",
       "    .dataframe thead th {\n",
       "        text-align: right;\n",
       "    }\n",
       "</style>\n",
       "<table border=\"1\" class=\"dataframe\">\n",
       "  <thead>\n",
       "    <tr style=\"text-align: right;\">\n",
       "      <th></th>\n",
       "      <th>Unnamed: 0</th>\n",
       "      <th>id</th>\n",
       "      <th>document</th>\n",
       "      <th>label</th>\n",
       "    </tr>\n",
       "  </thead>\n",
       "  <tbody>\n",
       "    <tr>\n",
       "      <th>0</th>\n",
       "      <td>0</td>\n",
       "      <td>9976970</td>\n",
       "      <td>아 더빙.. 진짜 짜증나네요 목소리</td>\n",
       "      <td>0</td>\n",
       "    </tr>\n",
       "    <tr>\n",
       "      <th>1</th>\n",
       "      <td>1</td>\n",
       "      <td>3819312</td>\n",
       "      <td>흠...포스터보고 초딩영화줄....오버연기조차 가볍지 않구나</td>\n",
       "      <td>1</td>\n",
       "    </tr>\n",
       "    <tr>\n",
       "      <th>2</th>\n",
       "      <td>2</td>\n",
       "      <td>10265843</td>\n",
       "      <td>너무재밓었다그래서보는것을추천한다</td>\n",
       "      <td>0</td>\n",
       "    </tr>\n",
       "    <tr>\n",
       "      <th>3</th>\n",
       "      <td>3</td>\n",
       "      <td>9045019</td>\n",
       "      <td>교도소 이야기구먼 ..솔직히 재미는 없다..평점 조정</td>\n",
       "      <td>0</td>\n",
       "    </tr>\n",
       "    <tr>\n",
       "      <th>4</th>\n",
       "      <td>4</td>\n",
       "      <td>6483659</td>\n",
       "      <td>사이몬페그의 익살스런 연기가 돋보였던 영화!스파이더맨에서 늙어보이기만 했던 커스틴 ...</td>\n",
       "      <td>1</td>\n",
       "    </tr>\n",
       "    <tr>\n",
       "      <th>...</th>\n",
       "      <td>...</td>\n",
       "      <td>...</td>\n",
       "      <td>...</td>\n",
       "      <td>...</td>\n",
       "    </tr>\n",
       "    <tr>\n",
       "      <th>149995</th>\n",
       "      <td>149995</td>\n",
       "      <td>6222902</td>\n",
       "      <td>인간이 문제지.. 소는 뭔죄인가..</td>\n",
       "      <td>0</td>\n",
       "    </tr>\n",
       "    <tr>\n",
       "      <th>149996</th>\n",
       "      <td>149996</td>\n",
       "      <td>8549745</td>\n",
       "      <td>평점이 너무 낮아서...</td>\n",
       "      <td>1</td>\n",
       "    </tr>\n",
       "    <tr>\n",
       "      <th>149997</th>\n",
       "      <td>149997</td>\n",
       "      <td>9311800</td>\n",
       "      <td>이게 뭐요? 한국인은 거들먹거리고 필리핀 혼혈은 착하다?</td>\n",
       "      <td>0</td>\n",
       "    </tr>\n",
       "    <tr>\n",
       "      <th>149998</th>\n",
       "      <td>149998</td>\n",
       "      <td>2376369</td>\n",
       "      <td>청춘 영화의 최고봉.방황과 우울했던 날들의 자화상</td>\n",
       "      <td>1</td>\n",
       "    </tr>\n",
       "    <tr>\n",
       "      <th>149999</th>\n",
       "      <td>149999</td>\n",
       "      <td>9619869</td>\n",
       "      <td>한국 영화 최초로 수간하는 내용이 담긴 영화</td>\n",
       "      <td>0</td>\n",
       "    </tr>\n",
       "  </tbody>\n",
       "</table>\n",
       "<p>150000 rows × 4 columns</p>\n",
       "</div>"
      ],
      "text/plain": [
       "        Unnamed: 0        id  \\\n",
       "0                0   9976970   \n",
       "1                1   3819312   \n",
       "2                2  10265843   \n",
       "3                3   9045019   \n",
       "4                4   6483659   \n",
       "...            ...       ...   \n",
       "149995      149995   6222902   \n",
       "149996      149996   8549745   \n",
       "149997      149997   9311800   \n",
       "149998      149998   2376369   \n",
       "149999      149999   9619869   \n",
       "\n",
       "                                                 document  label  \n",
       "0                                     아 더빙.. 진짜 짜증나네요 목소리      0  \n",
       "1                       흠...포스터보고 초딩영화줄....오버연기조차 가볍지 않구나      1  \n",
       "2                                       너무재밓었다그래서보는것을추천한다      0  \n",
       "3                           교도소 이야기구먼 ..솔직히 재미는 없다..평점 조정      0  \n",
       "4       사이몬페그의 익살스런 연기가 돋보였던 영화!스파이더맨에서 늙어보이기만 했던 커스틴 ...      1  \n",
       "...                                                   ...    ...  \n",
       "149995                                인간이 문제지.. 소는 뭔죄인가..      0  \n",
       "149996                                      평점이 너무 낮아서...      1  \n",
       "149997                    이게 뭐요? 한국인은 거들먹거리고 필리핀 혼혈은 착하다?      0  \n",
       "149998                        청춘 영화의 최고봉.방황과 우울했던 날들의 자화상      1  \n",
       "149999                           한국 영화 최초로 수간하는 내용이 담긴 영화      0  \n",
       "\n",
       "[150000 rows x 4 columns]"
      ]
     },
     "execution_count": 3,
     "metadata": {},
     "output_type": "execute_result"
    }
   ],
   "source": [
    "df"
   ]
  },
  {
   "cell_type": "code",
   "execution_count": 4,
   "id": "fd1c492d-98a7-445e-bc2b-483c40d1eea6",
   "metadata": {},
   "outputs": [],
   "source": [
    "df['document'] = df['document'].fillna(0)\n",
    "df['document'] = df['document'].astype(str)"
   ]
  },
  {
   "cell_type": "code",
   "execution_count": 5,
   "id": "665d88e2-5c88-4231-87f4-2f40bed2fad8",
   "metadata": {},
   "outputs": [],
   "source": [
    "df_true = df['document']"
   ]
  },
  {
   "cell_type": "code",
   "execution_count": 6,
   "id": "642f7194-3c42-46b0-9851-7687f4116a27",
   "metadata": {},
   "outputs": [
    {
     "data": {
      "text/plain": [
       "0                                       아 더빙.. 진짜 짜증나네요 목소리\n",
       "1                         흠...포스터보고 초딩영화줄....오버연기조차 가볍지 않구나\n",
       "2                                         너무재밓었다그래서보는것을추천한다\n",
       "3                             교도소 이야기구먼 ..솔직히 재미는 없다..평점 조정\n",
       "4         사이몬페그의 익살스런 연기가 돋보였던 영화!스파이더맨에서 늙어보이기만 했던 커스틴 ...\n",
       "                                ...                        \n",
       "149995                                  인간이 문제지.. 소는 뭔죄인가..\n",
       "149996                                        평점이 너무 낮아서...\n",
       "149997                      이게 뭐요? 한국인은 거들먹거리고 필리핀 혼혈은 착하다?\n",
       "149998                          청춘 영화의 최고봉.방황과 우울했던 날들의 자화상\n",
       "149999                             한국 영화 최초로 수간하는 내용이 담긴 영화\n",
       "Name: document, Length: 150000, dtype: object"
      ]
     },
     "execution_count": 6,
     "metadata": {},
     "output_type": "execute_result"
    }
   ],
   "source": [
    "df_true"
   ]
  },
  {
   "cell_type": "code",
   "execution_count": 7,
   "id": "f369d736-9d73-4d0c-a3c2-74544d97b55f",
   "metadata": {},
   "outputs": [
    {
     "data": {
      "text/plain": [
       "0                                  아 더빙.. 진짜 짜증나네요 목소리\n",
       "1                    흠...포스터보고 초딩영화줄....오버연기조차 가볍지 않구나\n",
       "2                                    너무재밓었다그래서보는것을추천한다\n",
       "3                        교도소 이야기구먼 ..솔직히 재미는 없다..평점 조정\n",
       "4    사이몬페그의 익살스런 연기가 돋보였던 영화!스파이더맨에서 늙어보이기만 했던 커스틴 ...\n",
       "Name: document, dtype: object"
      ]
     },
     "execution_count": 7,
     "metadata": {},
     "output_type": "execute_result"
    }
   ],
   "source": [
    "df_true.head()"
   ]
  },
  {
   "cell_type": "code",
   "execution_count": 8,
   "id": "d2810b80-9ce5-44bf-8a0d-13d59c745b26",
   "metadata": {},
   "outputs": [],
   "source": [
    "from konlpy.tag import Okt\n",
    "k = Okt()"
   ]
  },
  {
   "cell_type": "code",
   "execution_count": 9,
   "id": "8d24e4d5-7db3-4230-9fab-a9cbed9fd763",
   "metadata": {},
   "outputs": [],
   "source": [
    "def my_tokenizer(doc2):\n",
    "    return [\n",
    "        token\n",
    "        for token, pos in k.pos(doc2)\n",
    "        if pos in ['Noun', 'Verb']\n",
    "    ]\n"
   ]
  },
  {
   "cell_type": "code",
   "execution_count": 10,
   "id": "3df90b3e-4372-411c-88ee-54d80193c632",
   "metadata": {},
   "outputs": [],
   "source": [
    "from sklearn.feature_extraction.text import CountVectorizer\n",
    "\n",
    "re_cv = CountVectorizer(max_features = 1000, tokenizer = my_tokenizer)"
   ]
  },
  {
   "cell_type": "code",
   "execution_count": null,
   "id": "45e84129-30f2-4095-920d-0918661f738e",
   "metadata": {},
   "outputs": [],
   "source": [
    "re_dtm =re_cv.fit_transform(df_true)"
   ]
  },
  {
   "cell_type": "code",
   "execution_count": null,
   "id": "e2ddfe2a-c6f0-4eff-abe3-29a1e1bb9b03",
   "metadata": {},
   "outputs": [],
   "source": [
    "#어떤 식으로 카운팅 기반으로 되어 있는지 확인해 보자!\n",
    "for word, count in zip(re_cv.get_feature_names_out(), re_dtm[1].toarray()[0]):\n",
    "    if count>0:\n",
    "        print(word,count,end=',')"
   ]
  },
  {
   "cell_type": "code",
   "execution_count": null,
   "id": "0b8f7a88-aa58-4c10-b3c9-53db3e19ccc7",
   "metadata": {},
   "outputs": [],
   "source": [
    "from sklearn.metrics.pairwise import cosine_similarity\n",
    "\n",
    "st = len(df_true[10])//2\n",
    "\n",
    "source = df_true[10][-st:]"
   ]
  },
  {
   "cell_type": "code",
   "execution_count": null,
   "id": "08343fc6-3bd2-4eef-b968-a94268abd050",
   "metadata": {},
   "outputs": [],
   "source": [
    "df_true[10]"
   ]
  },
  {
   "cell_type": "code",
   "execution_count": null,
   "id": "4f213f6a-716c-4cb2-ad9d-5402492448b0",
   "metadata": {},
   "outputs": [],
   "source": [
    "st"
   ]
  },
  {
   "cell_type": "code",
   "execution_count": null,
   "id": "1edabcbc-7500-4f79-a2d9-e0f5ba751a79",
   "metadata": {},
   "outputs": [],
   "source": [
    "source"
   ]
  },
  {
   "cell_type": "code",
   "execution_count": null,
   "id": "872d3c3a-54fc-46ae-9c06-afcb8280fda3",
   "metadata": {},
   "outputs": [],
   "source": [
    "source_rv = re_cv.transform([source])"
   ]
  },
  {
   "cell_type": "code",
   "execution_count": null,
   "id": "b66019fd-e519-4023-af6b-8018bd0b8dfc",
   "metadata": {},
   "outputs": [],
   "source": [
    "source_rv"
   ]
  },
  {
   "cell_type": "code",
   "execution_count": null,
   "id": "e6b17ab0-7d40-4eb9-bf9b-8490c10903de",
   "metadata": {},
   "outputs": [],
   "source": [
    "sim_res = cosine_similarity(source_rv, re_dtm)"
   ]
  },
  {
   "cell_type": "code",
   "execution_count": null,
   "id": "211c780b-6fd8-4b2a-8369-d3ec9366dac6",
   "metadata": {},
   "outputs": [],
   "source": [
    "sim_res"
   ]
  },
  {
   "cell_type": "code",
   "execution_count": null,
   "id": "30ca3535-865a-4ec1-9ce1-555e3c13f21c",
   "metadata": {},
   "outputs": [],
   "source": [
    "sim_res[0]"
   ]
  },
  {
   "cell_type": "code",
   "execution_count": null,
   "id": "e11f2838-f0de-457e-8ba6-e01efeec0741",
   "metadata": {},
   "outputs": [],
   "source": [
    "print('유사도 정렬', sorted(sim_res[0], reverse = True)[:100])"
   ]
  },
  {
   "cell_type": "code",
   "execution_count": null,
   "id": "10e1c376-b8af-470e-a11f-b16ad3e7cd5e",
   "metadata": {},
   "outputs": [],
   "source": [
    "print('가장 유사한 리뷰: ', np.argmax(sim_res[0]))"
   ]
  },
  {
   "cell_type": "code",
   "execution_count": null,
   "id": "7affbbc3-3d21-475e-8f82-089b35f3db7a",
   "metadata": {},
   "outputs": [],
   "source": [
    "df_true[1777]"
   ]
  },
  {
   "cell_type": "code",
   "execution_count": null,
   "id": "e50175d7-c86c-497c-82c1-a59fee2d97e5",
   "metadata": {},
   "outputs": [],
   "source": [
    "print(sim_res[0].argsort()[3])"
   ]
  },
  {
   "cell_type": "code",
   "execution_count": null,
   "id": "c29a8846-9968-44e8-8df7-9e16e66cabbf",
   "metadata": {},
   "outputs": [],
   "source": [
    "df_true[32922]"
   ]
  },
  {
   "cell_type": "code",
   "execution_count": null,
   "id": "f1ed16d6-ae26-4856-9d05-c6d5a1048559",
   "metadata": {},
   "outputs": [],
   "source": [
    "from sklearn.feature_extraction.text import TfidfTransformer\n",
    "\n",
    "transformer = TfidfTransformer()\n",
    "transformer"
   ]
  },
  {
   "cell_type": "code",
   "execution_count": null,
   "id": "2cc1ac25-320c-41b5-a70b-467673053a5c",
   "metadata": {},
   "outputs": [],
   "source": [
    "rv_tfidf = transformer.fit_transform(re_dtm)"
   ]
  },
  {
   "cell_type": "code",
   "execution_count": null,
   "id": "061f0c6f-19d0-474f-93e8-3281e8c7eacd",
   "metadata": {},
   "outputs": [],
   "source": [
    "rv_tfidf"
   ]
  },
  {
   "cell_type": "code",
   "execution_count": null,
   "id": "12cda9e8-82e0-4e52-b8d6-f2f82a8477dc",
   "metadata": {},
   "outputs": [],
   "source": [
    "re_dtm[10].toarray()[0]"
   ]
  },
  {
   "cell_type": "code",
   "execution_count": null,
   "id": "9e8d29f0-8ac3-470b-b4eb-25c9e5c52429",
   "metadata": {},
   "outputs": [],
   "source": [
    "rv_tfidf[0].toarray()[0]"
   ]
  },
  {
   "cell_type": "code",
   "execution_count": null,
   "id": "fce5c7c0-9920-4708-b872-0f3ca77926b2",
   "metadata": {},
   "outputs": [],
   "source": [
    "source"
   ]
  },
  {
   "cell_type": "code",
   "execution_count": null,
   "id": "57b56bd7-5775-4b50-8865-7e179ee7cc96",
   "metadata": {},
   "outputs": [],
   "source": []
  }
 ],
 "metadata": {
  "kernelspec": {
   "display_name": "Python 3 (ipykernel)",
   "language": "python",
   "name": "python3"
  },
  "language_info": {
   "codemirror_mode": {
    "name": "ipython",
    "version": 3
   },
   "file_extension": ".py",
   "mimetype": "text/x-python",
   "name": "python",
   "nbconvert_exporter": "python",
   "pygments_lexer": "ipython3",
   "version": "3.9.18"
  }
 },
 "nbformat": 4,
 "nbformat_minor": 5
}
