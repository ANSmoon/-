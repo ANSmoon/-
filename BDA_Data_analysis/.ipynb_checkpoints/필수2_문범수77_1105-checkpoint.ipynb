{
 "cells": [
  {
   "cell_type": "markdown",
   "id": "b702fd6f-2b0c-48a6-8297-e476f144b0d3",
   "metadata": {},
   "source": [
    "#### Author : 문범수\n",
    "#### date : 2023-11-05\n",
    "#### title : 1105 과제"
   ]
  },
  {
   "cell_type": "markdown",
   "id": "c689d3c4-e266-4f8b-b388-e24b1ea7edcc",
   "metadata": {},
   "source": [
    "### 필수과제2\n",
    "- 샘플로 드린 날씨데이터를 직접 Melt 함수를 이용해서 깔끔하게 정리해 주세요!\n",
    "- 꼭 melt가 아니어도 다른 함수를 가능합니다.\n",
    "- 깔끔하게 정리된 데이터로 print()로 보여주시면 됩니다."
   ]
  },
  {
   "cell_type": "code",
   "execution_count": null,
   "id": "a5256692-3b37-4121-8e44-e532489f6e81",
   "metadata": {},
   "outputs": [],
   "source": []
  }
 ],
 "metadata": {
  "kernelspec": {
   "display_name": "Python 3 (ipykernel)",
   "language": "python",
   "name": "python3"
  },
  "language_info": {
   "codemirror_mode": {
    "name": "ipython",
    "version": 3
   },
   "file_extension": ".py",
   "mimetype": "text/x-python",
   "name": "python",
   "nbconvert_exporter": "python",
   "pygments_lexer": "ipython3",
   "version": "3.9.18"
  }
 },
 "nbformat": 4,
 "nbformat_minor": 5
}
