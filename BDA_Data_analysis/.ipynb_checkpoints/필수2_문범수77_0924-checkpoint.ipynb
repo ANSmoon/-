{
 "cells": [
  {
   "cell_type": "markdown",
   "id": "658d2085-2fa9-46e4-b046-0ebce3015b3e",
   "metadata": {
    "tags": []
   },
   "source": [
    "#### Author : 문범수\n",
    "#### date : 2023-10-05\n",
    "#### title : 0924 필수 2 과제"
   ]
  },
  {
   "cell_type": "markdown",
   "id": "f5bd5875-0a78-46c5-9189-d8d0a84db2c8",
   "metadata": {},
   "source": [
    "## 필수과제 2\n",
    "\n",
    "만약 시계열 데이터라면? 추세가 반영될 수 있기 때문에 선형보간이 더 좋은 결과가 나올 수 있다. \n",
    "- 시계열데이터를 공유할 예정 -> 해당 데이터를 가지고 결측값을 만들고 오늘 배웠던 \n",
    "- 평균 또는 최빈값등 기초통계량\n",
    "- 선형보간 등 interpolation\n",
    "- iterative imputer\n",
    "\n",
    "- 시계열데이터는 어떤 식으로 결측값을 대체 했을 때 더 좋은 결과가 나오지는 확인하기!\n",
    "- 다만 시계열데이터를 결측값을 만들기 전에  기존 데이터의 분포와 관계, 컬럼들에 대한 관계들을 확인해 보시고 ( 간단한 시각화로 )\n",
    "- 결측치를 만들어서 결과를 비교해 주세요.\n",
    "\n",
    "[필수과제 시계열 데이터 설명]\n",
    "- seattle-weather.csv ( 구글 업로드 완료 )\n",
    "- kaggle 출처\n",
    "- 시애틀 데이터 컬럼은 너무 직관적이라 설명 생략 \n",
    "- y값 precipitation \n",
    "- 사용 컬럼 temp_max, temp_min, wind \n",
    "- wather 컬럼은 인코딩이 필요해서 아시는 분은 사용하시고 사용 안 하셔도 됩니다.\n",
    "\n",
    "## 꼭 참고할 게 시계열 데이터이므로 train_test_split 사용하면 안 됩니다! \n",
    "따라서 인덱스 기준으로 데이터 잘라서 진행해 주시길 바랍니다. \n",
    "전체 데이터 중 7:3 비중으로 자르기 \n",
    "\n",
    "그리고 결측값은 모든 컬럼에 최소 50개 이상은 만들어 주세요!\n",
    "( 만약 여유로우신 분은 컬럼 별로 다르게 결측치를 만들어서 100, 500, 1000개 로 만들어 보시고 진행하셔도 좋습니다 ! )\n",
    "\n",
    "과제 잘 부탁드립니다!!"
   ]
  },
  {
   "cell_type": "code",
   "execution_count": 30,
   "id": "c6119542-465e-4846-b897-6b39d1dea727",
   "metadata": {},
   "outputs": [
    {
     "data": {
      "text/html": [
       "<div>\n",
       "<style scoped>\n",
       "    .dataframe tbody tr th:only-of-type {\n",
       "        vertical-align: middle;\n",
       "    }\n",
       "\n",
       "    .dataframe tbody tr th {\n",
       "        vertical-align: top;\n",
       "    }\n",
       "\n",
       "    .dataframe thead th {\n",
       "        text-align: right;\n",
       "    }\n",
       "</style>\n",
       "<table border=\"1\" class=\"dataframe\">\n",
       "  <thead>\n",
       "    <tr style=\"text-align: right;\">\n",
       "      <th></th>\n",
       "      <th>date</th>\n",
       "      <th>precipitation</th>\n",
       "      <th>temp_max</th>\n",
       "      <th>temp_min</th>\n",
       "      <th>wind</th>\n",
       "      <th>weather</th>\n",
       "    </tr>\n",
       "  </thead>\n",
       "  <tbody>\n",
       "    <tr>\n",
       "      <th>0</th>\n",
       "      <td>2012-01-01</td>\n",
       "      <td>0.0</td>\n",
       "      <td>12.8</td>\n",
       "      <td>5.0</td>\n",
       "      <td>4.7</td>\n",
       "      <td>drizzle</td>\n",
       "    </tr>\n",
       "    <tr>\n",
       "      <th>1</th>\n",
       "      <td>2012-01-02</td>\n",
       "      <td>10.9</td>\n",
       "      <td>10.6</td>\n",
       "      <td>2.8</td>\n",
       "      <td>4.5</td>\n",
       "      <td>rain</td>\n",
       "    </tr>\n",
       "    <tr>\n",
       "      <th>2</th>\n",
       "      <td>2012-01-03</td>\n",
       "      <td>0.8</td>\n",
       "      <td>11.7</td>\n",
       "      <td>7.2</td>\n",
       "      <td>2.3</td>\n",
       "      <td>rain</td>\n",
       "    </tr>\n",
       "    <tr>\n",
       "      <th>3</th>\n",
       "      <td>2012-01-04</td>\n",
       "      <td>20.3</td>\n",
       "      <td>12.2</td>\n",
       "      <td>5.6</td>\n",
       "      <td>4.7</td>\n",
       "      <td>rain</td>\n",
       "    </tr>\n",
       "    <tr>\n",
       "      <th>4</th>\n",
       "      <td>2012-01-05</td>\n",
       "      <td>1.3</td>\n",
       "      <td>8.9</td>\n",
       "      <td>2.8</td>\n",
       "      <td>6.1</td>\n",
       "      <td>rain</td>\n",
       "    </tr>\n",
       "    <tr>\n",
       "      <th>...</th>\n",
       "      <td>...</td>\n",
       "      <td>...</td>\n",
       "      <td>...</td>\n",
       "      <td>...</td>\n",
       "      <td>...</td>\n",
       "      <td>...</td>\n",
       "    </tr>\n",
       "    <tr>\n",
       "      <th>1456</th>\n",
       "      <td>2015-12-27</td>\n",
       "      <td>8.6</td>\n",
       "      <td>4.4</td>\n",
       "      <td>1.7</td>\n",
       "      <td>2.9</td>\n",
       "      <td>rain</td>\n",
       "    </tr>\n",
       "    <tr>\n",
       "      <th>1457</th>\n",
       "      <td>2015-12-28</td>\n",
       "      <td>1.5</td>\n",
       "      <td>5.0</td>\n",
       "      <td>1.7</td>\n",
       "      <td>1.3</td>\n",
       "      <td>rain</td>\n",
       "    </tr>\n",
       "    <tr>\n",
       "      <th>1458</th>\n",
       "      <td>2015-12-29</td>\n",
       "      <td>0.0</td>\n",
       "      <td>7.2</td>\n",
       "      <td>0.6</td>\n",
       "      <td>2.6</td>\n",
       "      <td>fog</td>\n",
       "    </tr>\n",
       "    <tr>\n",
       "      <th>1459</th>\n",
       "      <td>2015-12-30</td>\n",
       "      <td>0.0</td>\n",
       "      <td>5.6</td>\n",
       "      <td>-1.0</td>\n",
       "      <td>3.4</td>\n",
       "      <td>sun</td>\n",
       "    </tr>\n",
       "    <tr>\n",
       "      <th>1460</th>\n",
       "      <td>2015-12-31</td>\n",
       "      <td>0.0</td>\n",
       "      <td>5.6</td>\n",
       "      <td>-2.1</td>\n",
       "      <td>3.5</td>\n",
       "      <td>sun</td>\n",
       "    </tr>\n",
       "  </tbody>\n",
       "</table>\n",
       "<p>1461 rows × 6 columns</p>\n",
       "</div>"
      ],
      "text/plain": [
       "            date  precipitation  temp_max  temp_min  wind  weather\n",
       "0     2012-01-01            0.0      12.8       5.0   4.7  drizzle\n",
       "1     2012-01-02           10.9      10.6       2.8   4.5     rain\n",
       "2     2012-01-03            0.8      11.7       7.2   2.3     rain\n",
       "3     2012-01-04           20.3      12.2       5.6   4.7     rain\n",
       "4     2012-01-05            1.3       8.9       2.8   6.1     rain\n",
       "...          ...            ...       ...       ...   ...      ...\n",
       "1456  2015-12-27            8.6       4.4       1.7   2.9     rain\n",
       "1457  2015-12-28            1.5       5.0       1.7   1.3     rain\n",
       "1458  2015-12-29            0.0       7.2       0.6   2.6      fog\n",
       "1459  2015-12-30            0.0       5.6      -1.0   3.4      sun\n",
       "1460  2015-12-31            0.0       5.6      -2.1   3.5      sun\n",
       "\n",
       "[1461 rows x 6 columns]"
      ]
     },
     "execution_count": 30,
     "metadata": {},
     "output_type": "execute_result"
    }
   ],
   "source": [
    "import pandas as pd\n",
    "import numpy as np\n",
    "import seaborn as sns\n",
    "from sklearn.impute import SimpleImputer\n",
    "from sklearn.experimental import enable_iterative_imputer\n",
    "from sklearn.impute import IterativeImputer\n",
    "import statsmodels.api as sm\n",
    "import math\n",
    "import matplotlib.pyplot as plt\n",
    "from sklearn.metrics import mean_squared_error\n",
    "\n",
    "weather=pd.read_csv('seattle-weather.csv')\n",
    "weather"
   ]
  },
  {
   "cell_type": "code",
   "execution_count": 5,
   "id": "979954d0-4eef-434d-bf5b-3935cc0414ec",
   "metadata": {},
   "outputs": [
    {
     "data": {
      "text/plain": [
       "date             0\n",
       "precipitation    0\n",
       "temp_max         0\n",
       "temp_min         0\n",
       "wind             0\n",
       "weather          0\n",
       "dtype: int64"
      ]
     },
     "execution_count": 5,
     "metadata": {},
     "output_type": "execute_result"
    }
   ],
   "source": [
    "#현재 결측치 없음\n",
    "weather.isna().sum()"
   ]
  },
  {
   "cell_type": "code",
   "execution_count": 37,
   "id": "8d8c6ec7-d091-4723-b67c-dba4d182c372",
   "metadata": {},
   "outputs": [],
   "source": [
    "new = weather.iloc[:,1:5]# all row 포함 및 1 ~ 4열까지 포함\n",
    "\n",
    "nan = np.random.choice(np.arange(1,1462), size= 50, replace=False)\n",
    "#1부터 1461행 중 중복없이 50개의 숫자 check\n",
    "\n",
    "new.iloc[nan,:] = np.nan\n",
    "#na 값으로 처리"
   ]
  },
  {
   "cell_type": "code",
   "execution_count": 38,
   "id": "96b2f1b2-cf9a-4b1f-b0a6-17cf100d84e1",
   "metadata": {},
   "outputs": [
    {
     "data": {
      "text/plain": [
       "precipitation    50\n",
       "temp_max         50\n",
       "temp_min         50\n",
       "wind             50\n",
       "dtype: int64"
      ]
     },
     "execution_count": 38,
     "metadata": {},
     "output_type": "execute_result"
    }
   ],
   "source": [
    "#결측치 확인\n",
    "new.isna().sum()"
   ]
  },
  {
   "cell_type": "markdown",
   "id": "ad219fb2-7fc9-45c3-80b7-954b98d47f69",
   "metadata": {},
   "source": [
    "### 1. Simpleimputer"
   ]
  },
  {
   "cell_type": "code",
   "execution_count": 39,
   "id": "4a8988d1-f64e-4adb-8e39-27e6d96954db",
   "metadata": {},
   "outputs": [],
   "source": [
    "#na 값 변환 method 생성\n",
    "def na(method):\n",
    "    first = SimpleImputer(missing_values = np.nan, strategy = method)\n",
    "    trans = first.fit_transform(new.copy())\n",
    "    dt_slice = pd.DataFrame(trans, columns = new.columns.tolist())\n",
    "    return dt_slice"
   ]
  },
  {
   "cell_type": "code",
   "execution_count": 47,
   "id": "57118ecb-3eba-440f-ae0c-a1cf50736d57",
   "metadata": {},
   "outputs": [],
   "source": [
    "new_mean = na('mean')"
   ]
  },
  {
   "cell_type": "code",
   "execution_count": 49,
   "id": "ad38264b-0d60-439d-8fb8-76612ad0c226",
   "metadata": {},
   "outputs": [
    {
     "data": {
      "text/plain": [
       "precipitation    0\n",
       "temp_max         0\n",
       "temp_min         0\n",
       "wind             0\n",
       "dtype: int64"
      ]
     },
     "execution_count": 49,
     "metadata": {},
     "output_type": "execute_result"
    }
   ],
   "source": [
    "new_mean.isnull().sum()"
   ]
  },
  {
   "cell_type": "markdown",
   "id": "dc18de2c-6657-4f37-928b-436cfdb3ed32",
   "metadata": {},
   "source": [
    "### 2. Interpolate(Linear)"
   ]
  },
  {
   "cell_type": "code",
   "execution_count": 42,
   "id": "ffebb284-4621-4315-b8bc-5646f09e61c0",
   "metadata": {},
   "outputs": [
    {
     "data": {
      "text/plain": [
       "precipitation    0\n",
       "temp_max         0\n",
       "temp_min         0\n",
       "wind             0\n",
       "dtype: int64"
      ]
     },
     "execution_count": 42,
     "metadata": {},
     "output_type": "execute_result"
    }
   ],
   "source": [
    "linear = new.copy()\n",
    "linear.interpolate(method = 'linear', inplace = True)\n",
    "\n",
    "linear.isnull().sum()"
   ]
  },
  {
   "cell_type": "markdown",
   "id": "a7728c80-d345-44aa-b80b-16cf3e559532",
   "metadata": {},
   "source": [
    "### 3. IterativeImputer"
   ]
  },
  {
   "cell_type": "code",
   "execution_count": 50,
   "id": "f21bdaf4-126e-4080-8624-17f0262e7227",
   "metadata": {},
   "outputs": [
    {
     "data": {
      "text/plain": [
       "precipitation    0\n",
       "temp_max         0\n",
       "temp_min         0\n",
       "wind             0\n",
       "dtype: int64"
      ]
     },
     "execution_count": 50,
     "metadata": {},
     "output_type": "execute_result"
    }
   ],
   "source": [
    "imp = IterativeImputer(max_iter = 100, random_state = 0, n_nearest_features = None)\n",
    "new_imp = imp.fit_transform(new)\n",
    "new_iterative = pd.DataFrame(new_imp, columns = new.columns.tolist())\n",
    "new_iterative.isnull().sum()"
   ]
  },
  {
   "cell_type": "markdown",
   "id": "abbd9042-286a-44d4-87a3-bebf31836787",
   "metadata": {
    "tags": []
   },
   "source": [
    "### 4. modeling"
   ]
  },
  {
   "cell_type": "code",
   "execution_count": 51,
   "id": "56921039-3ad3-46ad-915e-16e60a3d7e08",
   "metadata": {},
   "outputs": [],
   "source": [
    "index = ['alter using mean', 'alter using median', 'alter using linear', 'alter using IterativeImputer']\n",
    "data=['mean_mse', 'median_mse', 'linear_mse', 'iterative_mse']\n",
    "df = pd.DataFrame(data, columns=['결과'], index=index)"
   ]
  },
  {
   "cell_type": "code",
   "execution_count": 56,
   "id": "41a11f63-6078-4f98-9f59-719d9b2f73eb",
   "metadata": {},
   "outputs": [
    {
     "data": {
      "text/html": [
       "<div>\n",
       "<style scoped>\n",
       "    .dataframe tbody tr th:only-of-type {\n",
       "        vertical-align: middle;\n",
       "    }\n",
       "\n",
       "    .dataframe tbody tr th {\n",
       "        vertical-align: top;\n",
       "    }\n",
       "\n",
       "    .dataframe thead th {\n",
       "        text-align: right;\n",
       "    }\n",
       "</style>\n",
       "<table border=\"1\" class=\"dataframe\">\n",
       "  <thead>\n",
       "    <tr style=\"text-align: right;\">\n",
       "      <th></th>\n",
       "      <th>결과</th>\n",
       "    </tr>\n",
       "  </thead>\n",
       "  <tbody>\n",
       "    <tr>\n",
       "      <th>alter using mean</th>\n",
       "      <td>mean_mse</td>\n",
       "    </tr>\n",
       "    <tr>\n",
       "      <th>alter using median</th>\n",
       "      <td>median_mse</td>\n",
       "    </tr>\n",
       "    <tr>\n",
       "      <th>alter using linear</th>\n",
       "      <td>linear_mse</td>\n",
       "    </tr>\n",
       "    <tr>\n",
       "      <th>alter using IterativeImputer</th>\n",
       "      <td>iterative_mse</td>\n",
       "    </tr>\n",
       "  </tbody>\n",
       "</table>\n",
       "</div>"
      ],
      "text/plain": [
       "                                         결과\n",
       "alter using mean                   mean_mse\n",
       "alter using median               median_mse\n",
       "alter using linear               linear_mse\n",
       "alter using IterativeImputer  iterative_mse"
      ]
     },
     "execution_count": 56,
     "metadata": {},
     "output_type": "execute_result"
    }
   ],
   "source": [
    "df"
   ]
  },
  {
   "cell_type": "code",
   "execution_count": 52,
   "id": "f7cc04aa-5388-4cc9-a7f8-71f4fdb9cbe4",
   "metadata": {},
   "outputs": [],
   "source": [
    "train_count = math.ceil(len(df)*0.7)\n",
    "\n",
    "def train_test_split(dataframe):\n",
    "    x_train = dataframe.iloc[0:train_count+1,1:]\n",
    "    x_test = dataframe.iloc[train_count+1:,1:]\n",
    "    y_train = dataframe.iloc[0:train_count+1,0]\n",
    "    y_test = dataframe.iloc[train_count+1:,0]\n",
    "    return x_train, x_test, y_train, y_test\n",
    "\n",
    "def model_fit(trainX,trainY):\n",
    "    train_const = sm.add_constant(trainX) # 상수항을 추가해야 모델이 정확해짐.\n",
    "    reg_fit = sm.OLS(trainY, train_const).fit()\n",
    "    return reg_fit\n",
    "\n",
    "def draw_plot(testX, testY,title):\n",
    "    plt.figure()\n",
    "    test_const = sm.add_constant(testX) # 동일하게 추가.\n",
    "    plt.plot(np.array(reg_fit.predict(test_const)), label = \"Pred\")\n",
    "    plt.plot(np.array(testY), label = \"Real Value\")\n",
    "    plt.title(title)\n",
    "    plt.legend()\n",
    "    \n",
    "def MSE(x,y):\n",
    "    test_const = sm.add_constant(x)\n",
    "    mse = mean_squared_error(y_true = y, y_pred = reg_fit.predict(test_const))\n",
    "    return mse\n"
   ]
  },
  {
   "cell_type": "code",
   "execution_count": 57,
   "id": "8b2b8b21-e858-44c3-b42c-e7969a3b8313",
   "metadata": {},
   "outputs": [
    {
     "data": {
      "image/png": "[encoded data removed]",
      "text/plain": [
       "<Figure size 640x480 with 1 Axes>"
      ]
     },
     "metadata": {},
     "output_type": "display_data"
    }
   ],
   "source": [
    "# 평균\n",
    "x_train, x_test, y_train, y_test = train_test_split(new_mean)\n",
    "reg_fit = model_fit(x_train, y_train)\n",
    "draw_plot(x_test, y_test, 'Mean_Imp')\n",
    "mean_mse = MSE(x_test,y_test)\n"
   ]
  },
  {
   "cell_type": "code",
   "execution_count": null,
   "id": "de7c0a14-ca49-4d56-a45b-c405eea522e5",
   "metadata": {},
   "outputs": [],
   "source": []
  }
 ],
 "metadata": {
  "kernelspec": {
   "display_name": "Python 3 (ipykernel)",
   "language": "python",
   "name": "python3"
  },
  "language_info": {
   "codemirror_mode": {
    "name": "ipython",
    "version": 3
   },
   "file_extension": ".py",
   "mimetype": "text/x-python",
   "name": "python",
   "nbconvert_exporter": "python",
   "pygments_lexer": "ipython3",
   "version": "3.9.18"
  }
 },
 "nbformat": 4,
 "nbformat_minor": 5
}
