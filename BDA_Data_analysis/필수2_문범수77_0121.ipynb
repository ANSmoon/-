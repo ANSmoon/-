{
 "cells": [
  {
   "cell_type": "markdown",
   "id": "ac9d2000-c1c6-49a8-af6f-fdd623c94564",
   "metadata": {},
   "source": [
    "##### Author : 문범수\n",
    "##### date : 2024-01-21\n",
    "##### title : 01/21수업 복습"
   ]
  },
  {
   "cell_type": "markdown",
   "id": "9d7c2413-574d-4770-90a7-f5c329c9d49e",
   "metadata": {},
   "source": [
    "### 필수과제 2\n",
    "- 1. label에 따라서 긍정, 부정일텐데 긍정의 리뷰와 부정의 리뷰에 가장 많은 단어들은 어떤 것이 있는지? 확인할 것\n",
    "- 문자열 split 리스트에 넣어서 해도 됨\n",
    "\n",
    "- 2. 리뷰의 길이에 따른 긍정과 부정, 가장 많은 빈도의 단어 탐색"
   ]
  },
  {
   "cell_type": "code",
   "execution_count": 1,
   "id": "1b80fecc-803f-4365-93ac-ab8b454eb036",
   "metadata": {},
   "outputs": [],
   "source": [
    "# 예시 데이터\n",
    "positive_reviews = [\n",
    "    \"Great product! I love it.\",\n",
    "    \"The service was excellent.\",\n",
    "    \"Amazing experience, highly recommended.\"\n",
    "]\n",
    "\n",
    "negative_reviews = [\n",
    "    \"Terrible quality, very disappointed.\",\n",
    "    \"Poor customer service.\",\n",
    "    \"Waste of money, regret buying it.\"\n",
    "]\n"
   ]
  },
  {
   "cell_type": "code",
   "execution_count": 2,
   "id": "32a986a1-8485-4e8f-8bc7-e1d7c5fdf5c2",
   "metadata": {},
   "outputs": [
    {
     "name": "stdout",
     "output_type": "stream",
     "text": [
      "Most common words in positive reviews: ['it.', 'great', 'product!', 'i', 'love', 'the', 'service', 'was', 'excellent.', 'amazing', 'experience,', 'highly', 'recommended.']\n",
      "Most common words in negative reviews: ['it.', 'i', 'service', 'was', 'terrible', 'quality,', 'very', 'disappointed.', 'poor', 'customer', 'service.', 'waste', 'of', 'money,', 'regret', 'buying']\n"
     ]
    }
   ],
   "source": [
    "from collections import Counter\n",
    "\n",
    "# 가정한 데이터\n",
    "positive_reviews = [\n",
    "    \"Great product! I love it.\",\n",
    "    \"The service was excellent.\",\n",
    "    \"Amazing experience, highly recommended.\"\n",
    "]\n",
    "\n",
    "negative_reviews = [\n",
    "    \"Terrible quality, very disappointed.\",\n",
    "    \"Poor customer service.\",\n",
    "    \"Waste of money, regret buying it.\"\n",
    "]\n",
    "\n",
    "# 긍정 리뷰와 부정 리뷰를 모두 합침\n",
    "all_reviews = positive_reviews + negative_reviews\n",
    "\n",
    "# 단어별 빈도수 계산\n",
    "all_words = [word.lower() for review in all_reviews for word in review.split()]\n",
    "word_counts = Counter(all_words)\n",
    "\n",
    "# 긍정 리뷰에서 가장 많이 나온 단어들\n",
    "most_common_positive_words = [word for word, count in word_counts.items() if word in ' '.join(positive_reviews).lower()]\n",
    "most_common_positive_words = sorted(most_common_positive_words, key=lambda x: word_counts[x], reverse=True)\n",
    "\n",
    "# 부정 리뷰에서 가장 많이 나온 단어들\n",
    "most_common_negative_words = [word for word, count in word_counts.items() if word in ' '.join(negative_reviews).lower()]\n",
    "most_common_negative_words = sorted(most_common_negative_words, key=lambda x: word_counts[x], reverse=True)\n",
    "\n",
    "print(\"Most common words in positive reviews:\", most_common_positive_words)\n",
    "print(\"Most common words in negative reviews:\", most_common_negative_words)\n"
   ]
  },
  {
   "cell_type": "code",
   "execution_count": 3,
   "id": "02175baf-6bd8-4a0e-a849-c45148b64115",
   "metadata": {},
   "outputs": [
    {
     "name": "stdout",
     "output_type": "stream",
     "text": [
      "Most common word count in positive reviews: 4\n",
      "Most common word count in negative reviews: 4\n"
     ]
    }
   ],
   "source": [
    "# 긍정 리뷰와 부정 리뷰의 길이별 빈도수 계산\n",
    "positive_review_lengths = [len(review.split()) for review in positive_reviews]\n",
    "negative_review_lengths = [len(review.split()) for review in negative_reviews]\n",
    "\n",
    "# 긍정 리뷰에서 가장 많이 나온 단어\n",
    "most_common_positive_length = Counter(positive_review_lengths).most_common(1)[0][0]\n",
    "\n",
    "# 부정 리뷰에서 가장 많이 나온 단어\n",
    "most_common_negative_length = Counter(negative_review_lengths).most_common(1)[0][0]\n",
    "\n",
    "print(\"Most common word count in positive reviews:\", most_common_positive_length)\n",
    "print(\"Most common word count in negative reviews:\", most_common_negative_length)\n"
   ]
  },
  {
   "cell_type": "code",
   "execution_count": 5,
   "id": "47b10c16-96cc-44d2-b233-9436a86e09e9",
   "metadata": {},
   "outputs": [
    {
     "name": "stdout",
     "output_type": "stream",
     "text": [
      "Most common words in positive reviews: ['the', 'it.', 'customer', 'of', 'product']\n",
      "Most common words in negative reviews: ['the', 'it.', 'customer', 'of', 'product']\n",
      "Most common word count in positive reviews: 4\n",
      "Most common word count in negative reviews: 4\n"
     ]
    }
   ],
   "source": [
    "from collections import Counter\n",
    "\n",
    "# 파일에서 긍정과 부정 리뷰 읽어오기\n",
    "def read_reviews_from_file(filename):\n",
    "    with open(filename, 'r', encoding='utf-8') as file:\n",
    "        reviews = [line.strip() for line in file]\n",
    "    return reviews\n",
    "\n",
    "# 파일에서 읽어온 리뷰 데이터\n",
    "positive_reviews = read_reviews_from_file('positive_reviews.txt')\n",
    "negative_reviews = read_reviews_from_file('negative_reviews.txt')\n",
    "\n",
    "# 모든 리뷰를 합침\n",
    "all_reviews = positive_reviews + negative_reviews\n",
    "\n",
    "# 1. 긍정 리뷰와 부정 리뷰에서 가장 많이 나오는 단어 확인\n",
    "all_words = [word.lower() for review in all_reviews for word in review.split()]\n",
    "word_counts = Counter(all_words)\n",
    "\n",
    "# 긍정 리뷰에서 가장 많이 나온 단어들\n",
    "most_common_positive_words = [word for word, count in word_counts.items() if word in ' '.join(positive_reviews).lower()]\n",
    "most_common_positive_words = sorted(most_common_positive_words, key=lambda x: word_counts[x], reverse=True)[:5]\n",
    "\n",
    "# 부정 리뷰에서 가장 많이 나온 단어들\n",
    "most_common_negative_words = [word for word, count in word_counts.items() if word in ' '.join(negative_reviews).lower()]\n",
    "most_common_negative_words = sorted(most_common_negative_words, key=lambda x: word_counts[x], reverse=True)[:5]\n",
    "\n",
    "print(\"Most common words in positive reviews:\", most_common_positive_words)\n",
    "print(\"Most common words in negative reviews:\", most_common_negative_words)\n",
    "\n",
    "# 2. 리뷰의 길이에 따른 긍정과 부정, 가장 많은 빈도의 단어 탐색\n",
    "positive_review_lengths = [len(review.split()) for review in positive_reviews]\n",
    "negative_review_lengths = [len(review.split()) for review in negative_reviews]\n",
    "\n",
    "# 긍정 리뷰에서 가장 많이 나온 단어 수\n",
    "most_common_positive_length = Counter(positive_review_lengths).most_common(1)[0][0]\n",
    "\n",
    "# 부정 리뷰에서 가장 많이 나온 단어 수\n",
    "most_common_negative_length = Counter(negative_review_lengths).most_common(1)[0][0]\n",
    "\n",
    "print(\"Most common word count in positive reviews:\", most_common_positive_length)\n",
    "print(\"Most common word count in negative reviews:\", most_common_negative_length)\n"
   ]
  },
  {
   "cell_type": "code",
   "execution_count": null,
   "id": "459223a2-e30f-45ff-aff8-10d7ad1467b0",
   "metadata": {},
   "outputs": [],
   "source": []
  }
 ],
 "metadata": {
  "kernelspec": {
   "display_name": "Python 3 (ipykernel)",
   "language": "python",
   "name": "python3"
  },
  "language_info": {
   "codemirror_mode": {
    "name": "ipython",
    "version": 3
   },
   "file_extension": ".py",
   "mimetype": "text/x-python",
   "name": "python",
   "nbconvert_exporter": "python",
   "pygments_lexer": "ipython3",
   "version": "3.9.18"
  }
 },
 "nbformat": 4,
 "nbformat_minor": 5
}
