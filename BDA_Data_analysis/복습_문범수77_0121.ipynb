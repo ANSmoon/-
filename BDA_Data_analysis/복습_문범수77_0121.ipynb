{
 "cells": [
  {
   "cell_type": "markdown",
   "id": "29e3d8ed-93ee-4711-8ad9-fc5e779fbb5a",
   "metadata": {
    "jp-MarkdownHeadingCollapsed": true,
    "tags": []
   },
   "source": [
    "##### Author : 문범수\n",
    "##### date : 2024-01-21\n",
    "##### title : 01/21수업 복습"
   ]
  },
  {
   "cell_type": "markdown",
   "id": "5f1fc3d3-dc67-410e-b4c8-060384b4cd4b",
   "metadata": {},
   "source": [
    "## 정규표현식\n",
    "- 문자열 처리할 때 나만의 패턴이나, 분석가의 다양한 사례에서 요구하는 조건의 패턴을 만들어서 처리하는 방법!\n",
    "- 그 방법을 정규표현식을 이용해 대부분 처리한다!\n",
    "- split, strip, 배웠던 문자열 문법들이 정규표현식과 만나면 정말 다양하게 응용 가능\n",
    "- 이메일 주소 찾기, 아이디, 비번 찾기, 회원가입 아이디 패턴 등 다양한 패턴 생성 가능"
   ]
  },
  {
   "cell_type": "code",
   "execution_count": 7,
   "id": "88ee34a3-6359-4b2a-98bd-27d9b633ea83",
   "metadata": {},
   "outputs": [],
   "source": [
    "import re\n",
    "# pattern을 찾는 두가지 방법 : match, search"
   ]
  },
  {
   "cell_type": "code",
   "execution_count": 8,
   "id": "00b82517-b0e9-4641-af3d-c4b9182c2297",
   "metadata": {},
   "outputs": [
    {
     "data": {
      "text/plain": [
       "<re.Match object; span=(0, 5), match='Hello'>"
      ]
     },
     "execution_count": 8,
     "metadata": {},
     "output_type": "execute_result"
    }
   ],
   "source": [
    "# pattern을 찾는 방법!\n",
    "\n",
    "re.match('Hello', 'Hello, World!')\n",
    "# 내가 원하는 pattern인 Hello 찾아서 -> index 출력"
   ]
  },
  {
   "cell_type": "code",
   "execution_count": 9,
   "id": "779b960c-d3dc-4b37-9573-819992ccefce",
   "metadata": {},
   "outputs": [
    {
     "data": {
      "text/plain": [
       "<re.Match object; span=(0, 5), match='Hello'>"
      ]
     },
     "execution_count": 9,
     "metadata": {},
     "output_type": "execute_result"
    }
   ],
   "source": [
    "re.search('Hello', 'Hello, World!')\n",
    "# 내가 원하는 pattern인 Hello 찾아서 -> index 출력"
   ]
  },
  {
   "cell_type": "code",
   "execution_count": 10,
   "id": "72120210-fcd4-43bd-9437-55c86e3c3afb",
   "metadata": {},
   "outputs": [],
   "source": [
    "re.match('Hello', 'World! Hello')\n",
    "#match는 이기적이라 바로 앞 인덱스만 확인"
   ]
  },
  {
   "cell_type": "code",
   "execution_count": 12,
   "id": "97cbe449-6a4d-432f-b03c-0026f50cb3a4",
   "metadata": {},
   "outputs": [
    {
     "data": {
      "text/plain": [
       "<re.Match object; span=(7, 12), match='Hello'>"
      ]
     },
     "execution_count": 12,
     "metadata": {},
     "output_type": "execute_result"
    }
   ],
   "source": [
    "re.search('Hello', 'World! Hello')\n",
    "#search는 전체 문자열에 대해서 확인"
   ]
  },
  {
   "cell_type": "markdown",
   "id": "88547d72-324a-42b8-ae69-e15ffdde5192",
   "metadata": {},
   "source": [
    "## 정규표현식\n",
    "- 숫자들 [0-9]\n",
    "- 영어소문자[a-z]\n",
    "- 영어대문자[A-Z]\n",
    "- 한글[가 힣]\n",
    "- 자음 모음 [ㄱ-ㅎ][ㅏ-ㅣ]\n",
    "- ^not : 제외하고 전부\n",
    "- '+', '*' : 0개이상 또는 1개 이상의 패턴을 모두 찾는것!"
   ]
  },
  {
   "cell_type": "code",
   "execution_count": 15,
   "id": "a6e83ebd-5bc5-4cef-9364-99f741c92b74",
   "metadata": {},
   "outputs": [
    {
     "data": {
      "text/plain": [
       "<re.Match object; span=(0, 1), match='1'>"
      ]
     },
     "execution_count": 15,
     "metadata": {},
     "output_type": "execute_result"
    }
   ],
   "source": [
    "# 숫자 패턴만 찾기\n",
    "re.search('[0-9]','12345123412512345,aㄴㅁㅇㄻㅇㄴㄹㄴㅇㄻㄴㅇㄹ@naver.com')"
   ]
  },
  {
   "cell_type": "code",
   "execution_count": 17,
   "id": "a2739377-fe5b-4220-98b9-3dcb8a53d127",
   "metadata": {},
   "outputs": [
    {
     "data": {
      "text/plain": [
       "<re.Match object; span=(0, 17), match='12345123412512345'>"
      ]
     },
     "execution_count": 17,
     "metadata": {},
     "output_type": "execute_result"
    }
   ],
   "source": [
    "re.search('[0-9]+','12345123412512345,aㄴㅁㅇㄻㅇㄴㄹㄴㅇㄻㄴㅇㄹ@naver.com')\n",
    "# 정규표현식을 이용해 다양한 문자열 내에서 내가 원하는 문자 패턴을 찾을 수 있다."
   ]
  },
  {
   "cell_type": "code",
   "execution_count": 18,
   "id": "6dbcfe4c-afea-40aa-b65c-b399b1d0aa73",
   "metadata": {},
   "outputs": [
    {
     "data": {
      "text/plain": [
       "<re.Match object; span=(6, 9), match='홍길동'>"
      ]
     },
     "execution_count": 18,
     "metadata": {},
     "output_type": "execute_result"
    }
   ],
   "source": [
    "re.search('[가-힣]+','12345/홍길동/asdfasdfasdf@naver.com/010-1111-1111')"
   ]
  },
  {
   "cell_type": "markdown",
   "id": "97a1384e-fc8e-4a4e-9f43-c5018a181642",
   "metadata": {},
   "source": [
    "- {} 숫자를 넣으면 해당 패턴의 문자를 몇개 찾아달라!\n",
    "- e.g {3} 3개의 패턴을 찾아라!\n",
    "- 010-0000-0000"
   ]
  },
  {
   "cell_type": "code",
   "execution_count": 23,
   "id": "c1f2b975-7c01-4c6f-92ff-f926968c8435",
   "metadata": {},
   "outputs": [
    {
     "data": {
      "text/plain": [
       "<re.Match object; span=(0, 13), match='010-1234-5678'>"
      ]
     },
     "execution_count": 23,
     "metadata": {},
     "output_type": "execute_result"
    }
   ],
   "source": [
    "# 휴대전화번호 패턴 찾기!\n",
    "re.match('[0-9]{3}-[0-9]{4}-[0-9]{4}','010-1234-5678')"
   ]
  },
  {
   "cell_type": "markdown",
   "id": "c54d1514-9f4e-46b8-9526-681efd8be31b",
   "metadata": {},
   "source": [
    "- 정규표현식을 여러 개 합쳐서 사용 가능!"
   ]
  },
  {
   "cell_type": "code",
   "execution_count": 24,
   "id": "0e4b05c8-b07d-40f9-a187-491a76d568ca",
   "metadata": {},
   "outputs": [
    {
     "data": {
      "text/plain": [
       "<re.Match object; span=(0, 12), match='1234513123/홍'>"
      ]
     },
     "execution_count": 24,
     "metadata": {},
     "output_type": "execute_result"
    }
   ],
   "source": [
    "re.search('[가-힣a-zA-Z0-9]+/[가-힣a-zA-Z0-9]','1234513123/홍길동/lsakdjfaf@naver.com/010-3123-1234')"
   ]
  },
  {
   "cell_type": "markdown",
   "id": "bf7437fa-2d9d-4a69-b84e-4c110cc8642e",
   "metadata": {},
   "source": [
    "- 간단한 약어 개념\n",
    "- \\d 모든 숫자\n",
    "- \\D 모든 숫자 제외\n",
    "- \\w 영문, 대소문자, 숫자, 밑줄 문자 포함\n",
    "- \\W 영문, 대소문자, 숫자, 밑줄 문자 제외한 나머지"
   ]
  },
  {
   "cell_type": "code",
   "execution_count": 26,
   "id": "a2259dc4-db10-4204-9d6f-68d2f59db06f",
   "metadata": {},
   "outputs": [
    {
     "data": {
      "text/plain": [
       "<re.Match object; span=(0, 17), match='12345123412512345'>"
      ]
     },
     "execution_count": 26,
     "metadata": {},
     "output_type": "execute_result"
    }
   ],
   "source": [
    "re.search('\\d+','12345123412512345,aㄴㅁㅇㄻㅇㄴㄹㄴㅇㄻㄴㅇㄹ@naver.com')"
   ]
  },
  {
   "cell_type": "markdown",
   "id": "fb760561-811d-4fdd-84e5-9044c274214c",
   "metadata": {},
   "source": [
    "#### 정규표현식도 그룹으로 사용 가능!"
   ]
  },
  {
   "cell_type": "code",
   "execution_count": 28,
   "id": "453ce354-884d-4a61-b736-d9fabe09e79b",
   "metadata": {},
   "outputs": [],
   "source": [
    "ab = re.match('([0-9]+) ([a-z]+)','1234 abc')\n",
    "#ab는 두 개의 그룹으로 정규표현식을 진행"
   ]
  },
  {
   "cell_type": "code",
   "execution_count": 30,
   "id": "1d71ad2d-fd50-498d-89a7-d9742644a16d",
   "metadata": {},
   "outputs": [
    {
     "data": {
      "text/plain": [
       "'1234'"
      ]
     },
     "execution_count": 30,
     "metadata": {},
     "output_type": "execute_result"
    }
   ],
   "source": [
    "ab.group(1)"
   ]
  },
  {
   "cell_type": "code",
   "execution_count": 31,
   "id": "d0cf69e6-1c4a-4a06-83f3-afdbde6f6364",
   "metadata": {},
   "outputs": [
    {
     "data": {
      "text/plain": [
       "'abc'"
      ]
     },
     "execution_count": 31,
     "metadata": {},
     "output_type": "execute_result"
    }
   ],
   "source": [
    "ab.group(2)"
   ]
  },
  {
   "cell_type": "code",
   "execution_count": 32,
   "id": "f2b0334d-3989-48e2-9685-e05005e20b54",
   "metadata": {},
   "outputs": [
    {
     "data": {
      "text/plain": [
       "'1234 abc'"
      ]
     },
     "execution_count": 32,
     "metadata": {},
     "output_type": "execute_result"
    }
   ],
   "source": [
    "ab.group(0)"
   ]
  },
  {
   "cell_type": "markdown",
   "id": "179410b1-3490-4bb7-aa0a-8ba341f6b128",
   "metadata": {},
   "source": [
    "## 실제 예제 data를 가지고 정규표현식 및 test 분석을 진행해 보자!"
   ]
  },
  {
   "cell_type": "code",
   "execution_count": 90,
   "id": "5f4cab52-eb9f-45a5-a3c6-21ec6b9c1c1c",
   "metadata": {},
   "outputs": [],
   "source": [
    "import pandas as pd\n",
    "import numpy as np\n",
    "df = pd.read_csv('movie_rv.csv')"
   ]
  },
  {
   "cell_type": "code",
   "execution_count": 38,
   "id": "49b0171a-17eb-4f0a-94bb-4f55163f405f",
   "metadata": {},
   "outputs": [
    {
     "data": {
      "text/html": [
       "<div>\n",
       "<style scoped>\n",
       "    .dataframe tbody tr th:only-of-type {\n",
       "        vertical-align: middle;\n",
       "    }\n",
       "\n",
       "    .dataframe tbody tr th {\n",
       "        vertical-align: top;\n",
       "    }\n",
       "\n",
       "    .dataframe thead th {\n",
       "        text-align: right;\n",
       "    }\n",
       "</style>\n",
       "<table border=\"1\" class=\"dataframe\">\n",
       "  <thead>\n",
       "    <tr style=\"text-align: right;\">\n",
       "      <th></th>\n",
       "      <th>Unnamed: 0</th>\n",
       "      <th>id</th>\n",
       "      <th>document</th>\n",
       "      <th>label</th>\n",
       "    </tr>\n",
       "  </thead>\n",
       "  <tbody>\n",
       "    <tr>\n",
       "      <th>0</th>\n",
       "      <td>0</td>\n",
       "      <td>9976970</td>\n",
       "      <td>아 더빙.. 진짜 짜증나네요 목소리</td>\n",
       "      <td>0</td>\n",
       "    </tr>\n",
       "    <tr>\n",
       "      <th>1</th>\n",
       "      <td>1</td>\n",
       "      <td>3819312</td>\n",
       "      <td>흠...포스터보고 초딩영화줄....오버연기조차 가볍지 않구나</td>\n",
       "      <td>1</td>\n",
       "    </tr>\n",
       "    <tr>\n",
       "      <th>2</th>\n",
       "      <td>2</td>\n",
       "      <td>10265843</td>\n",
       "      <td>너무재밓었다그래서보는것을추천한다</td>\n",
       "      <td>0</td>\n",
       "    </tr>\n",
       "    <tr>\n",
       "      <th>3</th>\n",
       "      <td>3</td>\n",
       "      <td>9045019</td>\n",
       "      <td>교도소 이야기구먼 ..솔직히 재미는 없다..평점 조정</td>\n",
       "      <td>0</td>\n",
       "    </tr>\n",
       "    <tr>\n",
       "      <th>4</th>\n",
       "      <td>4</td>\n",
       "      <td>6483659</td>\n",
       "      <td>사이몬페그의 익살스런 연기가 돋보였던 영화!스파이더맨에서 늙어보이기만 했던 커스틴 ...</td>\n",
       "      <td>1</td>\n",
       "    </tr>\n",
       "    <tr>\n",
       "      <th>...</th>\n",
       "      <td>...</td>\n",
       "      <td>...</td>\n",
       "      <td>...</td>\n",
       "      <td>...</td>\n",
       "    </tr>\n",
       "    <tr>\n",
       "      <th>149995</th>\n",
       "      <td>149995</td>\n",
       "      <td>6222902</td>\n",
       "      <td>인간이 문제지.. 소는 뭔죄인가..</td>\n",
       "      <td>0</td>\n",
       "    </tr>\n",
       "    <tr>\n",
       "      <th>149996</th>\n",
       "      <td>149996</td>\n",
       "      <td>8549745</td>\n",
       "      <td>평점이 너무 낮아서...</td>\n",
       "      <td>1</td>\n",
       "    </tr>\n",
       "    <tr>\n",
       "      <th>149997</th>\n",
       "      <td>149997</td>\n",
       "      <td>9311800</td>\n",
       "      <td>이게 뭐요? 한국인은 거들먹거리고 필리핀 혼혈은 착하다?</td>\n",
       "      <td>0</td>\n",
       "    </tr>\n",
       "    <tr>\n",
       "      <th>149998</th>\n",
       "      <td>149998</td>\n",
       "      <td>2376369</td>\n",
       "      <td>청춘 영화의 최고봉.방황과 우울했던 날들의 자화상</td>\n",
       "      <td>1</td>\n",
       "    </tr>\n",
       "    <tr>\n",
       "      <th>149999</th>\n",
       "      <td>149999</td>\n",
       "      <td>9619869</td>\n",
       "      <td>한국 영화 최초로 수간하는 내용이 담긴 영화</td>\n",
       "      <td>0</td>\n",
       "    </tr>\n",
       "  </tbody>\n",
       "</table>\n",
       "<p>150000 rows × 4 columns</p>\n",
       "</div>"
      ],
      "text/plain": [
       "        Unnamed: 0        id  \\\n",
       "0                0   9976970   \n",
       "1                1   3819312   \n",
       "2                2  10265843   \n",
       "3                3   9045019   \n",
       "4                4   6483659   \n",
       "...            ...       ...   \n",
       "149995      149995   6222902   \n",
       "149996      149996   8549745   \n",
       "149997      149997   9311800   \n",
       "149998      149998   2376369   \n",
       "149999      149999   9619869   \n",
       "\n",
       "                                                 document  label  \n",
       "0                                     아 더빙.. 진짜 짜증나네요 목소리      0  \n",
       "1                       흠...포스터보고 초딩영화줄....오버연기조차 가볍지 않구나      1  \n",
       "2                                       너무재밓었다그래서보는것을추천한다      0  \n",
       "3                           교도소 이야기구먼 ..솔직히 재미는 없다..평점 조정      0  \n",
       "4       사이몬페그의 익살스런 연기가 돋보였던 영화!스파이더맨에서 늙어보이기만 했던 커스틴 ...      1  \n",
       "...                                                   ...    ...  \n",
       "149995                                인간이 문제지.. 소는 뭔죄인가..      0  \n",
       "149996                                      평점이 너무 낮아서...      1  \n",
       "149997                    이게 뭐요? 한국인은 거들먹거리고 필리핀 혼혈은 착하다?      0  \n",
       "149998                        청춘 영화의 최고봉.방황과 우울했던 날들의 자화상      1  \n",
       "149999                           한국 영화 최초로 수간하는 내용이 담긴 영화      0  \n",
       "\n",
       "[150000 rows x 4 columns]"
      ]
     },
     "execution_count": 38,
     "metadata": {},
     "output_type": "execute_result"
    }
   ],
   "source": [
    "df"
   ]
  },
  {
   "cell_type": "markdown",
   "id": "1b00d4f5-2dba-454e-806f-ce7bb1137013",
   "metadata": {},
   "source": [
    "#### pandas에서 제공하는 str 문법!\n",
    "- 기존 python 문자열 다루는 문법과 같이 용용 사용\n",
    "    - 시리즈 데이터형태 str.내가 원하는 문법들"
   ]
  },
  {
   "cell_type": "code",
   "execution_count": 40,
   "id": "f6917ddd-ab30-418b-af72-58ade14d98c2",
   "metadata": {},
   "outputs": [
    {
     "data": {
      "text/plain": [
       "0                                       아 더빙.. 진짜 짜증나네요 목소리\n",
       "1                         흠...포스터보고 초딩영화줄....오버연기조차 가볍지 않구나\n",
       "2                                         너무재밓었다그래서보는것을추천한다\n",
       "3                             교도소 이야기구먼 ..솔직히 재미는 없다..평점 조정\n",
       "4         사이몬페그의 익살스런 연기가 돋보였던 영화!스파이더맨에서 늙어보이기만 했던 커스틴 ...\n",
       "                                ...                        \n",
       "149995                                  인간이 문제지.. 소는 뭔죄인가..\n",
       "149996                                        평점이 너무 낮아서...\n",
       "149997                      이게 뭐요? 한국인은 거들먹거리고 필리핀 혼혈은 착하다?\n",
       "149998                          청춘 영화의 최고봉.방황과 우울했던 날들의 자화상\n",
       "149999                             한국 영화 최초로 수간하는 내용이 담긴 영화\n",
       "Name: document, Length: 150000, dtype: object"
      ]
     },
     "execution_count": 40,
     "metadata": {},
     "output_type": "execute_result"
    }
   ],
   "source": [
    "# strip() 공백제거 lstrip, rstrip\n",
    "df['document'].str.strip()"
   ]
  },
  {
   "cell_type": "markdown",
   "id": "d9345dbf-f20d-4e43-ae62-7646f9820ccc",
   "metadata": {},
   "source": [
    "- pad 길이 맞추거나, 0패딩 맞출 때 하는 문법!"
   ]
  },
  {
   "cell_type": "code",
   "execution_count": 45,
   "id": "5bb6a023-f616-491a-af52-567b3356d03d",
   "metadata": {},
   "outputs": [
    {
     "data": {
      "text/plain": [
       "0                            ***********아 더빙.. 진짜 짜증나네요 목소리\n",
       "1                         흠...포스터보고 초딩영화줄....오버연기조차 가볍지 않구나\n",
       "2                            *************너무재밓었다그래서보는것을추천한다\n",
       "3                            *교도소 이야기구먼 ..솔직히 재미는 없다..평점 조정\n",
       "4         사이몬페그의 익살스런 연기가 돋보였던 영화!스파이더맨에서 늙어보이기만 했던 커스틴 ...\n",
       "                                ...                        \n",
       "149995                       ***********인간이 문제지.. 소는 뭔죄인가..\n",
       "149996                       *****************평점이 너무 낮아서...\n",
       "149997                      이게 뭐요? 한국인은 거들먹거리고 필리핀 혼혈은 착하다?\n",
       "149998                       ***청춘 영화의 최고봉.방황과 우울했던 날들의 자화상\n",
       "149999                       ******한국 영화 최초로 수간하는 내용이 담긴 영화\n",
       "Name: document, Length: 150000, dtype: object"
      ]
     },
     "execution_count": 45,
     "metadata": {},
     "output_type": "execute_result"
    }
   ],
   "source": [
    "df['document'].str.pad(width=30, side = 'left', fillchar = '*')                       "
   ]
  },
  {
   "cell_type": "code",
   "execution_count": 48,
   "id": "e633a2ac-cde9-4450-9e73-ec6e17255a8d",
   "metadata": {},
   "outputs": [
    {
     "data": {
      "text/plain": [
       "0                            /////아 더빙.. 진짜 짜증나네요 목소리//////\n",
       "1                         흠...포스터보고 초딩영화줄....오버연기조차 가볍지 않구나\n",
       "2                            //////너무재밓었다그래서보는것을추천한다///////\n",
       "3                            교도소 이야기구먼 ..솔직히 재미는 없다..평점 조정/\n",
       "4         사이몬페그의 익살스런 연기가 돋보였던 영화!스파이더맨에서 늙어보이기만 했던 커스틴 ...\n",
       "                                ...                        \n",
       "149995                       /////인간이 문제지.. 소는 뭔죄인가..//////\n",
       "149996                       ////////평점이 너무 낮아서.../////////\n",
       "149997                      이게 뭐요? 한국인은 거들먹거리고 필리핀 혼혈은 착하다?\n",
       "149998                       /청춘 영화의 최고봉.방황과 우울했던 날들의 자화상//\n",
       "149999                       ///한국 영화 최초로 수간하는 내용이 담긴 영화///\n",
       "Name: document, Length: 150000, dtype: object"
      ]
     },
     "execution_count": 48,
     "metadata": {},
     "output_type": "execute_result"
    }
   ],
   "source": [
    "df['document'].str.center(width=30,  fillchar = '/')                       "
   ]
  },
  {
   "cell_type": "code",
   "execution_count": 50,
   "id": "c4f01e0f-1d77-4dbd-bcc7-5d299b5647d6",
   "metadata": {},
   "outputs": [
    {
     "data": {
      "text/plain": [
       "0                            아 더빙.. 진짜 짜증나네요 목소리///////////\n",
       "1                         흠...포스터보고 초딩영화줄....오버연기조차 가볍지 않구나\n",
       "2                            너무재밓었다그래서보는것을추천한다/////////////\n",
       "3                            교도소 이야기구먼 ..솔직히 재미는 없다..평점 조정/\n",
       "4         사이몬페그의 익살스런 연기가 돋보였던 영화!스파이더맨에서 늙어보이기만 했던 커스틴 ...\n",
       "                                ...                        \n",
       "149995                       인간이 문제지.. 소는 뭔죄인가..///////////\n",
       "149996                       평점이 너무 낮아서.../////////////////\n",
       "149997                      이게 뭐요? 한국인은 거들먹거리고 필리핀 혼혈은 착하다?\n",
       "149998                       청춘 영화의 최고봉.방황과 우울했던 날들의 자화상///\n",
       "149999                       한국 영화 최초로 수간하는 내용이 담긴 영화//////\n",
       "Name: document, Length: 150000, dtype: object"
      ]
     },
     "execution_count": 50,
     "metadata": {},
     "output_type": "execute_result"
    }
   ],
   "source": [
    "df['document'].str.ljust(width=30,  fillchar = '/') # 오른쪽에 맞춰서          "
   ]
  },
  {
   "cell_type": "code",
   "execution_count": 53,
   "id": "a43fe639-2890-4022-85b9-be28494fdaee",
   "metadata": {},
   "outputs": [
    {
     "data": {
      "text/plain": [
       "0                            00000000000아 더빙.. 진짜 짜증나네요 목소리\n",
       "1                         흠...포스터보고 초딩영화줄....오버연기조차 가볍지 않구나\n",
       "2                            0000000000000너무재밓었다그래서보는것을추천한다\n",
       "3                            0교도소 이야기구먼 ..솔직히 재미는 없다..평점 조정\n",
       "4         사이몬페그의 익살스런 연기가 돋보였던 영화!스파이더맨에서 늙어보이기만 했던 커스틴 ...\n",
       "                                ...                        \n",
       "149995                       00000000000인간이 문제지.. 소는 뭔죄인가..\n",
       "149996                       00000000000000000평점이 너무 낮아서...\n",
       "149997                      이게 뭐요? 한국인은 거들먹거리고 필리핀 혼혈은 착하다?\n",
       "149998                       000청춘 영화의 최고봉.방황과 우울했던 날들의 자화상\n",
       "149999                       000000한국 영화 최초로 수간하는 내용이 담긴 영화\n",
       "Name: document, Length: 150000, dtype: object"
      ]
     },
     "execution_count": 53,
     "metadata": {},
     "output_type": "execute_result"
    }
   ],
   "source": [
    "df['document'].str.zfill(width=30) # 0값을 패딩 길이에 맞춰서 채워준다!"
   ]
  },
  {
   "cell_type": "markdown",
   "id": "5a18809a-0d35-488f-8a86-de989971858b",
   "metadata": {},
   "source": [
    "#### split() : 문자열 나누기!"
   ]
  },
  {
   "cell_type": "code",
   "execution_count": 57,
   "id": "82299ba8-c1b1-4d8d-b241-7eb7f6ed1f56",
   "metadata": {},
   "outputs": [],
   "source": [
    "df[['document_1','document_2']] = df['document'].str.split(' ', n = 1, expand = True) # n 구분자 1개"
   ]
  },
  {
   "cell_type": "code",
   "execution_count": 62,
   "id": "f1b48cdd-78c2-413e-bcb5-f4c59eef7735",
   "metadata": {},
   "outputs": [],
   "source": [
    "df[['document_1n','document_2n','document_3n']] = df['document'].str.partition(sep = ' ')\n",
    "#partition() : 좌측에 먼저 출현한 구분자를 나누는 것"
   ]
  },
  {
   "cell_type": "code",
   "execution_count": 63,
   "id": "026e18b6-fa9c-494d-a54f-0b0260a90c71",
   "metadata": {},
   "outputs": [
    {
     "data": {
      "text/html": [
       "<div>\n",
       "<style scoped>\n",
       "    .dataframe tbody tr th:only-of-type {\n",
       "        vertical-align: middle;\n",
       "    }\n",
       "\n",
       "    .dataframe tbody tr th {\n",
       "        vertical-align: top;\n",
       "    }\n",
       "\n",
       "    .dataframe thead th {\n",
       "        text-align: right;\n",
       "    }\n",
       "</style>\n",
       "<table border=\"1\" class=\"dataframe\">\n",
       "  <thead>\n",
       "    <tr style=\"text-align: right;\">\n",
       "      <th></th>\n",
       "      <th>Unnamed: 0</th>\n",
       "      <th>id</th>\n",
       "      <th>document</th>\n",
       "      <th>label</th>\n",
       "      <th>document_1</th>\n",
       "      <th>document_2</th>\n",
       "      <th>document_1n</th>\n",
       "      <th>document_2n</th>\n",
       "      <th>document_3n</th>\n",
       "    </tr>\n",
       "  </thead>\n",
       "  <tbody>\n",
       "    <tr>\n",
       "      <th>0</th>\n",
       "      <td>0</td>\n",
       "      <td>9976970</td>\n",
       "      <td>아 더빙.. 진짜 짜증나네요 목소리</td>\n",
       "      <td>0</td>\n",
       "      <td>아</td>\n",
       "      <td>더빙.. 진짜 짜증나네요 목소리</td>\n",
       "      <td>아</td>\n",
       "      <td></td>\n",
       "      <td>더빙.. 진짜 짜증나네요 목소리</td>\n",
       "    </tr>\n",
       "    <tr>\n",
       "      <th>1</th>\n",
       "      <td>1</td>\n",
       "      <td>3819312</td>\n",
       "      <td>흠...포스터보고 초딩영화줄....오버연기조차 가볍지 않구나</td>\n",
       "      <td>1</td>\n",
       "      <td>흠...포스터보고</td>\n",
       "      <td>초딩영화줄....오버연기조차 가볍지 않구나</td>\n",
       "      <td>흠...포스터보고</td>\n",
       "      <td></td>\n",
       "      <td>초딩영화줄....오버연기조차 가볍지 않구나</td>\n",
       "    </tr>\n",
       "    <tr>\n",
       "      <th>2</th>\n",
       "      <td>2</td>\n",
       "      <td>10265843</td>\n",
       "      <td>너무재밓었다그래서보는것을추천한다</td>\n",
       "      <td>0</td>\n",
       "      <td>너무재밓었다그래서보는것을추천한다</td>\n",
       "      <td>None</td>\n",
       "      <td>너무재밓었다그래서보는것을추천한다</td>\n",
       "      <td></td>\n",
       "      <td></td>\n",
       "    </tr>\n",
       "    <tr>\n",
       "      <th>3</th>\n",
       "      <td>3</td>\n",
       "      <td>9045019</td>\n",
       "      <td>교도소 이야기구먼 ..솔직히 재미는 없다..평점 조정</td>\n",
       "      <td>0</td>\n",
       "      <td>교도소</td>\n",
       "      <td>이야기구먼 ..솔직히 재미는 없다..평점 조정</td>\n",
       "      <td>교도소</td>\n",
       "      <td></td>\n",
       "      <td>이야기구먼 ..솔직히 재미는 없다..평점 조정</td>\n",
       "    </tr>\n",
       "    <tr>\n",
       "      <th>4</th>\n",
       "      <td>4</td>\n",
       "      <td>6483659</td>\n",
       "      <td>사이몬페그의 익살스런 연기가 돋보였던 영화!스파이더맨에서 늙어보이기만 했던 커스틴 ...</td>\n",
       "      <td>1</td>\n",
       "      <td>사이몬페그의</td>\n",
       "      <td>익살스런 연기가 돋보였던 영화!스파이더맨에서 늙어보이기만 했던 커스틴 던스트가 너무...</td>\n",
       "      <td>사이몬페그의</td>\n",
       "      <td></td>\n",
       "      <td>익살스런 연기가 돋보였던 영화!스파이더맨에서 늙어보이기만 했던 커스틴 던스트가 너무...</td>\n",
       "    </tr>\n",
       "    <tr>\n",
       "      <th>...</th>\n",
       "      <td>...</td>\n",
       "      <td>...</td>\n",
       "      <td>...</td>\n",
       "      <td>...</td>\n",
       "      <td>...</td>\n",
       "      <td>...</td>\n",
       "      <td>...</td>\n",
       "      <td>...</td>\n",
       "      <td>...</td>\n",
       "    </tr>\n",
       "    <tr>\n",
       "      <th>149995</th>\n",
       "      <td>149995</td>\n",
       "      <td>6222902</td>\n",
       "      <td>인간이 문제지.. 소는 뭔죄인가..</td>\n",
       "      <td>0</td>\n",
       "      <td>인간이</td>\n",
       "      <td>문제지.. 소는 뭔죄인가..</td>\n",
       "      <td>인간이</td>\n",
       "      <td></td>\n",
       "      <td>문제지.. 소는 뭔죄인가..</td>\n",
       "    </tr>\n",
       "    <tr>\n",
       "      <th>149996</th>\n",
       "      <td>149996</td>\n",
       "      <td>8549745</td>\n",
       "      <td>평점이 너무 낮아서...</td>\n",
       "      <td>1</td>\n",
       "      <td>평점이</td>\n",
       "      <td>너무 낮아서...</td>\n",
       "      <td>평점이</td>\n",
       "      <td></td>\n",
       "      <td>너무 낮아서...</td>\n",
       "    </tr>\n",
       "    <tr>\n",
       "      <th>149997</th>\n",
       "      <td>149997</td>\n",
       "      <td>9311800</td>\n",
       "      <td>이게 뭐요? 한국인은 거들먹거리고 필리핀 혼혈은 착하다?</td>\n",
       "      <td>0</td>\n",
       "      <td>이게</td>\n",
       "      <td>뭐요? 한국인은 거들먹거리고 필리핀 혼혈은 착하다?</td>\n",
       "      <td>이게</td>\n",
       "      <td></td>\n",
       "      <td>뭐요? 한국인은 거들먹거리고 필리핀 혼혈은 착하다?</td>\n",
       "    </tr>\n",
       "    <tr>\n",
       "      <th>149998</th>\n",
       "      <td>149998</td>\n",
       "      <td>2376369</td>\n",
       "      <td>청춘 영화의 최고봉.방황과 우울했던 날들의 자화상</td>\n",
       "      <td>1</td>\n",
       "      <td>청춘</td>\n",
       "      <td>영화의 최고봉.방황과 우울했던 날들의 자화상</td>\n",
       "      <td>청춘</td>\n",
       "      <td></td>\n",
       "      <td>영화의 최고봉.방황과 우울했던 날들의 자화상</td>\n",
       "    </tr>\n",
       "    <tr>\n",
       "      <th>149999</th>\n",
       "      <td>149999</td>\n",
       "      <td>9619869</td>\n",
       "      <td>한국 영화 최초로 수간하는 내용이 담긴 영화</td>\n",
       "      <td>0</td>\n",
       "      <td>한국</td>\n",
       "      <td>영화 최초로 수간하는 내용이 담긴 영화</td>\n",
       "      <td>한국</td>\n",
       "      <td></td>\n",
       "      <td>영화 최초로 수간하는 내용이 담긴 영화</td>\n",
       "    </tr>\n",
       "  </tbody>\n",
       "</table>\n",
       "<p>150000 rows × 9 columns</p>\n",
       "</div>"
      ],
      "text/plain": [
       "        Unnamed: 0        id  \\\n",
       "0                0   9976970   \n",
       "1                1   3819312   \n",
       "2                2  10265843   \n",
       "3                3   9045019   \n",
       "4                4   6483659   \n",
       "...            ...       ...   \n",
       "149995      149995   6222902   \n",
       "149996      149996   8549745   \n",
       "149997      149997   9311800   \n",
       "149998      149998   2376369   \n",
       "149999      149999   9619869   \n",
       "\n",
       "                                                 document  label  \\\n",
       "0                                     아 더빙.. 진짜 짜증나네요 목소리      0   \n",
       "1                       흠...포스터보고 초딩영화줄....오버연기조차 가볍지 않구나      1   \n",
       "2                                       너무재밓었다그래서보는것을추천한다      0   \n",
       "3                           교도소 이야기구먼 ..솔직히 재미는 없다..평점 조정      0   \n",
       "4       사이몬페그의 익살스런 연기가 돋보였던 영화!스파이더맨에서 늙어보이기만 했던 커스틴 ...      1   \n",
       "...                                                   ...    ...   \n",
       "149995                                인간이 문제지.. 소는 뭔죄인가..      0   \n",
       "149996                                      평점이 너무 낮아서...      1   \n",
       "149997                    이게 뭐요? 한국인은 거들먹거리고 필리핀 혼혈은 착하다?      0   \n",
       "149998                        청춘 영화의 최고봉.방황과 우울했던 날들의 자화상      1   \n",
       "149999                           한국 영화 최초로 수간하는 내용이 담긴 영화      0   \n",
       "\n",
       "               document_1                                         document_2  \\\n",
       "0                       아                                  더빙.. 진짜 짜증나네요 목소리   \n",
       "1               흠...포스터보고                            초딩영화줄....오버연기조차 가볍지 않구나   \n",
       "2       너무재밓었다그래서보는것을추천한다                                               None   \n",
       "3                     교도소                          이야기구먼 ..솔직히 재미는 없다..평점 조정   \n",
       "4                  사이몬페그의  익살스런 연기가 돋보였던 영화!스파이더맨에서 늙어보이기만 했던 커스틴 던스트가 너무...   \n",
       "...                   ...                                                ...   \n",
       "149995                인간이                                    문제지.. 소는 뭔죄인가..   \n",
       "149996                평점이                                          너무 낮아서...   \n",
       "149997                 이게                       뭐요? 한국인은 거들먹거리고 필리핀 혼혈은 착하다?   \n",
       "149998                 청춘                           영화의 최고봉.방황과 우울했던 날들의 자화상   \n",
       "149999                 한국                              영화 최초로 수간하는 내용이 담긴 영화   \n",
       "\n",
       "              document_1n document_2n  \\\n",
       "0                       아               \n",
       "1               흠...포스터보고               \n",
       "2       너무재밓었다그래서보는것을추천한다               \n",
       "3                     교도소               \n",
       "4                  사이몬페그의               \n",
       "...                   ...         ...   \n",
       "149995                인간이               \n",
       "149996                평점이               \n",
       "149997                 이게               \n",
       "149998                 청춘               \n",
       "149999                 한국               \n",
       "\n",
       "                                              document_3n  \n",
       "0                                       더빙.. 진짜 짜증나네요 목소리  \n",
       "1                                 초딩영화줄....오버연기조차 가볍지 않구나  \n",
       "2                                                          \n",
       "3                               이야기구먼 ..솔직히 재미는 없다..평점 조정  \n",
       "4       익살스런 연기가 돋보였던 영화!스파이더맨에서 늙어보이기만 했던 커스틴 던스트가 너무...  \n",
       "...                                                   ...  \n",
       "149995                                    문제지.. 소는 뭔죄인가..  \n",
       "149996                                          너무 낮아서...  \n",
       "149997                       뭐요? 한국인은 거들먹거리고 필리핀 혼혈은 착하다?  \n",
       "149998                           영화의 최고봉.방황과 우울했던 날들의 자화상  \n",
       "149999                              영화 최초로 수간하는 내용이 담긴 영화  \n",
       "\n",
       "[150000 rows x 9 columns]"
      ]
     },
     "execution_count": 63,
     "metadata": {},
     "output_type": "execute_result"
    }
   ],
   "source": [
    "df"
   ]
  },
  {
   "cell_type": "markdown",
   "id": "c22d0c44-5476-4d1e-b1eb-ce6a4a18c0c9",
   "metadata": {},
   "source": [
    "### 영문 대소문자 바꾸기\n",
    "- lower~ 소문자 변경\n",
    "- uppper~ 대문자 변경\n",
    "- capitailize - 앞문자 대문자로 변경\n",
    "- title - 단위별 앞문자 대문자로 변경하기\n",
    "- swapcase - 소문자는 대문자, 대문자는 소문자로 변경하기\n",
    "\n",
    "- replace 문법"
   ]
  },
  {
   "cell_type": "code",
   "execution_count": 66,
   "id": "5b446c07-e947-4c72-848e-b0c0b4044baa",
   "metadata": {},
   "outputs": [
    {
     "data": {
      "text/plain": [
       "0                                       아 더빙** 진짜 짜증나네요 목소리\n",
       "1                         흠***포스터보고 초딩영화줄****오버연기조차 가볍지 않구나\n",
       "2                                         너무재밓었다그래서보는것을추천한다\n",
       "3                             교도소 이야기구먼 **솔직히 재미는 없다**평점 조정\n",
       "4         사이몬페그의 익살스런 연기가 돋보였던 영화!스파이더맨에서 늙어보이기만 했던 커스틴 ...\n",
       "                                ...                        \n",
       "149995                                  인간이 문제지** 소는 뭔죄인가**\n",
       "149996                                        평점이 너무 낮아서***\n",
       "149997                      이게 뭐요? 한국인은 거들먹거리고 필리핀 혼혈은 착하다?\n",
       "149998                          청춘 영화의 최고봉*방황과 우울했던 날들의 자화상\n",
       "149999                             한국 영화 최초로 수간하는 내용이 담긴 영화\n",
       "Name: document, Length: 150000, dtype: object"
      ]
     },
     "execution_count": 66,
     "metadata": {},
     "output_type": "execute_result"
    }
   ],
   "source": [
    "df['document'].str.replace(pat = \".\", repl = '*', regex = False)"
   ]
  },
  {
   "cell_type": "code",
   "execution_count": 67,
   "id": "d02f00c6-aa8a-4fb6-951c-d57245b42f7f",
   "metadata": {},
   "outputs": [
    {
     "data": {
      "text/plain": [
       "0                                         아 더빙 진짜 짜증나네요 목소리\n",
       "1                                흠포스터보고 초딩영화줄오버연기조차 가볍지 않구나\n",
       "2                                         너무재밓었다그래서보는것을추천한다\n",
       "3                                 교도소 이야기구먼 솔직히 재미는 없다평점 조정\n",
       "4         사이몬페그의 익살스런 연기가 돋보였던 영화!스파이더맨에서 늙어보이기만 했던 커스틴 ...\n",
       "                                ...                        \n",
       "149995                                      인간이 문제지 소는 뭔죄인가\n",
       "149996                                           평점이 너무 낮아서\n",
       "149997                      이게 뭐요? 한국인은 거들먹거리고 필리핀 혼혈은 착하다?\n",
       "149998                           청춘 영화의 최고봉방황과 우울했던 날들의 자화상\n",
       "149999                             한국 영화 최초로 수간하는 내용이 담긴 영화\n",
       "Name: document, Length: 150000, dtype: object"
      ]
     },
     "execution_count": 67,
     "metadata": {},
     "output_type": "execute_result"
    }
   ],
   "source": [
    "df['document'].str.replace(pat = \".\", repl = '', regex = False) # 원하는 문자열 패턴 지우기"
   ]
  },
  {
   "cell_type": "code",
   "execution_count": 68,
   "id": "91b567f4-fbd7-4625-864d-fc93d460f192",
   "metadata": {},
   "outputs": [
    {
     "data": {
      "text/plain": [
       "0          4.0\n",
       "1          1.0\n",
       "2         -1.0\n",
       "3         10.0\n",
       "4         -1.0\n",
       "          ... \n",
       "149995     7.0\n",
       "149996    10.0\n",
       "149997    -1.0\n",
       "149998    10.0\n",
       "149999    -1.0\n",
       "Name: document, Length: 150000, dtype: float64"
      ]
     },
     "execution_count": 68,
     "metadata": {},
     "output_type": "execute_result"
    }
   ],
   "source": [
    "df['document'].str.find(sub='.') # 해당 문자가 어디에 있는지 인덱스를 반환하는 것, -1 없는 값"
   ]
  },
  {
   "cell_type": "code",
   "execution_count": 76,
   "id": "eb0f0681-d02d-4373-af42-eeca567c7531",
   "metadata": {},
   "outputs": [],
   "source": [
    "df['document_non'] = df['document'].str.find(sub = '.')"
   ]
  },
  {
   "cell_type": "code",
   "execution_count": 77,
   "id": "c3a42f5f-6df6-4bab-ac93-d57783b1475b",
   "metadata": {},
   "outputs": [
    {
     "data": {
      "text/plain": [
       "0          4.0\n",
       "1          1.0\n",
       "2         -1.0\n",
       "3         10.0\n",
       "4         -1.0\n",
       "          ... \n",
       "149995     7.0\n",
       "149996    10.0\n",
       "149997    -1.0\n",
       "149998    10.0\n",
       "149999    -1.0\n",
       "Name: document_non, Length: 150000, dtype: float64"
      ]
     },
     "execution_count": 77,
     "metadata": {},
     "output_type": "execute_result"
    }
   ],
   "source": [
    "df['document_non']"
   ]
  },
  {
   "cell_type": "code",
   "execution_count": 78,
   "id": "ea9a061e-2c6b-4033-bb0f-a82e20f78780",
   "metadata": {},
   "outputs": [
    {
     "data": {
      "text/plain": [
       "0                        [., .]\n",
       "1         [., ., ., ., ., ., .]\n",
       "2                            []\n",
       "3                  [., ., ., .]\n",
       "4                            []\n",
       "                  ...          \n",
       "149995             [., ., ., .]\n",
       "149996                [., ., .]\n",
       "149997                       []\n",
       "149998                      [.]\n",
       "149999                       []\n",
       "Name: document, Length: 150000, dtype: object"
      ]
     },
     "execution_count": 78,
     "metadata": {},
     "output_type": "execute_result"
    }
   ],
   "source": [
    "# 정규표현식을 같이 이용하면\n",
    "df['document'].str.findall(pat = '[.]')"
   ]
  },
  {
   "cell_type": "code",
   "execution_count": 79,
   "id": "db58e5a8-c37d-4aa6-90b4-7576d6ccb450",
   "metadata": {},
   "outputs": [],
   "source": [
    "df['findall_docu'] = df['document'].str.findall(pat = '[재미]')"
   ]
  },
  {
   "cell_type": "code",
   "execution_count": 80,
   "id": "705a2fae-8130-4a66-9947-97e00f35987f",
   "metadata": {},
   "outputs": [
    {
     "data": {
      "text/plain": [
       "0             []\n",
       "1             []\n",
       "2            [재]\n",
       "3         [재, 미]\n",
       "4             []\n",
       "           ...  \n",
       "149995        []\n",
       "149996        []\n",
       "149997        []\n",
       "149998        []\n",
       "149999        []\n",
       "Name: findall_docu, Length: 150000, dtype: object"
      ]
     },
     "execution_count": 80,
     "metadata": {},
     "output_type": "execute_result"
    }
   ],
   "source": [
    "df['findall_docu']"
   ]
  },
  {
   "cell_type": "code",
   "execution_count": 81,
   "id": "ece446c5-d434-482a-a304-5dba01dfb27b",
   "metadata": {},
   "outputs": [],
   "source": [
    "df['findall_num'] = df['document'].str.findall(pat='[0-9]+')"
   ]
  },
  {
   "cell_type": "code",
   "execution_count": 82,
   "id": "0f3ac1cb-811c-432d-9d62-b857a4e84970",
   "metadata": {},
   "outputs": [
    {
     "data": {
      "text/plain": [
       "0         []\n",
       "1         []\n",
       "2         []\n",
       "3         []\n",
       "4         []\n",
       "          ..\n",
       "149995    []\n",
       "149996    []\n",
       "149997    []\n",
       "149998    []\n",
       "149999    []\n",
       "Name: findall_num, Length: 150000, dtype: object"
      ]
     },
     "execution_count": 82,
     "metadata": {},
     "output_type": "execute_result"
    }
   ],
   "source": [
    "df['findall_num']"
   ]
  },
  {
   "cell_type": "markdown",
   "id": "3c2e2972-442e-4e56-9d60-e9b0f200ac09",
   "metadata": {},
   "source": [
    "- slice\n",
    "- 특정 인덱스의 값을 잘라낸다! 반환할 수 있다.\n",
    "- slice_replace\n",
    "- 해당 사이의 인덱스값이 다른 값을 바꾼다."
   ]
  },
  {
   "cell_type": "code",
   "execution_count": 87,
   "id": "4b656e48-8d01-4835-97fc-0f70882860e1",
   "metadata": {},
   "outputs": [
    {
     "data": {
      "text/plain": [
       "0                                          !.. 진짜 짜증나네요 목소리\n",
       "1                            !포스터보고 초딩영화줄....오버연기조차 가볍지 않구나\n",
       "2                                            !었다그래서보는것을추천한다\n",
       "3                                !이야기구먼 ..솔직히 재미는 없다..평점 조정\n",
       "4         !그의 익살스런 연기가 돋보였던 영화!스파이더맨에서 늙어보이기만 했던 커스틴 던스트...\n",
       "                                ...                        \n",
       "149995                                     !문제지.. 소는 뭔죄인가..\n",
       "149996                                           !너무 낮아서...\n",
       "149997                         !요? 한국인은 거들먹거리고 필리핀 혼혈은 착하다?\n",
       "149998                             !화의 최고봉.방황과 우울했던 날들의 자화상\n",
       "149999                                !화 최초로 수간하는 내용이 담긴 영화\n",
       "Name: document, Length: 150000, dtype: object"
      ]
     },
     "execution_count": 87,
     "metadata": {},
     "output_type": "execute_result"
    }
   ],
   "source": [
    "df['document'].str.slice_replace(start = 0, stop = 4, repl = '!') # 0부터 4까지 전체 데이터를 날려서 삭제"
   ]
  },
  {
   "cell_type": "code",
   "execution_count": 88,
   "id": "a2119c57-d1c9-4b3f-a83c-e9213e350a2c",
   "metadata": {},
   "outputs": [],
   "source": [
    "df['document_0_5'] = df['document'].str.slice(start = 0, stop = 5)"
   ]
  },
  {
   "cell_type": "code",
   "execution_count": 89,
   "id": "fcce4752-d016-46f0-a513-ab3eb2f2ecc5",
   "metadata": {},
   "outputs": [
    {
     "data": {
      "text/html": [
       "<div>\n",
       "<style scoped>\n",
       "    .dataframe tbody tr th:only-of-type {\n",
       "        vertical-align: middle;\n",
       "    }\n",
       "\n",
       "    .dataframe tbody tr th {\n",
       "        vertical-align: top;\n",
       "    }\n",
       "\n",
       "    .dataframe thead th {\n",
       "        text-align: right;\n",
       "    }\n",
       "</style>\n",
       "<table border=\"1\" class=\"dataframe\">\n",
       "  <thead>\n",
       "    <tr style=\"text-align: right;\">\n",
       "      <th></th>\n",
       "      <th>Unnamed: 0</th>\n",
       "      <th>id</th>\n",
       "      <th>document</th>\n",
       "      <th>label</th>\n",
       "      <th>document_1</th>\n",
       "      <th>document_2</th>\n",
       "      <th>document_1n</th>\n",
       "      <th>document_2n</th>\n",
       "      <th>document_3n</th>\n",
       "      <th>docuent_non</th>\n",
       "      <th>document_non</th>\n",
       "      <th>findall_docu</th>\n",
       "      <th>findall_num</th>\n",
       "      <th>document_0_5</th>\n",
       "    </tr>\n",
       "  </thead>\n",
       "  <tbody>\n",
       "    <tr>\n",
       "      <th>0</th>\n",
       "      <td>0</td>\n",
       "      <td>9976970</td>\n",
       "      <td>아 더빙.. 진짜 짜증나네요 목소리</td>\n",
       "      <td>0</td>\n",
       "      <td>아</td>\n",
       "      <td>더빙.. 진짜 짜증나네요 목소리</td>\n",
       "      <td>아</td>\n",
       "      <td></td>\n",
       "      <td>더빙.. 진짜 짜증나네요 목소리</td>\n",
       "      <td>4.0</td>\n",
       "      <td>4.0</td>\n",
       "      <td>[]</td>\n",
       "      <td>[]</td>\n",
       "      <td>아 더빙.</td>\n",
       "    </tr>\n",
       "    <tr>\n",
       "      <th>1</th>\n",
       "      <td>1</td>\n",
       "      <td>3819312</td>\n",
       "      <td>흠...포스터보고 초딩영화줄....오버연기조차 가볍지 않구나</td>\n",
       "      <td>1</td>\n",
       "      <td>흠...포스터보고</td>\n",
       "      <td>초딩영화줄....오버연기조차 가볍지 않구나</td>\n",
       "      <td>흠...포스터보고</td>\n",
       "      <td></td>\n",
       "      <td>초딩영화줄....오버연기조차 가볍지 않구나</td>\n",
       "      <td>1.0</td>\n",
       "      <td>1.0</td>\n",
       "      <td>[]</td>\n",
       "      <td>[]</td>\n",
       "      <td>흠...포</td>\n",
       "    </tr>\n",
       "    <tr>\n",
       "      <th>2</th>\n",
       "      <td>2</td>\n",
       "      <td>10265843</td>\n",
       "      <td>너무재밓었다그래서보는것을추천한다</td>\n",
       "      <td>0</td>\n",
       "      <td>너무재밓었다그래서보는것을추천한다</td>\n",
       "      <td>None</td>\n",
       "      <td>너무재밓었다그래서보는것을추천한다</td>\n",
       "      <td></td>\n",
       "      <td></td>\n",
       "      <td>-1.0</td>\n",
       "      <td>-1.0</td>\n",
       "      <td>[재]</td>\n",
       "      <td>[]</td>\n",
       "      <td>너무재밓었</td>\n",
       "    </tr>\n",
       "    <tr>\n",
       "      <th>3</th>\n",
       "      <td>3</td>\n",
       "      <td>9045019</td>\n",
       "      <td>교도소 이야기구먼 ..솔직히 재미는 없다..평점 조정</td>\n",
       "      <td>0</td>\n",
       "      <td>교도소</td>\n",
       "      <td>이야기구먼 ..솔직히 재미는 없다..평점 조정</td>\n",
       "      <td>교도소</td>\n",
       "      <td></td>\n",
       "      <td>이야기구먼 ..솔직히 재미는 없다..평점 조정</td>\n",
       "      <td>10.0</td>\n",
       "      <td>10.0</td>\n",
       "      <td>[재, 미]</td>\n",
       "      <td>[]</td>\n",
       "      <td>교도소 이</td>\n",
       "    </tr>\n",
       "    <tr>\n",
       "      <th>4</th>\n",
       "      <td>4</td>\n",
       "      <td>6483659</td>\n",
       "      <td>사이몬페그의 익살스런 연기가 돋보였던 영화!스파이더맨에서 늙어보이기만 했던 커스틴 ...</td>\n",
       "      <td>1</td>\n",
       "      <td>사이몬페그의</td>\n",
       "      <td>익살스런 연기가 돋보였던 영화!스파이더맨에서 늙어보이기만 했던 커스틴 던스트가 너무...</td>\n",
       "      <td>사이몬페그의</td>\n",
       "      <td></td>\n",
       "      <td>익살스런 연기가 돋보였던 영화!스파이더맨에서 늙어보이기만 했던 커스틴 던스트가 너무...</td>\n",
       "      <td>-1.0</td>\n",
       "      <td>-1.0</td>\n",
       "      <td>[]</td>\n",
       "      <td>[]</td>\n",
       "      <td>사이몬페그</td>\n",
       "    </tr>\n",
       "    <tr>\n",
       "      <th>...</th>\n",
       "      <td>...</td>\n",
       "      <td>...</td>\n",
       "      <td>...</td>\n",
       "      <td>...</td>\n",
       "      <td>...</td>\n",
       "      <td>...</td>\n",
       "      <td>...</td>\n",
       "      <td>...</td>\n",
       "      <td>...</td>\n",
       "      <td>...</td>\n",
       "      <td>...</td>\n",
       "      <td>...</td>\n",
       "      <td>...</td>\n",
       "      <td>...</td>\n",
       "    </tr>\n",
       "    <tr>\n",
       "      <th>149995</th>\n",
       "      <td>149995</td>\n",
       "      <td>6222902</td>\n",
       "      <td>인간이 문제지.. 소는 뭔죄인가..</td>\n",
       "      <td>0</td>\n",
       "      <td>인간이</td>\n",
       "      <td>문제지.. 소는 뭔죄인가..</td>\n",
       "      <td>인간이</td>\n",
       "      <td></td>\n",
       "      <td>문제지.. 소는 뭔죄인가..</td>\n",
       "      <td>7.0</td>\n",
       "      <td>7.0</td>\n",
       "      <td>[]</td>\n",
       "      <td>[]</td>\n",
       "      <td>인간이 문</td>\n",
       "    </tr>\n",
       "    <tr>\n",
       "      <th>149996</th>\n",
       "      <td>149996</td>\n",
       "      <td>8549745</td>\n",
       "      <td>평점이 너무 낮아서...</td>\n",
       "      <td>1</td>\n",
       "      <td>평점이</td>\n",
       "      <td>너무 낮아서...</td>\n",
       "      <td>평점이</td>\n",
       "      <td></td>\n",
       "      <td>너무 낮아서...</td>\n",
       "      <td>10.0</td>\n",
       "      <td>10.0</td>\n",
       "      <td>[]</td>\n",
       "      <td>[]</td>\n",
       "      <td>평점이 너</td>\n",
       "    </tr>\n",
       "    <tr>\n",
       "      <th>149997</th>\n",
       "      <td>149997</td>\n",
       "      <td>9311800</td>\n",
       "      <td>이게 뭐요? 한국인은 거들먹거리고 필리핀 혼혈은 착하다?</td>\n",
       "      <td>0</td>\n",
       "      <td>이게</td>\n",
       "      <td>뭐요? 한국인은 거들먹거리고 필리핀 혼혈은 착하다?</td>\n",
       "      <td>이게</td>\n",
       "      <td></td>\n",
       "      <td>뭐요? 한국인은 거들먹거리고 필리핀 혼혈은 착하다?</td>\n",
       "      <td>-1.0</td>\n",
       "      <td>-1.0</td>\n",
       "      <td>[]</td>\n",
       "      <td>[]</td>\n",
       "      <td>이게 뭐요</td>\n",
       "    </tr>\n",
       "    <tr>\n",
       "      <th>149998</th>\n",
       "      <td>149998</td>\n",
       "      <td>2376369</td>\n",
       "      <td>청춘 영화의 최고봉.방황과 우울했던 날들의 자화상</td>\n",
       "      <td>1</td>\n",
       "      <td>청춘</td>\n",
       "      <td>영화의 최고봉.방황과 우울했던 날들의 자화상</td>\n",
       "      <td>청춘</td>\n",
       "      <td></td>\n",
       "      <td>영화의 최고봉.방황과 우울했던 날들의 자화상</td>\n",
       "      <td>10.0</td>\n",
       "      <td>10.0</td>\n",
       "      <td>[]</td>\n",
       "      <td>[]</td>\n",
       "      <td>청춘 영화</td>\n",
       "    </tr>\n",
       "    <tr>\n",
       "      <th>149999</th>\n",
       "      <td>149999</td>\n",
       "      <td>9619869</td>\n",
       "      <td>한국 영화 최초로 수간하는 내용이 담긴 영화</td>\n",
       "      <td>0</td>\n",
       "      <td>한국</td>\n",
       "      <td>영화 최초로 수간하는 내용이 담긴 영화</td>\n",
       "      <td>한국</td>\n",
       "      <td></td>\n",
       "      <td>영화 최초로 수간하는 내용이 담긴 영화</td>\n",
       "      <td>-1.0</td>\n",
       "      <td>-1.0</td>\n",
       "      <td>[]</td>\n",
       "      <td>[]</td>\n",
       "      <td>한국 영화</td>\n",
       "    </tr>\n",
       "  </tbody>\n",
       "</table>\n",
       "<p>150000 rows × 14 columns</p>\n",
       "</div>"
      ],
      "text/plain": [
       "        Unnamed: 0        id  \\\n",
       "0                0   9976970   \n",
       "1                1   3819312   \n",
       "2                2  10265843   \n",
       "3                3   9045019   \n",
       "4                4   6483659   \n",
       "...            ...       ...   \n",
       "149995      149995   6222902   \n",
       "149996      149996   8549745   \n",
       "149997      149997   9311800   \n",
       "149998      149998   2376369   \n",
       "149999      149999   9619869   \n",
       "\n",
       "                                                 document  label  \\\n",
       "0                                     아 더빙.. 진짜 짜증나네요 목소리      0   \n",
       "1                       흠...포스터보고 초딩영화줄....오버연기조차 가볍지 않구나      1   \n",
       "2                                       너무재밓었다그래서보는것을추천한다      0   \n",
       "3                           교도소 이야기구먼 ..솔직히 재미는 없다..평점 조정      0   \n",
       "4       사이몬페그의 익살스런 연기가 돋보였던 영화!스파이더맨에서 늙어보이기만 했던 커스틴 ...      1   \n",
       "...                                                   ...    ...   \n",
       "149995                                인간이 문제지.. 소는 뭔죄인가..      0   \n",
       "149996                                      평점이 너무 낮아서...      1   \n",
       "149997                    이게 뭐요? 한국인은 거들먹거리고 필리핀 혼혈은 착하다?      0   \n",
       "149998                        청춘 영화의 최고봉.방황과 우울했던 날들의 자화상      1   \n",
       "149999                           한국 영화 최초로 수간하는 내용이 담긴 영화      0   \n",
       "\n",
       "               document_1                                         document_2  \\\n",
       "0                       아                                  더빙.. 진짜 짜증나네요 목소리   \n",
       "1               흠...포스터보고                            초딩영화줄....오버연기조차 가볍지 않구나   \n",
       "2       너무재밓었다그래서보는것을추천한다                                               None   \n",
       "3                     교도소                          이야기구먼 ..솔직히 재미는 없다..평점 조정   \n",
       "4                  사이몬페그의  익살스런 연기가 돋보였던 영화!스파이더맨에서 늙어보이기만 했던 커스틴 던스트가 너무...   \n",
       "...                   ...                                                ...   \n",
       "149995                인간이                                    문제지.. 소는 뭔죄인가..   \n",
       "149996                평점이                                          너무 낮아서...   \n",
       "149997                 이게                       뭐요? 한국인은 거들먹거리고 필리핀 혼혈은 착하다?   \n",
       "149998                 청춘                           영화의 최고봉.방황과 우울했던 날들의 자화상   \n",
       "149999                 한국                              영화 최초로 수간하는 내용이 담긴 영화   \n",
       "\n",
       "              document_1n document_2n  \\\n",
       "0                       아               \n",
       "1               흠...포스터보고               \n",
       "2       너무재밓었다그래서보는것을추천한다               \n",
       "3                     교도소               \n",
       "4                  사이몬페그의               \n",
       "...                   ...         ...   \n",
       "149995                인간이               \n",
       "149996                평점이               \n",
       "149997                 이게               \n",
       "149998                 청춘               \n",
       "149999                 한국               \n",
       "\n",
       "                                              document_3n  docuent_non  \\\n",
       "0                                       더빙.. 진짜 짜증나네요 목소리          4.0   \n",
       "1                                 초딩영화줄....오버연기조차 가볍지 않구나          1.0   \n",
       "2                                                                 -1.0   \n",
       "3                               이야기구먼 ..솔직히 재미는 없다..평점 조정         10.0   \n",
       "4       익살스런 연기가 돋보였던 영화!스파이더맨에서 늙어보이기만 했던 커스틴 던스트가 너무...         -1.0   \n",
       "...                                                   ...          ...   \n",
       "149995                                    문제지.. 소는 뭔죄인가..          7.0   \n",
       "149996                                          너무 낮아서...         10.0   \n",
       "149997                       뭐요? 한국인은 거들먹거리고 필리핀 혼혈은 착하다?         -1.0   \n",
       "149998                           영화의 최고봉.방황과 우울했던 날들의 자화상         10.0   \n",
       "149999                              영화 최초로 수간하는 내용이 담긴 영화         -1.0   \n",
       "\n",
       "        document_non findall_docu findall_num document_0_5  \n",
       "0                4.0           []          []        아 더빙.  \n",
       "1                1.0           []          []        흠...포  \n",
       "2               -1.0          [재]          []        너무재밓었  \n",
       "3               10.0       [재, 미]          []        교도소 이  \n",
       "4               -1.0           []          []        사이몬페그  \n",
       "...              ...          ...         ...          ...  \n",
       "149995           7.0           []          []        인간이 문  \n",
       "149996          10.0           []          []        평점이 너  \n",
       "149997          -1.0           []          []        이게 뭐요  \n",
       "149998          10.0           []          []        청춘 영화  \n",
       "149999          -1.0           []          []        한국 영화  \n",
       "\n",
       "[150000 rows x 14 columns]"
      ]
     },
     "execution_count": 89,
     "metadata": {},
     "output_type": "execute_result"
    }
   ],
   "source": [
    "df"
   ]
  },
  {
   "cell_type": "code",
   "execution_count": 91,
   "id": "f1d65598-3b14-4490-ab74-d2dbda4ff492",
   "metadata": {},
   "outputs": [
    {
     "data": {
      "text/plain": [
       "0         19.0\n",
       "1         33.0\n",
       "2         17.0\n",
       "3         29.0\n",
       "4         61.0\n",
       "          ... \n",
       "149995    19.0\n",
       "149996    13.0\n",
       "149997    31.0\n",
       "149998    27.0\n",
       "149999    24.0\n",
       "Name: document, Length: 150000, dtype: float64"
      ]
     },
     "execution_count": 91,
     "metadata": {},
     "output_type": "execute_result"
    }
   ],
   "source": [
    "df['document'].str.len() # 전체 리뷰에 대한 길이"
   ]
  },
  {
   "cell_type": "code",
   "execution_count": 92,
   "id": "cdfc4c44-5da7-458f-bfc2-33393128e359",
   "metadata": {},
   "outputs": [
    {
     "data": {
      "text/plain": [
       "0                                       아 더빙.. 진짜 짜증나네요 목소리\n",
       "1                         흠...포스터보고 초딩영화줄....오버연기조차 가볍지 않구나\n",
       "2                                         너무재밓었다그래서보는것을추천한다\n",
       "3                             교도소 이야기구먼 ..솔직히 재미는 없다..평점 조정\n",
       "4         사이몬페그의 익살스런 연기가 돋보였던 영화!스파이더맨에서 늙어보이기만 했던 커스틴 ...\n",
       "                                ...                        \n",
       "149995                                  인간이 문제지.. 소는 뭔죄인가..\n",
       "149996                                        평점이 너무 낮아서...\n",
       "149997                      이게 뭐요? 한국인은 거들먹거리고 필리핀 혼혈은 착하다?\n",
       "149998                          청춘 영화의 최고봉.방황과 우울했던 날들의 자화상\n",
       "149999                             한국 영화 최초로 수간하는 내용이 담긴 영화\n",
       "Name: document, Length: 150000, dtype: object"
      ]
     },
     "execution_count": 92,
     "metadata": {},
     "output_type": "execute_result"
    }
   ],
   "source": [
    "df['document']"
   ]
  },
  {
   "cell_type": "code",
   "execution_count": 93,
   "id": "7833fdd2-ef3f-4a77-a903-acf3021b871b",
   "metadata": {},
   "outputs": [],
   "source": [
    "df['document_len'] = df['document'].str.len()"
   ]
  },
  {
   "cell_type": "code",
   "execution_count": 94,
   "id": "6acbd6d2-7e9e-44ee-90a8-eb475ab0d787",
   "metadata": {},
   "outputs": [],
   "source": [
    "import matplotlib.pyplot as plt"
   ]
  },
  {
   "cell_type": "code",
   "execution_count": 95,
   "id": "7d7c576a-0010-425a-a15e-b0e3f71c07a4",
   "metadata": {},
   "outputs": [
    {
     "data": {
      "text/plain": [
       "(array([36766., 46098., 33551., 12015.,  6098.,  3990.,  3136.,  2231.,\n",
       "         2361.,  3749.]),\n",
       " array([  1. ,  15.5,  30. ,  44.5,  59. ,  73.5,  88. , 102.5, 117. ,\n",
       "        131.5, 146. ]),\n",
       " <BarContainer object of 10 artists>)"
      ]
     },
     "execution_count": 95,
     "metadata": {},
     "output_type": "execute_result"
    },
    {
     "data": {
      "image/png": "[encoded data removed]",
      "text/plain": [
       "<Figure size 640x480 with 1 Axes>"
      ]
     },
     "metadata": {},
     "output_type": "display_data"
    }
   ],
   "source": [
    "plt.hist(df['document_len'])"
   ]
  },
  {
   "cell_type": "code",
   "execution_count": 97,
   "id": "8b43670a-2c76-408c-b98f-6b81b735c1b7",
   "metadata": {},
   "outputs": [
    {
     "data": {
      "text/plain": [
       "0    75173\n",
       "1    74827\n",
       "Name: label, dtype: int64"
      ]
     },
     "execution_count": 97,
     "metadata": {},
     "output_type": "execute_result"
    }
   ],
   "source": [
    "df['label'].value_counts()"
   ]
  },
  {
   "cell_type": "code",
   "execution_count": 98,
   "id": "595ea370-7ae9-4468-9c2c-5f94b3b1fb57",
   "metadata": {},
   "outputs": [
    {
     "data": {
      "text/html": [
       "<div>\n",
       "<style scoped>\n",
       "    .dataframe tbody tr th:only-of-type {\n",
       "        vertical-align: middle;\n",
       "    }\n",
       "\n",
       "    .dataframe tbody tr th {\n",
       "        vertical-align: top;\n",
       "    }\n",
       "\n",
       "    .dataframe thead th {\n",
       "        text-align: right;\n",
       "    }\n",
       "</style>\n",
       "<table border=\"1\" class=\"dataframe\">\n",
       "  <thead>\n",
       "    <tr style=\"text-align: right;\">\n",
       "      <th></th>\n",
       "      <th>Unnamed: 0</th>\n",
       "      <th>id</th>\n",
       "      <th>document</th>\n",
       "      <th>label</th>\n",
       "      <th>document_len</th>\n",
       "    </tr>\n",
       "  </thead>\n",
       "  <tbody>\n",
       "    <tr>\n",
       "      <th>0</th>\n",
       "      <td>0</td>\n",
       "      <td>9976970</td>\n",
       "      <td>아 더빙.. 진짜 짜증나네요 목소리</td>\n",
       "      <td>0</td>\n",
       "      <td>19.0</td>\n",
       "    </tr>\n",
       "    <tr>\n",
       "      <th>1</th>\n",
       "      <td>1</td>\n",
       "      <td>3819312</td>\n",
       "      <td>흠...포스터보고 초딩영화줄....오버연기조차 가볍지 않구나</td>\n",
       "      <td>1</td>\n",
       "      <td>33.0</td>\n",
       "    </tr>\n",
       "    <tr>\n",
       "      <th>2</th>\n",
       "      <td>2</td>\n",
       "      <td>10265843</td>\n",
       "      <td>너무재밓었다그래서보는것을추천한다</td>\n",
       "      <td>0</td>\n",
       "      <td>17.0</td>\n",
       "    </tr>\n",
       "    <tr>\n",
       "      <th>3</th>\n",
       "      <td>3</td>\n",
       "      <td>9045019</td>\n",
       "      <td>교도소 이야기구먼 ..솔직히 재미는 없다..평점 조정</td>\n",
       "      <td>0</td>\n",
       "      <td>29.0</td>\n",
       "    </tr>\n",
       "    <tr>\n",
       "      <th>4</th>\n",
       "      <td>4</td>\n",
       "      <td>6483659</td>\n",
       "      <td>사이몬페그의 익살스런 연기가 돋보였던 영화!스파이더맨에서 늙어보이기만 했던 커스틴 ...</td>\n",
       "      <td>1</td>\n",
       "      <td>61.0</td>\n",
       "    </tr>\n",
       "    <tr>\n",
       "      <th>...</th>\n",
       "      <td>...</td>\n",
       "      <td>...</td>\n",
       "      <td>...</td>\n",
       "      <td>...</td>\n",
       "      <td>...</td>\n",
       "    </tr>\n",
       "    <tr>\n",
       "      <th>149995</th>\n",
       "      <td>149995</td>\n",
       "      <td>6222902</td>\n",
       "      <td>인간이 문제지.. 소는 뭔죄인가..</td>\n",
       "      <td>0</td>\n",
       "      <td>19.0</td>\n",
       "    </tr>\n",
       "    <tr>\n",
       "      <th>149996</th>\n",
       "      <td>149996</td>\n",
       "      <td>8549745</td>\n",
       "      <td>평점이 너무 낮아서...</td>\n",
       "      <td>1</td>\n",
       "      <td>13.0</td>\n",
       "    </tr>\n",
       "    <tr>\n",
       "      <th>149997</th>\n",
       "      <td>149997</td>\n",
       "      <td>9311800</td>\n",
       "      <td>이게 뭐요? 한국인은 거들먹거리고 필리핀 혼혈은 착하다?</td>\n",
       "      <td>0</td>\n",
       "      <td>31.0</td>\n",
       "    </tr>\n",
       "    <tr>\n",
       "      <th>149998</th>\n",
       "      <td>149998</td>\n",
       "      <td>2376369</td>\n",
       "      <td>청춘 영화의 최고봉.방황과 우울했던 날들의 자화상</td>\n",
       "      <td>1</td>\n",
       "      <td>27.0</td>\n",
       "    </tr>\n",
       "    <tr>\n",
       "      <th>149999</th>\n",
       "      <td>149999</td>\n",
       "      <td>9619869</td>\n",
       "      <td>한국 영화 최초로 수간하는 내용이 담긴 영화</td>\n",
       "      <td>0</td>\n",
       "      <td>24.0</td>\n",
       "    </tr>\n",
       "  </tbody>\n",
       "</table>\n",
       "<p>150000 rows × 5 columns</p>\n",
       "</div>"
      ],
      "text/plain": [
       "        Unnamed: 0        id  \\\n",
       "0                0   9976970   \n",
       "1                1   3819312   \n",
       "2                2  10265843   \n",
       "3                3   9045019   \n",
       "4                4   6483659   \n",
       "...            ...       ...   \n",
       "149995      149995   6222902   \n",
       "149996      149996   8549745   \n",
       "149997      149997   9311800   \n",
       "149998      149998   2376369   \n",
       "149999      149999   9619869   \n",
       "\n",
       "                                                 document  label  document_len  \n",
       "0                                     아 더빙.. 진짜 짜증나네요 목소리      0          19.0  \n",
       "1                       흠...포스터보고 초딩영화줄....오버연기조차 가볍지 않구나      1          33.0  \n",
       "2                                       너무재밓었다그래서보는것을추천한다      0          17.0  \n",
       "3                           교도소 이야기구먼 ..솔직히 재미는 없다..평점 조정      0          29.0  \n",
       "4       사이몬페그의 익살스런 연기가 돋보였던 영화!스파이더맨에서 늙어보이기만 했던 커스틴 ...      1          61.0  \n",
       "...                                                   ...    ...           ...  \n",
       "149995                                인간이 문제지.. 소는 뭔죄인가..      0          19.0  \n",
       "149996                                      평점이 너무 낮아서...      1          13.0  \n",
       "149997                    이게 뭐요? 한국인은 거들먹거리고 필리핀 혼혈은 착하다?      0          31.0  \n",
       "149998                        청춘 영화의 최고봉.방황과 우울했던 날들의 자화상      1          27.0  \n",
       "149999                           한국 영화 최초로 수간하는 내용이 담긴 영화      0          24.0  \n",
       "\n",
       "[150000 rows x 5 columns]"
      ]
     },
     "execution_count": 98,
     "metadata": {},
     "output_type": "execute_result"
    }
   ],
   "source": [
    "df    "
   ]
  },
  {
   "cell_type": "markdown",
   "id": "256d04a6-1b09-4661-ad2e-b66c8d15b08d",
   "metadata": {},
   "source": [
    "### 필수과제 1\n",
    "\n",
    "- 영문데이터를 가지고 실제 대소문자를 바꿔보는 str문법 적용하기\n",
    "- 그 외에 split, 아래에 배우는 find 등 다양한 문법에도 응용!"
   ]
  },
  {
   "cell_type": "markdown",
   "id": "01f07954-e64e-490d-8a1b-828877798ad1",
   "metadata": {},
   "source": [
    "### 필수과제 2\n",
    "- 1. label에 따라서 긍정, 부정일텐데 긍정의 리뷰와 부정의 리뷰에 가장 많은 단어들은 어떤 것이 있는지? 확인할 것\n",
    "- 문자열 split 리스트에 넣어서 해도 됨\n",
    "\n",
    "- 2. 리뷰의 길이에 따른 긍정과 부정, 가장 많은 빈도의 단어 탐색"
   ]
  },
  {
   "cell_type": "code",
   "execution_count": null,
   "id": "dcb09a33-0a58-4d0b-bfe9-a8b8dc27e538",
   "metadata": {},
   "outputs": [],
   "source": []
  }
 ],
 "metadata": {
  "kernelspec": {
   "display_name": "Python 3 (ipykernel)",
   "language": "python",
   "name": "python3"
  },
  "language_info": {
   "codemirror_mode": {
    "name": "ipython",
    "version": 3
   },
   "file_extension": ".py",
   "mimetype": "text/x-python",
   "name": "python",
   "nbconvert_exporter": "python",
   "pygments_lexer": "ipython3",
   "version": "3.9.18"
  }
 },
 "nbformat": 4,
 "nbformat_minor": 5
}
