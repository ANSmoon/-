{
 "cells": [
  {
   "cell_type": "markdown",
   "id": "4ec6fe2d-b0dc-4608-894b-6d9d0ee5f22e",
   "metadata": {},
   "source": [
    "##### Author : 문범수\n",
    "##### date : 2024-03-03\n",
    "##### title : 03/03 필수과제2"
   ]
  },
  {
   "cell_type": "markdown",
   "id": "f1254142-6997-459f-b17e-3eb3c8345cf8",
   "metadata": {},
   "source": [
    "## 필수과제2\n",
    "- 정규분포와 비슷하지 않은 컬럼 추가하여\n",
    "- 기존 데이터 df casual, cnt ,[정규분포와 비슷하지 않은 추가컬럼을 box-cox 등으로 변환] 을 통해서 - r2, rmse, 확인해 주세요.\n",
    "- 해당 컬럼을 box-cox, yeo-johnson을 통해 변환하고 실제 값을 계산해 주세요.\n",
    "- 컴퓨터 성능 이슈로 인한 임의의 소규모 데이터 생성 후 실습 진행"
   ]
  },
  {
   "cell_type": "code",
   "execution_count": 4,
   "id": "5c744b3b-e449-4439-8c9e-a2e4649ebeeb",
   "metadata": {},
   "outputs": [],
   "source": [
    "import pandas as pd\n",
    "import numpy as np\n",
    "from sklearn.linear_model import LinearRegression\n",
    "from sklearn.metrics import r2_score, mean_squared_error\n",
    "from scipy.stats import norm, boxcox"
   ]
  },
  {
   "cell_type": "code",
   "execution_count": 7,
   "id": "34a734e4-6385-4600-bee5-e0a216f0e88e",
   "metadata": {},
   "outputs": [],
   "source": [
    "# 예시를 위해 임의의 데이터프레임 생성\n",
    "np.random.seed(0)\n",
    "data = {'casual': np.random.randint(0, 100, 100),\n",
    "        'cnt': np.random.randint(50, 200, 100)}\n",
    "df = pd.DataFrame(data)"
   ]
  },
  {
   "cell_type": "code",
   "execution_count": 9,
   "id": "efa6b8eb-2f14-452b-b445-396125d9dbca",
   "metadata": {},
   "outputs": [],
   "source": [
    "# 정규분포와 비슷한 컬럼 추가\n",
    "df['normal_column'] = np.random.normal(loc=100, scale=20, size=len(df))\n",
    "\n",
    "# 정규분포와 비슷하지 않은 컬럼 추가\n",
    "df['non_normal_column'] = np.random.uniform(low=0, high=200, size=len(df))"
   ]
  },
  {
   "cell_type": "code",
   "execution_count": 10,
   "id": "7e3d6c49-a7d1-4dda-8757-cd68a73a181c",
   "metadata": {},
   "outputs": [],
   "source": [
    "# 정규분포와 비슷한 컬럼을 사용하여 선형 회귀 모델 학습\n",
    "X_normal = df[['casual', 'normal_column']]\n",
    "y = df['cnt']\n",
    "model_normal = LinearRegression().fit(X_normal, y)\n",
    "y_pred_normal = model_normal.predict(X_normal)\n",
    "r2_normal = r2_score(y, y_pred_normal)\n",
    "rmse_normal = np.sqrt(mean_squared_error(y, y_pred_normal))"
   ]
  },
  {
   "cell_type": "code",
   "execution_count": 12,
   "id": "d2462494-cef9-46b2-915a-df4a6eeaf8fa",
   "metadata": {},
   "outputs": [],
   "source": [
    "# 정규분포와 비슷하지 않은 컬럼을 사용하여 선형 회귀 모델 학습\n",
    "X_non_normal = df[['casual', 'non_normal_column']]\n",
    "model_non_normal = LinearRegression().fit(X_non_normal, y)\n",
    "y_pred_non_normal = model_non_normal.predict(X_non_normal)\n",
    "r2_non_normal = r2_score(y, y_pred_non_normal)\n",
    "rmse_non_normal = np.sqrt(mean_squared_error(y, y_pred_non_normal))"
   ]
  },
  {
   "cell_type": "code",
   "execution_count": 14,
   "id": "a8bf1e2d-32da-43f7-af19-20d9d772f763",
   "metadata": {},
   "outputs": [
    {
     "name": "stdout",
     "output_type": "stream",
     "text": [
      "Using columns with normal distribution-like properties:\n",
      "R-squared: 0.0543982986756375\n",
      "RMSE: 42.52163183310113\n",
      "\n",
      "Using columns without normal distribution-like properties:\n",
      "R-squared: 0.028497214461124853\n",
      "RMSE: 43.100055114131116\n"
     ]
    }
   ],
   "source": [
    "print(\"Using columns with normal distribution-like properties:\")\n",
    "print(\"R-squared:\", r2_normal)\n",
    "print(\"RMSE:\", rmse_normal)\n",
    "\n",
    "print(\"\\nUsing columns without normal distribution-like properties:\")\n",
    "print(\"R-squared:\", r2_non_normal)\n",
    "print(\"RMSE:\", rmse_non_normal)"
   ]
  },
  {
   "cell_type": "code",
   "execution_count": 15,
   "id": "de89eea7-f9a2-4fc0-bab6-53c3435e8118",
   "metadata": {},
   "outputs": [],
   "source": [
    "# Box-Cox 변환을 통해 정규분포와 비슷하지 않은 컬럼 변환\n",
    "df['non_normal_column_boxcox'], _ = boxcox(df['non_normal_column'] + 1)  # +1을 해줘서 0 값이 되지 않도록 함\n",
    "\n",
    "# Box-Cox 변환된 값을 실제 값으로 되돌리기\n",
    "df['non_normal_column_back'] = np.power(df['non_normal_column_boxcox'], 1/2)  # Box-Cox 변환의 역함수는 x^(1/lambda)\n",
    "\n",
    "# 변환된 컬럼을 사용하여 선형 회귀 모델 학습\n",
    "X_boxcox = df[['casual', 'non_normal_column_boxcox']]\n",
    "model_boxcox = LinearRegression().fit(X_boxcox, y)\n",
    "y_pred_boxcox = model_boxcox.predict(X_boxcox)\n",
    "r2_boxcox = r2_score(y, y_pred_boxcox)\n",
    "rmse_boxcox = np.sqrt(mean_squared_error(y, y_pred_boxcox))"
   ]
  },
  {
   "cell_type": "code",
   "execution_count": 16,
   "id": "0b6215a1-94b3-4946-b1a9-4aae3232c882",
   "metadata": {},
   "outputs": [
    {
     "name": "stdout",
     "output_type": "stream",
     "text": [
      "\n",
      "Using Box-Cox transformed column:\n",
      "R-squared: 0.0308854632330684\n",
      "RMSE: 43.047046006154844\n",
      "\n",
      "Actual values vs. Box-Cox transformed values:\n",
      "   non_normal_column  non_normal_column_boxcox  non_normal_column_back\n",
      "0         184.831753                 54.757567                7.399836\n",
      "1         172.463709                 52.099348                7.217988\n",
      "2           9.738059                  6.132154                2.476319\n",
      "3          50.728505                 21.418409                4.628003\n",
      "4          89.227103                 32.364375                5.688970\n"
     ]
    }
   ],
   "source": [
    "print(\"\\nUsing Box-Cox transformed column:\")\n",
    "print(\"R-squared:\", r2_boxcox)\n",
    "print(\"RMSE:\", rmse_boxcox)\n",
    "\n",
    "# 실제 값과 변환된 값 비교\n",
    "print(\"\\nActual values vs. Box-Cox transformed values:\")\n",
    "print(df[['non_normal_column', 'non_normal_column_boxcox', 'non_normal_column_back']].head())"
   ]
  }
 ],
 "metadata": {
  "kernelspec": {
   "display_name": "Python 3 (ipykernel)",
   "language": "python",
   "name": "python3"
  },
  "language_info": {
   "codemirror_mode": {
    "name": "ipython",
    "version": 3
   },
   "file_extension": ".py",
   "mimetype": "text/x-python",
   "name": "python",
   "nbconvert_exporter": "python",
   "pygments_lexer": "ipython3",
   "version": "3.9.18"
  }
 },
 "nbformat": 4,
 "nbformat_minor": 5
}
