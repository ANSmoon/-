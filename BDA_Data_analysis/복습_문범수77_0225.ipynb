{
 "cells": [
  {
   "cell_type": "markdown",
   "id": "e5758a15-beae-4e9d-bf7e-cd9a1f86447f",
   "metadata": {},
   "source": [
    "##### Author : 문범수\n",
    "##### date : 2024-02-25\n",
    "##### title : 02/25수업 복습"
   ]
  },
  {
   "cell_type": "markdown",
   "id": "6387b9a5",
   "metadata": {},
   "source": [
    "## 데이터(변수) 구간화 Binning\n",
    "- 연속형 변수를 다룰 때 -> 연속형 변수 (타이타닉데이터의 age) 나이는 여러 값들로 분포되어 있다. -> 구간화를 나눠서 변수를 새롭게 만들고 \n",
    "- 해당 작업을 통해서 Binning을 통해서 해당 변수의 스케일이나 분포가 모델에 미치는 영향을 줄일 수 있다.\n",
    "---\n",
    "- 변수구간화 -> 연속형 변수를 구간 또는 범주로 나누는 것 \n",
    "- 연속형 변수 다양한 값들 -> 몇 개의 구간으로 나누는 것 (age 유아, 청소년, 청년, 노인 이런 식으로 )\n",
    "- 모델의 복잡도 줄일 수 있다. 특정 패턴이나 추세 같은 것  파악할 때 좋다.\n",
    "--- \n",
    "- 변수 구간화의 개념은 \n",
    "- 구간설정 : 연속형 변수를 나눌 구간 설정 -> 미리 개수나 도메인 지식으로 정할 수 있다.\n",
    "- 구간 경계 설정 : 어디까지 어떤 값으로 하고 어디까지는 어떤 값으로 하겠다는 경계 필요\n",
    "- 데이터 비닝 : 설정 구간에 따라 연속형 변수들을 구간 또는 범주에 할당\n",
    "- 이산형 변수로 변환 후 사용할 수 있고, 데이터 마이닝에도 사용할 수 있다."
   ]
  },
  {
   "cell_type": "markdown",
   "id": "8457c3e0",
   "metadata": {},
   "source": [
    "- 구간화의 가장 대표적인 예시\n",
    "- 단순하게 구간을 정하는 경우 개수에 대한 카운팅 또는 값에 대한 경계로 하는 경우\n",
    "- 값으로 동일 폭 변수 구간화\n",
    "- 동일 빈도 변수 구간화\n",
    "\n",
    "---\n",
    "- 구간별 평균값으로 평활화 \n",
    "- 중앙값으로 평활화\n",
    "- 경계값으로 평활화 "
   ]
  },
  {
   "cell_type": "code",
   "execution_count": 1,
   "id": "a10412c7-36fa-462c-a2ed-12a0a90e3f70",
   "metadata": {},
   "outputs": [
    {
     "name": "stdout",
     "output_type": "stream",
     "text": [
      "Requirement already satisfied: xverse in c:\\users\\munbe\\anaconda3\\lib\\site-packages (1.0.5)\n",
      "Requirement already satisfied: numpy>=1.11.3 in c:\\users\\munbe\\anaconda3\\lib\\site-packages (from xverse) (1.24.3)\n",
      "Requirement already satisfied: scikit-learn>=0.19.0 in c:\\users\\munbe\\anaconda3\\lib\\site-packages (from xverse) (1.0.2)\n",
      "Requirement already satisfied: scipy>=0.19.0 in c:\\users\\munbe\\anaconda3\\lib\\site-packages (from xverse) (1.11.1)\n",
      "Requirement already satisfied: statsmodels>=0.6.1 in c:\\users\\munbe\\anaconda3\\lib\\site-packages (from xverse) (0.14.0)\n",
      "Requirement already satisfied: pandas>=0.21.1 in c:\\users\\munbe\\anaconda3\\lib\\site-packages (from xverse) (1.4.2)\n",
      "Requirement already satisfied: matplotlib>=3.0.3 in c:\\users\\munbe\\anaconda3\\lib\\site-packages (from xverse) (3.7.2)\n",
      "Requirement already satisfied: contourpy>=1.0.1 in c:\\users\\munbe\\anaconda3\\lib\\site-packages (from matplotlib>=3.0.3->xverse) (1.0.5)\n",
      "Requirement already satisfied: cycler>=0.10 in c:\\users\\munbe\\anaconda3\\lib\\site-packages (from matplotlib>=3.0.3->xverse) (0.11.0)\n",
      "Requirement already satisfied: fonttools>=4.22.0 in c:\\users\\munbe\\anaconda3\\lib\\site-packages (from matplotlib>=3.0.3->xverse) (4.25.0)\n",
      "Requirement already satisfied: kiwisolver>=1.0.1 in c:\\users\\munbe\\anaconda3\\lib\\site-packages (from matplotlib>=3.0.3->xverse) (1.4.4)\n",
      "Requirement already satisfied: packaging>=20.0 in c:\\users\\munbe\\anaconda3\\lib\\site-packages (from matplotlib>=3.0.3->xverse) (23.1)\n",
      "Requirement already satisfied: pillow>=6.2.0 in c:\\users\\munbe\\anaconda3\\lib\\site-packages (from matplotlib>=3.0.3->xverse) (9.4.0)\n",
      "Requirement already satisfied: pyparsing<3.1,>=2.3.1 in c:\\users\\munbe\\anaconda3\\lib\\site-packages (from matplotlib>=3.0.3->xverse) (3.0.9)\n",
      "Requirement already satisfied: python-dateutil>=2.7 in c:\\users\\munbe\\anaconda3\\lib\\site-packages (from matplotlib>=3.0.3->xverse) (2.8.2)\n",
      "Requirement already satisfied: importlib-resources>=3.2.0 in c:\\users\\munbe\\anaconda3\\lib\\site-packages (from matplotlib>=3.0.3->xverse) (5.2.0)\n",
      "Requirement already satisfied: pytz>=2020.1 in c:\\users\\munbe\\anaconda3\\lib\\site-packages (from pandas>=0.21.1->xverse) (2023.3.post1)\n",
      "Requirement already satisfied: joblib>=0.11 in c:\\users\\munbe\\anaconda3\\lib\\site-packages (from scikit-learn>=0.19.0->xverse) (1.2.0)\n",
      "Requirement already satisfied: threadpoolctl>=2.0.0 in c:\\users\\munbe\\anaconda3\\lib\\site-packages (from scikit-learn>=0.19.0->xverse) (2.2.0)\n",
      "Requirement already satisfied: patsy>=0.5.2 in c:\\users\\munbe\\anaconda3\\lib\\site-packages (from statsmodels>=0.6.1->xverse) (0.5.3)\n",
      "Requirement already satisfied: zipp>=3.1.0 in c:\\users\\munbe\\anaconda3\\lib\\site-packages (from importlib-resources>=3.2.0->matplotlib>=3.0.3->xverse) (3.11.0)\n",
      "Requirement already satisfied: six in c:\\users\\munbe\\anaconda3\\lib\\site-packages (from patsy>=0.5.2->statsmodels>=0.6.1->xverse) (1.16.0)\n",
      "Note: you may need to restart the kernel to use updated packages.\n"
     ]
    },
    {
     "name": "stderr",
     "output_type": "stream",
     "text": [
      "WARNING: There was an error checking the latest version of pip.\n"
     ]
    }
   ],
   "source": [
    "pip install xverse"
   ]
  },
  {
   "cell_type": "code",
   "execution_count": 2,
   "id": "46f75d1a",
   "metadata": {},
   "outputs": [],
   "source": [
    "import matplotlib.pyplot as plt\n",
    "import pandas as pd\n",
    "import seaborn as sns\n",
    "from xverse.transformer import WOE"
   ]
  },
  {
   "cell_type": "code",
   "execution_count": 3,
   "id": "d63fe6f2",
   "metadata": {},
   "outputs": [],
   "source": [
    "df = pd.read_csv('heart_2020_cleaned.csv')"
   ]
  },
  {
   "cell_type": "code",
   "execution_count": 4,
   "id": "0c1b29bf",
   "metadata": {},
   "outputs": [
    {
     "data": {
      "text/plain": [
       "count    319795.000000\n",
       "mean         28.325399\n",
       "std           6.356100\n",
       "min          12.020000\n",
       "25%          24.030000\n",
       "50%          27.340000\n",
       "75%          31.420000\n",
       "max          94.850000\n",
       "Name: BMI, dtype: float64"
      ]
     },
     "execution_count": 4,
     "metadata": {},
     "output_type": "execute_result"
    }
   ],
   "source": [
    "#BMI 데이터로 예시 살펴보기\n",
    "\n",
    "df['BMI'].describe()"
   ]
  },
  {
   "cell_type": "code",
   "execution_count": 5,
   "id": "a96c410b",
   "metadata": {},
   "outputs": [
    {
     "name": "stderr",
     "output_type": "stream",
     "text": [
      "C:\\Users\\munbe\\AppData\\Local\\Temp\\ipykernel_9240\\330817728.py:2: UserWarning: \n",
      "\n",
      "`distplot` is a deprecated function and will be removed in seaborn v0.14.0.\n",
      "\n",
      "Please adapt your code to use either `displot` (a figure-level function with\n",
      "similar flexibility) or `histplot` (an axes-level function for histograms).\n",
      "\n",
      "For a guide to updating your code to use the new functions, please see\n",
      "https://gist.github.com/mwaskom/de44147ed2974457ad6372750bbe5751\n",
      "\n",
      "  sns.distplot(df['BMI'])\n"
     ]
    },
    {
     "data": {
      "image/png": "[encoded data removed]",
      "text/plain": [
       "<Figure size 640x480 with 1 Axes>"
      ]
     },
     "metadata": {},
     "output_type": "display_data"
    }
   ],
   "source": [
    "%matplotlib inline\n",
    "sns.distplot(df['BMI'])\n",
    "plt.show()"
   ]
  },
  {
   "cell_type": "code",
   "execution_count": 6,
   "id": "13556a04",
   "metadata": {},
   "outputs": [],
   "source": [
    "# 단순 구간화\n",
    "# BMI 지수에 대한 도메인이 없지만 예시로 만들어 보자!\n",
    "\n",
    "df1 =df.copy()"
   ]
  },
  {
   "cell_type": "code",
   "execution_count": 7,
   "id": "ccc81526",
   "metadata": {},
   "outputs": [],
   "source": [
    "df1.insert(2, 'BMI_bin',0)"
   ]
  },
  {
   "cell_type": "code",
   "execution_count": 8,
   "id": "0ed0b755",
   "metadata": {},
   "outputs": [],
   "source": [
    "#도메인은 분석가가 직접 정하면 되는 것\n",
    "# 예시로 학교 성적이라고 생각하면 쉽게 이해가 될 것!\n",
    "df1.loc[df1['BMI'] <=20, 'BMI_bin']='a'\n",
    "df1.loc[(df1['BMI'] >20) & (df1['BMI'] <=30), 'BMI_bin']='b'\n",
    "df1.loc[(df1['BMI'] >30) & (df1['BMI'] <=40), 'BMI_bin']='c'\n",
    "df1.loc[(df1['BMI'] >40) & (df1['BMI'] <=50), 'BMI_bin']='d'\n",
    "df1.loc[(df1['BMI'] >50) & (df1['BMI'] <=60), 'BMI_bin']='e'\n",
    "df1.loc[df1['BMI'] >60, 'BMI_bin']='f'\n"
   ]
  },
  {
   "cell_type": "code",
   "execution_count": 9,
   "id": "8c4f03bb",
   "metadata": {},
   "outputs": [
    {
     "data": {
      "text/plain": [
       "0         16.60\n",
       "1         20.34\n",
       "2         26.58\n",
       "3         24.21\n",
       "4         23.71\n",
       "          ...  \n",
       "319790    27.41\n",
       "319791    29.84\n",
       "319792    24.24\n",
       "319793    32.81\n",
       "319794    46.56\n",
       "Name: BMI, Length: 319795, dtype: float64"
      ]
     },
     "execution_count": 9,
     "metadata": {},
     "output_type": "execute_result"
    }
   ],
   "source": [
    "#연속형인 값을\n",
    "df.BMI"
   ]
  },
  {
   "cell_type": "code",
   "execution_count": 10,
   "id": "2d3da85f",
   "metadata": {
    "scrolled": true
   },
   "outputs": [
    {
     "data": {
      "text/plain": [
       "b    202548\n",
       "c     86198\n",
       "a     14699\n",
       "d     13839\n",
       "e      2019\n",
       "f       492\n",
       "Name: BMI_bin, dtype: int64"
      ]
     },
     "execution_count": 10,
     "metadata": {},
     "output_type": "execute_result"
    }
   ],
   "source": [
    "#범주형으로 만들면서 진행하였다.\n",
    "df1.BMI_bin.value_counts()"
   ]
  },
  {
   "cell_type": "code",
   "execution_count": 11,
   "id": "6b27fe8a",
   "metadata": {},
   "outputs": [
    {
     "name": "stderr",
     "output_type": "stream",
     "text": [
      "C:\\Users\\munbe\\anaconda3\\lib\\site-packages\\seaborn\\axisgrid.py:118: UserWarning: The figure layout has changed to tight\n",
      "  self._figure.tight_layout(*args, **kwargs)\n"
     ]
    },
    {
     "data": {
      "text/plain": [
       "<seaborn.axisgrid.FacetGrid at 0x2750e859ac0>"
      ]
     },
     "execution_count": 11,
     "metadata": {},
     "output_type": "execute_result"
    },
    {
     "data": {
      "image/png": "[encoded data removed]",
      "text/plain": [
       "<Figure size 500x500 with 1 Axes>"
      ]
     },
     "metadata": {},
     "output_type": "display_data"
    }
   ],
   "source": [
    "sns.displot(df1['BMI_bin'])"
   ]
  },
  {
   "cell_type": "code",
   "execution_count": 12,
   "id": "03722a7c",
   "metadata": {},
   "outputs": [],
   "source": [
    "#pandas 에서 제공하는 cut 함수 이용해서 가능\n",
    "\n",
    "df1.insert(3,'BMI_bis4',0)\n",
    "\n"
   ]
  },
  {
   "cell_type": "code",
   "execution_count": 13,
   "id": "32117a5b",
   "metadata": {},
   "outputs": [
    {
     "ename": "ValueError",
     "evalue": "cannot insert BMI_bis4, already exists",
     "output_type": "error",
     "traceback": [
      "\u001b[1;31m---------------------------------------------------------------------------\u001b[0m",
      "\u001b[1;31mValueError\u001b[0m                                Traceback (most recent call last)",
      "Cell \u001b[1;32mIn[13], line 1\u001b[0m\n\u001b[1;32m----> 1\u001b[0m \u001b[43mdf1\u001b[49m\u001b[38;5;241;43m.\u001b[39;49m\u001b[43minsert\u001b[49m\u001b[43m(\u001b[49m\u001b[38;5;241;43m5\u001b[39;49m\u001b[43m,\u001b[49m\u001b[38;5;124;43m'\u001b[39;49m\u001b[38;5;124;43mBMI_bis4\u001b[39;49m\u001b[38;5;124;43m'\u001b[39;49m\u001b[43m,\u001b[49m\u001b[38;5;241;43m0\u001b[39;49m\u001b[43m)\u001b[49m\n\u001b[0;32m      3\u001b[0m df1[\u001b[38;5;124m'\u001b[39m\u001b[38;5;124mBMI_bins4\u001b[39m\u001b[38;5;124m'\u001b[39m] \u001b[38;5;241m=\u001b[39m pd\u001b[38;5;241m.\u001b[39mcut(df1\u001b[38;5;241m.\u001b[39mBMI, bins\u001b[38;5;241m=\u001b[39m[\u001b[38;5;241m0\u001b[39m, \u001b[38;5;241m20\u001b[39m, \u001b[38;5;241m30\u001b[39m ,\u001b[38;5;241m40\u001b[39m ,\u001b[38;5;241m50\u001b[39m ,\u001b[38;5;241m60\u001b[39m ,\u001b[38;5;241m70\u001b[39m]\n\u001b[0;32m      4\u001b[0m                          , labels \u001b[38;5;241m=\u001b[39m [\u001b[38;5;124m'\u001b[39m\u001b[38;5;124ma\u001b[39m\u001b[38;5;124m'\u001b[39m,\u001b[38;5;124m'\u001b[39m\u001b[38;5;124mb\u001b[39m\u001b[38;5;124m'\u001b[39m,\u001b[38;5;124m'\u001b[39m\u001b[38;5;124mc\u001b[39m\u001b[38;5;124m'\u001b[39m,\u001b[38;5;124m'\u001b[39m\u001b[38;5;124md\u001b[39m\u001b[38;5;124m'\u001b[39m,\u001b[38;5;124m'\u001b[39m\u001b[38;5;124me\u001b[39m\u001b[38;5;124m'\u001b[39m,\u001b[38;5;124m'\u001b[39m\u001b[38;5;124mf\u001b[39m\u001b[38;5;124m'\u001b[39m])\n",
      "File \u001b[1;32m~\\anaconda3\\lib\\site-packages\\pandas\\core\\frame.py:4440\u001b[0m, in \u001b[0;36mDataFrame.insert\u001b[1;34m(self, loc, column, value, allow_duplicates)\u001b[0m\n\u001b[0;32m   4434\u001b[0m     \u001b[38;5;28;01mraise\u001b[39;00m \u001b[38;5;167;01mValueError\u001b[39;00m(\n\u001b[0;32m   4435\u001b[0m         \u001b[38;5;124m\"\u001b[39m\u001b[38;5;124mCannot specify \u001b[39m\u001b[38;5;124m'\u001b[39m\u001b[38;5;124mallow_duplicates=True\u001b[39m\u001b[38;5;124m'\u001b[39m\u001b[38;5;124m when \u001b[39m\u001b[38;5;124m\"\u001b[39m\n\u001b[0;32m   4436\u001b[0m         \u001b[38;5;124m\"\u001b[39m\u001b[38;5;124m'\u001b[39m\u001b[38;5;124mself.flags.allows_duplicate_labels\u001b[39m\u001b[38;5;124m'\u001b[39m\u001b[38;5;124m is False.\u001b[39m\u001b[38;5;124m\"\u001b[39m\n\u001b[0;32m   4437\u001b[0m     )\n\u001b[0;32m   4438\u001b[0m \u001b[38;5;28;01mif\u001b[39;00m \u001b[38;5;129;01mnot\u001b[39;00m allow_duplicates \u001b[38;5;129;01mand\u001b[39;00m column \u001b[38;5;129;01min\u001b[39;00m \u001b[38;5;28mself\u001b[39m\u001b[38;5;241m.\u001b[39mcolumns:\n\u001b[0;32m   4439\u001b[0m     \u001b[38;5;66;03m# Should this be a different kind of error??\u001b[39;00m\n\u001b[1;32m-> 4440\u001b[0m     \u001b[38;5;28;01mraise\u001b[39;00m \u001b[38;5;167;01mValueError\u001b[39;00m(\u001b[38;5;124mf\u001b[39m\u001b[38;5;124m\"\u001b[39m\u001b[38;5;124mcannot insert \u001b[39m\u001b[38;5;132;01m{\u001b[39;00mcolumn\u001b[38;5;132;01m}\u001b[39;00m\u001b[38;5;124m, already exists\u001b[39m\u001b[38;5;124m\"\u001b[39m)\n\u001b[0;32m   4441\u001b[0m \u001b[38;5;28;01mif\u001b[39;00m \u001b[38;5;129;01mnot\u001b[39;00m \u001b[38;5;28misinstance\u001b[39m(loc, \u001b[38;5;28mint\u001b[39m):\n\u001b[0;32m   4442\u001b[0m     \u001b[38;5;28;01mraise\u001b[39;00m \u001b[38;5;167;01mTypeError\u001b[39;00m(\u001b[38;5;124m\"\u001b[39m\u001b[38;5;124mloc must be int\u001b[39m\u001b[38;5;124m\"\u001b[39m)\n",
      "\u001b[1;31mValueError\u001b[0m: cannot insert BMI_bis4, already exists"
     ]
    }
   ],
   "source": [
    "df1.insert(5,'BMI_bis4',0)\n",
    "\n",
    "df1['BMI_bins4'] = pd.cut(df1.BMI, bins=[0, 20, 30 ,40 ,50 ,60 ,70]\n",
    "                         , labels = ['a','b','c','d','e','f'])\n"
   ]
  },
  {
   "cell_type": "code",
   "execution_count": 14,
   "id": "afc1ff39",
   "metadata": {},
   "outputs": [
    {
     "ename": "AttributeError",
     "evalue": "'DataFrame' object has no attribute 'BMI_bins4'",
     "output_type": "error",
     "traceback": [
      "\u001b[1;31m---------------------------------------------------------------------------\u001b[0m",
      "\u001b[1;31mAttributeError\u001b[0m                            Traceback (most recent call last)",
      "Cell \u001b[1;32mIn[14], line 3\u001b[0m\n\u001b[0;32m      1\u001b[0m \u001b[38;5;66;03m#실제로 구간별 집계 살펴보기\u001b[39;00m\n\u001b[1;32m----> 3\u001b[0m \u001b[43mdf1\u001b[49m\u001b[38;5;241;43m.\u001b[39;49m\u001b[43mBMI_bins4\u001b[49m\u001b[38;5;241m.\u001b[39mvalue_counts()\u001b[38;5;241m.\u001b[39mto_frame()\u001b[38;5;241m.\u001b[39mstyle\u001b[38;5;241m.\u001b[39mbackground_gradient(cmap\u001b[38;5;241m=\u001b[39m\u001b[38;5;124m'\u001b[39m\u001b[38;5;124msummer\u001b[39m\u001b[38;5;124m'\u001b[39m)\n",
      "File \u001b[1;32m~\\anaconda3\\lib\\site-packages\\pandas\\core\\generic.py:5575\u001b[0m, in \u001b[0;36mNDFrame.__getattr__\u001b[1;34m(self, name)\u001b[0m\n\u001b[0;32m   5568\u001b[0m \u001b[38;5;28;01mif\u001b[39;00m (\n\u001b[0;32m   5569\u001b[0m     name \u001b[38;5;129;01mnot\u001b[39;00m \u001b[38;5;129;01min\u001b[39;00m \u001b[38;5;28mself\u001b[39m\u001b[38;5;241m.\u001b[39m_internal_names_set\n\u001b[0;32m   5570\u001b[0m     \u001b[38;5;129;01mand\u001b[39;00m name \u001b[38;5;129;01mnot\u001b[39;00m \u001b[38;5;129;01min\u001b[39;00m \u001b[38;5;28mself\u001b[39m\u001b[38;5;241m.\u001b[39m_metadata\n\u001b[0;32m   5571\u001b[0m     \u001b[38;5;129;01mand\u001b[39;00m name \u001b[38;5;129;01mnot\u001b[39;00m \u001b[38;5;129;01min\u001b[39;00m \u001b[38;5;28mself\u001b[39m\u001b[38;5;241m.\u001b[39m_accessors\n\u001b[0;32m   5572\u001b[0m     \u001b[38;5;129;01mand\u001b[39;00m \u001b[38;5;28mself\u001b[39m\u001b[38;5;241m.\u001b[39m_info_axis\u001b[38;5;241m.\u001b[39m_can_hold_identifiers_and_holds_name(name)\n\u001b[0;32m   5573\u001b[0m ):\n\u001b[0;32m   5574\u001b[0m     \u001b[38;5;28;01mreturn\u001b[39;00m \u001b[38;5;28mself\u001b[39m[name]\n\u001b[1;32m-> 5575\u001b[0m \u001b[38;5;28;01mreturn\u001b[39;00m \u001b[38;5;28;43mobject\u001b[39;49m\u001b[38;5;241;43m.\u001b[39;49m\u001b[38;5;21;43m__getattribute__\u001b[39;49m\u001b[43m(\u001b[49m\u001b[38;5;28;43mself\u001b[39;49m\u001b[43m,\u001b[49m\u001b[43m \u001b[49m\u001b[43mname\u001b[49m\u001b[43m)\u001b[49m\n",
      "\u001b[1;31mAttributeError\u001b[0m: 'DataFrame' object has no attribute 'BMI_bins4'"
     ]
    }
   ],
   "source": [
    "#실제로 구간별 집계 살펴보기\n",
    "\n",
    "df1.BMI_bins4.value_counts().to_frame().style.background_gradient(cmap='summer')"
   ]
  },
  {
   "cell_type": "markdown",
   "id": "0aaf4657",
   "metadata": {},
   "source": [
    "- 자동으로 범위 지정 가능\n",
    "- pd.qcut 함수"
   ]
  },
  {
   "cell_type": "code",
   "execution_count": 15,
   "id": "fda04c28",
   "metadata": {},
   "outputs": [],
   "source": [
    "df1.insert(6,'BMI_bin5',0)\n",
    "\n",
    "df1['BMI_bin5'] = pd.qcut(df.BMI, q=6, labels = ['a','b','c','d','e','f'])"
   ]
  },
  {
   "cell_type": "code",
   "execution_count": null,
   "id": "a2e27d8d",
   "metadata": {},
   "outputs": [
    {
     "data": {
      "text/plain": [
       "0         a\n",
       "1         a\n",
       "2         c\n",
       "3         b\n",
       "4         b\n",
       "         ..\n",
       "319790    d\n",
       "319791    d\n",
       "319792    b\n",
       "319793    e\n",
       "319794    f\n",
       "Name: BMI_bin5, Length: 319795, dtype: category\n",
       "Categories (6, object): ['a' < 'b' < 'c' < 'd' < 'e' < 'f']"
      ]
     },
     "execution_count": 16,
     "metadata": {},
     "output_type": "execute_result"
    }
   ],
   "source": [
    "df1['BMI_bin5']"
   ]
  },
  {
   "cell_type": "markdown",
   "id": "08b17a0d",
   "metadata": {},
   "source": [
    "## Feature_selection 의 영역\n",
    "\n",
    "- 구간화 등의 범주형 변수로 만들었을 때 이진으로 만든 경우도 있고 여러 개의 피처들을 만들었음\n",
    "- 어떤 피처를 그럼 사용해야 하는가?\n",
    "\n",
    "- WOE(Weight of Evidence) , IV(Information Value)\n",
    "- 변수의 정보량과 예측력을 평가하는데 사용하는 지표 \n",
    "- 변수 구간화 : 연속형 분수를 여러 구간으로 나눈다 -> 범위 기반도 있고, 빈도 기반도 있고, 도메인 기반으로도 있고 여러 방법이 있다.\n",
    "\n",
    "----\n",
    "- WOE : 각 구간별로 양성, 음성 두 클래스 비율을 계산한다. -> 해당 각 클래스의 구간에 대해서 공식을 사용해서 해당 WOE 계산한다.\n",
    "- ln(구간 내 양성 클래스 비율)/(구간내 음성클래스비율) 이 값의 결과로 해당 변수를 평가한다.\n",
    "\n",
    "\n",
    "---\n",
    "- 해당 수치가 나왔을 때 해석하는 방법?\n",
    "- WOE 양수 : 구간 값들이 양성클래스의 발생이 더 관련이 있다.\n",
    "- WOE 음수 : 구간 값들이 음성 클래스의 발생에 더 관련이 있다.\n",
    "- WOE 값이 큰 양수 또는 큰 음수 : 해당 구간 값이 예측값과 강한 관계를 가지고 있다.\n",
    "- WOE 0인 값: 클래스와 큰 관게가 없다.\n",
    "\n",
    "- 변수선택시 유용하거나 유요하지 않거나 등의 변수를 식별하고 제외할 수 있다.\n",
    "\n",
    "---\n",
    "- IV(Information Value)변수의 예측력을 평가하는 데 사용하는 통계적 수치 \n",
    "- 각 구간에 대한 WOE을 위에서 계산 했을 때 \n",
    "- 위의 공식을 사용해서 {sum( 양성클래스 비율 ) - (음성클래스 비율)} WOE 이 값을 통해서 해당 변수의 예측력을 평가한다.\n",
    "\n",
    "- IV 기준\n",
    "- IV <0.02: 유용하지 않은 변수\n",
    "- 0.02 <=IV <0.1: 약한 예측력 \n",
    "- 0.1 <=IV <0.3: 중간 예측력\n",
    "- 0.3 <=IV <0.5: 강한 예측력\n",
    "- IV >= 0.5, 1.0 이상: 매우 강한 예측력 \n",
    "\n",
    "- 어떤 변수가 타겟과 더 강한 관계를 가지고 있는지 확인하는 것\n",
    "- 높은 수치라고해서 다 좋은 게 아니라 과적합의 원인이 될 수 있다. 이런 부분은 모델링을 통해서도 같이 크로스 체크 진행해야 한다."
   ]
  },
  {
   "cell_type": "code",
   "execution_count": null,
   "id": "380a2fa6",
   "metadata": {},
   "outputs": [],
   "source": [
    "import seaborn as sns\n",
    "tt = sns.load_dataset('titanic')"
   ]
  },
  {
   "cell_type": "code",
   "execution_count": null,
   "id": "b6368a5c",
   "metadata": {},
   "outputs": [],
   "source": [
    "tt=tt[['survived','sex','age']]\n",
    "tt = tt.dropna()\n",
    "\n",
    "tt_ss=pd.get_dummies(tt['sex']) #성별 변수를 하나 만든다! onehot"
   ]
  },
  {
   "cell_type": "code",
   "execution_count": null,
   "id": "ab817800",
   "metadata": {},
   "outputs": [],
   "source": [
    "tt_age=tt[['age']]"
   ]
  },
  {
   "cell_type": "code",
   "execution_count": null,
   "id": "b41e4da9",
   "metadata": {},
   "outputs": [],
   "source": [
    "y = tt[['survived']]"
   ]
  },
  {
   "cell_type": "code",
   "execution_count": null,
   "id": "ef872d62",
   "metadata": {},
   "outputs": [
    {
     "data": {
      "text/html": [
       "<div>\n",
       "<style scoped>\n",
       "    .dataframe tbody tr th:only-of-type {\n",
       "        vertical-align: middle;\n",
       "    }\n",
       "\n",
       "    .dataframe tbody tr th {\n",
       "        vertical-align: top;\n",
       "    }\n",
       "\n",
       "    .dataframe thead th {\n",
       "        text-align: right;\n",
       "    }\n",
       "</style>\n",
       "<table border=\"1\" class=\"dataframe\">\n",
       "  <thead>\n",
       "    <tr style=\"text-align: right;\">\n",
       "      <th></th>\n",
       "      <th>survived</th>\n",
       "    </tr>\n",
       "  </thead>\n",
       "  <tbody>\n",
       "    <tr>\n",
       "      <th>0</th>\n",
       "      <td>0</td>\n",
       "    </tr>\n",
       "    <tr>\n",
       "      <th>1</th>\n",
       "      <td>1</td>\n",
       "    </tr>\n",
       "    <tr>\n",
       "      <th>2</th>\n",
       "      <td>1</td>\n",
       "    </tr>\n",
       "    <tr>\n",
       "      <th>3</th>\n",
       "      <td>1</td>\n",
       "    </tr>\n",
       "    <tr>\n",
       "      <th>4</th>\n",
       "      <td>0</td>\n",
       "    </tr>\n",
       "    <tr>\n",
       "      <th>...</th>\n",
       "      <td>...</td>\n",
       "    </tr>\n",
       "    <tr>\n",
       "      <th>885</th>\n",
       "      <td>0</td>\n",
       "    </tr>\n",
       "    <tr>\n",
       "      <th>886</th>\n",
       "      <td>0</td>\n",
       "    </tr>\n",
       "    <tr>\n",
       "      <th>887</th>\n",
       "      <td>1</td>\n",
       "    </tr>\n",
       "    <tr>\n",
       "      <th>889</th>\n",
       "      <td>1</td>\n",
       "    </tr>\n",
       "    <tr>\n",
       "      <th>890</th>\n",
       "      <td>0</td>\n",
       "    </tr>\n",
       "  </tbody>\n",
       "</table>\n",
       "<p>714 rows × 1 columns</p>\n",
       "</div>"
      ],
      "text/plain": [
       "     survived\n",
       "0           0\n",
       "1           1\n",
       "2           1\n",
       "3           1\n",
       "4           0\n",
       "..        ...\n",
       "885         0\n",
       "886         0\n",
       "887         1\n",
       "889         1\n",
       "890         0\n",
       "\n",
       "[714 rows x 1 columns]"
      ]
     },
     "execution_count": 21,
     "metadata": {},
     "output_type": "execute_result"
    }
   ],
   "source": [
    "y"
   ]
  },
  {
   "cell_type": "code",
   "execution_count": null,
   "id": "fa1c6931",
   "metadata": {},
   "outputs": [
    {
     "data": {
      "text/html": [
       "<div>\n",
       "<style scoped>\n",
       "    .dataframe tbody tr th:only-of-type {\n",
       "        vertical-align: middle;\n",
       "    }\n",
       "\n",
       "    .dataframe tbody tr th {\n",
       "        vertical-align: top;\n",
       "    }\n",
       "\n",
       "    .dataframe thead th {\n",
       "        text-align: right;\n",
       "    }\n",
       "</style>\n",
       "<table border=\"1\" class=\"dataframe\">\n",
       "  <thead>\n",
       "    <tr style=\"text-align: right;\">\n",
       "      <th></th>\n",
       "      <th>female</th>\n",
       "      <th>male</th>\n",
       "    </tr>\n",
       "  </thead>\n",
       "  <tbody>\n",
       "    <tr>\n",
       "      <th>0</th>\n",
       "      <td>0</td>\n",
       "      <td>1</td>\n",
       "    </tr>\n",
       "    <tr>\n",
       "      <th>1</th>\n",
       "      <td>1</td>\n",
       "      <td>0</td>\n",
       "    </tr>\n",
       "    <tr>\n",
       "      <th>2</th>\n",
       "      <td>1</td>\n",
       "      <td>0</td>\n",
       "    </tr>\n",
       "    <tr>\n",
       "      <th>3</th>\n",
       "      <td>1</td>\n",
       "      <td>0</td>\n",
       "    </tr>\n",
       "    <tr>\n",
       "      <th>4</th>\n",
       "      <td>0</td>\n",
       "      <td>1</td>\n",
       "    </tr>\n",
       "    <tr>\n",
       "      <th>...</th>\n",
       "      <td>...</td>\n",
       "      <td>...</td>\n",
       "    </tr>\n",
       "    <tr>\n",
       "      <th>885</th>\n",
       "      <td>1</td>\n",
       "      <td>0</td>\n",
       "    </tr>\n",
       "    <tr>\n",
       "      <th>886</th>\n",
       "      <td>0</td>\n",
       "      <td>1</td>\n",
       "    </tr>\n",
       "    <tr>\n",
       "      <th>887</th>\n",
       "      <td>1</td>\n",
       "      <td>0</td>\n",
       "    </tr>\n",
       "    <tr>\n",
       "      <th>889</th>\n",
       "      <td>0</td>\n",
       "      <td>1</td>\n",
       "    </tr>\n",
       "    <tr>\n",
       "      <th>890</th>\n",
       "      <td>0</td>\n",
       "      <td>1</td>\n",
       "    </tr>\n",
       "  </tbody>\n",
       "</table>\n",
       "<p>714 rows × 2 columns</p>\n",
       "</div>"
      ],
      "text/plain": [
       "     female  male\n",
       "0         0     1\n",
       "1         1     0\n",
       "2         1     0\n",
       "3         1     0\n",
       "4         0     1\n",
       "..      ...   ...\n",
       "885       1     0\n",
       "886       0     1\n",
       "887       1     0\n",
       "889       0     1\n",
       "890       0     1\n",
       "\n",
       "[714 rows x 2 columns]"
      ]
     },
     "execution_count": 22,
     "metadata": {},
     "output_type": "execute_result"
    }
   ],
   "source": [
    "tt_ss"
   ]
  },
  {
   "cell_type": "markdown",
   "id": "0d181bac",
   "metadata": {},
   "source": [
    "from xverse.transformer import WOE\n",
    "- 패키지를 이용해서 간단하게 예시로 볼 수 있다."
   ]
  },
  {
   "cell_type": "code",
   "execution_count": null,
   "id": "c9b08fde",
   "metadata": {
    "scrolled": true
   },
   "outputs": [
    {
     "name": "stderr",
     "output_type": "stream",
     "text": [
      "C:\\Users\\munbe\\anaconda3\\lib\\site-packages\\pandas\\core\\arraylike.py:397: RuntimeWarning: divide by zero encountered in log\n",
      "  result = getattr(ufunc, method)(*inputs, **kwargs)\n",
      "C:\\Users\\munbe\\anaconda3\\lib\\site-packages\\pandas\\core\\arraylike.py:397: RuntimeWarning: divide by zero encountered in log\n",
      "  result = getattr(ufunc, method)(*inputs, **kwargs)\n",
      "C:\\Users\\munbe\\anaconda3\\lib\\site-packages\\xverse\\transformer\\_woe.py:238: FutureWarning: The frame.append method is deprecated and will be removed from pandas in a future version. Use pandas.concat instead.\n",
      "  self.woe_df = self.woe_df.append(temp_woe, ignore_index=True)\n",
      "C:\\Users\\munbe\\anaconda3\\lib\\site-packages\\pandas\\core\\arraylike.py:397: RuntimeWarning: divide by zero encountered in log\n",
      "  result = getattr(ufunc, method)(*inputs, **kwargs)\n",
      "C:\\Users\\munbe\\anaconda3\\lib\\site-packages\\xverse\\transformer\\_woe.py:238: FutureWarning: The frame.append method is deprecated and will be removed from pandas in a future version. Use pandas.concat instead.\n",
      "  self.woe_df = self.woe_df.append(temp_woe, ignore_index=True)\n"
     ]
    },
    {
     "data": {
      "text/html": [
       "<div>\n",
       "<style scoped>\n",
       "    .dataframe tbody tr th:only-of-type {\n",
       "        vertical-align: middle;\n",
       "    }\n",
       "\n",
       "    .dataframe tbody tr th {\n",
       "        vertical-align: top;\n",
       "    }\n",
       "\n",
       "    .dataframe thead th {\n",
       "        text-align: right;\n",
       "    }\n",
       "</style>\n",
       "<table border=\"1\" class=\"dataframe\">\n",
       "  <thead>\n",
       "    <tr style=\"text-align: right;\">\n",
       "      <th></th>\n",
       "      <th>Variable_Name</th>\n",
       "      <th>Category</th>\n",
       "      <th>Count</th>\n",
       "      <th>Event</th>\n",
       "      <th>Non_Event</th>\n",
       "      <th>Event_Rate</th>\n",
       "      <th>Non_Event_Rate</th>\n",
       "      <th>Event_Distribution</th>\n",
       "      <th>Non_Event_Distribution</th>\n",
       "      <th>WOE</th>\n",
       "      <th>Information_Value</th>\n",
       "    </tr>\n",
       "  </thead>\n",
       "  <tbody>\n",
       "    <tr>\n",
       "      <th>0</th>\n",
       "      <td>feature1</td>\n",
       "      <td>1</td>\n",
       "      <td>1</td>\n",
       "      <td>0</td>\n",
       "      <td>1</td>\n",
       "      <td>0.0</td>\n",
       "      <td>1.0</td>\n",
       "      <td>0.0</td>\n",
       "      <td>0.333333</td>\n",
       "      <td>0.0</td>\n",
       "      <td>0.0</td>\n",
       "    </tr>\n",
       "    <tr>\n",
       "      <th>1</th>\n",
       "      <td>feature1</td>\n",
       "      <td>2</td>\n",
       "      <td>1</td>\n",
       "      <td>1</td>\n",
       "      <td>0</td>\n",
       "      <td>1.0</td>\n",
       "      <td>0.0</td>\n",
       "      <td>0.5</td>\n",
       "      <td>0.000000</td>\n",
       "      <td>0.0</td>\n",
       "      <td>0.0</td>\n",
       "    </tr>\n",
       "    <tr>\n",
       "      <th>2</th>\n",
       "      <td>feature1</td>\n",
       "      <td>3</td>\n",
       "      <td>1</td>\n",
       "      <td>0</td>\n",
       "      <td>1</td>\n",
       "      <td>0.0</td>\n",
       "      <td>1.0</td>\n",
       "      <td>0.0</td>\n",
       "      <td>0.333333</td>\n",
       "      <td>0.0</td>\n",
       "      <td>0.0</td>\n",
       "    </tr>\n",
       "    <tr>\n",
       "      <th>3</th>\n",
       "      <td>feature1</td>\n",
       "      <td>4</td>\n",
       "      <td>1</td>\n",
       "      <td>1</td>\n",
       "      <td>0</td>\n",
       "      <td>1.0</td>\n",
       "      <td>0.0</td>\n",
       "      <td>0.5</td>\n",
       "      <td>0.000000</td>\n",
       "      <td>0.0</td>\n",
       "      <td>0.0</td>\n",
       "    </tr>\n",
       "    <tr>\n",
       "      <th>4</th>\n",
       "      <td>feature1</td>\n",
       "      <td>5</td>\n",
       "      <td>1</td>\n",
       "      <td>0</td>\n",
       "      <td>1</td>\n",
       "      <td>0.0</td>\n",
       "      <td>1.0</td>\n",
       "      <td>0.0</td>\n",
       "      <td>0.333333</td>\n",
       "      <td>0.0</td>\n",
       "      <td>0.0</td>\n",
       "    </tr>\n",
       "    <tr>\n",
       "      <th>5</th>\n",
       "      <td>feature2</td>\n",
       "      <td>A</td>\n",
       "      <td>3</td>\n",
       "      <td>0</td>\n",
       "      <td>3</td>\n",
       "      <td>0.0</td>\n",
       "      <td>1.0</td>\n",
       "      <td>0.0</td>\n",
       "      <td>1.000000</td>\n",
       "      <td>0.0</td>\n",
       "      <td>0.0</td>\n",
       "    </tr>\n",
       "    <tr>\n",
       "      <th>6</th>\n",
       "      <td>feature2</td>\n",
       "      <td>B</td>\n",
       "      <td>2</td>\n",
       "      <td>2</td>\n",
       "      <td>0</td>\n",
       "      <td>1.0</td>\n",
       "      <td>0.0</td>\n",
       "      <td>1.0</td>\n",
       "      <td>0.000000</td>\n",
       "      <td>0.0</td>\n",
       "      <td>0.0</td>\n",
       "    </tr>\n",
       "    <tr>\n",
       "      <th>7</th>\n",
       "      <td>feature3</td>\n",
       "      <td>10</td>\n",
       "      <td>1</td>\n",
       "      <td>0</td>\n",
       "      <td>1</td>\n",
       "      <td>0.0</td>\n",
       "      <td>1.0</td>\n",
       "      <td>0.0</td>\n",
       "      <td>0.333333</td>\n",
       "      <td>0.0</td>\n",
       "      <td>0.0</td>\n",
       "    </tr>\n",
       "    <tr>\n",
       "      <th>8</th>\n",
       "      <td>feature3</td>\n",
       "      <td>20</td>\n",
       "      <td>1</td>\n",
       "      <td>1</td>\n",
       "      <td>0</td>\n",
       "      <td>1.0</td>\n",
       "      <td>0.0</td>\n",
       "      <td>0.5</td>\n",
       "      <td>0.000000</td>\n",
       "      <td>0.0</td>\n",
       "      <td>0.0</td>\n",
       "    </tr>\n",
       "    <tr>\n",
       "      <th>9</th>\n",
       "      <td>feature3</td>\n",
       "      <td>30</td>\n",
       "      <td>1</td>\n",
       "      <td>0</td>\n",
       "      <td>1</td>\n",
       "      <td>0.0</td>\n",
       "      <td>1.0</td>\n",
       "      <td>0.0</td>\n",
       "      <td>0.333333</td>\n",
       "      <td>0.0</td>\n",
       "      <td>0.0</td>\n",
       "    </tr>\n",
       "    <tr>\n",
       "      <th>10</th>\n",
       "      <td>feature3</td>\n",
       "      <td>40</td>\n",
       "      <td>1</td>\n",
       "      <td>1</td>\n",
       "      <td>0</td>\n",
       "      <td>1.0</td>\n",
       "      <td>0.0</td>\n",
       "      <td>0.5</td>\n",
       "      <td>0.000000</td>\n",
       "      <td>0.0</td>\n",
       "      <td>0.0</td>\n",
       "    </tr>\n",
       "    <tr>\n",
       "      <th>11</th>\n",
       "      <td>feature3</td>\n",
       "      <td>50</td>\n",
       "      <td>1</td>\n",
       "      <td>0</td>\n",
       "      <td>1</td>\n",
       "      <td>0.0</td>\n",
       "      <td>1.0</td>\n",
       "      <td>0.0</td>\n",
       "      <td>0.333333</td>\n",
       "      <td>0.0</td>\n",
       "      <td>0.0</td>\n",
       "    </tr>\n",
       "  </tbody>\n",
       "</table>\n",
       "</div>"
      ],
      "text/plain": [
       "   Variable_Name Category  Count  Event  Non_Event  Event_Rate  \\\n",
       "0       feature1        1      1      0          1         0.0   \n",
       "1       feature1        2      1      1          0         1.0   \n",
       "2       feature1        3      1      0          1         0.0   \n",
       "3       feature1        4      1      1          0         1.0   \n",
       "4       feature1        5      1      0          1         0.0   \n",
       "5       feature2        A      3      0          3         0.0   \n",
       "6       feature2        B      2      2          0         1.0   \n",
       "7       feature3       10      1      0          1         0.0   \n",
       "8       feature3       20      1      1          0         1.0   \n",
       "9       feature3       30      1      0          1         0.0   \n",
       "10      feature3       40      1      1          0         1.0   \n",
       "11      feature3       50      1      0          1         0.0   \n",
       "\n",
       "    Non_Event_Rate  Event_Distribution  Non_Event_Distribution  WOE  \\\n",
       "0              1.0                 0.0                0.333333  0.0   \n",
       "1              0.0                 0.5                0.000000  0.0   \n",
       "2              1.0                 0.0                0.333333  0.0   \n",
       "3              0.0                 0.5                0.000000  0.0   \n",
       "4              1.0                 0.0                0.333333  0.0   \n",
       "5              1.0                 0.0                1.000000  0.0   \n",
       "6              0.0                 1.0                0.000000  0.0   \n",
       "7              1.0                 0.0                0.333333  0.0   \n",
       "8              0.0                 0.5                0.000000  0.0   \n",
       "9              1.0                 0.0                0.333333  0.0   \n",
       "10             0.0                 0.5                0.000000  0.0   \n",
       "11             1.0                 0.0                0.333333  0.0   \n",
       "\n",
       "    Information_Value  \n",
       "0                 0.0  \n",
       "1                 0.0  \n",
       "2                 0.0  \n",
       "3                 0.0  \n",
       "4                 0.0  \n",
       "5                 0.0  \n",
       "6                 0.0  \n",
       "7                 0.0  \n",
       "8                 0.0  \n",
       "9                 0.0  \n",
       "10                0.0  \n",
       "11                0.0  "
      ]
     },
     "execution_count": 23,
     "metadata": {},
     "output_type": "execute_result"
    }
   ],
   "source": [
    "from xverse.transformer import WOE\n",
    "\n",
    "# WOE 모델 설정\n",
    "clf = WOE()\n",
    "\n",
    "# 예제 데이터 생성\n",
    "X = pd.DataFrame({\n",
    "    'feature1': [1, 2, 3, 4, 5],\n",
    "    'feature2': ['A', 'B', 'A', 'B', 'A'],\n",
    "    'feature3': [10, 20, 30, 40, 50],\n",
    "})\n",
    "y = pd.Series([0, 1, 0, 1, 0])\n",
    "\n",
    "# WOE 모델 학습\n",
    "clf.fit(X, y)\n",
    "\n",
    "# WOE 값 확인\n",
    "woe_df = clf.woe_df\n",
    "b = clf.iv_df\n",
    "woe_df"
   ]
  },
  {
   "cell_type": "markdown",
   "id": "f9ac92e1",
   "metadata": {},
   "source": [
    "- WOE 패키지 모듈 수정한 새로운 함수 "
   ]
  },
  {
   "cell_type": "code",
   "execution_count": null,
   "id": "98192ffa",
   "metadata": {},
   "outputs": [],
   "source": [
    "import numpy as np"
   ]
  },
  {
   "cell_type": "code",
   "execution_count": null,
   "id": "fee55a0b",
   "metadata": {},
   "outputs": [
    {
     "name": "stdout",
     "output_type": "stream",
     "text": [
      "WOE values:\n",
      "          WOE\n",
      "age  0.164551\n",
      "\n",
      "Information Value (IV):\n",
      "           IV\n",
      "age  1.168947\n",
      "\n",
      "Features with IV above the threshold:\n",
      "['age']\n",
      "\n",
      "Binning ranges:\n",
      "{'age': array([ 0.34042   , 11.78857143, 23.15714286, 34.52571429, 45.89428571,\n",
      "       57.26285714, 68.63142857, 80.        ])}\n"
     ]
    }
   ],
   "source": [
    "class WOE:\n",
    "    def __init__(self):\n",
    "        self.woe_df = None\n",
    "        self.iv_df = None\n",
    "        self.binning_ranges = {}\n",
    "    \n",
    "    def fit(self, X, y, bins=5):\n",
    "        if not isinstance(X, pd.DataFrame):\n",
    "            raise ValueError(\"X must be a pandas DataFrame\")\n",
    "        if not isinstance(y, pd.Series):\n",
    "            raise ValueError(\"y must be a pandas Series\")\n",
    "        \n",
    "        data = pd.concat([X, y], axis=1)\n",
    "        self.woe_df = pd.DataFrame(index=X.columns)\n",
    "        self.iv_df = pd.DataFrame(columns=['IV'])\n",
    "        \n",
    "        for column in X.columns:\n",
    "            # Bin 데이터 생성\n",
    "            bins_data, bin_ranges = pd.cut(X[column], bins=bins, retbins=True, labels=False, precision=3, include_lowest=True)\n",
    "            self.binning_ranges[column] = bin_ranges\n",
    "            \n",
    "            data_bin = pd.concat([X[column], bins_data, y], axis=1)\n",
    "            data_bin.columns = [column, 'Bin', y.name]\n",
    "            \n",
    "            grouped = data_bin.groupby('Bin')[y.name].agg(['count', 'sum'])\n",
    "            grouped['non_event'] = grouped['count'] - grouped['sum']\n",
    "            grouped['event_rate'] = (grouped['sum'] + 0.5) / grouped['sum'].sum()\n",
    "            grouped['non_event_rate'] = (grouped['non_event'] + 0.5) / grouped['non_event'].sum()\n",
    "            grouped['WOE'] = np.log(grouped['event_rate'] / grouped['non_event_rate'])\n",
    "            self.woe_df.loc[column, 'WOE'] = grouped['WOE'].mean()\n",
    "            self.iv_df.loc[column, 'IV'] = ((grouped['event_rate'] - grouped['non_event_rate']) * grouped['WOE']).sum()\n",
    "        \n",
    "        return self.woe_df, self.iv_df\n",
    "    \n",
    "    def get_optimal_range(self, iv_threshold=0.1):\n",
    "        \"\"\"\n",
    "        Get optimal range based on IV threshold.\n",
    "        \n",
    "        Parameters:\n",
    "        - iv_threshold: float, IV threshold value\n",
    "        \n",
    "        Returns:\n",
    "        - list of features with IV values above the threshold\n",
    "        \"\"\"\n",
    "        if self.iv_df is None:\n",
    "            raise ValueError(\"Fit the model first to compute IV values\")\n",
    "        \n",
    "        return list(self.iv_df[self.iv_df['IV'] > iv_threshold].index)\n",
    "    \n",
    "    def get_binning_ranges(self):\n",
    "        \"\"\"\n",
    "        Get binning ranges for each feature.\n",
    "        \n",
    "        Returns:\n",
    "        - dictionary of binning ranges for each feature\n",
    "        \"\"\"\n",
    "        return self.binning_ranges\n",
    "\n",
    "# 예시 코드\n",
    "#X = pd.DataFrame({\n",
    "    #'Feature1': [0, 1, 2, 3, 4],\n",
    "    #'Feature2': [10, 20, 30, 40, 50]\n",
    "#})\n",
    "#y = pd.Series([0, 1, 0, 1, 0], name='Target')\n",
    "\n",
    "woe_model = WOE()\n",
    "#woe_df, iv_df = woe_model.fit(x_fn, y_fn)\n",
    "woe_df, iv_df = woe_model.fit(tt_age, y, bins=7) # x값, Y값을 넣으면 된다.\n",
    "print(\"WOE values:\")\n",
    "print(woe_df)\n",
    "print(\"\\nInformation Value (IV):\")\n",
    "print(iv_df)\n",
    "\n",
    "optimal_range = woe_model.get_optimal_range(iv_threshold=0.1)\n",
    "print(\"\\nFeatures with IV above the threshold:\")\n",
    "print(optimal_range)\n",
    "\n",
    "binning_ranges = woe_model.get_binning_ranges()\n",
    "print(\"\\nBinning ranges:\")\n",
    "print(binning_ranges)"
   ]
  },
  {
   "cell_type": "code",
   "execution_count": null,
   "id": "d6aa55eb",
   "metadata": {},
   "outputs": [
    {
     "name": "stderr",
     "output_type": "stream",
     "text": [
      "C:\\Users\\munbe\\anaconda3\\lib\\site-packages\\numpy\\core\\fromnumeric.py:84: FutureWarning: In a future version, DataFrame.max(axis=None) will return a scalar max over the entire DataFrame. To retain the old behavior, use 'frame.max(axis=0)' or just 'frame.max()'\n",
      "  return reduction(axis=axis, out=out, **passkwargs)\n"
     ]
    },
    {
     "data": {
      "text/plain": [
       "age    80.0\n",
       "dtype: float64"
      ]
     },
     "execution_count": 26,
     "metadata": {},
     "output_type": "execute_result"
    }
   ],
   "source": [
    "np.max(tt_age)"
   ]
  },
  {
   "cell_type": "markdown",
   "id": "9aa51701",
   "metadata": {},
   "source": [
    "- bin 몇 개가 적정합니까?\n",
    "- 5~10, 15 적정 수준으로 보는데 데이터에 특성이나 도메인 지식에 따라서는 달라질 순 있다.\n",
    "- 적정한 수는 결국 모델링도 같이 진행하면서 최적을 찾아가야 하는 것"
   ]
  },
  {
   "cell_type": "markdown",
   "id": "1605491b",
   "metadata": {},
   "source": [
    "# KBinsDiscretizer \n",
    "- scikit-learn 라이브러리에서 제공하는 패키지\n",
    "- 연속형 변수를 구간으로 나누어 범주형 변수로 변환하는 작업 수행\n",
    "- 데이터 비닝 작업 중 하나\n",
    "- bin 구간의 수에 따라 균일하게 나누거나, 지정된 구간 폭에 따라 나눌 수 있다. ( 하이퍼파라미터 값 조정할 수 있다. )\n",
    "\n",
    "---\n",
    "- encode : onehot(원핫인코딩) ordinal(레이블인코딩)\n",
    "- strategy : 구간 나누는 전략, uniform - 데이터를 균일하게 나누기, quantile 데이터 분포 분위수 기반, 'kmeans' - K means 방법으로 진행 \n"
   ]
  },
  {
   "cell_type": "code",
   "execution_count": null,
   "id": "bea30c8e",
   "metadata": {},
   "outputs": [],
   "source": [
    "from sklearn.preprocessing import KBinsDiscretizer\n",
    "\n",
    "# 예시 데이터\n",
    "data = [[1, 2, 3, 4],\n",
    "        [11, 12, 13, 14],\n",
    "        [21, 22, 23, 24],\n",
    "        [31, 32, 33, 34]]\n"
   ]
  },
  {
   "cell_type": "code",
   "execution_count": null,
   "id": "eab54caf",
   "metadata": {},
   "outputs": [],
   "source": [
    "est=KBinsDiscretizer(n_bins= 10, encode='ordinal', strategy ='uniform')"
   ]
  },
  {
   "cell_type": "code",
   "execution_count": null,
   "id": "86e5086f",
   "metadata": {},
   "outputs": [
    {
     "data": {
      "text/plain": [
       "KBinsDiscretizer(encode='ordinal', n_bins=10, strategy='uniform')"
      ]
     },
     "execution_count": 29,
     "metadata": {},
     "output_type": "execute_result"
    }
   ],
   "source": [
    "est.fit(data)"
   ]
  },
  {
   "cell_type": "code",
   "execution_count": null,
   "id": "31bbc957",
   "metadata": {},
   "outputs": [
    {
     "data": {
      "text/plain": [
       "array([[0., 0., 0., 0.],\n",
       "       [3., 3., 3., 3.],\n",
       "       [6., 6., 6., 6.],\n",
       "       [9., 9., 9., 9.]])"
      ]
     },
     "execution_count": 30,
     "metadata": {},
     "output_type": "execute_result"
    }
   ],
   "source": [
    "est.transform(data)"
   ]
  },
  {
   "cell_type": "markdown",
   "id": "cece1841",
   "metadata": {},
   "source": [
    "- 타이타닉데이터를 실제 패키지에 넣어보자!"
   ]
  },
  {
   "cell_type": "code",
   "execution_count": null,
   "id": "a2f8ebb2",
   "metadata": {},
   "outputs": [],
   "source": [
    "est=KBinsDiscretizer(n_bins= 6, encode='ordinal', strategy ='uniform')"
   ]
  },
  {
   "cell_type": "code",
   "execution_count": null,
   "id": "9b9414b3",
   "metadata": {},
   "outputs": [],
   "source": [
    "est.fit(tt_age)\n",
    "tt_age_trn=est.transform(tt_age)"
   ]
  },
  {
   "cell_type": "code",
   "execution_count": null,
   "id": "c5a5b1c1",
   "metadata": {
    "scrolled": true
   },
   "outputs": [
    {
     "data": {
      "text/html": [
       "<div>\n",
       "<style scoped>\n",
       "    .dataframe tbody tr th:only-of-type {\n",
       "        vertical-align: middle;\n",
       "    }\n",
       "\n",
       "    .dataframe tbody tr th {\n",
       "        vertical-align: top;\n",
       "    }\n",
       "\n",
       "    .dataframe thead th {\n",
       "        text-align: right;\n",
       "    }\n",
       "</style>\n",
       "<table border=\"1\" class=\"dataframe\">\n",
       "  <thead>\n",
       "    <tr style=\"text-align: right;\">\n",
       "      <th></th>\n",
       "      <th>age</th>\n",
       "    </tr>\n",
       "  </thead>\n",
       "  <tbody>\n",
       "    <tr>\n",
       "      <th>0</th>\n",
       "      <td>22.0</td>\n",
       "    </tr>\n",
       "    <tr>\n",
       "      <th>1</th>\n",
       "      <td>38.0</td>\n",
       "    </tr>\n",
       "    <tr>\n",
       "      <th>2</th>\n",
       "      <td>26.0</td>\n",
       "    </tr>\n",
       "    <tr>\n",
       "      <th>3</th>\n",
       "      <td>35.0</td>\n",
       "    </tr>\n",
       "    <tr>\n",
       "      <th>4</th>\n",
       "      <td>35.0</td>\n",
       "    </tr>\n",
       "    <tr>\n",
       "      <th>...</th>\n",
       "      <td>...</td>\n",
       "    </tr>\n",
       "    <tr>\n",
       "      <th>885</th>\n",
       "      <td>39.0</td>\n",
       "    </tr>\n",
       "    <tr>\n",
       "      <th>886</th>\n",
       "      <td>27.0</td>\n",
       "    </tr>\n",
       "    <tr>\n",
       "      <th>887</th>\n",
       "      <td>19.0</td>\n",
       "    </tr>\n",
       "    <tr>\n",
       "      <th>889</th>\n",
       "      <td>26.0</td>\n",
       "    </tr>\n",
       "    <tr>\n",
       "      <th>890</th>\n",
       "      <td>32.0</td>\n",
       "    </tr>\n",
       "  </tbody>\n",
       "</table>\n",
       "<p>714 rows × 1 columns</p>\n",
       "</div>"
      ],
      "text/plain": [
       "      age\n",
       "0    22.0\n",
       "1    38.0\n",
       "2    26.0\n",
       "3    35.0\n",
       "4    35.0\n",
       "..    ...\n",
       "885  39.0\n",
       "886  27.0\n",
       "887  19.0\n",
       "889  26.0\n",
       "890  32.0\n",
       "\n",
       "[714 rows x 1 columns]"
      ]
     },
     "execution_count": 33,
     "metadata": {},
     "output_type": "execute_result"
    }
   ],
   "source": [
    "tt_age"
   ]
  },
  {
   "cell_type": "code",
   "execution_count": null,
   "id": "c592d9d1",
   "metadata": {},
   "outputs": [],
   "source": [
    "import pandas as pd"
   ]
  },
  {
   "cell_type": "code",
   "execution_count": null,
   "id": "7597bf21",
   "metadata": {},
   "outputs": [],
   "source": [
    "tt_age_trn_1=pd.DataFrame(tt_age_trn)"
   ]
  },
  {
   "cell_type": "code",
   "execution_count": null,
   "id": "a562bd6a",
   "metadata": {},
   "outputs": [
    {
     "data": {
      "text/html": [
       "<div>\n",
       "<style scoped>\n",
       "    .dataframe tbody tr th:only-of-type {\n",
       "        vertical-align: middle;\n",
       "    }\n",
       "\n",
       "    .dataframe tbody tr th {\n",
       "        vertical-align: top;\n",
       "    }\n",
       "\n",
       "    .dataframe thead th {\n",
       "        text-align: right;\n",
       "    }\n",
       "</style>\n",
       "<table border=\"1\" class=\"dataframe\">\n",
       "  <thead>\n",
       "    <tr style=\"text-align: right;\">\n",
       "      <th></th>\n",
       "      <th>0</th>\n",
       "    </tr>\n",
       "  </thead>\n",
       "  <tbody>\n",
       "    <tr>\n",
       "      <th>0</th>\n",
       "      <td>1.0</td>\n",
       "    </tr>\n",
       "    <tr>\n",
       "      <th>1</th>\n",
       "      <td>2.0</td>\n",
       "    </tr>\n",
       "    <tr>\n",
       "      <th>2</th>\n",
       "      <td>1.0</td>\n",
       "    </tr>\n",
       "    <tr>\n",
       "      <th>3</th>\n",
       "      <td>2.0</td>\n",
       "    </tr>\n",
       "    <tr>\n",
       "      <th>4</th>\n",
       "      <td>2.0</td>\n",
       "    </tr>\n",
       "    <tr>\n",
       "      <th>...</th>\n",
       "      <td>...</td>\n",
       "    </tr>\n",
       "    <tr>\n",
       "      <th>709</th>\n",
       "      <td>2.0</td>\n",
       "    </tr>\n",
       "    <tr>\n",
       "      <th>710</th>\n",
       "      <td>2.0</td>\n",
       "    </tr>\n",
       "    <tr>\n",
       "      <th>711</th>\n",
       "      <td>1.0</td>\n",
       "    </tr>\n",
       "    <tr>\n",
       "      <th>712</th>\n",
       "      <td>1.0</td>\n",
       "    </tr>\n",
       "    <tr>\n",
       "      <th>713</th>\n",
       "      <td>2.0</td>\n",
       "    </tr>\n",
       "  </tbody>\n",
       "</table>\n",
       "<p>714 rows × 1 columns</p>\n",
       "</div>"
      ],
      "text/plain": [
       "       0\n",
       "0    1.0\n",
       "1    2.0\n",
       "2    1.0\n",
       "3    2.0\n",
       "4    2.0\n",
       "..   ...\n",
       "709  2.0\n",
       "710  2.0\n",
       "711  1.0\n",
       "712  1.0\n",
       "713  2.0\n",
       "\n",
       "[714 rows x 1 columns]"
      ]
     },
     "execution_count": 36,
     "metadata": {},
     "output_type": "execute_result"
    }
   ],
   "source": [
    "tt_age_trn_1"
   ]
  },
  {
   "cell_type": "code",
   "execution_count": null,
   "id": "4cd8ce82",
   "metadata": {},
   "outputs": [
    {
     "data": {
      "text/html": [
       "<div>\n",
       "<style scoped>\n",
       "    .dataframe tbody tr th:only-of-type {\n",
       "        vertical-align: middle;\n",
       "    }\n",
       "\n",
       "    .dataframe tbody tr th {\n",
       "        vertical-align: top;\n",
       "    }\n",
       "\n",
       "    .dataframe thead th {\n",
       "        text-align: right;\n",
       "    }\n",
       "</style>\n",
       "<table border=\"1\" class=\"dataframe\">\n",
       "  <thead>\n",
       "    <tr style=\"text-align: right;\">\n",
       "      <th></th>\n",
       "      <th>age</th>\n",
       "    </tr>\n",
       "  </thead>\n",
       "  <tbody>\n",
       "    <tr>\n",
       "      <th>0</th>\n",
       "      <td>22.0</td>\n",
       "    </tr>\n",
       "    <tr>\n",
       "      <th>1</th>\n",
       "      <td>38.0</td>\n",
       "    </tr>\n",
       "    <tr>\n",
       "      <th>2</th>\n",
       "      <td>26.0</td>\n",
       "    </tr>\n",
       "    <tr>\n",
       "      <th>3</th>\n",
       "      <td>35.0</td>\n",
       "    </tr>\n",
       "    <tr>\n",
       "      <th>4</th>\n",
       "      <td>35.0</td>\n",
       "    </tr>\n",
       "    <tr>\n",
       "      <th>...</th>\n",
       "      <td>...</td>\n",
       "    </tr>\n",
       "    <tr>\n",
       "      <th>885</th>\n",
       "      <td>39.0</td>\n",
       "    </tr>\n",
       "    <tr>\n",
       "      <th>886</th>\n",
       "      <td>27.0</td>\n",
       "    </tr>\n",
       "    <tr>\n",
       "      <th>887</th>\n",
       "      <td>19.0</td>\n",
       "    </tr>\n",
       "    <tr>\n",
       "      <th>889</th>\n",
       "      <td>26.0</td>\n",
       "    </tr>\n",
       "    <tr>\n",
       "      <th>890</th>\n",
       "      <td>32.0</td>\n",
       "    </tr>\n",
       "  </tbody>\n",
       "</table>\n",
       "<p>714 rows × 1 columns</p>\n",
       "</div>"
      ],
      "text/plain": [
       "      age\n",
       "0    22.0\n",
       "1    38.0\n",
       "2    26.0\n",
       "3    35.0\n",
       "4    35.0\n",
       "..    ...\n",
       "885  39.0\n",
       "886  27.0\n",
       "887  19.0\n",
       "889  26.0\n",
       "890  32.0\n",
       "\n",
       "[714 rows x 1 columns]"
      ]
     },
     "execution_count": 37,
     "metadata": {},
     "output_type": "execute_result"
    }
   ],
   "source": [
    "tt_age"
   ]
  },
  {
   "cell_type": "code",
   "execution_count": null,
   "id": "12a891ca",
   "metadata": {},
   "outputs": [],
   "source": []
  }
 ],
 "metadata": {
  "kernelspec": {
   "display_name": "Python 3 (ipykernel)",
   "language": "python",
   "name": "python3"
  },
  "language_info": {
   "codemirror_mode": {
    "name": "ipython",
    "version": 3
   },
   "file_extension": ".py",
   "mimetype": "text/x-python",
   "name": "python",
   "nbconvert_exporter": "python",
   "pygments_lexer": "ipython3",
   "version": "3.9.18"
  }
 },
 "nbformat": 4,
 "nbformat_minor": 5
}
