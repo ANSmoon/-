{
 "cells": [
  {
   "cell_type": "code",
   "execution_count": 1,
   "id": "ee2c041d",
   "metadata": {
    "id": "ee2c041d"
   },
   "outputs": [],
   "source": [
    "import pandas as pd\n",
    "import numpy as np\n",
    "import matplotlib.pyplot as plt\n",
    "import seaborn as sns"
   ]
  },
  {
   "cell_type": "markdown",
   "id": "c2099146",
   "metadata": {
    "id": "c2099146"
   },
   "source": [
    "## Outlier에 대한 잘못된 편견\n",
    "- 아무래도 극단적인 값이고 전체 데이터 범위를 넘는 값이다보니 이 데이터를 이상치로 생각하고 무조건 제거해야 한다.\n",
    "- 제거하는 것이 문제 또 될 수 있습니다.\n",
    "- 이상치라는 것이 데이터의 분포 기준에 이상치라면 -> 이상치라고 보기에는 실제 군집 또는 데이터가 만들어 진 것이다.\n",
    "- ex) 백화점 고객데이터 -> 일반고객과 vip 다 다르다. 고객의 구매 금액을 시각화하면 일반적인적인 고객과 비교하면 -> outlier\n",
    "- 백화점입장에서 보면 -> Outlier VVIP 다르게 생각하면 더 집중해야하는 고객일 수 있고 이 부분을 고민을 해야 한다.\n",
    "\n",
    "- 데이터 분포가 Outlier와 기존의 데이터분포로 나눠진다면 의심을 해볼 수 있다. 과연 이 Outlier 의미가 이상치 인지 또는 살려야 되는지\n",
    "- 이상치에 대한 군집이 형성된다면 -> 두 개의 군집으로 나눠서 분석도 할 수 있다.\n",
    "\n",
    "- 두 개의 군집을 나누지 않고 -> 일반화 되는 경우가 있다면 ->?\n",
    "- 가중치를 두어서 outlier에 대한 값의 변수를 추가할 수 있다.\n",
    "\n",
    "\n",
    "---\n",
    "- 어떤 정답이 있는 방법은 절대 아니기 때문에 -> 목적-> 해당 목적에 맞는 이상치 제거에 대한 방법을 생각해야 합니다.\n",
    "- 단순하게 수치적으로만 접근해서 이상치를 제거하고 -> 성능을 높이고 -> 일반화를 할 수 있는 것인가?"
   ]
  },
  {
   "cell_type": "code",
   "execution_count": 2,
   "id": "fb64a6cc",
   "metadata": {
    "id": "fb64a6cc"
   },
   "outputs": [],
   "source": [
    "# 각반의 수학 점수\n",
    "t_math1 = [40,30,20,45,63,69,25,31,12,14,100]\n",
    "t_math2 = [11,13,14,21,22,25,10,9,12,7,100]"
   ]
  },
  {
   "cell_type": "code",
   "execution_count": 3,
   "id": "cff83458",
   "metadata": {
    "id": "cff83458"
   },
   "outputs": [],
   "source": [
    "sp_df = pd.DataFrame({'scoring_1':t_math1,\n",
    "                     'scoring_2':t_math2})"
   ]
  },
  {
   "cell_type": "code",
   "execution_count": 4,
   "id": "6dce4668",
   "metadata": {
    "id": "6dce4668",
    "outputId": "93188dd5-f6ce-474e-b7a1-0fcdb2a3e3fa"
   },
   "outputs": [
    {
     "data": {
      "text/plain": [
       "<Axes: ylabel='scoring_1'>"
      ]
     },
     "execution_count": 4,
     "metadata": {},
     "output_type": "execute_result"
    },
    {
     "data": {
      "image/png": "[encoded data removed]",
      "text/plain": [
       "<Figure size 640x480 with 1 Axes>"
      ]
     },
     "metadata": {},
     "output_type": "display_data"
    }
   ],
   "source": [
    "sns.scatterplot(sp_df.scoring_1)\n",
    "# 충분히 이상치가 아닌 100점은 나올 수 있는 점수\n",
    "#"
   ]
  },
  {
   "cell_type": "code",
   "execution_count": 5,
   "id": "9ef36a12",
   "metadata": {
    "id": "9ef36a12",
    "outputId": "6588e625-2aba-492a-beb7-976bed887077"
   },
   "outputs": [
    {
     "data": {
      "text/plain": [
       "<Axes: ylabel='scoring_2'>"
      ]
     },
     "execution_count": 5,
     "metadata": {},
     "output_type": "execute_result"
    },
    {
     "data": {
      "image/png": "[encoded data removed]",
      "text/plain": [
       "<Figure size 640x480 with 1 Axes>"
      ]
     },
     "metadata": {},
     "output_type": "display_data"
    }
   ],
   "source": [
    "sns.scatterplot(sp_df.scoring_2)"
   ]
  },
  {
   "cell_type": "markdown",
   "id": "f81f96d6",
   "metadata": {
    "id": "f81f96d6"
   },
   "source": [
    "### 예시 데이터를 가지고 Outlier를 확인하기!"
   ]
  },
  {
   "cell_type": "code",
   "execution_count": 6,
   "id": "b345e616",
   "metadata": {
    "id": "b345e616",
    "outputId": "b881a88a-968e-466e-be99-25279e4235d0"
   },
   "outputs": [
    {
     "data": {
      "text/html": [
       "<div>\n",
       "<style scoped>\n",
       "    .dataframe tbody tr th:only-of-type {\n",
       "        vertical-align: middle;\n",
       "    }\n",
       "\n",
       "    .dataframe tbody tr th {\n",
       "        vertical-align: top;\n",
       "    }\n",
       "\n",
       "    .dataframe thead th {\n",
       "        text-align: right;\n",
       "    }\n",
       "</style>\n",
       "<table border=\"1\" class=\"dataframe\">\n",
       "  <thead>\n",
       "    <tr style=\"text-align: right;\">\n",
       "      <th></th>\n",
       "      <th>MedInc</th>\n",
       "      <th>HouseAge</th>\n",
       "      <th>AveRooms</th>\n",
       "      <th>AveBedrms</th>\n",
       "      <th>Population</th>\n",
       "      <th>AveOccup</th>\n",
       "      <th>Latitude</th>\n",
       "      <th>Longitude</th>\n",
       "      <th>target</th>\n",
       "    </tr>\n",
       "  </thead>\n",
       "  <tbody>\n",
       "    <tr>\n",
       "      <th>0</th>\n",
       "      <td>8.3252</td>\n",
       "      <td>41.0</td>\n",
       "      <td>6.984127</td>\n",
       "      <td>1.023810</td>\n",
       "      <td>322.0</td>\n",
       "      <td>2.555556</td>\n",
       "      <td>37.88</td>\n",
       "      <td>-122.23</td>\n",
       "      <td>4.526</td>\n",
       "    </tr>\n",
       "    <tr>\n",
       "      <th>1</th>\n",
       "      <td>8.3014</td>\n",
       "      <td>21.0</td>\n",
       "      <td>6.238137</td>\n",
       "      <td>0.971880</td>\n",
       "      <td>2401.0</td>\n",
       "      <td>2.109842</td>\n",
       "      <td>37.86</td>\n",
       "      <td>-122.22</td>\n",
       "      <td>3.585</td>\n",
       "    </tr>\n",
       "    <tr>\n",
       "      <th>2</th>\n",
       "      <td>7.2574</td>\n",
       "      <td>52.0</td>\n",
       "      <td>8.288136</td>\n",
       "      <td>1.073446</td>\n",
       "      <td>496.0</td>\n",
       "      <td>2.802260</td>\n",
       "      <td>37.85</td>\n",
       "      <td>-122.24</td>\n",
       "      <td>3.521</td>\n",
       "    </tr>\n",
       "    <tr>\n",
       "      <th>3</th>\n",
       "      <td>5.6431</td>\n",
       "      <td>52.0</td>\n",
       "      <td>5.817352</td>\n",
       "      <td>1.073059</td>\n",
       "      <td>558.0</td>\n",
       "      <td>2.547945</td>\n",
       "      <td>37.85</td>\n",
       "      <td>-122.25</td>\n",
       "      <td>3.413</td>\n",
       "    </tr>\n",
       "    <tr>\n",
       "      <th>4</th>\n",
       "      <td>3.8462</td>\n",
       "      <td>52.0</td>\n",
       "      <td>6.281853</td>\n",
       "      <td>1.081081</td>\n",
       "      <td>565.0</td>\n",
       "      <td>2.181467</td>\n",
       "      <td>37.85</td>\n",
       "      <td>-122.25</td>\n",
       "      <td>3.422</td>\n",
       "    </tr>\n",
       "  </tbody>\n",
       "</table>\n",
       "</div>"
      ],
      "text/plain": [
       "   MedInc  HouseAge  AveRooms  AveBedrms  Population  AveOccup  Latitude  \\\n",
       "0  8.3252      41.0  6.984127   1.023810       322.0  2.555556     37.88   \n",
       "1  8.3014      21.0  6.238137   0.971880      2401.0  2.109842     37.86   \n",
       "2  7.2574      52.0  8.288136   1.073446       496.0  2.802260     37.85   \n",
       "3  5.6431      52.0  5.817352   1.073059       558.0  2.547945     37.85   \n",
       "4  3.8462      52.0  6.281853   1.081081       565.0  2.181467     37.85   \n",
       "\n",
       "   Longitude  target  \n",
       "0    -122.23   4.526  \n",
       "1    -122.22   3.585  \n",
       "2    -122.24   3.521  \n",
       "3    -122.25   3.413  \n",
       "4    -122.25   3.422  "
      ]
     },
     "execution_count": 6,
     "metadata": {},
     "output_type": "execute_result"
    }
   ],
   "source": [
    "from sklearn import datasets\n",
    "\n",
    "dataset = datasets.fetch_california_housing()\n",
    "df = pd.DataFrame(dataset.data, columns = dataset.feature_names)\n",
    "df['target'] = dataset.target\n",
    "df.head()"
   ]
  },
  {
   "cell_type": "code",
   "execution_count": 7,
   "id": "4b9ed689",
   "metadata": {
    "id": "4b9ed689",
    "outputId": "0efdaf02-fae2-4e65-a597-cd8349baab83"
   },
   "outputs": [
    {
     "data": {
      "text/plain": [
       "<Axes: >"
      ]
     },
     "execution_count": 7,
     "metadata": {},
     "output_type": "execute_result"
    },
    {
     "data": {
      "image/png": "[encoded data removed]",
      "text/plain": [
       "<Figure size 640x480 with 1 Axes>"
      ]
     },
     "metadata": {},
     "output_type": "display_data"
    }
   ],
   "source": [
    "#boxplot을 이용해서\n",
    "sns.boxplot(df.target)"
   ]
  },
  {
   "cell_type": "code",
   "execution_count": 8,
   "id": "132c2f37",
   "metadata": {
    "id": "132c2f37",
    "outputId": "3e34e884-8abe-4ea1-e067-4564fd0dc432"
   },
   "outputs": [
    {
     "data": {
      "text/plain": [
       "<Axes: >"
      ]
     },
     "execution_count": 8,
     "metadata": {},
     "output_type": "execute_result"
    },
    {
     "data": {
      "image/png": "[encoded data removed]",
      "text/plain": [
       "<Figure size 640x480 with 1 Axes>"
      ]
     },
     "metadata": {},
     "output_type": "display_data"
    }
   ],
   "source": [
    "#boxplot을 이용해서\n",
    "sns.boxplot(df.AveRooms)"
   ]
  },
  {
   "cell_type": "code",
   "execution_count": 9,
   "id": "f80d0528",
   "metadata": {
    "id": "f80d0528",
    "outputId": "a36be8d0-01e9-4cb1-b9a1-b89bd5c44875"
   },
   "outputs": [
    {
     "data": {
      "text/plain": [
       "count    20640.000000\n",
       "mean         5.429000\n",
       "std          2.474173\n",
       "min          0.846154\n",
       "25%          4.440716\n",
       "50%          5.229129\n",
       "75%          6.052381\n",
       "max        141.909091\n",
       "Name: AveRooms, dtype: float64"
      ]
     },
     "execution_count": 9,
     "metadata": {},
     "output_type": "execute_result"
    }
   ],
   "source": [
    "df.AveRooms.describe()"
   ]
  },
  {
   "cell_type": "code",
   "execution_count": 10,
   "id": "8ed78f5a",
   "metadata": {
    "id": "8ed78f5a",
    "outputId": "d0f71db6-0140-44be-f656-2829f51d62f0"
   },
   "outputs": [
    {
     "data": {
      "text/plain": [
       "count    20640.000000\n",
       "mean         2.068558\n",
       "std          1.153956\n",
       "min          0.149990\n",
       "25%          1.196000\n",
       "50%          1.797000\n",
       "75%          2.647250\n",
       "max          5.000010\n",
       "Name: target, dtype: float64"
      ]
     },
     "execution_count": 10,
     "metadata": {},
     "output_type": "execute_result"
    }
   ],
   "source": [
    "df.target.describe()"
   ]
  },
  {
   "cell_type": "code",
   "execution_count": 11,
   "id": "2b291836",
   "metadata": {
    "id": "2b291836",
    "outputId": "afbc1936-b237-4ad2-b0b4-0bad6391feea"
   },
   "outputs": [
    {
     "data": {
      "text/plain": [
       "1914"
      ]
     },
     "execution_count": 11,
     "metadata": {},
     "output_type": "execute_result"
    }
   ],
   "source": [
    "#넘파이를 통해서 최대값에 인덱스를 추출한다.\n",
    "np.argmax(df['AveRooms'])"
   ]
  },
  {
   "cell_type": "code",
   "execution_count": 12,
   "id": "883c358a",
   "metadata": {
    "id": "883c358a",
    "outputId": "68c56399-c9be-4953-b877-dc0cee8fef92"
   },
   "outputs": [
    {
     "data": {
      "text/plain": [
       "MedInc          1.875000\n",
       "HouseAge       33.000000\n",
       "AveRooms      141.909091\n",
       "AveBedrms      25.636364\n",
       "Population     30.000000\n",
       "AveOccup        2.727273\n",
       "Latitude       38.910000\n",
       "Longitude    -120.100000\n",
       "target          5.000010\n",
       "Name: 1914, dtype: float64"
      ]
     },
     "execution_count": 12,
     "metadata": {},
     "output_type": "execute_result"
    }
   ],
   "source": [
    "df.iloc[1914]"
   ]
  },
  {
   "cell_type": "markdown",
   "id": "ba5c1e03",
   "metadata": {
    "id": "ba5c1e03"
   },
   "source": [
    "### 이상치를 꼭 제거하지 않고 회귀분석의 RMSE 정도를 낮출 순 없을까? -가중치나 이런 새로운 변수를 만들면 정말 성능이 더 좋아지는 것인가?"
   ]
  },
  {
   "cell_type": "code",
   "execution_count": 13,
   "id": "479b27d1",
   "metadata": {
    "id": "479b27d1",
    "outputId": "199773ba-a05b-4441-8ed4-e189746743cc"
   },
   "outputs": [
    {
     "data": {
      "text/plain": [
       "Index(['MedInc', 'HouseAge', 'AveRooms', 'AveBedrms', 'Population', 'AveOccup',\n",
       "       'Latitude', 'Longitude', 'target'],\n",
       "      dtype='object')"
      ]
     },
     "execution_count": 13,
     "metadata": {},
     "output_type": "execute_result"
    }
   ],
   "source": [
    "df.columns"
   ]
  },
  {
   "cell_type": "code",
   "execution_count": 14,
   "id": "49a1d6a4",
   "metadata": {
    "id": "49a1d6a4"
   },
   "outputs": [],
   "source": [
    "df_sp = df[['AveRooms','HouseAge','Population','target']]"
   ]
  },
  {
   "cell_type": "code",
   "execution_count": 15,
   "id": "d31bea92",
   "metadata": {
    "id": "d31bea92"
   },
   "outputs": [],
   "source": [
    "from sklearn.model_selection import train_test_split"
   ]
  },
  {
   "cell_type": "code",
   "execution_count": 16,
   "id": "60e035d9",
   "metadata": {
    "id": "60e035d9"
   },
   "outputs": [],
   "source": [
    "#train, test 나누기\n",
    "x_train, x_test, y_train, y_test = train_test_split(df_sp.drop('target',axis=1), df_sp['target'], test_size=0.3, random_state=111)"
   ]
  },
  {
   "cell_type": "markdown",
   "id": "1fd8c33a",
   "metadata": {
    "id": "1fd8c33a"
   },
   "source": [
    "## 베이스"
   ]
  },
  {
   "cell_type": "code",
   "execution_count": 17,
   "id": "594acf96",
   "metadata": {
    "id": "594acf96",
    "outputId": "d4ff8b95-efdc-437d-f8f6-d3fa1e81b7c6"
   },
   "outputs": [
    {
     "data": {
      "image/png": "[encoded data removed]",
      "text/plain": [
       "<Figure size 640x480 with 1 Axes>"
      ]
     },
     "metadata": {},
     "output_type": "display_data"
    }
   ],
   "source": [
    "import statsmodels.api as sm\n",
    "import matplotlib.pyplot as plt\n",
    "\n",
    "fit_train1 = sm.OLS(y_train, x_train)\n",
    "fit_train1 = fit_train1.fit()\n",
    "\n",
    "# 예측한 값\n",
    "plt.plot(np.array(fit_train1.predict(x_test)),label='pred')\n",
    "plt.plot(np.array(y_test), label='True')\n",
    "plt.legend()\n",
    "plt.show()"
   ]
  },
  {
   "cell_type": "code",
   "execution_count": 18,
   "id": "f15a197b",
   "metadata": {
    "id": "f15a197b",
    "outputId": "b8b6144d-8c31-4780-fc25-97fcf1bef765"
   },
   "outputs": [
    {
     "name": "stdout",
     "output_type": "stream",
     "text": [
      "1.3737537935478012\n"
     ]
    }
   ],
   "source": [
    "from sklearn.metrics import mean_squared_error\n",
    "mse1 = mean_squared_error(y_true = y_test, y_pred = fit_train1.predict(x_test))\n",
    "print(mse1)"
   ]
  },
  {
   "cell_type": "markdown",
   "id": "fcd912b1",
   "metadata": {
    "id": "fcd912b1"
   },
   "source": [
    "- 베이스라인 모델로 회귀분석 진행 시 1.3"
   ]
  },
  {
   "cell_type": "markdown",
   "id": "aeb17230",
   "metadata": {
    "id": "aeb17230"
   },
   "source": [
    "## 이상치 제거를 AveRooms 제거해 보자!\n",
    "- IQR 제거를 해보자!\n",
    "- 통계치에 대한 개념으로 제거를 하면!"
   ]
  },
  {
   "cell_type": "code",
   "execution_count": 19,
   "id": "5bcecfb4",
   "metadata": {
    "id": "5bcecfb4"
   },
   "outputs": [],
   "source": [
    "Q1 = df_sp['AveRooms'].quantile(0.25)\n",
    "Q3 = df_sp['AveRooms'].quantile(0.75)\n",
    "IQR = Q3-Q1\n",
    "rev_range = 3\n",
    "filter1 = (df_sp['AveRooms'] >= Q1 - rev_range*IQR) & (df_sp['AveRooms'] <=Q3 + rev_range*IQR)"
   ]
  },
  {
   "cell_type": "code",
   "execution_count": 20,
   "id": "23aa20a0",
   "metadata": {
    "id": "23aa20a0"
   },
   "outputs": [],
   "source": [
    "df_sp_rmv = df_sp.loc[filter1]"
   ]
  },
  {
   "cell_type": "code",
   "execution_count": 21,
   "id": "6d040ac2",
   "metadata": {
    "id": "6d040ac2",
    "outputId": "7a78547c-4c08-4d17-ac9a-357e2f56649e"
   },
   "outputs": [
    {
     "data": {
      "text/html": [
       "<div>\n",
       "<style scoped>\n",
       "    .dataframe tbody tr th:only-of-type {\n",
       "        vertical-align: middle;\n",
       "    }\n",
       "\n",
       "    .dataframe tbody tr th {\n",
       "        vertical-align: top;\n",
       "    }\n",
       "\n",
       "    .dataframe thead th {\n",
       "        text-align: right;\n",
       "    }\n",
       "</style>\n",
       "<table border=\"1\" class=\"dataframe\">\n",
       "  <thead>\n",
       "    <tr style=\"text-align: right;\">\n",
       "      <th></th>\n",
       "      <th>AveRooms</th>\n",
       "      <th>HouseAge</th>\n",
       "      <th>Population</th>\n",
       "      <th>target</th>\n",
       "    </tr>\n",
       "  </thead>\n",
       "  <tbody>\n",
       "    <tr>\n",
       "      <th>0</th>\n",
       "      <td>6.984127</td>\n",
       "      <td>41.0</td>\n",
       "      <td>322.0</td>\n",
       "      <td>4.526</td>\n",
       "    </tr>\n",
       "    <tr>\n",
       "      <th>1</th>\n",
       "      <td>6.238137</td>\n",
       "      <td>21.0</td>\n",
       "      <td>2401.0</td>\n",
       "      <td>3.585</td>\n",
       "    </tr>\n",
       "    <tr>\n",
       "      <th>2</th>\n",
       "      <td>8.288136</td>\n",
       "      <td>52.0</td>\n",
       "      <td>496.0</td>\n",
       "      <td>3.521</td>\n",
       "    </tr>\n",
       "    <tr>\n",
       "      <th>3</th>\n",
       "      <td>5.817352</td>\n",
       "      <td>52.0</td>\n",
       "      <td>558.0</td>\n",
       "      <td>3.413</td>\n",
       "    </tr>\n",
       "    <tr>\n",
       "      <th>4</th>\n",
       "      <td>6.281853</td>\n",
       "      <td>52.0</td>\n",
       "      <td>565.0</td>\n",
       "      <td>3.422</td>\n",
       "    </tr>\n",
       "    <tr>\n",
       "      <th>...</th>\n",
       "      <td>...</td>\n",
       "      <td>...</td>\n",
       "      <td>...</td>\n",
       "      <td>...</td>\n",
       "    </tr>\n",
       "    <tr>\n",
       "      <th>20635</th>\n",
       "      <td>5.045455</td>\n",
       "      <td>25.0</td>\n",
       "      <td>845.0</td>\n",
       "      <td>0.781</td>\n",
       "    </tr>\n",
       "    <tr>\n",
       "      <th>20636</th>\n",
       "      <td>6.114035</td>\n",
       "      <td>18.0</td>\n",
       "      <td>356.0</td>\n",
       "      <td>0.771</td>\n",
       "    </tr>\n",
       "    <tr>\n",
       "      <th>20637</th>\n",
       "      <td>5.205543</td>\n",
       "      <td>17.0</td>\n",
       "      <td>1007.0</td>\n",
       "      <td>0.923</td>\n",
       "    </tr>\n",
       "    <tr>\n",
       "      <th>20638</th>\n",
       "      <td>5.329513</td>\n",
       "      <td>18.0</td>\n",
       "      <td>741.0</td>\n",
       "      <td>0.847</td>\n",
       "    </tr>\n",
       "    <tr>\n",
       "      <th>20639</th>\n",
       "      <td>5.254717</td>\n",
       "      <td>16.0</td>\n",
       "      <td>1387.0</td>\n",
       "      <td>0.894</td>\n",
       "    </tr>\n",
       "  </tbody>\n",
       "</table>\n",
       "<p>20460 rows × 4 columns</p>\n",
       "</div>"
      ],
      "text/plain": [
       "       AveRooms  HouseAge  Population  target\n",
       "0      6.984127      41.0       322.0   4.526\n",
       "1      6.238137      21.0      2401.0   3.585\n",
       "2      8.288136      52.0       496.0   3.521\n",
       "3      5.817352      52.0       558.0   3.413\n",
       "4      6.281853      52.0       565.0   3.422\n",
       "...         ...       ...         ...     ...\n",
       "20635  5.045455      25.0       845.0   0.781\n",
       "20636  6.114035      18.0       356.0   0.771\n",
       "20637  5.205543      17.0      1007.0   0.923\n",
       "20638  5.329513      18.0       741.0   0.847\n",
       "20639  5.254717      16.0      1387.0   0.894\n",
       "\n",
       "[20460 rows x 4 columns]"
      ]
     },
     "execution_count": 21,
     "metadata": {},
     "output_type": "execute_result"
    }
   ],
   "source": [
    "df_sp_rmv"
   ]
  },
  {
   "cell_type": "markdown",
   "id": "fccacf9d",
   "metadata": {
    "id": "fccacf9d"
   },
   "source": [
    "#### 이상치 제거하기!"
   ]
  },
  {
   "cell_type": "code",
   "execution_count": 22,
   "id": "f8e97088",
   "metadata": {
    "id": "f8e97088",
    "outputId": "3a2a1926-e3a4-4aca-d662-a5407f6385b9"
   },
   "outputs": [
    {
     "name": "stderr",
     "output_type": "stream",
     "text": [
      "C:\\Users\\munbe\\AppData\\Local\\Temp\\ipykernel_17828\\4001243353.py:13: SettingWithCopyWarning: \n",
      "A value is trying to be set on a copy of a slice from a DataFrame.\n",
      "Try using .loc[row_indexer,col_indexer] = value instead\n",
      "\n",
      "See the caveats in the documentation: https://pandas.pydata.org/pandas-docs/stable/user_guide/indexing.html#returning-a-view-versus-a-copy\n",
      "  df_sp['AveRooms'] = df_sp['AveRooms'].apply(replace_outlier)\n"
     ]
    }
   ],
   "source": [
    "def replace_outlier(value):\n",
    "    Q1 = df_sp['AveRooms'].quantile(0.25)\n",
    "    Q3 = df_sp['AveRooms'].quantile(0.75)\n",
    "    IQR = Q3-Q1\n",
    "    rev_range = 3\n",
    "\n",
    "    if((value <(Q1-rev_range*IQR))):\n",
    "        value = np.nan\n",
    "    if((value >(Q3+rev_range*IQR))):\n",
    "        value = np.nan\n",
    "    return value\n",
    "\n",
    "df_sp['AveRooms'] = df_sp['AveRooms'].apply(replace_outlier)"
   ]
  },
  {
   "cell_type": "code",
   "execution_count": 23,
   "id": "3891302d",
   "metadata": {
    "id": "3891302d",
    "outputId": "e1013b60-cfc1-4024-bc0e-89001d4281cc"
   },
   "outputs": [
    {
     "data": {
      "text/plain": [
       "AveRooms      180\n",
       "HouseAge        0\n",
       "Population      0\n",
       "target          0\n",
       "dtype: int64"
      ]
     },
     "execution_count": 23,
     "metadata": {},
     "output_type": "execute_result"
    }
   ],
   "source": [
    "df_sp.isna().sum()"
   ]
  },
  {
   "cell_type": "code",
   "execution_count": 24,
   "id": "b76c1c90",
   "metadata": {
    "id": "b76c1c90"
   },
   "outputs": [],
   "source": [
    "#이상치를 제거하고 분석해 보자!\n",
    "df_sp2=df_sp.dropna()"
   ]
  },
  {
   "cell_type": "code",
   "execution_count": 25,
   "id": "c60b884b",
   "metadata": {
    "id": "c60b884b",
    "outputId": "ee57ca0c-8f9f-4412-da07-59fbaf5b16fb"
   },
   "outputs": [
    {
     "data": {
      "text/html": [
       "<div>\n",
       "<style scoped>\n",
       "    .dataframe tbody tr th:only-of-type {\n",
       "        vertical-align: middle;\n",
       "    }\n",
       "\n",
       "    .dataframe tbody tr th {\n",
       "        vertical-align: top;\n",
       "    }\n",
       "\n",
       "    .dataframe thead th {\n",
       "        text-align: right;\n",
       "    }\n",
       "</style>\n",
       "<table border=\"1\" class=\"dataframe\">\n",
       "  <thead>\n",
       "    <tr style=\"text-align: right;\">\n",
       "      <th></th>\n",
       "      <th>AveRooms</th>\n",
       "      <th>HouseAge</th>\n",
       "      <th>Population</th>\n",
       "      <th>target</th>\n",
       "    </tr>\n",
       "  </thead>\n",
       "  <tbody>\n",
       "    <tr>\n",
       "      <th>0</th>\n",
       "      <td>6.984127</td>\n",
       "      <td>41.0</td>\n",
       "      <td>322.0</td>\n",
       "      <td>4.526</td>\n",
       "    </tr>\n",
       "    <tr>\n",
       "      <th>1</th>\n",
       "      <td>6.238137</td>\n",
       "      <td>21.0</td>\n",
       "      <td>2401.0</td>\n",
       "      <td>3.585</td>\n",
       "    </tr>\n",
       "    <tr>\n",
       "      <th>2</th>\n",
       "      <td>8.288136</td>\n",
       "      <td>52.0</td>\n",
       "      <td>496.0</td>\n",
       "      <td>3.521</td>\n",
       "    </tr>\n",
       "    <tr>\n",
       "      <th>3</th>\n",
       "      <td>5.817352</td>\n",
       "      <td>52.0</td>\n",
       "      <td>558.0</td>\n",
       "      <td>3.413</td>\n",
       "    </tr>\n",
       "    <tr>\n",
       "      <th>4</th>\n",
       "      <td>6.281853</td>\n",
       "      <td>52.0</td>\n",
       "      <td>565.0</td>\n",
       "      <td>3.422</td>\n",
       "    </tr>\n",
       "    <tr>\n",
       "      <th>...</th>\n",
       "      <td>...</td>\n",
       "      <td>...</td>\n",
       "      <td>...</td>\n",
       "      <td>...</td>\n",
       "    </tr>\n",
       "    <tr>\n",
       "      <th>20635</th>\n",
       "      <td>5.045455</td>\n",
       "      <td>25.0</td>\n",
       "      <td>845.0</td>\n",
       "      <td>0.781</td>\n",
       "    </tr>\n",
       "    <tr>\n",
       "      <th>20636</th>\n",
       "      <td>6.114035</td>\n",
       "      <td>18.0</td>\n",
       "      <td>356.0</td>\n",
       "      <td>0.771</td>\n",
       "    </tr>\n",
       "    <tr>\n",
       "      <th>20637</th>\n",
       "      <td>5.205543</td>\n",
       "      <td>17.0</td>\n",
       "      <td>1007.0</td>\n",
       "      <td>0.923</td>\n",
       "    </tr>\n",
       "    <tr>\n",
       "      <th>20638</th>\n",
       "      <td>5.329513</td>\n",
       "      <td>18.0</td>\n",
       "      <td>741.0</td>\n",
       "      <td>0.847</td>\n",
       "    </tr>\n",
       "    <tr>\n",
       "      <th>20639</th>\n",
       "      <td>5.254717</td>\n",
       "      <td>16.0</td>\n",
       "      <td>1387.0</td>\n",
       "      <td>0.894</td>\n",
       "    </tr>\n",
       "  </tbody>\n",
       "</table>\n",
       "<p>20460 rows × 4 columns</p>\n",
       "</div>"
      ],
      "text/plain": [
       "       AveRooms  HouseAge  Population  target\n",
       "0      6.984127      41.0       322.0   4.526\n",
       "1      6.238137      21.0      2401.0   3.585\n",
       "2      8.288136      52.0       496.0   3.521\n",
       "3      5.817352      52.0       558.0   3.413\n",
       "4      6.281853      52.0       565.0   3.422\n",
       "...         ...       ...         ...     ...\n",
       "20635  5.045455      25.0       845.0   0.781\n",
       "20636  6.114035      18.0       356.0   0.771\n",
       "20637  5.205543      17.0      1007.0   0.923\n",
       "20638  5.329513      18.0       741.0   0.847\n",
       "20639  5.254717      16.0      1387.0   0.894\n",
       "\n",
       "[20460 rows x 4 columns]"
      ]
     },
     "execution_count": 25,
     "metadata": {},
     "output_type": "execute_result"
    }
   ],
   "source": [
    "df_sp2"
   ]
  },
  {
   "cell_type": "code",
   "execution_count": 26,
   "id": "d43d34e9",
   "metadata": {
    "id": "d43d34e9"
   },
   "outputs": [],
   "source": [
    "#이상치를 제거한 train, test 나누기\n",
    "x_train, x_test, y_train, y_test = train_test_split(df_sp2.drop('target',axis=1), df_sp2['target'], test_size=0.3, random_state=111)"
   ]
  },
  {
   "cell_type": "code",
   "execution_count": 27,
   "id": "a84e2bcd",
   "metadata": {
    "id": "a84e2bcd",
    "outputId": "282d7a4d-3968-4c12-8243-c30f4615c341"
   },
   "outputs": [
    {
     "data": {
      "image/png": "[encoded data removed]",
      "text/plain": [
       "<Figure size 640x480 with 1 Axes>"
      ]
     },
     "metadata": {},
     "output_type": "display_data"
    }
   ],
   "source": [
    "import statsmodels.api as sm\n",
    "import matplotlib.pyplot as plt\n",
    "\n",
    "fit_train1 = sm.OLS(y_train, x_train)\n",
    "fit_train1 = fit_train1.fit()\n",
    "\n",
    "# 예측한 값\n",
    "plt.plot(np.array(fit_train1.predict(x_test)),label='pred')\n",
    "plt.plot(np.array(y_test), label='True')\n",
    "plt.legend()\n",
    "plt.show()"
   ]
  },
  {
   "cell_type": "code",
   "execution_count": 28,
   "id": "d754908f",
   "metadata": {
    "id": "d754908f",
    "outputId": "56b9b323-371c-440e-ebc4-83ed9b19eb68"
   },
   "outputs": [
    {
     "name": "stdout",
     "output_type": "stream",
     "text": [
      "1.1694755604062264\n"
     ]
    }
   ],
   "source": [
    "from sklearn.metrics import mean_squared_error\n",
    "mse2 = mean_squared_error(y_true = y_test, y_pred = fit_train1.predict(x_test))\n",
    "print(mse2)"
   ]
  },
  {
   "cell_type": "code",
   "execution_count": 29,
   "id": "72b43db8",
   "metadata": {
    "id": "72b43db8",
    "outputId": "1a908b5e-841f-4569-dd53-7755bf6d2779"
   },
   "outputs": [
    {
     "name": "stdout",
     "output_type": "stream",
     "text": [
      "1.3737537935478012\n",
      "1.1694755604062264\n"
     ]
    }
   ],
   "source": [
    "print(mse1)\n",
    "print(mse2)"
   ]
  },
  {
   "cell_type": "markdown",
   "id": "7a901002",
   "metadata": {
    "id": "7a901002"
   },
   "source": [
    "### 이상치를 살리는 경우 분석을 진행하는 경우는 어떤 식으로 하면 될까!?\n",
    "- 이상치의 가중치를 둔다고 하면 1,이상치 아닌 경우는 0\n",
    "- 이상치가 아닌 경우가 1 이상치는 0\n",
    "\n",
    "- 이상치에 가중치를 좀 더 둬서 어떤 식으로 진행이 되는지?"
   ]
  },
  {
   "cell_type": "code",
   "execution_count": 30,
   "id": "02f75471",
   "metadata": {
    "id": "02f75471",
    "outputId": "e3f4127c-f91d-47d6-e56e-05e02a6ab451"
   },
   "outputs": [
    {
     "name": "stderr",
     "output_type": "stream",
     "text": [
      "C:\\Users\\munbe\\AppData\\Local\\Temp\\ipykernel_17828\\4016016948.py:15: SettingWithCopyWarning: \n",
      "A value is trying to be set on a copy of a slice from a DataFrame.\n",
      "Try using .loc[row_indexer,col_indexer] = value instead\n",
      "\n",
      "See the caveats in the documentation: https://pandas.pydata.org/pandas-docs/stable/user_guide/indexing.html#returning-a-view-versus-a-copy\n",
      "  df_sp['AveRooms_sv'] = df_sp['AveRooms'].apply(saving_outlier)\n"
     ]
    }
   ],
   "source": [
    "def saving_outlier(value):\n",
    "    Q1 = df_sp['AveRooms'].quantile(0.25)\n",
    "    Q3 = df_sp['AveRooms'].quantile(0.75)\n",
    "    IQR = Q3-Q1\n",
    "    rev_range = 3\n",
    "\n",
    "    if((value < (Q1 - rev_range*IQR))):\n",
    "        value = 1\n",
    "    elif((value > (Q3 + rev_range*IQR))):\n",
    "        value = 1\n",
    "    else:\n",
    "        value = 0\n",
    "    return value\n",
    "\n",
    "df_sp['AveRooms_sv'] = df_sp['AveRooms'].apply(saving_outlier)"
   ]
  },
  {
   "cell_type": "code",
   "execution_count": 31,
   "id": "55c6a012",
   "metadata": {
    "id": "55c6a012",
    "outputId": "43f2f85b-698c-4601-8c9a-40ef8fd2eec0",
    "scrolled": true
   },
   "outputs": [
    {
     "data": {
      "text/plain": [
       "5"
      ]
     },
     "execution_count": 31,
     "metadata": {},
     "output_type": "execute_result"
    }
   ],
   "source": [
    "df_sp.AveRooms_sv.sum()"
   ]
  },
  {
   "cell_type": "code",
   "execution_count": 32,
   "id": "9cb916b8",
   "metadata": {
    "id": "9cb916b8",
    "outputId": "ff9cf5d2-94d6-41b0-9e80-af336ca450d6"
   },
   "outputs": [
    {
     "data": {
      "text/html": [
       "<div>\n",
       "<style scoped>\n",
       "    .dataframe tbody tr th:only-of-type {\n",
       "        vertical-align: middle;\n",
       "    }\n",
       "\n",
       "    .dataframe tbody tr th {\n",
       "        vertical-align: top;\n",
       "    }\n",
       "\n",
       "    .dataframe thead th {\n",
       "        text-align: right;\n",
       "    }\n",
       "</style>\n",
       "<table border=\"1\" class=\"dataframe\">\n",
       "  <thead>\n",
       "    <tr style=\"text-align: right;\">\n",
       "      <th></th>\n",
       "      <th>AveRooms</th>\n",
       "      <th>HouseAge</th>\n",
       "      <th>Population</th>\n",
       "      <th>target</th>\n",
       "      <th>AveRooms_sv</th>\n",
       "    </tr>\n",
       "  </thead>\n",
       "  <tbody>\n",
       "    <tr>\n",
       "      <th>0</th>\n",
       "      <td>6.984127</td>\n",
       "      <td>41.0</td>\n",
       "      <td>322.0</td>\n",
       "      <td>4.526</td>\n",
       "      <td>0</td>\n",
       "    </tr>\n",
       "    <tr>\n",
       "      <th>1</th>\n",
       "      <td>6.238137</td>\n",
       "      <td>21.0</td>\n",
       "      <td>2401.0</td>\n",
       "      <td>3.585</td>\n",
       "      <td>0</td>\n",
       "    </tr>\n",
       "    <tr>\n",
       "      <th>2</th>\n",
       "      <td>8.288136</td>\n",
       "      <td>52.0</td>\n",
       "      <td>496.0</td>\n",
       "      <td>3.521</td>\n",
       "      <td>0</td>\n",
       "    </tr>\n",
       "    <tr>\n",
       "      <th>3</th>\n",
       "      <td>5.817352</td>\n",
       "      <td>52.0</td>\n",
       "      <td>558.0</td>\n",
       "      <td>3.413</td>\n",
       "      <td>0</td>\n",
       "    </tr>\n",
       "    <tr>\n",
       "      <th>4</th>\n",
       "      <td>6.281853</td>\n",
       "      <td>52.0</td>\n",
       "      <td>565.0</td>\n",
       "      <td>3.422</td>\n",
       "      <td>0</td>\n",
       "    </tr>\n",
       "    <tr>\n",
       "      <th>...</th>\n",
       "      <td>...</td>\n",
       "      <td>...</td>\n",
       "      <td>...</td>\n",
       "      <td>...</td>\n",
       "      <td>...</td>\n",
       "    </tr>\n",
       "    <tr>\n",
       "      <th>20635</th>\n",
       "      <td>5.045455</td>\n",
       "      <td>25.0</td>\n",
       "      <td>845.0</td>\n",
       "      <td>0.781</td>\n",
       "      <td>0</td>\n",
       "    </tr>\n",
       "    <tr>\n",
       "      <th>20636</th>\n",
       "      <td>6.114035</td>\n",
       "      <td>18.0</td>\n",
       "      <td>356.0</td>\n",
       "      <td>0.771</td>\n",
       "      <td>0</td>\n",
       "    </tr>\n",
       "    <tr>\n",
       "      <th>20637</th>\n",
       "      <td>5.205543</td>\n",
       "      <td>17.0</td>\n",
       "      <td>1007.0</td>\n",
       "      <td>0.923</td>\n",
       "      <td>0</td>\n",
       "    </tr>\n",
       "    <tr>\n",
       "      <th>20638</th>\n",
       "      <td>5.329513</td>\n",
       "      <td>18.0</td>\n",
       "      <td>741.0</td>\n",
       "      <td>0.847</td>\n",
       "      <td>0</td>\n",
       "    </tr>\n",
       "    <tr>\n",
       "      <th>20639</th>\n",
       "      <td>5.254717</td>\n",
       "      <td>16.0</td>\n",
       "      <td>1387.0</td>\n",
       "      <td>0.894</td>\n",
       "      <td>0</td>\n",
       "    </tr>\n",
       "  </tbody>\n",
       "</table>\n",
       "<p>20640 rows × 5 columns</p>\n",
       "</div>"
      ],
      "text/plain": [
       "       AveRooms  HouseAge  Population  target  AveRooms_sv\n",
       "0      6.984127      41.0       322.0   4.526            0\n",
       "1      6.238137      21.0      2401.0   3.585            0\n",
       "2      8.288136      52.0       496.0   3.521            0\n",
       "3      5.817352      52.0       558.0   3.413            0\n",
       "4      6.281853      52.0       565.0   3.422            0\n",
       "...         ...       ...         ...     ...          ...\n",
       "20635  5.045455      25.0       845.0   0.781            0\n",
       "20636  6.114035      18.0       356.0   0.771            0\n",
       "20637  5.205543      17.0      1007.0   0.923            0\n",
       "20638  5.329513      18.0       741.0   0.847            0\n",
       "20639  5.254717      16.0      1387.0   0.894            0\n",
       "\n",
       "[20640 rows x 5 columns]"
      ]
     },
     "execution_count": 32,
     "metadata": {},
     "output_type": "execute_result"
    }
   ],
   "source": [
    "df_sp"
   ]
  },
  {
   "cell_type": "code",
   "execution_count": 33,
   "id": "d8edbcc7",
   "metadata": {
    "id": "d8edbcc7"
   },
   "outputs": [],
   "source": [
    "#이상치를 제거한 train, test 나누기\n",
    "x_train, x_test, y_train, y_test = train_test_split(df_sp.drop('target',axis=1), df_sp['target'], test_size=0.3, random_state=111)"
   ]
  },
  {
   "cell_type": "code",
   "execution_count": 34,
   "id": "f47f0a1d",
   "metadata": {
    "id": "f47f0a1d",
    "outputId": "98e7e85c-c218-413c-8461-cc6fa19b2fac",
    "scrolled": true
   },
   "outputs": [
    {
     "ename": "MissingDataError",
     "evalue": "exog contains inf or nans",
     "output_type": "error",
     "traceback": [
      "\u001b[1;31m---------------------------------------------------------------------------\u001b[0m",
      "\u001b[1;31mMissingDataError\u001b[0m                          Traceback (most recent call last)",
      "Cell \u001b[1;32mIn[34], line 4\u001b[0m\n\u001b[0;32m      1\u001b[0m \u001b[38;5;28;01mimport\u001b[39;00m \u001b[38;5;21;01mstatsmodels\u001b[39;00m\u001b[38;5;21;01m.\u001b[39;00m\u001b[38;5;21;01mapi\u001b[39;00m \u001b[38;5;28;01mas\u001b[39;00m \u001b[38;5;21;01msm\u001b[39;00m\n\u001b[0;32m      2\u001b[0m \u001b[38;5;28;01mimport\u001b[39;00m \u001b[38;5;21;01mmatplotlib\u001b[39;00m\u001b[38;5;21;01m.\u001b[39;00m\u001b[38;5;21;01mpyplot\u001b[39;00m \u001b[38;5;28;01mas\u001b[39;00m \u001b[38;5;21;01mplt\u001b[39;00m\n\u001b[1;32m----> 4\u001b[0m fit_train3 \u001b[38;5;241m=\u001b[39m \u001b[43msm\u001b[49m\u001b[38;5;241;43m.\u001b[39;49m\u001b[43mOLS\u001b[49m\u001b[43m(\u001b[49m\u001b[43my_train\u001b[49m\u001b[43m,\u001b[49m\u001b[43m \u001b[49m\u001b[43mx_train\u001b[49m\u001b[43m)\u001b[49m\n\u001b[0;32m      5\u001b[0m fit_train3 \u001b[38;5;241m=\u001b[39m fit_train3\u001b[38;5;241m.\u001b[39mfit()\n\u001b[0;32m      7\u001b[0m \u001b[38;5;66;03m# 예측한 값\u001b[39;00m\n",
      "File \u001b[1;32m~\\anaconda3\\lib\\site-packages\\statsmodels\\regression\\linear_model.py:922\u001b[0m, in \u001b[0;36mOLS.__init__\u001b[1;34m(self, endog, exog, missing, hasconst, **kwargs)\u001b[0m\n\u001b[0;32m    919\u001b[0m     msg \u001b[38;5;241m=\u001b[39m (\u001b[38;5;124m\"\u001b[39m\u001b[38;5;124mWeights are not supported in OLS and will be ignored\u001b[39m\u001b[38;5;124m\"\u001b[39m\n\u001b[0;32m    920\u001b[0m            \u001b[38;5;124m\"\u001b[39m\u001b[38;5;124mAn exception will be raised in the next version.\u001b[39m\u001b[38;5;124m\"\u001b[39m)\n\u001b[0;32m    921\u001b[0m     warnings\u001b[38;5;241m.\u001b[39mwarn(msg, ValueWarning)\n\u001b[1;32m--> 922\u001b[0m \u001b[38;5;28msuper\u001b[39m(OLS, \u001b[38;5;28mself\u001b[39m)\u001b[38;5;241m.\u001b[39m\u001b[38;5;21m__init__\u001b[39m(endog, exog, missing\u001b[38;5;241m=\u001b[39mmissing,\n\u001b[0;32m    923\u001b[0m                           hasconst\u001b[38;5;241m=\u001b[39mhasconst, \u001b[38;5;241m*\u001b[39m\u001b[38;5;241m*\u001b[39mkwargs)\n\u001b[0;32m    924\u001b[0m \u001b[38;5;28;01mif\u001b[39;00m \u001b[38;5;124m\"\u001b[39m\u001b[38;5;124mweights\u001b[39m\u001b[38;5;124m\"\u001b[39m \u001b[38;5;129;01min\u001b[39;00m \u001b[38;5;28mself\u001b[39m\u001b[38;5;241m.\u001b[39m_init_keys:\n\u001b[0;32m    925\u001b[0m     \u001b[38;5;28mself\u001b[39m\u001b[38;5;241m.\u001b[39m_init_keys\u001b[38;5;241m.\u001b[39mremove(\u001b[38;5;124m\"\u001b[39m\u001b[38;5;124mweights\u001b[39m\u001b[38;5;124m\"\u001b[39m)\n",
      "File \u001b[1;32m~\\anaconda3\\lib\\site-packages\\statsmodels\\regression\\linear_model.py:748\u001b[0m, in \u001b[0;36mWLS.__init__\u001b[1;34m(self, endog, exog, weights, missing, hasconst, **kwargs)\u001b[0m\n\u001b[0;32m    746\u001b[0m \u001b[38;5;28;01melse\u001b[39;00m:\n\u001b[0;32m    747\u001b[0m     weights \u001b[38;5;241m=\u001b[39m weights\u001b[38;5;241m.\u001b[39msqueeze()\n\u001b[1;32m--> 748\u001b[0m \u001b[38;5;28msuper\u001b[39m(WLS, \u001b[38;5;28mself\u001b[39m)\u001b[38;5;241m.\u001b[39m\u001b[38;5;21m__init__\u001b[39m(endog, exog, missing\u001b[38;5;241m=\u001b[39mmissing,\n\u001b[0;32m    749\u001b[0m                           weights\u001b[38;5;241m=\u001b[39mweights, hasconst\u001b[38;5;241m=\u001b[39mhasconst, \u001b[38;5;241m*\u001b[39m\u001b[38;5;241m*\u001b[39mkwargs)\n\u001b[0;32m    750\u001b[0m nobs \u001b[38;5;241m=\u001b[39m \u001b[38;5;28mself\u001b[39m\u001b[38;5;241m.\u001b[39mexog\u001b[38;5;241m.\u001b[39mshape[\u001b[38;5;241m0\u001b[39m]\n\u001b[0;32m    751\u001b[0m weights \u001b[38;5;241m=\u001b[39m \u001b[38;5;28mself\u001b[39m\u001b[38;5;241m.\u001b[39mweights\n",
      "File \u001b[1;32m~\\anaconda3\\lib\\site-packages\\statsmodels\\regression\\linear_model.py:202\u001b[0m, in \u001b[0;36mRegressionModel.__init__\u001b[1;34m(self, endog, exog, **kwargs)\u001b[0m\n\u001b[0;32m    201\u001b[0m \u001b[38;5;28;01mdef\u001b[39;00m \u001b[38;5;21m__init__\u001b[39m(\u001b[38;5;28mself\u001b[39m, endog, exog, \u001b[38;5;241m*\u001b[39m\u001b[38;5;241m*\u001b[39mkwargs):\n\u001b[1;32m--> 202\u001b[0m     \u001b[38;5;28msuper\u001b[39m(RegressionModel, \u001b[38;5;28mself\u001b[39m)\u001b[38;5;241m.\u001b[39m\u001b[38;5;21m__init__\u001b[39m(endog, exog, \u001b[38;5;241m*\u001b[39m\u001b[38;5;241m*\u001b[39mkwargs)\n\u001b[0;32m    203\u001b[0m     \u001b[38;5;28mself\u001b[39m\u001b[38;5;241m.\u001b[39mpinv_wexog: Float64Array \u001b[38;5;241m|\u001b[39m \u001b[38;5;28;01mNone\u001b[39;00m \u001b[38;5;241m=\u001b[39m \u001b[38;5;28;01mNone\u001b[39;00m\n\u001b[0;32m    204\u001b[0m     \u001b[38;5;28mself\u001b[39m\u001b[38;5;241m.\u001b[39m_data_attr\u001b[38;5;241m.\u001b[39mextend([\u001b[38;5;124m'\u001b[39m\u001b[38;5;124mpinv_wexog\u001b[39m\u001b[38;5;124m'\u001b[39m, \u001b[38;5;124m'\u001b[39m\u001b[38;5;124mwendog\u001b[39m\u001b[38;5;124m'\u001b[39m, \u001b[38;5;124m'\u001b[39m\u001b[38;5;124mwexog\u001b[39m\u001b[38;5;124m'\u001b[39m, \u001b[38;5;124m'\u001b[39m\u001b[38;5;124mweights\u001b[39m\u001b[38;5;124m'\u001b[39m])\n",
      "File \u001b[1;32m~\\anaconda3\\lib\\site-packages\\statsmodels\\base\\model.py:270\u001b[0m, in \u001b[0;36mLikelihoodModel.__init__\u001b[1;34m(self, endog, exog, **kwargs)\u001b[0m\n\u001b[0;32m    269\u001b[0m \u001b[38;5;28;01mdef\u001b[39;00m \u001b[38;5;21m__init__\u001b[39m(\u001b[38;5;28mself\u001b[39m, endog, exog\u001b[38;5;241m=\u001b[39m\u001b[38;5;28;01mNone\u001b[39;00m, \u001b[38;5;241m*\u001b[39m\u001b[38;5;241m*\u001b[39mkwargs):\n\u001b[1;32m--> 270\u001b[0m     \u001b[38;5;28msuper\u001b[39m()\u001b[38;5;241m.\u001b[39m\u001b[38;5;21m__init__\u001b[39m(endog, exog, \u001b[38;5;241m*\u001b[39m\u001b[38;5;241m*\u001b[39mkwargs)\n\u001b[0;32m    271\u001b[0m     \u001b[38;5;28mself\u001b[39m\u001b[38;5;241m.\u001b[39minitialize()\n",
      "File \u001b[1;32m~\\anaconda3\\lib\\site-packages\\statsmodels\\base\\model.py:95\u001b[0m, in \u001b[0;36mModel.__init__\u001b[1;34m(self, endog, exog, **kwargs)\u001b[0m\n\u001b[0;32m     93\u001b[0m missing \u001b[38;5;241m=\u001b[39m kwargs\u001b[38;5;241m.\u001b[39mpop(\u001b[38;5;124m'\u001b[39m\u001b[38;5;124mmissing\u001b[39m\u001b[38;5;124m'\u001b[39m, \u001b[38;5;124m'\u001b[39m\u001b[38;5;124mnone\u001b[39m\u001b[38;5;124m'\u001b[39m)\n\u001b[0;32m     94\u001b[0m hasconst \u001b[38;5;241m=\u001b[39m kwargs\u001b[38;5;241m.\u001b[39mpop(\u001b[38;5;124m'\u001b[39m\u001b[38;5;124mhasconst\u001b[39m\u001b[38;5;124m'\u001b[39m, \u001b[38;5;28;01mNone\u001b[39;00m)\n\u001b[1;32m---> 95\u001b[0m \u001b[38;5;28mself\u001b[39m\u001b[38;5;241m.\u001b[39mdata \u001b[38;5;241m=\u001b[39m \u001b[38;5;28mself\u001b[39m\u001b[38;5;241m.\u001b[39m_handle_data(endog, exog, missing, hasconst,\n\u001b[0;32m     96\u001b[0m                               \u001b[38;5;241m*\u001b[39m\u001b[38;5;241m*\u001b[39mkwargs)\n\u001b[0;32m     97\u001b[0m \u001b[38;5;28mself\u001b[39m\u001b[38;5;241m.\u001b[39mk_constant \u001b[38;5;241m=\u001b[39m \u001b[38;5;28mself\u001b[39m\u001b[38;5;241m.\u001b[39mdata\u001b[38;5;241m.\u001b[39mk_constant\n\u001b[0;32m     98\u001b[0m \u001b[38;5;28mself\u001b[39m\u001b[38;5;241m.\u001b[39mexog \u001b[38;5;241m=\u001b[39m \u001b[38;5;28mself\u001b[39m\u001b[38;5;241m.\u001b[39mdata\u001b[38;5;241m.\u001b[39mexog\n",
      "File \u001b[1;32m~\\anaconda3\\lib\\site-packages\\statsmodels\\base\\model.py:135\u001b[0m, in \u001b[0;36mModel._handle_data\u001b[1;34m(self, endog, exog, missing, hasconst, **kwargs)\u001b[0m\n\u001b[0;32m    134\u001b[0m \u001b[38;5;28;01mdef\u001b[39;00m \u001b[38;5;21m_handle_data\u001b[39m(\u001b[38;5;28mself\u001b[39m, endog, exog, missing, hasconst, \u001b[38;5;241m*\u001b[39m\u001b[38;5;241m*\u001b[39mkwargs):\n\u001b[1;32m--> 135\u001b[0m     data \u001b[38;5;241m=\u001b[39m handle_data(endog, exog, missing, hasconst, \u001b[38;5;241m*\u001b[39m\u001b[38;5;241m*\u001b[39mkwargs)\n\u001b[0;32m    136\u001b[0m     \u001b[38;5;66;03m# kwargs arrays could have changed, easier to just attach here\u001b[39;00m\n\u001b[0;32m    137\u001b[0m     \u001b[38;5;28;01mfor\u001b[39;00m key \u001b[38;5;129;01min\u001b[39;00m kwargs:\n",
      "File \u001b[1;32m~\\anaconda3\\lib\\site-packages\\statsmodels\\base\\data.py:675\u001b[0m, in \u001b[0;36mhandle_data\u001b[1;34m(endog, exog, missing, hasconst, **kwargs)\u001b[0m\n\u001b[0;32m    672\u001b[0m     exog \u001b[38;5;241m=\u001b[39m np\u001b[38;5;241m.\u001b[39masarray(exog)\n\u001b[0;32m    674\u001b[0m klass \u001b[38;5;241m=\u001b[39m handle_data_class_factory(endog, exog)\n\u001b[1;32m--> 675\u001b[0m \u001b[38;5;28;01mreturn\u001b[39;00m klass(endog, exog\u001b[38;5;241m=\u001b[39mexog, missing\u001b[38;5;241m=\u001b[39mmissing, hasconst\u001b[38;5;241m=\u001b[39mhasconst,\n\u001b[0;32m    676\u001b[0m              \u001b[38;5;241m*\u001b[39m\u001b[38;5;241m*\u001b[39mkwargs)\n",
      "File \u001b[1;32m~\\anaconda3\\lib\\site-packages\\statsmodels\\base\\data.py:88\u001b[0m, in \u001b[0;36mModelData.__init__\u001b[1;34m(self, endog, exog, missing, hasconst, **kwargs)\u001b[0m\n\u001b[0;32m     86\u001b[0m \u001b[38;5;28mself\u001b[39m\u001b[38;5;241m.\u001b[39mconst_idx \u001b[38;5;241m=\u001b[39m \u001b[38;5;28;01mNone\u001b[39;00m\n\u001b[0;32m     87\u001b[0m \u001b[38;5;28mself\u001b[39m\u001b[38;5;241m.\u001b[39mk_constant \u001b[38;5;241m=\u001b[39m \u001b[38;5;241m0\u001b[39m\n\u001b[1;32m---> 88\u001b[0m \u001b[38;5;28;43mself\u001b[39;49m\u001b[38;5;241;43m.\u001b[39;49m\u001b[43m_handle_constant\u001b[49m\u001b[43m(\u001b[49m\u001b[43mhasconst\u001b[49m\u001b[43m)\u001b[49m\n\u001b[0;32m     89\u001b[0m \u001b[38;5;28mself\u001b[39m\u001b[38;5;241m.\u001b[39m_check_integrity()\n\u001b[0;32m     90\u001b[0m \u001b[38;5;28mself\u001b[39m\u001b[38;5;241m.\u001b[39m_cache \u001b[38;5;241m=\u001b[39m {}\n",
      "File \u001b[1;32m~\\anaconda3\\lib\\site-packages\\statsmodels\\base\\data.py:134\u001b[0m, in \u001b[0;36mModelData._handle_constant\u001b[1;34m(self, hasconst)\u001b[0m\n\u001b[0;32m    132\u001b[0m exog_max \u001b[38;5;241m=\u001b[39m np\u001b[38;5;241m.\u001b[39mmax(\u001b[38;5;28mself\u001b[39m\u001b[38;5;241m.\u001b[39mexog, axis\u001b[38;5;241m=\u001b[39m\u001b[38;5;241m0\u001b[39m)\n\u001b[0;32m    133\u001b[0m \u001b[38;5;28;01mif\u001b[39;00m \u001b[38;5;129;01mnot\u001b[39;00m np\u001b[38;5;241m.\u001b[39misfinite(exog_max)\u001b[38;5;241m.\u001b[39mall():\n\u001b[1;32m--> 134\u001b[0m     \u001b[38;5;28;01mraise\u001b[39;00m MissingDataError(\u001b[38;5;124m'\u001b[39m\u001b[38;5;124mexog contains inf or nans\u001b[39m\u001b[38;5;124m'\u001b[39m)\n\u001b[0;32m    135\u001b[0m exog_min \u001b[38;5;241m=\u001b[39m np\u001b[38;5;241m.\u001b[39mmin(\u001b[38;5;28mself\u001b[39m\u001b[38;5;241m.\u001b[39mexog, axis\u001b[38;5;241m=\u001b[39m\u001b[38;5;241m0\u001b[39m)\n\u001b[0;32m    136\u001b[0m const_idx \u001b[38;5;241m=\u001b[39m np\u001b[38;5;241m.\u001b[39mwhere(exog_max \u001b[38;5;241m==\u001b[39m exog_min)[\u001b[38;5;241m0\u001b[39m]\u001b[38;5;241m.\u001b[39msqueeze()\n",
      "\u001b[1;31mMissingDataError\u001b[0m: exog contains inf or nans"
     ]
    }
   ],
   "source": [
    "import statsmodels.api as sm\n",
    "import matplotlib.pyplot as plt\n",
    "\n",
    "fit_train3 = sm.OLS(y_train, x_train)\n",
    "fit_train3 = fit_train3.fit()\n",
    "\n",
    "# 예측한 값\n",
    "plt.plot(np.array(fit_train3.predict(x_test)),label='pred')\n",
    "plt.plot(np.array(y_test), label='True')\n",
    "plt.legend()\n",
    "plt.show()"
   ]
  },
  {
   "cell_type": "code",
   "execution_count": null,
   "id": "1325808b",
   "metadata": {
    "id": "1325808b",
    "outputId": "47428e00-7c4e-4492-c2bf-3c6283748ab8"
   },
   "outputs": [],
   "source": [
    "from sklearn.metrics import mean_squared_error\n",
    "mse3 = mean_squared_error(y_true = y_test, y_pred = fit_train3.predict(x_test))\n",
    "print(mse3)"
   ]
  },
  {
   "cell_type": "code",
   "execution_count": null,
   "id": "204bbbaa",
   "metadata": {
    "id": "204bbbaa",
    "outputId": "82795d3c-5424-4eb3-8880-095b76a7f538"
   },
   "outputs": [],
   "source": [
    "print(mse1,'기존 base')\n",
    "print(mse2,'outlier 제거')\n",
    "print(mse3,'outlier saving')"
   ]
  },
  {
   "cell_type": "markdown",
   "id": "1b07c2ca",
   "metadata": {
    "id": "1b07c2ca"
   },
   "source": [
    "### 복습과제는 동일하게 다음 주까지 해주시면 됩니다.\n",
    "\n",
    "### 필수과제 1\n",
    "- 캘리포니아 데이터를 가지고 다른 변수들까지 추가해 보시면서 실제 outlier에 대한 값을 비교해 보고\n",
    "- 본인이 선택한 변수에서 outlier 파생변수를 추가한 내용과\n",
    "- outlier 제거에 대한 내용 비교 분석하시면 됩니다.\n",
    "\n",
    "- 어떤 식으로 값이 변하는지 정리해 주시면 됩니다.\n",
    "- 과제 기간은 시험기간 끝난 후 11월 첫 수업 전까지 제출하시면 됩니다. (필수과제는)"
   ]
  },
  {
   "cell_type": "code",
   "execution_count": null,
   "id": "f9a10bbf",
   "metadata": {
    "id": "f9a10bbf"
   },
   "outputs": [],
   "source": []
  }
 ],
 "metadata": {
  "colab": {
   "provenance": []
  },
  "kernelspec": {
   "display_name": "Python 3 (ipykernel)",
   "language": "python",
   "name": "python3"
  },
  "language_info": {
   "codemirror_mode": {
    "name": "ipython",
    "version": 3
   },
   "file_extension": ".py",
   "mimetype": "text/x-python",
   "name": "python",
   "nbconvert_exporter": "python",
   "pygments_lexer": "ipython3",
   "version": "3.9.18"
  }
 },
 "nbformat": 4,
 "nbformat_minor": 5
}
